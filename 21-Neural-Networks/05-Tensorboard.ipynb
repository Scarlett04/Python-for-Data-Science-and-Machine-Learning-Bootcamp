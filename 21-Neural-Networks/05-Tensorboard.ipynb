{
 "cells": [
  {
   "cell_type": "code",
   "execution_count": 1,
   "metadata": {},
   "outputs": [],
   "source": [
    "import pandas as pd\n",
    "import numpy as np"
   ]
  },
  {
   "cell_type": "code",
   "execution_count": 2,
   "metadata": {},
   "outputs": [],
   "source": [
    "df = pd.read_csv('DATA/cancer_classification.csv')"
   ]
  },
  {
   "cell_type": "markdown",
   "metadata": {},
   "source": [
    "# Train Test Split"
   ]
  },
  {
   "cell_type": "code",
   "execution_count": 3,
   "metadata": {},
   "outputs": [],
   "source": [
    "from sklearn.model_selection import train_test_split"
   ]
  },
  {
   "cell_type": "code",
   "execution_count": 4,
   "metadata": {},
   "outputs": [],
   "source": [
    "X = df.drop('benign_0__mal_1', axis=1).values\n",
    "y = df['benign_0__mal_1'].values"
   ]
  },
  {
   "cell_type": "code",
   "execution_count": 5,
   "metadata": {},
   "outputs": [],
   "source": [
    "X_train, X_test, y_train, y_test = train_test_split(X, y, test_size=0.25, random_state=101)"
   ]
  },
  {
   "cell_type": "markdown",
   "metadata": {},
   "source": [
    "# Scaling Data"
   ]
  },
  {
   "cell_type": "code",
   "execution_count": 6,
   "metadata": {},
   "outputs": [],
   "source": [
    "from sklearn.preprocessing import MinMaxScaler\n",
    "scaler = MinMaxScaler()"
   ]
  },
  {
   "cell_type": "code",
   "execution_count": 7,
   "metadata": {},
   "outputs": [],
   "source": [
    "X_train = scaler.fit_transform(X_train)\n",
    "X_test = scaler.transform(X_test)"
   ]
  },
  {
   "cell_type": "markdown",
   "metadata": {},
   "source": [
    "# Creating the Model"
   ]
  },
  {
   "cell_type": "code",
   "execution_count": 8,
   "metadata": {},
   "outputs": [],
   "source": [
    "import tensorflow as tf\n",
    "\n",
    "from tensorflow.keras.models import Sequential\n",
    "from tensorflow.keras.layers import Dense, Activation, Dropout\n",
    "\n",
    "from tensorflow.keras.callbacks import EarlyStopping, TensorBoard"
   ]
  },
  {
   "cell_type": "code",
   "execution_count": 9,
   "metadata": {},
   "outputs": [],
   "source": [
    "early_stop = EarlyStopping(monitor='val_loss', mode='min', verbose=1, patience=25)"
   ]
  },
  {
   "cell_type": "code",
   "execution_count": 10,
   "metadata": {},
   "outputs": [
    {
     "data": {
      "text/plain": [
       "'c:\\\\Users\\\\ROG STRIX\\\\OneDrive\\\\My Computer\\\\Python for Data Science and Machine Learning Bootcamp\\\\21-Neural-Networks'"
      ]
     },
     "execution_count": 10,
     "metadata": {},
     "output_type": "execute_result"
    }
   ],
   "source": [
    "pwd # Our current path"
   ]
  },
  {
   "cell_type": "markdown",
   "metadata": {},
   "source": [
    "## Step 1: Datetime"
   ]
  },
  {
   "cell_type": "code",
   "execution_count": 11,
   "metadata": {},
   "outputs": [],
   "source": [
    "from datetime import datetime"
   ]
  },
  {
   "cell_type": "code",
   "execution_count": 12,
   "metadata": {},
   "outputs": [
    {
     "data": {
      "text/plain": [
       "'2024-05-28--2352'"
      ]
     },
     "execution_count": 12,
     "metadata": {},
     "output_type": "execute_result"
    }
   ],
   "source": [
    "datetime.now().strftime(\"%Y-%m-%d--%H%M\")"
   ]
  },
  {
   "cell_type": "markdown",
   "metadata": {},
   "source": [
    "## Step 2: TensorBoard"
   ]
  },
  {
   "cell_type": "code",
   "execution_count": 13,
   "metadata": {},
   "outputs": [],
   "source": [
    "# WINDOWS: Use \"logs\\\\fit\"\n",
    "# MACOS/LINUX: Use \"logs\\fit\"\n",
    "\n",
    "log_directory = 'logs\\\\fit'\n",
    "\n",
    "# OPTIONAL: ADD A TIMESTAMP FOR UNIQUE FOLDER\n",
    "# timestamp = datetime.now().strftime(\"%Y-%m-%d--%H%M\")\n",
    "# log_directory = log_directory + '\\\\' + timestamp\n",
    "\n",
    "\n",
    "board = TensorBoard(log_dir=log_directory,histogram_freq=1,\n",
    "    write_graph=True,\n",
    "    write_images=True,\n",
    "    update_freq='epoch',\n",
    "    profile_batch=2,\n",
    "    embeddings_freq=1)"
   ]
  },
  {
   "cell_type": "markdown",
   "metadata": {},
   "source": [
    "## Step 3: Create the model"
   ]
  },
  {
   "cell_type": "code",
   "execution_count": 14,
   "metadata": {},
   "outputs": [],
   "source": [
    "model = Sequential()\n",
    "model.add(Dense(units=30,activation='relu'))\n",
    "model.add(Dropout(0.5))\n",
    "model.add(Dense(units=15,activation='relu'))\n",
    "model.add(Dropout(0.5))\n",
    "model.add(Dense(units=1,activation='sigmoid'))\n",
    "model.compile(loss='binary_crossentropy', optimizer='adam')"
   ]
  },
  {
   "cell_type": "code",
   "execution_count": 15,
   "metadata": {},
   "outputs": [
    {
     "name": "stdout",
     "output_type": "stream",
     "text": [
      "Epoch 1/600\n",
      "14/14 [==============================] - 1s 36ms/step - loss: 0.7512 - val_loss: 0.6991\n",
      "Epoch 2/600\n",
      "14/14 [==============================] - 0s 15ms/step - loss: 0.7060 - val_loss: 0.6756\n",
      "Epoch 3/600\n",
      "14/14 [==============================] - 0s 18ms/step - loss: 0.6754 - val_loss: 0.6570\n",
      "Epoch 4/600\n",
      "14/14 [==============================] - 0s 16ms/step - loss: 0.6688 - val_loss: 0.6379\n",
      "Epoch 5/600\n",
      "14/14 [==============================] - 0s 18ms/step - loss: 0.6452 - val_loss: 0.6212\n",
      "Epoch 6/600\n",
      "14/14 [==============================] - 0s 19ms/step - loss: 0.6183 - val_loss: 0.5982\n",
      "Epoch 7/600\n",
      "14/14 [==============================] - 0s 14ms/step - loss: 0.6088 - val_loss: 0.5713\n",
      "Epoch 8/600\n",
      "14/14 [==============================] - 0s 14ms/step - loss: 0.5908 - val_loss: 0.5433\n",
      "Epoch 9/600\n",
      "14/14 [==============================] - 0s 14ms/step - loss: 0.5677 - val_loss: 0.5130\n",
      "Epoch 10/600\n",
      "14/14 [==============================] - 0s 15ms/step - loss: 0.5219 - val_loss: 0.4801\n",
      "Epoch 11/600\n",
      "14/14 [==============================] - 0s 15ms/step - loss: 0.5093 - val_loss: 0.4477\n",
      "Epoch 12/600\n",
      "14/14 [==============================] - 0s 16ms/step - loss: 0.4840 - val_loss: 0.4146\n",
      "Epoch 13/600\n",
      "14/14 [==============================] - 0s 14ms/step - loss: 0.4781 - val_loss: 0.3930\n",
      "Epoch 14/600\n",
      "14/14 [==============================] - 0s 15ms/step - loss: 0.4353 - val_loss: 0.3654\n",
      "Epoch 15/600\n",
      "14/14 [==============================] - 0s 13ms/step - loss: 0.4412 - val_loss: 0.3494\n",
      "Epoch 16/600\n",
      "14/14 [==============================] - 0s 17ms/step - loss: 0.4454 - val_loss: 0.3319\n",
      "Epoch 17/600\n",
      "14/14 [==============================] - 0s 15ms/step - loss: 0.3701 - val_loss: 0.3111\n",
      "Epoch 18/600\n",
      "14/14 [==============================] - 0s 13ms/step - loss: 0.3875 - val_loss: 0.2910\n",
      "Epoch 19/600\n",
      "14/14 [==============================] - 0s 13ms/step - loss: 0.3696 - val_loss: 0.2771\n",
      "Epoch 20/600\n",
      "14/14 [==============================] - 0s 14ms/step - loss: 0.3578 - val_loss: 0.2622\n",
      "Epoch 21/600\n",
      "14/14 [==============================] - 0s 19ms/step - loss: 0.3398 - val_loss: 0.2475\n",
      "Epoch 22/600\n",
      "14/14 [==============================] - 0s 18ms/step - loss: 0.3128 - val_loss: 0.2395\n",
      "Epoch 23/600\n",
      "14/14 [==============================] - 0s 13ms/step - loss: 0.3041 - val_loss: 0.2167\n",
      "Epoch 24/600\n",
      "14/14 [==============================] - 0s 13ms/step - loss: 0.3065 - val_loss: 0.2059\n",
      "Epoch 25/600\n",
      "14/14 [==============================] - 0s 14ms/step - loss: 0.2817 - val_loss: 0.2030\n",
      "Epoch 26/600\n",
      "14/14 [==============================] - 0s 13ms/step - loss: 0.2774 - val_loss: 0.1917\n",
      "Epoch 27/600\n",
      "14/14 [==============================] - 0s 13ms/step - loss: 0.2827 - val_loss: 0.1874\n",
      "Epoch 28/600\n",
      "14/14 [==============================] - 0s 13ms/step - loss: 0.2564 - val_loss: 0.1782\n",
      "Epoch 29/600\n",
      "14/14 [==============================] - 0s 13ms/step - loss: 0.2481 - val_loss: 0.1703\n",
      "Epoch 30/600\n",
      "14/14 [==============================] - 0s 11ms/step - loss: 0.2314 - val_loss: 0.1653\n",
      "Epoch 31/600\n",
      "14/14 [==============================] - 0s 13ms/step - loss: 0.2418 - val_loss: 0.1760\n",
      "Epoch 32/600\n",
      "14/14 [==============================] - 0s 14ms/step - loss: 0.2123 - val_loss: 0.1543\n",
      "Epoch 33/600\n",
      "14/14 [==============================] - 0s 12ms/step - loss: 0.2158 - val_loss: 0.1556\n",
      "Epoch 34/600\n",
      "14/14 [==============================] - 0s 13ms/step - loss: 0.2424 - val_loss: 0.1582\n",
      "Epoch 35/600\n",
      "14/14 [==============================] - 0s 12ms/step - loss: 0.2184 - val_loss: 0.1471\n",
      "Epoch 36/600\n",
      "14/14 [==============================] - 0s 17ms/step - loss: 0.2271 - val_loss: 0.1510\n",
      "Epoch 37/600\n",
      "14/14 [==============================] - 0s 18ms/step - loss: 0.1976 - val_loss: 0.1460\n",
      "Epoch 38/600\n",
      "14/14 [==============================] - 0s 13ms/step - loss: 0.2051 - val_loss: 0.1396\n",
      "Epoch 39/600\n",
      "14/14 [==============================] - 0s 14ms/step - loss: 0.2045 - val_loss: 0.1479\n",
      "Epoch 40/600\n",
      "14/14 [==============================] - 0s 14ms/step - loss: 0.1865 - val_loss: 0.1371\n",
      "Epoch 41/600\n",
      "14/14 [==============================] - 0s 13ms/step - loss: 0.1793 - val_loss: 0.1296\n",
      "Epoch 42/600\n",
      "14/14 [==============================] - 0s 12ms/step - loss: 0.1779 - val_loss: 0.1441\n",
      "Epoch 43/600\n",
      "14/14 [==============================] - 0s 13ms/step - loss: 0.1754 - val_loss: 0.1296\n",
      "Epoch 44/600\n",
      "14/14 [==============================] - 0s 12ms/step - loss: 0.1814 - val_loss: 0.1282\n",
      "Epoch 45/600\n",
      "14/14 [==============================] - 0s 12ms/step - loss: 0.1665 - val_loss: 0.1282\n",
      "Epoch 46/600\n",
      "14/14 [==============================] - 0s 13ms/step - loss: 0.1885 - val_loss: 0.1255\n",
      "Epoch 47/600\n",
      "14/14 [==============================] - 0s 13ms/step - loss: 0.1690 - val_loss: 0.1214\n",
      "Epoch 48/600\n",
      "14/14 [==============================] - 0s 14ms/step - loss: 0.1422 - val_loss: 0.1222\n",
      "Epoch 49/600\n",
      "14/14 [==============================] - 0s 15ms/step - loss: 0.1652 - val_loss: 0.1181\n",
      "Epoch 50/600\n",
      "14/14 [==============================] - 0s 17ms/step - loss: 0.1606 - val_loss: 0.1297\n",
      "Epoch 51/600\n",
      "14/14 [==============================] - 0s 15ms/step - loss: 0.1887 - val_loss: 0.1191\n",
      "Epoch 52/600\n",
      "14/14 [==============================] - 0s 14ms/step - loss: 0.1531 - val_loss: 0.1162\n",
      "Epoch 53/600\n",
      "14/14 [==============================] - 0s 20ms/step - loss: 0.1597 - val_loss: 0.1317\n",
      "Epoch 54/600\n",
      "14/14 [==============================] - 0s 15ms/step - loss: 0.1462 - val_loss: 0.1153\n",
      "Epoch 55/600\n",
      "14/14 [==============================] - 0s 15ms/step - loss: 0.1628 - val_loss: 0.1159\n",
      "Epoch 56/600\n",
      "14/14 [==============================] - 0s 15ms/step - loss: 0.1366 - val_loss: 0.1210\n",
      "Epoch 57/600\n",
      "14/14 [==============================] - 0s 14ms/step - loss: 0.1415 - val_loss: 0.1230\n",
      "Epoch 58/600\n",
      "14/14 [==============================] - 0s 12ms/step - loss: 0.1406 - val_loss: 0.1181\n",
      "Epoch 59/600\n",
      "14/14 [==============================] - 0s 16ms/step - loss: 0.1293 - val_loss: 0.1094\n",
      "Epoch 60/600\n",
      "14/14 [==============================] - 0s 18ms/step - loss: 0.1437 - val_loss: 0.1165\n",
      "Epoch 61/600\n",
      "14/14 [==============================] - 0s 15ms/step - loss: 0.1336 - val_loss: 0.1128\n",
      "Epoch 62/600\n",
      "14/14 [==============================] - 0s 14ms/step - loss: 0.1353 - val_loss: 0.1218\n",
      "Epoch 63/600\n",
      "14/14 [==============================] - 0s 14ms/step - loss: 0.1260 - val_loss: 0.1104\n",
      "Epoch 64/600\n",
      "14/14 [==============================] - 0s 14ms/step - loss: 0.1253 - val_loss: 0.1093\n",
      "Epoch 65/600\n",
      "14/14 [==============================] - 0s 14ms/step - loss: 0.1446 - val_loss: 0.1082\n",
      "Epoch 66/600\n",
      "14/14 [==============================] - 0s 12ms/step - loss: 0.1232 - val_loss: 0.1089\n",
      "Epoch 67/600\n",
      "14/14 [==============================] - 0s 14ms/step - loss: 0.1038 - val_loss: 0.1067\n",
      "Epoch 68/600\n",
      "14/14 [==============================] - 0s 15ms/step - loss: 0.1249 - val_loss: 0.1104\n",
      "Epoch 69/600\n",
      "14/14 [==============================] - 0s 18ms/step - loss: 0.1249 - val_loss: 0.1058\n",
      "Epoch 70/600\n",
      "14/14 [==============================] - 0s 20ms/step - loss: 0.1434 - val_loss: 0.1048\n",
      "Epoch 71/600\n",
      "14/14 [==============================] - 0s 21ms/step - loss: 0.1249 - val_loss: 0.1147\n",
      "Epoch 72/600\n",
      "14/14 [==============================] - 0s 18ms/step - loss: 0.1424 - val_loss: 0.1087\n",
      "Epoch 73/600\n",
      "14/14 [==============================] - 0s 15ms/step - loss: 0.1197 - val_loss: 0.1138\n",
      "Epoch 74/600\n",
      "14/14 [==============================] - 0s 11ms/step - loss: 0.1149 - val_loss: 0.1117\n",
      "Epoch 75/600\n",
      "14/14 [==============================] - 0s 15ms/step - loss: 0.1207 - val_loss: 0.1110\n",
      "Epoch 76/600\n",
      "14/14 [==============================] - 0s 14ms/step - loss: 0.1123 - val_loss: 0.1162\n",
      "Epoch 77/600\n",
      "14/14 [==============================] - 0s 16ms/step - loss: 0.1217 - val_loss: 0.1005\n",
      "Epoch 78/600\n",
      "14/14 [==============================] - 0s 13ms/step - loss: 0.1092 - val_loss: 0.1033\n",
      "Epoch 79/600\n",
      "14/14 [==============================] - 0s 15ms/step - loss: 0.1152 - val_loss: 0.1084\n",
      "Epoch 80/600\n",
      "14/14 [==============================] - 0s 12ms/step - loss: 0.1281 - val_loss: 0.1122\n",
      "Epoch 81/600\n",
      "14/14 [==============================] - 0s 12ms/step - loss: 0.1218 - val_loss: 0.1112\n",
      "Epoch 82/600\n",
      "14/14 [==============================] - 0s 11ms/step - loss: 0.1087 - val_loss: 0.1007\n",
      "Epoch 83/600\n",
      "14/14 [==============================] - 0s 18ms/step - loss: 0.1253 - val_loss: 0.1092\n",
      "Epoch 84/600\n",
      "14/14 [==============================] - 0s 20ms/step - loss: 0.1157 - val_loss: 0.1077\n",
      "Epoch 85/600\n",
      "14/14 [==============================] - 0s 17ms/step - loss: 0.1164 - val_loss: 0.1022\n",
      "Epoch 86/600\n",
      "14/14 [==============================] - 0s 17ms/step - loss: 0.0937 - val_loss: 0.1116\n",
      "Epoch 87/600\n",
      "14/14 [==============================] - 0s 12ms/step - loss: 0.1081 - val_loss: 0.1076\n",
      "Epoch 88/600\n",
      "14/14 [==============================] - 0s 13ms/step - loss: 0.1083 - val_loss: 0.1002\n",
      "Epoch 89/600\n",
      "14/14 [==============================] - 0s 10ms/step - loss: 0.1139 - val_loss: 0.1022\n",
      "Epoch 90/600\n",
      "14/14 [==============================] - 0s 13ms/step - loss: 0.1013 - val_loss: 0.1085\n",
      "Epoch 91/600\n",
      "14/14 [==============================] - 0s 12ms/step - loss: 0.1017 - val_loss: 0.1103\n",
      "Epoch 92/600\n",
      "14/14 [==============================] - 0s 12ms/step - loss: 0.1050 - val_loss: 0.0979\n",
      "Epoch 93/600\n",
      "14/14 [==============================] - 0s 11ms/step - loss: 0.1336 - val_loss: 0.1051\n",
      "Epoch 94/600\n",
      "14/14 [==============================] - 0s 12ms/step - loss: 0.0942 - val_loss: 0.1021\n",
      "Epoch 95/600\n",
      "14/14 [==============================] - 0s 11ms/step - loss: 0.0935 - val_loss: 0.0973\n",
      "Epoch 96/600\n",
      "14/14 [==============================] - 0s 13ms/step - loss: 0.0998 - val_loss: 0.0991\n",
      "Epoch 97/600\n",
      "14/14 [==============================] - 0s 12ms/step - loss: 0.1006 - val_loss: 0.1000\n",
      "Epoch 98/600\n",
      "14/14 [==============================] - 0s 13ms/step - loss: 0.0885 - val_loss: 0.1001\n",
      "Epoch 99/600\n",
      "14/14 [==============================] - 0s 11ms/step - loss: 0.1037 - val_loss: 0.0989\n",
      "Epoch 100/600\n",
      "14/14 [==============================] - 0s 13ms/step - loss: 0.1115 - val_loss: 0.1027\n",
      "Epoch 101/600\n",
      "14/14 [==============================] - 0s 10ms/step - loss: 0.0902 - val_loss: 0.1054\n",
      "Epoch 102/600\n",
      "14/14 [==============================] - 0s 14ms/step - loss: 0.1059 - val_loss: 0.1079\n",
      "Epoch 103/600\n",
      "14/14 [==============================] - 0s 14ms/step - loss: 0.0941 - val_loss: 0.0995\n",
      "Epoch 104/600\n",
      "14/14 [==============================] - 0s 13ms/step - loss: 0.1201 - val_loss: 0.1053\n",
      "Epoch 105/600\n",
      "14/14 [==============================] - 0s 13ms/step - loss: 0.0962 - val_loss: 0.1093\n",
      "Epoch 106/600\n",
      "14/14 [==============================] - 0s 12ms/step - loss: 0.1022 - val_loss: 0.1113\n",
      "Epoch 107/600\n",
      "14/14 [==============================] - 0s 12ms/step - loss: 0.1044 - val_loss: 0.1018\n",
      "Epoch 108/600\n",
      "14/14 [==============================] - 0s 13ms/step - loss: 0.0979 - val_loss: 0.1020\n",
      "Epoch 109/600\n",
      "14/14 [==============================] - 0s 11ms/step - loss: 0.0867 - val_loss: 0.1062\n",
      "Epoch 110/600\n",
      "14/14 [==============================] - 0s 16ms/step - loss: 0.1013 - val_loss: 0.0953\n",
      "Epoch 111/600\n",
      "14/14 [==============================] - 0s 11ms/step - loss: 0.1145 - val_loss: 0.0988\n",
      "Epoch 112/600\n",
      "14/14 [==============================] - 0s 14ms/step - loss: 0.1146 - val_loss: 0.1255\n",
      "Epoch 113/600\n",
      "14/14 [==============================] - 0s 11ms/step - loss: 0.0985 - val_loss: 0.1078\n",
      "Epoch 114/600\n",
      "14/14 [==============================] - 0s 13ms/step - loss: 0.1131 - val_loss: 0.1167\n",
      "Epoch 115/600\n",
      "14/14 [==============================] - 0s 15ms/step - loss: 0.0979 - val_loss: 0.1120\n",
      "Epoch 116/600\n",
      "14/14 [==============================] - 0s 11ms/step - loss: 0.0990 - val_loss: 0.1069\n",
      "Epoch 117/600\n",
      "14/14 [==============================] - 0s 13ms/step - loss: 0.1001 - val_loss: 0.1035\n",
      "Epoch 118/600\n",
      "14/14 [==============================] - 0s 11ms/step - loss: 0.0899 - val_loss: 0.1100\n",
      "Epoch 119/600\n",
      "14/14 [==============================] - 0s 13ms/step - loss: 0.0912 - val_loss: 0.1045\n",
      "Epoch 120/600\n",
      "14/14 [==============================] - 0s 13ms/step - loss: 0.0885 - val_loss: 0.1098\n",
      "Epoch 121/600\n",
      "14/14 [==============================] - 0s 12ms/step - loss: 0.0881 - val_loss: 0.1057\n",
      "Epoch 122/600\n",
      "14/14 [==============================] - 0s 10ms/step - loss: 0.0851 - val_loss: 0.1007\n",
      "Epoch 123/600\n",
      "14/14 [==============================] - 0s 13ms/step - loss: 0.0971 - val_loss: 0.1022\n",
      "Epoch 124/600\n",
      "14/14 [==============================] - 0s 12ms/step - loss: 0.0825 - val_loss: 0.1077\n",
      "Epoch 125/600\n",
      "14/14 [==============================] - 0s 12ms/step - loss: 0.0769 - val_loss: 0.1176\n",
      "Epoch 126/600\n",
      "14/14 [==============================] - 0s 13ms/step - loss: 0.0916 - val_loss: 0.1054\n",
      "Epoch 127/600\n",
      "14/14 [==============================] - 0s 12ms/step - loss: 0.0938 - val_loss: 0.1162\n",
      "Epoch 128/600\n",
      "14/14 [==============================] - 0s 11ms/step - loss: 0.0955 - val_loss: 0.1010\n",
      "Epoch 129/600\n",
      "14/14 [==============================] - 0s 10ms/step - loss: 0.0751 - val_loss: 0.1026\n",
      "Epoch 130/600\n",
      "14/14 [==============================] - 0s 12ms/step - loss: 0.0716 - val_loss: 0.1099\n",
      "Epoch 131/600\n",
      "14/14 [==============================] - 0s 13ms/step - loss: 0.0797 - val_loss: 0.1041\n",
      "Epoch 132/600\n",
      "14/14 [==============================] - 0s 22ms/step - loss: 0.0910 - val_loss: 0.1051\n",
      "Epoch 133/600\n",
      "14/14 [==============================] - 0s 16ms/step - loss: 0.0743 - val_loss: 0.1054\n",
      "Epoch 134/600\n",
      "14/14 [==============================] - 0s 18ms/step - loss: 0.0811 - val_loss: 0.1026\n",
      "Epoch 135/600\n",
      "14/14 [==============================] - 0s 16ms/step - loss: 0.0698 - val_loss: 0.1122\n",
      "Epoch 135: early stopping\n"
     ]
    },
    {
     "data": {
      "text/plain": [
       "<keras.callbacks.History at 0x2a28f4cdd90>"
      ]
     },
     "execution_count": 15,
     "metadata": {},
     "output_type": "execute_result"
    }
   ],
   "source": [
    "model.fit(x=X_train, \n",
    "          y=y_train, \n",
    "          epochs=600,\n",
    "          validation_data=(X_test, y_test), verbose=1,\n",
    "          callbacks=[early_stop,board]\n",
    "          )"
   ]
  },
  {
   "cell_type": "markdown",
   "metadata": {},
   "source": [
    "## Step 4: TensorBoard"
   ]
  },
  {
   "cell_type": "code",
   "execution_count": 16,
   "metadata": {},
   "outputs": [
    {
     "name": "stdout",
     "output_type": "stream",
     "text": [
      "logs\\fit\n"
     ]
    }
   ],
   "source": [
    "print(log_directory)"
   ]
  },
  {
   "cell_type": "code",
   "execution_count": 18,
   "metadata": {},
   "outputs": [
    {
     "data": {
      "text/plain": [
       "'c:\\\\Users\\\\ROG STRIX\\\\OneDrive\\\\My Computer\\\\Python for Data Science and Machine Learning Bootcamp\\\\21-Neural-Networks'"
      ]
     },
     "execution_count": 18,
     "metadata": {},
     "output_type": "execute_result"
    }
   ],
   "source": [
    "pwd"
   ]
  },
  {
   "cell_type": "code",
   "execution_count": 20,
   "metadata": {},
   "outputs": [],
   "source": [
    "# Run on cmd\n",
    "\n",
    "# cd C:\\Users\\ROG STRIX\\OneDrive\\My Computer\\Python for Data Science and Machine Learning Bootcamp\\21-Neural-Networks\n",
    "# tensorboard --logdir logs\\fit"
   ]
  },
  {
   "cell_type": "markdown",
   "metadata": {},
   "source": [
    "Tensorboard will run locally in your browser at [http://localhost:6006/](http://localhost:6006/)\n"
   ]
  }
 ],
 "metadata": {
  "kernelspec": {
   "display_name": "Python 3",
   "language": "python",
   "name": "python3"
  },
  "language_info": {
   "codemirror_mode": {
    "name": "ipython",
    "version": 3
   },
   "file_extension": ".py",
   "mimetype": "text/x-python",
   "name": "python",
   "nbconvert_exporter": "python",
   "pygments_lexer": "ipython3",
   "version": "3.9.0"
  }
 },
 "nbformat": 4,
 "nbformat_minor": 2
}
