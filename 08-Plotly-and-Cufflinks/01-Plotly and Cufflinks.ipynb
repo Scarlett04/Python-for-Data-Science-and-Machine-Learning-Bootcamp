{
 "cells": [
  {
   "cell_type": "markdown",
   "metadata": {},
   "source": [
    "___\n",
    "\n",
    "<a href='http://www.pieriandata.com'> <img src='../Pierian_Data_Logo.png' /></a>\n",
    "___\n",
    "# Plotly and Cufflinks"
   ]
  },
  {
   "cell_type": "markdown",
   "metadata": {},
   "source": [
    "Plotly is a library that allows you to create interactive plots that you can use in dashboards or websites (you can save them as html files or static images).\n",
    "\n",
    "## Installation\n",
    "\n",
    "In order for this all to work, you'll need to install plotly and cufflinks to call plots directly off of a pandas dataframe. These libraries are not currently available through **conda** but are available through **pip**. Install the libraries at your command line/terminal using:\n",
    "\n",
    "    pip install plotly\n",
    "    pip install cufflinks\n",
    "\n",
    "** NOTE: Make sure you only have one installation of Python on your computer when you do this, otherwise the installation may not work. **\n",
    "\n",
    "## Imports and Set-up"
   ]
  },
  {
   "cell_type": "code",
   "execution_count": 1,
   "metadata": {},
   "outputs": [],
   "source": [
    "import pandas as pd\n",
    "import numpy as np\n",
    "%matplotlib inline"
   ]
  },
  {
   "cell_type": "code",
   "execution_count": 2,
   "metadata": {},
   "outputs": [
    {
     "name": "stdout",
     "output_type": "stream",
     "text": [
      "5.6.0\n"
     ]
    }
   ],
   "source": [
    "from plotly import __version__\n",
    "from plotly.offline import download_plotlyjs, init_notebook_mode, plot, iplot\n",
    "\n",
    "print(__version__) # requires version >= 1.9.0"
   ]
  },
  {
   "cell_type": "code",
   "execution_count": 3,
   "metadata": {},
   "outputs": [],
   "source": [
    "import cufflinks as cf"
   ]
  },
  {
   "cell_type": "code",
   "execution_count": 4,
   "metadata": {},
   "outputs": [
    {
     "data": {
      "text/html": [
       "        <script type=\"text/javascript\">\n",
       "        window.PlotlyConfig = {MathJaxConfig: 'local'};\n",
       "        if (window.MathJax) {MathJax.Hub.Config({SVG: {font: \"STIX-Web\"}});}\n",
       "        if (typeof require !== 'undefined') {\n",
       "        require.undef(\"plotly\");\n",
       "        requirejs.config({\n",
       "            paths: {\n",
       "                'plotly': ['https://cdn.plot.ly/plotly-2.9.0.min']\n",
       "            }\n",
       "        });\n",
       "        require(['plotly'], function(Plotly) {\n",
       "            window._Plotly = Plotly;\n",
       "        });\n",
       "        }\n",
       "        </script>\n",
       "        "
      ]
     },
     "metadata": {},
     "output_type": "display_data"
    }
   ],
   "source": [
    "# For Notebooks\n",
    "init_notebook_mode(connected=True)"
   ]
  },
  {
   "cell_type": "code",
   "execution_count": 5,
   "metadata": {},
   "outputs": [
    {
     "data": {
      "text/html": [
       "        <script type=\"text/javascript\">\n",
       "        window.PlotlyConfig = {MathJaxConfig: 'local'};\n",
       "        if (window.MathJax) {MathJax.Hub.Config({SVG: {font: \"STIX-Web\"}});}\n",
       "        if (typeof require !== 'undefined') {\n",
       "        require.undef(\"plotly\");\n",
       "        requirejs.config({\n",
       "            paths: {\n",
       "                'plotly': ['https://cdn.plot.ly/plotly-2.9.0.min']\n",
       "            }\n",
       "        });\n",
       "        require(['plotly'], function(Plotly) {\n",
       "            window._Plotly = Plotly;\n",
       "        });\n",
       "        }\n",
       "        </script>\n",
       "        "
      ]
     },
     "metadata": {},
     "output_type": "display_data"
    }
   ],
   "source": [
    "# For offline use\n",
    "cf.go_offline()"
   ]
  },
  {
   "cell_type": "markdown",
   "metadata": {},
   "source": [
    "### Fake Data"
   ]
  },
  {
   "cell_type": "code",
   "execution_count": 6,
   "metadata": {},
   "outputs": [],
   "source": [
    "df = pd.DataFrame(np.random.randn(100,4),columns='A B C D'.split())"
   ]
  },
  {
   "cell_type": "code",
   "execution_count": 7,
   "metadata": {},
   "outputs": [
    {
     "data": {
      "text/html": [
       "<div>\n",
       "<style scoped>\n",
       "    .dataframe tbody tr th:only-of-type {\n",
       "        vertical-align: middle;\n",
       "    }\n",
       "\n",
       "    .dataframe tbody tr th {\n",
       "        vertical-align: top;\n",
       "    }\n",
       "\n",
       "    .dataframe thead th {\n",
       "        text-align: right;\n",
       "    }\n",
       "</style>\n",
       "<table border=\"1\" class=\"dataframe\">\n",
       "  <thead>\n",
       "    <tr style=\"text-align: right;\">\n",
       "      <th></th>\n",
       "      <th>A</th>\n",
       "      <th>B</th>\n",
       "      <th>C</th>\n",
       "      <th>D</th>\n",
       "    </tr>\n",
       "  </thead>\n",
       "  <tbody>\n",
       "    <tr>\n",
       "      <th>0</th>\n",
       "      <td>-0.600527</td>\n",
       "      <td>0.033548</td>\n",
       "      <td>0.005820</td>\n",
       "      <td>-1.216118</td>\n",
       "    </tr>\n",
       "    <tr>\n",
       "      <th>1</th>\n",
       "      <td>0.424413</td>\n",
       "      <td>0.807060</td>\n",
       "      <td>-0.944253</td>\n",
       "      <td>-0.128633</td>\n",
       "    </tr>\n",
       "    <tr>\n",
       "      <th>2</th>\n",
       "      <td>-0.440907</td>\n",
       "      <td>-0.205415</td>\n",
       "      <td>-1.049227</td>\n",
       "      <td>-2.298687</td>\n",
       "    </tr>\n",
       "    <tr>\n",
       "      <th>3</th>\n",
       "      <td>0.876558</td>\n",
       "      <td>1.412984</td>\n",
       "      <td>0.227571</td>\n",
       "      <td>0.289596</td>\n",
       "    </tr>\n",
       "    <tr>\n",
       "      <th>4</th>\n",
       "      <td>0.113261</td>\n",
       "      <td>1.900832</td>\n",
       "      <td>1.377753</td>\n",
       "      <td>-0.724626</td>\n",
       "    </tr>\n",
       "  </tbody>\n",
       "</table>\n",
       "</div>"
      ],
      "text/plain": [
       "          A         B         C         D\n",
       "0 -0.600527  0.033548  0.005820 -1.216118\n",
       "1  0.424413  0.807060 -0.944253 -0.128633\n",
       "2 -0.440907 -0.205415 -1.049227 -2.298687\n",
       "3  0.876558  1.412984  0.227571  0.289596\n",
       "4  0.113261  1.900832  1.377753 -0.724626"
      ]
     },
     "execution_count": 7,
     "metadata": {},
     "output_type": "execute_result"
    }
   ],
   "source": [
    "df.head()"
   ]
  },
  {
   "cell_type": "code",
   "execution_count": 8,
   "metadata": {},
   "outputs": [],
   "source": [
    "df2 = pd.DataFrame({'Category':['A','B','C'],'Values':[32,43,50]})"
   ]
  },
  {
   "cell_type": "code",
   "execution_count": 9,
   "metadata": {},
   "outputs": [
    {
     "data": {
      "text/html": [
       "<div>\n",
       "<style scoped>\n",
       "    .dataframe tbody tr th:only-of-type {\n",
       "        vertical-align: middle;\n",
       "    }\n",
       "\n",
       "    .dataframe tbody tr th {\n",
       "        vertical-align: top;\n",
       "    }\n",
       "\n",
       "    .dataframe thead th {\n",
       "        text-align: right;\n",
       "    }\n",
       "</style>\n",
       "<table border=\"1\" class=\"dataframe\">\n",
       "  <thead>\n",
       "    <tr style=\"text-align: right;\">\n",
       "      <th></th>\n",
       "      <th>Category</th>\n",
       "      <th>Values</th>\n",
       "    </tr>\n",
       "  </thead>\n",
       "  <tbody>\n",
       "    <tr>\n",
       "      <th>0</th>\n",
       "      <td>A</td>\n",
       "      <td>32</td>\n",
       "    </tr>\n",
       "    <tr>\n",
       "      <th>1</th>\n",
       "      <td>B</td>\n",
       "      <td>43</td>\n",
       "    </tr>\n",
       "    <tr>\n",
       "      <th>2</th>\n",
       "      <td>C</td>\n",
       "      <td>50</td>\n",
       "    </tr>\n",
       "  </tbody>\n",
       "</table>\n",
       "</div>"
      ],
      "text/plain": [
       "  Category  Values\n",
       "0        A      32\n",
       "1        B      43\n",
       "2        C      50"
      ]
     },
     "execution_count": 9,
     "metadata": {},
     "output_type": "execute_result"
    }
   ],
   "source": [
    "df2.head()"
   ]
  },
  {
   "cell_type": "markdown",
   "metadata": {},
   "source": [
    "## Using Cufflinks and iplot()\n",
    "\n",
    "* scatter\n",
    "* bar\n",
    "* box\n",
    "* spread\n",
    "* ratio\n",
    "* heatmap\n",
    "* surface\n",
    "* histogram\n",
    "* bubble"
   ]
  },
  {
   "cell_type": "markdown",
   "metadata": {},
   "source": [
    "## Scatter"
   ]
  },
  {
   "cell_type": "code",
   "execution_count": 10,
   "metadata": {},
   "outputs": [
    {
     "data": {
      "application/vnd.plotly.v1+json": {
       "config": {
        "linkText": "Export to plot.ly",
        "plotlyServerURL": "https://plot.ly",
        "showLink": true
       },
       "data": [
        {
         "line": {
          "color": "rgba(255, 153, 51, 1.0)",
          "dash": "solid",
          "shape": "linear",
          "width": 1.3
         },
         "marker": {
          "size": 10,
          "symbol": "circle"
         },
         "mode": "markers",
         "name": "B",
         "text": "",
         "type": "scatter",
         "x": [
          -0.6005272572897303,
          0.4244128074582704,
          -0.4409073355427527,
          0.8765579194110584,
          0.113261090341445,
          -0.4734724357527685,
          -0.5188427551304841,
          1.6014103864400826,
          -1.9072129048619137,
          0.13973295867986582,
          0.1702359906906131,
          -0.05052875998036999,
          0.20326605679474508,
          -0.6068987450085842,
          0.01901108295103341,
          1.693422376323972,
          0.5845625651895274,
          0.4308434776212245,
          2.0362362984046185,
          -0.37880189101535205,
          0.5311977539175295,
          0.2225490230732347,
          0.6105435706552877,
          0.6012397714386573,
          -0.49798029829730084,
          -1.5788557684254483,
          -1.1725339762475635,
          -0.7429584143370385,
          -1.3033130409601439,
          -0.1481121095374952,
          -0.08987450109740919,
          0.8634887289963715,
          1.3154289749839931,
          -0.1458612244300904,
          0.0446654478807579,
          -0.48504782159620513,
          -1.617495602420557,
          -0.731694949591574,
          0.3821784833214193,
          -0.5662280029457727,
          0.21408484014185408,
          -1.1289387995158675,
          0.7269769388895451,
          -0.9011091704893577,
          -2.535588699140916,
          -0.43260366467435213,
          -0.15376731612435343,
          0.39964626739478737,
          -0.11233023781221708,
          1.554395766979265,
          -0.4308410579333943,
          -1.0882608871453134,
          -0.30491823751325103,
          -2.7204294407752174,
          0.6273722477938712,
          -0.8654492756421258,
          1.9183759306233856,
          1.804196834549093,
          -0.15729206200947618,
          1.062606251289599,
          0.7294892417546102,
          1.734507463508707,
          -0.9622969360364804,
          -1.22800512027324,
          1.5476998702992784,
          0.20212868111909074,
          -0.2287354920448391,
          -1.6256267328555414,
          0.11805653097824363,
          -0.12569222392741497,
          0.6344132872644095,
          0.13955461698175808,
          -0.10892925133430031,
          0.45304222972607944,
          -0.2615053375643434,
          -0.22411611506996273,
          1.7141971468445547,
          -1.5018373663357867,
          -0.38328035963769436,
          -0.2043652018260254,
          -0.17657931439914137,
          -0.9963628208785296,
          0.6107128707648545,
          -0.47340018232802844,
          0.9359112776474541,
          -1.341473246861999,
          1.1182266906281662,
          2.353288351782029,
          -0.846808712188778,
          1.372132144431435,
          0.9999474752472598,
          1.5804495493664477,
          2.04568628243262,
          0.9797750995650546,
          -0.1787771713442234,
          -0.027427461421897097,
          1.476220213935394,
          0.7695677105340464,
          -1.3060175064144073,
          0.3037509273928669
         ],
         "y": [
          0.03354789955792382,
          0.8070604927554935,
          -0.20541484675194602,
          1.4129841433086383,
          1.9008318459139721,
          0.09300179845913471,
          0.5736886980820219,
          -0.19687274864419568,
          0.6281570041414841,
          0.7239231301056195,
          1.7173841614342737,
          1.3988000668176435,
          -0.8184742870915912,
          0.8967890017662526,
          -0.9153149454880518,
          -1.1625286021506622,
          0.27044631838323935,
          0.17279082609833252,
          -0.4838988802454175,
          -0.1985370723300537,
          0.45925580298117624,
          -0.466204510726407,
          -1.1902078376153176,
          -1.9423008579291474,
          0.17112423404743934,
          -0.8855102151597386,
          -0.06814690123720969,
          0.007010359856248485,
          -1.137822077002745,
          -2.308475853373866,
          -1.4624081721848106,
          -2.3647837278310138,
          -0.04945163262821755,
          -1.2724024016855202,
          -0.18420164801720115,
          0.4937061618303972,
          0.8033638747875229,
          -0.5036382720105074,
          0.8650082134002659,
          1.3913484083238983,
          -0.20620902568661237,
          0.25801694867934716,
          1.2157655167065369,
          1.3728410412263647,
          -0.8789152030004874,
          2.732310897045035,
          -1.3190874577850344,
          1.397284606765221,
          -0.278408549922117,
          1.6045608853438653,
          0.4205862015249162,
          0.24586301293823862,
          -0.1624515223851526,
          0.004887071810461409,
          -0.3569192879972979,
          0.6108006930348017,
          0.5384132600405072,
          1.1870638570610101,
          -0.8103379700987837,
          1.025975673439183,
          -0.4868784353162769,
          1.099447359391673,
          2.126150863729017,
          -0.8853264199162242,
          -0.3906919892588175,
          0.7644501291980417,
          -0.33172508223653285,
          -1.673993229937289,
          0.7820730124854408,
          0.25078668823209227,
          0.060357828532477814,
          0.7135707361779056,
          1.9964468811846894,
          0.15720488025605775,
          -0.2914659228838468,
          0.5161998499046359,
          -1.2785898286810256,
          1.4256047826992324,
          0.7069658123112345,
          1.8546235482138067,
          1.3346021424253542,
          1.1148461334157418,
          0.026985915141145175,
          1.397096502991006,
          2.045547530911009,
          1.2087274247672462,
          -0.02902799114594827,
          0.013673037218682812,
          -0.7223314143978876,
          -0.19675613251686933,
          0.19737307211466443,
          1.8029377596310276,
          -0.5129101312888362,
          1.9020237049129,
          0.5392281905319504,
          -1.5195104524428904,
          0.45090724709228314,
          -0.4605983828812109,
          0.8367771087907409,
          0.4522326050616165
         ]
        }
       ],
       "layout": {
        "legend": {
         "bgcolor": "#F5F6F9",
         "font": {
          "color": "#4D5663"
         }
        },
        "paper_bgcolor": "#F5F6F9",
        "plot_bgcolor": "#F5F6F9",
        "template": {
         "data": {
          "bar": [
           {
            "error_x": {
             "color": "#2a3f5f"
            },
            "error_y": {
             "color": "#2a3f5f"
            },
            "marker": {
             "line": {
              "color": "#E5ECF6",
              "width": 0.5
             },
             "pattern": {
              "fillmode": "overlay",
              "size": 10,
              "solidity": 0.2
             }
            },
            "type": "bar"
           }
          ],
          "barpolar": [
           {
            "marker": {
             "line": {
              "color": "#E5ECF6",
              "width": 0.5
             },
             "pattern": {
              "fillmode": "overlay",
              "size": 10,
              "solidity": 0.2
             }
            },
            "type": "barpolar"
           }
          ],
          "carpet": [
           {
            "aaxis": {
             "endlinecolor": "#2a3f5f",
             "gridcolor": "white",
             "linecolor": "white",
             "minorgridcolor": "white",
             "startlinecolor": "#2a3f5f"
            },
            "baxis": {
             "endlinecolor": "#2a3f5f",
             "gridcolor": "white",
             "linecolor": "white",
             "minorgridcolor": "white",
             "startlinecolor": "#2a3f5f"
            },
            "type": "carpet"
           }
          ],
          "choropleth": [
           {
            "colorbar": {
             "outlinewidth": 0,
             "ticks": ""
            },
            "type": "choropleth"
           }
          ],
          "contour": [
           {
            "colorbar": {
             "outlinewidth": 0,
             "ticks": ""
            },
            "colorscale": [
             [
              0,
              "#0d0887"
             ],
             [
              0.1111111111111111,
              "#46039f"
             ],
             [
              0.2222222222222222,
              "#7201a8"
             ],
             [
              0.3333333333333333,
              "#9c179e"
             ],
             [
              0.4444444444444444,
              "#bd3786"
             ],
             [
              0.5555555555555556,
              "#d8576b"
             ],
             [
              0.6666666666666666,
              "#ed7953"
             ],
             [
              0.7777777777777778,
              "#fb9f3a"
             ],
             [
              0.8888888888888888,
              "#fdca26"
             ],
             [
              1,
              "#f0f921"
             ]
            ],
            "type": "contour"
           }
          ],
          "contourcarpet": [
           {
            "colorbar": {
             "outlinewidth": 0,
             "ticks": ""
            },
            "type": "contourcarpet"
           }
          ],
          "heatmap": [
           {
            "colorbar": {
             "outlinewidth": 0,
             "ticks": ""
            },
            "colorscale": [
             [
              0,
              "#0d0887"
             ],
             [
              0.1111111111111111,
              "#46039f"
             ],
             [
              0.2222222222222222,
              "#7201a8"
             ],
             [
              0.3333333333333333,
              "#9c179e"
             ],
             [
              0.4444444444444444,
              "#bd3786"
             ],
             [
              0.5555555555555556,
              "#d8576b"
             ],
             [
              0.6666666666666666,
              "#ed7953"
             ],
             [
              0.7777777777777778,
              "#fb9f3a"
             ],
             [
              0.8888888888888888,
              "#fdca26"
             ],
             [
              1,
              "#f0f921"
             ]
            ],
            "type": "heatmap"
           }
          ],
          "heatmapgl": [
           {
            "colorbar": {
             "outlinewidth": 0,
             "ticks": ""
            },
            "colorscale": [
             [
              0,
              "#0d0887"
             ],
             [
              0.1111111111111111,
              "#46039f"
             ],
             [
              0.2222222222222222,
              "#7201a8"
             ],
             [
              0.3333333333333333,
              "#9c179e"
             ],
             [
              0.4444444444444444,
              "#bd3786"
             ],
             [
              0.5555555555555556,
              "#d8576b"
             ],
             [
              0.6666666666666666,
              "#ed7953"
             ],
             [
              0.7777777777777778,
              "#fb9f3a"
             ],
             [
              0.8888888888888888,
              "#fdca26"
             ],
             [
              1,
              "#f0f921"
             ]
            ],
            "type": "heatmapgl"
           }
          ],
          "histogram": [
           {
            "marker": {
             "pattern": {
              "fillmode": "overlay",
              "size": 10,
              "solidity": 0.2
             }
            },
            "type": "histogram"
           }
          ],
          "histogram2d": [
           {
            "colorbar": {
             "outlinewidth": 0,
             "ticks": ""
            },
            "colorscale": [
             [
              0,
              "#0d0887"
             ],
             [
              0.1111111111111111,
              "#46039f"
             ],
             [
              0.2222222222222222,
              "#7201a8"
             ],
             [
              0.3333333333333333,
              "#9c179e"
             ],
             [
              0.4444444444444444,
              "#bd3786"
             ],
             [
              0.5555555555555556,
              "#d8576b"
             ],
             [
              0.6666666666666666,
              "#ed7953"
             ],
             [
              0.7777777777777778,
              "#fb9f3a"
             ],
             [
              0.8888888888888888,
              "#fdca26"
             ],
             [
              1,
              "#f0f921"
             ]
            ],
            "type": "histogram2d"
           }
          ],
          "histogram2dcontour": [
           {
            "colorbar": {
             "outlinewidth": 0,
             "ticks": ""
            },
            "colorscale": [
             [
              0,
              "#0d0887"
             ],
             [
              0.1111111111111111,
              "#46039f"
             ],
             [
              0.2222222222222222,
              "#7201a8"
             ],
             [
              0.3333333333333333,
              "#9c179e"
             ],
             [
              0.4444444444444444,
              "#bd3786"
             ],
             [
              0.5555555555555556,
              "#d8576b"
             ],
             [
              0.6666666666666666,
              "#ed7953"
             ],
             [
              0.7777777777777778,
              "#fb9f3a"
             ],
             [
              0.8888888888888888,
              "#fdca26"
             ],
             [
              1,
              "#f0f921"
             ]
            ],
            "type": "histogram2dcontour"
           }
          ],
          "mesh3d": [
           {
            "colorbar": {
             "outlinewidth": 0,
             "ticks": ""
            },
            "type": "mesh3d"
           }
          ],
          "parcoords": [
           {
            "line": {
             "colorbar": {
              "outlinewidth": 0,
              "ticks": ""
             }
            },
            "type": "parcoords"
           }
          ],
          "pie": [
           {
            "automargin": true,
            "type": "pie"
           }
          ],
          "scatter": [
           {
            "marker": {
             "colorbar": {
              "outlinewidth": 0,
              "ticks": ""
             }
            },
            "type": "scatter"
           }
          ],
          "scatter3d": [
           {
            "line": {
             "colorbar": {
              "outlinewidth": 0,
              "ticks": ""
             }
            },
            "marker": {
             "colorbar": {
              "outlinewidth": 0,
              "ticks": ""
             }
            },
            "type": "scatter3d"
           }
          ],
          "scattercarpet": [
           {
            "marker": {
             "colorbar": {
              "outlinewidth": 0,
              "ticks": ""
             }
            },
            "type": "scattercarpet"
           }
          ],
          "scattergeo": [
           {
            "marker": {
             "colorbar": {
              "outlinewidth": 0,
              "ticks": ""
             }
            },
            "type": "scattergeo"
           }
          ],
          "scattergl": [
           {
            "marker": {
             "colorbar": {
              "outlinewidth": 0,
              "ticks": ""
             }
            },
            "type": "scattergl"
           }
          ],
          "scattermapbox": [
           {
            "marker": {
             "colorbar": {
              "outlinewidth": 0,
              "ticks": ""
             }
            },
            "type": "scattermapbox"
           }
          ],
          "scatterpolar": [
           {
            "marker": {
             "colorbar": {
              "outlinewidth": 0,
              "ticks": ""
             }
            },
            "type": "scatterpolar"
           }
          ],
          "scatterpolargl": [
           {
            "marker": {
             "colorbar": {
              "outlinewidth": 0,
              "ticks": ""
             }
            },
            "type": "scatterpolargl"
           }
          ],
          "scatterternary": [
           {
            "marker": {
             "colorbar": {
              "outlinewidth": 0,
              "ticks": ""
             }
            },
            "type": "scatterternary"
           }
          ],
          "surface": [
           {
            "colorbar": {
             "outlinewidth": 0,
             "ticks": ""
            },
            "colorscale": [
             [
              0,
              "#0d0887"
             ],
             [
              0.1111111111111111,
              "#46039f"
             ],
             [
              0.2222222222222222,
              "#7201a8"
             ],
             [
              0.3333333333333333,
              "#9c179e"
             ],
             [
              0.4444444444444444,
              "#bd3786"
             ],
             [
              0.5555555555555556,
              "#d8576b"
             ],
             [
              0.6666666666666666,
              "#ed7953"
             ],
             [
              0.7777777777777778,
              "#fb9f3a"
             ],
             [
              0.8888888888888888,
              "#fdca26"
             ],
             [
              1,
              "#f0f921"
             ]
            ],
            "type": "surface"
           }
          ],
          "table": [
           {
            "cells": {
             "fill": {
              "color": "#EBF0F8"
             },
             "line": {
              "color": "white"
             }
            },
            "header": {
             "fill": {
              "color": "#C8D4E3"
             },
             "line": {
              "color": "white"
             }
            },
            "type": "table"
           }
          ]
         },
         "layout": {
          "annotationdefaults": {
           "arrowcolor": "#2a3f5f",
           "arrowhead": 0,
           "arrowwidth": 1
          },
          "autotypenumbers": "strict",
          "coloraxis": {
           "colorbar": {
            "outlinewidth": 0,
            "ticks": ""
           }
          },
          "colorscale": {
           "diverging": [
            [
             0,
             "#8e0152"
            ],
            [
             0.1,
             "#c51b7d"
            ],
            [
             0.2,
             "#de77ae"
            ],
            [
             0.3,
             "#f1b6da"
            ],
            [
             0.4,
             "#fde0ef"
            ],
            [
             0.5,
             "#f7f7f7"
            ],
            [
             0.6,
             "#e6f5d0"
            ],
            [
             0.7,
             "#b8e186"
            ],
            [
             0.8,
             "#7fbc41"
            ],
            [
             0.9,
             "#4d9221"
            ],
            [
             1,
             "#276419"
            ]
           ],
           "sequential": [
            [
             0,
             "#0d0887"
            ],
            [
             0.1111111111111111,
             "#46039f"
            ],
            [
             0.2222222222222222,
             "#7201a8"
            ],
            [
             0.3333333333333333,
             "#9c179e"
            ],
            [
             0.4444444444444444,
             "#bd3786"
            ],
            [
             0.5555555555555556,
             "#d8576b"
            ],
            [
             0.6666666666666666,
             "#ed7953"
            ],
            [
             0.7777777777777778,
             "#fb9f3a"
            ],
            [
             0.8888888888888888,
             "#fdca26"
            ],
            [
             1,
             "#f0f921"
            ]
           ],
           "sequentialminus": [
            [
             0,
             "#0d0887"
            ],
            [
             0.1111111111111111,
             "#46039f"
            ],
            [
             0.2222222222222222,
             "#7201a8"
            ],
            [
             0.3333333333333333,
             "#9c179e"
            ],
            [
             0.4444444444444444,
             "#bd3786"
            ],
            [
             0.5555555555555556,
             "#d8576b"
            ],
            [
             0.6666666666666666,
             "#ed7953"
            ],
            [
             0.7777777777777778,
             "#fb9f3a"
            ],
            [
             0.8888888888888888,
             "#fdca26"
            ],
            [
             1,
             "#f0f921"
            ]
           ]
          },
          "colorway": [
           "#636efa",
           "#EF553B",
           "#00cc96",
           "#ab63fa",
           "#FFA15A",
           "#19d3f3",
           "#FF6692",
           "#B6E880",
           "#FF97FF",
           "#FECB52"
          ],
          "font": {
           "color": "#2a3f5f"
          },
          "geo": {
           "bgcolor": "white",
           "lakecolor": "white",
           "landcolor": "#E5ECF6",
           "showlakes": true,
           "showland": true,
           "subunitcolor": "white"
          },
          "hoverlabel": {
           "align": "left"
          },
          "hovermode": "closest",
          "mapbox": {
           "style": "light"
          },
          "paper_bgcolor": "white",
          "plot_bgcolor": "#E5ECF6",
          "polar": {
           "angularaxis": {
            "gridcolor": "white",
            "linecolor": "white",
            "ticks": ""
           },
           "bgcolor": "#E5ECF6",
           "radialaxis": {
            "gridcolor": "white",
            "linecolor": "white",
            "ticks": ""
           }
          },
          "scene": {
           "xaxis": {
            "backgroundcolor": "#E5ECF6",
            "gridcolor": "white",
            "gridwidth": 2,
            "linecolor": "white",
            "showbackground": true,
            "ticks": "",
            "zerolinecolor": "white"
           },
           "yaxis": {
            "backgroundcolor": "#E5ECF6",
            "gridcolor": "white",
            "gridwidth": 2,
            "linecolor": "white",
            "showbackground": true,
            "ticks": "",
            "zerolinecolor": "white"
           },
           "zaxis": {
            "backgroundcolor": "#E5ECF6",
            "gridcolor": "white",
            "gridwidth": 2,
            "linecolor": "white",
            "showbackground": true,
            "ticks": "",
            "zerolinecolor": "white"
           }
          },
          "shapedefaults": {
           "line": {
            "color": "#2a3f5f"
           }
          },
          "ternary": {
           "aaxis": {
            "gridcolor": "white",
            "linecolor": "white",
            "ticks": ""
           },
           "baxis": {
            "gridcolor": "white",
            "linecolor": "white",
            "ticks": ""
           },
           "bgcolor": "#E5ECF6",
           "caxis": {
            "gridcolor": "white",
            "linecolor": "white",
            "ticks": ""
           }
          },
          "title": {
           "x": 0.05
          },
          "xaxis": {
           "automargin": true,
           "gridcolor": "white",
           "linecolor": "white",
           "ticks": "",
           "title": {
            "standoff": 15
           },
           "zerolinecolor": "white",
           "zerolinewidth": 2
          },
          "yaxis": {
           "automargin": true,
           "gridcolor": "white",
           "linecolor": "white",
           "ticks": "",
           "title": {
            "standoff": 15
           },
           "zerolinecolor": "white",
           "zerolinewidth": 2
          }
         }
        },
        "title": {
         "font": {
          "color": "#4D5663"
         }
        },
        "xaxis": {
         "gridcolor": "#E1E5ED",
         "showgrid": true,
         "tickfont": {
          "color": "#4D5663"
         },
         "title": {
          "font": {
           "color": "#4D5663"
          },
          "text": ""
         },
         "zerolinecolor": "#E1E5ED"
        },
        "yaxis": {
         "gridcolor": "#E1E5ED",
         "showgrid": true,
         "tickfont": {
          "color": "#4D5663"
         },
         "title": {
          "font": {
           "color": "#4D5663"
          },
          "text": ""
         },
         "zerolinecolor": "#E1E5ED"
        }
       }
      },
      "text/html": [
       "<div>                            <div id=\"6b55de7c-0fee-42fd-8aa4-ffec8818c925\" class=\"plotly-graph-div\" style=\"height:525px; width:100%;\"></div>            <script type=\"text/javascript\">                require([\"plotly\"], function(Plotly) {                    window.PLOTLYENV=window.PLOTLYENV || {};\n",
       "                    window.PLOTLYENV.BASE_URL='https://plot.ly';                                    if (document.getElementById(\"6b55de7c-0fee-42fd-8aa4-ffec8818c925\")) {                    Plotly.newPlot(                        \"6b55de7c-0fee-42fd-8aa4-ffec8818c925\",                        [{\"line\":{\"color\":\"rgba(255, 153, 51, 1.0)\",\"dash\":\"solid\",\"shape\":\"linear\",\"width\":1.3},\"marker\":{\"size\":10,\"symbol\":\"circle\"},\"mode\":\"markers\",\"name\":\"B\",\"text\":\"\",\"x\":[-0.6005272572897303,0.4244128074582704,-0.4409073355427527,0.8765579194110584,0.113261090341445,-0.4734724357527685,-0.5188427551304841,1.6014103864400826,-1.9072129048619137,0.13973295867986582,0.1702359906906131,-0.05052875998036999,0.20326605679474508,-0.6068987450085842,0.01901108295103341,1.693422376323972,0.5845625651895274,0.4308434776212245,2.0362362984046185,-0.37880189101535205,0.5311977539175295,0.2225490230732347,0.6105435706552877,0.6012397714386573,-0.49798029829730084,-1.5788557684254483,-1.1725339762475635,-0.7429584143370385,-1.3033130409601439,-0.1481121095374952,-0.08987450109740919,0.8634887289963715,1.3154289749839931,-0.1458612244300904,0.0446654478807579,-0.48504782159620513,-1.617495602420557,-0.731694949591574,0.3821784833214193,-0.5662280029457727,0.21408484014185408,-1.1289387995158675,0.7269769388895451,-0.9011091704893577,-2.535588699140916,-0.43260366467435213,-0.15376731612435343,0.39964626739478737,-0.11233023781221708,1.554395766979265,-0.4308410579333943,-1.0882608871453134,-0.30491823751325103,-2.7204294407752174,0.6273722477938712,-0.8654492756421258,1.9183759306233856,1.804196834549093,-0.15729206200947618,1.062606251289599,0.7294892417546102,1.734507463508707,-0.9622969360364804,-1.22800512027324,1.5476998702992784,0.20212868111909074,-0.2287354920448391,-1.6256267328555414,0.11805653097824363,-0.12569222392741497,0.6344132872644095,0.13955461698175808,-0.10892925133430031,0.45304222972607944,-0.2615053375643434,-0.22411611506996273,1.7141971468445547,-1.5018373663357867,-0.38328035963769436,-0.2043652018260254,-0.17657931439914137,-0.9963628208785296,0.6107128707648545,-0.47340018232802844,0.9359112776474541,-1.341473246861999,1.1182266906281662,2.353288351782029,-0.846808712188778,1.372132144431435,0.9999474752472598,1.5804495493664477,2.04568628243262,0.9797750995650546,-0.1787771713442234,-0.027427461421897097,1.476220213935394,0.7695677105340464,-1.3060175064144073,0.3037509273928669],\"y\":[0.03354789955792382,0.8070604927554935,-0.20541484675194602,1.4129841433086383,1.9008318459139721,0.09300179845913471,0.5736886980820219,-0.19687274864419568,0.6281570041414841,0.7239231301056195,1.7173841614342737,1.3988000668176435,-0.8184742870915912,0.8967890017662526,-0.9153149454880518,-1.1625286021506622,0.27044631838323935,0.17279082609833252,-0.4838988802454175,-0.1985370723300537,0.45925580298117624,-0.466204510726407,-1.1902078376153176,-1.9423008579291474,0.17112423404743934,-0.8855102151597386,-0.06814690123720969,0.007010359856248485,-1.137822077002745,-2.308475853373866,-1.4624081721848106,-2.3647837278310138,-0.04945163262821755,-1.2724024016855202,-0.18420164801720115,0.4937061618303972,0.8033638747875229,-0.5036382720105074,0.8650082134002659,1.3913484083238983,-0.20620902568661237,0.25801694867934716,1.2157655167065369,1.3728410412263647,-0.8789152030004874,2.732310897045035,-1.3190874577850344,1.397284606765221,-0.278408549922117,1.6045608853438653,0.4205862015249162,0.24586301293823862,-0.1624515223851526,0.004887071810461409,-0.3569192879972979,0.6108006930348017,0.5384132600405072,1.1870638570610101,-0.8103379700987837,1.025975673439183,-0.4868784353162769,1.099447359391673,2.126150863729017,-0.8853264199162242,-0.3906919892588175,0.7644501291980417,-0.33172508223653285,-1.673993229937289,0.7820730124854408,0.25078668823209227,0.060357828532477814,0.7135707361779056,1.9964468811846894,0.15720488025605775,-0.2914659228838468,0.5161998499046359,-1.2785898286810256,1.4256047826992324,0.7069658123112345,1.8546235482138067,1.3346021424253542,1.1148461334157418,0.026985915141145175,1.397096502991006,2.045547530911009,1.2087274247672462,-0.02902799114594827,0.013673037218682812,-0.7223314143978876,-0.19675613251686933,0.19737307211466443,1.8029377596310276,-0.5129101312888362,1.9020237049129,0.5392281905319504,-1.5195104524428904,0.45090724709228314,-0.4605983828812109,0.8367771087907409,0.4522326050616165],\"type\":\"scatter\"}],                        {\"legend\":{\"bgcolor\":\"#F5F6F9\",\"font\":{\"color\":\"#4D5663\"}},\"paper_bgcolor\":\"#F5F6F9\",\"plot_bgcolor\":\"#F5F6F9\",\"template\":{\"data\":{\"barpolar\":[{\"marker\":{\"line\":{\"color\":\"#E5ECF6\",\"width\":0.5},\"pattern\":{\"fillmode\":\"overlay\",\"size\":10,\"solidity\":0.2}},\"type\":\"barpolar\"}],\"bar\":[{\"error_x\":{\"color\":\"#2a3f5f\"},\"error_y\":{\"color\":\"#2a3f5f\"},\"marker\":{\"line\":{\"color\":\"#E5ECF6\",\"width\":0.5},\"pattern\":{\"fillmode\":\"overlay\",\"size\":10,\"solidity\":0.2}},\"type\":\"bar\"}],\"carpet\":[{\"aaxis\":{\"endlinecolor\":\"#2a3f5f\",\"gridcolor\":\"white\",\"linecolor\":\"white\",\"minorgridcolor\":\"white\",\"startlinecolor\":\"#2a3f5f\"},\"baxis\":{\"endlinecolor\":\"#2a3f5f\",\"gridcolor\":\"white\",\"linecolor\":\"white\",\"minorgridcolor\":\"white\",\"startlinecolor\":\"#2a3f5f\"},\"type\":\"carpet\"}],\"choropleth\":[{\"colorbar\":{\"outlinewidth\":0,\"ticks\":\"\"},\"type\":\"choropleth\"}],\"contourcarpet\":[{\"colorbar\":{\"outlinewidth\":0,\"ticks\":\"\"},\"type\":\"contourcarpet\"}],\"contour\":[{\"colorbar\":{\"outlinewidth\":0,\"ticks\":\"\"},\"colorscale\":[[0.0,\"#0d0887\"],[0.1111111111111111,\"#46039f\"],[0.2222222222222222,\"#7201a8\"],[0.3333333333333333,\"#9c179e\"],[0.4444444444444444,\"#bd3786\"],[0.5555555555555556,\"#d8576b\"],[0.6666666666666666,\"#ed7953\"],[0.7777777777777778,\"#fb9f3a\"],[0.8888888888888888,\"#fdca26\"],[1.0,\"#f0f921\"]],\"type\":\"contour\"}],\"heatmapgl\":[{\"colorbar\":{\"outlinewidth\":0,\"ticks\":\"\"},\"colorscale\":[[0.0,\"#0d0887\"],[0.1111111111111111,\"#46039f\"],[0.2222222222222222,\"#7201a8\"],[0.3333333333333333,\"#9c179e\"],[0.4444444444444444,\"#bd3786\"],[0.5555555555555556,\"#d8576b\"],[0.6666666666666666,\"#ed7953\"],[0.7777777777777778,\"#fb9f3a\"],[0.8888888888888888,\"#fdca26\"],[1.0,\"#f0f921\"]],\"type\":\"heatmapgl\"}],\"heatmap\":[{\"colorbar\":{\"outlinewidth\":0,\"ticks\":\"\"},\"colorscale\":[[0.0,\"#0d0887\"],[0.1111111111111111,\"#46039f\"],[0.2222222222222222,\"#7201a8\"],[0.3333333333333333,\"#9c179e\"],[0.4444444444444444,\"#bd3786\"],[0.5555555555555556,\"#d8576b\"],[0.6666666666666666,\"#ed7953\"],[0.7777777777777778,\"#fb9f3a\"],[0.8888888888888888,\"#fdca26\"],[1.0,\"#f0f921\"]],\"type\":\"heatmap\"}],\"histogram2dcontour\":[{\"colorbar\":{\"outlinewidth\":0,\"ticks\":\"\"},\"colorscale\":[[0.0,\"#0d0887\"],[0.1111111111111111,\"#46039f\"],[0.2222222222222222,\"#7201a8\"],[0.3333333333333333,\"#9c179e\"],[0.4444444444444444,\"#bd3786\"],[0.5555555555555556,\"#d8576b\"],[0.6666666666666666,\"#ed7953\"],[0.7777777777777778,\"#fb9f3a\"],[0.8888888888888888,\"#fdca26\"],[1.0,\"#f0f921\"]],\"type\":\"histogram2dcontour\"}],\"histogram2d\":[{\"colorbar\":{\"outlinewidth\":0,\"ticks\":\"\"},\"colorscale\":[[0.0,\"#0d0887\"],[0.1111111111111111,\"#46039f\"],[0.2222222222222222,\"#7201a8\"],[0.3333333333333333,\"#9c179e\"],[0.4444444444444444,\"#bd3786\"],[0.5555555555555556,\"#d8576b\"],[0.6666666666666666,\"#ed7953\"],[0.7777777777777778,\"#fb9f3a\"],[0.8888888888888888,\"#fdca26\"],[1.0,\"#f0f921\"]],\"type\":\"histogram2d\"}],\"histogram\":[{\"marker\":{\"pattern\":{\"fillmode\":\"overlay\",\"size\":10,\"solidity\":0.2}},\"type\":\"histogram\"}],\"mesh3d\":[{\"colorbar\":{\"outlinewidth\":0,\"ticks\":\"\"},\"type\":\"mesh3d\"}],\"parcoords\":[{\"line\":{\"colorbar\":{\"outlinewidth\":0,\"ticks\":\"\"}},\"type\":\"parcoords\"}],\"pie\":[{\"automargin\":true,\"type\":\"pie\"}],\"scatter3d\":[{\"line\":{\"colorbar\":{\"outlinewidth\":0,\"ticks\":\"\"}},\"marker\":{\"colorbar\":{\"outlinewidth\":0,\"ticks\":\"\"}},\"type\":\"scatter3d\"}],\"scattercarpet\":[{\"marker\":{\"colorbar\":{\"outlinewidth\":0,\"ticks\":\"\"}},\"type\":\"scattercarpet\"}],\"scattergeo\":[{\"marker\":{\"colorbar\":{\"outlinewidth\":0,\"ticks\":\"\"}},\"type\":\"scattergeo\"}],\"scattergl\":[{\"marker\":{\"colorbar\":{\"outlinewidth\":0,\"ticks\":\"\"}},\"type\":\"scattergl\"}],\"scattermapbox\":[{\"marker\":{\"colorbar\":{\"outlinewidth\":0,\"ticks\":\"\"}},\"type\":\"scattermapbox\"}],\"scatterpolargl\":[{\"marker\":{\"colorbar\":{\"outlinewidth\":0,\"ticks\":\"\"}},\"type\":\"scatterpolargl\"}],\"scatterpolar\":[{\"marker\":{\"colorbar\":{\"outlinewidth\":0,\"ticks\":\"\"}},\"type\":\"scatterpolar\"}],\"scatter\":[{\"marker\":{\"colorbar\":{\"outlinewidth\":0,\"ticks\":\"\"}},\"type\":\"scatter\"}],\"scatterternary\":[{\"marker\":{\"colorbar\":{\"outlinewidth\":0,\"ticks\":\"\"}},\"type\":\"scatterternary\"}],\"surface\":[{\"colorbar\":{\"outlinewidth\":0,\"ticks\":\"\"},\"colorscale\":[[0.0,\"#0d0887\"],[0.1111111111111111,\"#46039f\"],[0.2222222222222222,\"#7201a8\"],[0.3333333333333333,\"#9c179e\"],[0.4444444444444444,\"#bd3786\"],[0.5555555555555556,\"#d8576b\"],[0.6666666666666666,\"#ed7953\"],[0.7777777777777778,\"#fb9f3a\"],[0.8888888888888888,\"#fdca26\"],[1.0,\"#f0f921\"]],\"type\":\"surface\"}],\"table\":[{\"cells\":{\"fill\":{\"color\":\"#EBF0F8\"},\"line\":{\"color\":\"white\"}},\"header\":{\"fill\":{\"color\":\"#C8D4E3\"},\"line\":{\"color\":\"white\"}},\"type\":\"table\"}]},\"layout\":{\"annotationdefaults\":{\"arrowcolor\":\"#2a3f5f\",\"arrowhead\":0,\"arrowwidth\":1},\"autotypenumbers\":\"strict\",\"coloraxis\":{\"colorbar\":{\"outlinewidth\":0,\"ticks\":\"\"}},\"colorscale\":{\"diverging\":[[0,\"#8e0152\"],[0.1,\"#c51b7d\"],[0.2,\"#de77ae\"],[0.3,\"#f1b6da\"],[0.4,\"#fde0ef\"],[0.5,\"#f7f7f7\"],[0.6,\"#e6f5d0\"],[0.7,\"#b8e186\"],[0.8,\"#7fbc41\"],[0.9,\"#4d9221\"],[1,\"#276419\"]],\"sequential\":[[0.0,\"#0d0887\"],[0.1111111111111111,\"#46039f\"],[0.2222222222222222,\"#7201a8\"],[0.3333333333333333,\"#9c179e\"],[0.4444444444444444,\"#bd3786\"],[0.5555555555555556,\"#d8576b\"],[0.6666666666666666,\"#ed7953\"],[0.7777777777777778,\"#fb9f3a\"],[0.8888888888888888,\"#fdca26\"],[1.0,\"#f0f921\"]],\"sequentialminus\":[[0.0,\"#0d0887\"],[0.1111111111111111,\"#46039f\"],[0.2222222222222222,\"#7201a8\"],[0.3333333333333333,\"#9c179e\"],[0.4444444444444444,\"#bd3786\"],[0.5555555555555556,\"#d8576b\"],[0.6666666666666666,\"#ed7953\"],[0.7777777777777778,\"#fb9f3a\"],[0.8888888888888888,\"#fdca26\"],[1.0,\"#f0f921\"]]},\"colorway\":[\"#636efa\",\"#EF553B\",\"#00cc96\",\"#ab63fa\",\"#FFA15A\",\"#19d3f3\",\"#FF6692\",\"#B6E880\",\"#FF97FF\",\"#FECB52\"],\"font\":{\"color\":\"#2a3f5f\"},\"geo\":{\"bgcolor\":\"white\",\"lakecolor\":\"white\",\"landcolor\":\"#E5ECF6\",\"showlakes\":true,\"showland\":true,\"subunitcolor\":\"white\"},\"hoverlabel\":{\"align\":\"left\"},\"hovermode\":\"closest\",\"mapbox\":{\"style\":\"light\"},\"paper_bgcolor\":\"white\",\"plot_bgcolor\":\"#E5ECF6\",\"polar\":{\"angularaxis\":{\"gridcolor\":\"white\",\"linecolor\":\"white\",\"ticks\":\"\"},\"bgcolor\":\"#E5ECF6\",\"radialaxis\":{\"gridcolor\":\"white\",\"linecolor\":\"white\",\"ticks\":\"\"}},\"scene\":{\"xaxis\":{\"backgroundcolor\":\"#E5ECF6\",\"gridcolor\":\"white\",\"gridwidth\":2,\"linecolor\":\"white\",\"showbackground\":true,\"ticks\":\"\",\"zerolinecolor\":\"white\"},\"yaxis\":{\"backgroundcolor\":\"#E5ECF6\",\"gridcolor\":\"white\",\"gridwidth\":2,\"linecolor\":\"white\",\"showbackground\":true,\"ticks\":\"\",\"zerolinecolor\":\"white\"},\"zaxis\":{\"backgroundcolor\":\"#E5ECF6\",\"gridcolor\":\"white\",\"gridwidth\":2,\"linecolor\":\"white\",\"showbackground\":true,\"ticks\":\"\",\"zerolinecolor\":\"white\"}},\"shapedefaults\":{\"line\":{\"color\":\"#2a3f5f\"}},\"ternary\":{\"aaxis\":{\"gridcolor\":\"white\",\"linecolor\":\"white\",\"ticks\":\"\"},\"baxis\":{\"gridcolor\":\"white\",\"linecolor\":\"white\",\"ticks\":\"\"},\"bgcolor\":\"#E5ECF6\",\"caxis\":{\"gridcolor\":\"white\",\"linecolor\":\"white\",\"ticks\":\"\"}},\"title\":{\"x\":0.05},\"xaxis\":{\"automargin\":true,\"gridcolor\":\"white\",\"linecolor\":\"white\",\"ticks\":\"\",\"title\":{\"standoff\":15},\"zerolinecolor\":\"white\",\"zerolinewidth\":2},\"yaxis\":{\"automargin\":true,\"gridcolor\":\"white\",\"linecolor\":\"white\",\"ticks\":\"\",\"title\":{\"standoff\":15},\"zerolinecolor\":\"white\",\"zerolinewidth\":2}}},\"title\":{\"font\":{\"color\":\"#4D5663\"}},\"xaxis\":{\"gridcolor\":\"#E1E5ED\",\"showgrid\":true,\"tickfont\":{\"color\":\"#4D5663\"},\"title\":{\"font\":{\"color\":\"#4D5663\"},\"text\":\"\"},\"zerolinecolor\":\"#E1E5ED\"},\"yaxis\":{\"gridcolor\":\"#E1E5ED\",\"showgrid\":true,\"tickfont\":{\"color\":\"#4D5663\"},\"title\":{\"font\":{\"color\":\"#4D5663\"},\"text\":\"\"},\"zerolinecolor\":\"#E1E5ED\"}},                        {\"showLink\": true, \"linkText\": \"Export to plot.ly\", \"plotlyServerURL\": \"https://plot.ly\", \"responsive\": true}                    ).then(function(){\n",
       "                            \n",
       "var gd = document.getElementById('6b55de7c-0fee-42fd-8aa4-ffec8818c925');\n",
       "var x = new MutationObserver(function (mutations, observer) {{\n",
       "        var display = window.getComputedStyle(gd).display;\n",
       "        if (!display || display === 'none') {{\n",
       "            console.log([gd, 'removed!']);\n",
       "            Plotly.purge(gd);\n",
       "            observer.disconnect();\n",
       "        }}\n",
       "}});\n",
       "\n",
       "// Listen for the removal of the full notebook cells\n",
       "var notebookContainer = gd.closest('#notebook-container');\n",
       "if (notebookContainer) {{\n",
       "    x.observe(notebookContainer, {childList: true});\n",
       "}}\n",
       "\n",
       "// Listen for the clearing of the current output cell\n",
       "var outputEl = gd.closest('.output');\n",
       "if (outputEl) {{\n",
       "    x.observe(outputEl, {childList: true});\n",
       "}}\n",
       "\n",
       "                        })                };                });            </script>        </div>"
      ]
     },
     "metadata": {},
     "output_type": "display_data"
    }
   ],
   "source": [
    "df.iplot(kind='scatter',x='A',y='B',mode='markers',size=10)"
   ]
  },
  {
   "cell_type": "markdown",
   "metadata": {},
   "source": [
    "## Bar Plots"
   ]
  },
  {
   "cell_type": "code",
   "execution_count": 11,
   "metadata": {},
   "outputs": [
    {
     "data": {
      "application/vnd.plotly.v1+json": {
       "config": {
        "linkText": "Export to plot.ly",
        "plotlyServerURL": "https://plot.ly",
        "showLink": true
       },
       "data": [
        {
         "marker": {
          "color": "rgba(255, 153, 51, 0.6)",
          "line": {
           "color": "rgba(255, 153, 51, 1.0)",
           "width": 1
          }
         },
         "name": "Values",
         "orientation": "v",
         "text": "",
         "type": "bar",
         "x": [
          "A",
          "B",
          "C"
         ],
         "y": [
          32,
          43,
          50
         ]
        }
       ],
       "layout": {
        "legend": {
         "bgcolor": "#F5F6F9",
         "font": {
          "color": "#4D5663"
         }
        },
        "paper_bgcolor": "#F5F6F9",
        "plot_bgcolor": "#F5F6F9",
        "template": {
         "data": {
          "bar": [
           {
            "error_x": {
             "color": "#2a3f5f"
            },
            "error_y": {
             "color": "#2a3f5f"
            },
            "marker": {
             "line": {
              "color": "#E5ECF6",
              "width": 0.5
             },
             "pattern": {
              "fillmode": "overlay",
              "size": 10,
              "solidity": 0.2
             }
            },
            "type": "bar"
           }
          ],
          "barpolar": [
           {
            "marker": {
             "line": {
              "color": "#E5ECF6",
              "width": 0.5
             },
             "pattern": {
              "fillmode": "overlay",
              "size": 10,
              "solidity": 0.2
             }
            },
            "type": "barpolar"
           }
          ],
          "carpet": [
           {
            "aaxis": {
             "endlinecolor": "#2a3f5f",
             "gridcolor": "white",
             "linecolor": "white",
             "minorgridcolor": "white",
             "startlinecolor": "#2a3f5f"
            },
            "baxis": {
             "endlinecolor": "#2a3f5f",
             "gridcolor": "white",
             "linecolor": "white",
             "minorgridcolor": "white",
             "startlinecolor": "#2a3f5f"
            },
            "type": "carpet"
           }
          ],
          "choropleth": [
           {
            "colorbar": {
             "outlinewidth": 0,
             "ticks": ""
            },
            "type": "choropleth"
           }
          ],
          "contour": [
           {
            "colorbar": {
             "outlinewidth": 0,
             "ticks": ""
            },
            "colorscale": [
             [
              0,
              "#0d0887"
             ],
             [
              0.1111111111111111,
              "#46039f"
             ],
             [
              0.2222222222222222,
              "#7201a8"
             ],
             [
              0.3333333333333333,
              "#9c179e"
             ],
             [
              0.4444444444444444,
              "#bd3786"
             ],
             [
              0.5555555555555556,
              "#d8576b"
             ],
             [
              0.6666666666666666,
              "#ed7953"
             ],
             [
              0.7777777777777778,
              "#fb9f3a"
             ],
             [
              0.8888888888888888,
              "#fdca26"
             ],
             [
              1,
              "#f0f921"
             ]
            ],
            "type": "contour"
           }
          ],
          "contourcarpet": [
           {
            "colorbar": {
             "outlinewidth": 0,
             "ticks": ""
            },
            "type": "contourcarpet"
           }
          ],
          "heatmap": [
           {
            "colorbar": {
             "outlinewidth": 0,
             "ticks": ""
            },
            "colorscale": [
             [
              0,
              "#0d0887"
             ],
             [
              0.1111111111111111,
              "#46039f"
             ],
             [
              0.2222222222222222,
              "#7201a8"
             ],
             [
              0.3333333333333333,
              "#9c179e"
             ],
             [
              0.4444444444444444,
              "#bd3786"
             ],
             [
              0.5555555555555556,
              "#d8576b"
             ],
             [
              0.6666666666666666,
              "#ed7953"
             ],
             [
              0.7777777777777778,
              "#fb9f3a"
             ],
             [
              0.8888888888888888,
              "#fdca26"
             ],
             [
              1,
              "#f0f921"
             ]
            ],
            "type": "heatmap"
           }
          ],
          "heatmapgl": [
           {
            "colorbar": {
             "outlinewidth": 0,
             "ticks": ""
            },
            "colorscale": [
             [
              0,
              "#0d0887"
             ],
             [
              0.1111111111111111,
              "#46039f"
             ],
             [
              0.2222222222222222,
              "#7201a8"
             ],
             [
              0.3333333333333333,
              "#9c179e"
             ],
             [
              0.4444444444444444,
              "#bd3786"
             ],
             [
              0.5555555555555556,
              "#d8576b"
             ],
             [
              0.6666666666666666,
              "#ed7953"
             ],
             [
              0.7777777777777778,
              "#fb9f3a"
             ],
             [
              0.8888888888888888,
              "#fdca26"
             ],
             [
              1,
              "#f0f921"
             ]
            ],
            "type": "heatmapgl"
           }
          ],
          "histogram": [
           {
            "marker": {
             "pattern": {
              "fillmode": "overlay",
              "size": 10,
              "solidity": 0.2
             }
            },
            "type": "histogram"
           }
          ],
          "histogram2d": [
           {
            "colorbar": {
             "outlinewidth": 0,
             "ticks": ""
            },
            "colorscale": [
             [
              0,
              "#0d0887"
             ],
             [
              0.1111111111111111,
              "#46039f"
             ],
             [
              0.2222222222222222,
              "#7201a8"
             ],
             [
              0.3333333333333333,
              "#9c179e"
             ],
             [
              0.4444444444444444,
              "#bd3786"
             ],
             [
              0.5555555555555556,
              "#d8576b"
             ],
             [
              0.6666666666666666,
              "#ed7953"
             ],
             [
              0.7777777777777778,
              "#fb9f3a"
             ],
             [
              0.8888888888888888,
              "#fdca26"
             ],
             [
              1,
              "#f0f921"
             ]
            ],
            "type": "histogram2d"
           }
          ],
          "histogram2dcontour": [
           {
            "colorbar": {
             "outlinewidth": 0,
             "ticks": ""
            },
            "colorscale": [
             [
              0,
              "#0d0887"
             ],
             [
              0.1111111111111111,
              "#46039f"
             ],
             [
              0.2222222222222222,
              "#7201a8"
             ],
             [
              0.3333333333333333,
              "#9c179e"
             ],
             [
              0.4444444444444444,
              "#bd3786"
             ],
             [
              0.5555555555555556,
              "#d8576b"
             ],
             [
              0.6666666666666666,
              "#ed7953"
             ],
             [
              0.7777777777777778,
              "#fb9f3a"
             ],
             [
              0.8888888888888888,
              "#fdca26"
             ],
             [
              1,
              "#f0f921"
             ]
            ],
            "type": "histogram2dcontour"
           }
          ],
          "mesh3d": [
           {
            "colorbar": {
             "outlinewidth": 0,
             "ticks": ""
            },
            "type": "mesh3d"
           }
          ],
          "parcoords": [
           {
            "line": {
             "colorbar": {
              "outlinewidth": 0,
              "ticks": ""
             }
            },
            "type": "parcoords"
           }
          ],
          "pie": [
           {
            "automargin": true,
            "type": "pie"
           }
          ],
          "scatter": [
           {
            "marker": {
             "colorbar": {
              "outlinewidth": 0,
              "ticks": ""
             }
            },
            "type": "scatter"
           }
          ],
          "scatter3d": [
           {
            "line": {
             "colorbar": {
              "outlinewidth": 0,
              "ticks": ""
             }
            },
            "marker": {
             "colorbar": {
              "outlinewidth": 0,
              "ticks": ""
             }
            },
            "type": "scatter3d"
           }
          ],
          "scattercarpet": [
           {
            "marker": {
             "colorbar": {
              "outlinewidth": 0,
              "ticks": ""
             }
            },
            "type": "scattercarpet"
           }
          ],
          "scattergeo": [
           {
            "marker": {
             "colorbar": {
              "outlinewidth": 0,
              "ticks": ""
             }
            },
            "type": "scattergeo"
           }
          ],
          "scattergl": [
           {
            "marker": {
             "colorbar": {
              "outlinewidth": 0,
              "ticks": ""
             }
            },
            "type": "scattergl"
           }
          ],
          "scattermapbox": [
           {
            "marker": {
             "colorbar": {
              "outlinewidth": 0,
              "ticks": ""
             }
            },
            "type": "scattermapbox"
           }
          ],
          "scatterpolar": [
           {
            "marker": {
             "colorbar": {
              "outlinewidth": 0,
              "ticks": ""
             }
            },
            "type": "scatterpolar"
           }
          ],
          "scatterpolargl": [
           {
            "marker": {
             "colorbar": {
              "outlinewidth": 0,
              "ticks": ""
             }
            },
            "type": "scatterpolargl"
           }
          ],
          "scatterternary": [
           {
            "marker": {
             "colorbar": {
              "outlinewidth": 0,
              "ticks": ""
             }
            },
            "type": "scatterternary"
           }
          ],
          "surface": [
           {
            "colorbar": {
             "outlinewidth": 0,
             "ticks": ""
            },
            "colorscale": [
             [
              0,
              "#0d0887"
             ],
             [
              0.1111111111111111,
              "#46039f"
             ],
             [
              0.2222222222222222,
              "#7201a8"
             ],
             [
              0.3333333333333333,
              "#9c179e"
             ],
             [
              0.4444444444444444,
              "#bd3786"
             ],
             [
              0.5555555555555556,
              "#d8576b"
             ],
             [
              0.6666666666666666,
              "#ed7953"
             ],
             [
              0.7777777777777778,
              "#fb9f3a"
             ],
             [
              0.8888888888888888,
              "#fdca26"
             ],
             [
              1,
              "#f0f921"
             ]
            ],
            "type": "surface"
           }
          ],
          "table": [
           {
            "cells": {
             "fill": {
              "color": "#EBF0F8"
             },
             "line": {
              "color": "white"
             }
            },
            "header": {
             "fill": {
              "color": "#C8D4E3"
             },
             "line": {
              "color": "white"
             }
            },
            "type": "table"
           }
          ]
         },
         "layout": {
          "annotationdefaults": {
           "arrowcolor": "#2a3f5f",
           "arrowhead": 0,
           "arrowwidth": 1
          },
          "autotypenumbers": "strict",
          "coloraxis": {
           "colorbar": {
            "outlinewidth": 0,
            "ticks": ""
           }
          },
          "colorscale": {
           "diverging": [
            [
             0,
             "#8e0152"
            ],
            [
             0.1,
             "#c51b7d"
            ],
            [
             0.2,
             "#de77ae"
            ],
            [
             0.3,
             "#f1b6da"
            ],
            [
             0.4,
             "#fde0ef"
            ],
            [
             0.5,
             "#f7f7f7"
            ],
            [
             0.6,
             "#e6f5d0"
            ],
            [
             0.7,
             "#b8e186"
            ],
            [
             0.8,
             "#7fbc41"
            ],
            [
             0.9,
             "#4d9221"
            ],
            [
             1,
             "#276419"
            ]
           ],
           "sequential": [
            [
             0,
             "#0d0887"
            ],
            [
             0.1111111111111111,
             "#46039f"
            ],
            [
             0.2222222222222222,
             "#7201a8"
            ],
            [
             0.3333333333333333,
             "#9c179e"
            ],
            [
             0.4444444444444444,
             "#bd3786"
            ],
            [
             0.5555555555555556,
             "#d8576b"
            ],
            [
             0.6666666666666666,
             "#ed7953"
            ],
            [
             0.7777777777777778,
             "#fb9f3a"
            ],
            [
             0.8888888888888888,
             "#fdca26"
            ],
            [
             1,
             "#f0f921"
            ]
           ],
           "sequentialminus": [
            [
             0,
             "#0d0887"
            ],
            [
             0.1111111111111111,
             "#46039f"
            ],
            [
             0.2222222222222222,
             "#7201a8"
            ],
            [
             0.3333333333333333,
             "#9c179e"
            ],
            [
             0.4444444444444444,
             "#bd3786"
            ],
            [
             0.5555555555555556,
             "#d8576b"
            ],
            [
             0.6666666666666666,
             "#ed7953"
            ],
            [
             0.7777777777777778,
             "#fb9f3a"
            ],
            [
             0.8888888888888888,
             "#fdca26"
            ],
            [
             1,
             "#f0f921"
            ]
           ]
          },
          "colorway": [
           "#636efa",
           "#EF553B",
           "#00cc96",
           "#ab63fa",
           "#FFA15A",
           "#19d3f3",
           "#FF6692",
           "#B6E880",
           "#FF97FF",
           "#FECB52"
          ],
          "font": {
           "color": "#2a3f5f"
          },
          "geo": {
           "bgcolor": "white",
           "lakecolor": "white",
           "landcolor": "#E5ECF6",
           "showlakes": true,
           "showland": true,
           "subunitcolor": "white"
          },
          "hoverlabel": {
           "align": "left"
          },
          "hovermode": "closest",
          "mapbox": {
           "style": "light"
          },
          "paper_bgcolor": "white",
          "plot_bgcolor": "#E5ECF6",
          "polar": {
           "angularaxis": {
            "gridcolor": "white",
            "linecolor": "white",
            "ticks": ""
           },
           "bgcolor": "#E5ECF6",
           "radialaxis": {
            "gridcolor": "white",
            "linecolor": "white",
            "ticks": ""
           }
          },
          "scene": {
           "xaxis": {
            "backgroundcolor": "#E5ECF6",
            "gridcolor": "white",
            "gridwidth": 2,
            "linecolor": "white",
            "showbackground": true,
            "ticks": "",
            "zerolinecolor": "white"
           },
           "yaxis": {
            "backgroundcolor": "#E5ECF6",
            "gridcolor": "white",
            "gridwidth": 2,
            "linecolor": "white",
            "showbackground": true,
            "ticks": "",
            "zerolinecolor": "white"
           },
           "zaxis": {
            "backgroundcolor": "#E5ECF6",
            "gridcolor": "white",
            "gridwidth": 2,
            "linecolor": "white",
            "showbackground": true,
            "ticks": "",
            "zerolinecolor": "white"
           }
          },
          "shapedefaults": {
           "line": {
            "color": "#2a3f5f"
           }
          },
          "ternary": {
           "aaxis": {
            "gridcolor": "white",
            "linecolor": "white",
            "ticks": ""
           },
           "baxis": {
            "gridcolor": "white",
            "linecolor": "white",
            "ticks": ""
           },
           "bgcolor": "#E5ECF6",
           "caxis": {
            "gridcolor": "white",
            "linecolor": "white",
            "ticks": ""
           }
          },
          "title": {
           "x": 0.05
          },
          "xaxis": {
           "automargin": true,
           "gridcolor": "white",
           "linecolor": "white",
           "ticks": "",
           "title": {
            "standoff": 15
           },
           "zerolinecolor": "white",
           "zerolinewidth": 2
          },
          "yaxis": {
           "automargin": true,
           "gridcolor": "white",
           "linecolor": "white",
           "ticks": "",
           "title": {
            "standoff": 15
           },
           "zerolinecolor": "white",
           "zerolinewidth": 2
          }
         }
        },
        "title": {
         "font": {
          "color": "#4D5663"
         }
        },
        "xaxis": {
         "gridcolor": "#E1E5ED",
         "showgrid": true,
         "tickfont": {
          "color": "#4D5663"
         },
         "title": {
          "font": {
           "color": "#4D5663"
          },
          "text": ""
         },
         "zerolinecolor": "#E1E5ED"
        },
        "yaxis": {
         "gridcolor": "#E1E5ED",
         "showgrid": true,
         "tickfont": {
          "color": "#4D5663"
         },
         "title": {
          "font": {
           "color": "#4D5663"
          },
          "text": ""
         },
         "zerolinecolor": "#E1E5ED"
        }
       }
      },
      "text/html": [
       "<div>                            <div id=\"f4b7d576-b219-4cf7-8dda-455dbe158a78\" class=\"plotly-graph-div\" style=\"height:525px; width:100%;\"></div>            <script type=\"text/javascript\">                require([\"plotly\"], function(Plotly) {                    window.PLOTLYENV=window.PLOTLYENV || {};\n",
       "                    window.PLOTLYENV.BASE_URL='https://plot.ly';                                    if (document.getElementById(\"f4b7d576-b219-4cf7-8dda-455dbe158a78\")) {                    Plotly.newPlot(                        \"f4b7d576-b219-4cf7-8dda-455dbe158a78\",                        [{\"marker\":{\"color\":\"rgba(255, 153, 51, 0.6)\",\"line\":{\"color\":\"rgba(255, 153, 51, 1.0)\",\"width\":1}},\"name\":\"Values\",\"orientation\":\"v\",\"text\":\"\",\"x\":[\"A\",\"B\",\"C\"],\"y\":[32,43,50],\"type\":\"bar\"}],                        {\"legend\":{\"bgcolor\":\"#F5F6F9\",\"font\":{\"color\":\"#4D5663\"}},\"paper_bgcolor\":\"#F5F6F9\",\"plot_bgcolor\":\"#F5F6F9\",\"template\":{\"data\":{\"barpolar\":[{\"marker\":{\"line\":{\"color\":\"#E5ECF6\",\"width\":0.5},\"pattern\":{\"fillmode\":\"overlay\",\"size\":10,\"solidity\":0.2}},\"type\":\"barpolar\"}],\"bar\":[{\"error_x\":{\"color\":\"#2a3f5f\"},\"error_y\":{\"color\":\"#2a3f5f\"},\"marker\":{\"line\":{\"color\":\"#E5ECF6\",\"width\":0.5},\"pattern\":{\"fillmode\":\"overlay\",\"size\":10,\"solidity\":0.2}},\"type\":\"bar\"}],\"carpet\":[{\"aaxis\":{\"endlinecolor\":\"#2a3f5f\",\"gridcolor\":\"white\",\"linecolor\":\"white\",\"minorgridcolor\":\"white\",\"startlinecolor\":\"#2a3f5f\"},\"baxis\":{\"endlinecolor\":\"#2a3f5f\",\"gridcolor\":\"white\",\"linecolor\":\"white\",\"minorgridcolor\":\"white\",\"startlinecolor\":\"#2a3f5f\"},\"type\":\"carpet\"}],\"choropleth\":[{\"colorbar\":{\"outlinewidth\":0,\"ticks\":\"\"},\"type\":\"choropleth\"}],\"contourcarpet\":[{\"colorbar\":{\"outlinewidth\":0,\"ticks\":\"\"},\"type\":\"contourcarpet\"}],\"contour\":[{\"colorbar\":{\"outlinewidth\":0,\"ticks\":\"\"},\"colorscale\":[[0.0,\"#0d0887\"],[0.1111111111111111,\"#46039f\"],[0.2222222222222222,\"#7201a8\"],[0.3333333333333333,\"#9c179e\"],[0.4444444444444444,\"#bd3786\"],[0.5555555555555556,\"#d8576b\"],[0.6666666666666666,\"#ed7953\"],[0.7777777777777778,\"#fb9f3a\"],[0.8888888888888888,\"#fdca26\"],[1.0,\"#f0f921\"]],\"type\":\"contour\"}],\"heatmapgl\":[{\"colorbar\":{\"outlinewidth\":0,\"ticks\":\"\"},\"colorscale\":[[0.0,\"#0d0887\"],[0.1111111111111111,\"#46039f\"],[0.2222222222222222,\"#7201a8\"],[0.3333333333333333,\"#9c179e\"],[0.4444444444444444,\"#bd3786\"],[0.5555555555555556,\"#d8576b\"],[0.6666666666666666,\"#ed7953\"],[0.7777777777777778,\"#fb9f3a\"],[0.8888888888888888,\"#fdca26\"],[1.0,\"#f0f921\"]],\"type\":\"heatmapgl\"}],\"heatmap\":[{\"colorbar\":{\"outlinewidth\":0,\"ticks\":\"\"},\"colorscale\":[[0.0,\"#0d0887\"],[0.1111111111111111,\"#46039f\"],[0.2222222222222222,\"#7201a8\"],[0.3333333333333333,\"#9c179e\"],[0.4444444444444444,\"#bd3786\"],[0.5555555555555556,\"#d8576b\"],[0.6666666666666666,\"#ed7953\"],[0.7777777777777778,\"#fb9f3a\"],[0.8888888888888888,\"#fdca26\"],[1.0,\"#f0f921\"]],\"type\":\"heatmap\"}],\"histogram2dcontour\":[{\"colorbar\":{\"outlinewidth\":0,\"ticks\":\"\"},\"colorscale\":[[0.0,\"#0d0887\"],[0.1111111111111111,\"#46039f\"],[0.2222222222222222,\"#7201a8\"],[0.3333333333333333,\"#9c179e\"],[0.4444444444444444,\"#bd3786\"],[0.5555555555555556,\"#d8576b\"],[0.6666666666666666,\"#ed7953\"],[0.7777777777777778,\"#fb9f3a\"],[0.8888888888888888,\"#fdca26\"],[1.0,\"#f0f921\"]],\"type\":\"histogram2dcontour\"}],\"histogram2d\":[{\"colorbar\":{\"outlinewidth\":0,\"ticks\":\"\"},\"colorscale\":[[0.0,\"#0d0887\"],[0.1111111111111111,\"#46039f\"],[0.2222222222222222,\"#7201a8\"],[0.3333333333333333,\"#9c179e\"],[0.4444444444444444,\"#bd3786\"],[0.5555555555555556,\"#d8576b\"],[0.6666666666666666,\"#ed7953\"],[0.7777777777777778,\"#fb9f3a\"],[0.8888888888888888,\"#fdca26\"],[1.0,\"#f0f921\"]],\"type\":\"histogram2d\"}],\"histogram\":[{\"marker\":{\"pattern\":{\"fillmode\":\"overlay\",\"size\":10,\"solidity\":0.2}},\"type\":\"histogram\"}],\"mesh3d\":[{\"colorbar\":{\"outlinewidth\":0,\"ticks\":\"\"},\"type\":\"mesh3d\"}],\"parcoords\":[{\"line\":{\"colorbar\":{\"outlinewidth\":0,\"ticks\":\"\"}},\"type\":\"parcoords\"}],\"pie\":[{\"automargin\":true,\"type\":\"pie\"}],\"scatter3d\":[{\"line\":{\"colorbar\":{\"outlinewidth\":0,\"ticks\":\"\"}},\"marker\":{\"colorbar\":{\"outlinewidth\":0,\"ticks\":\"\"}},\"type\":\"scatter3d\"}],\"scattercarpet\":[{\"marker\":{\"colorbar\":{\"outlinewidth\":0,\"ticks\":\"\"}},\"type\":\"scattercarpet\"}],\"scattergeo\":[{\"marker\":{\"colorbar\":{\"outlinewidth\":0,\"ticks\":\"\"}},\"type\":\"scattergeo\"}],\"scattergl\":[{\"marker\":{\"colorbar\":{\"outlinewidth\":0,\"ticks\":\"\"}},\"type\":\"scattergl\"}],\"scattermapbox\":[{\"marker\":{\"colorbar\":{\"outlinewidth\":0,\"ticks\":\"\"}},\"type\":\"scattermapbox\"}],\"scatterpolargl\":[{\"marker\":{\"colorbar\":{\"outlinewidth\":0,\"ticks\":\"\"}},\"type\":\"scatterpolargl\"}],\"scatterpolar\":[{\"marker\":{\"colorbar\":{\"outlinewidth\":0,\"ticks\":\"\"}},\"type\":\"scatterpolar\"}],\"scatter\":[{\"marker\":{\"colorbar\":{\"outlinewidth\":0,\"ticks\":\"\"}},\"type\":\"scatter\"}],\"scatterternary\":[{\"marker\":{\"colorbar\":{\"outlinewidth\":0,\"ticks\":\"\"}},\"type\":\"scatterternary\"}],\"surface\":[{\"colorbar\":{\"outlinewidth\":0,\"ticks\":\"\"},\"colorscale\":[[0.0,\"#0d0887\"],[0.1111111111111111,\"#46039f\"],[0.2222222222222222,\"#7201a8\"],[0.3333333333333333,\"#9c179e\"],[0.4444444444444444,\"#bd3786\"],[0.5555555555555556,\"#d8576b\"],[0.6666666666666666,\"#ed7953\"],[0.7777777777777778,\"#fb9f3a\"],[0.8888888888888888,\"#fdca26\"],[1.0,\"#f0f921\"]],\"type\":\"surface\"}],\"table\":[{\"cells\":{\"fill\":{\"color\":\"#EBF0F8\"},\"line\":{\"color\":\"white\"}},\"header\":{\"fill\":{\"color\":\"#C8D4E3\"},\"line\":{\"color\":\"white\"}},\"type\":\"table\"}]},\"layout\":{\"annotationdefaults\":{\"arrowcolor\":\"#2a3f5f\",\"arrowhead\":0,\"arrowwidth\":1},\"autotypenumbers\":\"strict\",\"coloraxis\":{\"colorbar\":{\"outlinewidth\":0,\"ticks\":\"\"}},\"colorscale\":{\"diverging\":[[0,\"#8e0152\"],[0.1,\"#c51b7d\"],[0.2,\"#de77ae\"],[0.3,\"#f1b6da\"],[0.4,\"#fde0ef\"],[0.5,\"#f7f7f7\"],[0.6,\"#e6f5d0\"],[0.7,\"#b8e186\"],[0.8,\"#7fbc41\"],[0.9,\"#4d9221\"],[1,\"#276419\"]],\"sequential\":[[0.0,\"#0d0887\"],[0.1111111111111111,\"#46039f\"],[0.2222222222222222,\"#7201a8\"],[0.3333333333333333,\"#9c179e\"],[0.4444444444444444,\"#bd3786\"],[0.5555555555555556,\"#d8576b\"],[0.6666666666666666,\"#ed7953\"],[0.7777777777777778,\"#fb9f3a\"],[0.8888888888888888,\"#fdca26\"],[1.0,\"#f0f921\"]],\"sequentialminus\":[[0.0,\"#0d0887\"],[0.1111111111111111,\"#46039f\"],[0.2222222222222222,\"#7201a8\"],[0.3333333333333333,\"#9c179e\"],[0.4444444444444444,\"#bd3786\"],[0.5555555555555556,\"#d8576b\"],[0.6666666666666666,\"#ed7953\"],[0.7777777777777778,\"#fb9f3a\"],[0.8888888888888888,\"#fdca26\"],[1.0,\"#f0f921\"]]},\"colorway\":[\"#636efa\",\"#EF553B\",\"#00cc96\",\"#ab63fa\",\"#FFA15A\",\"#19d3f3\",\"#FF6692\",\"#B6E880\",\"#FF97FF\",\"#FECB52\"],\"font\":{\"color\":\"#2a3f5f\"},\"geo\":{\"bgcolor\":\"white\",\"lakecolor\":\"white\",\"landcolor\":\"#E5ECF6\",\"showlakes\":true,\"showland\":true,\"subunitcolor\":\"white\"},\"hoverlabel\":{\"align\":\"left\"},\"hovermode\":\"closest\",\"mapbox\":{\"style\":\"light\"},\"paper_bgcolor\":\"white\",\"plot_bgcolor\":\"#E5ECF6\",\"polar\":{\"angularaxis\":{\"gridcolor\":\"white\",\"linecolor\":\"white\",\"ticks\":\"\"},\"bgcolor\":\"#E5ECF6\",\"radialaxis\":{\"gridcolor\":\"white\",\"linecolor\":\"white\",\"ticks\":\"\"}},\"scene\":{\"xaxis\":{\"backgroundcolor\":\"#E5ECF6\",\"gridcolor\":\"white\",\"gridwidth\":2,\"linecolor\":\"white\",\"showbackground\":true,\"ticks\":\"\",\"zerolinecolor\":\"white\"},\"yaxis\":{\"backgroundcolor\":\"#E5ECF6\",\"gridcolor\":\"white\",\"gridwidth\":2,\"linecolor\":\"white\",\"showbackground\":true,\"ticks\":\"\",\"zerolinecolor\":\"white\"},\"zaxis\":{\"backgroundcolor\":\"#E5ECF6\",\"gridcolor\":\"white\",\"gridwidth\":2,\"linecolor\":\"white\",\"showbackground\":true,\"ticks\":\"\",\"zerolinecolor\":\"white\"}},\"shapedefaults\":{\"line\":{\"color\":\"#2a3f5f\"}},\"ternary\":{\"aaxis\":{\"gridcolor\":\"white\",\"linecolor\":\"white\",\"ticks\":\"\"},\"baxis\":{\"gridcolor\":\"white\",\"linecolor\":\"white\",\"ticks\":\"\"},\"bgcolor\":\"#E5ECF6\",\"caxis\":{\"gridcolor\":\"white\",\"linecolor\":\"white\",\"ticks\":\"\"}},\"title\":{\"x\":0.05},\"xaxis\":{\"automargin\":true,\"gridcolor\":\"white\",\"linecolor\":\"white\",\"ticks\":\"\",\"title\":{\"standoff\":15},\"zerolinecolor\":\"white\",\"zerolinewidth\":2},\"yaxis\":{\"automargin\":true,\"gridcolor\":\"white\",\"linecolor\":\"white\",\"ticks\":\"\",\"title\":{\"standoff\":15},\"zerolinecolor\":\"white\",\"zerolinewidth\":2}}},\"title\":{\"font\":{\"color\":\"#4D5663\"}},\"xaxis\":{\"gridcolor\":\"#E1E5ED\",\"showgrid\":true,\"tickfont\":{\"color\":\"#4D5663\"},\"title\":{\"font\":{\"color\":\"#4D5663\"},\"text\":\"\"},\"zerolinecolor\":\"#E1E5ED\"},\"yaxis\":{\"gridcolor\":\"#E1E5ED\",\"showgrid\":true,\"tickfont\":{\"color\":\"#4D5663\"},\"title\":{\"font\":{\"color\":\"#4D5663\"},\"text\":\"\"},\"zerolinecolor\":\"#E1E5ED\"}},                        {\"showLink\": true, \"linkText\": \"Export to plot.ly\", \"plotlyServerURL\": \"https://plot.ly\", \"responsive\": true}                    ).then(function(){\n",
       "                            \n",
       "var gd = document.getElementById('f4b7d576-b219-4cf7-8dda-455dbe158a78');\n",
       "var x = new MutationObserver(function (mutations, observer) {{\n",
       "        var display = window.getComputedStyle(gd).display;\n",
       "        if (!display || display === 'none') {{\n",
       "            console.log([gd, 'removed!']);\n",
       "            Plotly.purge(gd);\n",
       "            observer.disconnect();\n",
       "        }}\n",
       "}});\n",
       "\n",
       "// Listen for the removal of the full notebook cells\n",
       "var notebookContainer = gd.closest('#notebook-container');\n",
       "if (notebookContainer) {{\n",
       "    x.observe(notebookContainer, {childList: true});\n",
       "}}\n",
       "\n",
       "// Listen for the clearing of the current output cell\n",
       "var outputEl = gd.closest('.output');\n",
       "if (outputEl) {{\n",
       "    x.observe(outputEl, {childList: true});\n",
       "}}\n",
       "\n",
       "                        })                };                });            </script>        </div>"
      ]
     },
     "metadata": {},
     "output_type": "display_data"
    }
   ],
   "source": [
    "df2.iplot(kind='bar',x='Category',y='Values')"
   ]
  },
  {
   "cell_type": "code",
   "execution_count": 12,
   "metadata": {},
   "outputs": [
    {
     "data": {
      "application/vnd.plotly.v1+json": {
       "config": {
        "linkText": "Export to plot.ly",
        "plotlyServerURL": "https://plot.ly",
        "showLink": true
       },
       "data": [
        {
         "marker": {
          "color": "rgba(255, 153, 51, 0.6)",
          "line": {
           "color": "rgba(255, 153, 51, 1.0)",
           "width": 1
          }
         },
         "name": "None",
         "orientation": "v",
         "text": "",
         "type": "bar",
         "x": [
          "A",
          "B",
          "C",
          "D"
         ],
         "y": [
          100,
          100,
          100,
          100
         ]
        }
       ],
       "layout": {
        "legend": {
         "bgcolor": "#F5F6F9",
         "font": {
          "color": "#4D5663"
         }
        },
        "paper_bgcolor": "#F5F6F9",
        "plot_bgcolor": "#F5F6F9",
        "template": {
         "data": {
          "bar": [
           {
            "error_x": {
             "color": "#2a3f5f"
            },
            "error_y": {
             "color": "#2a3f5f"
            },
            "marker": {
             "line": {
              "color": "#E5ECF6",
              "width": 0.5
             },
             "pattern": {
              "fillmode": "overlay",
              "size": 10,
              "solidity": 0.2
             }
            },
            "type": "bar"
           }
          ],
          "barpolar": [
           {
            "marker": {
             "line": {
              "color": "#E5ECF6",
              "width": 0.5
             },
             "pattern": {
              "fillmode": "overlay",
              "size": 10,
              "solidity": 0.2
             }
            },
            "type": "barpolar"
           }
          ],
          "carpet": [
           {
            "aaxis": {
             "endlinecolor": "#2a3f5f",
             "gridcolor": "white",
             "linecolor": "white",
             "minorgridcolor": "white",
             "startlinecolor": "#2a3f5f"
            },
            "baxis": {
             "endlinecolor": "#2a3f5f",
             "gridcolor": "white",
             "linecolor": "white",
             "minorgridcolor": "white",
             "startlinecolor": "#2a3f5f"
            },
            "type": "carpet"
           }
          ],
          "choropleth": [
           {
            "colorbar": {
             "outlinewidth": 0,
             "ticks": ""
            },
            "type": "choropleth"
           }
          ],
          "contour": [
           {
            "colorbar": {
             "outlinewidth": 0,
             "ticks": ""
            },
            "colorscale": [
             [
              0,
              "#0d0887"
             ],
             [
              0.1111111111111111,
              "#46039f"
             ],
             [
              0.2222222222222222,
              "#7201a8"
             ],
             [
              0.3333333333333333,
              "#9c179e"
             ],
             [
              0.4444444444444444,
              "#bd3786"
             ],
             [
              0.5555555555555556,
              "#d8576b"
             ],
             [
              0.6666666666666666,
              "#ed7953"
             ],
             [
              0.7777777777777778,
              "#fb9f3a"
             ],
             [
              0.8888888888888888,
              "#fdca26"
             ],
             [
              1,
              "#f0f921"
             ]
            ],
            "type": "contour"
           }
          ],
          "contourcarpet": [
           {
            "colorbar": {
             "outlinewidth": 0,
             "ticks": ""
            },
            "type": "contourcarpet"
           }
          ],
          "heatmap": [
           {
            "colorbar": {
             "outlinewidth": 0,
             "ticks": ""
            },
            "colorscale": [
             [
              0,
              "#0d0887"
             ],
             [
              0.1111111111111111,
              "#46039f"
             ],
             [
              0.2222222222222222,
              "#7201a8"
             ],
             [
              0.3333333333333333,
              "#9c179e"
             ],
             [
              0.4444444444444444,
              "#bd3786"
             ],
             [
              0.5555555555555556,
              "#d8576b"
             ],
             [
              0.6666666666666666,
              "#ed7953"
             ],
             [
              0.7777777777777778,
              "#fb9f3a"
             ],
             [
              0.8888888888888888,
              "#fdca26"
             ],
             [
              1,
              "#f0f921"
             ]
            ],
            "type": "heatmap"
           }
          ],
          "heatmapgl": [
           {
            "colorbar": {
             "outlinewidth": 0,
             "ticks": ""
            },
            "colorscale": [
             [
              0,
              "#0d0887"
             ],
             [
              0.1111111111111111,
              "#46039f"
             ],
             [
              0.2222222222222222,
              "#7201a8"
             ],
             [
              0.3333333333333333,
              "#9c179e"
             ],
             [
              0.4444444444444444,
              "#bd3786"
             ],
             [
              0.5555555555555556,
              "#d8576b"
             ],
             [
              0.6666666666666666,
              "#ed7953"
             ],
             [
              0.7777777777777778,
              "#fb9f3a"
             ],
             [
              0.8888888888888888,
              "#fdca26"
             ],
             [
              1,
              "#f0f921"
             ]
            ],
            "type": "heatmapgl"
           }
          ],
          "histogram": [
           {
            "marker": {
             "pattern": {
              "fillmode": "overlay",
              "size": 10,
              "solidity": 0.2
             }
            },
            "type": "histogram"
           }
          ],
          "histogram2d": [
           {
            "colorbar": {
             "outlinewidth": 0,
             "ticks": ""
            },
            "colorscale": [
             [
              0,
              "#0d0887"
             ],
             [
              0.1111111111111111,
              "#46039f"
             ],
             [
              0.2222222222222222,
              "#7201a8"
             ],
             [
              0.3333333333333333,
              "#9c179e"
             ],
             [
              0.4444444444444444,
              "#bd3786"
             ],
             [
              0.5555555555555556,
              "#d8576b"
             ],
             [
              0.6666666666666666,
              "#ed7953"
             ],
             [
              0.7777777777777778,
              "#fb9f3a"
             ],
             [
              0.8888888888888888,
              "#fdca26"
             ],
             [
              1,
              "#f0f921"
             ]
            ],
            "type": "histogram2d"
           }
          ],
          "histogram2dcontour": [
           {
            "colorbar": {
             "outlinewidth": 0,
             "ticks": ""
            },
            "colorscale": [
             [
              0,
              "#0d0887"
             ],
             [
              0.1111111111111111,
              "#46039f"
             ],
             [
              0.2222222222222222,
              "#7201a8"
             ],
             [
              0.3333333333333333,
              "#9c179e"
             ],
             [
              0.4444444444444444,
              "#bd3786"
             ],
             [
              0.5555555555555556,
              "#d8576b"
             ],
             [
              0.6666666666666666,
              "#ed7953"
             ],
             [
              0.7777777777777778,
              "#fb9f3a"
             ],
             [
              0.8888888888888888,
              "#fdca26"
             ],
             [
              1,
              "#f0f921"
             ]
            ],
            "type": "histogram2dcontour"
           }
          ],
          "mesh3d": [
           {
            "colorbar": {
             "outlinewidth": 0,
             "ticks": ""
            },
            "type": "mesh3d"
           }
          ],
          "parcoords": [
           {
            "line": {
             "colorbar": {
              "outlinewidth": 0,
              "ticks": ""
             }
            },
            "type": "parcoords"
           }
          ],
          "pie": [
           {
            "automargin": true,
            "type": "pie"
           }
          ],
          "scatter": [
           {
            "marker": {
             "colorbar": {
              "outlinewidth": 0,
              "ticks": ""
             }
            },
            "type": "scatter"
           }
          ],
          "scatter3d": [
           {
            "line": {
             "colorbar": {
              "outlinewidth": 0,
              "ticks": ""
             }
            },
            "marker": {
             "colorbar": {
              "outlinewidth": 0,
              "ticks": ""
             }
            },
            "type": "scatter3d"
           }
          ],
          "scattercarpet": [
           {
            "marker": {
             "colorbar": {
              "outlinewidth": 0,
              "ticks": ""
             }
            },
            "type": "scattercarpet"
           }
          ],
          "scattergeo": [
           {
            "marker": {
             "colorbar": {
              "outlinewidth": 0,
              "ticks": ""
             }
            },
            "type": "scattergeo"
           }
          ],
          "scattergl": [
           {
            "marker": {
             "colorbar": {
              "outlinewidth": 0,
              "ticks": ""
             }
            },
            "type": "scattergl"
           }
          ],
          "scattermapbox": [
           {
            "marker": {
             "colorbar": {
              "outlinewidth": 0,
              "ticks": ""
             }
            },
            "type": "scattermapbox"
           }
          ],
          "scatterpolar": [
           {
            "marker": {
             "colorbar": {
              "outlinewidth": 0,
              "ticks": ""
             }
            },
            "type": "scatterpolar"
           }
          ],
          "scatterpolargl": [
           {
            "marker": {
             "colorbar": {
              "outlinewidth": 0,
              "ticks": ""
             }
            },
            "type": "scatterpolargl"
           }
          ],
          "scatterternary": [
           {
            "marker": {
             "colorbar": {
              "outlinewidth": 0,
              "ticks": ""
             }
            },
            "type": "scatterternary"
           }
          ],
          "surface": [
           {
            "colorbar": {
             "outlinewidth": 0,
             "ticks": ""
            },
            "colorscale": [
             [
              0,
              "#0d0887"
             ],
             [
              0.1111111111111111,
              "#46039f"
             ],
             [
              0.2222222222222222,
              "#7201a8"
             ],
             [
              0.3333333333333333,
              "#9c179e"
             ],
             [
              0.4444444444444444,
              "#bd3786"
             ],
             [
              0.5555555555555556,
              "#d8576b"
             ],
             [
              0.6666666666666666,
              "#ed7953"
             ],
             [
              0.7777777777777778,
              "#fb9f3a"
             ],
             [
              0.8888888888888888,
              "#fdca26"
             ],
             [
              1,
              "#f0f921"
             ]
            ],
            "type": "surface"
           }
          ],
          "table": [
           {
            "cells": {
             "fill": {
              "color": "#EBF0F8"
             },
             "line": {
              "color": "white"
             }
            },
            "header": {
             "fill": {
              "color": "#C8D4E3"
             },
             "line": {
              "color": "white"
             }
            },
            "type": "table"
           }
          ]
         },
         "layout": {
          "annotationdefaults": {
           "arrowcolor": "#2a3f5f",
           "arrowhead": 0,
           "arrowwidth": 1
          },
          "autotypenumbers": "strict",
          "coloraxis": {
           "colorbar": {
            "outlinewidth": 0,
            "ticks": ""
           }
          },
          "colorscale": {
           "diverging": [
            [
             0,
             "#8e0152"
            ],
            [
             0.1,
             "#c51b7d"
            ],
            [
             0.2,
             "#de77ae"
            ],
            [
             0.3,
             "#f1b6da"
            ],
            [
             0.4,
             "#fde0ef"
            ],
            [
             0.5,
             "#f7f7f7"
            ],
            [
             0.6,
             "#e6f5d0"
            ],
            [
             0.7,
             "#b8e186"
            ],
            [
             0.8,
             "#7fbc41"
            ],
            [
             0.9,
             "#4d9221"
            ],
            [
             1,
             "#276419"
            ]
           ],
           "sequential": [
            [
             0,
             "#0d0887"
            ],
            [
             0.1111111111111111,
             "#46039f"
            ],
            [
             0.2222222222222222,
             "#7201a8"
            ],
            [
             0.3333333333333333,
             "#9c179e"
            ],
            [
             0.4444444444444444,
             "#bd3786"
            ],
            [
             0.5555555555555556,
             "#d8576b"
            ],
            [
             0.6666666666666666,
             "#ed7953"
            ],
            [
             0.7777777777777778,
             "#fb9f3a"
            ],
            [
             0.8888888888888888,
             "#fdca26"
            ],
            [
             1,
             "#f0f921"
            ]
           ],
           "sequentialminus": [
            [
             0,
             "#0d0887"
            ],
            [
             0.1111111111111111,
             "#46039f"
            ],
            [
             0.2222222222222222,
             "#7201a8"
            ],
            [
             0.3333333333333333,
             "#9c179e"
            ],
            [
             0.4444444444444444,
             "#bd3786"
            ],
            [
             0.5555555555555556,
             "#d8576b"
            ],
            [
             0.6666666666666666,
             "#ed7953"
            ],
            [
             0.7777777777777778,
             "#fb9f3a"
            ],
            [
             0.8888888888888888,
             "#fdca26"
            ],
            [
             1,
             "#f0f921"
            ]
           ]
          },
          "colorway": [
           "#636efa",
           "#EF553B",
           "#00cc96",
           "#ab63fa",
           "#FFA15A",
           "#19d3f3",
           "#FF6692",
           "#B6E880",
           "#FF97FF",
           "#FECB52"
          ],
          "font": {
           "color": "#2a3f5f"
          },
          "geo": {
           "bgcolor": "white",
           "lakecolor": "white",
           "landcolor": "#E5ECF6",
           "showlakes": true,
           "showland": true,
           "subunitcolor": "white"
          },
          "hoverlabel": {
           "align": "left"
          },
          "hovermode": "closest",
          "mapbox": {
           "style": "light"
          },
          "paper_bgcolor": "white",
          "plot_bgcolor": "#E5ECF6",
          "polar": {
           "angularaxis": {
            "gridcolor": "white",
            "linecolor": "white",
            "ticks": ""
           },
           "bgcolor": "#E5ECF6",
           "radialaxis": {
            "gridcolor": "white",
            "linecolor": "white",
            "ticks": ""
           }
          },
          "scene": {
           "xaxis": {
            "backgroundcolor": "#E5ECF6",
            "gridcolor": "white",
            "gridwidth": 2,
            "linecolor": "white",
            "showbackground": true,
            "ticks": "",
            "zerolinecolor": "white"
           },
           "yaxis": {
            "backgroundcolor": "#E5ECF6",
            "gridcolor": "white",
            "gridwidth": 2,
            "linecolor": "white",
            "showbackground": true,
            "ticks": "",
            "zerolinecolor": "white"
           },
           "zaxis": {
            "backgroundcolor": "#E5ECF6",
            "gridcolor": "white",
            "gridwidth": 2,
            "linecolor": "white",
            "showbackground": true,
            "ticks": "",
            "zerolinecolor": "white"
           }
          },
          "shapedefaults": {
           "line": {
            "color": "#2a3f5f"
           }
          },
          "ternary": {
           "aaxis": {
            "gridcolor": "white",
            "linecolor": "white",
            "ticks": ""
           },
           "baxis": {
            "gridcolor": "white",
            "linecolor": "white",
            "ticks": ""
           },
           "bgcolor": "#E5ECF6",
           "caxis": {
            "gridcolor": "white",
            "linecolor": "white",
            "ticks": ""
           }
          },
          "title": {
           "x": 0.05
          },
          "xaxis": {
           "automargin": true,
           "gridcolor": "white",
           "linecolor": "white",
           "ticks": "",
           "title": {
            "standoff": 15
           },
           "zerolinecolor": "white",
           "zerolinewidth": 2
          },
          "yaxis": {
           "automargin": true,
           "gridcolor": "white",
           "linecolor": "white",
           "ticks": "",
           "title": {
            "standoff": 15
           },
           "zerolinecolor": "white",
           "zerolinewidth": 2
          }
         }
        },
        "title": {
         "font": {
          "color": "#4D5663"
         }
        },
        "xaxis": {
         "gridcolor": "#E1E5ED",
         "showgrid": true,
         "tickfont": {
          "color": "#4D5663"
         },
         "title": {
          "font": {
           "color": "#4D5663"
          },
          "text": ""
         },
         "zerolinecolor": "#E1E5ED"
        },
        "yaxis": {
         "gridcolor": "#E1E5ED",
         "showgrid": true,
         "tickfont": {
          "color": "#4D5663"
         },
         "title": {
          "font": {
           "color": "#4D5663"
          },
          "text": ""
         },
         "zerolinecolor": "#E1E5ED"
        }
       }
      },
      "text/html": [
       "<div>                            <div id=\"85a8e840-855d-4013-98a6-9ea2e257b44f\" class=\"plotly-graph-div\" style=\"height:525px; width:100%;\"></div>            <script type=\"text/javascript\">                require([\"plotly\"], function(Plotly) {                    window.PLOTLYENV=window.PLOTLYENV || {};\n",
       "                    window.PLOTLYENV.BASE_URL='https://plot.ly';                                    if (document.getElementById(\"85a8e840-855d-4013-98a6-9ea2e257b44f\")) {                    Plotly.newPlot(                        \"85a8e840-855d-4013-98a6-9ea2e257b44f\",                        [{\"marker\":{\"color\":\"rgba(255, 153, 51, 0.6)\",\"line\":{\"color\":\"rgba(255, 153, 51, 1.0)\",\"width\":1}},\"name\":\"None\",\"orientation\":\"v\",\"text\":\"\",\"x\":[\"A\",\"B\",\"C\",\"D\"],\"y\":[100,100,100,100],\"type\":\"bar\"}],                        {\"legend\":{\"bgcolor\":\"#F5F6F9\",\"font\":{\"color\":\"#4D5663\"}},\"paper_bgcolor\":\"#F5F6F9\",\"plot_bgcolor\":\"#F5F6F9\",\"template\":{\"data\":{\"barpolar\":[{\"marker\":{\"line\":{\"color\":\"#E5ECF6\",\"width\":0.5},\"pattern\":{\"fillmode\":\"overlay\",\"size\":10,\"solidity\":0.2}},\"type\":\"barpolar\"}],\"bar\":[{\"error_x\":{\"color\":\"#2a3f5f\"},\"error_y\":{\"color\":\"#2a3f5f\"},\"marker\":{\"line\":{\"color\":\"#E5ECF6\",\"width\":0.5},\"pattern\":{\"fillmode\":\"overlay\",\"size\":10,\"solidity\":0.2}},\"type\":\"bar\"}],\"carpet\":[{\"aaxis\":{\"endlinecolor\":\"#2a3f5f\",\"gridcolor\":\"white\",\"linecolor\":\"white\",\"minorgridcolor\":\"white\",\"startlinecolor\":\"#2a3f5f\"},\"baxis\":{\"endlinecolor\":\"#2a3f5f\",\"gridcolor\":\"white\",\"linecolor\":\"white\",\"minorgridcolor\":\"white\",\"startlinecolor\":\"#2a3f5f\"},\"type\":\"carpet\"}],\"choropleth\":[{\"colorbar\":{\"outlinewidth\":0,\"ticks\":\"\"},\"type\":\"choropleth\"}],\"contourcarpet\":[{\"colorbar\":{\"outlinewidth\":0,\"ticks\":\"\"},\"type\":\"contourcarpet\"}],\"contour\":[{\"colorbar\":{\"outlinewidth\":0,\"ticks\":\"\"},\"colorscale\":[[0.0,\"#0d0887\"],[0.1111111111111111,\"#46039f\"],[0.2222222222222222,\"#7201a8\"],[0.3333333333333333,\"#9c179e\"],[0.4444444444444444,\"#bd3786\"],[0.5555555555555556,\"#d8576b\"],[0.6666666666666666,\"#ed7953\"],[0.7777777777777778,\"#fb9f3a\"],[0.8888888888888888,\"#fdca26\"],[1.0,\"#f0f921\"]],\"type\":\"contour\"}],\"heatmapgl\":[{\"colorbar\":{\"outlinewidth\":0,\"ticks\":\"\"},\"colorscale\":[[0.0,\"#0d0887\"],[0.1111111111111111,\"#46039f\"],[0.2222222222222222,\"#7201a8\"],[0.3333333333333333,\"#9c179e\"],[0.4444444444444444,\"#bd3786\"],[0.5555555555555556,\"#d8576b\"],[0.6666666666666666,\"#ed7953\"],[0.7777777777777778,\"#fb9f3a\"],[0.8888888888888888,\"#fdca26\"],[1.0,\"#f0f921\"]],\"type\":\"heatmapgl\"}],\"heatmap\":[{\"colorbar\":{\"outlinewidth\":0,\"ticks\":\"\"},\"colorscale\":[[0.0,\"#0d0887\"],[0.1111111111111111,\"#46039f\"],[0.2222222222222222,\"#7201a8\"],[0.3333333333333333,\"#9c179e\"],[0.4444444444444444,\"#bd3786\"],[0.5555555555555556,\"#d8576b\"],[0.6666666666666666,\"#ed7953\"],[0.7777777777777778,\"#fb9f3a\"],[0.8888888888888888,\"#fdca26\"],[1.0,\"#f0f921\"]],\"type\":\"heatmap\"}],\"histogram2dcontour\":[{\"colorbar\":{\"outlinewidth\":0,\"ticks\":\"\"},\"colorscale\":[[0.0,\"#0d0887\"],[0.1111111111111111,\"#46039f\"],[0.2222222222222222,\"#7201a8\"],[0.3333333333333333,\"#9c179e\"],[0.4444444444444444,\"#bd3786\"],[0.5555555555555556,\"#d8576b\"],[0.6666666666666666,\"#ed7953\"],[0.7777777777777778,\"#fb9f3a\"],[0.8888888888888888,\"#fdca26\"],[1.0,\"#f0f921\"]],\"type\":\"histogram2dcontour\"}],\"histogram2d\":[{\"colorbar\":{\"outlinewidth\":0,\"ticks\":\"\"},\"colorscale\":[[0.0,\"#0d0887\"],[0.1111111111111111,\"#46039f\"],[0.2222222222222222,\"#7201a8\"],[0.3333333333333333,\"#9c179e\"],[0.4444444444444444,\"#bd3786\"],[0.5555555555555556,\"#d8576b\"],[0.6666666666666666,\"#ed7953\"],[0.7777777777777778,\"#fb9f3a\"],[0.8888888888888888,\"#fdca26\"],[1.0,\"#f0f921\"]],\"type\":\"histogram2d\"}],\"histogram\":[{\"marker\":{\"pattern\":{\"fillmode\":\"overlay\",\"size\":10,\"solidity\":0.2}},\"type\":\"histogram\"}],\"mesh3d\":[{\"colorbar\":{\"outlinewidth\":0,\"ticks\":\"\"},\"type\":\"mesh3d\"}],\"parcoords\":[{\"line\":{\"colorbar\":{\"outlinewidth\":0,\"ticks\":\"\"}},\"type\":\"parcoords\"}],\"pie\":[{\"automargin\":true,\"type\":\"pie\"}],\"scatter3d\":[{\"line\":{\"colorbar\":{\"outlinewidth\":0,\"ticks\":\"\"}},\"marker\":{\"colorbar\":{\"outlinewidth\":0,\"ticks\":\"\"}},\"type\":\"scatter3d\"}],\"scattercarpet\":[{\"marker\":{\"colorbar\":{\"outlinewidth\":0,\"ticks\":\"\"}},\"type\":\"scattercarpet\"}],\"scattergeo\":[{\"marker\":{\"colorbar\":{\"outlinewidth\":0,\"ticks\":\"\"}},\"type\":\"scattergeo\"}],\"scattergl\":[{\"marker\":{\"colorbar\":{\"outlinewidth\":0,\"ticks\":\"\"}},\"type\":\"scattergl\"}],\"scattermapbox\":[{\"marker\":{\"colorbar\":{\"outlinewidth\":0,\"ticks\":\"\"}},\"type\":\"scattermapbox\"}],\"scatterpolargl\":[{\"marker\":{\"colorbar\":{\"outlinewidth\":0,\"ticks\":\"\"}},\"type\":\"scatterpolargl\"}],\"scatterpolar\":[{\"marker\":{\"colorbar\":{\"outlinewidth\":0,\"ticks\":\"\"}},\"type\":\"scatterpolar\"}],\"scatter\":[{\"marker\":{\"colorbar\":{\"outlinewidth\":0,\"ticks\":\"\"}},\"type\":\"scatter\"}],\"scatterternary\":[{\"marker\":{\"colorbar\":{\"outlinewidth\":0,\"ticks\":\"\"}},\"type\":\"scatterternary\"}],\"surface\":[{\"colorbar\":{\"outlinewidth\":0,\"ticks\":\"\"},\"colorscale\":[[0.0,\"#0d0887\"],[0.1111111111111111,\"#46039f\"],[0.2222222222222222,\"#7201a8\"],[0.3333333333333333,\"#9c179e\"],[0.4444444444444444,\"#bd3786\"],[0.5555555555555556,\"#d8576b\"],[0.6666666666666666,\"#ed7953\"],[0.7777777777777778,\"#fb9f3a\"],[0.8888888888888888,\"#fdca26\"],[1.0,\"#f0f921\"]],\"type\":\"surface\"}],\"table\":[{\"cells\":{\"fill\":{\"color\":\"#EBF0F8\"},\"line\":{\"color\":\"white\"}},\"header\":{\"fill\":{\"color\":\"#C8D4E3\"},\"line\":{\"color\":\"white\"}},\"type\":\"table\"}]},\"layout\":{\"annotationdefaults\":{\"arrowcolor\":\"#2a3f5f\",\"arrowhead\":0,\"arrowwidth\":1},\"autotypenumbers\":\"strict\",\"coloraxis\":{\"colorbar\":{\"outlinewidth\":0,\"ticks\":\"\"}},\"colorscale\":{\"diverging\":[[0,\"#8e0152\"],[0.1,\"#c51b7d\"],[0.2,\"#de77ae\"],[0.3,\"#f1b6da\"],[0.4,\"#fde0ef\"],[0.5,\"#f7f7f7\"],[0.6,\"#e6f5d0\"],[0.7,\"#b8e186\"],[0.8,\"#7fbc41\"],[0.9,\"#4d9221\"],[1,\"#276419\"]],\"sequential\":[[0.0,\"#0d0887\"],[0.1111111111111111,\"#46039f\"],[0.2222222222222222,\"#7201a8\"],[0.3333333333333333,\"#9c179e\"],[0.4444444444444444,\"#bd3786\"],[0.5555555555555556,\"#d8576b\"],[0.6666666666666666,\"#ed7953\"],[0.7777777777777778,\"#fb9f3a\"],[0.8888888888888888,\"#fdca26\"],[1.0,\"#f0f921\"]],\"sequentialminus\":[[0.0,\"#0d0887\"],[0.1111111111111111,\"#46039f\"],[0.2222222222222222,\"#7201a8\"],[0.3333333333333333,\"#9c179e\"],[0.4444444444444444,\"#bd3786\"],[0.5555555555555556,\"#d8576b\"],[0.6666666666666666,\"#ed7953\"],[0.7777777777777778,\"#fb9f3a\"],[0.8888888888888888,\"#fdca26\"],[1.0,\"#f0f921\"]]},\"colorway\":[\"#636efa\",\"#EF553B\",\"#00cc96\",\"#ab63fa\",\"#FFA15A\",\"#19d3f3\",\"#FF6692\",\"#B6E880\",\"#FF97FF\",\"#FECB52\"],\"font\":{\"color\":\"#2a3f5f\"},\"geo\":{\"bgcolor\":\"white\",\"lakecolor\":\"white\",\"landcolor\":\"#E5ECF6\",\"showlakes\":true,\"showland\":true,\"subunitcolor\":\"white\"},\"hoverlabel\":{\"align\":\"left\"},\"hovermode\":\"closest\",\"mapbox\":{\"style\":\"light\"},\"paper_bgcolor\":\"white\",\"plot_bgcolor\":\"#E5ECF6\",\"polar\":{\"angularaxis\":{\"gridcolor\":\"white\",\"linecolor\":\"white\",\"ticks\":\"\"},\"bgcolor\":\"#E5ECF6\",\"radialaxis\":{\"gridcolor\":\"white\",\"linecolor\":\"white\",\"ticks\":\"\"}},\"scene\":{\"xaxis\":{\"backgroundcolor\":\"#E5ECF6\",\"gridcolor\":\"white\",\"gridwidth\":2,\"linecolor\":\"white\",\"showbackground\":true,\"ticks\":\"\",\"zerolinecolor\":\"white\"},\"yaxis\":{\"backgroundcolor\":\"#E5ECF6\",\"gridcolor\":\"white\",\"gridwidth\":2,\"linecolor\":\"white\",\"showbackground\":true,\"ticks\":\"\",\"zerolinecolor\":\"white\"},\"zaxis\":{\"backgroundcolor\":\"#E5ECF6\",\"gridcolor\":\"white\",\"gridwidth\":2,\"linecolor\":\"white\",\"showbackground\":true,\"ticks\":\"\",\"zerolinecolor\":\"white\"}},\"shapedefaults\":{\"line\":{\"color\":\"#2a3f5f\"}},\"ternary\":{\"aaxis\":{\"gridcolor\":\"white\",\"linecolor\":\"white\",\"ticks\":\"\"},\"baxis\":{\"gridcolor\":\"white\",\"linecolor\":\"white\",\"ticks\":\"\"},\"bgcolor\":\"#E5ECF6\",\"caxis\":{\"gridcolor\":\"white\",\"linecolor\":\"white\",\"ticks\":\"\"}},\"title\":{\"x\":0.05},\"xaxis\":{\"automargin\":true,\"gridcolor\":\"white\",\"linecolor\":\"white\",\"ticks\":\"\",\"title\":{\"standoff\":15},\"zerolinecolor\":\"white\",\"zerolinewidth\":2},\"yaxis\":{\"automargin\":true,\"gridcolor\":\"white\",\"linecolor\":\"white\",\"ticks\":\"\",\"title\":{\"standoff\":15},\"zerolinecolor\":\"white\",\"zerolinewidth\":2}}},\"title\":{\"font\":{\"color\":\"#4D5663\"}},\"xaxis\":{\"gridcolor\":\"#E1E5ED\",\"showgrid\":true,\"tickfont\":{\"color\":\"#4D5663\"},\"title\":{\"font\":{\"color\":\"#4D5663\"},\"text\":\"\"},\"zerolinecolor\":\"#E1E5ED\"},\"yaxis\":{\"gridcolor\":\"#E1E5ED\",\"showgrid\":true,\"tickfont\":{\"color\":\"#4D5663\"},\"title\":{\"font\":{\"color\":\"#4D5663\"},\"text\":\"\"},\"zerolinecolor\":\"#E1E5ED\"}},                        {\"showLink\": true, \"linkText\": \"Export to plot.ly\", \"plotlyServerURL\": \"https://plot.ly\", \"responsive\": true}                    ).then(function(){\n",
       "                            \n",
       "var gd = document.getElementById('85a8e840-855d-4013-98a6-9ea2e257b44f');\n",
       "var x = new MutationObserver(function (mutations, observer) {{\n",
       "        var display = window.getComputedStyle(gd).display;\n",
       "        if (!display || display === 'none') {{\n",
       "            console.log([gd, 'removed!']);\n",
       "            Plotly.purge(gd);\n",
       "            observer.disconnect();\n",
       "        }}\n",
       "}});\n",
       "\n",
       "// Listen for the removal of the full notebook cells\n",
       "var notebookContainer = gd.closest('#notebook-container');\n",
       "if (notebookContainer) {{\n",
       "    x.observe(notebookContainer, {childList: true});\n",
       "}}\n",
       "\n",
       "// Listen for the clearing of the current output cell\n",
       "var outputEl = gd.closest('.output');\n",
       "if (outputEl) {{\n",
       "    x.observe(outputEl, {childList: true});\n",
       "}}\n",
       "\n",
       "                        })                };                });            </script>        </div>"
      ]
     },
     "metadata": {},
     "output_type": "display_data"
    }
   ],
   "source": [
    "df.count().iplot(kind='bar')"
   ]
  },
  {
   "cell_type": "markdown",
   "metadata": {},
   "source": [
    "## Boxplots"
   ]
  },
  {
   "cell_type": "code",
   "execution_count": 13,
   "metadata": {},
   "outputs": [
    {
     "data": {
      "application/vnd.plotly.v1+json": {
       "config": {
        "linkText": "Export to plot.ly",
        "plotlyServerURL": "https://plot.ly",
        "showLink": true
       },
       "data": [
        {
         "boxpoints": false,
         "line": {
          "width": 1.3
         },
         "marker": {
          "color": "rgba(255, 153, 51, 1.0)"
         },
         "name": "A",
         "orientation": "v",
         "type": "box",
         "y": [
          -0.6005272572897303,
          0.4244128074582704,
          -0.4409073355427527,
          0.8765579194110584,
          0.113261090341445,
          -0.4734724357527685,
          -0.5188427551304841,
          1.6014103864400826,
          -1.9072129048619137,
          0.13973295867986582,
          0.1702359906906131,
          -0.05052875998036999,
          0.20326605679474508,
          -0.6068987450085842,
          0.01901108295103341,
          1.693422376323972,
          0.5845625651895274,
          0.4308434776212245,
          2.0362362984046185,
          -0.37880189101535205,
          0.5311977539175295,
          0.2225490230732347,
          0.6105435706552877,
          0.6012397714386573,
          -0.49798029829730084,
          -1.5788557684254483,
          -1.1725339762475635,
          -0.7429584143370385,
          -1.3033130409601439,
          -0.1481121095374952,
          -0.08987450109740919,
          0.8634887289963715,
          1.3154289749839931,
          -0.1458612244300904,
          0.0446654478807579,
          -0.48504782159620513,
          -1.617495602420557,
          -0.731694949591574,
          0.3821784833214193,
          -0.5662280029457727,
          0.21408484014185408,
          -1.1289387995158675,
          0.7269769388895451,
          -0.9011091704893577,
          -2.535588699140916,
          -0.43260366467435213,
          -0.15376731612435343,
          0.39964626739478737,
          -0.11233023781221708,
          1.554395766979265,
          -0.4308410579333943,
          -1.0882608871453134,
          -0.30491823751325103,
          -2.7204294407752174,
          0.6273722477938712,
          -0.8654492756421258,
          1.9183759306233856,
          1.804196834549093,
          -0.15729206200947618,
          1.062606251289599,
          0.7294892417546102,
          1.734507463508707,
          -0.9622969360364804,
          -1.22800512027324,
          1.5476998702992784,
          0.20212868111909074,
          -0.2287354920448391,
          -1.6256267328555414,
          0.11805653097824363,
          -0.12569222392741497,
          0.6344132872644095,
          0.13955461698175808,
          -0.10892925133430031,
          0.45304222972607944,
          -0.2615053375643434,
          -0.22411611506996273,
          1.7141971468445547,
          -1.5018373663357867,
          -0.38328035963769436,
          -0.2043652018260254,
          -0.17657931439914137,
          -0.9963628208785296,
          0.6107128707648545,
          -0.47340018232802844,
          0.9359112776474541,
          -1.341473246861999,
          1.1182266906281662,
          2.353288351782029,
          -0.846808712188778,
          1.372132144431435,
          0.9999474752472598,
          1.5804495493664477,
          2.04568628243262,
          0.9797750995650546,
          -0.1787771713442234,
          -0.027427461421897097,
          1.476220213935394,
          0.7695677105340464,
          -1.3060175064144073,
          0.3037509273928669
         ]
        },
        {
         "boxpoints": false,
         "line": {
          "width": 1.3
         },
         "marker": {
          "color": "rgba(55, 128, 191, 1.0)"
         },
         "name": "B",
         "orientation": "v",
         "type": "box",
         "y": [
          0.03354789955792382,
          0.8070604927554935,
          -0.20541484675194602,
          1.4129841433086383,
          1.9008318459139721,
          0.09300179845913471,
          0.5736886980820219,
          -0.19687274864419568,
          0.6281570041414841,
          0.7239231301056195,
          1.7173841614342737,
          1.3988000668176435,
          -0.8184742870915912,
          0.8967890017662526,
          -0.9153149454880518,
          -1.1625286021506622,
          0.27044631838323935,
          0.17279082609833252,
          -0.4838988802454175,
          -0.1985370723300537,
          0.45925580298117624,
          -0.466204510726407,
          -1.1902078376153176,
          -1.9423008579291474,
          0.17112423404743934,
          -0.8855102151597386,
          -0.06814690123720969,
          0.007010359856248485,
          -1.137822077002745,
          -2.308475853373866,
          -1.4624081721848106,
          -2.3647837278310138,
          -0.04945163262821755,
          -1.2724024016855202,
          -0.18420164801720115,
          0.4937061618303972,
          0.8033638747875229,
          -0.5036382720105074,
          0.8650082134002659,
          1.3913484083238983,
          -0.20620902568661237,
          0.25801694867934716,
          1.2157655167065369,
          1.3728410412263647,
          -0.8789152030004874,
          2.732310897045035,
          -1.3190874577850344,
          1.397284606765221,
          -0.278408549922117,
          1.6045608853438653,
          0.4205862015249162,
          0.24586301293823862,
          -0.1624515223851526,
          0.004887071810461409,
          -0.3569192879972979,
          0.6108006930348017,
          0.5384132600405072,
          1.1870638570610101,
          -0.8103379700987837,
          1.025975673439183,
          -0.4868784353162769,
          1.099447359391673,
          2.126150863729017,
          -0.8853264199162242,
          -0.3906919892588175,
          0.7644501291980417,
          -0.33172508223653285,
          -1.673993229937289,
          0.7820730124854408,
          0.25078668823209227,
          0.060357828532477814,
          0.7135707361779056,
          1.9964468811846894,
          0.15720488025605775,
          -0.2914659228838468,
          0.5161998499046359,
          -1.2785898286810256,
          1.4256047826992324,
          0.7069658123112345,
          1.8546235482138067,
          1.3346021424253542,
          1.1148461334157418,
          0.026985915141145175,
          1.397096502991006,
          2.045547530911009,
          1.2087274247672462,
          -0.02902799114594827,
          0.013673037218682812,
          -0.7223314143978876,
          -0.19675613251686933,
          0.19737307211466443,
          1.8029377596310276,
          -0.5129101312888362,
          1.9020237049129,
          0.5392281905319504,
          -1.5195104524428904,
          0.45090724709228314,
          -0.4605983828812109,
          0.8367771087907409,
          0.4522326050616165
         ]
        },
        {
         "boxpoints": false,
         "line": {
          "width": 1.3
         },
         "marker": {
          "color": "rgba(50, 171, 96, 1.0)"
         },
         "name": "C",
         "orientation": "v",
         "type": "box",
         "y": [
          0.005820026315235889,
          -0.944252919775402,
          -1.0492272328413648,
          0.22757054265445817,
          1.3777527492775783,
          -0.3489891370565893,
          0.44483703810824815,
          0.22303942724877285,
          -0.22881401479458185,
          0.6798059058144068,
          0.18454890869296758,
          -0.7429996997754517,
          -0.3150553275072614,
          0.6696838774410224,
          0.08971821990446563,
          -0.42078443345254213,
          -1.805350538008814,
          -0.5474542341282794,
          -2.640802056449358,
          0.29380406391663294,
          -0.5973603189213698,
          -0.8373122602203762,
          0.7911481136573829,
          1.3612366390345785,
          0.3260243510315011,
          -0.4381030244611688,
          -0.5183108164385883,
          0.575393066106595,
          0.002261293668035416,
          0.9480312712016943,
          -1.2518700264626437,
          -0.8636678495397886,
          0.1828220938574215,
          0.4651131859911088,
          0.6600216055864502,
          -0.35580438892131067,
          -0.28642366363561245,
          -1.0840761390606588,
          0.3713304208912552,
          -1.2284361640922536,
          0.9686348277002187,
          1.3296732876776354,
          1.177937948942286,
          0.39965380388345095,
          -1.4122223568957806,
          -0.176116020072892,
          1.138709732872558,
          0.35351407573453175,
          -0.5414400307940884,
          -0.07162348918388448,
          -1.2162767417108231,
          0.7123174537161838,
          -1.028955460810404,
          0.6156977305294409,
          1.178058898104863,
          0.0377000609650166,
          -1.3230000941088274,
          2.037772260676816,
          1.1490198058614232,
          -0.8536579018943958,
          0.30841573406451267,
          0.2254774591549979,
          0.4682975588086075,
          0.437699098955465,
          0.7709299476036803,
          1.3701566477949783,
          -1.0016567278174484,
          -0.028441481653694128,
          1.0801540051188552,
          0.5285911737990813,
          0.021650992628812524,
          -1.373511680614175,
          0.8183418801812649,
          1.7337369519516643,
          0.8938198365706271,
          0.4407902101656733,
          -0.5053911283601059,
          -1.9408740723430784,
          0.6732190978860576,
          0.09154499420627218,
          1.2327283294517688,
          0.17262182684022867,
          0.34415223930326977,
          1.7428745760179878,
          -2.0312787609735263,
          0.654249937369822,
          0.10880300326304189,
          0.44987552934980357,
          -0.24137878303951626,
          0.0072028249462114165,
          -0.7928376290036848,
          0.4196989942621943,
          0.6329049798142696,
          -0.20733444657212877,
          -0.9271172539059707,
          0.3250276542830719,
          0.3409165518651384,
          -1.115775977352867,
          0.34254224820018225,
          0.07045933383035928
         ]
        },
        {
         "boxpoints": false,
         "line": {
          "width": 1.3
         },
         "marker": {
          "color": "rgba(128, 0, 128, 1.0)"
         },
         "name": "D",
         "orientation": "v",
         "type": "box",
         "y": [
          -1.2161176582357354,
          -0.12863284311431158,
          -2.298687363462328,
          0.28959636093595725,
          -0.7246255581238169,
          0.24498833446883608,
          1.0435180837318598,
          0.9105198724178482,
          0.12046775656811216,
          0.001045645582807576,
          0.24220784184161495,
          1.5898001614762565,
          0.6876512522271132,
          -0.03230315841728312,
          -0.3814995439381174,
          -0.5134324788502349,
          2.2561301375592597,
          -0.7669051369956381,
          -0.29939491794593953,
          -0.5868531070944372,
          0.1564747034944148,
          0.33812146361678314,
          -0.92777461790032,
          -0.2561779312891647,
          1.1321561472113089,
          -1.521624788830427,
          -0.10578492697862925,
          1.2528957251106014,
          0.31858334971281027,
          -0.6447269293766716,
          -0.16025998833187238,
          2.3866030669832057,
          -1.7129902727281132,
          0.7785984320469583,
          -0.6115944224731991,
          0.749970156290634,
          -0.6562576333886874,
          0.8813294570909459,
          0.9695967440466924,
          0.8925738209712588,
          -0.7793199241066547,
          -2.2866317157899436,
          0.31904550971387846,
          1.0126715470137597,
          0.7547102834564094,
          2.599890602061509,
          0.6823245967602878,
          -0.1372138229279569,
          -0.1807508933522096,
          -0.676618381731523,
          0.4741833456519362,
          -0.10564453918929545,
          0.2882816775361528,
          1.237038025980705,
          -0.19289648009289254,
          -0.8804086186836066,
          -1.6468181830690687,
          -0.8823675536084618,
          -2.910164088912495,
          0.8463497751337671,
          0.9298513207433153,
          0.37185374938785576,
          1.8927267937363947,
          2.2266953049171283,
          -0.4750157170211832,
          -0.08709822071199674,
          -1.1665419602002338,
          0.9458844620855422,
          0.528910425432497,
          1.1698694771232991,
          -0.8764687758536519,
          0.9648874484537752,
          0.9583079235422147,
          -0.4677544928787285,
          -1.76944414354469,
          0.3293468879804715,
          3.0592510895306484,
          0.287145383741864,
          -0.6182634384873641,
          0.23291094600947723,
          0.6984142428993263,
          0.46667676824662685,
          1.1929634268882765,
          0.8960450590152582,
          -0.4668953913993217,
          -0.2625586797308798,
          -0.08314992850791071,
          -0.47431853510305966,
          0.48683585232534143,
          1.9915587879980674,
          0.847409379660996,
          1.2032821110247556,
          0.0731334551143764,
          0.20911279275548394,
          0.7538630258275114,
          0.08833443228860614,
          -0.9043075198852949,
          -1.0158868611498866,
          0.7147232467054212,
          0.7354942823115364
         ]
        }
       ],
       "layout": {
        "legend": {
         "bgcolor": "#F5F6F9",
         "font": {
          "color": "#4D5663"
         }
        },
        "paper_bgcolor": "#F5F6F9",
        "plot_bgcolor": "#F5F6F9",
        "template": {
         "data": {
          "bar": [
           {
            "error_x": {
             "color": "#2a3f5f"
            },
            "error_y": {
             "color": "#2a3f5f"
            },
            "marker": {
             "line": {
              "color": "#E5ECF6",
              "width": 0.5
             },
             "pattern": {
              "fillmode": "overlay",
              "size": 10,
              "solidity": 0.2
             }
            },
            "type": "bar"
           }
          ],
          "barpolar": [
           {
            "marker": {
             "line": {
              "color": "#E5ECF6",
              "width": 0.5
             },
             "pattern": {
              "fillmode": "overlay",
              "size": 10,
              "solidity": 0.2
             }
            },
            "type": "barpolar"
           }
          ],
          "carpet": [
           {
            "aaxis": {
             "endlinecolor": "#2a3f5f",
             "gridcolor": "white",
             "linecolor": "white",
             "minorgridcolor": "white",
             "startlinecolor": "#2a3f5f"
            },
            "baxis": {
             "endlinecolor": "#2a3f5f",
             "gridcolor": "white",
             "linecolor": "white",
             "minorgridcolor": "white",
             "startlinecolor": "#2a3f5f"
            },
            "type": "carpet"
           }
          ],
          "choropleth": [
           {
            "colorbar": {
             "outlinewidth": 0,
             "ticks": ""
            },
            "type": "choropleth"
           }
          ],
          "contour": [
           {
            "colorbar": {
             "outlinewidth": 0,
             "ticks": ""
            },
            "colorscale": [
             [
              0,
              "#0d0887"
             ],
             [
              0.1111111111111111,
              "#46039f"
             ],
             [
              0.2222222222222222,
              "#7201a8"
             ],
             [
              0.3333333333333333,
              "#9c179e"
             ],
             [
              0.4444444444444444,
              "#bd3786"
             ],
             [
              0.5555555555555556,
              "#d8576b"
             ],
             [
              0.6666666666666666,
              "#ed7953"
             ],
             [
              0.7777777777777778,
              "#fb9f3a"
             ],
             [
              0.8888888888888888,
              "#fdca26"
             ],
             [
              1,
              "#f0f921"
             ]
            ],
            "type": "contour"
           }
          ],
          "contourcarpet": [
           {
            "colorbar": {
             "outlinewidth": 0,
             "ticks": ""
            },
            "type": "contourcarpet"
           }
          ],
          "heatmap": [
           {
            "colorbar": {
             "outlinewidth": 0,
             "ticks": ""
            },
            "colorscale": [
             [
              0,
              "#0d0887"
             ],
             [
              0.1111111111111111,
              "#46039f"
             ],
             [
              0.2222222222222222,
              "#7201a8"
             ],
             [
              0.3333333333333333,
              "#9c179e"
             ],
             [
              0.4444444444444444,
              "#bd3786"
             ],
             [
              0.5555555555555556,
              "#d8576b"
             ],
             [
              0.6666666666666666,
              "#ed7953"
             ],
             [
              0.7777777777777778,
              "#fb9f3a"
             ],
             [
              0.8888888888888888,
              "#fdca26"
             ],
             [
              1,
              "#f0f921"
             ]
            ],
            "type": "heatmap"
           }
          ],
          "heatmapgl": [
           {
            "colorbar": {
             "outlinewidth": 0,
             "ticks": ""
            },
            "colorscale": [
             [
              0,
              "#0d0887"
             ],
             [
              0.1111111111111111,
              "#46039f"
             ],
             [
              0.2222222222222222,
              "#7201a8"
             ],
             [
              0.3333333333333333,
              "#9c179e"
             ],
             [
              0.4444444444444444,
              "#bd3786"
             ],
             [
              0.5555555555555556,
              "#d8576b"
             ],
             [
              0.6666666666666666,
              "#ed7953"
             ],
             [
              0.7777777777777778,
              "#fb9f3a"
             ],
             [
              0.8888888888888888,
              "#fdca26"
             ],
             [
              1,
              "#f0f921"
             ]
            ],
            "type": "heatmapgl"
           }
          ],
          "histogram": [
           {
            "marker": {
             "pattern": {
              "fillmode": "overlay",
              "size": 10,
              "solidity": 0.2
             }
            },
            "type": "histogram"
           }
          ],
          "histogram2d": [
           {
            "colorbar": {
             "outlinewidth": 0,
             "ticks": ""
            },
            "colorscale": [
             [
              0,
              "#0d0887"
             ],
             [
              0.1111111111111111,
              "#46039f"
             ],
             [
              0.2222222222222222,
              "#7201a8"
             ],
             [
              0.3333333333333333,
              "#9c179e"
             ],
             [
              0.4444444444444444,
              "#bd3786"
             ],
             [
              0.5555555555555556,
              "#d8576b"
             ],
             [
              0.6666666666666666,
              "#ed7953"
             ],
             [
              0.7777777777777778,
              "#fb9f3a"
             ],
             [
              0.8888888888888888,
              "#fdca26"
             ],
             [
              1,
              "#f0f921"
             ]
            ],
            "type": "histogram2d"
           }
          ],
          "histogram2dcontour": [
           {
            "colorbar": {
             "outlinewidth": 0,
             "ticks": ""
            },
            "colorscale": [
             [
              0,
              "#0d0887"
             ],
             [
              0.1111111111111111,
              "#46039f"
             ],
             [
              0.2222222222222222,
              "#7201a8"
             ],
             [
              0.3333333333333333,
              "#9c179e"
             ],
             [
              0.4444444444444444,
              "#bd3786"
             ],
             [
              0.5555555555555556,
              "#d8576b"
             ],
             [
              0.6666666666666666,
              "#ed7953"
             ],
             [
              0.7777777777777778,
              "#fb9f3a"
             ],
             [
              0.8888888888888888,
              "#fdca26"
             ],
             [
              1,
              "#f0f921"
             ]
            ],
            "type": "histogram2dcontour"
           }
          ],
          "mesh3d": [
           {
            "colorbar": {
             "outlinewidth": 0,
             "ticks": ""
            },
            "type": "mesh3d"
           }
          ],
          "parcoords": [
           {
            "line": {
             "colorbar": {
              "outlinewidth": 0,
              "ticks": ""
             }
            },
            "type": "parcoords"
           }
          ],
          "pie": [
           {
            "automargin": true,
            "type": "pie"
           }
          ],
          "scatter": [
           {
            "marker": {
             "colorbar": {
              "outlinewidth": 0,
              "ticks": ""
             }
            },
            "type": "scatter"
           }
          ],
          "scatter3d": [
           {
            "line": {
             "colorbar": {
              "outlinewidth": 0,
              "ticks": ""
             }
            },
            "marker": {
             "colorbar": {
              "outlinewidth": 0,
              "ticks": ""
             }
            },
            "type": "scatter3d"
           }
          ],
          "scattercarpet": [
           {
            "marker": {
             "colorbar": {
              "outlinewidth": 0,
              "ticks": ""
             }
            },
            "type": "scattercarpet"
           }
          ],
          "scattergeo": [
           {
            "marker": {
             "colorbar": {
              "outlinewidth": 0,
              "ticks": ""
             }
            },
            "type": "scattergeo"
           }
          ],
          "scattergl": [
           {
            "marker": {
             "colorbar": {
              "outlinewidth": 0,
              "ticks": ""
             }
            },
            "type": "scattergl"
           }
          ],
          "scattermapbox": [
           {
            "marker": {
             "colorbar": {
              "outlinewidth": 0,
              "ticks": ""
             }
            },
            "type": "scattermapbox"
           }
          ],
          "scatterpolar": [
           {
            "marker": {
             "colorbar": {
              "outlinewidth": 0,
              "ticks": ""
             }
            },
            "type": "scatterpolar"
           }
          ],
          "scatterpolargl": [
           {
            "marker": {
             "colorbar": {
              "outlinewidth": 0,
              "ticks": ""
             }
            },
            "type": "scatterpolargl"
           }
          ],
          "scatterternary": [
           {
            "marker": {
             "colorbar": {
              "outlinewidth": 0,
              "ticks": ""
             }
            },
            "type": "scatterternary"
           }
          ],
          "surface": [
           {
            "colorbar": {
             "outlinewidth": 0,
             "ticks": ""
            },
            "colorscale": [
             [
              0,
              "#0d0887"
             ],
             [
              0.1111111111111111,
              "#46039f"
             ],
             [
              0.2222222222222222,
              "#7201a8"
             ],
             [
              0.3333333333333333,
              "#9c179e"
             ],
             [
              0.4444444444444444,
              "#bd3786"
             ],
             [
              0.5555555555555556,
              "#d8576b"
             ],
             [
              0.6666666666666666,
              "#ed7953"
             ],
             [
              0.7777777777777778,
              "#fb9f3a"
             ],
             [
              0.8888888888888888,
              "#fdca26"
             ],
             [
              1,
              "#f0f921"
             ]
            ],
            "type": "surface"
           }
          ],
          "table": [
           {
            "cells": {
             "fill": {
              "color": "#EBF0F8"
             },
             "line": {
              "color": "white"
             }
            },
            "header": {
             "fill": {
              "color": "#C8D4E3"
             },
             "line": {
              "color": "white"
             }
            },
            "type": "table"
           }
          ]
         },
         "layout": {
          "annotationdefaults": {
           "arrowcolor": "#2a3f5f",
           "arrowhead": 0,
           "arrowwidth": 1
          },
          "autotypenumbers": "strict",
          "coloraxis": {
           "colorbar": {
            "outlinewidth": 0,
            "ticks": ""
           }
          },
          "colorscale": {
           "diverging": [
            [
             0,
             "#8e0152"
            ],
            [
             0.1,
             "#c51b7d"
            ],
            [
             0.2,
             "#de77ae"
            ],
            [
             0.3,
             "#f1b6da"
            ],
            [
             0.4,
             "#fde0ef"
            ],
            [
             0.5,
             "#f7f7f7"
            ],
            [
             0.6,
             "#e6f5d0"
            ],
            [
             0.7,
             "#b8e186"
            ],
            [
             0.8,
             "#7fbc41"
            ],
            [
             0.9,
             "#4d9221"
            ],
            [
             1,
             "#276419"
            ]
           ],
           "sequential": [
            [
             0,
             "#0d0887"
            ],
            [
             0.1111111111111111,
             "#46039f"
            ],
            [
             0.2222222222222222,
             "#7201a8"
            ],
            [
             0.3333333333333333,
             "#9c179e"
            ],
            [
             0.4444444444444444,
             "#bd3786"
            ],
            [
             0.5555555555555556,
             "#d8576b"
            ],
            [
             0.6666666666666666,
             "#ed7953"
            ],
            [
             0.7777777777777778,
             "#fb9f3a"
            ],
            [
             0.8888888888888888,
             "#fdca26"
            ],
            [
             1,
             "#f0f921"
            ]
           ],
           "sequentialminus": [
            [
             0,
             "#0d0887"
            ],
            [
             0.1111111111111111,
             "#46039f"
            ],
            [
             0.2222222222222222,
             "#7201a8"
            ],
            [
             0.3333333333333333,
             "#9c179e"
            ],
            [
             0.4444444444444444,
             "#bd3786"
            ],
            [
             0.5555555555555556,
             "#d8576b"
            ],
            [
             0.6666666666666666,
             "#ed7953"
            ],
            [
             0.7777777777777778,
             "#fb9f3a"
            ],
            [
             0.8888888888888888,
             "#fdca26"
            ],
            [
             1,
             "#f0f921"
            ]
           ]
          },
          "colorway": [
           "#636efa",
           "#EF553B",
           "#00cc96",
           "#ab63fa",
           "#FFA15A",
           "#19d3f3",
           "#FF6692",
           "#B6E880",
           "#FF97FF",
           "#FECB52"
          ],
          "font": {
           "color": "#2a3f5f"
          },
          "geo": {
           "bgcolor": "white",
           "lakecolor": "white",
           "landcolor": "#E5ECF6",
           "showlakes": true,
           "showland": true,
           "subunitcolor": "white"
          },
          "hoverlabel": {
           "align": "left"
          },
          "hovermode": "closest",
          "mapbox": {
           "style": "light"
          },
          "paper_bgcolor": "white",
          "plot_bgcolor": "#E5ECF6",
          "polar": {
           "angularaxis": {
            "gridcolor": "white",
            "linecolor": "white",
            "ticks": ""
           },
           "bgcolor": "#E5ECF6",
           "radialaxis": {
            "gridcolor": "white",
            "linecolor": "white",
            "ticks": ""
           }
          },
          "scene": {
           "xaxis": {
            "backgroundcolor": "#E5ECF6",
            "gridcolor": "white",
            "gridwidth": 2,
            "linecolor": "white",
            "showbackground": true,
            "ticks": "",
            "zerolinecolor": "white"
           },
           "yaxis": {
            "backgroundcolor": "#E5ECF6",
            "gridcolor": "white",
            "gridwidth": 2,
            "linecolor": "white",
            "showbackground": true,
            "ticks": "",
            "zerolinecolor": "white"
           },
           "zaxis": {
            "backgroundcolor": "#E5ECF6",
            "gridcolor": "white",
            "gridwidth": 2,
            "linecolor": "white",
            "showbackground": true,
            "ticks": "",
            "zerolinecolor": "white"
           }
          },
          "shapedefaults": {
           "line": {
            "color": "#2a3f5f"
           }
          },
          "ternary": {
           "aaxis": {
            "gridcolor": "white",
            "linecolor": "white",
            "ticks": ""
           },
           "baxis": {
            "gridcolor": "white",
            "linecolor": "white",
            "ticks": ""
           },
           "bgcolor": "#E5ECF6",
           "caxis": {
            "gridcolor": "white",
            "linecolor": "white",
            "ticks": ""
           }
          },
          "title": {
           "x": 0.05
          },
          "xaxis": {
           "automargin": true,
           "gridcolor": "white",
           "linecolor": "white",
           "ticks": "",
           "title": {
            "standoff": 15
           },
           "zerolinecolor": "white",
           "zerolinewidth": 2
          },
          "yaxis": {
           "automargin": true,
           "gridcolor": "white",
           "linecolor": "white",
           "ticks": "",
           "title": {
            "standoff": 15
           },
           "zerolinecolor": "white",
           "zerolinewidth": 2
          }
         }
        },
        "title": {
         "font": {
          "color": "#4D5663"
         }
        },
        "xaxis": {
         "gridcolor": "#E1E5ED",
         "showgrid": true,
         "tickfont": {
          "color": "#4D5663"
         },
         "title": {
          "font": {
           "color": "#4D5663"
          },
          "text": ""
         },
         "zerolinecolor": "#E1E5ED"
        },
        "yaxis": {
         "gridcolor": "#E1E5ED",
         "showgrid": true,
         "tickfont": {
          "color": "#4D5663"
         },
         "title": {
          "font": {
           "color": "#4D5663"
          },
          "text": ""
         },
         "zerolinecolor": "#E1E5ED"
        }
       }
      },
      "text/html": [
       "<div>                            <div id=\"cb9b5894-f902-4589-81d5-7957b21599d5\" class=\"plotly-graph-div\" style=\"height:525px; width:100%;\"></div>            <script type=\"text/javascript\">                require([\"plotly\"], function(Plotly) {                    window.PLOTLYENV=window.PLOTLYENV || {};\n",
       "                    window.PLOTLYENV.BASE_URL='https://plot.ly';                                    if (document.getElementById(\"cb9b5894-f902-4589-81d5-7957b21599d5\")) {                    Plotly.newPlot(                        \"cb9b5894-f902-4589-81d5-7957b21599d5\",                        [{\"boxpoints\":false,\"line\":{\"width\":1.3},\"marker\":{\"color\":\"rgba(255, 153, 51, 1.0)\"},\"name\":\"A\",\"orientation\":\"v\",\"y\":[-0.6005272572897303,0.4244128074582704,-0.4409073355427527,0.8765579194110584,0.113261090341445,-0.4734724357527685,-0.5188427551304841,1.6014103864400826,-1.9072129048619137,0.13973295867986582,0.1702359906906131,-0.05052875998036999,0.20326605679474508,-0.6068987450085842,0.01901108295103341,1.693422376323972,0.5845625651895274,0.4308434776212245,2.0362362984046185,-0.37880189101535205,0.5311977539175295,0.2225490230732347,0.6105435706552877,0.6012397714386573,-0.49798029829730084,-1.5788557684254483,-1.1725339762475635,-0.7429584143370385,-1.3033130409601439,-0.1481121095374952,-0.08987450109740919,0.8634887289963715,1.3154289749839931,-0.1458612244300904,0.0446654478807579,-0.48504782159620513,-1.617495602420557,-0.731694949591574,0.3821784833214193,-0.5662280029457727,0.21408484014185408,-1.1289387995158675,0.7269769388895451,-0.9011091704893577,-2.535588699140916,-0.43260366467435213,-0.15376731612435343,0.39964626739478737,-0.11233023781221708,1.554395766979265,-0.4308410579333943,-1.0882608871453134,-0.30491823751325103,-2.7204294407752174,0.6273722477938712,-0.8654492756421258,1.9183759306233856,1.804196834549093,-0.15729206200947618,1.062606251289599,0.7294892417546102,1.734507463508707,-0.9622969360364804,-1.22800512027324,1.5476998702992784,0.20212868111909074,-0.2287354920448391,-1.6256267328555414,0.11805653097824363,-0.12569222392741497,0.6344132872644095,0.13955461698175808,-0.10892925133430031,0.45304222972607944,-0.2615053375643434,-0.22411611506996273,1.7141971468445547,-1.5018373663357867,-0.38328035963769436,-0.2043652018260254,-0.17657931439914137,-0.9963628208785296,0.6107128707648545,-0.47340018232802844,0.9359112776474541,-1.341473246861999,1.1182266906281662,2.353288351782029,-0.846808712188778,1.372132144431435,0.9999474752472598,1.5804495493664477,2.04568628243262,0.9797750995650546,-0.1787771713442234,-0.027427461421897097,1.476220213935394,0.7695677105340464,-1.3060175064144073,0.3037509273928669],\"type\":\"box\"},{\"boxpoints\":false,\"line\":{\"width\":1.3},\"marker\":{\"color\":\"rgba(55, 128, 191, 1.0)\"},\"name\":\"B\",\"orientation\":\"v\",\"y\":[0.03354789955792382,0.8070604927554935,-0.20541484675194602,1.4129841433086383,1.9008318459139721,0.09300179845913471,0.5736886980820219,-0.19687274864419568,0.6281570041414841,0.7239231301056195,1.7173841614342737,1.3988000668176435,-0.8184742870915912,0.8967890017662526,-0.9153149454880518,-1.1625286021506622,0.27044631838323935,0.17279082609833252,-0.4838988802454175,-0.1985370723300537,0.45925580298117624,-0.466204510726407,-1.1902078376153176,-1.9423008579291474,0.17112423404743934,-0.8855102151597386,-0.06814690123720969,0.007010359856248485,-1.137822077002745,-2.308475853373866,-1.4624081721848106,-2.3647837278310138,-0.04945163262821755,-1.2724024016855202,-0.18420164801720115,0.4937061618303972,0.8033638747875229,-0.5036382720105074,0.8650082134002659,1.3913484083238983,-0.20620902568661237,0.25801694867934716,1.2157655167065369,1.3728410412263647,-0.8789152030004874,2.732310897045035,-1.3190874577850344,1.397284606765221,-0.278408549922117,1.6045608853438653,0.4205862015249162,0.24586301293823862,-0.1624515223851526,0.004887071810461409,-0.3569192879972979,0.6108006930348017,0.5384132600405072,1.1870638570610101,-0.8103379700987837,1.025975673439183,-0.4868784353162769,1.099447359391673,2.126150863729017,-0.8853264199162242,-0.3906919892588175,0.7644501291980417,-0.33172508223653285,-1.673993229937289,0.7820730124854408,0.25078668823209227,0.060357828532477814,0.7135707361779056,1.9964468811846894,0.15720488025605775,-0.2914659228838468,0.5161998499046359,-1.2785898286810256,1.4256047826992324,0.7069658123112345,1.8546235482138067,1.3346021424253542,1.1148461334157418,0.026985915141145175,1.397096502991006,2.045547530911009,1.2087274247672462,-0.02902799114594827,0.013673037218682812,-0.7223314143978876,-0.19675613251686933,0.19737307211466443,1.8029377596310276,-0.5129101312888362,1.9020237049129,0.5392281905319504,-1.5195104524428904,0.45090724709228314,-0.4605983828812109,0.8367771087907409,0.4522326050616165],\"type\":\"box\"},{\"boxpoints\":false,\"line\":{\"width\":1.3},\"marker\":{\"color\":\"rgba(50, 171, 96, 1.0)\"},\"name\":\"C\",\"orientation\":\"v\",\"y\":[0.005820026315235889,-0.944252919775402,-1.0492272328413648,0.22757054265445817,1.3777527492775783,-0.3489891370565893,0.44483703810824815,0.22303942724877285,-0.22881401479458185,0.6798059058144068,0.18454890869296758,-0.7429996997754517,-0.3150553275072614,0.6696838774410224,0.08971821990446563,-0.42078443345254213,-1.805350538008814,-0.5474542341282794,-2.640802056449358,0.29380406391663294,-0.5973603189213698,-0.8373122602203762,0.7911481136573829,1.3612366390345785,0.3260243510315011,-0.4381030244611688,-0.5183108164385883,0.575393066106595,0.002261293668035416,0.9480312712016943,-1.2518700264626437,-0.8636678495397886,0.1828220938574215,0.4651131859911088,0.6600216055864502,-0.35580438892131067,-0.28642366363561245,-1.0840761390606588,0.3713304208912552,-1.2284361640922536,0.9686348277002187,1.3296732876776354,1.177937948942286,0.39965380388345095,-1.4122223568957806,-0.176116020072892,1.138709732872558,0.35351407573453175,-0.5414400307940884,-0.07162348918388448,-1.2162767417108231,0.7123174537161838,-1.028955460810404,0.6156977305294409,1.178058898104863,0.0377000609650166,-1.3230000941088274,2.037772260676816,1.1490198058614232,-0.8536579018943958,0.30841573406451267,0.2254774591549979,0.4682975588086075,0.437699098955465,0.7709299476036803,1.3701566477949783,-1.0016567278174484,-0.028441481653694128,1.0801540051188552,0.5285911737990813,0.021650992628812524,-1.373511680614175,0.8183418801812649,1.7337369519516643,0.8938198365706271,0.4407902101656733,-0.5053911283601059,-1.9408740723430784,0.6732190978860576,0.09154499420627218,1.2327283294517688,0.17262182684022867,0.34415223930326977,1.7428745760179878,-2.0312787609735263,0.654249937369822,0.10880300326304189,0.44987552934980357,-0.24137878303951626,0.0072028249462114165,-0.7928376290036848,0.4196989942621943,0.6329049798142696,-0.20733444657212877,-0.9271172539059707,0.3250276542830719,0.3409165518651384,-1.115775977352867,0.34254224820018225,0.07045933383035928],\"type\":\"box\"},{\"boxpoints\":false,\"line\":{\"width\":1.3},\"marker\":{\"color\":\"rgba(128, 0, 128, 1.0)\"},\"name\":\"D\",\"orientation\":\"v\",\"y\":[-1.2161176582357354,-0.12863284311431158,-2.298687363462328,0.28959636093595725,-0.7246255581238169,0.24498833446883608,1.0435180837318598,0.9105198724178482,0.12046775656811216,0.001045645582807576,0.24220784184161495,1.5898001614762565,0.6876512522271132,-0.03230315841728312,-0.3814995439381174,-0.5134324788502349,2.2561301375592597,-0.7669051369956381,-0.29939491794593953,-0.5868531070944372,0.1564747034944148,0.33812146361678314,-0.92777461790032,-0.2561779312891647,1.1321561472113089,-1.521624788830427,-0.10578492697862925,1.2528957251106014,0.31858334971281027,-0.6447269293766716,-0.16025998833187238,2.3866030669832057,-1.7129902727281132,0.7785984320469583,-0.6115944224731991,0.749970156290634,-0.6562576333886874,0.8813294570909459,0.9695967440466924,0.8925738209712588,-0.7793199241066547,-2.2866317157899436,0.31904550971387846,1.0126715470137597,0.7547102834564094,2.599890602061509,0.6823245967602878,-0.1372138229279569,-0.1807508933522096,-0.676618381731523,0.4741833456519362,-0.10564453918929545,0.2882816775361528,1.237038025980705,-0.19289648009289254,-0.8804086186836066,-1.6468181830690687,-0.8823675536084618,-2.910164088912495,0.8463497751337671,0.9298513207433153,0.37185374938785576,1.8927267937363947,2.2266953049171283,-0.4750157170211832,-0.08709822071199674,-1.1665419602002338,0.9458844620855422,0.528910425432497,1.1698694771232991,-0.8764687758536519,0.9648874484537752,0.9583079235422147,-0.4677544928787285,-1.76944414354469,0.3293468879804715,3.0592510895306484,0.287145383741864,-0.6182634384873641,0.23291094600947723,0.6984142428993263,0.46667676824662685,1.1929634268882765,0.8960450590152582,-0.4668953913993217,-0.2625586797308798,-0.08314992850791071,-0.47431853510305966,0.48683585232534143,1.9915587879980674,0.847409379660996,1.2032821110247556,0.0731334551143764,0.20911279275548394,0.7538630258275114,0.08833443228860614,-0.9043075198852949,-1.0158868611498866,0.7147232467054212,0.7354942823115364],\"type\":\"box\"}],                        {\"legend\":{\"bgcolor\":\"#F5F6F9\",\"font\":{\"color\":\"#4D5663\"}},\"paper_bgcolor\":\"#F5F6F9\",\"plot_bgcolor\":\"#F5F6F9\",\"template\":{\"data\":{\"barpolar\":[{\"marker\":{\"line\":{\"color\":\"#E5ECF6\",\"width\":0.5},\"pattern\":{\"fillmode\":\"overlay\",\"size\":10,\"solidity\":0.2}},\"type\":\"barpolar\"}],\"bar\":[{\"error_x\":{\"color\":\"#2a3f5f\"},\"error_y\":{\"color\":\"#2a3f5f\"},\"marker\":{\"line\":{\"color\":\"#E5ECF6\",\"width\":0.5},\"pattern\":{\"fillmode\":\"overlay\",\"size\":10,\"solidity\":0.2}},\"type\":\"bar\"}],\"carpet\":[{\"aaxis\":{\"endlinecolor\":\"#2a3f5f\",\"gridcolor\":\"white\",\"linecolor\":\"white\",\"minorgridcolor\":\"white\",\"startlinecolor\":\"#2a3f5f\"},\"baxis\":{\"endlinecolor\":\"#2a3f5f\",\"gridcolor\":\"white\",\"linecolor\":\"white\",\"minorgridcolor\":\"white\",\"startlinecolor\":\"#2a3f5f\"},\"type\":\"carpet\"}],\"choropleth\":[{\"colorbar\":{\"outlinewidth\":0,\"ticks\":\"\"},\"type\":\"choropleth\"}],\"contourcarpet\":[{\"colorbar\":{\"outlinewidth\":0,\"ticks\":\"\"},\"type\":\"contourcarpet\"}],\"contour\":[{\"colorbar\":{\"outlinewidth\":0,\"ticks\":\"\"},\"colorscale\":[[0.0,\"#0d0887\"],[0.1111111111111111,\"#46039f\"],[0.2222222222222222,\"#7201a8\"],[0.3333333333333333,\"#9c179e\"],[0.4444444444444444,\"#bd3786\"],[0.5555555555555556,\"#d8576b\"],[0.6666666666666666,\"#ed7953\"],[0.7777777777777778,\"#fb9f3a\"],[0.8888888888888888,\"#fdca26\"],[1.0,\"#f0f921\"]],\"type\":\"contour\"}],\"heatmapgl\":[{\"colorbar\":{\"outlinewidth\":0,\"ticks\":\"\"},\"colorscale\":[[0.0,\"#0d0887\"],[0.1111111111111111,\"#46039f\"],[0.2222222222222222,\"#7201a8\"],[0.3333333333333333,\"#9c179e\"],[0.4444444444444444,\"#bd3786\"],[0.5555555555555556,\"#d8576b\"],[0.6666666666666666,\"#ed7953\"],[0.7777777777777778,\"#fb9f3a\"],[0.8888888888888888,\"#fdca26\"],[1.0,\"#f0f921\"]],\"type\":\"heatmapgl\"}],\"heatmap\":[{\"colorbar\":{\"outlinewidth\":0,\"ticks\":\"\"},\"colorscale\":[[0.0,\"#0d0887\"],[0.1111111111111111,\"#46039f\"],[0.2222222222222222,\"#7201a8\"],[0.3333333333333333,\"#9c179e\"],[0.4444444444444444,\"#bd3786\"],[0.5555555555555556,\"#d8576b\"],[0.6666666666666666,\"#ed7953\"],[0.7777777777777778,\"#fb9f3a\"],[0.8888888888888888,\"#fdca26\"],[1.0,\"#f0f921\"]],\"type\":\"heatmap\"}],\"histogram2dcontour\":[{\"colorbar\":{\"outlinewidth\":0,\"ticks\":\"\"},\"colorscale\":[[0.0,\"#0d0887\"],[0.1111111111111111,\"#46039f\"],[0.2222222222222222,\"#7201a8\"],[0.3333333333333333,\"#9c179e\"],[0.4444444444444444,\"#bd3786\"],[0.5555555555555556,\"#d8576b\"],[0.6666666666666666,\"#ed7953\"],[0.7777777777777778,\"#fb9f3a\"],[0.8888888888888888,\"#fdca26\"],[1.0,\"#f0f921\"]],\"type\":\"histogram2dcontour\"}],\"histogram2d\":[{\"colorbar\":{\"outlinewidth\":0,\"ticks\":\"\"},\"colorscale\":[[0.0,\"#0d0887\"],[0.1111111111111111,\"#46039f\"],[0.2222222222222222,\"#7201a8\"],[0.3333333333333333,\"#9c179e\"],[0.4444444444444444,\"#bd3786\"],[0.5555555555555556,\"#d8576b\"],[0.6666666666666666,\"#ed7953\"],[0.7777777777777778,\"#fb9f3a\"],[0.8888888888888888,\"#fdca26\"],[1.0,\"#f0f921\"]],\"type\":\"histogram2d\"}],\"histogram\":[{\"marker\":{\"pattern\":{\"fillmode\":\"overlay\",\"size\":10,\"solidity\":0.2}},\"type\":\"histogram\"}],\"mesh3d\":[{\"colorbar\":{\"outlinewidth\":0,\"ticks\":\"\"},\"type\":\"mesh3d\"}],\"parcoords\":[{\"line\":{\"colorbar\":{\"outlinewidth\":0,\"ticks\":\"\"}},\"type\":\"parcoords\"}],\"pie\":[{\"automargin\":true,\"type\":\"pie\"}],\"scatter3d\":[{\"line\":{\"colorbar\":{\"outlinewidth\":0,\"ticks\":\"\"}},\"marker\":{\"colorbar\":{\"outlinewidth\":0,\"ticks\":\"\"}},\"type\":\"scatter3d\"}],\"scattercarpet\":[{\"marker\":{\"colorbar\":{\"outlinewidth\":0,\"ticks\":\"\"}},\"type\":\"scattercarpet\"}],\"scattergeo\":[{\"marker\":{\"colorbar\":{\"outlinewidth\":0,\"ticks\":\"\"}},\"type\":\"scattergeo\"}],\"scattergl\":[{\"marker\":{\"colorbar\":{\"outlinewidth\":0,\"ticks\":\"\"}},\"type\":\"scattergl\"}],\"scattermapbox\":[{\"marker\":{\"colorbar\":{\"outlinewidth\":0,\"ticks\":\"\"}},\"type\":\"scattermapbox\"}],\"scatterpolargl\":[{\"marker\":{\"colorbar\":{\"outlinewidth\":0,\"ticks\":\"\"}},\"type\":\"scatterpolargl\"}],\"scatterpolar\":[{\"marker\":{\"colorbar\":{\"outlinewidth\":0,\"ticks\":\"\"}},\"type\":\"scatterpolar\"}],\"scatter\":[{\"marker\":{\"colorbar\":{\"outlinewidth\":0,\"ticks\":\"\"}},\"type\":\"scatter\"}],\"scatterternary\":[{\"marker\":{\"colorbar\":{\"outlinewidth\":0,\"ticks\":\"\"}},\"type\":\"scatterternary\"}],\"surface\":[{\"colorbar\":{\"outlinewidth\":0,\"ticks\":\"\"},\"colorscale\":[[0.0,\"#0d0887\"],[0.1111111111111111,\"#46039f\"],[0.2222222222222222,\"#7201a8\"],[0.3333333333333333,\"#9c179e\"],[0.4444444444444444,\"#bd3786\"],[0.5555555555555556,\"#d8576b\"],[0.6666666666666666,\"#ed7953\"],[0.7777777777777778,\"#fb9f3a\"],[0.8888888888888888,\"#fdca26\"],[1.0,\"#f0f921\"]],\"type\":\"surface\"}],\"table\":[{\"cells\":{\"fill\":{\"color\":\"#EBF0F8\"},\"line\":{\"color\":\"white\"}},\"header\":{\"fill\":{\"color\":\"#C8D4E3\"},\"line\":{\"color\":\"white\"}},\"type\":\"table\"}]},\"layout\":{\"annotationdefaults\":{\"arrowcolor\":\"#2a3f5f\",\"arrowhead\":0,\"arrowwidth\":1},\"autotypenumbers\":\"strict\",\"coloraxis\":{\"colorbar\":{\"outlinewidth\":0,\"ticks\":\"\"}},\"colorscale\":{\"diverging\":[[0,\"#8e0152\"],[0.1,\"#c51b7d\"],[0.2,\"#de77ae\"],[0.3,\"#f1b6da\"],[0.4,\"#fde0ef\"],[0.5,\"#f7f7f7\"],[0.6,\"#e6f5d0\"],[0.7,\"#b8e186\"],[0.8,\"#7fbc41\"],[0.9,\"#4d9221\"],[1,\"#276419\"]],\"sequential\":[[0.0,\"#0d0887\"],[0.1111111111111111,\"#46039f\"],[0.2222222222222222,\"#7201a8\"],[0.3333333333333333,\"#9c179e\"],[0.4444444444444444,\"#bd3786\"],[0.5555555555555556,\"#d8576b\"],[0.6666666666666666,\"#ed7953\"],[0.7777777777777778,\"#fb9f3a\"],[0.8888888888888888,\"#fdca26\"],[1.0,\"#f0f921\"]],\"sequentialminus\":[[0.0,\"#0d0887\"],[0.1111111111111111,\"#46039f\"],[0.2222222222222222,\"#7201a8\"],[0.3333333333333333,\"#9c179e\"],[0.4444444444444444,\"#bd3786\"],[0.5555555555555556,\"#d8576b\"],[0.6666666666666666,\"#ed7953\"],[0.7777777777777778,\"#fb9f3a\"],[0.8888888888888888,\"#fdca26\"],[1.0,\"#f0f921\"]]},\"colorway\":[\"#636efa\",\"#EF553B\",\"#00cc96\",\"#ab63fa\",\"#FFA15A\",\"#19d3f3\",\"#FF6692\",\"#B6E880\",\"#FF97FF\",\"#FECB52\"],\"font\":{\"color\":\"#2a3f5f\"},\"geo\":{\"bgcolor\":\"white\",\"lakecolor\":\"white\",\"landcolor\":\"#E5ECF6\",\"showlakes\":true,\"showland\":true,\"subunitcolor\":\"white\"},\"hoverlabel\":{\"align\":\"left\"},\"hovermode\":\"closest\",\"mapbox\":{\"style\":\"light\"},\"paper_bgcolor\":\"white\",\"plot_bgcolor\":\"#E5ECF6\",\"polar\":{\"angularaxis\":{\"gridcolor\":\"white\",\"linecolor\":\"white\",\"ticks\":\"\"},\"bgcolor\":\"#E5ECF6\",\"radialaxis\":{\"gridcolor\":\"white\",\"linecolor\":\"white\",\"ticks\":\"\"}},\"scene\":{\"xaxis\":{\"backgroundcolor\":\"#E5ECF6\",\"gridcolor\":\"white\",\"gridwidth\":2,\"linecolor\":\"white\",\"showbackground\":true,\"ticks\":\"\",\"zerolinecolor\":\"white\"},\"yaxis\":{\"backgroundcolor\":\"#E5ECF6\",\"gridcolor\":\"white\",\"gridwidth\":2,\"linecolor\":\"white\",\"showbackground\":true,\"ticks\":\"\",\"zerolinecolor\":\"white\"},\"zaxis\":{\"backgroundcolor\":\"#E5ECF6\",\"gridcolor\":\"white\",\"gridwidth\":2,\"linecolor\":\"white\",\"showbackground\":true,\"ticks\":\"\",\"zerolinecolor\":\"white\"}},\"shapedefaults\":{\"line\":{\"color\":\"#2a3f5f\"}},\"ternary\":{\"aaxis\":{\"gridcolor\":\"white\",\"linecolor\":\"white\",\"ticks\":\"\"},\"baxis\":{\"gridcolor\":\"white\",\"linecolor\":\"white\",\"ticks\":\"\"},\"bgcolor\":\"#E5ECF6\",\"caxis\":{\"gridcolor\":\"white\",\"linecolor\":\"white\",\"ticks\":\"\"}},\"title\":{\"x\":0.05},\"xaxis\":{\"automargin\":true,\"gridcolor\":\"white\",\"linecolor\":\"white\",\"ticks\":\"\",\"title\":{\"standoff\":15},\"zerolinecolor\":\"white\",\"zerolinewidth\":2},\"yaxis\":{\"automargin\":true,\"gridcolor\":\"white\",\"linecolor\":\"white\",\"ticks\":\"\",\"title\":{\"standoff\":15},\"zerolinecolor\":\"white\",\"zerolinewidth\":2}}},\"title\":{\"font\":{\"color\":\"#4D5663\"}},\"xaxis\":{\"gridcolor\":\"#E1E5ED\",\"showgrid\":true,\"tickfont\":{\"color\":\"#4D5663\"},\"title\":{\"font\":{\"color\":\"#4D5663\"},\"text\":\"\"},\"zerolinecolor\":\"#E1E5ED\"},\"yaxis\":{\"gridcolor\":\"#E1E5ED\",\"showgrid\":true,\"tickfont\":{\"color\":\"#4D5663\"},\"title\":{\"font\":{\"color\":\"#4D5663\"},\"text\":\"\"},\"zerolinecolor\":\"#E1E5ED\"}},                        {\"showLink\": true, \"linkText\": \"Export to plot.ly\", \"plotlyServerURL\": \"https://plot.ly\", \"responsive\": true}                    ).then(function(){\n",
       "                            \n",
       "var gd = document.getElementById('cb9b5894-f902-4589-81d5-7957b21599d5');\n",
       "var x = new MutationObserver(function (mutations, observer) {{\n",
       "        var display = window.getComputedStyle(gd).display;\n",
       "        if (!display || display === 'none') {{\n",
       "            console.log([gd, 'removed!']);\n",
       "            Plotly.purge(gd);\n",
       "            observer.disconnect();\n",
       "        }}\n",
       "}});\n",
       "\n",
       "// Listen for the removal of the full notebook cells\n",
       "var notebookContainer = gd.closest('#notebook-container');\n",
       "if (notebookContainer) {{\n",
       "    x.observe(notebookContainer, {childList: true});\n",
       "}}\n",
       "\n",
       "// Listen for the clearing of the current output cell\n",
       "var outputEl = gd.closest('.output');\n",
       "if (outputEl) {{\n",
       "    x.observe(outputEl, {childList: true});\n",
       "}}\n",
       "\n",
       "                        })                };                });            </script>        </div>"
      ]
     },
     "metadata": {},
     "output_type": "display_data"
    }
   ],
   "source": [
    "df.iplot(kind='box')"
   ]
  },
  {
   "cell_type": "markdown",
   "metadata": {},
   "source": [
    "## 3d Surface"
   ]
  },
  {
   "cell_type": "code",
   "execution_count": 14,
   "metadata": {},
   "outputs": [
    {
     "data": {
      "application/vnd.plotly.v1+json": {
       "config": {
        "linkText": "Export to plot.ly",
        "plotlyServerURL": "https://plot.ly",
        "showLink": true
       },
       "data": [
        {
         "colorscale": [
          [
           0,
           "rgb(165,0,38)"
          ],
          [
           0.1,
           "rgb(215,48,39)"
          ],
          [
           0.2,
           "rgb(244,109,67)"
          ],
          [
           0.3,
           "rgb(253,174,97)"
          ],
          [
           0.4,
           "rgb(254,224,144)"
          ],
          [
           0.5,
           "rgb(255,255,191)"
          ],
          [
           0.6,
           "rgb(224,243,248)"
          ],
          [
           0.7,
           "rgb(171,217,233)"
          ],
          [
           0.8,
           "rgb(116,173,209)"
          ],
          [
           0.9,
           "rgb(69,117,180)"
          ],
          [
           1,
           "rgb(49,54,149)"
          ]
         ],
         "type": "surface",
         "x": [
          0,
          1,
          2,
          3,
          4
         ],
         "y": [
          "x",
          "y",
          "z"
         ],
         "z": [
          [
           1,
           2,
           3,
           4,
           5
          ],
          [
           10,
           20,
           30,
           20,
           10
          ],
          [
           5,
           4,
           3,
           2,
           1
          ]
         ]
        }
       ],
       "layout": {
        "legend": {
         "bgcolor": "#F5F6F9",
         "font": {
          "color": "#4D5663"
         }
        },
        "paper_bgcolor": "#F5F6F9",
        "plot_bgcolor": "#F5F6F9",
        "template": {
         "data": {
          "bar": [
           {
            "error_x": {
             "color": "#2a3f5f"
            },
            "error_y": {
             "color": "#2a3f5f"
            },
            "marker": {
             "line": {
              "color": "#E5ECF6",
              "width": 0.5
             },
             "pattern": {
              "fillmode": "overlay",
              "size": 10,
              "solidity": 0.2
             }
            },
            "type": "bar"
           }
          ],
          "barpolar": [
           {
            "marker": {
             "line": {
              "color": "#E5ECF6",
              "width": 0.5
             },
             "pattern": {
              "fillmode": "overlay",
              "size": 10,
              "solidity": 0.2
             }
            },
            "type": "barpolar"
           }
          ],
          "carpet": [
           {
            "aaxis": {
             "endlinecolor": "#2a3f5f",
             "gridcolor": "white",
             "linecolor": "white",
             "minorgridcolor": "white",
             "startlinecolor": "#2a3f5f"
            },
            "baxis": {
             "endlinecolor": "#2a3f5f",
             "gridcolor": "white",
             "linecolor": "white",
             "minorgridcolor": "white",
             "startlinecolor": "#2a3f5f"
            },
            "type": "carpet"
           }
          ],
          "choropleth": [
           {
            "colorbar": {
             "outlinewidth": 0,
             "ticks": ""
            },
            "type": "choropleth"
           }
          ],
          "contour": [
           {
            "colorbar": {
             "outlinewidth": 0,
             "ticks": ""
            },
            "colorscale": [
             [
              0,
              "#0d0887"
             ],
             [
              0.1111111111111111,
              "#46039f"
             ],
             [
              0.2222222222222222,
              "#7201a8"
             ],
             [
              0.3333333333333333,
              "#9c179e"
             ],
             [
              0.4444444444444444,
              "#bd3786"
             ],
             [
              0.5555555555555556,
              "#d8576b"
             ],
             [
              0.6666666666666666,
              "#ed7953"
             ],
             [
              0.7777777777777778,
              "#fb9f3a"
             ],
             [
              0.8888888888888888,
              "#fdca26"
             ],
             [
              1,
              "#f0f921"
             ]
            ],
            "type": "contour"
           }
          ],
          "contourcarpet": [
           {
            "colorbar": {
             "outlinewidth": 0,
             "ticks": ""
            },
            "type": "contourcarpet"
           }
          ],
          "heatmap": [
           {
            "colorbar": {
             "outlinewidth": 0,
             "ticks": ""
            },
            "colorscale": [
             [
              0,
              "#0d0887"
             ],
             [
              0.1111111111111111,
              "#46039f"
             ],
             [
              0.2222222222222222,
              "#7201a8"
             ],
             [
              0.3333333333333333,
              "#9c179e"
             ],
             [
              0.4444444444444444,
              "#bd3786"
             ],
             [
              0.5555555555555556,
              "#d8576b"
             ],
             [
              0.6666666666666666,
              "#ed7953"
             ],
             [
              0.7777777777777778,
              "#fb9f3a"
             ],
             [
              0.8888888888888888,
              "#fdca26"
             ],
             [
              1,
              "#f0f921"
             ]
            ],
            "type": "heatmap"
           }
          ],
          "heatmapgl": [
           {
            "colorbar": {
             "outlinewidth": 0,
             "ticks": ""
            },
            "colorscale": [
             [
              0,
              "#0d0887"
             ],
             [
              0.1111111111111111,
              "#46039f"
             ],
             [
              0.2222222222222222,
              "#7201a8"
             ],
             [
              0.3333333333333333,
              "#9c179e"
             ],
             [
              0.4444444444444444,
              "#bd3786"
             ],
             [
              0.5555555555555556,
              "#d8576b"
             ],
             [
              0.6666666666666666,
              "#ed7953"
             ],
             [
              0.7777777777777778,
              "#fb9f3a"
             ],
             [
              0.8888888888888888,
              "#fdca26"
             ],
             [
              1,
              "#f0f921"
             ]
            ],
            "type": "heatmapgl"
           }
          ],
          "histogram": [
           {
            "marker": {
             "pattern": {
              "fillmode": "overlay",
              "size": 10,
              "solidity": 0.2
             }
            },
            "type": "histogram"
           }
          ],
          "histogram2d": [
           {
            "colorbar": {
             "outlinewidth": 0,
             "ticks": ""
            },
            "colorscale": [
             [
              0,
              "#0d0887"
             ],
             [
              0.1111111111111111,
              "#46039f"
             ],
             [
              0.2222222222222222,
              "#7201a8"
             ],
             [
              0.3333333333333333,
              "#9c179e"
             ],
             [
              0.4444444444444444,
              "#bd3786"
             ],
             [
              0.5555555555555556,
              "#d8576b"
             ],
             [
              0.6666666666666666,
              "#ed7953"
             ],
             [
              0.7777777777777778,
              "#fb9f3a"
             ],
             [
              0.8888888888888888,
              "#fdca26"
             ],
             [
              1,
              "#f0f921"
             ]
            ],
            "type": "histogram2d"
           }
          ],
          "histogram2dcontour": [
           {
            "colorbar": {
             "outlinewidth": 0,
             "ticks": ""
            },
            "colorscale": [
             [
              0,
              "#0d0887"
             ],
             [
              0.1111111111111111,
              "#46039f"
             ],
             [
              0.2222222222222222,
              "#7201a8"
             ],
             [
              0.3333333333333333,
              "#9c179e"
             ],
             [
              0.4444444444444444,
              "#bd3786"
             ],
             [
              0.5555555555555556,
              "#d8576b"
             ],
             [
              0.6666666666666666,
              "#ed7953"
             ],
             [
              0.7777777777777778,
              "#fb9f3a"
             ],
             [
              0.8888888888888888,
              "#fdca26"
             ],
             [
              1,
              "#f0f921"
             ]
            ],
            "type": "histogram2dcontour"
           }
          ],
          "mesh3d": [
           {
            "colorbar": {
             "outlinewidth": 0,
             "ticks": ""
            },
            "type": "mesh3d"
           }
          ],
          "parcoords": [
           {
            "line": {
             "colorbar": {
              "outlinewidth": 0,
              "ticks": ""
             }
            },
            "type": "parcoords"
           }
          ],
          "pie": [
           {
            "automargin": true,
            "type": "pie"
           }
          ],
          "scatter": [
           {
            "marker": {
             "colorbar": {
              "outlinewidth": 0,
              "ticks": ""
             }
            },
            "type": "scatter"
           }
          ],
          "scatter3d": [
           {
            "line": {
             "colorbar": {
              "outlinewidth": 0,
              "ticks": ""
             }
            },
            "marker": {
             "colorbar": {
              "outlinewidth": 0,
              "ticks": ""
             }
            },
            "type": "scatter3d"
           }
          ],
          "scattercarpet": [
           {
            "marker": {
             "colorbar": {
              "outlinewidth": 0,
              "ticks": ""
             }
            },
            "type": "scattercarpet"
           }
          ],
          "scattergeo": [
           {
            "marker": {
             "colorbar": {
              "outlinewidth": 0,
              "ticks": ""
             }
            },
            "type": "scattergeo"
           }
          ],
          "scattergl": [
           {
            "marker": {
             "colorbar": {
              "outlinewidth": 0,
              "ticks": ""
             }
            },
            "type": "scattergl"
           }
          ],
          "scattermapbox": [
           {
            "marker": {
             "colorbar": {
              "outlinewidth": 0,
              "ticks": ""
             }
            },
            "type": "scattermapbox"
           }
          ],
          "scatterpolar": [
           {
            "marker": {
             "colorbar": {
              "outlinewidth": 0,
              "ticks": ""
             }
            },
            "type": "scatterpolar"
           }
          ],
          "scatterpolargl": [
           {
            "marker": {
             "colorbar": {
              "outlinewidth": 0,
              "ticks": ""
             }
            },
            "type": "scatterpolargl"
           }
          ],
          "scatterternary": [
           {
            "marker": {
             "colorbar": {
              "outlinewidth": 0,
              "ticks": ""
             }
            },
            "type": "scatterternary"
           }
          ],
          "surface": [
           {
            "colorbar": {
             "outlinewidth": 0,
             "ticks": ""
            },
            "colorscale": [
             [
              0,
              "#0d0887"
             ],
             [
              0.1111111111111111,
              "#46039f"
             ],
             [
              0.2222222222222222,
              "#7201a8"
             ],
             [
              0.3333333333333333,
              "#9c179e"
             ],
             [
              0.4444444444444444,
              "#bd3786"
             ],
             [
              0.5555555555555556,
              "#d8576b"
             ],
             [
              0.6666666666666666,
              "#ed7953"
             ],
             [
              0.7777777777777778,
              "#fb9f3a"
             ],
             [
              0.8888888888888888,
              "#fdca26"
             ],
             [
              1,
              "#f0f921"
             ]
            ],
            "type": "surface"
           }
          ],
          "table": [
           {
            "cells": {
             "fill": {
              "color": "#EBF0F8"
             },
             "line": {
              "color": "white"
             }
            },
            "header": {
             "fill": {
              "color": "#C8D4E3"
             },
             "line": {
              "color": "white"
             }
            },
            "type": "table"
           }
          ]
         },
         "layout": {
          "annotationdefaults": {
           "arrowcolor": "#2a3f5f",
           "arrowhead": 0,
           "arrowwidth": 1
          },
          "autotypenumbers": "strict",
          "coloraxis": {
           "colorbar": {
            "outlinewidth": 0,
            "ticks": ""
           }
          },
          "colorscale": {
           "diverging": [
            [
             0,
             "#8e0152"
            ],
            [
             0.1,
             "#c51b7d"
            ],
            [
             0.2,
             "#de77ae"
            ],
            [
             0.3,
             "#f1b6da"
            ],
            [
             0.4,
             "#fde0ef"
            ],
            [
             0.5,
             "#f7f7f7"
            ],
            [
             0.6,
             "#e6f5d0"
            ],
            [
             0.7,
             "#b8e186"
            ],
            [
             0.8,
             "#7fbc41"
            ],
            [
             0.9,
             "#4d9221"
            ],
            [
             1,
             "#276419"
            ]
           ],
           "sequential": [
            [
             0,
             "#0d0887"
            ],
            [
             0.1111111111111111,
             "#46039f"
            ],
            [
             0.2222222222222222,
             "#7201a8"
            ],
            [
             0.3333333333333333,
             "#9c179e"
            ],
            [
             0.4444444444444444,
             "#bd3786"
            ],
            [
             0.5555555555555556,
             "#d8576b"
            ],
            [
             0.6666666666666666,
             "#ed7953"
            ],
            [
             0.7777777777777778,
             "#fb9f3a"
            ],
            [
             0.8888888888888888,
             "#fdca26"
            ],
            [
             1,
             "#f0f921"
            ]
           ],
           "sequentialminus": [
            [
             0,
             "#0d0887"
            ],
            [
             0.1111111111111111,
             "#46039f"
            ],
            [
             0.2222222222222222,
             "#7201a8"
            ],
            [
             0.3333333333333333,
             "#9c179e"
            ],
            [
             0.4444444444444444,
             "#bd3786"
            ],
            [
             0.5555555555555556,
             "#d8576b"
            ],
            [
             0.6666666666666666,
             "#ed7953"
            ],
            [
             0.7777777777777778,
             "#fb9f3a"
            ],
            [
             0.8888888888888888,
             "#fdca26"
            ],
            [
             1,
             "#f0f921"
            ]
           ]
          },
          "colorway": [
           "#636efa",
           "#EF553B",
           "#00cc96",
           "#ab63fa",
           "#FFA15A",
           "#19d3f3",
           "#FF6692",
           "#B6E880",
           "#FF97FF",
           "#FECB52"
          ],
          "font": {
           "color": "#2a3f5f"
          },
          "geo": {
           "bgcolor": "white",
           "lakecolor": "white",
           "landcolor": "#E5ECF6",
           "showlakes": true,
           "showland": true,
           "subunitcolor": "white"
          },
          "hoverlabel": {
           "align": "left"
          },
          "hovermode": "closest",
          "mapbox": {
           "style": "light"
          },
          "paper_bgcolor": "white",
          "plot_bgcolor": "#E5ECF6",
          "polar": {
           "angularaxis": {
            "gridcolor": "white",
            "linecolor": "white",
            "ticks": ""
           },
           "bgcolor": "#E5ECF6",
           "radialaxis": {
            "gridcolor": "white",
            "linecolor": "white",
            "ticks": ""
           }
          },
          "scene": {
           "xaxis": {
            "backgroundcolor": "#E5ECF6",
            "gridcolor": "white",
            "gridwidth": 2,
            "linecolor": "white",
            "showbackground": true,
            "ticks": "",
            "zerolinecolor": "white"
           },
           "yaxis": {
            "backgroundcolor": "#E5ECF6",
            "gridcolor": "white",
            "gridwidth": 2,
            "linecolor": "white",
            "showbackground": true,
            "ticks": "",
            "zerolinecolor": "white"
           },
           "zaxis": {
            "backgroundcolor": "#E5ECF6",
            "gridcolor": "white",
            "gridwidth": 2,
            "linecolor": "white",
            "showbackground": true,
            "ticks": "",
            "zerolinecolor": "white"
           }
          },
          "shapedefaults": {
           "line": {
            "color": "#2a3f5f"
           }
          },
          "ternary": {
           "aaxis": {
            "gridcolor": "white",
            "linecolor": "white",
            "ticks": ""
           },
           "baxis": {
            "gridcolor": "white",
            "linecolor": "white",
            "ticks": ""
           },
           "bgcolor": "#E5ECF6",
           "caxis": {
            "gridcolor": "white",
            "linecolor": "white",
            "ticks": ""
           }
          },
          "title": {
           "x": 0.05
          },
          "xaxis": {
           "automargin": true,
           "gridcolor": "white",
           "linecolor": "white",
           "ticks": "",
           "title": {
            "standoff": 15
           },
           "zerolinecolor": "white",
           "zerolinewidth": 2
          },
          "yaxis": {
           "automargin": true,
           "gridcolor": "white",
           "linecolor": "white",
           "ticks": "",
           "title": {
            "standoff": 15
           },
           "zerolinecolor": "white",
           "zerolinewidth": 2
          }
         }
        },
        "title": {
         "font": {
          "color": "#4D5663"
         }
        },
        "xaxis": {
         "gridcolor": "#E1E5ED",
         "showgrid": true,
         "tickfont": {
          "color": "#4D5663"
         },
         "title": {
          "font": {
           "color": "#4D5663"
          },
          "text": ""
         },
         "zerolinecolor": "#E1E5ED"
        },
        "yaxis": {
         "gridcolor": "#E1E5ED",
         "showgrid": true,
         "tickfont": {
          "color": "#4D5663"
         },
         "title": {
          "font": {
           "color": "#4D5663"
          },
          "text": ""
         },
         "zerolinecolor": "#E1E5ED"
        }
       }
      },
      "text/html": [
       "<div>                            <div id=\"3716ebd7-be69-4b41-918b-ccdc87e1715f\" class=\"plotly-graph-div\" style=\"height:525px; width:100%;\"></div>            <script type=\"text/javascript\">                require([\"plotly\"], function(Plotly) {                    window.PLOTLYENV=window.PLOTLYENV || {};\n",
       "                    window.PLOTLYENV.BASE_URL='https://plot.ly';                                    if (document.getElementById(\"3716ebd7-be69-4b41-918b-ccdc87e1715f\")) {                    Plotly.newPlot(                        \"3716ebd7-be69-4b41-918b-ccdc87e1715f\",                        [{\"colorscale\":[[0.0,\"rgb(165,0,38)\"],[0.1,\"rgb(215,48,39)\"],[0.2,\"rgb(244,109,67)\"],[0.3,\"rgb(253,174,97)\"],[0.4,\"rgb(254,224,144)\"],[0.5,\"rgb(255,255,191)\"],[0.6,\"rgb(224,243,248)\"],[0.7,\"rgb(171,217,233)\"],[0.8,\"rgb(116,173,209)\"],[0.9,\"rgb(69,117,180)\"],[1.0,\"rgb(49,54,149)\"]],\"x\":[0,1,2,3,4],\"y\":[\"x\",\"y\",\"z\"],\"z\":[[1,2,3,4,5],[10,20,30,20,10],[5,4,3,2,1]],\"type\":\"surface\"}],                        {\"legend\":{\"bgcolor\":\"#F5F6F9\",\"font\":{\"color\":\"#4D5663\"}},\"paper_bgcolor\":\"#F5F6F9\",\"plot_bgcolor\":\"#F5F6F9\",\"template\":{\"data\":{\"barpolar\":[{\"marker\":{\"line\":{\"color\":\"#E5ECF6\",\"width\":0.5},\"pattern\":{\"fillmode\":\"overlay\",\"size\":10,\"solidity\":0.2}},\"type\":\"barpolar\"}],\"bar\":[{\"error_x\":{\"color\":\"#2a3f5f\"},\"error_y\":{\"color\":\"#2a3f5f\"},\"marker\":{\"line\":{\"color\":\"#E5ECF6\",\"width\":0.5},\"pattern\":{\"fillmode\":\"overlay\",\"size\":10,\"solidity\":0.2}},\"type\":\"bar\"}],\"carpet\":[{\"aaxis\":{\"endlinecolor\":\"#2a3f5f\",\"gridcolor\":\"white\",\"linecolor\":\"white\",\"minorgridcolor\":\"white\",\"startlinecolor\":\"#2a3f5f\"},\"baxis\":{\"endlinecolor\":\"#2a3f5f\",\"gridcolor\":\"white\",\"linecolor\":\"white\",\"minorgridcolor\":\"white\",\"startlinecolor\":\"#2a3f5f\"},\"type\":\"carpet\"}],\"choropleth\":[{\"colorbar\":{\"outlinewidth\":0,\"ticks\":\"\"},\"type\":\"choropleth\"}],\"contourcarpet\":[{\"colorbar\":{\"outlinewidth\":0,\"ticks\":\"\"},\"type\":\"contourcarpet\"}],\"contour\":[{\"colorbar\":{\"outlinewidth\":0,\"ticks\":\"\"},\"colorscale\":[[0.0,\"#0d0887\"],[0.1111111111111111,\"#46039f\"],[0.2222222222222222,\"#7201a8\"],[0.3333333333333333,\"#9c179e\"],[0.4444444444444444,\"#bd3786\"],[0.5555555555555556,\"#d8576b\"],[0.6666666666666666,\"#ed7953\"],[0.7777777777777778,\"#fb9f3a\"],[0.8888888888888888,\"#fdca26\"],[1.0,\"#f0f921\"]],\"type\":\"contour\"}],\"heatmapgl\":[{\"colorbar\":{\"outlinewidth\":0,\"ticks\":\"\"},\"colorscale\":[[0.0,\"#0d0887\"],[0.1111111111111111,\"#46039f\"],[0.2222222222222222,\"#7201a8\"],[0.3333333333333333,\"#9c179e\"],[0.4444444444444444,\"#bd3786\"],[0.5555555555555556,\"#d8576b\"],[0.6666666666666666,\"#ed7953\"],[0.7777777777777778,\"#fb9f3a\"],[0.8888888888888888,\"#fdca26\"],[1.0,\"#f0f921\"]],\"type\":\"heatmapgl\"}],\"heatmap\":[{\"colorbar\":{\"outlinewidth\":0,\"ticks\":\"\"},\"colorscale\":[[0.0,\"#0d0887\"],[0.1111111111111111,\"#46039f\"],[0.2222222222222222,\"#7201a8\"],[0.3333333333333333,\"#9c179e\"],[0.4444444444444444,\"#bd3786\"],[0.5555555555555556,\"#d8576b\"],[0.6666666666666666,\"#ed7953\"],[0.7777777777777778,\"#fb9f3a\"],[0.8888888888888888,\"#fdca26\"],[1.0,\"#f0f921\"]],\"type\":\"heatmap\"}],\"histogram2dcontour\":[{\"colorbar\":{\"outlinewidth\":0,\"ticks\":\"\"},\"colorscale\":[[0.0,\"#0d0887\"],[0.1111111111111111,\"#46039f\"],[0.2222222222222222,\"#7201a8\"],[0.3333333333333333,\"#9c179e\"],[0.4444444444444444,\"#bd3786\"],[0.5555555555555556,\"#d8576b\"],[0.6666666666666666,\"#ed7953\"],[0.7777777777777778,\"#fb9f3a\"],[0.8888888888888888,\"#fdca26\"],[1.0,\"#f0f921\"]],\"type\":\"histogram2dcontour\"}],\"histogram2d\":[{\"colorbar\":{\"outlinewidth\":0,\"ticks\":\"\"},\"colorscale\":[[0.0,\"#0d0887\"],[0.1111111111111111,\"#46039f\"],[0.2222222222222222,\"#7201a8\"],[0.3333333333333333,\"#9c179e\"],[0.4444444444444444,\"#bd3786\"],[0.5555555555555556,\"#d8576b\"],[0.6666666666666666,\"#ed7953\"],[0.7777777777777778,\"#fb9f3a\"],[0.8888888888888888,\"#fdca26\"],[1.0,\"#f0f921\"]],\"type\":\"histogram2d\"}],\"histogram\":[{\"marker\":{\"pattern\":{\"fillmode\":\"overlay\",\"size\":10,\"solidity\":0.2}},\"type\":\"histogram\"}],\"mesh3d\":[{\"colorbar\":{\"outlinewidth\":0,\"ticks\":\"\"},\"type\":\"mesh3d\"}],\"parcoords\":[{\"line\":{\"colorbar\":{\"outlinewidth\":0,\"ticks\":\"\"}},\"type\":\"parcoords\"}],\"pie\":[{\"automargin\":true,\"type\":\"pie\"}],\"scatter3d\":[{\"line\":{\"colorbar\":{\"outlinewidth\":0,\"ticks\":\"\"}},\"marker\":{\"colorbar\":{\"outlinewidth\":0,\"ticks\":\"\"}},\"type\":\"scatter3d\"}],\"scattercarpet\":[{\"marker\":{\"colorbar\":{\"outlinewidth\":0,\"ticks\":\"\"}},\"type\":\"scattercarpet\"}],\"scattergeo\":[{\"marker\":{\"colorbar\":{\"outlinewidth\":0,\"ticks\":\"\"}},\"type\":\"scattergeo\"}],\"scattergl\":[{\"marker\":{\"colorbar\":{\"outlinewidth\":0,\"ticks\":\"\"}},\"type\":\"scattergl\"}],\"scattermapbox\":[{\"marker\":{\"colorbar\":{\"outlinewidth\":0,\"ticks\":\"\"}},\"type\":\"scattermapbox\"}],\"scatterpolargl\":[{\"marker\":{\"colorbar\":{\"outlinewidth\":0,\"ticks\":\"\"}},\"type\":\"scatterpolargl\"}],\"scatterpolar\":[{\"marker\":{\"colorbar\":{\"outlinewidth\":0,\"ticks\":\"\"}},\"type\":\"scatterpolar\"}],\"scatter\":[{\"marker\":{\"colorbar\":{\"outlinewidth\":0,\"ticks\":\"\"}},\"type\":\"scatter\"}],\"scatterternary\":[{\"marker\":{\"colorbar\":{\"outlinewidth\":0,\"ticks\":\"\"}},\"type\":\"scatterternary\"}],\"surface\":[{\"colorbar\":{\"outlinewidth\":0,\"ticks\":\"\"},\"colorscale\":[[0.0,\"#0d0887\"],[0.1111111111111111,\"#46039f\"],[0.2222222222222222,\"#7201a8\"],[0.3333333333333333,\"#9c179e\"],[0.4444444444444444,\"#bd3786\"],[0.5555555555555556,\"#d8576b\"],[0.6666666666666666,\"#ed7953\"],[0.7777777777777778,\"#fb9f3a\"],[0.8888888888888888,\"#fdca26\"],[1.0,\"#f0f921\"]],\"type\":\"surface\"}],\"table\":[{\"cells\":{\"fill\":{\"color\":\"#EBF0F8\"},\"line\":{\"color\":\"white\"}},\"header\":{\"fill\":{\"color\":\"#C8D4E3\"},\"line\":{\"color\":\"white\"}},\"type\":\"table\"}]},\"layout\":{\"annotationdefaults\":{\"arrowcolor\":\"#2a3f5f\",\"arrowhead\":0,\"arrowwidth\":1},\"autotypenumbers\":\"strict\",\"coloraxis\":{\"colorbar\":{\"outlinewidth\":0,\"ticks\":\"\"}},\"colorscale\":{\"diverging\":[[0,\"#8e0152\"],[0.1,\"#c51b7d\"],[0.2,\"#de77ae\"],[0.3,\"#f1b6da\"],[0.4,\"#fde0ef\"],[0.5,\"#f7f7f7\"],[0.6,\"#e6f5d0\"],[0.7,\"#b8e186\"],[0.8,\"#7fbc41\"],[0.9,\"#4d9221\"],[1,\"#276419\"]],\"sequential\":[[0.0,\"#0d0887\"],[0.1111111111111111,\"#46039f\"],[0.2222222222222222,\"#7201a8\"],[0.3333333333333333,\"#9c179e\"],[0.4444444444444444,\"#bd3786\"],[0.5555555555555556,\"#d8576b\"],[0.6666666666666666,\"#ed7953\"],[0.7777777777777778,\"#fb9f3a\"],[0.8888888888888888,\"#fdca26\"],[1.0,\"#f0f921\"]],\"sequentialminus\":[[0.0,\"#0d0887\"],[0.1111111111111111,\"#46039f\"],[0.2222222222222222,\"#7201a8\"],[0.3333333333333333,\"#9c179e\"],[0.4444444444444444,\"#bd3786\"],[0.5555555555555556,\"#d8576b\"],[0.6666666666666666,\"#ed7953\"],[0.7777777777777778,\"#fb9f3a\"],[0.8888888888888888,\"#fdca26\"],[1.0,\"#f0f921\"]]},\"colorway\":[\"#636efa\",\"#EF553B\",\"#00cc96\",\"#ab63fa\",\"#FFA15A\",\"#19d3f3\",\"#FF6692\",\"#B6E880\",\"#FF97FF\",\"#FECB52\"],\"font\":{\"color\":\"#2a3f5f\"},\"geo\":{\"bgcolor\":\"white\",\"lakecolor\":\"white\",\"landcolor\":\"#E5ECF6\",\"showlakes\":true,\"showland\":true,\"subunitcolor\":\"white\"},\"hoverlabel\":{\"align\":\"left\"},\"hovermode\":\"closest\",\"mapbox\":{\"style\":\"light\"},\"paper_bgcolor\":\"white\",\"plot_bgcolor\":\"#E5ECF6\",\"polar\":{\"angularaxis\":{\"gridcolor\":\"white\",\"linecolor\":\"white\",\"ticks\":\"\"},\"bgcolor\":\"#E5ECF6\",\"radialaxis\":{\"gridcolor\":\"white\",\"linecolor\":\"white\",\"ticks\":\"\"}},\"scene\":{\"xaxis\":{\"backgroundcolor\":\"#E5ECF6\",\"gridcolor\":\"white\",\"gridwidth\":2,\"linecolor\":\"white\",\"showbackground\":true,\"ticks\":\"\",\"zerolinecolor\":\"white\"},\"yaxis\":{\"backgroundcolor\":\"#E5ECF6\",\"gridcolor\":\"white\",\"gridwidth\":2,\"linecolor\":\"white\",\"showbackground\":true,\"ticks\":\"\",\"zerolinecolor\":\"white\"},\"zaxis\":{\"backgroundcolor\":\"#E5ECF6\",\"gridcolor\":\"white\",\"gridwidth\":2,\"linecolor\":\"white\",\"showbackground\":true,\"ticks\":\"\",\"zerolinecolor\":\"white\"}},\"shapedefaults\":{\"line\":{\"color\":\"#2a3f5f\"}},\"ternary\":{\"aaxis\":{\"gridcolor\":\"white\",\"linecolor\":\"white\",\"ticks\":\"\"},\"baxis\":{\"gridcolor\":\"white\",\"linecolor\":\"white\",\"ticks\":\"\"},\"bgcolor\":\"#E5ECF6\",\"caxis\":{\"gridcolor\":\"white\",\"linecolor\":\"white\",\"ticks\":\"\"}},\"title\":{\"x\":0.05},\"xaxis\":{\"automargin\":true,\"gridcolor\":\"white\",\"linecolor\":\"white\",\"ticks\":\"\",\"title\":{\"standoff\":15},\"zerolinecolor\":\"white\",\"zerolinewidth\":2},\"yaxis\":{\"automargin\":true,\"gridcolor\":\"white\",\"linecolor\":\"white\",\"ticks\":\"\",\"title\":{\"standoff\":15},\"zerolinecolor\":\"white\",\"zerolinewidth\":2}}},\"title\":{\"font\":{\"color\":\"#4D5663\"}},\"xaxis\":{\"gridcolor\":\"#E1E5ED\",\"showgrid\":true,\"tickfont\":{\"color\":\"#4D5663\"},\"title\":{\"font\":{\"color\":\"#4D5663\"},\"text\":\"\"},\"zerolinecolor\":\"#E1E5ED\"},\"yaxis\":{\"gridcolor\":\"#E1E5ED\",\"showgrid\":true,\"tickfont\":{\"color\":\"#4D5663\"},\"title\":{\"font\":{\"color\":\"#4D5663\"},\"text\":\"\"},\"zerolinecolor\":\"#E1E5ED\"}},                        {\"showLink\": true, \"linkText\": \"Export to plot.ly\", \"plotlyServerURL\": \"https://plot.ly\", \"responsive\": true}                    ).then(function(){\n",
       "                            \n",
       "var gd = document.getElementById('3716ebd7-be69-4b41-918b-ccdc87e1715f');\n",
       "var x = new MutationObserver(function (mutations, observer) {{\n",
       "        var display = window.getComputedStyle(gd).display;\n",
       "        if (!display || display === 'none') {{\n",
       "            console.log([gd, 'removed!']);\n",
       "            Plotly.purge(gd);\n",
       "            observer.disconnect();\n",
       "        }}\n",
       "}});\n",
       "\n",
       "// Listen for the removal of the full notebook cells\n",
       "var notebookContainer = gd.closest('#notebook-container');\n",
       "if (notebookContainer) {{\n",
       "    x.observe(notebookContainer, {childList: true});\n",
       "}}\n",
       "\n",
       "// Listen for the clearing of the current output cell\n",
       "var outputEl = gd.closest('.output');\n",
       "if (outputEl) {{\n",
       "    x.observe(outputEl, {childList: true});\n",
       "}}\n",
       "\n",
       "                        })                };                });            </script>        </div>"
      ]
     },
     "metadata": {},
     "output_type": "display_data"
    }
   ],
   "source": [
    "df3 = pd.DataFrame({'x':[1,2,3,4,5],'y':[10,20,30,20,10],'z':[5,4,3,2,1]})\n",
    "df3.iplot(kind='surface',colorscale='rdylbu')"
   ]
  },
  {
   "cell_type": "markdown",
   "metadata": {},
   "source": [
    "## Spread"
   ]
  },
  {
   "cell_type": "code",
   "execution_count": 15,
   "metadata": {},
   "outputs": [
    {
     "name": "stderr",
     "output_type": "stream",
     "text": [
      "C:\\Users\\ROG STRIX\\anaconda3\\lib\\site-packages\\cufflinks\\plotlytools.py:849: FutureWarning:\n",
      "\n",
      "The pandas.np module is deprecated and will be removed from pandas in a future version. Import numpy directly instead.\n",
      "\n",
      "C:\\Users\\ROG STRIX\\anaconda3\\lib\\site-packages\\cufflinks\\plotlytools.py:850: FutureWarning:\n",
      "\n",
      "The pandas.np module is deprecated and will be removed from pandas in a future version. Import numpy directly instead.\n",
      "\n"
     ]
    },
    {
     "data": {
      "application/vnd.plotly.v1+json": {
       "config": {
        "linkText": "Export to plot.ly",
        "plotlyServerURL": "https://plot.ly",
        "showLink": true
       },
       "data": [
        {
         "line": {
          "color": "rgba(255, 153, 51, 1.0)",
          "dash": "solid",
          "shape": "linear",
          "width": 1.3
         },
         "mode": "lines",
         "name": "A",
         "text": "",
         "type": "scatter",
         "x": [
          0,
          1,
          2,
          3,
          4,
          5,
          6,
          7,
          8,
          9,
          10,
          11,
          12,
          13,
          14,
          15,
          16,
          17,
          18,
          19,
          20,
          21,
          22,
          23,
          24,
          25,
          26,
          27,
          28,
          29,
          30,
          31,
          32,
          33,
          34,
          35,
          36,
          37,
          38,
          39,
          40,
          41,
          42,
          43,
          44,
          45,
          46,
          47,
          48,
          49,
          50,
          51,
          52,
          53,
          54,
          55,
          56,
          57,
          58,
          59,
          60,
          61,
          62,
          63,
          64,
          65,
          66,
          67,
          68,
          69,
          70,
          71,
          72,
          73,
          74,
          75,
          76,
          77,
          78,
          79,
          80,
          81,
          82,
          83,
          84,
          85,
          86,
          87,
          88,
          89,
          90,
          91,
          92,
          93,
          94,
          95,
          96,
          97,
          98,
          99
         ],
         "y": [
          -0.6005272572897303,
          0.4244128074582704,
          -0.4409073355427527,
          0.8765579194110584,
          0.113261090341445,
          -0.4734724357527685,
          -0.5188427551304841,
          1.6014103864400826,
          -1.9072129048619137,
          0.13973295867986582,
          0.1702359906906131,
          -0.05052875998036999,
          0.20326605679474508,
          -0.6068987450085842,
          0.01901108295103341,
          1.693422376323972,
          0.5845625651895274,
          0.4308434776212245,
          2.0362362984046185,
          -0.37880189101535205,
          0.5311977539175295,
          0.2225490230732347,
          0.6105435706552877,
          0.6012397714386573,
          -0.49798029829730084,
          -1.5788557684254483,
          -1.1725339762475635,
          -0.7429584143370385,
          -1.3033130409601439,
          -0.1481121095374952,
          -0.08987450109740919,
          0.8634887289963715,
          1.3154289749839931,
          -0.1458612244300904,
          0.0446654478807579,
          -0.48504782159620513,
          -1.617495602420557,
          -0.731694949591574,
          0.3821784833214193,
          -0.5662280029457727,
          0.21408484014185408,
          -1.1289387995158675,
          0.7269769388895451,
          -0.9011091704893577,
          -2.535588699140916,
          -0.43260366467435213,
          -0.15376731612435343,
          0.39964626739478737,
          -0.11233023781221708,
          1.554395766979265,
          -0.4308410579333943,
          -1.0882608871453134,
          -0.30491823751325103,
          -2.7204294407752174,
          0.6273722477938712,
          -0.8654492756421258,
          1.9183759306233856,
          1.804196834549093,
          -0.15729206200947618,
          1.062606251289599,
          0.7294892417546102,
          1.734507463508707,
          -0.9622969360364804,
          -1.22800512027324,
          1.5476998702992784,
          0.20212868111909074,
          -0.2287354920448391,
          -1.6256267328555414,
          0.11805653097824363,
          -0.12569222392741497,
          0.6344132872644095,
          0.13955461698175808,
          -0.10892925133430031,
          0.45304222972607944,
          -0.2615053375643434,
          -0.22411611506996273,
          1.7141971468445547,
          -1.5018373663357867,
          -0.38328035963769436,
          -0.2043652018260254,
          -0.17657931439914137,
          -0.9963628208785296,
          0.6107128707648545,
          -0.47340018232802844,
          0.9359112776474541,
          -1.341473246861999,
          1.1182266906281662,
          2.353288351782029,
          -0.846808712188778,
          1.372132144431435,
          0.9999474752472598,
          1.5804495493664477,
          2.04568628243262,
          0.9797750995650546,
          -0.1787771713442234,
          -0.027427461421897097,
          1.476220213935394,
          0.7695677105340464,
          -1.3060175064144073,
          0.3037509273928669
         ]
        },
        {
         "line": {
          "color": "rgba(55, 128, 191, 1.0)",
          "dash": "solid",
          "shape": "linear",
          "width": 1.3
         },
         "mode": "lines",
         "name": "B",
         "text": "",
         "type": "scatter",
         "x": [
          0,
          1,
          2,
          3,
          4,
          5,
          6,
          7,
          8,
          9,
          10,
          11,
          12,
          13,
          14,
          15,
          16,
          17,
          18,
          19,
          20,
          21,
          22,
          23,
          24,
          25,
          26,
          27,
          28,
          29,
          30,
          31,
          32,
          33,
          34,
          35,
          36,
          37,
          38,
          39,
          40,
          41,
          42,
          43,
          44,
          45,
          46,
          47,
          48,
          49,
          50,
          51,
          52,
          53,
          54,
          55,
          56,
          57,
          58,
          59,
          60,
          61,
          62,
          63,
          64,
          65,
          66,
          67,
          68,
          69,
          70,
          71,
          72,
          73,
          74,
          75,
          76,
          77,
          78,
          79,
          80,
          81,
          82,
          83,
          84,
          85,
          86,
          87,
          88,
          89,
          90,
          91,
          92,
          93,
          94,
          95,
          96,
          97,
          98,
          99
         ],
         "y": [
          0.03354789955792382,
          0.8070604927554935,
          -0.20541484675194602,
          1.4129841433086383,
          1.9008318459139721,
          0.09300179845913471,
          0.5736886980820219,
          -0.19687274864419568,
          0.6281570041414841,
          0.7239231301056195,
          1.7173841614342737,
          1.3988000668176435,
          -0.8184742870915912,
          0.8967890017662526,
          -0.9153149454880518,
          -1.1625286021506622,
          0.27044631838323935,
          0.17279082609833252,
          -0.4838988802454175,
          -0.1985370723300537,
          0.45925580298117624,
          -0.466204510726407,
          -1.1902078376153176,
          -1.9423008579291474,
          0.17112423404743934,
          -0.8855102151597386,
          -0.06814690123720969,
          0.007010359856248485,
          -1.137822077002745,
          -2.308475853373866,
          -1.4624081721848106,
          -2.3647837278310138,
          -0.04945163262821755,
          -1.2724024016855202,
          -0.18420164801720115,
          0.4937061618303972,
          0.8033638747875229,
          -0.5036382720105074,
          0.8650082134002659,
          1.3913484083238983,
          -0.20620902568661237,
          0.25801694867934716,
          1.2157655167065369,
          1.3728410412263647,
          -0.8789152030004874,
          2.732310897045035,
          -1.3190874577850344,
          1.397284606765221,
          -0.278408549922117,
          1.6045608853438653,
          0.4205862015249162,
          0.24586301293823862,
          -0.1624515223851526,
          0.004887071810461409,
          -0.3569192879972979,
          0.6108006930348017,
          0.5384132600405072,
          1.1870638570610101,
          -0.8103379700987837,
          1.025975673439183,
          -0.4868784353162769,
          1.099447359391673,
          2.126150863729017,
          -0.8853264199162242,
          -0.3906919892588175,
          0.7644501291980417,
          -0.33172508223653285,
          -1.673993229937289,
          0.7820730124854408,
          0.25078668823209227,
          0.060357828532477814,
          0.7135707361779056,
          1.9964468811846894,
          0.15720488025605775,
          -0.2914659228838468,
          0.5161998499046359,
          -1.2785898286810256,
          1.4256047826992324,
          0.7069658123112345,
          1.8546235482138067,
          1.3346021424253542,
          1.1148461334157418,
          0.026985915141145175,
          1.397096502991006,
          2.045547530911009,
          1.2087274247672462,
          -0.02902799114594827,
          0.013673037218682812,
          -0.7223314143978876,
          -0.19675613251686933,
          0.19737307211466443,
          1.8029377596310276,
          -0.5129101312888362,
          1.9020237049129,
          0.5392281905319504,
          -1.5195104524428904,
          0.45090724709228314,
          -0.4605983828812109,
          0.8367771087907409,
          0.4522326050616165
         ]
        },
        {
         "connectgaps": false,
         "fill": "tozeroy",
         "line": {
          "color": "green",
          "dash": "solid",
          "shape": "linear",
          "width": 0.5
         },
         "mode": "lines",
         "name": "Spread",
         "showlegend": false,
         "type": "scatter",
         "x": [
          0,
          1,
          2,
          3,
          4,
          5,
          6,
          7,
          8,
          9,
          10,
          11,
          12,
          13,
          14,
          15,
          16,
          17,
          18,
          19,
          20,
          21,
          22,
          23,
          24,
          25,
          26,
          27,
          28,
          29,
          30,
          31,
          32,
          33,
          34,
          35,
          36,
          37,
          38,
          39,
          40,
          41,
          42,
          43,
          44,
          45,
          46,
          47,
          48,
          49,
          50,
          51,
          52,
          53,
          54,
          55,
          56,
          57,
          58,
          59,
          60,
          61,
          62,
          63,
          64,
          65,
          66,
          67,
          68,
          69,
          70,
          71,
          72,
          73,
          74,
          75,
          76,
          77,
          78,
          79,
          80,
          81,
          82,
          83,
          84,
          85,
          86,
          87,
          88,
          89,
          90,
          91,
          92,
          93,
          94,
          95,
          96,
          97,
          98,
          99
         ],
         "xaxis": "x2",
         "y": [
          "",
          "",
          "",
          "",
          "",
          "",
          "",
          1.7982831350842783,
          "",
          "",
          "",
          "",
          1.0217403438863362,
          "",
          0.9343260284390852,
          2.855950978474634,
          0.3141162468062881,
          0.258052651522892,
          2.520135178650036,
          "",
          0.0719419509363533,
          0.6887535337996418,
          1.8007514082706053,
          2.5435406293678047,
          "",
          "",
          "",
          "",
          "",
          2.1603637438363705,
          1.3725336710874014,
          3.2282724568273853,
          1.3648806076122106,
          1.12654117725543,
          0.22886709589795906,
          "",
          "",
          "",
          "",
          "",
          0.42029386582846645,
          "",
          "",
          "",
          "",
          "",
          1.165320141660681,
          "",
          0.16607831210989993,
          "",
          "",
          "",
          "",
          "",
          0.9842915357911691,
          "",
          1.3799626705828785,
          0.6171329774880829,
          0.6530459080893075,
          0.036630577850416124,
          1.216367677070887,
          0.6350601041170341,
          "",
          "",
          1.9383918595580958,
          "",
          0.10298959019169376,
          0.04836649708174767,
          "",
          "",
          0.5740554587319316,
          "",
          "",
          0.2958373494700217,
          0.029960585319503408,
          "",
          2.99278697552558,
          "",
          "",
          "",
          "",
          "",
          0.5837269556237094,
          "",
          "",
          "",
          1.1472546817741145,
          2.3396153145633463,
          "",
          1.5688882769483044,
          0.8025744031325954,
          "",
          2.558596413721456,
          "",
          "",
          1.4920829910209934,
          1.025312966843111,
          1.2301660934152574,
          "",
          ""
         ],
         "yaxis": "y2"
        },
        {
         "connectgaps": false,
         "fill": "tozeroy",
         "line": {
          "color": "red",
          "dash": "solid",
          "shape": "linear",
          "width": 0.5
         },
         "mode": "lines",
         "name": "Spread",
         "showlegend": false,
         "type": "scatter",
         "x": [
          0,
          1,
          2,
          3,
          4,
          5,
          6,
          7,
          8,
          9,
          10,
          11,
          12,
          13,
          14,
          15,
          16,
          17,
          18,
          19,
          20,
          21,
          22,
          23,
          24,
          25,
          26,
          27,
          28,
          29,
          30,
          31,
          32,
          33,
          34,
          35,
          36,
          37,
          38,
          39,
          40,
          41,
          42,
          43,
          44,
          45,
          46,
          47,
          48,
          49,
          50,
          51,
          52,
          53,
          54,
          55,
          56,
          57,
          58,
          59,
          60,
          61,
          62,
          63,
          64,
          65,
          66,
          67,
          68,
          69,
          70,
          71,
          72,
          73,
          74,
          75,
          76,
          77,
          78,
          79,
          80,
          81,
          82,
          83,
          84,
          85,
          86,
          87,
          88,
          89,
          90,
          91,
          92,
          93,
          94,
          95,
          96,
          97,
          98,
          99
         ],
         "xaxis": "x2",
         "y": [
          -0.6340751568476541,
          -0.3826476852972231,
          -0.23549248879080667,
          -0.5364262238975799,
          -1.787570755572527,
          -0.5664742342119032,
          -1.0925314532125059,
          "",
          -2.535369909003398,
          -0.5841901714257537,
          -1.5471481707436607,
          -1.4493288267980136,
          "",
          -1.5036877467748369,
          "",
          "",
          "",
          "",
          "",
          -0.18026481868529837,
          "",
          "",
          "",
          "",
          -0.6691045323447402,
          -0.6933455532657097,
          -1.1043870750103537,
          -0.749968774193287,
          -0.16549096395739893,
          "",
          "",
          "",
          "",
          "",
          "",
          -0.9787539834266024,
          -2.42085947720808,
          -0.22805667758106662,
          -0.4828297300788466,
          -1.957576411269671,
          "",
          -1.3869557481952146,
          -0.4887885778169918,
          -2.2739502117157224,
          -1.6566734961404286,
          -3.1649145617193875,
          "",
          -0.9976383393704336,
          "",
          -0.05016511836460036,
          -0.8514272594583105,
          -1.334123900083552,
          -0.14246671512809844,
          -2.7253165125856786,
          "",
          -1.4762499686769275,
          "",
          "",
          "",
          "",
          "",
          "",
          -3.0884477997654978,
          -0.34267870035701586,
          "",
          -0.5623214480789509,
          "",
          "",
          -0.6640164815071972,
          -0.37647891215950724,
          "",
          -0.5740161191961475,
          -2.1053761325189897,
          "",
          "",
          -0.7403159649745986,
          "",
          -2.927442149035019,
          -1.090246171948929,
          -2.0589887500398323,
          -1.5111814568244957,
          -2.1112089542942716,
          "",
          -1.8704966853190346,
          -1.1096362532635549,
          -2.550200671629245,
          "",
          "",
          -0.12447729779089034,
          "",
          "",
          -0.22248821026458,
          "",
          -0.9222486053478455,
          -0.7180053618761738,
          "",
          "",
          "",
          -2.142794615205148,
          -0.1484816776687496
         ],
         "yaxis": "y2"
        }
       ],
       "layout": {
        "hovermode": "x",
        "legend": {
         "bgcolor": "#F5F6F9",
         "font": {
          "color": "#4D5663"
         }
        },
        "paper_bgcolor": "#F5F6F9",
        "plot_bgcolor": "#F5F6F9",
        "template": {
         "data": {
          "bar": [
           {
            "error_x": {
             "color": "#2a3f5f"
            },
            "error_y": {
             "color": "#2a3f5f"
            },
            "marker": {
             "line": {
              "color": "#E5ECF6",
              "width": 0.5
             },
             "pattern": {
              "fillmode": "overlay",
              "size": 10,
              "solidity": 0.2
             }
            },
            "type": "bar"
           }
          ],
          "barpolar": [
           {
            "marker": {
             "line": {
              "color": "#E5ECF6",
              "width": 0.5
             },
             "pattern": {
              "fillmode": "overlay",
              "size": 10,
              "solidity": 0.2
             }
            },
            "type": "barpolar"
           }
          ],
          "carpet": [
           {
            "aaxis": {
             "endlinecolor": "#2a3f5f",
             "gridcolor": "white",
             "linecolor": "white",
             "minorgridcolor": "white",
             "startlinecolor": "#2a3f5f"
            },
            "baxis": {
             "endlinecolor": "#2a3f5f",
             "gridcolor": "white",
             "linecolor": "white",
             "minorgridcolor": "white",
             "startlinecolor": "#2a3f5f"
            },
            "type": "carpet"
           }
          ],
          "choropleth": [
           {
            "colorbar": {
             "outlinewidth": 0,
             "ticks": ""
            },
            "type": "choropleth"
           }
          ],
          "contour": [
           {
            "colorbar": {
             "outlinewidth": 0,
             "ticks": ""
            },
            "colorscale": [
             [
              0,
              "#0d0887"
             ],
             [
              0.1111111111111111,
              "#46039f"
             ],
             [
              0.2222222222222222,
              "#7201a8"
             ],
             [
              0.3333333333333333,
              "#9c179e"
             ],
             [
              0.4444444444444444,
              "#bd3786"
             ],
             [
              0.5555555555555556,
              "#d8576b"
             ],
             [
              0.6666666666666666,
              "#ed7953"
             ],
             [
              0.7777777777777778,
              "#fb9f3a"
             ],
             [
              0.8888888888888888,
              "#fdca26"
             ],
             [
              1,
              "#f0f921"
             ]
            ],
            "type": "contour"
           }
          ],
          "contourcarpet": [
           {
            "colorbar": {
             "outlinewidth": 0,
             "ticks": ""
            },
            "type": "contourcarpet"
           }
          ],
          "heatmap": [
           {
            "colorbar": {
             "outlinewidth": 0,
             "ticks": ""
            },
            "colorscale": [
             [
              0,
              "#0d0887"
             ],
             [
              0.1111111111111111,
              "#46039f"
             ],
             [
              0.2222222222222222,
              "#7201a8"
             ],
             [
              0.3333333333333333,
              "#9c179e"
             ],
             [
              0.4444444444444444,
              "#bd3786"
             ],
             [
              0.5555555555555556,
              "#d8576b"
             ],
             [
              0.6666666666666666,
              "#ed7953"
             ],
             [
              0.7777777777777778,
              "#fb9f3a"
             ],
             [
              0.8888888888888888,
              "#fdca26"
             ],
             [
              1,
              "#f0f921"
             ]
            ],
            "type": "heatmap"
           }
          ],
          "heatmapgl": [
           {
            "colorbar": {
             "outlinewidth": 0,
             "ticks": ""
            },
            "colorscale": [
             [
              0,
              "#0d0887"
             ],
             [
              0.1111111111111111,
              "#46039f"
             ],
             [
              0.2222222222222222,
              "#7201a8"
             ],
             [
              0.3333333333333333,
              "#9c179e"
             ],
             [
              0.4444444444444444,
              "#bd3786"
             ],
             [
              0.5555555555555556,
              "#d8576b"
             ],
             [
              0.6666666666666666,
              "#ed7953"
             ],
             [
              0.7777777777777778,
              "#fb9f3a"
             ],
             [
              0.8888888888888888,
              "#fdca26"
             ],
             [
              1,
              "#f0f921"
             ]
            ],
            "type": "heatmapgl"
           }
          ],
          "histogram": [
           {
            "marker": {
             "pattern": {
              "fillmode": "overlay",
              "size": 10,
              "solidity": 0.2
             }
            },
            "type": "histogram"
           }
          ],
          "histogram2d": [
           {
            "colorbar": {
             "outlinewidth": 0,
             "ticks": ""
            },
            "colorscale": [
             [
              0,
              "#0d0887"
             ],
             [
              0.1111111111111111,
              "#46039f"
             ],
             [
              0.2222222222222222,
              "#7201a8"
             ],
             [
              0.3333333333333333,
              "#9c179e"
             ],
             [
              0.4444444444444444,
              "#bd3786"
             ],
             [
              0.5555555555555556,
              "#d8576b"
             ],
             [
              0.6666666666666666,
              "#ed7953"
             ],
             [
              0.7777777777777778,
              "#fb9f3a"
             ],
             [
              0.8888888888888888,
              "#fdca26"
             ],
             [
              1,
              "#f0f921"
             ]
            ],
            "type": "histogram2d"
           }
          ],
          "histogram2dcontour": [
           {
            "colorbar": {
             "outlinewidth": 0,
             "ticks": ""
            },
            "colorscale": [
             [
              0,
              "#0d0887"
             ],
             [
              0.1111111111111111,
              "#46039f"
             ],
             [
              0.2222222222222222,
              "#7201a8"
             ],
             [
              0.3333333333333333,
              "#9c179e"
             ],
             [
              0.4444444444444444,
              "#bd3786"
             ],
             [
              0.5555555555555556,
              "#d8576b"
             ],
             [
              0.6666666666666666,
              "#ed7953"
             ],
             [
              0.7777777777777778,
              "#fb9f3a"
             ],
             [
              0.8888888888888888,
              "#fdca26"
             ],
             [
              1,
              "#f0f921"
             ]
            ],
            "type": "histogram2dcontour"
           }
          ],
          "mesh3d": [
           {
            "colorbar": {
             "outlinewidth": 0,
             "ticks": ""
            },
            "type": "mesh3d"
           }
          ],
          "parcoords": [
           {
            "line": {
             "colorbar": {
              "outlinewidth": 0,
              "ticks": ""
             }
            },
            "type": "parcoords"
           }
          ],
          "pie": [
           {
            "automargin": true,
            "type": "pie"
           }
          ],
          "scatter": [
           {
            "marker": {
             "colorbar": {
              "outlinewidth": 0,
              "ticks": ""
             }
            },
            "type": "scatter"
           }
          ],
          "scatter3d": [
           {
            "line": {
             "colorbar": {
              "outlinewidth": 0,
              "ticks": ""
             }
            },
            "marker": {
             "colorbar": {
              "outlinewidth": 0,
              "ticks": ""
             }
            },
            "type": "scatter3d"
           }
          ],
          "scattercarpet": [
           {
            "marker": {
             "colorbar": {
              "outlinewidth": 0,
              "ticks": ""
             }
            },
            "type": "scattercarpet"
           }
          ],
          "scattergeo": [
           {
            "marker": {
             "colorbar": {
              "outlinewidth": 0,
              "ticks": ""
             }
            },
            "type": "scattergeo"
           }
          ],
          "scattergl": [
           {
            "marker": {
             "colorbar": {
              "outlinewidth": 0,
              "ticks": ""
             }
            },
            "type": "scattergl"
           }
          ],
          "scattermapbox": [
           {
            "marker": {
             "colorbar": {
              "outlinewidth": 0,
              "ticks": ""
             }
            },
            "type": "scattermapbox"
           }
          ],
          "scatterpolar": [
           {
            "marker": {
             "colorbar": {
              "outlinewidth": 0,
              "ticks": ""
             }
            },
            "type": "scatterpolar"
           }
          ],
          "scatterpolargl": [
           {
            "marker": {
             "colorbar": {
              "outlinewidth": 0,
              "ticks": ""
             }
            },
            "type": "scatterpolargl"
           }
          ],
          "scatterternary": [
           {
            "marker": {
             "colorbar": {
              "outlinewidth": 0,
              "ticks": ""
             }
            },
            "type": "scatterternary"
           }
          ],
          "surface": [
           {
            "colorbar": {
             "outlinewidth": 0,
             "ticks": ""
            },
            "colorscale": [
             [
              0,
              "#0d0887"
             ],
             [
              0.1111111111111111,
              "#46039f"
             ],
             [
              0.2222222222222222,
              "#7201a8"
             ],
             [
              0.3333333333333333,
              "#9c179e"
             ],
             [
              0.4444444444444444,
              "#bd3786"
             ],
             [
              0.5555555555555556,
              "#d8576b"
             ],
             [
              0.6666666666666666,
              "#ed7953"
             ],
             [
              0.7777777777777778,
              "#fb9f3a"
             ],
             [
              0.8888888888888888,
              "#fdca26"
             ],
             [
              1,
              "#f0f921"
             ]
            ],
            "type": "surface"
           }
          ],
          "table": [
           {
            "cells": {
             "fill": {
              "color": "#EBF0F8"
             },
             "line": {
              "color": "white"
             }
            },
            "header": {
             "fill": {
              "color": "#C8D4E3"
             },
             "line": {
              "color": "white"
             }
            },
            "type": "table"
           }
          ]
         },
         "layout": {
          "annotationdefaults": {
           "arrowcolor": "#2a3f5f",
           "arrowhead": 0,
           "arrowwidth": 1
          },
          "autotypenumbers": "strict",
          "coloraxis": {
           "colorbar": {
            "outlinewidth": 0,
            "ticks": ""
           }
          },
          "colorscale": {
           "diverging": [
            [
             0,
             "#8e0152"
            ],
            [
             0.1,
             "#c51b7d"
            ],
            [
             0.2,
             "#de77ae"
            ],
            [
             0.3,
             "#f1b6da"
            ],
            [
             0.4,
             "#fde0ef"
            ],
            [
             0.5,
             "#f7f7f7"
            ],
            [
             0.6,
             "#e6f5d0"
            ],
            [
             0.7,
             "#b8e186"
            ],
            [
             0.8,
             "#7fbc41"
            ],
            [
             0.9,
             "#4d9221"
            ],
            [
             1,
             "#276419"
            ]
           ],
           "sequential": [
            [
             0,
             "#0d0887"
            ],
            [
             0.1111111111111111,
             "#46039f"
            ],
            [
             0.2222222222222222,
             "#7201a8"
            ],
            [
             0.3333333333333333,
             "#9c179e"
            ],
            [
             0.4444444444444444,
             "#bd3786"
            ],
            [
             0.5555555555555556,
             "#d8576b"
            ],
            [
             0.6666666666666666,
             "#ed7953"
            ],
            [
             0.7777777777777778,
             "#fb9f3a"
            ],
            [
             0.8888888888888888,
             "#fdca26"
            ],
            [
             1,
             "#f0f921"
            ]
           ],
           "sequentialminus": [
            [
             0,
             "#0d0887"
            ],
            [
             0.1111111111111111,
             "#46039f"
            ],
            [
             0.2222222222222222,
             "#7201a8"
            ],
            [
             0.3333333333333333,
             "#9c179e"
            ],
            [
             0.4444444444444444,
             "#bd3786"
            ],
            [
             0.5555555555555556,
             "#d8576b"
            ],
            [
             0.6666666666666666,
             "#ed7953"
            ],
            [
             0.7777777777777778,
             "#fb9f3a"
            ],
            [
             0.8888888888888888,
             "#fdca26"
            ],
            [
             1,
             "#f0f921"
            ]
           ]
          },
          "colorway": [
           "#636efa",
           "#EF553B",
           "#00cc96",
           "#ab63fa",
           "#FFA15A",
           "#19d3f3",
           "#FF6692",
           "#B6E880",
           "#FF97FF",
           "#FECB52"
          ],
          "font": {
           "color": "#2a3f5f"
          },
          "geo": {
           "bgcolor": "white",
           "lakecolor": "white",
           "landcolor": "#E5ECF6",
           "showlakes": true,
           "showland": true,
           "subunitcolor": "white"
          },
          "hoverlabel": {
           "align": "left"
          },
          "hovermode": "closest",
          "mapbox": {
           "style": "light"
          },
          "paper_bgcolor": "white",
          "plot_bgcolor": "#E5ECF6",
          "polar": {
           "angularaxis": {
            "gridcolor": "white",
            "linecolor": "white",
            "ticks": ""
           },
           "bgcolor": "#E5ECF6",
           "radialaxis": {
            "gridcolor": "white",
            "linecolor": "white",
            "ticks": ""
           }
          },
          "scene": {
           "xaxis": {
            "backgroundcolor": "#E5ECF6",
            "gridcolor": "white",
            "gridwidth": 2,
            "linecolor": "white",
            "showbackground": true,
            "ticks": "",
            "zerolinecolor": "white"
           },
           "yaxis": {
            "backgroundcolor": "#E5ECF6",
            "gridcolor": "white",
            "gridwidth": 2,
            "linecolor": "white",
            "showbackground": true,
            "ticks": "",
            "zerolinecolor": "white"
           },
           "zaxis": {
            "backgroundcolor": "#E5ECF6",
            "gridcolor": "white",
            "gridwidth": 2,
            "linecolor": "white",
            "showbackground": true,
            "ticks": "",
            "zerolinecolor": "white"
           }
          },
          "shapedefaults": {
           "line": {
            "color": "#2a3f5f"
           }
          },
          "ternary": {
           "aaxis": {
            "gridcolor": "white",
            "linecolor": "white",
            "ticks": ""
           },
           "baxis": {
            "gridcolor": "white",
            "linecolor": "white",
            "ticks": ""
           },
           "bgcolor": "#E5ECF6",
           "caxis": {
            "gridcolor": "white",
            "linecolor": "white",
            "ticks": ""
           }
          },
          "title": {
           "x": 0.05
          },
          "xaxis": {
           "automargin": true,
           "gridcolor": "white",
           "linecolor": "white",
           "ticks": "",
           "title": {
            "standoff": 15
           },
           "zerolinecolor": "white",
           "zerolinewidth": 2
          },
          "yaxis": {
           "automargin": true,
           "gridcolor": "white",
           "linecolor": "white",
           "ticks": "",
           "title": {
            "standoff": 15
           },
           "zerolinecolor": "white",
           "zerolinewidth": 2
          }
         }
        },
        "title": {
         "font": {
          "color": "#4D5663"
         }
        },
        "xaxis": {
         "gridcolor": "#E1E5ED",
         "showgrid": true,
         "tickfont": {
          "color": "#4D5663"
         },
         "title": {
          "font": {
           "color": "#4D5663"
          },
          "text": ""
         },
         "zerolinecolor": "#E1E5ED"
        },
        "xaxis2": {
         "anchor": "y2",
         "gridcolor": "#E1E5ED",
         "showgrid": true,
         "showticklabels": false,
         "tickfont": {
          "color": "#4D5663"
         },
         "title": {
          "font": {
           "color": "#4D5663"
          },
          "text": ""
         },
         "zerolinecolor": "#E1E5ED"
        },
        "yaxis": {
         "domain": [
          0.3,
          1
         ],
         "gridcolor": "#E1E5ED",
         "showgrid": true,
         "tickfont": {
          "color": "#4D5663"
         },
         "title": {
          "font": {
           "color": "#4D5663"
          },
          "text": ""
         },
         "zerolinecolor": "#E1E5ED"
        },
        "yaxis2": {
         "domain": [
          0,
          0.25
         ],
         "gridcolor": "#E1E5ED",
         "showgrid": true,
         "tickfont": {
          "color": "#4D5663"
         },
         "title": {
          "font": {
           "color": "#4D5663"
          },
          "text": "Spread"
         },
         "zerolinecolor": "#E1E5ED"
        }
       }
      },
      "text/html": [
       "<div>                            <div id=\"47ae4a4d-72db-45f3-a833-2aa28c89813a\" class=\"plotly-graph-div\" style=\"height:525px; width:100%;\"></div>            <script type=\"text/javascript\">                require([\"plotly\"], function(Plotly) {                    window.PLOTLYENV=window.PLOTLYENV || {};\n",
       "                    window.PLOTLYENV.BASE_URL='https://plot.ly';                                    if (document.getElementById(\"47ae4a4d-72db-45f3-a833-2aa28c89813a\")) {                    Plotly.newPlot(                        \"47ae4a4d-72db-45f3-a833-2aa28c89813a\",                        [{\"line\":{\"color\":\"rgba(255, 153, 51, 1.0)\",\"dash\":\"solid\",\"shape\":\"linear\",\"width\":1.3},\"mode\":\"lines\",\"name\":\"A\",\"text\":\"\",\"x\":[0,1,2,3,4,5,6,7,8,9,10,11,12,13,14,15,16,17,18,19,20,21,22,23,24,25,26,27,28,29,30,31,32,33,34,35,36,37,38,39,40,41,42,43,44,45,46,47,48,49,50,51,52,53,54,55,56,57,58,59,60,61,62,63,64,65,66,67,68,69,70,71,72,73,74,75,76,77,78,79,80,81,82,83,84,85,86,87,88,89,90,91,92,93,94,95,96,97,98,99],\"y\":[-0.6005272572897303,0.4244128074582704,-0.4409073355427527,0.8765579194110584,0.113261090341445,-0.4734724357527685,-0.5188427551304841,1.6014103864400826,-1.9072129048619137,0.13973295867986582,0.1702359906906131,-0.05052875998036999,0.20326605679474508,-0.6068987450085842,0.01901108295103341,1.693422376323972,0.5845625651895274,0.4308434776212245,2.0362362984046185,-0.37880189101535205,0.5311977539175295,0.2225490230732347,0.6105435706552877,0.6012397714386573,-0.49798029829730084,-1.5788557684254483,-1.1725339762475635,-0.7429584143370385,-1.3033130409601439,-0.1481121095374952,-0.08987450109740919,0.8634887289963715,1.3154289749839931,-0.1458612244300904,0.0446654478807579,-0.48504782159620513,-1.617495602420557,-0.731694949591574,0.3821784833214193,-0.5662280029457727,0.21408484014185408,-1.1289387995158675,0.7269769388895451,-0.9011091704893577,-2.535588699140916,-0.43260366467435213,-0.15376731612435343,0.39964626739478737,-0.11233023781221708,1.554395766979265,-0.4308410579333943,-1.0882608871453134,-0.30491823751325103,-2.7204294407752174,0.6273722477938712,-0.8654492756421258,1.9183759306233856,1.804196834549093,-0.15729206200947618,1.062606251289599,0.7294892417546102,1.734507463508707,-0.9622969360364804,-1.22800512027324,1.5476998702992784,0.20212868111909074,-0.2287354920448391,-1.6256267328555414,0.11805653097824363,-0.12569222392741497,0.6344132872644095,0.13955461698175808,-0.10892925133430031,0.45304222972607944,-0.2615053375643434,-0.22411611506996273,1.7141971468445547,-1.5018373663357867,-0.38328035963769436,-0.2043652018260254,-0.17657931439914137,-0.9963628208785296,0.6107128707648545,-0.47340018232802844,0.9359112776474541,-1.341473246861999,1.1182266906281662,2.353288351782029,-0.846808712188778,1.372132144431435,0.9999474752472598,1.5804495493664477,2.04568628243262,0.9797750995650546,-0.1787771713442234,-0.027427461421897097,1.476220213935394,0.7695677105340464,-1.3060175064144073,0.3037509273928669],\"type\":\"scatter\"},{\"line\":{\"color\":\"rgba(55, 128, 191, 1.0)\",\"dash\":\"solid\",\"shape\":\"linear\",\"width\":1.3},\"mode\":\"lines\",\"name\":\"B\",\"text\":\"\",\"x\":[0,1,2,3,4,5,6,7,8,9,10,11,12,13,14,15,16,17,18,19,20,21,22,23,24,25,26,27,28,29,30,31,32,33,34,35,36,37,38,39,40,41,42,43,44,45,46,47,48,49,50,51,52,53,54,55,56,57,58,59,60,61,62,63,64,65,66,67,68,69,70,71,72,73,74,75,76,77,78,79,80,81,82,83,84,85,86,87,88,89,90,91,92,93,94,95,96,97,98,99],\"y\":[0.03354789955792382,0.8070604927554935,-0.20541484675194602,1.4129841433086383,1.9008318459139721,0.09300179845913471,0.5736886980820219,-0.19687274864419568,0.6281570041414841,0.7239231301056195,1.7173841614342737,1.3988000668176435,-0.8184742870915912,0.8967890017662526,-0.9153149454880518,-1.1625286021506622,0.27044631838323935,0.17279082609833252,-0.4838988802454175,-0.1985370723300537,0.45925580298117624,-0.466204510726407,-1.1902078376153176,-1.9423008579291474,0.17112423404743934,-0.8855102151597386,-0.06814690123720969,0.007010359856248485,-1.137822077002745,-2.308475853373866,-1.4624081721848106,-2.3647837278310138,-0.04945163262821755,-1.2724024016855202,-0.18420164801720115,0.4937061618303972,0.8033638747875229,-0.5036382720105074,0.8650082134002659,1.3913484083238983,-0.20620902568661237,0.25801694867934716,1.2157655167065369,1.3728410412263647,-0.8789152030004874,2.732310897045035,-1.3190874577850344,1.397284606765221,-0.278408549922117,1.6045608853438653,0.4205862015249162,0.24586301293823862,-0.1624515223851526,0.004887071810461409,-0.3569192879972979,0.6108006930348017,0.5384132600405072,1.1870638570610101,-0.8103379700987837,1.025975673439183,-0.4868784353162769,1.099447359391673,2.126150863729017,-0.8853264199162242,-0.3906919892588175,0.7644501291980417,-0.33172508223653285,-1.673993229937289,0.7820730124854408,0.25078668823209227,0.060357828532477814,0.7135707361779056,1.9964468811846894,0.15720488025605775,-0.2914659228838468,0.5161998499046359,-1.2785898286810256,1.4256047826992324,0.7069658123112345,1.8546235482138067,1.3346021424253542,1.1148461334157418,0.026985915141145175,1.397096502991006,2.045547530911009,1.2087274247672462,-0.02902799114594827,0.013673037218682812,-0.7223314143978876,-0.19675613251686933,0.19737307211466443,1.8029377596310276,-0.5129101312888362,1.9020237049129,0.5392281905319504,-1.5195104524428904,0.45090724709228314,-0.4605983828812109,0.8367771087907409,0.4522326050616165],\"type\":\"scatter\"},{\"connectgaps\":false,\"fill\":\"tozeroy\",\"line\":{\"color\":\"green\",\"dash\":\"solid\",\"shape\":\"linear\",\"width\":0.5},\"mode\":\"lines\",\"name\":\"Spread\",\"showlegend\":false,\"x\":[0,1,2,3,4,5,6,7,8,9,10,11,12,13,14,15,16,17,18,19,20,21,22,23,24,25,26,27,28,29,30,31,32,33,34,35,36,37,38,39,40,41,42,43,44,45,46,47,48,49,50,51,52,53,54,55,56,57,58,59,60,61,62,63,64,65,66,67,68,69,70,71,72,73,74,75,76,77,78,79,80,81,82,83,84,85,86,87,88,89,90,91,92,93,94,95,96,97,98,99],\"xaxis\":\"x2\",\"y\":[\"\",\"\",\"\",\"\",\"\",\"\",\"\",1.7982831350842783,\"\",\"\",\"\",\"\",1.0217403438863362,\"\",0.9343260284390852,2.855950978474634,0.3141162468062881,0.258052651522892,2.520135178650036,\"\",0.0719419509363533,0.6887535337996418,1.8007514082706053,2.5435406293678047,\"\",\"\",\"\",\"\",\"\",2.1603637438363705,1.3725336710874014,3.2282724568273853,1.3648806076122106,1.12654117725543,0.22886709589795906,\"\",\"\",\"\",\"\",\"\",0.42029386582846645,\"\",\"\",\"\",\"\",\"\",1.165320141660681,\"\",0.16607831210989993,\"\",\"\",\"\",\"\",\"\",0.9842915357911691,\"\",1.3799626705828785,0.6171329774880829,0.6530459080893075,0.036630577850416124,1.216367677070887,0.6350601041170341,\"\",\"\",1.9383918595580958,\"\",0.10298959019169376,0.04836649708174767,\"\",\"\",0.5740554587319316,\"\",\"\",0.2958373494700217,0.029960585319503408,\"\",2.99278697552558,\"\",\"\",\"\",\"\",\"\",0.5837269556237094,\"\",\"\",\"\",1.1472546817741145,2.3396153145633463,\"\",1.5688882769483044,0.8025744031325954,\"\",2.558596413721456,\"\",\"\",1.4920829910209934,1.025312966843111,1.2301660934152574,\"\",\"\"],\"yaxis\":\"y2\",\"type\":\"scatter\"},{\"connectgaps\":false,\"fill\":\"tozeroy\",\"line\":{\"color\":\"red\",\"dash\":\"solid\",\"shape\":\"linear\",\"width\":0.5},\"mode\":\"lines\",\"name\":\"Spread\",\"showlegend\":false,\"x\":[0,1,2,3,4,5,6,7,8,9,10,11,12,13,14,15,16,17,18,19,20,21,22,23,24,25,26,27,28,29,30,31,32,33,34,35,36,37,38,39,40,41,42,43,44,45,46,47,48,49,50,51,52,53,54,55,56,57,58,59,60,61,62,63,64,65,66,67,68,69,70,71,72,73,74,75,76,77,78,79,80,81,82,83,84,85,86,87,88,89,90,91,92,93,94,95,96,97,98,99],\"xaxis\":\"x2\",\"y\":[-0.6340751568476541,-0.3826476852972231,-0.23549248879080667,-0.5364262238975799,-1.787570755572527,-0.5664742342119032,-1.0925314532125059,\"\",-2.535369909003398,-0.5841901714257537,-1.5471481707436607,-1.4493288267980136,\"\",-1.5036877467748369,\"\",\"\",\"\",\"\",\"\",-0.18026481868529837,\"\",\"\",\"\",\"\",-0.6691045323447402,-0.6933455532657097,-1.1043870750103537,-0.749968774193287,-0.16549096395739893,\"\",\"\",\"\",\"\",\"\",\"\",-0.9787539834266024,-2.42085947720808,-0.22805667758106662,-0.4828297300788466,-1.957576411269671,\"\",-1.3869557481952146,-0.4887885778169918,-2.2739502117157224,-1.6566734961404286,-3.1649145617193875,\"\",-0.9976383393704336,\"\",-0.05016511836460036,-0.8514272594583105,-1.334123900083552,-0.14246671512809844,-2.7253165125856786,\"\",-1.4762499686769275,\"\",\"\",\"\",\"\",\"\",\"\",-3.0884477997654978,-0.34267870035701586,\"\",-0.5623214480789509,\"\",\"\",-0.6640164815071972,-0.37647891215950724,\"\",-0.5740161191961475,-2.1053761325189897,\"\",\"\",-0.7403159649745986,\"\",-2.927442149035019,-1.090246171948929,-2.0589887500398323,-1.5111814568244957,-2.1112089542942716,\"\",-1.8704966853190346,-1.1096362532635549,-2.550200671629245,\"\",\"\",-0.12447729779089034,\"\",\"\",-0.22248821026458,\"\",-0.9222486053478455,-0.7180053618761738,\"\",\"\",\"\",-2.142794615205148,-0.1484816776687496],\"yaxis\":\"y2\",\"type\":\"scatter\"}],                        {\"hovermode\":\"x\",\"legend\":{\"bgcolor\":\"#F5F6F9\",\"font\":{\"color\":\"#4D5663\"}},\"paper_bgcolor\":\"#F5F6F9\",\"plot_bgcolor\":\"#F5F6F9\",\"template\":{\"data\":{\"barpolar\":[{\"marker\":{\"line\":{\"color\":\"#E5ECF6\",\"width\":0.5},\"pattern\":{\"fillmode\":\"overlay\",\"size\":10,\"solidity\":0.2}},\"type\":\"barpolar\"}],\"bar\":[{\"error_x\":{\"color\":\"#2a3f5f\"},\"error_y\":{\"color\":\"#2a3f5f\"},\"marker\":{\"line\":{\"color\":\"#E5ECF6\",\"width\":0.5},\"pattern\":{\"fillmode\":\"overlay\",\"size\":10,\"solidity\":0.2}},\"type\":\"bar\"}],\"carpet\":[{\"aaxis\":{\"endlinecolor\":\"#2a3f5f\",\"gridcolor\":\"white\",\"linecolor\":\"white\",\"minorgridcolor\":\"white\",\"startlinecolor\":\"#2a3f5f\"},\"baxis\":{\"endlinecolor\":\"#2a3f5f\",\"gridcolor\":\"white\",\"linecolor\":\"white\",\"minorgridcolor\":\"white\",\"startlinecolor\":\"#2a3f5f\"},\"type\":\"carpet\"}],\"choropleth\":[{\"colorbar\":{\"outlinewidth\":0,\"ticks\":\"\"},\"type\":\"choropleth\"}],\"contourcarpet\":[{\"colorbar\":{\"outlinewidth\":0,\"ticks\":\"\"},\"type\":\"contourcarpet\"}],\"contour\":[{\"colorbar\":{\"outlinewidth\":0,\"ticks\":\"\"},\"colorscale\":[[0.0,\"#0d0887\"],[0.1111111111111111,\"#46039f\"],[0.2222222222222222,\"#7201a8\"],[0.3333333333333333,\"#9c179e\"],[0.4444444444444444,\"#bd3786\"],[0.5555555555555556,\"#d8576b\"],[0.6666666666666666,\"#ed7953\"],[0.7777777777777778,\"#fb9f3a\"],[0.8888888888888888,\"#fdca26\"],[1.0,\"#f0f921\"]],\"type\":\"contour\"}],\"heatmapgl\":[{\"colorbar\":{\"outlinewidth\":0,\"ticks\":\"\"},\"colorscale\":[[0.0,\"#0d0887\"],[0.1111111111111111,\"#46039f\"],[0.2222222222222222,\"#7201a8\"],[0.3333333333333333,\"#9c179e\"],[0.4444444444444444,\"#bd3786\"],[0.5555555555555556,\"#d8576b\"],[0.6666666666666666,\"#ed7953\"],[0.7777777777777778,\"#fb9f3a\"],[0.8888888888888888,\"#fdca26\"],[1.0,\"#f0f921\"]],\"type\":\"heatmapgl\"}],\"heatmap\":[{\"colorbar\":{\"outlinewidth\":0,\"ticks\":\"\"},\"colorscale\":[[0.0,\"#0d0887\"],[0.1111111111111111,\"#46039f\"],[0.2222222222222222,\"#7201a8\"],[0.3333333333333333,\"#9c179e\"],[0.4444444444444444,\"#bd3786\"],[0.5555555555555556,\"#d8576b\"],[0.6666666666666666,\"#ed7953\"],[0.7777777777777778,\"#fb9f3a\"],[0.8888888888888888,\"#fdca26\"],[1.0,\"#f0f921\"]],\"type\":\"heatmap\"}],\"histogram2dcontour\":[{\"colorbar\":{\"outlinewidth\":0,\"ticks\":\"\"},\"colorscale\":[[0.0,\"#0d0887\"],[0.1111111111111111,\"#46039f\"],[0.2222222222222222,\"#7201a8\"],[0.3333333333333333,\"#9c179e\"],[0.4444444444444444,\"#bd3786\"],[0.5555555555555556,\"#d8576b\"],[0.6666666666666666,\"#ed7953\"],[0.7777777777777778,\"#fb9f3a\"],[0.8888888888888888,\"#fdca26\"],[1.0,\"#f0f921\"]],\"type\":\"histogram2dcontour\"}],\"histogram2d\":[{\"colorbar\":{\"outlinewidth\":0,\"ticks\":\"\"},\"colorscale\":[[0.0,\"#0d0887\"],[0.1111111111111111,\"#46039f\"],[0.2222222222222222,\"#7201a8\"],[0.3333333333333333,\"#9c179e\"],[0.4444444444444444,\"#bd3786\"],[0.5555555555555556,\"#d8576b\"],[0.6666666666666666,\"#ed7953\"],[0.7777777777777778,\"#fb9f3a\"],[0.8888888888888888,\"#fdca26\"],[1.0,\"#f0f921\"]],\"type\":\"histogram2d\"}],\"histogram\":[{\"marker\":{\"pattern\":{\"fillmode\":\"overlay\",\"size\":10,\"solidity\":0.2}},\"type\":\"histogram\"}],\"mesh3d\":[{\"colorbar\":{\"outlinewidth\":0,\"ticks\":\"\"},\"type\":\"mesh3d\"}],\"parcoords\":[{\"line\":{\"colorbar\":{\"outlinewidth\":0,\"ticks\":\"\"}},\"type\":\"parcoords\"}],\"pie\":[{\"automargin\":true,\"type\":\"pie\"}],\"scatter3d\":[{\"line\":{\"colorbar\":{\"outlinewidth\":0,\"ticks\":\"\"}},\"marker\":{\"colorbar\":{\"outlinewidth\":0,\"ticks\":\"\"}},\"type\":\"scatter3d\"}],\"scattercarpet\":[{\"marker\":{\"colorbar\":{\"outlinewidth\":0,\"ticks\":\"\"}},\"type\":\"scattercarpet\"}],\"scattergeo\":[{\"marker\":{\"colorbar\":{\"outlinewidth\":0,\"ticks\":\"\"}},\"type\":\"scattergeo\"}],\"scattergl\":[{\"marker\":{\"colorbar\":{\"outlinewidth\":0,\"ticks\":\"\"}},\"type\":\"scattergl\"}],\"scattermapbox\":[{\"marker\":{\"colorbar\":{\"outlinewidth\":0,\"ticks\":\"\"}},\"type\":\"scattermapbox\"}],\"scatterpolargl\":[{\"marker\":{\"colorbar\":{\"outlinewidth\":0,\"ticks\":\"\"}},\"type\":\"scatterpolargl\"}],\"scatterpolar\":[{\"marker\":{\"colorbar\":{\"outlinewidth\":0,\"ticks\":\"\"}},\"type\":\"scatterpolar\"}],\"scatter\":[{\"marker\":{\"colorbar\":{\"outlinewidth\":0,\"ticks\":\"\"}},\"type\":\"scatter\"}],\"scatterternary\":[{\"marker\":{\"colorbar\":{\"outlinewidth\":0,\"ticks\":\"\"}},\"type\":\"scatterternary\"}],\"surface\":[{\"colorbar\":{\"outlinewidth\":0,\"ticks\":\"\"},\"colorscale\":[[0.0,\"#0d0887\"],[0.1111111111111111,\"#46039f\"],[0.2222222222222222,\"#7201a8\"],[0.3333333333333333,\"#9c179e\"],[0.4444444444444444,\"#bd3786\"],[0.5555555555555556,\"#d8576b\"],[0.6666666666666666,\"#ed7953\"],[0.7777777777777778,\"#fb9f3a\"],[0.8888888888888888,\"#fdca26\"],[1.0,\"#f0f921\"]],\"type\":\"surface\"}],\"table\":[{\"cells\":{\"fill\":{\"color\":\"#EBF0F8\"},\"line\":{\"color\":\"white\"}},\"header\":{\"fill\":{\"color\":\"#C8D4E3\"},\"line\":{\"color\":\"white\"}},\"type\":\"table\"}]},\"layout\":{\"annotationdefaults\":{\"arrowcolor\":\"#2a3f5f\",\"arrowhead\":0,\"arrowwidth\":1},\"autotypenumbers\":\"strict\",\"coloraxis\":{\"colorbar\":{\"outlinewidth\":0,\"ticks\":\"\"}},\"colorscale\":{\"diverging\":[[0,\"#8e0152\"],[0.1,\"#c51b7d\"],[0.2,\"#de77ae\"],[0.3,\"#f1b6da\"],[0.4,\"#fde0ef\"],[0.5,\"#f7f7f7\"],[0.6,\"#e6f5d0\"],[0.7,\"#b8e186\"],[0.8,\"#7fbc41\"],[0.9,\"#4d9221\"],[1,\"#276419\"]],\"sequential\":[[0.0,\"#0d0887\"],[0.1111111111111111,\"#46039f\"],[0.2222222222222222,\"#7201a8\"],[0.3333333333333333,\"#9c179e\"],[0.4444444444444444,\"#bd3786\"],[0.5555555555555556,\"#d8576b\"],[0.6666666666666666,\"#ed7953\"],[0.7777777777777778,\"#fb9f3a\"],[0.8888888888888888,\"#fdca26\"],[1.0,\"#f0f921\"]],\"sequentialminus\":[[0.0,\"#0d0887\"],[0.1111111111111111,\"#46039f\"],[0.2222222222222222,\"#7201a8\"],[0.3333333333333333,\"#9c179e\"],[0.4444444444444444,\"#bd3786\"],[0.5555555555555556,\"#d8576b\"],[0.6666666666666666,\"#ed7953\"],[0.7777777777777778,\"#fb9f3a\"],[0.8888888888888888,\"#fdca26\"],[1.0,\"#f0f921\"]]},\"colorway\":[\"#636efa\",\"#EF553B\",\"#00cc96\",\"#ab63fa\",\"#FFA15A\",\"#19d3f3\",\"#FF6692\",\"#B6E880\",\"#FF97FF\",\"#FECB52\"],\"font\":{\"color\":\"#2a3f5f\"},\"geo\":{\"bgcolor\":\"white\",\"lakecolor\":\"white\",\"landcolor\":\"#E5ECF6\",\"showlakes\":true,\"showland\":true,\"subunitcolor\":\"white\"},\"hoverlabel\":{\"align\":\"left\"},\"hovermode\":\"closest\",\"mapbox\":{\"style\":\"light\"},\"paper_bgcolor\":\"white\",\"plot_bgcolor\":\"#E5ECF6\",\"polar\":{\"angularaxis\":{\"gridcolor\":\"white\",\"linecolor\":\"white\",\"ticks\":\"\"},\"bgcolor\":\"#E5ECF6\",\"radialaxis\":{\"gridcolor\":\"white\",\"linecolor\":\"white\",\"ticks\":\"\"}},\"scene\":{\"xaxis\":{\"backgroundcolor\":\"#E5ECF6\",\"gridcolor\":\"white\",\"gridwidth\":2,\"linecolor\":\"white\",\"showbackground\":true,\"ticks\":\"\",\"zerolinecolor\":\"white\"},\"yaxis\":{\"backgroundcolor\":\"#E5ECF6\",\"gridcolor\":\"white\",\"gridwidth\":2,\"linecolor\":\"white\",\"showbackground\":true,\"ticks\":\"\",\"zerolinecolor\":\"white\"},\"zaxis\":{\"backgroundcolor\":\"#E5ECF6\",\"gridcolor\":\"white\",\"gridwidth\":2,\"linecolor\":\"white\",\"showbackground\":true,\"ticks\":\"\",\"zerolinecolor\":\"white\"}},\"shapedefaults\":{\"line\":{\"color\":\"#2a3f5f\"}},\"ternary\":{\"aaxis\":{\"gridcolor\":\"white\",\"linecolor\":\"white\",\"ticks\":\"\"},\"baxis\":{\"gridcolor\":\"white\",\"linecolor\":\"white\",\"ticks\":\"\"},\"bgcolor\":\"#E5ECF6\",\"caxis\":{\"gridcolor\":\"white\",\"linecolor\":\"white\",\"ticks\":\"\"}},\"title\":{\"x\":0.05},\"xaxis\":{\"automargin\":true,\"gridcolor\":\"white\",\"linecolor\":\"white\",\"ticks\":\"\",\"title\":{\"standoff\":15},\"zerolinecolor\":\"white\",\"zerolinewidth\":2},\"yaxis\":{\"automargin\":true,\"gridcolor\":\"white\",\"linecolor\":\"white\",\"ticks\":\"\",\"title\":{\"standoff\":15},\"zerolinecolor\":\"white\",\"zerolinewidth\":2}}},\"title\":{\"font\":{\"color\":\"#4D5663\"}},\"xaxis\":{\"gridcolor\":\"#E1E5ED\",\"showgrid\":true,\"tickfont\":{\"color\":\"#4D5663\"},\"title\":{\"font\":{\"color\":\"#4D5663\"},\"text\":\"\"},\"zerolinecolor\":\"#E1E5ED\"},\"yaxis\":{\"domain\":[0.3,1],\"gridcolor\":\"#E1E5ED\",\"showgrid\":true,\"tickfont\":{\"color\":\"#4D5663\"},\"title\":{\"font\":{\"color\":\"#4D5663\"},\"text\":\"\"},\"zerolinecolor\":\"#E1E5ED\"},\"yaxis2\":{\"domain\":[0,0.25],\"gridcolor\":\"#E1E5ED\",\"showgrid\":true,\"tickfont\":{\"color\":\"#4D5663\"},\"title\":{\"font\":{\"color\":\"#4D5663\"},\"text\":\"Spread\"},\"zerolinecolor\":\"#E1E5ED\"},\"xaxis2\":{\"anchor\":\"y2\",\"gridcolor\":\"#E1E5ED\",\"showgrid\":true,\"showticklabels\":false,\"tickfont\":{\"color\":\"#4D5663\"},\"title\":{\"font\":{\"color\":\"#4D5663\"},\"text\":\"\"},\"zerolinecolor\":\"#E1E5ED\"}},                        {\"showLink\": true, \"linkText\": \"Export to plot.ly\", \"plotlyServerURL\": \"https://plot.ly\", \"responsive\": true}                    ).then(function(){\n",
       "                            \n",
       "var gd = document.getElementById('47ae4a4d-72db-45f3-a833-2aa28c89813a');\n",
       "var x = new MutationObserver(function (mutations, observer) {{\n",
       "        var display = window.getComputedStyle(gd).display;\n",
       "        if (!display || display === 'none') {{\n",
       "            console.log([gd, 'removed!']);\n",
       "            Plotly.purge(gd);\n",
       "            observer.disconnect();\n",
       "        }}\n",
       "}});\n",
       "\n",
       "// Listen for the removal of the full notebook cells\n",
       "var notebookContainer = gd.closest('#notebook-container');\n",
       "if (notebookContainer) {{\n",
       "    x.observe(notebookContainer, {childList: true});\n",
       "}}\n",
       "\n",
       "// Listen for the clearing of the current output cell\n",
       "var outputEl = gd.closest('.output');\n",
       "if (outputEl) {{\n",
       "    x.observe(outputEl, {childList: true});\n",
       "}}\n",
       "\n",
       "                        })                };                });            </script>        </div>"
      ]
     },
     "metadata": {},
     "output_type": "display_data"
    }
   ],
   "source": [
    "df[['A','B']].iplot(kind='spread')"
   ]
  },
  {
   "cell_type": "markdown",
   "metadata": {},
   "source": [
    "## histogram"
   ]
  },
  {
   "cell_type": "code",
   "execution_count": 16,
   "metadata": {},
   "outputs": [
    {
     "data": {
      "application/vnd.plotly.v1+json": {
       "config": {
        "linkText": "Export to plot.ly",
        "plotlyServerURL": "https://plot.ly",
        "showLink": true
       },
       "data": [
        {
         "histfunc": "count",
         "histnorm": "",
         "marker": {
          "color": "rgba(255, 153, 51, 1.0)",
          "line": {
           "color": "#4D5663",
           "width": 1.3
          }
         },
         "name": "A",
         "nbinsx": 25,
         "opacity": 0.8,
         "orientation": "v",
         "type": "histogram",
         "x": [
          -0.6005272572897303,
          0.4244128074582704,
          -0.4409073355427527,
          0.8765579194110584,
          0.113261090341445,
          -0.4734724357527685,
          -0.5188427551304841,
          1.6014103864400826,
          -1.9072129048619137,
          0.13973295867986582,
          0.1702359906906131,
          -0.05052875998036999,
          0.20326605679474508,
          -0.6068987450085842,
          0.01901108295103341,
          1.693422376323972,
          0.5845625651895274,
          0.4308434776212245,
          2.0362362984046185,
          -0.37880189101535205,
          0.5311977539175295,
          0.2225490230732347,
          0.6105435706552877,
          0.6012397714386573,
          -0.49798029829730084,
          -1.5788557684254483,
          -1.1725339762475635,
          -0.7429584143370385,
          -1.3033130409601439,
          -0.1481121095374952,
          -0.08987450109740919,
          0.8634887289963715,
          1.3154289749839931,
          -0.1458612244300904,
          0.0446654478807579,
          -0.48504782159620513,
          -1.617495602420557,
          -0.731694949591574,
          0.3821784833214193,
          -0.5662280029457727,
          0.21408484014185408,
          -1.1289387995158675,
          0.7269769388895451,
          -0.9011091704893577,
          -2.535588699140916,
          -0.43260366467435213,
          -0.15376731612435343,
          0.39964626739478737,
          -0.11233023781221708,
          1.554395766979265,
          -0.4308410579333943,
          -1.0882608871453134,
          -0.30491823751325103,
          -2.7204294407752174,
          0.6273722477938712,
          -0.8654492756421258,
          1.9183759306233856,
          1.804196834549093,
          -0.15729206200947618,
          1.062606251289599,
          0.7294892417546102,
          1.734507463508707,
          -0.9622969360364804,
          -1.22800512027324,
          1.5476998702992784,
          0.20212868111909074,
          -0.2287354920448391,
          -1.6256267328555414,
          0.11805653097824363,
          -0.12569222392741497,
          0.6344132872644095,
          0.13955461698175808,
          -0.10892925133430031,
          0.45304222972607944,
          -0.2615053375643434,
          -0.22411611506996273,
          1.7141971468445547,
          -1.5018373663357867,
          -0.38328035963769436,
          -0.2043652018260254,
          -0.17657931439914137,
          -0.9963628208785296,
          0.6107128707648545,
          -0.47340018232802844,
          0.9359112776474541,
          -1.341473246861999,
          1.1182266906281662,
          2.353288351782029,
          -0.846808712188778,
          1.372132144431435,
          0.9999474752472598,
          1.5804495493664477,
          2.04568628243262,
          0.9797750995650546,
          -0.1787771713442234,
          -0.027427461421897097,
          1.476220213935394,
          0.7695677105340464,
          -1.3060175064144073,
          0.3037509273928669
         ]
        }
       ],
       "layout": {
        "barmode": "overlay",
        "legend": {
         "bgcolor": "#F5F6F9",
         "font": {
          "color": "#4D5663"
         }
        },
        "paper_bgcolor": "#F5F6F9",
        "plot_bgcolor": "#F5F6F9",
        "template": {
         "data": {
          "bar": [
           {
            "error_x": {
             "color": "#2a3f5f"
            },
            "error_y": {
             "color": "#2a3f5f"
            },
            "marker": {
             "line": {
              "color": "#E5ECF6",
              "width": 0.5
             },
             "pattern": {
              "fillmode": "overlay",
              "size": 10,
              "solidity": 0.2
             }
            },
            "type": "bar"
           }
          ],
          "barpolar": [
           {
            "marker": {
             "line": {
              "color": "#E5ECF6",
              "width": 0.5
             },
             "pattern": {
              "fillmode": "overlay",
              "size": 10,
              "solidity": 0.2
             }
            },
            "type": "barpolar"
           }
          ],
          "carpet": [
           {
            "aaxis": {
             "endlinecolor": "#2a3f5f",
             "gridcolor": "white",
             "linecolor": "white",
             "minorgridcolor": "white",
             "startlinecolor": "#2a3f5f"
            },
            "baxis": {
             "endlinecolor": "#2a3f5f",
             "gridcolor": "white",
             "linecolor": "white",
             "minorgridcolor": "white",
             "startlinecolor": "#2a3f5f"
            },
            "type": "carpet"
           }
          ],
          "choropleth": [
           {
            "colorbar": {
             "outlinewidth": 0,
             "ticks": ""
            },
            "type": "choropleth"
           }
          ],
          "contour": [
           {
            "colorbar": {
             "outlinewidth": 0,
             "ticks": ""
            },
            "colorscale": [
             [
              0,
              "#0d0887"
             ],
             [
              0.1111111111111111,
              "#46039f"
             ],
             [
              0.2222222222222222,
              "#7201a8"
             ],
             [
              0.3333333333333333,
              "#9c179e"
             ],
             [
              0.4444444444444444,
              "#bd3786"
             ],
             [
              0.5555555555555556,
              "#d8576b"
             ],
             [
              0.6666666666666666,
              "#ed7953"
             ],
             [
              0.7777777777777778,
              "#fb9f3a"
             ],
             [
              0.8888888888888888,
              "#fdca26"
             ],
             [
              1,
              "#f0f921"
             ]
            ],
            "type": "contour"
           }
          ],
          "contourcarpet": [
           {
            "colorbar": {
             "outlinewidth": 0,
             "ticks": ""
            },
            "type": "contourcarpet"
           }
          ],
          "heatmap": [
           {
            "colorbar": {
             "outlinewidth": 0,
             "ticks": ""
            },
            "colorscale": [
             [
              0,
              "#0d0887"
             ],
             [
              0.1111111111111111,
              "#46039f"
             ],
             [
              0.2222222222222222,
              "#7201a8"
             ],
             [
              0.3333333333333333,
              "#9c179e"
             ],
             [
              0.4444444444444444,
              "#bd3786"
             ],
             [
              0.5555555555555556,
              "#d8576b"
             ],
             [
              0.6666666666666666,
              "#ed7953"
             ],
             [
              0.7777777777777778,
              "#fb9f3a"
             ],
             [
              0.8888888888888888,
              "#fdca26"
             ],
             [
              1,
              "#f0f921"
             ]
            ],
            "type": "heatmap"
           }
          ],
          "heatmapgl": [
           {
            "colorbar": {
             "outlinewidth": 0,
             "ticks": ""
            },
            "colorscale": [
             [
              0,
              "#0d0887"
             ],
             [
              0.1111111111111111,
              "#46039f"
             ],
             [
              0.2222222222222222,
              "#7201a8"
             ],
             [
              0.3333333333333333,
              "#9c179e"
             ],
             [
              0.4444444444444444,
              "#bd3786"
             ],
             [
              0.5555555555555556,
              "#d8576b"
             ],
             [
              0.6666666666666666,
              "#ed7953"
             ],
             [
              0.7777777777777778,
              "#fb9f3a"
             ],
             [
              0.8888888888888888,
              "#fdca26"
             ],
             [
              1,
              "#f0f921"
             ]
            ],
            "type": "heatmapgl"
           }
          ],
          "histogram": [
           {
            "marker": {
             "pattern": {
              "fillmode": "overlay",
              "size": 10,
              "solidity": 0.2
             }
            },
            "type": "histogram"
           }
          ],
          "histogram2d": [
           {
            "colorbar": {
             "outlinewidth": 0,
             "ticks": ""
            },
            "colorscale": [
             [
              0,
              "#0d0887"
             ],
             [
              0.1111111111111111,
              "#46039f"
             ],
             [
              0.2222222222222222,
              "#7201a8"
             ],
             [
              0.3333333333333333,
              "#9c179e"
             ],
             [
              0.4444444444444444,
              "#bd3786"
             ],
             [
              0.5555555555555556,
              "#d8576b"
             ],
             [
              0.6666666666666666,
              "#ed7953"
             ],
             [
              0.7777777777777778,
              "#fb9f3a"
             ],
             [
              0.8888888888888888,
              "#fdca26"
             ],
             [
              1,
              "#f0f921"
             ]
            ],
            "type": "histogram2d"
           }
          ],
          "histogram2dcontour": [
           {
            "colorbar": {
             "outlinewidth": 0,
             "ticks": ""
            },
            "colorscale": [
             [
              0,
              "#0d0887"
             ],
             [
              0.1111111111111111,
              "#46039f"
             ],
             [
              0.2222222222222222,
              "#7201a8"
             ],
             [
              0.3333333333333333,
              "#9c179e"
             ],
             [
              0.4444444444444444,
              "#bd3786"
             ],
             [
              0.5555555555555556,
              "#d8576b"
             ],
             [
              0.6666666666666666,
              "#ed7953"
             ],
             [
              0.7777777777777778,
              "#fb9f3a"
             ],
             [
              0.8888888888888888,
              "#fdca26"
             ],
             [
              1,
              "#f0f921"
             ]
            ],
            "type": "histogram2dcontour"
           }
          ],
          "mesh3d": [
           {
            "colorbar": {
             "outlinewidth": 0,
             "ticks": ""
            },
            "type": "mesh3d"
           }
          ],
          "parcoords": [
           {
            "line": {
             "colorbar": {
              "outlinewidth": 0,
              "ticks": ""
             }
            },
            "type": "parcoords"
           }
          ],
          "pie": [
           {
            "automargin": true,
            "type": "pie"
           }
          ],
          "scatter": [
           {
            "marker": {
             "colorbar": {
              "outlinewidth": 0,
              "ticks": ""
             }
            },
            "type": "scatter"
           }
          ],
          "scatter3d": [
           {
            "line": {
             "colorbar": {
              "outlinewidth": 0,
              "ticks": ""
             }
            },
            "marker": {
             "colorbar": {
              "outlinewidth": 0,
              "ticks": ""
             }
            },
            "type": "scatter3d"
           }
          ],
          "scattercarpet": [
           {
            "marker": {
             "colorbar": {
              "outlinewidth": 0,
              "ticks": ""
             }
            },
            "type": "scattercarpet"
           }
          ],
          "scattergeo": [
           {
            "marker": {
             "colorbar": {
              "outlinewidth": 0,
              "ticks": ""
             }
            },
            "type": "scattergeo"
           }
          ],
          "scattergl": [
           {
            "marker": {
             "colorbar": {
              "outlinewidth": 0,
              "ticks": ""
             }
            },
            "type": "scattergl"
           }
          ],
          "scattermapbox": [
           {
            "marker": {
             "colorbar": {
              "outlinewidth": 0,
              "ticks": ""
             }
            },
            "type": "scattermapbox"
           }
          ],
          "scatterpolar": [
           {
            "marker": {
             "colorbar": {
              "outlinewidth": 0,
              "ticks": ""
             }
            },
            "type": "scatterpolar"
           }
          ],
          "scatterpolargl": [
           {
            "marker": {
             "colorbar": {
              "outlinewidth": 0,
              "ticks": ""
             }
            },
            "type": "scatterpolargl"
           }
          ],
          "scatterternary": [
           {
            "marker": {
             "colorbar": {
              "outlinewidth": 0,
              "ticks": ""
             }
            },
            "type": "scatterternary"
           }
          ],
          "surface": [
           {
            "colorbar": {
             "outlinewidth": 0,
             "ticks": ""
            },
            "colorscale": [
             [
              0,
              "#0d0887"
             ],
             [
              0.1111111111111111,
              "#46039f"
             ],
             [
              0.2222222222222222,
              "#7201a8"
             ],
             [
              0.3333333333333333,
              "#9c179e"
             ],
             [
              0.4444444444444444,
              "#bd3786"
             ],
             [
              0.5555555555555556,
              "#d8576b"
             ],
             [
              0.6666666666666666,
              "#ed7953"
             ],
             [
              0.7777777777777778,
              "#fb9f3a"
             ],
             [
              0.8888888888888888,
              "#fdca26"
             ],
             [
              1,
              "#f0f921"
             ]
            ],
            "type": "surface"
           }
          ],
          "table": [
           {
            "cells": {
             "fill": {
              "color": "#EBF0F8"
             },
             "line": {
              "color": "white"
             }
            },
            "header": {
             "fill": {
              "color": "#C8D4E3"
             },
             "line": {
              "color": "white"
             }
            },
            "type": "table"
           }
          ]
         },
         "layout": {
          "annotationdefaults": {
           "arrowcolor": "#2a3f5f",
           "arrowhead": 0,
           "arrowwidth": 1
          },
          "autotypenumbers": "strict",
          "coloraxis": {
           "colorbar": {
            "outlinewidth": 0,
            "ticks": ""
           }
          },
          "colorscale": {
           "diverging": [
            [
             0,
             "#8e0152"
            ],
            [
             0.1,
             "#c51b7d"
            ],
            [
             0.2,
             "#de77ae"
            ],
            [
             0.3,
             "#f1b6da"
            ],
            [
             0.4,
             "#fde0ef"
            ],
            [
             0.5,
             "#f7f7f7"
            ],
            [
             0.6,
             "#e6f5d0"
            ],
            [
             0.7,
             "#b8e186"
            ],
            [
             0.8,
             "#7fbc41"
            ],
            [
             0.9,
             "#4d9221"
            ],
            [
             1,
             "#276419"
            ]
           ],
           "sequential": [
            [
             0,
             "#0d0887"
            ],
            [
             0.1111111111111111,
             "#46039f"
            ],
            [
             0.2222222222222222,
             "#7201a8"
            ],
            [
             0.3333333333333333,
             "#9c179e"
            ],
            [
             0.4444444444444444,
             "#bd3786"
            ],
            [
             0.5555555555555556,
             "#d8576b"
            ],
            [
             0.6666666666666666,
             "#ed7953"
            ],
            [
             0.7777777777777778,
             "#fb9f3a"
            ],
            [
             0.8888888888888888,
             "#fdca26"
            ],
            [
             1,
             "#f0f921"
            ]
           ],
           "sequentialminus": [
            [
             0,
             "#0d0887"
            ],
            [
             0.1111111111111111,
             "#46039f"
            ],
            [
             0.2222222222222222,
             "#7201a8"
            ],
            [
             0.3333333333333333,
             "#9c179e"
            ],
            [
             0.4444444444444444,
             "#bd3786"
            ],
            [
             0.5555555555555556,
             "#d8576b"
            ],
            [
             0.6666666666666666,
             "#ed7953"
            ],
            [
             0.7777777777777778,
             "#fb9f3a"
            ],
            [
             0.8888888888888888,
             "#fdca26"
            ],
            [
             1,
             "#f0f921"
            ]
           ]
          },
          "colorway": [
           "#636efa",
           "#EF553B",
           "#00cc96",
           "#ab63fa",
           "#FFA15A",
           "#19d3f3",
           "#FF6692",
           "#B6E880",
           "#FF97FF",
           "#FECB52"
          ],
          "font": {
           "color": "#2a3f5f"
          },
          "geo": {
           "bgcolor": "white",
           "lakecolor": "white",
           "landcolor": "#E5ECF6",
           "showlakes": true,
           "showland": true,
           "subunitcolor": "white"
          },
          "hoverlabel": {
           "align": "left"
          },
          "hovermode": "closest",
          "mapbox": {
           "style": "light"
          },
          "paper_bgcolor": "white",
          "plot_bgcolor": "#E5ECF6",
          "polar": {
           "angularaxis": {
            "gridcolor": "white",
            "linecolor": "white",
            "ticks": ""
           },
           "bgcolor": "#E5ECF6",
           "radialaxis": {
            "gridcolor": "white",
            "linecolor": "white",
            "ticks": ""
           }
          },
          "scene": {
           "xaxis": {
            "backgroundcolor": "#E5ECF6",
            "gridcolor": "white",
            "gridwidth": 2,
            "linecolor": "white",
            "showbackground": true,
            "ticks": "",
            "zerolinecolor": "white"
           },
           "yaxis": {
            "backgroundcolor": "#E5ECF6",
            "gridcolor": "white",
            "gridwidth": 2,
            "linecolor": "white",
            "showbackground": true,
            "ticks": "",
            "zerolinecolor": "white"
           },
           "zaxis": {
            "backgroundcolor": "#E5ECF6",
            "gridcolor": "white",
            "gridwidth": 2,
            "linecolor": "white",
            "showbackground": true,
            "ticks": "",
            "zerolinecolor": "white"
           }
          },
          "shapedefaults": {
           "line": {
            "color": "#2a3f5f"
           }
          },
          "ternary": {
           "aaxis": {
            "gridcolor": "white",
            "linecolor": "white",
            "ticks": ""
           },
           "baxis": {
            "gridcolor": "white",
            "linecolor": "white",
            "ticks": ""
           },
           "bgcolor": "#E5ECF6",
           "caxis": {
            "gridcolor": "white",
            "linecolor": "white",
            "ticks": ""
           }
          },
          "title": {
           "x": 0.05
          },
          "xaxis": {
           "automargin": true,
           "gridcolor": "white",
           "linecolor": "white",
           "ticks": "",
           "title": {
            "standoff": 15
           },
           "zerolinecolor": "white",
           "zerolinewidth": 2
          },
          "yaxis": {
           "automargin": true,
           "gridcolor": "white",
           "linecolor": "white",
           "ticks": "",
           "title": {
            "standoff": 15
           },
           "zerolinecolor": "white",
           "zerolinewidth": 2
          }
         }
        },
        "title": {
         "font": {
          "color": "#4D5663"
         }
        },
        "xaxis": {
         "gridcolor": "#E1E5ED",
         "showgrid": true,
         "tickfont": {
          "color": "#4D5663"
         },
         "title": {
          "font": {
           "color": "#4D5663"
          },
          "text": ""
         },
         "zerolinecolor": "#E1E5ED"
        },
        "yaxis": {
         "gridcolor": "#E1E5ED",
         "showgrid": true,
         "tickfont": {
          "color": "#4D5663"
         },
         "title": {
          "font": {
           "color": "#4D5663"
          },
          "text": ""
         },
         "zerolinecolor": "#E1E5ED"
        }
       }
      },
      "text/html": [
       "<div>                            <div id=\"b8724a39-a17e-4d17-b6a0-48553da8aa76\" class=\"plotly-graph-div\" style=\"height:525px; width:100%;\"></div>            <script type=\"text/javascript\">                require([\"plotly\"], function(Plotly) {                    window.PLOTLYENV=window.PLOTLYENV || {};\n",
       "                    window.PLOTLYENV.BASE_URL='https://plot.ly';                                    if (document.getElementById(\"b8724a39-a17e-4d17-b6a0-48553da8aa76\")) {                    Plotly.newPlot(                        \"b8724a39-a17e-4d17-b6a0-48553da8aa76\",                        [{\"histfunc\":\"count\",\"histnorm\":\"\",\"marker\":{\"color\":\"rgba(255, 153, 51, 1.0)\",\"line\":{\"color\":\"#4D5663\",\"width\":1.3}},\"name\":\"A\",\"nbinsx\":25,\"opacity\":0.8,\"orientation\":\"v\",\"x\":[-0.6005272572897303,0.4244128074582704,-0.4409073355427527,0.8765579194110584,0.113261090341445,-0.4734724357527685,-0.5188427551304841,1.6014103864400826,-1.9072129048619137,0.13973295867986582,0.1702359906906131,-0.05052875998036999,0.20326605679474508,-0.6068987450085842,0.01901108295103341,1.693422376323972,0.5845625651895274,0.4308434776212245,2.0362362984046185,-0.37880189101535205,0.5311977539175295,0.2225490230732347,0.6105435706552877,0.6012397714386573,-0.49798029829730084,-1.5788557684254483,-1.1725339762475635,-0.7429584143370385,-1.3033130409601439,-0.1481121095374952,-0.08987450109740919,0.8634887289963715,1.3154289749839931,-0.1458612244300904,0.0446654478807579,-0.48504782159620513,-1.617495602420557,-0.731694949591574,0.3821784833214193,-0.5662280029457727,0.21408484014185408,-1.1289387995158675,0.7269769388895451,-0.9011091704893577,-2.535588699140916,-0.43260366467435213,-0.15376731612435343,0.39964626739478737,-0.11233023781221708,1.554395766979265,-0.4308410579333943,-1.0882608871453134,-0.30491823751325103,-2.7204294407752174,0.6273722477938712,-0.8654492756421258,1.9183759306233856,1.804196834549093,-0.15729206200947618,1.062606251289599,0.7294892417546102,1.734507463508707,-0.9622969360364804,-1.22800512027324,1.5476998702992784,0.20212868111909074,-0.2287354920448391,-1.6256267328555414,0.11805653097824363,-0.12569222392741497,0.6344132872644095,0.13955461698175808,-0.10892925133430031,0.45304222972607944,-0.2615053375643434,-0.22411611506996273,1.7141971468445547,-1.5018373663357867,-0.38328035963769436,-0.2043652018260254,-0.17657931439914137,-0.9963628208785296,0.6107128707648545,-0.47340018232802844,0.9359112776474541,-1.341473246861999,1.1182266906281662,2.353288351782029,-0.846808712188778,1.372132144431435,0.9999474752472598,1.5804495493664477,2.04568628243262,0.9797750995650546,-0.1787771713442234,-0.027427461421897097,1.476220213935394,0.7695677105340464,-1.3060175064144073,0.3037509273928669],\"type\":\"histogram\"}],                        {\"barmode\":\"overlay\",\"legend\":{\"bgcolor\":\"#F5F6F9\",\"font\":{\"color\":\"#4D5663\"}},\"paper_bgcolor\":\"#F5F6F9\",\"plot_bgcolor\":\"#F5F6F9\",\"template\":{\"data\":{\"barpolar\":[{\"marker\":{\"line\":{\"color\":\"#E5ECF6\",\"width\":0.5},\"pattern\":{\"fillmode\":\"overlay\",\"size\":10,\"solidity\":0.2}},\"type\":\"barpolar\"}],\"bar\":[{\"error_x\":{\"color\":\"#2a3f5f\"},\"error_y\":{\"color\":\"#2a3f5f\"},\"marker\":{\"line\":{\"color\":\"#E5ECF6\",\"width\":0.5},\"pattern\":{\"fillmode\":\"overlay\",\"size\":10,\"solidity\":0.2}},\"type\":\"bar\"}],\"carpet\":[{\"aaxis\":{\"endlinecolor\":\"#2a3f5f\",\"gridcolor\":\"white\",\"linecolor\":\"white\",\"minorgridcolor\":\"white\",\"startlinecolor\":\"#2a3f5f\"},\"baxis\":{\"endlinecolor\":\"#2a3f5f\",\"gridcolor\":\"white\",\"linecolor\":\"white\",\"minorgridcolor\":\"white\",\"startlinecolor\":\"#2a3f5f\"},\"type\":\"carpet\"}],\"choropleth\":[{\"colorbar\":{\"outlinewidth\":0,\"ticks\":\"\"},\"type\":\"choropleth\"}],\"contourcarpet\":[{\"colorbar\":{\"outlinewidth\":0,\"ticks\":\"\"},\"type\":\"contourcarpet\"}],\"contour\":[{\"colorbar\":{\"outlinewidth\":0,\"ticks\":\"\"},\"colorscale\":[[0.0,\"#0d0887\"],[0.1111111111111111,\"#46039f\"],[0.2222222222222222,\"#7201a8\"],[0.3333333333333333,\"#9c179e\"],[0.4444444444444444,\"#bd3786\"],[0.5555555555555556,\"#d8576b\"],[0.6666666666666666,\"#ed7953\"],[0.7777777777777778,\"#fb9f3a\"],[0.8888888888888888,\"#fdca26\"],[1.0,\"#f0f921\"]],\"type\":\"contour\"}],\"heatmapgl\":[{\"colorbar\":{\"outlinewidth\":0,\"ticks\":\"\"},\"colorscale\":[[0.0,\"#0d0887\"],[0.1111111111111111,\"#46039f\"],[0.2222222222222222,\"#7201a8\"],[0.3333333333333333,\"#9c179e\"],[0.4444444444444444,\"#bd3786\"],[0.5555555555555556,\"#d8576b\"],[0.6666666666666666,\"#ed7953\"],[0.7777777777777778,\"#fb9f3a\"],[0.8888888888888888,\"#fdca26\"],[1.0,\"#f0f921\"]],\"type\":\"heatmapgl\"}],\"heatmap\":[{\"colorbar\":{\"outlinewidth\":0,\"ticks\":\"\"},\"colorscale\":[[0.0,\"#0d0887\"],[0.1111111111111111,\"#46039f\"],[0.2222222222222222,\"#7201a8\"],[0.3333333333333333,\"#9c179e\"],[0.4444444444444444,\"#bd3786\"],[0.5555555555555556,\"#d8576b\"],[0.6666666666666666,\"#ed7953\"],[0.7777777777777778,\"#fb9f3a\"],[0.8888888888888888,\"#fdca26\"],[1.0,\"#f0f921\"]],\"type\":\"heatmap\"}],\"histogram2dcontour\":[{\"colorbar\":{\"outlinewidth\":0,\"ticks\":\"\"},\"colorscale\":[[0.0,\"#0d0887\"],[0.1111111111111111,\"#46039f\"],[0.2222222222222222,\"#7201a8\"],[0.3333333333333333,\"#9c179e\"],[0.4444444444444444,\"#bd3786\"],[0.5555555555555556,\"#d8576b\"],[0.6666666666666666,\"#ed7953\"],[0.7777777777777778,\"#fb9f3a\"],[0.8888888888888888,\"#fdca26\"],[1.0,\"#f0f921\"]],\"type\":\"histogram2dcontour\"}],\"histogram2d\":[{\"colorbar\":{\"outlinewidth\":0,\"ticks\":\"\"},\"colorscale\":[[0.0,\"#0d0887\"],[0.1111111111111111,\"#46039f\"],[0.2222222222222222,\"#7201a8\"],[0.3333333333333333,\"#9c179e\"],[0.4444444444444444,\"#bd3786\"],[0.5555555555555556,\"#d8576b\"],[0.6666666666666666,\"#ed7953\"],[0.7777777777777778,\"#fb9f3a\"],[0.8888888888888888,\"#fdca26\"],[1.0,\"#f0f921\"]],\"type\":\"histogram2d\"}],\"histogram\":[{\"marker\":{\"pattern\":{\"fillmode\":\"overlay\",\"size\":10,\"solidity\":0.2}},\"type\":\"histogram\"}],\"mesh3d\":[{\"colorbar\":{\"outlinewidth\":0,\"ticks\":\"\"},\"type\":\"mesh3d\"}],\"parcoords\":[{\"line\":{\"colorbar\":{\"outlinewidth\":0,\"ticks\":\"\"}},\"type\":\"parcoords\"}],\"pie\":[{\"automargin\":true,\"type\":\"pie\"}],\"scatter3d\":[{\"line\":{\"colorbar\":{\"outlinewidth\":0,\"ticks\":\"\"}},\"marker\":{\"colorbar\":{\"outlinewidth\":0,\"ticks\":\"\"}},\"type\":\"scatter3d\"}],\"scattercarpet\":[{\"marker\":{\"colorbar\":{\"outlinewidth\":0,\"ticks\":\"\"}},\"type\":\"scattercarpet\"}],\"scattergeo\":[{\"marker\":{\"colorbar\":{\"outlinewidth\":0,\"ticks\":\"\"}},\"type\":\"scattergeo\"}],\"scattergl\":[{\"marker\":{\"colorbar\":{\"outlinewidth\":0,\"ticks\":\"\"}},\"type\":\"scattergl\"}],\"scattermapbox\":[{\"marker\":{\"colorbar\":{\"outlinewidth\":0,\"ticks\":\"\"}},\"type\":\"scattermapbox\"}],\"scatterpolargl\":[{\"marker\":{\"colorbar\":{\"outlinewidth\":0,\"ticks\":\"\"}},\"type\":\"scatterpolargl\"}],\"scatterpolar\":[{\"marker\":{\"colorbar\":{\"outlinewidth\":0,\"ticks\":\"\"}},\"type\":\"scatterpolar\"}],\"scatter\":[{\"marker\":{\"colorbar\":{\"outlinewidth\":0,\"ticks\":\"\"}},\"type\":\"scatter\"}],\"scatterternary\":[{\"marker\":{\"colorbar\":{\"outlinewidth\":0,\"ticks\":\"\"}},\"type\":\"scatterternary\"}],\"surface\":[{\"colorbar\":{\"outlinewidth\":0,\"ticks\":\"\"},\"colorscale\":[[0.0,\"#0d0887\"],[0.1111111111111111,\"#46039f\"],[0.2222222222222222,\"#7201a8\"],[0.3333333333333333,\"#9c179e\"],[0.4444444444444444,\"#bd3786\"],[0.5555555555555556,\"#d8576b\"],[0.6666666666666666,\"#ed7953\"],[0.7777777777777778,\"#fb9f3a\"],[0.8888888888888888,\"#fdca26\"],[1.0,\"#f0f921\"]],\"type\":\"surface\"}],\"table\":[{\"cells\":{\"fill\":{\"color\":\"#EBF0F8\"},\"line\":{\"color\":\"white\"}},\"header\":{\"fill\":{\"color\":\"#C8D4E3\"},\"line\":{\"color\":\"white\"}},\"type\":\"table\"}]},\"layout\":{\"annotationdefaults\":{\"arrowcolor\":\"#2a3f5f\",\"arrowhead\":0,\"arrowwidth\":1},\"autotypenumbers\":\"strict\",\"coloraxis\":{\"colorbar\":{\"outlinewidth\":0,\"ticks\":\"\"}},\"colorscale\":{\"diverging\":[[0,\"#8e0152\"],[0.1,\"#c51b7d\"],[0.2,\"#de77ae\"],[0.3,\"#f1b6da\"],[0.4,\"#fde0ef\"],[0.5,\"#f7f7f7\"],[0.6,\"#e6f5d0\"],[0.7,\"#b8e186\"],[0.8,\"#7fbc41\"],[0.9,\"#4d9221\"],[1,\"#276419\"]],\"sequential\":[[0.0,\"#0d0887\"],[0.1111111111111111,\"#46039f\"],[0.2222222222222222,\"#7201a8\"],[0.3333333333333333,\"#9c179e\"],[0.4444444444444444,\"#bd3786\"],[0.5555555555555556,\"#d8576b\"],[0.6666666666666666,\"#ed7953\"],[0.7777777777777778,\"#fb9f3a\"],[0.8888888888888888,\"#fdca26\"],[1.0,\"#f0f921\"]],\"sequentialminus\":[[0.0,\"#0d0887\"],[0.1111111111111111,\"#46039f\"],[0.2222222222222222,\"#7201a8\"],[0.3333333333333333,\"#9c179e\"],[0.4444444444444444,\"#bd3786\"],[0.5555555555555556,\"#d8576b\"],[0.6666666666666666,\"#ed7953\"],[0.7777777777777778,\"#fb9f3a\"],[0.8888888888888888,\"#fdca26\"],[1.0,\"#f0f921\"]]},\"colorway\":[\"#636efa\",\"#EF553B\",\"#00cc96\",\"#ab63fa\",\"#FFA15A\",\"#19d3f3\",\"#FF6692\",\"#B6E880\",\"#FF97FF\",\"#FECB52\"],\"font\":{\"color\":\"#2a3f5f\"},\"geo\":{\"bgcolor\":\"white\",\"lakecolor\":\"white\",\"landcolor\":\"#E5ECF6\",\"showlakes\":true,\"showland\":true,\"subunitcolor\":\"white\"},\"hoverlabel\":{\"align\":\"left\"},\"hovermode\":\"closest\",\"mapbox\":{\"style\":\"light\"},\"paper_bgcolor\":\"white\",\"plot_bgcolor\":\"#E5ECF6\",\"polar\":{\"angularaxis\":{\"gridcolor\":\"white\",\"linecolor\":\"white\",\"ticks\":\"\"},\"bgcolor\":\"#E5ECF6\",\"radialaxis\":{\"gridcolor\":\"white\",\"linecolor\":\"white\",\"ticks\":\"\"}},\"scene\":{\"xaxis\":{\"backgroundcolor\":\"#E5ECF6\",\"gridcolor\":\"white\",\"gridwidth\":2,\"linecolor\":\"white\",\"showbackground\":true,\"ticks\":\"\",\"zerolinecolor\":\"white\"},\"yaxis\":{\"backgroundcolor\":\"#E5ECF6\",\"gridcolor\":\"white\",\"gridwidth\":2,\"linecolor\":\"white\",\"showbackground\":true,\"ticks\":\"\",\"zerolinecolor\":\"white\"},\"zaxis\":{\"backgroundcolor\":\"#E5ECF6\",\"gridcolor\":\"white\",\"gridwidth\":2,\"linecolor\":\"white\",\"showbackground\":true,\"ticks\":\"\",\"zerolinecolor\":\"white\"}},\"shapedefaults\":{\"line\":{\"color\":\"#2a3f5f\"}},\"ternary\":{\"aaxis\":{\"gridcolor\":\"white\",\"linecolor\":\"white\",\"ticks\":\"\"},\"baxis\":{\"gridcolor\":\"white\",\"linecolor\":\"white\",\"ticks\":\"\"},\"bgcolor\":\"#E5ECF6\",\"caxis\":{\"gridcolor\":\"white\",\"linecolor\":\"white\",\"ticks\":\"\"}},\"title\":{\"x\":0.05},\"xaxis\":{\"automargin\":true,\"gridcolor\":\"white\",\"linecolor\":\"white\",\"ticks\":\"\",\"title\":{\"standoff\":15},\"zerolinecolor\":\"white\",\"zerolinewidth\":2},\"yaxis\":{\"automargin\":true,\"gridcolor\":\"white\",\"linecolor\":\"white\",\"ticks\":\"\",\"title\":{\"standoff\":15},\"zerolinecolor\":\"white\",\"zerolinewidth\":2}}},\"title\":{\"font\":{\"color\":\"#4D5663\"}},\"xaxis\":{\"gridcolor\":\"#E1E5ED\",\"showgrid\":true,\"tickfont\":{\"color\":\"#4D5663\"},\"title\":{\"font\":{\"color\":\"#4D5663\"},\"text\":\"\"},\"zerolinecolor\":\"#E1E5ED\"},\"yaxis\":{\"gridcolor\":\"#E1E5ED\",\"showgrid\":true,\"tickfont\":{\"color\":\"#4D5663\"},\"title\":{\"font\":{\"color\":\"#4D5663\"},\"text\":\"\"},\"zerolinecolor\":\"#E1E5ED\"}},                        {\"showLink\": true, \"linkText\": \"Export to plot.ly\", \"plotlyServerURL\": \"https://plot.ly\", \"responsive\": true}                    ).then(function(){\n",
       "                            \n",
       "var gd = document.getElementById('b8724a39-a17e-4d17-b6a0-48553da8aa76');\n",
       "var x = new MutationObserver(function (mutations, observer) {{\n",
       "        var display = window.getComputedStyle(gd).display;\n",
       "        if (!display || display === 'none') {{\n",
       "            console.log([gd, 'removed!']);\n",
       "            Plotly.purge(gd);\n",
       "            observer.disconnect();\n",
       "        }}\n",
       "}});\n",
       "\n",
       "// Listen for the removal of the full notebook cells\n",
       "var notebookContainer = gd.closest('#notebook-container');\n",
       "if (notebookContainer) {{\n",
       "    x.observe(notebookContainer, {childList: true});\n",
       "}}\n",
       "\n",
       "// Listen for the clearing of the current output cell\n",
       "var outputEl = gd.closest('.output');\n",
       "if (outputEl) {{\n",
       "    x.observe(outputEl, {childList: true});\n",
       "}}\n",
       "\n",
       "                        })                };                });            </script>        </div>"
      ]
     },
     "metadata": {},
     "output_type": "display_data"
    }
   ],
   "source": [
    "df['A'].iplot(kind='hist',bins=25)"
   ]
  },
  {
   "cell_type": "code",
   "execution_count": 17,
   "metadata": {},
   "outputs": [
    {
     "data": {
      "application/vnd.plotly.v1+json": {
       "config": {
        "linkText": "Export to plot.ly",
        "plotlyServerURL": "https://plot.ly",
        "showLink": true
       },
       "data": [
        {
         "marker": {
          "color": [
           "rgb(255, 153, 51)",
           "rgb(55, 128, 191)",
           "rgb(50, 171, 96)",
           "rgb(128, 0, 128)",
           "rgb(219, 64, 82)",
           "rgb(0, 128, 128)",
           "rgb(255, 255, 51)",
           "rgb(128, 128, 0)",
           "rgb(251, 128, 114)",
           "rgb(128, 177, 211)"
          ],
          "line": {
           "width": 1.3
          },
          "size": [
           68,
           48,
           46,
           73,
           97,
           60,
           77,
           73,
           63,
           82,
           72,
           52,
           61,
           82,
           70,
           59,
           29,
           56,
           12,
           74,
           55,
           50,
           85,
           97,
           75,
           59,
           57,
           80,
           68,
           88,
           41,
           49,
           72,
           78,
           82,
           60,
           62,
           45,
           76,
           42,
           89,
           96,
           93,
           76,
           38,
           64,
           92,
           76,
           56,
           66,
           42,
           83,
           46,
           81,
           93,
           69,
           40,
           112,
           93,
           50,
           75,
           73,
           78,
           77,
           84,
           97,
           47,
           67,
           91,
           79,
           68,
           39,
           85,
           105,
           87,
           77,
           57,
           26,
           82,
           70,
           94,
           72,
           75,
           105,
           25,
           82,
           70,
           78,
           63,
           68,
           51,
           77,
           81,
           64,
           48,
           75,
           75,
           44,
           75,
           69
          ],
          "symbol": "circle"
         },
         "mode": "markers",
         "text": "",
         "type": "scatter",
         "x": [
          -0.6005272572897303,
          0.4244128074582704,
          -0.4409073355427527,
          0.8765579194110584,
          0.113261090341445,
          -0.4734724357527685,
          -0.5188427551304841,
          1.6014103864400826,
          -1.9072129048619137,
          0.13973295867986582,
          0.1702359906906131,
          -0.05052875998036999,
          0.20326605679474508,
          -0.6068987450085842,
          0.01901108295103341,
          1.693422376323972,
          0.5845625651895274,
          0.4308434776212245,
          2.0362362984046185,
          -0.37880189101535205,
          0.5311977539175295,
          0.2225490230732347,
          0.6105435706552877,
          0.6012397714386573,
          -0.49798029829730084,
          -1.5788557684254483,
          -1.1725339762475635,
          -0.7429584143370385,
          -1.3033130409601439,
          -0.1481121095374952,
          -0.08987450109740919,
          0.8634887289963715,
          1.3154289749839931,
          -0.1458612244300904,
          0.0446654478807579,
          -0.48504782159620513,
          -1.617495602420557,
          -0.731694949591574,
          0.3821784833214193,
          -0.5662280029457727,
          0.21408484014185408,
          -1.1289387995158675,
          0.7269769388895451,
          -0.9011091704893577,
          -2.535588699140916,
          -0.43260366467435213,
          -0.15376731612435343,
          0.39964626739478737,
          -0.11233023781221708,
          1.554395766979265,
          -0.4308410579333943,
          -1.0882608871453134,
          -0.30491823751325103,
          -2.7204294407752174,
          0.6273722477938712,
          -0.8654492756421258,
          1.9183759306233856,
          1.804196834549093,
          -0.15729206200947618,
          1.062606251289599,
          0.7294892417546102,
          1.734507463508707,
          -0.9622969360364804,
          -1.22800512027324,
          1.5476998702992784,
          0.20212868111909074,
          -0.2287354920448391,
          -1.6256267328555414,
          0.11805653097824363,
          -0.12569222392741497,
          0.6344132872644095,
          0.13955461698175808,
          -0.10892925133430031,
          0.45304222972607944,
          -0.2615053375643434,
          -0.22411611506996273,
          1.7141971468445547,
          -1.5018373663357867,
          -0.38328035963769436,
          -0.2043652018260254,
          -0.17657931439914137,
          -0.9963628208785296,
          0.6107128707648545,
          -0.47340018232802844,
          0.9359112776474541,
          -1.341473246861999,
          1.1182266906281662,
          2.353288351782029,
          -0.846808712188778,
          1.372132144431435,
          0.9999474752472598,
          1.5804495493664477,
          2.04568628243262,
          0.9797750995650546,
          -0.1787771713442234,
          -0.027427461421897097,
          1.476220213935394,
          0.7695677105340464,
          -1.3060175064144073,
          0.3037509273928669
         ],
         "y": [
          0.03354789955792382,
          0.8070604927554935,
          -0.20541484675194602,
          1.4129841433086383,
          1.9008318459139721,
          0.09300179845913471,
          0.5736886980820219,
          -0.19687274864419568,
          0.6281570041414841,
          0.7239231301056195,
          1.7173841614342737,
          1.3988000668176435,
          -0.8184742870915912,
          0.8967890017662526,
          -0.9153149454880518,
          -1.1625286021506622,
          0.27044631838323935,
          0.17279082609833252,
          -0.4838988802454175,
          -0.1985370723300537,
          0.45925580298117624,
          -0.466204510726407,
          -1.1902078376153176,
          -1.9423008579291474,
          0.17112423404743934,
          -0.8855102151597386,
          -0.06814690123720969,
          0.007010359856248485,
          -1.137822077002745,
          -2.308475853373866,
          -1.4624081721848106,
          -2.3647837278310138,
          -0.04945163262821755,
          -1.2724024016855202,
          -0.18420164801720115,
          0.4937061618303972,
          0.8033638747875229,
          -0.5036382720105074,
          0.8650082134002659,
          1.3913484083238983,
          -0.20620902568661237,
          0.25801694867934716,
          1.2157655167065369,
          1.3728410412263647,
          -0.8789152030004874,
          2.732310897045035,
          -1.3190874577850344,
          1.397284606765221,
          -0.278408549922117,
          1.6045608853438653,
          0.4205862015249162,
          0.24586301293823862,
          -0.1624515223851526,
          0.004887071810461409,
          -0.3569192879972979,
          0.6108006930348017,
          0.5384132600405072,
          1.1870638570610101,
          -0.8103379700987837,
          1.025975673439183,
          -0.4868784353162769,
          1.099447359391673,
          2.126150863729017,
          -0.8853264199162242,
          -0.3906919892588175,
          0.7644501291980417,
          -0.33172508223653285,
          -1.673993229937289,
          0.7820730124854408,
          0.25078668823209227,
          0.060357828532477814,
          0.7135707361779056,
          1.9964468811846894,
          0.15720488025605775,
          -0.2914659228838468,
          0.5161998499046359,
          -1.2785898286810256,
          1.4256047826992324,
          0.7069658123112345,
          1.8546235482138067,
          1.3346021424253542,
          1.1148461334157418,
          0.026985915141145175,
          1.397096502991006,
          2.045547530911009,
          1.2087274247672462,
          -0.02902799114594827,
          0.013673037218682812,
          -0.7223314143978876,
          -0.19675613251686933,
          0.19737307211466443,
          1.8029377596310276,
          -0.5129101312888362,
          1.9020237049129,
          0.5392281905319504,
          -1.5195104524428904,
          0.45090724709228314,
          -0.4605983828812109,
          0.8367771087907409,
          0.4522326050616165
         ]
        }
       ],
       "layout": {
        "legend": {
         "bgcolor": "#F5F6F9",
         "font": {
          "color": "#4D5663"
         }
        },
        "paper_bgcolor": "#F5F6F9",
        "plot_bgcolor": "#F5F6F9",
        "template": {
         "data": {
          "bar": [
           {
            "error_x": {
             "color": "#2a3f5f"
            },
            "error_y": {
             "color": "#2a3f5f"
            },
            "marker": {
             "line": {
              "color": "#E5ECF6",
              "width": 0.5
             },
             "pattern": {
              "fillmode": "overlay",
              "size": 10,
              "solidity": 0.2
             }
            },
            "type": "bar"
           }
          ],
          "barpolar": [
           {
            "marker": {
             "line": {
              "color": "#E5ECF6",
              "width": 0.5
             },
             "pattern": {
              "fillmode": "overlay",
              "size": 10,
              "solidity": 0.2
             }
            },
            "type": "barpolar"
           }
          ],
          "carpet": [
           {
            "aaxis": {
             "endlinecolor": "#2a3f5f",
             "gridcolor": "white",
             "linecolor": "white",
             "minorgridcolor": "white",
             "startlinecolor": "#2a3f5f"
            },
            "baxis": {
             "endlinecolor": "#2a3f5f",
             "gridcolor": "white",
             "linecolor": "white",
             "minorgridcolor": "white",
             "startlinecolor": "#2a3f5f"
            },
            "type": "carpet"
           }
          ],
          "choropleth": [
           {
            "colorbar": {
             "outlinewidth": 0,
             "ticks": ""
            },
            "type": "choropleth"
           }
          ],
          "contour": [
           {
            "colorbar": {
             "outlinewidth": 0,
             "ticks": ""
            },
            "colorscale": [
             [
              0,
              "#0d0887"
             ],
             [
              0.1111111111111111,
              "#46039f"
             ],
             [
              0.2222222222222222,
              "#7201a8"
             ],
             [
              0.3333333333333333,
              "#9c179e"
             ],
             [
              0.4444444444444444,
              "#bd3786"
             ],
             [
              0.5555555555555556,
              "#d8576b"
             ],
             [
              0.6666666666666666,
              "#ed7953"
             ],
             [
              0.7777777777777778,
              "#fb9f3a"
             ],
             [
              0.8888888888888888,
              "#fdca26"
             ],
             [
              1,
              "#f0f921"
             ]
            ],
            "type": "contour"
           }
          ],
          "contourcarpet": [
           {
            "colorbar": {
             "outlinewidth": 0,
             "ticks": ""
            },
            "type": "contourcarpet"
           }
          ],
          "heatmap": [
           {
            "colorbar": {
             "outlinewidth": 0,
             "ticks": ""
            },
            "colorscale": [
             [
              0,
              "#0d0887"
             ],
             [
              0.1111111111111111,
              "#46039f"
             ],
             [
              0.2222222222222222,
              "#7201a8"
             ],
             [
              0.3333333333333333,
              "#9c179e"
             ],
             [
              0.4444444444444444,
              "#bd3786"
             ],
             [
              0.5555555555555556,
              "#d8576b"
             ],
             [
              0.6666666666666666,
              "#ed7953"
             ],
             [
              0.7777777777777778,
              "#fb9f3a"
             ],
             [
              0.8888888888888888,
              "#fdca26"
             ],
             [
              1,
              "#f0f921"
             ]
            ],
            "type": "heatmap"
           }
          ],
          "heatmapgl": [
           {
            "colorbar": {
             "outlinewidth": 0,
             "ticks": ""
            },
            "colorscale": [
             [
              0,
              "#0d0887"
             ],
             [
              0.1111111111111111,
              "#46039f"
             ],
             [
              0.2222222222222222,
              "#7201a8"
             ],
             [
              0.3333333333333333,
              "#9c179e"
             ],
             [
              0.4444444444444444,
              "#bd3786"
             ],
             [
              0.5555555555555556,
              "#d8576b"
             ],
             [
              0.6666666666666666,
              "#ed7953"
             ],
             [
              0.7777777777777778,
              "#fb9f3a"
             ],
             [
              0.8888888888888888,
              "#fdca26"
             ],
             [
              1,
              "#f0f921"
             ]
            ],
            "type": "heatmapgl"
           }
          ],
          "histogram": [
           {
            "marker": {
             "pattern": {
              "fillmode": "overlay",
              "size": 10,
              "solidity": 0.2
             }
            },
            "type": "histogram"
           }
          ],
          "histogram2d": [
           {
            "colorbar": {
             "outlinewidth": 0,
             "ticks": ""
            },
            "colorscale": [
             [
              0,
              "#0d0887"
             ],
             [
              0.1111111111111111,
              "#46039f"
             ],
             [
              0.2222222222222222,
              "#7201a8"
             ],
             [
              0.3333333333333333,
              "#9c179e"
             ],
             [
              0.4444444444444444,
              "#bd3786"
             ],
             [
              0.5555555555555556,
              "#d8576b"
             ],
             [
              0.6666666666666666,
              "#ed7953"
             ],
             [
              0.7777777777777778,
              "#fb9f3a"
             ],
             [
              0.8888888888888888,
              "#fdca26"
             ],
             [
              1,
              "#f0f921"
             ]
            ],
            "type": "histogram2d"
           }
          ],
          "histogram2dcontour": [
           {
            "colorbar": {
             "outlinewidth": 0,
             "ticks": ""
            },
            "colorscale": [
             [
              0,
              "#0d0887"
             ],
             [
              0.1111111111111111,
              "#46039f"
             ],
             [
              0.2222222222222222,
              "#7201a8"
             ],
             [
              0.3333333333333333,
              "#9c179e"
             ],
             [
              0.4444444444444444,
              "#bd3786"
             ],
             [
              0.5555555555555556,
              "#d8576b"
             ],
             [
              0.6666666666666666,
              "#ed7953"
             ],
             [
              0.7777777777777778,
              "#fb9f3a"
             ],
             [
              0.8888888888888888,
              "#fdca26"
             ],
             [
              1,
              "#f0f921"
             ]
            ],
            "type": "histogram2dcontour"
           }
          ],
          "mesh3d": [
           {
            "colorbar": {
             "outlinewidth": 0,
             "ticks": ""
            },
            "type": "mesh3d"
           }
          ],
          "parcoords": [
           {
            "line": {
             "colorbar": {
              "outlinewidth": 0,
              "ticks": ""
             }
            },
            "type": "parcoords"
           }
          ],
          "pie": [
           {
            "automargin": true,
            "type": "pie"
           }
          ],
          "scatter": [
           {
            "marker": {
             "colorbar": {
              "outlinewidth": 0,
              "ticks": ""
             }
            },
            "type": "scatter"
           }
          ],
          "scatter3d": [
           {
            "line": {
             "colorbar": {
              "outlinewidth": 0,
              "ticks": ""
             }
            },
            "marker": {
             "colorbar": {
              "outlinewidth": 0,
              "ticks": ""
             }
            },
            "type": "scatter3d"
           }
          ],
          "scattercarpet": [
           {
            "marker": {
             "colorbar": {
              "outlinewidth": 0,
              "ticks": ""
             }
            },
            "type": "scattercarpet"
           }
          ],
          "scattergeo": [
           {
            "marker": {
             "colorbar": {
              "outlinewidth": 0,
              "ticks": ""
             }
            },
            "type": "scattergeo"
           }
          ],
          "scattergl": [
           {
            "marker": {
             "colorbar": {
              "outlinewidth": 0,
              "ticks": ""
             }
            },
            "type": "scattergl"
           }
          ],
          "scattermapbox": [
           {
            "marker": {
             "colorbar": {
              "outlinewidth": 0,
              "ticks": ""
             }
            },
            "type": "scattermapbox"
           }
          ],
          "scatterpolar": [
           {
            "marker": {
             "colorbar": {
              "outlinewidth": 0,
              "ticks": ""
             }
            },
            "type": "scatterpolar"
           }
          ],
          "scatterpolargl": [
           {
            "marker": {
             "colorbar": {
              "outlinewidth": 0,
              "ticks": ""
             }
            },
            "type": "scatterpolargl"
           }
          ],
          "scatterternary": [
           {
            "marker": {
             "colorbar": {
              "outlinewidth": 0,
              "ticks": ""
             }
            },
            "type": "scatterternary"
           }
          ],
          "surface": [
           {
            "colorbar": {
             "outlinewidth": 0,
             "ticks": ""
            },
            "colorscale": [
             [
              0,
              "#0d0887"
             ],
             [
              0.1111111111111111,
              "#46039f"
             ],
             [
              0.2222222222222222,
              "#7201a8"
             ],
             [
              0.3333333333333333,
              "#9c179e"
             ],
             [
              0.4444444444444444,
              "#bd3786"
             ],
             [
              0.5555555555555556,
              "#d8576b"
             ],
             [
              0.6666666666666666,
              "#ed7953"
             ],
             [
              0.7777777777777778,
              "#fb9f3a"
             ],
             [
              0.8888888888888888,
              "#fdca26"
             ],
             [
              1,
              "#f0f921"
             ]
            ],
            "type": "surface"
           }
          ],
          "table": [
           {
            "cells": {
             "fill": {
              "color": "#EBF0F8"
             },
             "line": {
              "color": "white"
             }
            },
            "header": {
             "fill": {
              "color": "#C8D4E3"
             },
             "line": {
              "color": "white"
             }
            },
            "type": "table"
           }
          ]
         },
         "layout": {
          "annotationdefaults": {
           "arrowcolor": "#2a3f5f",
           "arrowhead": 0,
           "arrowwidth": 1
          },
          "autotypenumbers": "strict",
          "coloraxis": {
           "colorbar": {
            "outlinewidth": 0,
            "ticks": ""
           }
          },
          "colorscale": {
           "diverging": [
            [
             0,
             "#8e0152"
            ],
            [
             0.1,
             "#c51b7d"
            ],
            [
             0.2,
             "#de77ae"
            ],
            [
             0.3,
             "#f1b6da"
            ],
            [
             0.4,
             "#fde0ef"
            ],
            [
             0.5,
             "#f7f7f7"
            ],
            [
             0.6,
             "#e6f5d0"
            ],
            [
             0.7,
             "#b8e186"
            ],
            [
             0.8,
             "#7fbc41"
            ],
            [
             0.9,
             "#4d9221"
            ],
            [
             1,
             "#276419"
            ]
           ],
           "sequential": [
            [
             0,
             "#0d0887"
            ],
            [
             0.1111111111111111,
             "#46039f"
            ],
            [
             0.2222222222222222,
             "#7201a8"
            ],
            [
             0.3333333333333333,
             "#9c179e"
            ],
            [
             0.4444444444444444,
             "#bd3786"
            ],
            [
             0.5555555555555556,
             "#d8576b"
            ],
            [
             0.6666666666666666,
             "#ed7953"
            ],
            [
             0.7777777777777778,
             "#fb9f3a"
            ],
            [
             0.8888888888888888,
             "#fdca26"
            ],
            [
             1,
             "#f0f921"
            ]
           ],
           "sequentialminus": [
            [
             0,
             "#0d0887"
            ],
            [
             0.1111111111111111,
             "#46039f"
            ],
            [
             0.2222222222222222,
             "#7201a8"
            ],
            [
             0.3333333333333333,
             "#9c179e"
            ],
            [
             0.4444444444444444,
             "#bd3786"
            ],
            [
             0.5555555555555556,
             "#d8576b"
            ],
            [
             0.6666666666666666,
             "#ed7953"
            ],
            [
             0.7777777777777778,
             "#fb9f3a"
            ],
            [
             0.8888888888888888,
             "#fdca26"
            ],
            [
             1,
             "#f0f921"
            ]
           ]
          },
          "colorway": [
           "#636efa",
           "#EF553B",
           "#00cc96",
           "#ab63fa",
           "#FFA15A",
           "#19d3f3",
           "#FF6692",
           "#B6E880",
           "#FF97FF",
           "#FECB52"
          ],
          "font": {
           "color": "#2a3f5f"
          },
          "geo": {
           "bgcolor": "white",
           "lakecolor": "white",
           "landcolor": "#E5ECF6",
           "showlakes": true,
           "showland": true,
           "subunitcolor": "white"
          },
          "hoverlabel": {
           "align": "left"
          },
          "hovermode": "closest",
          "mapbox": {
           "style": "light"
          },
          "paper_bgcolor": "white",
          "plot_bgcolor": "#E5ECF6",
          "polar": {
           "angularaxis": {
            "gridcolor": "white",
            "linecolor": "white",
            "ticks": ""
           },
           "bgcolor": "#E5ECF6",
           "radialaxis": {
            "gridcolor": "white",
            "linecolor": "white",
            "ticks": ""
           }
          },
          "scene": {
           "xaxis": {
            "backgroundcolor": "#E5ECF6",
            "gridcolor": "white",
            "gridwidth": 2,
            "linecolor": "white",
            "showbackground": true,
            "ticks": "",
            "zerolinecolor": "white"
           },
           "yaxis": {
            "backgroundcolor": "#E5ECF6",
            "gridcolor": "white",
            "gridwidth": 2,
            "linecolor": "white",
            "showbackground": true,
            "ticks": "",
            "zerolinecolor": "white"
           },
           "zaxis": {
            "backgroundcolor": "#E5ECF6",
            "gridcolor": "white",
            "gridwidth": 2,
            "linecolor": "white",
            "showbackground": true,
            "ticks": "",
            "zerolinecolor": "white"
           }
          },
          "shapedefaults": {
           "line": {
            "color": "#2a3f5f"
           }
          },
          "ternary": {
           "aaxis": {
            "gridcolor": "white",
            "linecolor": "white",
            "ticks": ""
           },
           "baxis": {
            "gridcolor": "white",
            "linecolor": "white",
            "ticks": ""
           },
           "bgcolor": "#E5ECF6",
           "caxis": {
            "gridcolor": "white",
            "linecolor": "white",
            "ticks": ""
           }
          },
          "title": {
           "x": 0.05
          },
          "xaxis": {
           "automargin": true,
           "gridcolor": "white",
           "linecolor": "white",
           "ticks": "",
           "title": {
            "standoff": 15
           },
           "zerolinecolor": "white",
           "zerolinewidth": 2
          },
          "yaxis": {
           "automargin": true,
           "gridcolor": "white",
           "linecolor": "white",
           "ticks": "",
           "title": {
            "standoff": 15
           },
           "zerolinecolor": "white",
           "zerolinewidth": 2
          }
         }
        },
        "title": {
         "font": {
          "color": "#4D5663"
         }
        },
        "xaxis": {
         "gridcolor": "#E1E5ED",
         "showgrid": true,
         "tickfont": {
          "color": "#4D5663"
         },
         "title": {
          "font": {
           "color": "#4D5663"
          },
          "text": ""
         },
         "zerolinecolor": "#E1E5ED"
        },
        "yaxis": {
         "gridcolor": "#E1E5ED",
         "showgrid": true,
         "tickfont": {
          "color": "#4D5663"
         },
         "title": {
          "font": {
           "color": "#4D5663"
          },
          "text": ""
         },
         "zerolinecolor": "#E1E5ED"
        }
       }
      },
      "text/html": [
       "<div>                            <div id=\"ffe182b1-4e41-411f-b09f-6fdd1d03f376\" class=\"plotly-graph-div\" style=\"height:525px; width:100%;\"></div>            <script type=\"text/javascript\">                require([\"plotly\"], function(Plotly) {                    window.PLOTLYENV=window.PLOTLYENV || {};\n",
       "                    window.PLOTLYENV.BASE_URL='https://plot.ly';                                    if (document.getElementById(\"ffe182b1-4e41-411f-b09f-6fdd1d03f376\")) {                    Plotly.newPlot(                        \"ffe182b1-4e41-411f-b09f-6fdd1d03f376\",                        [{\"marker\":{\"color\":[\"rgb(255, 153, 51)\",\"rgb(55, 128, 191)\",\"rgb(50, 171, 96)\",\"rgb(128, 0, 128)\",\"rgb(219, 64, 82)\",\"rgb(0, 128, 128)\",\"rgb(255, 255, 51)\",\"rgb(128, 128, 0)\",\"rgb(251, 128, 114)\",\"rgb(128, 177, 211)\"],\"line\":{\"width\":1.3},\"size\":[68,48,46,73,97,60,77,73,63,82,72,52,61,82,70,59,29,56,12,74,55,50,85,97,75,59,57,80,68,88,41,49,72,78,82,60,62,45,76,42,89,96,93,76,38,64,92,76,56,66,42,83,46,81,93,69,40,112,93,50,75,73,78,77,84,97,47,67,91,79,68,39,85,105,87,77,57,26,82,70,94,72,75,105,25,82,70,78,63,68,51,77,81,64,48,75,75,44,75,69],\"symbol\":\"circle\"},\"mode\":\"markers\",\"text\":\"\",\"x\":[-0.6005272572897303,0.4244128074582704,-0.4409073355427527,0.8765579194110584,0.113261090341445,-0.4734724357527685,-0.5188427551304841,1.6014103864400826,-1.9072129048619137,0.13973295867986582,0.1702359906906131,-0.05052875998036999,0.20326605679474508,-0.6068987450085842,0.01901108295103341,1.693422376323972,0.5845625651895274,0.4308434776212245,2.0362362984046185,-0.37880189101535205,0.5311977539175295,0.2225490230732347,0.6105435706552877,0.6012397714386573,-0.49798029829730084,-1.5788557684254483,-1.1725339762475635,-0.7429584143370385,-1.3033130409601439,-0.1481121095374952,-0.08987450109740919,0.8634887289963715,1.3154289749839931,-0.1458612244300904,0.0446654478807579,-0.48504782159620513,-1.617495602420557,-0.731694949591574,0.3821784833214193,-0.5662280029457727,0.21408484014185408,-1.1289387995158675,0.7269769388895451,-0.9011091704893577,-2.535588699140916,-0.43260366467435213,-0.15376731612435343,0.39964626739478737,-0.11233023781221708,1.554395766979265,-0.4308410579333943,-1.0882608871453134,-0.30491823751325103,-2.7204294407752174,0.6273722477938712,-0.8654492756421258,1.9183759306233856,1.804196834549093,-0.15729206200947618,1.062606251289599,0.7294892417546102,1.734507463508707,-0.9622969360364804,-1.22800512027324,1.5476998702992784,0.20212868111909074,-0.2287354920448391,-1.6256267328555414,0.11805653097824363,-0.12569222392741497,0.6344132872644095,0.13955461698175808,-0.10892925133430031,0.45304222972607944,-0.2615053375643434,-0.22411611506996273,1.7141971468445547,-1.5018373663357867,-0.38328035963769436,-0.2043652018260254,-0.17657931439914137,-0.9963628208785296,0.6107128707648545,-0.47340018232802844,0.9359112776474541,-1.341473246861999,1.1182266906281662,2.353288351782029,-0.846808712188778,1.372132144431435,0.9999474752472598,1.5804495493664477,2.04568628243262,0.9797750995650546,-0.1787771713442234,-0.027427461421897097,1.476220213935394,0.7695677105340464,-1.3060175064144073,0.3037509273928669],\"y\":[0.03354789955792382,0.8070604927554935,-0.20541484675194602,1.4129841433086383,1.9008318459139721,0.09300179845913471,0.5736886980820219,-0.19687274864419568,0.6281570041414841,0.7239231301056195,1.7173841614342737,1.3988000668176435,-0.8184742870915912,0.8967890017662526,-0.9153149454880518,-1.1625286021506622,0.27044631838323935,0.17279082609833252,-0.4838988802454175,-0.1985370723300537,0.45925580298117624,-0.466204510726407,-1.1902078376153176,-1.9423008579291474,0.17112423404743934,-0.8855102151597386,-0.06814690123720969,0.007010359856248485,-1.137822077002745,-2.308475853373866,-1.4624081721848106,-2.3647837278310138,-0.04945163262821755,-1.2724024016855202,-0.18420164801720115,0.4937061618303972,0.8033638747875229,-0.5036382720105074,0.8650082134002659,1.3913484083238983,-0.20620902568661237,0.25801694867934716,1.2157655167065369,1.3728410412263647,-0.8789152030004874,2.732310897045035,-1.3190874577850344,1.397284606765221,-0.278408549922117,1.6045608853438653,0.4205862015249162,0.24586301293823862,-0.1624515223851526,0.004887071810461409,-0.3569192879972979,0.6108006930348017,0.5384132600405072,1.1870638570610101,-0.8103379700987837,1.025975673439183,-0.4868784353162769,1.099447359391673,2.126150863729017,-0.8853264199162242,-0.3906919892588175,0.7644501291980417,-0.33172508223653285,-1.673993229937289,0.7820730124854408,0.25078668823209227,0.060357828532477814,0.7135707361779056,1.9964468811846894,0.15720488025605775,-0.2914659228838468,0.5161998499046359,-1.2785898286810256,1.4256047826992324,0.7069658123112345,1.8546235482138067,1.3346021424253542,1.1148461334157418,0.026985915141145175,1.397096502991006,2.045547530911009,1.2087274247672462,-0.02902799114594827,0.013673037218682812,-0.7223314143978876,-0.19675613251686933,0.19737307211466443,1.8029377596310276,-0.5129101312888362,1.9020237049129,0.5392281905319504,-1.5195104524428904,0.45090724709228314,-0.4605983828812109,0.8367771087907409,0.4522326050616165],\"type\":\"scatter\"}],                        {\"legend\":{\"bgcolor\":\"#F5F6F9\",\"font\":{\"color\":\"#4D5663\"}},\"paper_bgcolor\":\"#F5F6F9\",\"plot_bgcolor\":\"#F5F6F9\",\"template\":{\"data\":{\"barpolar\":[{\"marker\":{\"line\":{\"color\":\"#E5ECF6\",\"width\":0.5},\"pattern\":{\"fillmode\":\"overlay\",\"size\":10,\"solidity\":0.2}},\"type\":\"barpolar\"}],\"bar\":[{\"error_x\":{\"color\":\"#2a3f5f\"},\"error_y\":{\"color\":\"#2a3f5f\"},\"marker\":{\"line\":{\"color\":\"#E5ECF6\",\"width\":0.5},\"pattern\":{\"fillmode\":\"overlay\",\"size\":10,\"solidity\":0.2}},\"type\":\"bar\"}],\"carpet\":[{\"aaxis\":{\"endlinecolor\":\"#2a3f5f\",\"gridcolor\":\"white\",\"linecolor\":\"white\",\"minorgridcolor\":\"white\",\"startlinecolor\":\"#2a3f5f\"},\"baxis\":{\"endlinecolor\":\"#2a3f5f\",\"gridcolor\":\"white\",\"linecolor\":\"white\",\"minorgridcolor\":\"white\",\"startlinecolor\":\"#2a3f5f\"},\"type\":\"carpet\"}],\"choropleth\":[{\"colorbar\":{\"outlinewidth\":0,\"ticks\":\"\"},\"type\":\"choropleth\"}],\"contourcarpet\":[{\"colorbar\":{\"outlinewidth\":0,\"ticks\":\"\"},\"type\":\"contourcarpet\"}],\"contour\":[{\"colorbar\":{\"outlinewidth\":0,\"ticks\":\"\"},\"colorscale\":[[0.0,\"#0d0887\"],[0.1111111111111111,\"#46039f\"],[0.2222222222222222,\"#7201a8\"],[0.3333333333333333,\"#9c179e\"],[0.4444444444444444,\"#bd3786\"],[0.5555555555555556,\"#d8576b\"],[0.6666666666666666,\"#ed7953\"],[0.7777777777777778,\"#fb9f3a\"],[0.8888888888888888,\"#fdca26\"],[1.0,\"#f0f921\"]],\"type\":\"contour\"}],\"heatmapgl\":[{\"colorbar\":{\"outlinewidth\":0,\"ticks\":\"\"},\"colorscale\":[[0.0,\"#0d0887\"],[0.1111111111111111,\"#46039f\"],[0.2222222222222222,\"#7201a8\"],[0.3333333333333333,\"#9c179e\"],[0.4444444444444444,\"#bd3786\"],[0.5555555555555556,\"#d8576b\"],[0.6666666666666666,\"#ed7953\"],[0.7777777777777778,\"#fb9f3a\"],[0.8888888888888888,\"#fdca26\"],[1.0,\"#f0f921\"]],\"type\":\"heatmapgl\"}],\"heatmap\":[{\"colorbar\":{\"outlinewidth\":0,\"ticks\":\"\"},\"colorscale\":[[0.0,\"#0d0887\"],[0.1111111111111111,\"#46039f\"],[0.2222222222222222,\"#7201a8\"],[0.3333333333333333,\"#9c179e\"],[0.4444444444444444,\"#bd3786\"],[0.5555555555555556,\"#d8576b\"],[0.6666666666666666,\"#ed7953\"],[0.7777777777777778,\"#fb9f3a\"],[0.8888888888888888,\"#fdca26\"],[1.0,\"#f0f921\"]],\"type\":\"heatmap\"}],\"histogram2dcontour\":[{\"colorbar\":{\"outlinewidth\":0,\"ticks\":\"\"},\"colorscale\":[[0.0,\"#0d0887\"],[0.1111111111111111,\"#46039f\"],[0.2222222222222222,\"#7201a8\"],[0.3333333333333333,\"#9c179e\"],[0.4444444444444444,\"#bd3786\"],[0.5555555555555556,\"#d8576b\"],[0.6666666666666666,\"#ed7953\"],[0.7777777777777778,\"#fb9f3a\"],[0.8888888888888888,\"#fdca26\"],[1.0,\"#f0f921\"]],\"type\":\"histogram2dcontour\"}],\"histogram2d\":[{\"colorbar\":{\"outlinewidth\":0,\"ticks\":\"\"},\"colorscale\":[[0.0,\"#0d0887\"],[0.1111111111111111,\"#46039f\"],[0.2222222222222222,\"#7201a8\"],[0.3333333333333333,\"#9c179e\"],[0.4444444444444444,\"#bd3786\"],[0.5555555555555556,\"#d8576b\"],[0.6666666666666666,\"#ed7953\"],[0.7777777777777778,\"#fb9f3a\"],[0.8888888888888888,\"#fdca26\"],[1.0,\"#f0f921\"]],\"type\":\"histogram2d\"}],\"histogram\":[{\"marker\":{\"pattern\":{\"fillmode\":\"overlay\",\"size\":10,\"solidity\":0.2}},\"type\":\"histogram\"}],\"mesh3d\":[{\"colorbar\":{\"outlinewidth\":0,\"ticks\":\"\"},\"type\":\"mesh3d\"}],\"parcoords\":[{\"line\":{\"colorbar\":{\"outlinewidth\":0,\"ticks\":\"\"}},\"type\":\"parcoords\"}],\"pie\":[{\"automargin\":true,\"type\":\"pie\"}],\"scatter3d\":[{\"line\":{\"colorbar\":{\"outlinewidth\":0,\"ticks\":\"\"}},\"marker\":{\"colorbar\":{\"outlinewidth\":0,\"ticks\":\"\"}},\"type\":\"scatter3d\"}],\"scattercarpet\":[{\"marker\":{\"colorbar\":{\"outlinewidth\":0,\"ticks\":\"\"}},\"type\":\"scattercarpet\"}],\"scattergeo\":[{\"marker\":{\"colorbar\":{\"outlinewidth\":0,\"ticks\":\"\"}},\"type\":\"scattergeo\"}],\"scattergl\":[{\"marker\":{\"colorbar\":{\"outlinewidth\":0,\"ticks\":\"\"}},\"type\":\"scattergl\"}],\"scattermapbox\":[{\"marker\":{\"colorbar\":{\"outlinewidth\":0,\"ticks\":\"\"}},\"type\":\"scattermapbox\"}],\"scatterpolargl\":[{\"marker\":{\"colorbar\":{\"outlinewidth\":0,\"ticks\":\"\"}},\"type\":\"scatterpolargl\"}],\"scatterpolar\":[{\"marker\":{\"colorbar\":{\"outlinewidth\":0,\"ticks\":\"\"}},\"type\":\"scatterpolar\"}],\"scatter\":[{\"marker\":{\"colorbar\":{\"outlinewidth\":0,\"ticks\":\"\"}},\"type\":\"scatter\"}],\"scatterternary\":[{\"marker\":{\"colorbar\":{\"outlinewidth\":0,\"ticks\":\"\"}},\"type\":\"scatterternary\"}],\"surface\":[{\"colorbar\":{\"outlinewidth\":0,\"ticks\":\"\"},\"colorscale\":[[0.0,\"#0d0887\"],[0.1111111111111111,\"#46039f\"],[0.2222222222222222,\"#7201a8\"],[0.3333333333333333,\"#9c179e\"],[0.4444444444444444,\"#bd3786\"],[0.5555555555555556,\"#d8576b\"],[0.6666666666666666,\"#ed7953\"],[0.7777777777777778,\"#fb9f3a\"],[0.8888888888888888,\"#fdca26\"],[1.0,\"#f0f921\"]],\"type\":\"surface\"}],\"table\":[{\"cells\":{\"fill\":{\"color\":\"#EBF0F8\"},\"line\":{\"color\":\"white\"}},\"header\":{\"fill\":{\"color\":\"#C8D4E3\"},\"line\":{\"color\":\"white\"}},\"type\":\"table\"}]},\"layout\":{\"annotationdefaults\":{\"arrowcolor\":\"#2a3f5f\",\"arrowhead\":0,\"arrowwidth\":1},\"autotypenumbers\":\"strict\",\"coloraxis\":{\"colorbar\":{\"outlinewidth\":0,\"ticks\":\"\"}},\"colorscale\":{\"diverging\":[[0,\"#8e0152\"],[0.1,\"#c51b7d\"],[0.2,\"#de77ae\"],[0.3,\"#f1b6da\"],[0.4,\"#fde0ef\"],[0.5,\"#f7f7f7\"],[0.6,\"#e6f5d0\"],[0.7,\"#b8e186\"],[0.8,\"#7fbc41\"],[0.9,\"#4d9221\"],[1,\"#276419\"]],\"sequential\":[[0.0,\"#0d0887\"],[0.1111111111111111,\"#46039f\"],[0.2222222222222222,\"#7201a8\"],[0.3333333333333333,\"#9c179e\"],[0.4444444444444444,\"#bd3786\"],[0.5555555555555556,\"#d8576b\"],[0.6666666666666666,\"#ed7953\"],[0.7777777777777778,\"#fb9f3a\"],[0.8888888888888888,\"#fdca26\"],[1.0,\"#f0f921\"]],\"sequentialminus\":[[0.0,\"#0d0887\"],[0.1111111111111111,\"#46039f\"],[0.2222222222222222,\"#7201a8\"],[0.3333333333333333,\"#9c179e\"],[0.4444444444444444,\"#bd3786\"],[0.5555555555555556,\"#d8576b\"],[0.6666666666666666,\"#ed7953\"],[0.7777777777777778,\"#fb9f3a\"],[0.8888888888888888,\"#fdca26\"],[1.0,\"#f0f921\"]]},\"colorway\":[\"#636efa\",\"#EF553B\",\"#00cc96\",\"#ab63fa\",\"#FFA15A\",\"#19d3f3\",\"#FF6692\",\"#B6E880\",\"#FF97FF\",\"#FECB52\"],\"font\":{\"color\":\"#2a3f5f\"},\"geo\":{\"bgcolor\":\"white\",\"lakecolor\":\"white\",\"landcolor\":\"#E5ECF6\",\"showlakes\":true,\"showland\":true,\"subunitcolor\":\"white\"},\"hoverlabel\":{\"align\":\"left\"},\"hovermode\":\"closest\",\"mapbox\":{\"style\":\"light\"},\"paper_bgcolor\":\"white\",\"plot_bgcolor\":\"#E5ECF6\",\"polar\":{\"angularaxis\":{\"gridcolor\":\"white\",\"linecolor\":\"white\",\"ticks\":\"\"},\"bgcolor\":\"#E5ECF6\",\"radialaxis\":{\"gridcolor\":\"white\",\"linecolor\":\"white\",\"ticks\":\"\"}},\"scene\":{\"xaxis\":{\"backgroundcolor\":\"#E5ECF6\",\"gridcolor\":\"white\",\"gridwidth\":2,\"linecolor\":\"white\",\"showbackground\":true,\"ticks\":\"\",\"zerolinecolor\":\"white\"},\"yaxis\":{\"backgroundcolor\":\"#E5ECF6\",\"gridcolor\":\"white\",\"gridwidth\":2,\"linecolor\":\"white\",\"showbackground\":true,\"ticks\":\"\",\"zerolinecolor\":\"white\"},\"zaxis\":{\"backgroundcolor\":\"#E5ECF6\",\"gridcolor\":\"white\",\"gridwidth\":2,\"linecolor\":\"white\",\"showbackground\":true,\"ticks\":\"\",\"zerolinecolor\":\"white\"}},\"shapedefaults\":{\"line\":{\"color\":\"#2a3f5f\"}},\"ternary\":{\"aaxis\":{\"gridcolor\":\"white\",\"linecolor\":\"white\",\"ticks\":\"\"},\"baxis\":{\"gridcolor\":\"white\",\"linecolor\":\"white\",\"ticks\":\"\"},\"bgcolor\":\"#E5ECF6\",\"caxis\":{\"gridcolor\":\"white\",\"linecolor\":\"white\",\"ticks\":\"\"}},\"title\":{\"x\":0.05},\"xaxis\":{\"automargin\":true,\"gridcolor\":\"white\",\"linecolor\":\"white\",\"ticks\":\"\",\"title\":{\"standoff\":15},\"zerolinecolor\":\"white\",\"zerolinewidth\":2},\"yaxis\":{\"automargin\":true,\"gridcolor\":\"white\",\"linecolor\":\"white\",\"ticks\":\"\",\"title\":{\"standoff\":15},\"zerolinecolor\":\"white\",\"zerolinewidth\":2}}},\"title\":{\"font\":{\"color\":\"#4D5663\"}},\"xaxis\":{\"gridcolor\":\"#E1E5ED\",\"showgrid\":true,\"tickfont\":{\"color\":\"#4D5663\"},\"title\":{\"font\":{\"color\":\"#4D5663\"},\"text\":\"\"},\"zerolinecolor\":\"#E1E5ED\"},\"yaxis\":{\"gridcolor\":\"#E1E5ED\",\"showgrid\":true,\"tickfont\":{\"color\":\"#4D5663\"},\"title\":{\"font\":{\"color\":\"#4D5663\"},\"text\":\"\"},\"zerolinecolor\":\"#E1E5ED\"}},                        {\"showLink\": true, \"linkText\": \"Export to plot.ly\", \"plotlyServerURL\": \"https://plot.ly\", \"responsive\": true}                    ).then(function(){\n",
       "                            \n",
       "var gd = document.getElementById('ffe182b1-4e41-411f-b09f-6fdd1d03f376');\n",
       "var x = new MutationObserver(function (mutations, observer) {{\n",
       "        var display = window.getComputedStyle(gd).display;\n",
       "        if (!display || display === 'none') {{\n",
       "            console.log([gd, 'removed!']);\n",
       "            Plotly.purge(gd);\n",
       "            observer.disconnect();\n",
       "        }}\n",
       "}});\n",
       "\n",
       "// Listen for the removal of the full notebook cells\n",
       "var notebookContainer = gd.closest('#notebook-container');\n",
       "if (notebookContainer) {{\n",
       "    x.observe(notebookContainer, {childList: true});\n",
       "}}\n",
       "\n",
       "// Listen for the clearing of the current output cell\n",
       "var outputEl = gd.closest('.output');\n",
       "if (outputEl) {{\n",
       "    x.observe(outputEl, {childList: true});\n",
       "}}\n",
       "\n",
       "                        })                };                });            </script>        </div>"
      ]
     },
     "metadata": {},
     "output_type": "display_data"
    }
   ],
   "source": [
    "df.iplot(kind='bubble',x='A',y='B',size='C')"
   ]
  },
  {
   "cell_type": "markdown",
   "metadata": {},
   "source": [
    "## scatter_matrix()\n",
    "\n",
    "Similar to sns.pairplot()"
   ]
  },
  {
   "cell_type": "code",
   "execution_count": 18,
   "metadata": {},
   "outputs": [
    {
     "data": {
      "application/vnd.plotly.v1+json": {
       "config": {
        "linkText": "Export to plot.ly",
        "plotlyServerURL": "https://plot.ly",
        "showLink": true
       },
       "data": [
        {
         "histfunc": "count",
         "histnorm": "",
         "marker": {
          "color": "rgba(255, 153, 51, 1.0)",
          "line": {
           "color": "#4D5663",
           "width": 1.3
          }
         },
         "name": "A",
         "nbinsx": 10,
         "opacity": 0.8,
         "orientation": "v",
         "type": "histogram",
         "x": [
          -0.6005272572897303,
          0.4244128074582704,
          -0.4409073355427527,
          0.8765579194110584,
          0.113261090341445,
          -0.4734724357527685,
          -0.5188427551304841,
          1.6014103864400826,
          -1.9072129048619137,
          0.13973295867986582,
          0.1702359906906131,
          -0.05052875998036999,
          0.20326605679474508,
          -0.6068987450085842,
          0.01901108295103341,
          1.693422376323972,
          0.5845625651895274,
          0.4308434776212245,
          2.0362362984046185,
          -0.37880189101535205,
          0.5311977539175295,
          0.2225490230732347,
          0.6105435706552877,
          0.6012397714386573,
          -0.49798029829730084,
          -1.5788557684254483,
          -1.1725339762475635,
          -0.7429584143370385,
          -1.3033130409601439,
          -0.1481121095374952,
          -0.08987450109740919,
          0.8634887289963715,
          1.3154289749839931,
          -0.1458612244300904,
          0.0446654478807579,
          -0.48504782159620513,
          -1.617495602420557,
          -0.731694949591574,
          0.3821784833214193,
          -0.5662280029457727,
          0.21408484014185408,
          -1.1289387995158675,
          0.7269769388895451,
          -0.9011091704893577,
          -2.535588699140916,
          -0.43260366467435213,
          -0.15376731612435343,
          0.39964626739478737,
          -0.11233023781221708,
          1.554395766979265,
          -0.4308410579333943,
          -1.0882608871453134,
          -0.30491823751325103,
          -2.7204294407752174,
          0.6273722477938712,
          -0.8654492756421258,
          1.9183759306233856,
          1.804196834549093,
          -0.15729206200947618,
          1.062606251289599,
          0.7294892417546102,
          1.734507463508707,
          -0.9622969360364804,
          -1.22800512027324,
          1.5476998702992784,
          0.20212868111909074,
          -0.2287354920448391,
          -1.6256267328555414,
          0.11805653097824363,
          -0.12569222392741497,
          0.6344132872644095,
          0.13955461698175808,
          -0.10892925133430031,
          0.45304222972607944,
          -0.2615053375643434,
          -0.22411611506996273,
          1.7141971468445547,
          -1.5018373663357867,
          -0.38328035963769436,
          -0.2043652018260254,
          -0.17657931439914137,
          -0.9963628208785296,
          0.6107128707648545,
          -0.47340018232802844,
          0.9359112776474541,
          -1.341473246861999,
          1.1182266906281662,
          2.353288351782029,
          -0.846808712188778,
          1.372132144431435,
          0.9999474752472598,
          1.5804495493664477,
          2.04568628243262,
          0.9797750995650546,
          -0.1787771713442234,
          -0.027427461421897097,
          1.476220213935394,
          0.7695677105340464,
          -1.3060175064144073,
          0.3037509273928669
         ],
         "xaxis": "x",
         "yaxis": "y"
        },
        {
         "line": {
          "color": "rgba(128, 128, 128, 1.0)",
          "dash": "solid",
          "shape": "linear",
          "width": 1.3
         },
         "marker": {
          "size": 2,
          "symbol": "circle"
         },
         "mode": "markers",
         "name": "A",
         "text": "",
         "type": "scatter",
         "x": [
          0.03354789955792382,
          0.8070604927554935,
          -0.20541484675194602,
          1.4129841433086383,
          1.9008318459139721,
          0.09300179845913471,
          0.5736886980820219,
          -0.19687274864419568,
          0.6281570041414841,
          0.7239231301056195,
          1.7173841614342737,
          1.3988000668176435,
          -0.8184742870915912,
          0.8967890017662526,
          -0.9153149454880518,
          -1.1625286021506622,
          0.27044631838323935,
          0.17279082609833252,
          -0.4838988802454175,
          -0.1985370723300537,
          0.45925580298117624,
          -0.466204510726407,
          -1.1902078376153176,
          -1.9423008579291474,
          0.17112423404743934,
          -0.8855102151597386,
          -0.06814690123720969,
          0.007010359856248485,
          -1.137822077002745,
          -2.308475853373866,
          -1.4624081721848106,
          -2.3647837278310138,
          -0.04945163262821755,
          -1.2724024016855202,
          -0.18420164801720115,
          0.4937061618303972,
          0.8033638747875229,
          -0.5036382720105074,
          0.8650082134002659,
          1.3913484083238983,
          -0.20620902568661237,
          0.25801694867934716,
          1.2157655167065369,
          1.3728410412263647,
          -0.8789152030004874,
          2.732310897045035,
          -1.3190874577850344,
          1.397284606765221,
          -0.278408549922117,
          1.6045608853438653,
          0.4205862015249162,
          0.24586301293823862,
          -0.1624515223851526,
          0.004887071810461409,
          -0.3569192879972979,
          0.6108006930348017,
          0.5384132600405072,
          1.1870638570610101,
          -0.8103379700987837,
          1.025975673439183,
          -0.4868784353162769,
          1.099447359391673,
          2.126150863729017,
          -0.8853264199162242,
          -0.3906919892588175,
          0.7644501291980417,
          -0.33172508223653285,
          -1.673993229937289,
          0.7820730124854408,
          0.25078668823209227,
          0.060357828532477814,
          0.7135707361779056,
          1.9964468811846894,
          0.15720488025605775,
          -0.2914659228838468,
          0.5161998499046359,
          -1.2785898286810256,
          1.4256047826992324,
          0.7069658123112345,
          1.8546235482138067,
          1.3346021424253542,
          1.1148461334157418,
          0.026985915141145175,
          1.397096502991006,
          2.045547530911009,
          1.2087274247672462,
          -0.02902799114594827,
          0.013673037218682812,
          -0.7223314143978876,
          -0.19675613251686933,
          0.19737307211466443,
          1.8029377596310276,
          -0.5129101312888362,
          1.9020237049129,
          0.5392281905319504,
          -1.5195104524428904,
          0.45090724709228314,
          -0.4605983828812109,
          0.8367771087907409,
          0.4522326050616165
         ],
         "xaxis": "x2",
         "y": [
          -0.6005272572897303,
          0.4244128074582704,
          -0.4409073355427527,
          0.8765579194110584,
          0.113261090341445,
          -0.4734724357527685,
          -0.5188427551304841,
          1.6014103864400826,
          -1.9072129048619137,
          0.13973295867986582,
          0.1702359906906131,
          -0.05052875998036999,
          0.20326605679474508,
          -0.6068987450085842,
          0.01901108295103341,
          1.693422376323972,
          0.5845625651895274,
          0.4308434776212245,
          2.0362362984046185,
          -0.37880189101535205,
          0.5311977539175295,
          0.2225490230732347,
          0.6105435706552877,
          0.6012397714386573,
          -0.49798029829730084,
          -1.5788557684254483,
          -1.1725339762475635,
          -0.7429584143370385,
          -1.3033130409601439,
          -0.1481121095374952,
          -0.08987450109740919,
          0.8634887289963715,
          1.3154289749839931,
          -0.1458612244300904,
          0.0446654478807579,
          -0.48504782159620513,
          -1.617495602420557,
          -0.731694949591574,
          0.3821784833214193,
          -0.5662280029457727,
          0.21408484014185408,
          -1.1289387995158675,
          0.7269769388895451,
          -0.9011091704893577,
          -2.535588699140916,
          -0.43260366467435213,
          -0.15376731612435343,
          0.39964626739478737,
          -0.11233023781221708,
          1.554395766979265,
          -0.4308410579333943,
          -1.0882608871453134,
          -0.30491823751325103,
          -2.7204294407752174,
          0.6273722477938712,
          -0.8654492756421258,
          1.9183759306233856,
          1.804196834549093,
          -0.15729206200947618,
          1.062606251289599,
          0.7294892417546102,
          1.734507463508707,
          -0.9622969360364804,
          -1.22800512027324,
          1.5476998702992784,
          0.20212868111909074,
          -0.2287354920448391,
          -1.6256267328555414,
          0.11805653097824363,
          -0.12569222392741497,
          0.6344132872644095,
          0.13955461698175808,
          -0.10892925133430031,
          0.45304222972607944,
          -0.2615053375643434,
          -0.22411611506996273,
          1.7141971468445547,
          -1.5018373663357867,
          -0.38328035963769436,
          -0.2043652018260254,
          -0.17657931439914137,
          -0.9963628208785296,
          0.6107128707648545,
          -0.47340018232802844,
          0.9359112776474541,
          -1.341473246861999,
          1.1182266906281662,
          2.353288351782029,
          -0.846808712188778,
          1.372132144431435,
          0.9999474752472598,
          1.5804495493664477,
          2.04568628243262,
          0.9797750995650546,
          -0.1787771713442234,
          -0.027427461421897097,
          1.476220213935394,
          0.7695677105340464,
          -1.3060175064144073,
          0.3037509273928669
         ],
         "yaxis": "y2"
        },
        {
         "line": {
          "color": "rgba(128, 128, 128, 1.0)",
          "dash": "solid",
          "shape": "linear",
          "width": 1.3
         },
         "marker": {
          "size": 2,
          "symbol": "circle"
         },
         "mode": "markers",
         "name": "A",
         "text": "",
         "type": "scatter",
         "x": [
          0.005820026315235889,
          -0.944252919775402,
          -1.0492272328413648,
          0.22757054265445817,
          1.3777527492775783,
          -0.3489891370565893,
          0.44483703810824815,
          0.22303942724877285,
          -0.22881401479458185,
          0.6798059058144068,
          0.18454890869296758,
          -0.7429996997754517,
          -0.3150553275072614,
          0.6696838774410224,
          0.08971821990446563,
          -0.42078443345254213,
          -1.805350538008814,
          -0.5474542341282794,
          -2.640802056449358,
          0.29380406391663294,
          -0.5973603189213698,
          -0.8373122602203762,
          0.7911481136573829,
          1.3612366390345785,
          0.3260243510315011,
          -0.4381030244611688,
          -0.5183108164385883,
          0.575393066106595,
          0.002261293668035416,
          0.9480312712016943,
          -1.2518700264626437,
          -0.8636678495397886,
          0.1828220938574215,
          0.4651131859911088,
          0.6600216055864502,
          -0.35580438892131067,
          -0.28642366363561245,
          -1.0840761390606588,
          0.3713304208912552,
          -1.2284361640922536,
          0.9686348277002187,
          1.3296732876776354,
          1.177937948942286,
          0.39965380388345095,
          -1.4122223568957806,
          -0.176116020072892,
          1.138709732872558,
          0.35351407573453175,
          -0.5414400307940884,
          -0.07162348918388448,
          -1.2162767417108231,
          0.7123174537161838,
          -1.028955460810404,
          0.6156977305294409,
          1.178058898104863,
          0.0377000609650166,
          -1.3230000941088274,
          2.037772260676816,
          1.1490198058614232,
          -0.8536579018943958,
          0.30841573406451267,
          0.2254774591549979,
          0.4682975588086075,
          0.437699098955465,
          0.7709299476036803,
          1.3701566477949783,
          -1.0016567278174484,
          -0.028441481653694128,
          1.0801540051188552,
          0.5285911737990813,
          0.021650992628812524,
          -1.373511680614175,
          0.8183418801812649,
          1.7337369519516643,
          0.8938198365706271,
          0.4407902101656733,
          -0.5053911283601059,
          -1.9408740723430784,
          0.6732190978860576,
          0.09154499420627218,
          1.2327283294517688,
          0.17262182684022867,
          0.34415223930326977,
          1.7428745760179878,
          -2.0312787609735263,
          0.654249937369822,
          0.10880300326304189,
          0.44987552934980357,
          -0.24137878303951626,
          0.0072028249462114165,
          -0.7928376290036848,
          0.4196989942621943,
          0.6329049798142696,
          -0.20733444657212877,
          -0.9271172539059707,
          0.3250276542830719,
          0.3409165518651384,
          -1.115775977352867,
          0.34254224820018225,
          0.07045933383035928
         ],
         "xaxis": "x3",
         "y": [
          -0.6005272572897303,
          0.4244128074582704,
          -0.4409073355427527,
          0.8765579194110584,
          0.113261090341445,
          -0.4734724357527685,
          -0.5188427551304841,
          1.6014103864400826,
          -1.9072129048619137,
          0.13973295867986582,
          0.1702359906906131,
          -0.05052875998036999,
          0.20326605679474508,
          -0.6068987450085842,
          0.01901108295103341,
          1.693422376323972,
          0.5845625651895274,
          0.4308434776212245,
          2.0362362984046185,
          -0.37880189101535205,
          0.5311977539175295,
          0.2225490230732347,
          0.6105435706552877,
          0.6012397714386573,
          -0.49798029829730084,
          -1.5788557684254483,
          -1.1725339762475635,
          -0.7429584143370385,
          -1.3033130409601439,
          -0.1481121095374952,
          -0.08987450109740919,
          0.8634887289963715,
          1.3154289749839931,
          -0.1458612244300904,
          0.0446654478807579,
          -0.48504782159620513,
          -1.617495602420557,
          -0.731694949591574,
          0.3821784833214193,
          -0.5662280029457727,
          0.21408484014185408,
          -1.1289387995158675,
          0.7269769388895451,
          -0.9011091704893577,
          -2.535588699140916,
          -0.43260366467435213,
          -0.15376731612435343,
          0.39964626739478737,
          -0.11233023781221708,
          1.554395766979265,
          -0.4308410579333943,
          -1.0882608871453134,
          -0.30491823751325103,
          -2.7204294407752174,
          0.6273722477938712,
          -0.8654492756421258,
          1.9183759306233856,
          1.804196834549093,
          -0.15729206200947618,
          1.062606251289599,
          0.7294892417546102,
          1.734507463508707,
          -0.9622969360364804,
          -1.22800512027324,
          1.5476998702992784,
          0.20212868111909074,
          -0.2287354920448391,
          -1.6256267328555414,
          0.11805653097824363,
          -0.12569222392741497,
          0.6344132872644095,
          0.13955461698175808,
          -0.10892925133430031,
          0.45304222972607944,
          -0.2615053375643434,
          -0.22411611506996273,
          1.7141971468445547,
          -1.5018373663357867,
          -0.38328035963769436,
          -0.2043652018260254,
          -0.17657931439914137,
          -0.9963628208785296,
          0.6107128707648545,
          -0.47340018232802844,
          0.9359112776474541,
          -1.341473246861999,
          1.1182266906281662,
          2.353288351782029,
          -0.846808712188778,
          1.372132144431435,
          0.9999474752472598,
          1.5804495493664477,
          2.04568628243262,
          0.9797750995650546,
          -0.1787771713442234,
          -0.027427461421897097,
          1.476220213935394,
          0.7695677105340464,
          -1.3060175064144073,
          0.3037509273928669
         ],
         "yaxis": "y3"
        },
        {
         "line": {
          "color": "rgba(128, 128, 128, 1.0)",
          "dash": "solid",
          "shape": "linear",
          "width": 1.3
         },
         "marker": {
          "size": 2,
          "symbol": "circle"
         },
         "mode": "markers",
         "name": "A",
         "text": "",
         "type": "scatter",
         "x": [
          -1.2161176582357354,
          -0.12863284311431158,
          -2.298687363462328,
          0.28959636093595725,
          -0.7246255581238169,
          0.24498833446883608,
          1.0435180837318598,
          0.9105198724178482,
          0.12046775656811216,
          0.001045645582807576,
          0.24220784184161495,
          1.5898001614762565,
          0.6876512522271132,
          -0.03230315841728312,
          -0.3814995439381174,
          -0.5134324788502349,
          2.2561301375592597,
          -0.7669051369956381,
          -0.29939491794593953,
          -0.5868531070944372,
          0.1564747034944148,
          0.33812146361678314,
          -0.92777461790032,
          -0.2561779312891647,
          1.1321561472113089,
          -1.521624788830427,
          -0.10578492697862925,
          1.2528957251106014,
          0.31858334971281027,
          -0.6447269293766716,
          -0.16025998833187238,
          2.3866030669832057,
          -1.7129902727281132,
          0.7785984320469583,
          -0.6115944224731991,
          0.749970156290634,
          -0.6562576333886874,
          0.8813294570909459,
          0.9695967440466924,
          0.8925738209712588,
          -0.7793199241066547,
          -2.2866317157899436,
          0.31904550971387846,
          1.0126715470137597,
          0.7547102834564094,
          2.599890602061509,
          0.6823245967602878,
          -0.1372138229279569,
          -0.1807508933522096,
          -0.676618381731523,
          0.4741833456519362,
          -0.10564453918929545,
          0.2882816775361528,
          1.237038025980705,
          -0.19289648009289254,
          -0.8804086186836066,
          -1.6468181830690687,
          -0.8823675536084618,
          -2.910164088912495,
          0.8463497751337671,
          0.9298513207433153,
          0.37185374938785576,
          1.8927267937363947,
          2.2266953049171283,
          -0.4750157170211832,
          -0.08709822071199674,
          -1.1665419602002338,
          0.9458844620855422,
          0.528910425432497,
          1.1698694771232991,
          -0.8764687758536519,
          0.9648874484537752,
          0.9583079235422147,
          -0.4677544928787285,
          -1.76944414354469,
          0.3293468879804715,
          3.0592510895306484,
          0.287145383741864,
          -0.6182634384873641,
          0.23291094600947723,
          0.6984142428993263,
          0.46667676824662685,
          1.1929634268882765,
          0.8960450590152582,
          -0.4668953913993217,
          -0.2625586797308798,
          -0.08314992850791071,
          -0.47431853510305966,
          0.48683585232534143,
          1.9915587879980674,
          0.847409379660996,
          1.2032821110247556,
          0.0731334551143764,
          0.20911279275548394,
          0.7538630258275114,
          0.08833443228860614,
          -0.9043075198852949,
          -1.0158868611498866,
          0.7147232467054212,
          0.7354942823115364
         ],
         "xaxis": "x4",
         "y": [
          -0.6005272572897303,
          0.4244128074582704,
          -0.4409073355427527,
          0.8765579194110584,
          0.113261090341445,
          -0.4734724357527685,
          -0.5188427551304841,
          1.6014103864400826,
          -1.9072129048619137,
          0.13973295867986582,
          0.1702359906906131,
          -0.05052875998036999,
          0.20326605679474508,
          -0.6068987450085842,
          0.01901108295103341,
          1.693422376323972,
          0.5845625651895274,
          0.4308434776212245,
          2.0362362984046185,
          -0.37880189101535205,
          0.5311977539175295,
          0.2225490230732347,
          0.6105435706552877,
          0.6012397714386573,
          -0.49798029829730084,
          -1.5788557684254483,
          -1.1725339762475635,
          -0.7429584143370385,
          -1.3033130409601439,
          -0.1481121095374952,
          -0.08987450109740919,
          0.8634887289963715,
          1.3154289749839931,
          -0.1458612244300904,
          0.0446654478807579,
          -0.48504782159620513,
          -1.617495602420557,
          -0.731694949591574,
          0.3821784833214193,
          -0.5662280029457727,
          0.21408484014185408,
          -1.1289387995158675,
          0.7269769388895451,
          -0.9011091704893577,
          -2.535588699140916,
          -0.43260366467435213,
          -0.15376731612435343,
          0.39964626739478737,
          -0.11233023781221708,
          1.554395766979265,
          -0.4308410579333943,
          -1.0882608871453134,
          -0.30491823751325103,
          -2.7204294407752174,
          0.6273722477938712,
          -0.8654492756421258,
          1.9183759306233856,
          1.804196834549093,
          -0.15729206200947618,
          1.062606251289599,
          0.7294892417546102,
          1.734507463508707,
          -0.9622969360364804,
          -1.22800512027324,
          1.5476998702992784,
          0.20212868111909074,
          -0.2287354920448391,
          -1.6256267328555414,
          0.11805653097824363,
          -0.12569222392741497,
          0.6344132872644095,
          0.13955461698175808,
          -0.10892925133430031,
          0.45304222972607944,
          -0.2615053375643434,
          -0.22411611506996273,
          1.7141971468445547,
          -1.5018373663357867,
          -0.38328035963769436,
          -0.2043652018260254,
          -0.17657931439914137,
          -0.9963628208785296,
          0.6107128707648545,
          -0.47340018232802844,
          0.9359112776474541,
          -1.341473246861999,
          1.1182266906281662,
          2.353288351782029,
          -0.846808712188778,
          1.372132144431435,
          0.9999474752472598,
          1.5804495493664477,
          2.04568628243262,
          0.9797750995650546,
          -0.1787771713442234,
          -0.027427461421897097,
          1.476220213935394,
          0.7695677105340464,
          -1.3060175064144073,
          0.3037509273928669
         ],
         "yaxis": "y4"
        },
        {
         "line": {
          "color": "rgba(128, 128, 128, 1.0)",
          "dash": "solid",
          "shape": "linear",
          "width": 1.3
         },
         "marker": {
          "size": 2,
          "symbol": "circle"
         },
         "mode": "markers",
         "name": "B",
         "text": "",
         "type": "scatter",
         "x": [
          -0.6005272572897303,
          0.4244128074582704,
          -0.4409073355427527,
          0.8765579194110584,
          0.113261090341445,
          -0.4734724357527685,
          -0.5188427551304841,
          1.6014103864400826,
          -1.9072129048619137,
          0.13973295867986582,
          0.1702359906906131,
          -0.05052875998036999,
          0.20326605679474508,
          -0.6068987450085842,
          0.01901108295103341,
          1.693422376323972,
          0.5845625651895274,
          0.4308434776212245,
          2.0362362984046185,
          -0.37880189101535205,
          0.5311977539175295,
          0.2225490230732347,
          0.6105435706552877,
          0.6012397714386573,
          -0.49798029829730084,
          -1.5788557684254483,
          -1.1725339762475635,
          -0.7429584143370385,
          -1.3033130409601439,
          -0.1481121095374952,
          -0.08987450109740919,
          0.8634887289963715,
          1.3154289749839931,
          -0.1458612244300904,
          0.0446654478807579,
          -0.48504782159620513,
          -1.617495602420557,
          -0.731694949591574,
          0.3821784833214193,
          -0.5662280029457727,
          0.21408484014185408,
          -1.1289387995158675,
          0.7269769388895451,
          -0.9011091704893577,
          -2.535588699140916,
          -0.43260366467435213,
          -0.15376731612435343,
          0.39964626739478737,
          -0.11233023781221708,
          1.554395766979265,
          -0.4308410579333943,
          -1.0882608871453134,
          -0.30491823751325103,
          -2.7204294407752174,
          0.6273722477938712,
          -0.8654492756421258,
          1.9183759306233856,
          1.804196834549093,
          -0.15729206200947618,
          1.062606251289599,
          0.7294892417546102,
          1.734507463508707,
          -0.9622969360364804,
          -1.22800512027324,
          1.5476998702992784,
          0.20212868111909074,
          -0.2287354920448391,
          -1.6256267328555414,
          0.11805653097824363,
          -0.12569222392741497,
          0.6344132872644095,
          0.13955461698175808,
          -0.10892925133430031,
          0.45304222972607944,
          -0.2615053375643434,
          -0.22411611506996273,
          1.7141971468445547,
          -1.5018373663357867,
          -0.38328035963769436,
          -0.2043652018260254,
          -0.17657931439914137,
          -0.9963628208785296,
          0.6107128707648545,
          -0.47340018232802844,
          0.9359112776474541,
          -1.341473246861999,
          1.1182266906281662,
          2.353288351782029,
          -0.846808712188778,
          1.372132144431435,
          0.9999474752472598,
          1.5804495493664477,
          2.04568628243262,
          0.9797750995650546,
          -0.1787771713442234,
          -0.027427461421897097,
          1.476220213935394,
          0.7695677105340464,
          -1.3060175064144073,
          0.3037509273928669
         ],
         "xaxis": "x5",
         "y": [
          0.03354789955792382,
          0.8070604927554935,
          -0.20541484675194602,
          1.4129841433086383,
          1.9008318459139721,
          0.09300179845913471,
          0.5736886980820219,
          -0.19687274864419568,
          0.6281570041414841,
          0.7239231301056195,
          1.7173841614342737,
          1.3988000668176435,
          -0.8184742870915912,
          0.8967890017662526,
          -0.9153149454880518,
          -1.1625286021506622,
          0.27044631838323935,
          0.17279082609833252,
          -0.4838988802454175,
          -0.1985370723300537,
          0.45925580298117624,
          -0.466204510726407,
          -1.1902078376153176,
          -1.9423008579291474,
          0.17112423404743934,
          -0.8855102151597386,
          -0.06814690123720969,
          0.007010359856248485,
          -1.137822077002745,
          -2.308475853373866,
          -1.4624081721848106,
          -2.3647837278310138,
          -0.04945163262821755,
          -1.2724024016855202,
          -0.18420164801720115,
          0.4937061618303972,
          0.8033638747875229,
          -0.5036382720105074,
          0.8650082134002659,
          1.3913484083238983,
          -0.20620902568661237,
          0.25801694867934716,
          1.2157655167065369,
          1.3728410412263647,
          -0.8789152030004874,
          2.732310897045035,
          -1.3190874577850344,
          1.397284606765221,
          -0.278408549922117,
          1.6045608853438653,
          0.4205862015249162,
          0.24586301293823862,
          -0.1624515223851526,
          0.004887071810461409,
          -0.3569192879972979,
          0.6108006930348017,
          0.5384132600405072,
          1.1870638570610101,
          -0.8103379700987837,
          1.025975673439183,
          -0.4868784353162769,
          1.099447359391673,
          2.126150863729017,
          -0.8853264199162242,
          -0.3906919892588175,
          0.7644501291980417,
          -0.33172508223653285,
          -1.673993229937289,
          0.7820730124854408,
          0.25078668823209227,
          0.060357828532477814,
          0.7135707361779056,
          1.9964468811846894,
          0.15720488025605775,
          -0.2914659228838468,
          0.5161998499046359,
          -1.2785898286810256,
          1.4256047826992324,
          0.7069658123112345,
          1.8546235482138067,
          1.3346021424253542,
          1.1148461334157418,
          0.026985915141145175,
          1.397096502991006,
          2.045547530911009,
          1.2087274247672462,
          -0.02902799114594827,
          0.013673037218682812,
          -0.7223314143978876,
          -0.19675613251686933,
          0.19737307211466443,
          1.8029377596310276,
          -0.5129101312888362,
          1.9020237049129,
          0.5392281905319504,
          -1.5195104524428904,
          0.45090724709228314,
          -0.4605983828812109,
          0.8367771087907409,
          0.4522326050616165
         ],
         "yaxis": "y5"
        },
        {
         "histfunc": "count",
         "histnorm": "",
         "marker": {
          "color": "rgba(55, 128, 191, 1.0)",
          "line": {
           "color": "#4D5663",
           "width": 1.3
          }
         },
         "name": "B",
         "nbinsx": 10,
         "opacity": 0.8,
         "orientation": "v",
         "type": "histogram",
         "x": [
          0.03354789955792382,
          0.8070604927554935,
          -0.20541484675194602,
          1.4129841433086383,
          1.9008318459139721,
          0.09300179845913471,
          0.5736886980820219,
          -0.19687274864419568,
          0.6281570041414841,
          0.7239231301056195,
          1.7173841614342737,
          1.3988000668176435,
          -0.8184742870915912,
          0.8967890017662526,
          -0.9153149454880518,
          -1.1625286021506622,
          0.27044631838323935,
          0.17279082609833252,
          -0.4838988802454175,
          -0.1985370723300537,
          0.45925580298117624,
          -0.466204510726407,
          -1.1902078376153176,
          -1.9423008579291474,
          0.17112423404743934,
          -0.8855102151597386,
          -0.06814690123720969,
          0.007010359856248485,
          -1.137822077002745,
          -2.308475853373866,
          -1.4624081721848106,
          -2.3647837278310138,
          -0.04945163262821755,
          -1.2724024016855202,
          -0.18420164801720115,
          0.4937061618303972,
          0.8033638747875229,
          -0.5036382720105074,
          0.8650082134002659,
          1.3913484083238983,
          -0.20620902568661237,
          0.25801694867934716,
          1.2157655167065369,
          1.3728410412263647,
          -0.8789152030004874,
          2.732310897045035,
          -1.3190874577850344,
          1.397284606765221,
          -0.278408549922117,
          1.6045608853438653,
          0.4205862015249162,
          0.24586301293823862,
          -0.1624515223851526,
          0.004887071810461409,
          -0.3569192879972979,
          0.6108006930348017,
          0.5384132600405072,
          1.1870638570610101,
          -0.8103379700987837,
          1.025975673439183,
          -0.4868784353162769,
          1.099447359391673,
          2.126150863729017,
          -0.8853264199162242,
          -0.3906919892588175,
          0.7644501291980417,
          -0.33172508223653285,
          -1.673993229937289,
          0.7820730124854408,
          0.25078668823209227,
          0.060357828532477814,
          0.7135707361779056,
          1.9964468811846894,
          0.15720488025605775,
          -0.2914659228838468,
          0.5161998499046359,
          -1.2785898286810256,
          1.4256047826992324,
          0.7069658123112345,
          1.8546235482138067,
          1.3346021424253542,
          1.1148461334157418,
          0.026985915141145175,
          1.397096502991006,
          2.045547530911009,
          1.2087274247672462,
          -0.02902799114594827,
          0.013673037218682812,
          -0.7223314143978876,
          -0.19675613251686933,
          0.19737307211466443,
          1.8029377596310276,
          -0.5129101312888362,
          1.9020237049129,
          0.5392281905319504,
          -1.5195104524428904,
          0.45090724709228314,
          -0.4605983828812109,
          0.8367771087907409,
          0.4522326050616165
         ],
         "xaxis": "x6",
         "yaxis": "y6"
        },
        {
         "line": {
          "color": "rgba(128, 128, 128, 1.0)",
          "dash": "solid",
          "shape": "linear",
          "width": 1.3
         },
         "marker": {
          "size": 2,
          "symbol": "circle"
         },
         "mode": "markers",
         "name": "B",
         "text": "",
         "type": "scatter",
         "x": [
          0.005820026315235889,
          -0.944252919775402,
          -1.0492272328413648,
          0.22757054265445817,
          1.3777527492775783,
          -0.3489891370565893,
          0.44483703810824815,
          0.22303942724877285,
          -0.22881401479458185,
          0.6798059058144068,
          0.18454890869296758,
          -0.7429996997754517,
          -0.3150553275072614,
          0.6696838774410224,
          0.08971821990446563,
          -0.42078443345254213,
          -1.805350538008814,
          -0.5474542341282794,
          -2.640802056449358,
          0.29380406391663294,
          -0.5973603189213698,
          -0.8373122602203762,
          0.7911481136573829,
          1.3612366390345785,
          0.3260243510315011,
          -0.4381030244611688,
          -0.5183108164385883,
          0.575393066106595,
          0.002261293668035416,
          0.9480312712016943,
          -1.2518700264626437,
          -0.8636678495397886,
          0.1828220938574215,
          0.4651131859911088,
          0.6600216055864502,
          -0.35580438892131067,
          -0.28642366363561245,
          -1.0840761390606588,
          0.3713304208912552,
          -1.2284361640922536,
          0.9686348277002187,
          1.3296732876776354,
          1.177937948942286,
          0.39965380388345095,
          -1.4122223568957806,
          -0.176116020072892,
          1.138709732872558,
          0.35351407573453175,
          -0.5414400307940884,
          -0.07162348918388448,
          -1.2162767417108231,
          0.7123174537161838,
          -1.028955460810404,
          0.6156977305294409,
          1.178058898104863,
          0.0377000609650166,
          -1.3230000941088274,
          2.037772260676816,
          1.1490198058614232,
          -0.8536579018943958,
          0.30841573406451267,
          0.2254774591549979,
          0.4682975588086075,
          0.437699098955465,
          0.7709299476036803,
          1.3701566477949783,
          -1.0016567278174484,
          -0.028441481653694128,
          1.0801540051188552,
          0.5285911737990813,
          0.021650992628812524,
          -1.373511680614175,
          0.8183418801812649,
          1.7337369519516643,
          0.8938198365706271,
          0.4407902101656733,
          -0.5053911283601059,
          -1.9408740723430784,
          0.6732190978860576,
          0.09154499420627218,
          1.2327283294517688,
          0.17262182684022867,
          0.34415223930326977,
          1.7428745760179878,
          -2.0312787609735263,
          0.654249937369822,
          0.10880300326304189,
          0.44987552934980357,
          -0.24137878303951626,
          0.0072028249462114165,
          -0.7928376290036848,
          0.4196989942621943,
          0.6329049798142696,
          -0.20733444657212877,
          -0.9271172539059707,
          0.3250276542830719,
          0.3409165518651384,
          -1.115775977352867,
          0.34254224820018225,
          0.07045933383035928
         ],
         "xaxis": "x7",
         "y": [
          0.03354789955792382,
          0.8070604927554935,
          -0.20541484675194602,
          1.4129841433086383,
          1.9008318459139721,
          0.09300179845913471,
          0.5736886980820219,
          -0.19687274864419568,
          0.6281570041414841,
          0.7239231301056195,
          1.7173841614342737,
          1.3988000668176435,
          -0.8184742870915912,
          0.8967890017662526,
          -0.9153149454880518,
          -1.1625286021506622,
          0.27044631838323935,
          0.17279082609833252,
          -0.4838988802454175,
          -0.1985370723300537,
          0.45925580298117624,
          -0.466204510726407,
          -1.1902078376153176,
          -1.9423008579291474,
          0.17112423404743934,
          -0.8855102151597386,
          -0.06814690123720969,
          0.007010359856248485,
          -1.137822077002745,
          -2.308475853373866,
          -1.4624081721848106,
          -2.3647837278310138,
          -0.04945163262821755,
          -1.2724024016855202,
          -0.18420164801720115,
          0.4937061618303972,
          0.8033638747875229,
          -0.5036382720105074,
          0.8650082134002659,
          1.3913484083238983,
          -0.20620902568661237,
          0.25801694867934716,
          1.2157655167065369,
          1.3728410412263647,
          -0.8789152030004874,
          2.732310897045035,
          -1.3190874577850344,
          1.397284606765221,
          -0.278408549922117,
          1.6045608853438653,
          0.4205862015249162,
          0.24586301293823862,
          -0.1624515223851526,
          0.004887071810461409,
          -0.3569192879972979,
          0.6108006930348017,
          0.5384132600405072,
          1.1870638570610101,
          -0.8103379700987837,
          1.025975673439183,
          -0.4868784353162769,
          1.099447359391673,
          2.126150863729017,
          -0.8853264199162242,
          -0.3906919892588175,
          0.7644501291980417,
          -0.33172508223653285,
          -1.673993229937289,
          0.7820730124854408,
          0.25078668823209227,
          0.060357828532477814,
          0.7135707361779056,
          1.9964468811846894,
          0.15720488025605775,
          -0.2914659228838468,
          0.5161998499046359,
          -1.2785898286810256,
          1.4256047826992324,
          0.7069658123112345,
          1.8546235482138067,
          1.3346021424253542,
          1.1148461334157418,
          0.026985915141145175,
          1.397096502991006,
          2.045547530911009,
          1.2087274247672462,
          -0.02902799114594827,
          0.013673037218682812,
          -0.7223314143978876,
          -0.19675613251686933,
          0.19737307211466443,
          1.8029377596310276,
          -0.5129101312888362,
          1.9020237049129,
          0.5392281905319504,
          -1.5195104524428904,
          0.45090724709228314,
          -0.4605983828812109,
          0.8367771087907409,
          0.4522326050616165
         ],
         "yaxis": "y7"
        },
        {
         "line": {
          "color": "rgba(128, 128, 128, 1.0)",
          "dash": "solid",
          "shape": "linear",
          "width": 1.3
         },
         "marker": {
          "size": 2,
          "symbol": "circle"
         },
         "mode": "markers",
         "name": "B",
         "text": "",
         "type": "scatter",
         "x": [
          -1.2161176582357354,
          -0.12863284311431158,
          -2.298687363462328,
          0.28959636093595725,
          -0.7246255581238169,
          0.24498833446883608,
          1.0435180837318598,
          0.9105198724178482,
          0.12046775656811216,
          0.001045645582807576,
          0.24220784184161495,
          1.5898001614762565,
          0.6876512522271132,
          -0.03230315841728312,
          -0.3814995439381174,
          -0.5134324788502349,
          2.2561301375592597,
          -0.7669051369956381,
          -0.29939491794593953,
          -0.5868531070944372,
          0.1564747034944148,
          0.33812146361678314,
          -0.92777461790032,
          -0.2561779312891647,
          1.1321561472113089,
          -1.521624788830427,
          -0.10578492697862925,
          1.2528957251106014,
          0.31858334971281027,
          -0.6447269293766716,
          -0.16025998833187238,
          2.3866030669832057,
          -1.7129902727281132,
          0.7785984320469583,
          -0.6115944224731991,
          0.749970156290634,
          -0.6562576333886874,
          0.8813294570909459,
          0.9695967440466924,
          0.8925738209712588,
          -0.7793199241066547,
          -2.2866317157899436,
          0.31904550971387846,
          1.0126715470137597,
          0.7547102834564094,
          2.599890602061509,
          0.6823245967602878,
          -0.1372138229279569,
          -0.1807508933522096,
          -0.676618381731523,
          0.4741833456519362,
          -0.10564453918929545,
          0.2882816775361528,
          1.237038025980705,
          -0.19289648009289254,
          -0.8804086186836066,
          -1.6468181830690687,
          -0.8823675536084618,
          -2.910164088912495,
          0.8463497751337671,
          0.9298513207433153,
          0.37185374938785576,
          1.8927267937363947,
          2.2266953049171283,
          -0.4750157170211832,
          -0.08709822071199674,
          -1.1665419602002338,
          0.9458844620855422,
          0.528910425432497,
          1.1698694771232991,
          -0.8764687758536519,
          0.9648874484537752,
          0.9583079235422147,
          -0.4677544928787285,
          -1.76944414354469,
          0.3293468879804715,
          3.0592510895306484,
          0.287145383741864,
          -0.6182634384873641,
          0.23291094600947723,
          0.6984142428993263,
          0.46667676824662685,
          1.1929634268882765,
          0.8960450590152582,
          -0.4668953913993217,
          -0.2625586797308798,
          -0.08314992850791071,
          -0.47431853510305966,
          0.48683585232534143,
          1.9915587879980674,
          0.847409379660996,
          1.2032821110247556,
          0.0731334551143764,
          0.20911279275548394,
          0.7538630258275114,
          0.08833443228860614,
          -0.9043075198852949,
          -1.0158868611498866,
          0.7147232467054212,
          0.7354942823115364
         ],
         "xaxis": "x8",
         "y": [
          0.03354789955792382,
          0.8070604927554935,
          -0.20541484675194602,
          1.4129841433086383,
          1.9008318459139721,
          0.09300179845913471,
          0.5736886980820219,
          -0.19687274864419568,
          0.6281570041414841,
          0.7239231301056195,
          1.7173841614342737,
          1.3988000668176435,
          -0.8184742870915912,
          0.8967890017662526,
          -0.9153149454880518,
          -1.1625286021506622,
          0.27044631838323935,
          0.17279082609833252,
          -0.4838988802454175,
          -0.1985370723300537,
          0.45925580298117624,
          -0.466204510726407,
          -1.1902078376153176,
          -1.9423008579291474,
          0.17112423404743934,
          -0.8855102151597386,
          -0.06814690123720969,
          0.007010359856248485,
          -1.137822077002745,
          -2.308475853373866,
          -1.4624081721848106,
          -2.3647837278310138,
          -0.04945163262821755,
          -1.2724024016855202,
          -0.18420164801720115,
          0.4937061618303972,
          0.8033638747875229,
          -0.5036382720105074,
          0.8650082134002659,
          1.3913484083238983,
          -0.20620902568661237,
          0.25801694867934716,
          1.2157655167065369,
          1.3728410412263647,
          -0.8789152030004874,
          2.732310897045035,
          -1.3190874577850344,
          1.397284606765221,
          -0.278408549922117,
          1.6045608853438653,
          0.4205862015249162,
          0.24586301293823862,
          -0.1624515223851526,
          0.004887071810461409,
          -0.3569192879972979,
          0.6108006930348017,
          0.5384132600405072,
          1.1870638570610101,
          -0.8103379700987837,
          1.025975673439183,
          -0.4868784353162769,
          1.099447359391673,
          2.126150863729017,
          -0.8853264199162242,
          -0.3906919892588175,
          0.7644501291980417,
          -0.33172508223653285,
          -1.673993229937289,
          0.7820730124854408,
          0.25078668823209227,
          0.060357828532477814,
          0.7135707361779056,
          1.9964468811846894,
          0.15720488025605775,
          -0.2914659228838468,
          0.5161998499046359,
          -1.2785898286810256,
          1.4256047826992324,
          0.7069658123112345,
          1.8546235482138067,
          1.3346021424253542,
          1.1148461334157418,
          0.026985915141145175,
          1.397096502991006,
          2.045547530911009,
          1.2087274247672462,
          -0.02902799114594827,
          0.013673037218682812,
          -0.7223314143978876,
          -0.19675613251686933,
          0.19737307211466443,
          1.8029377596310276,
          -0.5129101312888362,
          1.9020237049129,
          0.5392281905319504,
          -1.5195104524428904,
          0.45090724709228314,
          -0.4605983828812109,
          0.8367771087907409,
          0.4522326050616165
         ],
         "yaxis": "y8"
        },
        {
         "line": {
          "color": "rgba(128, 128, 128, 1.0)",
          "dash": "solid",
          "shape": "linear",
          "width": 1.3
         },
         "marker": {
          "size": 2,
          "symbol": "circle"
         },
         "mode": "markers",
         "name": "C",
         "text": "",
         "type": "scatter",
         "x": [
          -0.6005272572897303,
          0.4244128074582704,
          -0.4409073355427527,
          0.8765579194110584,
          0.113261090341445,
          -0.4734724357527685,
          -0.5188427551304841,
          1.6014103864400826,
          -1.9072129048619137,
          0.13973295867986582,
          0.1702359906906131,
          -0.05052875998036999,
          0.20326605679474508,
          -0.6068987450085842,
          0.01901108295103341,
          1.693422376323972,
          0.5845625651895274,
          0.4308434776212245,
          2.0362362984046185,
          -0.37880189101535205,
          0.5311977539175295,
          0.2225490230732347,
          0.6105435706552877,
          0.6012397714386573,
          -0.49798029829730084,
          -1.5788557684254483,
          -1.1725339762475635,
          -0.7429584143370385,
          -1.3033130409601439,
          -0.1481121095374952,
          -0.08987450109740919,
          0.8634887289963715,
          1.3154289749839931,
          -0.1458612244300904,
          0.0446654478807579,
          -0.48504782159620513,
          -1.617495602420557,
          -0.731694949591574,
          0.3821784833214193,
          -0.5662280029457727,
          0.21408484014185408,
          -1.1289387995158675,
          0.7269769388895451,
          -0.9011091704893577,
          -2.535588699140916,
          -0.43260366467435213,
          -0.15376731612435343,
          0.39964626739478737,
          -0.11233023781221708,
          1.554395766979265,
          -0.4308410579333943,
          -1.0882608871453134,
          -0.30491823751325103,
          -2.7204294407752174,
          0.6273722477938712,
          -0.8654492756421258,
          1.9183759306233856,
          1.804196834549093,
          -0.15729206200947618,
          1.062606251289599,
          0.7294892417546102,
          1.734507463508707,
          -0.9622969360364804,
          -1.22800512027324,
          1.5476998702992784,
          0.20212868111909074,
          -0.2287354920448391,
          -1.6256267328555414,
          0.11805653097824363,
          -0.12569222392741497,
          0.6344132872644095,
          0.13955461698175808,
          -0.10892925133430031,
          0.45304222972607944,
          -0.2615053375643434,
          -0.22411611506996273,
          1.7141971468445547,
          -1.5018373663357867,
          -0.38328035963769436,
          -0.2043652018260254,
          -0.17657931439914137,
          -0.9963628208785296,
          0.6107128707648545,
          -0.47340018232802844,
          0.9359112776474541,
          -1.341473246861999,
          1.1182266906281662,
          2.353288351782029,
          -0.846808712188778,
          1.372132144431435,
          0.9999474752472598,
          1.5804495493664477,
          2.04568628243262,
          0.9797750995650546,
          -0.1787771713442234,
          -0.027427461421897097,
          1.476220213935394,
          0.7695677105340464,
          -1.3060175064144073,
          0.3037509273928669
         ],
         "xaxis": "x9",
         "y": [
          0.005820026315235889,
          -0.944252919775402,
          -1.0492272328413648,
          0.22757054265445817,
          1.3777527492775783,
          -0.3489891370565893,
          0.44483703810824815,
          0.22303942724877285,
          -0.22881401479458185,
          0.6798059058144068,
          0.18454890869296758,
          -0.7429996997754517,
          -0.3150553275072614,
          0.6696838774410224,
          0.08971821990446563,
          -0.42078443345254213,
          -1.805350538008814,
          -0.5474542341282794,
          -2.640802056449358,
          0.29380406391663294,
          -0.5973603189213698,
          -0.8373122602203762,
          0.7911481136573829,
          1.3612366390345785,
          0.3260243510315011,
          -0.4381030244611688,
          -0.5183108164385883,
          0.575393066106595,
          0.002261293668035416,
          0.9480312712016943,
          -1.2518700264626437,
          -0.8636678495397886,
          0.1828220938574215,
          0.4651131859911088,
          0.6600216055864502,
          -0.35580438892131067,
          -0.28642366363561245,
          -1.0840761390606588,
          0.3713304208912552,
          -1.2284361640922536,
          0.9686348277002187,
          1.3296732876776354,
          1.177937948942286,
          0.39965380388345095,
          -1.4122223568957806,
          -0.176116020072892,
          1.138709732872558,
          0.35351407573453175,
          -0.5414400307940884,
          -0.07162348918388448,
          -1.2162767417108231,
          0.7123174537161838,
          -1.028955460810404,
          0.6156977305294409,
          1.178058898104863,
          0.0377000609650166,
          -1.3230000941088274,
          2.037772260676816,
          1.1490198058614232,
          -0.8536579018943958,
          0.30841573406451267,
          0.2254774591549979,
          0.4682975588086075,
          0.437699098955465,
          0.7709299476036803,
          1.3701566477949783,
          -1.0016567278174484,
          -0.028441481653694128,
          1.0801540051188552,
          0.5285911737990813,
          0.021650992628812524,
          -1.373511680614175,
          0.8183418801812649,
          1.7337369519516643,
          0.8938198365706271,
          0.4407902101656733,
          -0.5053911283601059,
          -1.9408740723430784,
          0.6732190978860576,
          0.09154499420627218,
          1.2327283294517688,
          0.17262182684022867,
          0.34415223930326977,
          1.7428745760179878,
          -2.0312787609735263,
          0.654249937369822,
          0.10880300326304189,
          0.44987552934980357,
          -0.24137878303951626,
          0.0072028249462114165,
          -0.7928376290036848,
          0.4196989942621943,
          0.6329049798142696,
          -0.20733444657212877,
          -0.9271172539059707,
          0.3250276542830719,
          0.3409165518651384,
          -1.115775977352867,
          0.34254224820018225,
          0.07045933383035928
         ],
         "yaxis": "y9"
        },
        {
         "line": {
          "color": "rgba(128, 128, 128, 1.0)",
          "dash": "solid",
          "shape": "linear",
          "width": 1.3
         },
         "marker": {
          "size": 2,
          "symbol": "circle"
         },
         "mode": "markers",
         "name": "C",
         "text": "",
         "type": "scatter",
         "x": [
          0.03354789955792382,
          0.8070604927554935,
          -0.20541484675194602,
          1.4129841433086383,
          1.9008318459139721,
          0.09300179845913471,
          0.5736886980820219,
          -0.19687274864419568,
          0.6281570041414841,
          0.7239231301056195,
          1.7173841614342737,
          1.3988000668176435,
          -0.8184742870915912,
          0.8967890017662526,
          -0.9153149454880518,
          -1.1625286021506622,
          0.27044631838323935,
          0.17279082609833252,
          -0.4838988802454175,
          -0.1985370723300537,
          0.45925580298117624,
          -0.466204510726407,
          -1.1902078376153176,
          -1.9423008579291474,
          0.17112423404743934,
          -0.8855102151597386,
          -0.06814690123720969,
          0.007010359856248485,
          -1.137822077002745,
          -2.308475853373866,
          -1.4624081721848106,
          -2.3647837278310138,
          -0.04945163262821755,
          -1.2724024016855202,
          -0.18420164801720115,
          0.4937061618303972,
          0.8033638747875229,
          -0.5036382720105074,
          0.8650082134002659,
          1.3913484083238983,
          -0.20620902568661237,
          0.25801694867934716,
          1.2157655167065369,
          1.3728410412263647,
          -0.8789152030004874,
          2.732310897045035,
          -1.3190874577850344,
          1.397284606765221,
          -0.278408549922117,
          1.6045608853438653,
          0.4205862015249162,
          0.24586301293823862,
          -0.1624515223851526,
          0.004887071810461409,
          -0.3569192879972979,
          0.6108006930348017,
          0.5384132600405072,
          1.1870638570610101,
          -0.8103379700987837,
          1.025975673439183,
          -0.4868784353162769,
          1.099447359391673,
          2.126150863729017,
          -0.8853264199162242,
          -0.3906919892588175,
          0.7644501291980417,
          -0.33172508223653285,
          -1.673993229937289,
          0.7820730124854408,
          0.25078668823209227,
          0.060357828532477814,
          0.7135707361779056,
          1.9964468811846894,
          0.15720488025605775,
          -0.2914659228838468,
          0.5161998499046359,
          -1.2785898286810256,
          1.4256047826992324,
          0.7069658123112345,
          1.8546235482138067,
          1.3346021424253542,
          1.1148461334157418,
          0.026985915141145175,
          1.397096502991006,
          2.045547530911009,
          1.2087274247672462,
          -0.02902799114594827,
          0.013673037218682812,
          -0.7223314143978876,
          -0.19675613251686933,
          0.19737307211466443,
          1.8029377596310276,
          -0.5129101312888362,
          1.9020237049129,
          0.5392281905319504,
          -1.5195104524428904,
          0.45090724709228314,
          -0.4605983828812109,
          0.8367771087907409,
          0.4522326050616165
         ],
         "xaxis": "x10",
         "y": [
          0.005820026315235889,
          -0.944252919775402,
          -1.0492272328413648,
          0.22757054265445817,
          1.3777527492775783,
          -0.3489891370565893,
          0.44483703810824815,
          0.22303942724877285,
          -0.22881401479458185,
          0.6798059058144068,
          0.18454890869296758,
          -0.7429996997754517,
          -0.3150553275072614,
          0.6696838774410224,
          0.08971821990446563,
          -0.42078443345254213,
          -1.805350538008814,
          -0.5474542341282794,
          -2.640802056449358,
          0.29380406391663294,
          -0.5973603189213698,
          -0.8373122602203762,
          0.7911481136573829,
          1.3612366390345785,
          0.3260243510315011,
          -0.4381030244611688,
          -0.5183108164385883,
          0.575393066106595,
          0.002261293668035416,
          0.9480312712016943,
          -1.2518700264626437,
          -0.8636678495397886,
          0.1828220938574215,
          0.4651131859911088,
          0.6600216055864502,
          -0.35580438892131067,
          -0.28642366363561245,
          -1.0840761390606588,
          0.3713304208912552,
          -1.2284361640922536,
          0.9686348277002187,
          1.3296732876776354,
          1.177937948942286,
          0.39965380388345095,
          -1.4122223568957806,
          -0.176116020072892,
          1.138709732872558,
          0.35351407573453175,
          -0.5414400307940884,
          -0.07162348918388448,
          -1.2162767417108231,
          0.7123174537161838,
          -1.028955460810404,
          0.6156977305294409,
          1.178058898104863,
          0.0377000609650166,
          -1.3230000941088274,
          2.037772260676816,
          1.1490198058614232,
          -0.8536579018943958,
          0.30841573406451267,
          0.2254774591549979,
          0.4682975588086075,
          0.437699098955465,
          0.7709299476036803,
          1.3701566477949783,
          -1.0016567278174484,
          -0.028441481653694128,
          1.0801540051188552,
          0.5285911737990813,
          0.021650992628812524,
          -1.373511680614175,
          0.8183418801812649,
          1.7337369519516643,
          0.8938198365706271,
          0.4407902101656733,
          -0.5053911283601059,
          -1.9408740723430784,
          0.6732190978860576,
          0.09154499420627218,
          1.2327283294517688,
          0.17262182684022867,
          0.34415223930326977,
          1.7428745760179878,
          -2.0312787609735263,
          0.654249937369822,
          0.10880300326304189,
          0.44987552934980357,
          -0.24137878303951626,
          0.0072028249462114165,
          -0.7928376290036848,
          0.4196989942621943,
          0.6329049798142696,
          -0.20733444657212877,
          -0.9271172539059707,
          0.3250276542830719,
          0.3409165518651384,
          -1.115775977352867,
          0.34254224820018225,
          0.07045933383035928
         ],
         "yaxis": "y10"
        },
        {
         "histfunc": "count",
         "histnorm": "",
         "marker": {
          "color": "rgba(50, 171, 96, 1.0)",
          "line": {
           "color": "#4D5663",
           "width": 1.3
          }
         },
         "name": "C",
         "nbinsx": 10,
         "opacity": 0.8,
         "orientation": "v",
         "type": "histogram",
         "x": [
          0.005820026315235889,
          -0.944252919775402,
          -1.0492272328413648,
          0.22757054265445817,
          1.3777527492775783,
          -0.3489891370565893,
          0.44483703810824815,
          0.22303942724877285,
          -0.22881401479458185,
          0.6798059058144068,
          0.18454890869296758,
          -0.7429996997754517,
          -0.3150553275072614,
          0.6696838774410224,
          0.08971821990446563,
          -0.42078443345254213,
          -1.805350538008814,
          -0.5474542341282794,
          -2.640802056449358,
          0.29380406391663294,
          -0.5973603189213698,
          -0.8373122602203762,
          0.7911481136573829,
          1.3612366390345785,
          0.3260243510315011,
          -0.4381030244611688,
          -0.5183108164385883,
          0.575393066106595,
          0.002261293668035416,
          0.9480312712016943,
          -1.2518700264626437,
          -0.8636678495397886,
          0.1828220938574215,
          0.4651131859911088,
          0.6600216055864502,
          -0.35580438892131067,
          -0.28642366363561245,
          -1.0840761390606588,
          0.3713304208912552,
          -1.2284361640922536,
          0.9686348277002187,
          1.3296732876776354,
          1.177937948942286,
          0.39965380388345095,
          -1.4122223568957806,
          -0.176116020072892,
          1.138709732872558,
          0.35351407573453175,
          -0.5414400307940884,
          -0.07162348918388448,
          -1.2162767417108231,
          0.7123174537161838,
          -1.028955460810404,
          0.6156977305294409,
          1.178058898104863,
          0.0377000609650166,
          -1.3230000941088274,
          2.037772260676816,
          1.1490198058614232,
          -0.8536579018943958,
          0.30841573406451267,
          0.2254774591549979,
          0.4682975588086075,
          0.437699098955465,
          0.7709299476036803,
          1.3701566477949783,
          -1.0016567278174484,
          -0.028441481653694128,
          1.0801540051188552,
          0.5285911737990813,
          0.021650992628812524,
          -1.373511680614175,
          0.8183418801812649,
          1.7337369519516643,
          0.8938198365706271,
          0.4407902101656733,
          -0.5053911283601059,
          -1.9408740723430784,
          0.6732190978860576,
          0.09154499420627218,
          1.2327283294517688,
          0.17262182684022867,
          0.34415223930326977,
          1.7428745760179878,
          -2.0312787609735263,
          0.654249937369822,
          0.10880300326304189,
          0.44987552934980357,
          -0.24137878303951626,
          0.0072028249462114165,
          -0.7928376290036848,
          0.4196989942621943,
          0.6329049798142696,
          -0.20733444657212877,
          -0.9271172539059707,
          0.3250276542830719,
          0.3409165518651384,
          -1.115775977352867,
          0.34254224820018225,
          0.07045933383035928
         ],
         "xaxis": "x11",
         "yaxis": "y11"
        },
        {
         "line": {
          "color": "rgba(128, 128, 128, 1.0)",
          "dash": "solid",
          "shape": "linear",
          "width": 1.3
         },
         "marker": {
          "size": 2,
          "symbol": "circle"
         },
         "mode": "markers",
         "name": "C",
         "text": "",
         "type": "scatter",
         "x": [
          -1.2161176582357354,
          -0.12863284311431158,
          -2.298687363462328,
          0.28959636093595725,
          -0.7246255581238169,
          0.24498833446883608,
          1.0435180837318598,
          0.9105198724178482,
          0.12046775656811216,
          0.001045645582807576,
          0.24220784184161495,
          1.5898001614762565,
          0.6876512522271132,
          -0.03230315841728312,
          -0.3814995439381174,
          -0.5134324788502349,
          2.2561301375592597,
          -0.7669051369956381,
          -0.29939491794593953,
          -0.5868531070944372,
          0.1564747034944148,
          0.33812146361678314,
          -0.92777461790032,
          -0.2561779312891647,
          1.1321561472113089,
          -1.521624788830427,
          -0.10578492697862925,
          1.2528957251106014,
          0.31858334971281027,
          -0.6447269293766716,
          -0.16025998833187238,
          2.3866030669832057,
          -1.7129902727281132,
          0.7785984320469583,
          -0.6115944224731991,
          0.749970156290634,
          -0.6562576333886874,
          0.8813294570909459,
          0.9695967440466924,
          0.8925738209712588,
          -0.7793199241066547,
          -2.2866317157899436,
          0.31904550971387846,
          1.0126715470137597,
          0.7547102834564094,
          2.599890602061509,
          0.6823245967602878,
          -0.1372138229279569,
          -0.1807508933522096,
          -0.676618381731523,
          0.4741833456519362,
          -0.10564453918929545,
          0.2882816775361528,
          1.237038025980705,
          -0.19289648009289254,
          -0.8804086186836066,
          -1.6468181830690687,
          -0.8823675536084618,
          -2.910164088912495,
          0.8463497751337671,
          0.9298513207433153,
          0.37185374938785576,
          1.8927267937363947,
          2.2266953049171283,
          -0.4750157170211832,
          -0.08709822071199674,
          -1.1665419602002338,
          0.9458844620855422,
          0.528910425432497,
          1.1698694771232991,
          -0.8764687758536519,
          0.9648874484537752,
          0.9583079235422147,
          -0.4677544928787285,
          -1.76944414354469,
          0.3293468879804715,
          3.0592510895306484,
          0.287145383741864,
          -0.6182634384873641,
          0.23291094600947723,
          0.6984142428993263,
          0.46667676824662685,
          1.1929634268882765,
          0.8960450590152582,
          -0.4668953913993217,
          -0.2625586797308798,
          -0.08314992850791071,
          -0.47431853510305966,
          0.48683585232534143,
          1.9915587879980674,
          0.847409379660996,
          1.2032821110247556,
          0.0731334551143764,
          0.20911279275548394,
          0.7538630258275114,
          0.08833443228860614,
          -0.9043075198852949,
          -1.0158868611498866,
          0.7147232467054212,
          0.7354942823115364
         ],
         "xaxis": "x12",
         "y": [
          0.005820026315235889,
          -0.944252919775402,
          -1.0492272328413648,
          0.22757054265445817,
          1.3777527492775783,
          -0.3489891370565893,
          0.44483703810824815,
          0.22303942724877285,
          -0.22881401479458185,
          0.6798059058144068,
          0.18454890869296758,
          -0.7429996997754517,
          -0.3150553275072614,
          0.6696838774410224,
          0.08971821990446563,
          -0.42078443345254213,
          -1.805350538008814,
          -0.5474542341282794,
          -2.640802056449358,
          0.29380406391663294,
          -0.5973603189213698,
          -0.8373122602203762,
          0.7911481136573829,
          1.3612366390345785,
          0.3260243510315011,
          -0.4381030244611688,
          -0.5183108164385883,
          0.575393066106595,
          0.002261293668035416,
          0.9480312712016943,
          -1.2518700264626437,
          -0.8636678495397886,
          0.1828220938574215,
          0.4651131859911088,
          0.6600216055864502,
          -0.35580438892131067,
          -0.28642366363561245,
          -1.0840761390606588,
          0.3713304208912552,
          -1.2284361640922536,
          0.9686348277002187,
          1.3296732876776354,
          1.177937948942286,
          0.39965380388345095,
          -1.4122223568957806,
          -0.176116020072892,
          1.138709732872558,
          0.35351407573453175,
          -0.5414400307940884,
          -0.07162348918388448,
          -1.2162767417108231,
          0.7123174537161838,
          -1.028955460810404,
          0.6156977305294409,
          1.178058898104863,
          0.0377000609650166,
          -1.3230000941088274,
          2.037772260676816,
          1.1490198058614232,
          -0.8536579018943958,
          0.30841573406451267,
          0.2254774591549979,
          0.4682975588086075,
          0.437699098955465,
          0.7709299476036803,
          1.3701566477949783,
          -1.0016567278174484,
          -0.028441481653694128,
          1.0801540051188552,
          0.5285911737990813,
          0.021650992628812524,
          -1.373511680614175,
          0.8183418801812649,
          1.7337369519516643,
          0.8938198365706271,
          0.4407902101656733,
          -0.5053911283601059,
          -1.9408740723430784,
          0.6732190978860576,
          0.09154499420627218,
          1.2327283294517688,
          0.17262182684022867,
          0.34415223930326977,
          1.7428745760179878,
          -2.0312787609735263,
          0.654249937369822,
          0.10880300326304189,
          0.44987552934980357,
          -0.24137878303951626,
          0.0072028249462114165,
          -0.7928376290036848,
          0.4196989942621943,
          0.6329049798142696,
          -0.20733444657212877,
          -0.9271172539059707,
          0.3250276542830719,
          0.3409165518651384,
          -1.115775977352867,
          0.34254224820018225,
          0.07045933383035928
         ],
         "yaxis": "y12"
        },
        {
         "line": {
          "color": "rgba(128, 128, 128, 1.0)",
          "dash": "solid",
          "shape": "linear",
          "width": 1.3
         },
         "marker": {
          "size": 2,
          "symbol": "circle"
         },
         "mode": "markers",
         "name": "D",
         "text": "",
         "type": "scatter",
         "x": [
          -0.6005272572897303,
          0.4244128074582704,
          -0.4409073355427527,
          0.8765579194110584,
          0.113261090341445,
          -0.4734724357527685,
          -0.5188427551304841,
          1.6014103864400826,
          -1.9072129048619137,
          0.13973295867986582,
          0.1702359906906131,
          -0.05052875998036999,
          0.20326605679474508,
          -0.6068987450085842,
          0.01901108295103341,
          1.693422376323972,
          0.5845625651895274,
          0.4308434776212245,
          2.0362362984046185,
          -0.37880189101535205,
          0.5311977539175295,
          0.2225490230732347,
          0.6105435706552877,
          0.6012397714386573,
          -0.49798029829730084,
          -1.5788557684254483,
          -1.1725339762475635,
          -0.7429584143370385,
          -1.3033130409601439,
          -0.1481121095374952,
          -0.08987450109740919,
          0.8634887289963715,
          1.3154289749839931,
          -0.1458612244300904,
          0.0446654478807579,
          -0.48504782159620513,
          -1.617495602420557,
          -0.731694949591574,
          0.3821784833214193,
          -0.5662280029457727,
          0.21408484014185408,
          -1.1289387995158675,
          0.7269769388895451,
          -0.9011091704893577,
          -2.535588699140916,
          -0.43260366467435213,
          -0.15376731612435343,
          0.39964626739478737,
          -0.11233023781221708,
          1.554395766979265,
          -0.4308410579333943,
          -1.0882608871453134,
          -0.30491823751325103,
          -2.7204294407752174,
          0.6273722477938712,
          -0.8654492756421258,
          1.9183759306233856,
          1.804196834549093,
          -0.15729206200947618,
          1.062606251289599,
          0.7294892417546102,
          1.734507463508707,
          -0.9622969360364804,
          -1.22800512027324,
          1.5476998702992784,
          0.20212868111909074,
          -0.2287354920448391,
          -1.6256267328555414,
          0.11805653097824363,
          -0.12569222392741497,
          0.6344132872644095,
          0.13955461698175808,
          -0.10892925133430031,
          0.45304222972607944,
          -0.2615053375643434,
          -0.22411611506996273,
          1.7141971468445547,
          -1.5018373663357867,
          -0.38328035963769436,
          -0.2043652018260254,
          -0.17657931439914137,
          -0.9963628208785296,
          0.6107128707648545,
          -0.47340018232802844,
          0.9359112776474541,
          -1.341473246861999,
          1.1182266906281662,
          2.353288351782029,
          -0.846808712188778,
          1.372132144431435,
          0.9999474752472598,
          1.5804495493664477,
          2.04568628243262,
          0.9797750995650546,
          -0.1787771713442234,
          -0.027427461421897097,
          1.476220213935394,
          0.7695677105340464,
          -1.3060175064144073,
          0.3037509273928669
         ],
         "xaxis": "x13",
         "y": [
          -1.2161176582357354,
          -0.12863284311431158,
          -2.298687363462328,
          0.28959636093595725,
          -0.7246255581238169,
          0.24498833446883608,
          1.0435180837318598,
          0.9105198724178482,
          0.12046775656811216,
          0.001045645582807576,
          0.24220784184161495,
          1.5898001614762565,
          0.6876512522271132,
          -0.03230315841728312,
          -0.3814995439381174,
          -0.5134324788502349,
          2.2561301375592597,
          -0.7669051369956381,
          -0.29939491794593953,
          -0.5868531070944372,
          0.1564747034944148,
          0.33812146361678314,
          -0.92777461790032,
          -0.2561779312891647,
          1.1321561472113089,
          -1.521624788830427,
          -0.10578492697862925,
          1.2528957251106014,
          0.31858334971281027,
          -0.6447269293766716,
          -0.16025998833187238,
          2.3866030669832057,
          -1.7129902727281132,
          0.7785984320469583,
          -0.6115944224731991,
          0.749970156290634,
          -0.6562576333886874,
          0.8813294570909459,
          0.9695967440466924,
          0.8925738209712588,
          -0.7793199241066547,
          -2.2866317157899436,
          0.31904550971387846,
          1.0126715470137597,
          0.7547102834564094,
          2.599890602061509,
          0.6823245967602878,
          -0.1372138229279569,
          -0.1807508933522096,
          -0.676618381731523,
          0.4741833456519362,
          -0.10564453918929545,
          0.2882816775361528,
          1.237038025980705,
          -0.19289648009289254,
          -0.8804086186836066,
          -1.6468181830690687,
          -0.8823675536084618,
          -2.910164088912495,
          0.8463497751337671,
          0.9298513207433153,
          0.37185374938785576,
          1.8927267937363947,
          2.2266953049171283,
          -0.4750157170211832,
          -0.08709822071199674,
          -1.1665419602002338,
          0.9458844620855422,
          0.528910425432497,
          1.1698694771232991,
          -0.8764687758536519,
          0.9648874484537752,
          0.9583079235422147,
          -0.4677544928787285,
          -1.76944414354469,
          0.3293468879804715,
          3.0592510895306484,
          0.287145383741864,
          -0.6182634384873641,
          0.23291094600947723,
          0.6984142428993263,
          0.46667676824662685,
          1.1929634268882765,
          0.8960450590152582,
          -0.4668953913993217,
          -0.2625586797308798,
          -0.08314992850791071,
          -0.47431853510305966,
          0.48683585232534143,
          1.9915587879980674,
          0.847409379660996,
          1.2032821110247556,
          0.0731334551143764,
          0.20911279275548394,
          0.7538630258275114,
          0.08833443228860614,
          -0.9043075198852949,
          -1.0158868611498866,
          0.7147232467054212,
          0.7354942823115364
         ],
         "yaxis": "y13"
        },
        {
         "line": {
          "color": "rgba(128, 128, 128, 1.0)",
          "dash": "solid",
          "shape": "linear",
          "width": 1.3
         },
         "marker": {
          "size": 2,
          "symbol": "circle"
         },
         "mode": "markers",
         "name": "D",
         "text": "",
         "type": "scatter",
         "x": [
          0.03354789955792382,
          0.8070604927554935,
          -0.20541484675194602,
          1.4129841433086383,
          1.9008318459139721,
          0.09300179845913471,
          0.5736886980820219,
          -0.19687274864419568,
          0.6281570041414841,
          0.7239231301056195,
          1.7173841614342737,
          1.3988000668176435,
          -0.8184742870915912,
          0.8967890017662526,
          -0.9153149454880518,
          -1.1625286021506622,
          0.27044631838323935,
          0.17279082609833252,
          -0.4838988802454175,
          -0.1985370723300537,
          0.45925580298117624,
          -0.466204510726407,
          -1.1902078376153176,
          -1.9423008579291474,
          0.17112423404743934,
          -0.8855102151597386,
          -0.06814690123720969,
          0.007010359856248485,
          -1.137822077002745,
          -2.308475853373866,
          -1.4624081721848106,
          -2.3647837278310138,
          -0.04945163262821755,
          -1.2724024016855202,
          -0.18420164801720115,
          0.4937061618303972,
          0.8033638747875229,
          -0.5036382720105074,
          0.8650082134002659,
          1.3913484083238983,
          -0.20620902568661237,
          0.25801694867934716,
          1.2157655167065369,
          1.3728410412263647,
          -0.8789152030004874,
          2.732310897045035,
          -1.3190874577850344,
          1.397284606765221,
          -0.278408549922117,
          1.6045608853438653,
          0.4205862015249162,
          0.24586301293823862,
          -0.1624515223851526,
          0.004887071810461409,
          -0.3569192879972979,
          0.6108006930348017,
          0.5384132600405072,
          1.1870638570610101,
          -0.8103379700987837,
          1.025975673439183,
          -0.4868784353162769,
          1.099447359391673,
          2.126150863729017,
          -0.8853264199162242,
          -0.3906919892588175,
          0.7644501291980417,
          -0.33172508223653285,
          -1.673993229937289,
          0.7820730124854408,
          0.25078668823209227,
          0.060357828532477814,
          0.7135707361779056,
          1.9964468811846894,
          0.15720488025605775,
          -0.2914659228838468,
          0.5161998499046359,
          -1.2785898286810256,
          1.4256047826992324,
          0.7069658123112345,
          1.8546235482138067,
          1.3346021424253542,
          1.1148461334157418,
          0.026985915141145175,
          1.397096502991006,
          2.045547530911009,
          1.2087274247672462,
          -0.02902799114594827,
          0.013673037218682812,
          -0.7223314143978876,
          -0.19675613251686933,
          0.19737307211466443,
          1.8029377596310276,
          -0.5129101312888362,
          1.9020237049129,
          0.5392281905319504,
          -1.5195104524428904,
          0.45090724709228314,
          -0.4605983828812109,
          0.8367771087907409,
          0.4522326050616165
         ],
         "xaxis": "x14",
         "y": [
          -1.2161176582357354,
          -0.12863284311431158,
          -2.298687363462328,
          0.28959636093595725,
          -0.7246255581238169,
          0.24498833446883608,
          1.0435180837318598,
          0.9105198724178482,
          0.12046775656811216,
          0.001045645582807576,
          0.24220784184161495,
          1.5898001614762565,
          0.6876512522271132,
          -0.03230315841728312,
          -0.3814995439381174,
          -0.5134324788502349,
          2.2561301375592597,
          -0.7669051369956381,
          -0.29939491794593953,
          -0.5868531070944372,
          0.1564747034944148,
          0.33812146361678314,
          -0.92777461790032,
          -0.2561779312891647,
          1.1321561472113089,
          -1.521624788830427,
          -0.10578492697862925,
          1.2528957251106014,
          0.31858334971281027,
          -0.6447269293766716,
          -0.16025998833187238,
          2.3866030669832057,
          -1.7129902727281132,
          0.7785984320469583,
          -0.6115944224731991,
          0.749970156290634,
          -0.6562576333886874,
          0.8813294570909459,
          0.9695967440466924,
          0.8925738209712588,
          -0.7793199241066547,
          -2.2866317157899436,
          0.31904550971387846,
          1.0126715470137597,
          0.7547102834564094,
          2.599890602061509,
          0.6823245967602878,
          -0.1372138229279569,
          -0.1807508933522096,
          -0.676618381731523,
          0.4741833456519362,
          -0.10564453918929545,
          0.2882816775361528,
          1.237038025980705,
          -0.19289648009289254,
          -0.8804086186836066,
          -1.6468181830690687,
          -0.8823675536084618,
          -2.910164088912495,
          0.8463497751337671,
          0.9298513207433153,
          0.37185374938785576,
          1.8927267937363947,
          2.2266953049171283,
          -0.4750157170211832,
          -0.08709822071199674,
          -1.1665419602002338,
          0.9458844620855422,
          0.528910425432497,
          1.1698694771232991,
          -0.8764687758536519,
          0.9648874484537752,
          0.9583079235422147,
          -0.4677544928787285,
          -1.76944414354469,
          0.3293468879804715,
          3.0592510895306484,
          0.287145383741864,
          -0.6182634384873641,
          0.23291094600947723,
          0.6984142428993263,
          0.46667676824662685,
          1.1929634268882765,
          0.8960450590152582,
          -0.4668953913993217,
          -0.2625586797308798,
          -0.08314992850791071,
          -0.47431853510305966,
          0.48683585232534143,
          1.9915587879980674,
          0.847409379660996,
          1.2032821110247556,
          0.0731334551143764,
          0.20911279275548394,
          0.7538630258275114,
          0.08833443228860614,
          -0.9043075198852949,
          -1.0158868611498866,
          0.7147232467054212,
          0.7354942823115364
         ],
         "yaxis": "y14"
        },
        {
         "line": {
          "color": "rgba(128, 128, 128, 1.0)",
          "dash": "solid",
          "shape": "linear",
          "width": 1.3
         },
         "marker": {
          "size": 2,
          "symbol": "circle"
         },
         "mode": "markers",
         "name": "D",
         "text": "",
         "type": "scatter",
         "x": [
          0.005820026315235889,
          -0.944252919775402,
          -1.0492272328413648,
          0.22757054265445817,
          1.3777527492775783,
          -0.3489891370565893,
          0.44483703810824815,
          0.22303942724877285,
          -0.22881401479458185,
          0.6798059058144068,
          0.18454890869296758,
          -0.7429996997754517,
          -0.3150553275072614,
          0.6696838774410224,
          0.08971821990446563,
          -0.42078443345254213,
          -1.805350538008814,
          -0.5474542341282794,
          -2.640802056449358,
          0.29380406391663294,
          -0.5973603189213698,
          -0.8373122602203762,
          0.7911481136573829,
          1.3612366390345785,
          0.3260243510315011,
          -0.4381030244611688,
          -0.5183108164385883,
          0.575393066106595,
          0.002261293668035416,
          0.9480312712016943,
          -1.2518700264626437,
          -0.8636678495397886,
          0.1828220938574215,
          0.4651131859911088,
          0.6600216055864502,
          -0.35580438892131067,
          -0.28642366363561245,
          -1.0840761390606588,
          0.3713304208912552,
          -1.2284361640922536,
          0.9686348277002187,
          1.3296732876776354,
          1.177937948942286,
          0.39965380388345095,
          -1.4122223568957806,
          -0.176116020072892,
          1.138709732872558,
          0.35351407573453175,
          -0.5414400307940884,
          -0.07162348918388448,
          -1.2162767417108231,
          0.7123174537161838,
          -1.028955460810404,
          0.6156977305294409,
          1.178058898104863,
          0.0377000609650166,
          -1.3230000941088274,
          2.037772260676816,
          1.1490198058614232,
          -0.8536579018943958,
          0.30841573406451267,
          0.2254774591549979,
          0.4682975588086075,
          0.437699098955465,
          0.7709299476036803,
          1.3701566477949783,
          -1.0016567278174484,
          -0.028441481653694128,
          1.0801540051188552,
          0.5285911737990813,
          0.021650992628812524,
          -1.373511680614175,
          0.8183418801812649,
          1.7337369519516643,
          0.8938198365706271,
          0.4407902101656733,
          -0.5053911283601059,
          -1.9408740723430784,
          0.6732190978860576,
          0.09154499420627218,
          1.2327283294517688,
          0.17262182684022867,
          0.34415223930326977,
          1.7428745760179878,
          -2.0312787609735263,
          0.654249937369822,
          0.10880300326304189,
          0.44987552934980357,
          -0.24137878303951626,
          0.0072028249462114165,
          -0.7928376290036848,
          0.4196989942621943,
          0.6329049798142696,
          -0.20733444657212877,
          -0.9271172539059707,
          0.3250276542830719,
          0.3409165518651384,
          -1.115775977352867,
          0.34254224820018225,
          0.07045933383035928
         ],
         "xaxis": "x15",
         "y": [
          -1.2161176582357354,
          -0.12863284311431158,
          -2.298687363462328,
          0.28959636093595725,
          -0.7246255581238169,
          0.24498833446883608,
          1.0435180837318598,
          0.9105198724178482,
          0.12046775656811216,
          0.001045645582807576,
          0.24220784184161495,
          1.5898001614762565,
          0.6876512522271132,
          -0.03230315841728312,
          -0.3814995439381174,
          -0.5134324788502349,
          2.2561301375592597,
          -0.7669051369956381,
          -0.29939491794593953,
          -0.5868531070944372,
          0.1564747034944148,
          0.33812146361678314,
          -0.92777461790032,
          -0.2561779312891647,
          1.1321561472113089,
          -1.521624788830427,
          -0.10578492697862925,
          1.2528957251106014,
          0.31858334971281027,
          -0.6447269293766716,
          -0.16025998833187238,
          2.3866030669832057,
          -1.7129902727281132,
          0.7785984320469583,
          -0.6115944224731991,
          0.749970156290634,
          -0.6562576333886874,
          0.8813294570909459,
          0.9695967440466924,
          0.8925738209712588,
          -0.7793199241066547,
          -2.2866317157899436,
          0.31904550971387846,
          1.0126715470137597,
          0.7547102834564094,
          2.599890602061509,
          0.6823245967602878,
          -0.1372138229279569,
          -0.1807508933522096,
          -0.676618381731523,
          0.4741833456519362,
          -0.10564453918929545,
          0.2882816775361528,
          1.237038025980705,
          -0.19289648009289254,
          -0.8804086186836066,
          -1.6468181830690687,
          -0.8823675536084618,
          -2.910164088912495,
          0.8463497751337671,
          0.9298513207433153,
          0.37185374938785576,
          1.8927267937363947,
          2.2266953049171283,
          -0.4750157170211832,
          -0.08709822071199674,
          -1.1665419602002338,
          0.9458844620855422,
          0.528910425432497,
          1.1698694771232991,
          -0.8764687758536519,
          0.9648874484537752,
          0.9583079235422147,
          -0.4677544928787285,
          -1.76944414354469,
          0.3293468879804715,
          3.0592510895306484,
          0.287145383741864,
          -0.6182634384873641,
          0.23291094600947723,
          0.6984142428993263,
          0.46667676824662685,
          1.1929634268882765,
          0.8960450590152582,
          -0.4668953913993217,
          -0.2625586797308798,
          -0.08314992850791071,
          -0.47431853510305966,
          0.48683585232534143,
          1.9915587879980674,
          0.847409379660996,
          1.2032821110247556,
          0.0731334551143764,
          0.20911279275548394,
          0.7538630258275114,
          0.08833443228860614,
          -0.9043075198852949,
          -1.0158868611498866,
          0.7147232467054212,
          0.7354942823115364
         ],
         "yaxis": "y15"
        },
        {
         "histfunc": "count",
         "histnorm": "",
         "marker": {
          "color": "rgba(128, 0, 128, 1.0)",
          "line": {
           "color": "#4D5663",
           "width": 1.3
          }
         },
         "name": "D",
         "nbinsx": 10,
         "opacity": 0.8,
         "orientation": "v",
         "type": "histogram",
         "x": [
          -1.2161176582357354,
          -0.12863284311431158,
          -2.298687363462328,
          0.28959636093595725,
          -0.7246255581238169,
          0.24498833446883608,
          1.0435180837318598,
          0.9105198724178482,
          0.12046775656811216,
          0.001045645582807576,
          0.24220784184161495,
          1.5898001614762565,
          0.6876512522271132,
          -0.03230315841728312,
          -0.3814995439381174,
          -0.5134324788502349,
          2.2561301375592597,
          -0.7669051369956381,
          -0.29939491794593953,
          -0.5868531070944372,
          0.1564747034944148,
          0.33812146361678314,
          -0.92777461790032,
          -0.2561779312891647,
          1.1321561472113089,
          -1.521624788830427,
          -0.10578492697862925,
          1.2528957251106014,
          0.31858334971281027,
          -0.6447269293766716,
          -0.16025998833187238,
          2.3866030669832057,
          -1.7129902727281132,
          0.7785984320469583,
          -0.6115944224731991,
          0.749970156290634,
          -0.6562576333886874,
          0.8813294570909459,
          0.9695967440466924,
          0.8925738209712588,
          -0.7793199241066547,
          -2.2866317157899436,
          0.31904550971387846,
          1.0126715470137597,
          0.7547102834564094,
          2.599890602061509,
          0.6823245967602878,
          -0.1372138229279569,
          -0.1807508933522096,
          -0.676618381731523,
          0.4741833456519362,
          -0.10564453918929545,
          0.2882816775361528,
          1.237038025980705,
          -0.19289648009289254,
          -0.8804086186836066,
          -1.6468181830690687,
          -0.8823675536084618,
          -2.910164088912495,
          0.8463497751337671,
          0.9298513207433153,
          0.37185374938785576,
          1.8927267937363947,
          2.2266953049171283,
          -0.4750157170211832,
          -0.08709822071199674,
          -1.1665419602002338,
          0.9458844620855422,
          0.528910425432497,
          1.1698694771232991,
          -0.8764687758536519,
          0.9648874484537752,
          0.9583079235422147,
          -0.4677544928787285,
          -1.76944414354469,
          0.3293468879804715,
          3.0592510895306484,
          0.287145383741864,
          -0.6182634384873641,
          0.23291094600947723,
          0.6984142428993263,
          0.46667676824662685,
          1.1929634268882765,
          0.8960450590152582,
          -0.4668953913993217,
          -0.2625586797308798,
          -0.08314992850791071,
          -0.47431853510305966,
          0.48683585232534143,
          1.9915587879980674,
          0.847409379660996,
          1.2032821110247556,
          0.0731334551143764,
          0.20911279275548394,
          0.7538630258275114,
          0.08833443228860614,
          -0.9043075198852949,
          -1.0158868611498866,
          0.7147232467054212,
          0.7354942823115364
         ],
         "xaxis": "x16",
         "yaxis": "y16"
        }
       ],
       "layout": {
        "bargap": 0.02,
        "legend": {
         "bgcolor": "#F5F6F9",
         "font": {
          "color": "#4D5663"
         }
        },
        "paper_bgcolor": "#F5F6F9",
        "plot_bgcolor": "#F5F6F9",
        "showlegend": false,
        "template": {
         "data": {
          "bar": [
           {
            "error_x": {
             "color": "#2a3f5f"
            },
            "error_y": {
             "color": "#2a3f5f"
            },
            "marker": {
             "line": {
              "color": "#E5ECF6",
              "width": 0.5
             },
             "pattern": {
              "fillmode": "overlay",
              "size": 10,
              "solidity": 0.2
             }
            },
            "type": "bar"
           }
          ],
          "barpolar": [
           {
            "marker": {
             "line": {
              "color": "#E5ECF6",
              "width": 0.5
             },
             "pattern": {
              "fillmode": "overlay",
              "size": 10,
              "solidity": 0.2
             }
            },
            "type": "barpolar"
           }
          ],
          "carpet": [
           {
            "aaxis": {
             "endlinecolor": "#2a3f5f",
             "gridcolor": "white",
             "linecolor": "white",
             "minorgridcolor": "white",
             "startlinecolor": "#2a3f5f"
            },
            "baxis": {
             "endlinecolor": "#2a3f5f",
             "gridcolor": "white",
             "linecolor": "white",
             "minorgridcolor": "white",
             "startlinecolor": "#2a3f5f"
            },
            "type": "carpet"
           }
          ],
          "choropleth": [
           {
            "colorbar": {
             "outlinewidth": 0,
             "ticks": ""
            },
            "type": "choropleth"
           }
          ],
          "contour": [
           {
            "colorbar": {
             "outlinewidth": 0,
             "ticks": ""
            },
            "colorscale": [
             [
              0,
              "#0d0887"
             ],
             [
              0.1111111111111111,
              "#46039f"
             ],
             [
              0.2222222222222222,
              "#7201a8"
             ],
             [
              0.3333333333333333,
              "#9c179e"
             ],
             [
              0.4444444444444444,
              "#bd3786"
             ],
             [
              0.5555555555555556,
              "#d8576b"
             ],
             [
              0.6666666666666666,
              "#ed7953"
             ],
             [
              0.7777777777777778,
              "#fb9f3a"
             ],
             [
              0.8888888888888888,
              "#fdca26"
             ],
             [
              1,
              "#f0f921"
             ]
            ],
            "type": "contour"
           }
          ],
          "contourcarpet": [
           {
            "colorbar": {
             "outlinewidth": 0,
             "ticks": ""
            },
            "type": "contourcarpet"
           }
          ],
          "heatmap": [
           {
            "colorbar": {
             "outlinewidth": 0,
             "ticks": ""
            },
            "colorscale": [
             [
              0,
              "#0d0887"
             ],
             [
              0.1111111111111111,
              "#46039f"
             ],
             [
              0.2222222222222222,
              "#7201a8"
             ],
             [
              0.3333333333333333,
              "#9c179e"
             ],
             [
              0.4444444444444444,
              "#bd3786"
             ],
             [
              0.5555555555555556,
              "#d8576b"
             ],
             [
              0.6666666666666666,
              "#ed7953"
             ],
             [
              0.7777777777777778,
              "#fb9f3a"
             ],
             [
              0.8888888888888888,
              "#fdca26"
             ],
             [
              1,
              "#f0f921"
             ]
            ],
            "type": "heatmap"
           }
          ],
          "heatmapgl": [
           {
            "colorbar": {
             "outlinewidth": 0,
             "ticks": ""
            },
            "colorscale": [
             [
              0,
              "#0d0887"
             ],
             [
              0.1111111111111111,
              "#46039f"
             ],
             [
              0.2222222222222222,
              "#7201a8"
             ],
             [
              0.3333333333333333,
              "#9c179e"
             ],
             [
              0.4444444444444444,
              "#bd3786"
             ],
             [
              0.5555555555555556,
              "#d8576b"
             ],
             [
              0.6666666666666666,
              "#ed7953"
             ],
             [
              0.7777777777777778,
              "#fb9f3a"
             ],
             [
              0.8888888888888888,
              "#fdca26"
             ],
             [
              1,
              "#f0f921"
             ]
            ],
            "type": "heatmapgl"
           }
          ],
          "histogram": [
           {
            "marker": {
             "pattern": {
              "fillmode": "overlay",
              "size": 10,
              "solidity": 0.2
             }
            },
            "type": "histogram"
           }
          ],
          "histogram2d": [
           {
            "colorbar": {
             "outlinewidth": 0,
             "ticks": ""
            },
            "colorscale": [
             [
              0,
              "#0d0887"
             ],
             [
              0.1111111111111111,
              "#46039f"
             ],
             [
              0.2222222222222222,
              "#7201a8"
             ],
             [
              0.3333333333333333,
              "#9c179e"
             ],
             [
              0.4444444444444444,
              "#bd3786"
             ],
             [
              0.5555555555555556,
              "#d8576b"
             ],
             [
              0.6666666666666666,
              "#ed7953"
             ],
             [
              0.7777777777777778,
              "#fb9f3a"
             ],
             [
              0.8888888888888888,
              "#fdca26"
             ],
             [
              1,
              "#f0f921"
             ]
            ],
            "type": "histogram2d"
           }
          ],
          "histogram2dcontour": [
           {
            "colorbar": {
             "outlinewidth": 0,
             "ticks": ""
            },
            "colorscale": [
             [
              0,
              "#0d0887"
             ],
             [
              0.1111111111111111,
              "#46039f"
             ],
             [
              0.2222222222222222,
              "#7201a8"
             ],
             [
              0.3333333333333333,
              "#9c179e"
             ],
             [
              0.4444444444444444,
              "#bd3786"
             ],
             [
              0.5555555555555556,
              "#d8576b"
             ],
             [
              0.6666666666666666,
              "#ed7953"
             ],
             [
              0.7777777777777778,
              "#fb9f3a"
             ],
             [
              0.8888888888888888,
              "#fdca26"
             ],
             [
              1,
              "#f0f921"
             ]
            ],
            "type": "histogram2dcontour"
           }
          ],
          "mesh3d": [
           {
            "colorbar": {
             "outlinewidth": 0,
             "ticks": ""
            },
            "type": "mesh3d"
           }
          ],
          "parcoords": [
           {
            "line": {
             "colorbar": {
              "outlinewidth": 0,
              "ticks": ""
             }
            },
            "type": "parcoords"
           }
          ],
          "pie": [
           {
            "automargin": true,
            "type": "pie"
           }
          ],
          "scatter": [
           {
            "marker": {
             "colorbar": {
              "outlinewidth": 0,
              "ticks": ""
             }
            },
            "type": "scatter"
           }
          ],
          "scatter3d": [
           {
            "line": {
             "colorbar": {
              "outlinewidth": 0,
              "ticks": ""
             }
            },
            "marker": {
             "colorbar": {
              "outlinewidth": 0,
              "ticks": ""
             }
            },
            "type": "scatter3d"
           }
          ],
          "scattercarpet": [
           {
            "marker": {
             "colorbar": {
              "outlinewidth": 0,
              "ticks": ""
             }
            },
            "type": "scattercarpet"
           }
          ],
          "scattergeo": [
           {
            "marker": {
             "colorbar": {
              "outlinewidth": 0,
              "ticks": ""
             }
            },
            "type": "scattergeo"
           }
          ],
          "scattergl": [
           {
            "marker": {
             "colorbar": {
              "outlinewidth": 0,
              "ticks": ""
             }
            },
            "type": "scattergl"
           }
          ],
          "scattermapbox": [
           {
            "marker": {
             "colorbar": {
              "outlinewidth": 0,
              "ticks": ""
             }
            },
            "type": "scattermapbox"
           }
          ],
          "scatterpolar": [
           {
            "marker": {
             "colorbar": {
              "outlinewidth": 0,
              "ticks": ""
             }
            },
            "type": "scatterpolar"
           }
          ],
          "scatterpolargl": [
           {
            "marker": {
             "colorbar": {
              "outlinewidth": 0,
              "ticks": ""
             }
            },
            "type": "scatterpolargl"
           }
          ],
          "scatterternary": [
           {
            "marker": {
             "colorbar": {
              "outlinewidth": 0,
              "ticks": ""
             }
            },
            "type": "scatterternary"
           }
          ],
          "surface": [
           {
            "colorbar": {
             "outlinewidth": 0,
             "ticks": ""
            },
            "colorscale": [
             [
              0,
              "#0d0887"
             ],
             [
              0.1111111111111111,
              "#46039f"
             ],
             [
              0.2222222222222222,
              "#7201a8"
             ],
             [
              0.3333333333333333,
              "#9c179e"
             ],
             [
              0.4444444444444444,
              "#bd3786"
             ],
             [
              0.5555555555555556,
              "#d8576b"
             ],
             [
              0.6666666666666666,
              "#ed7953"
             ],
             [
              0.7777777777777778,
              "#fb9f3a"
             ],
             [
              0.8888888888888888,
              "#fdca26"
             ],
             [
              1,
              "#f0f921"
             ]
            ],
            "type": "surface"
           }
          ],
          "table": [
           {
            "cells": {
             "fill": {
              "color": "#EBF0F8"
             },
             "line": {
              "color": "white"
             }
            },
            "header": {
             "fill": {
              "color": "#C8D4E3"
             },
             "line": {
              "color": "white"
             }
            },
            "type": "table"
           }
          ]
         },
         "layout": {
          "annotationdefaults": {
           "arrowcolor": "#2a3f5f",
           "arrowhead": 0,
           "arrowwidth": 1
          },
          "autotypenumbers": "strict",
          "coloraxis": {
           "colorbar": {
            "outlinewidth": 0,
            "ticks": ""
           }
          },
          "colorscale": {
           "diverging": [
            [
             0,
             "#8e0152"
            ],
            [
             0.1,
             "#c51b7d"
            ],
            [
             0.2,
             "#de77ae"
            ],
            [
             0.3,
             "#f1b6da"
            ],
            [
             0.4,
             "#fde0ef"
            ],
            [
             0.5,
             "#f7f7f7"
            ],
            [
             0.6,
             "#e6f5d0"
            ],
            [
             0.7,
             "#b8e186"
            ],
            [
             0.8,
             "#7fbc41"
            ],
            [
             0.9,
             "#4d9221"
            ],
            [
             1,
             "#276419"
            ]
           ],
           "sequential": [
            [
             0,
             "#0d0887"
            ],
            [
             0.1111111111111111,
             "#46039f"
            ],
            [
             0.2222222222222222,
             "#7201a8"
            ],
            [
             0.3333333333333333,
             "#9c179e"
            ],
            [
             0.4444444444444444,
             "#bd3786"
            ],
            [
             0.5555555555555556,
             "#d8576b"
            ],
            [
             0.6666666666666666,
             "#ed7953"
            ],
            [
             0.7777777777777778,
             "#fb9f3a"
            ],
            [
             0.8888888888888888,
             "#fdca26"
            ],
            [
             1,
             "#f0f921"
            ]
           ],
           "sequentialminus": [
            [
             0,
             "#0d0887"
            ],
            [
             0.1111111111111111,
             "#46039f"
            ],
            [
             0.2222222222222222,
             "#7201a8"
            ],
            [
             0.3333333333333333,
             "#9c179e"
            ],
            [
             0.4444444444444444,
             "#bd3786"
            ],
            [
             0.5555555555555556,
             "#d8576b"
            ],
            [
             0.6666666666666666,
             "#ed7953"
            ],
            [
             0.7777777777777778,
             "#fb9f3a"
            ],
            [
             0.8888888888888888,
             "#fdca26"
            ],
            [
             1,
             "#f0f921"
            ]
           ]
          },
          "colorway": [
           "#636efa",
           "#EF553B",
           "#00cc96",
           "#ab63fa",
           "#FFA15A",
           "#19d3f3",
           "#FF6692",
           "#B6E880",
           "#FF97FF",
           "#FECB52"
          ],
          "font": {
           "color": "#2a3f5f"
          },
          "geo": {
           "bgcolor": "white",
           "lakecolor": "white",
           "landcolor": "#E5ECF6",
           "showlakes": true,
           "showland": true,
           "subunitcolor": "white"
          },
          "hoverlabel": {
           "align": "left"
          },
          "hovermode": "closest",
          "mapbox": {
           "style": "light"
          },
          "paper_bgcolor": "white",
          "plot_bgcolor": "#E5ECF6",
          "polar": {
           "angularaxis": {
            "gridcolor": "white",
            "linecolor": "white",
            "ticks": ""
           },
           "bgcolor": "#E5ECF6",
           "radialaxis": {
            "gridcolor": "white",
            "linecolor": "white",
            "ticks": ""
           }
          },
          "scene": {
           "xaxis": {
            "backgroundcolor": "#E5ECF6",
            "gridcolor": "white",
            "gridwidth": 2,
            "linecolor": "white",
            "showbackground": true,
            "ticks": "",
            "zerolinecolor": "white"
           },
           "yaxis": {
            "backgroundcolor": "#E5ECF6",
            "gridcolor": "white",
            "gridwidth": 2,
            "linecolor": "white",
            "showbackground": true,
            "ticks": "",
            "zerolinecolor": "white"
           },
           "zaxis": {
            "backgroundcolor": "#E5ECF6",
            "gridcolor": "white",
            "gridwidth": 2,
            "linecolor": "white",
            "showbackground": true,
            "ticks": "",
            "zerolinecolor": "white"
           }
          },
          "shapedefaults": {
           "line": {
            "color": "#2a3f5f"
           }
          },
          "ternary": {
           "aaxis": {
            "gridcolor": "white",
            "linecolor": "white",
            "ticks": ""
           },
           "baxis": {
            "gridcolor": "white",
            "linecolor": "white",
            "ticks": ""
           },
           "bgcolor": "#E5ECF6",
           "caxis": {
            "gridcolor": "white",
            "linecolor": "white",
            "ticks": ""
           }
          },
          "title": {
           "x": 0.05
          },
          "xaxis": {
           "automargin": true,
           "gridcolor": "white",
           "linecolor": "white",
           "ticks": "",
           "title": {
            "standoff": 15
           },
           "zerolinecolor": "white",
           "zerolinewidth": 2
          },
          "yaxis": {
           "automargin": true,
           "gridcolor": "white",
           "linecolor": "white",
           "ticks": "",
           "title": {
            "standoff": 15
           },
           "zerolinecolor": "white",
           "zerolinewidth": 2
          }
         }
        },
        "title": {
         "font": {
          "color": "#4D5663"
         }
        },
        "xaxis": {
         "anchor": "y",
         "domain": [
          0,
          0.2125
         ],
         "gridcolor": "#E1E5ED",
         "showgrid": false,
         "tickfont": {
          "color": "#4D5663"
         },
         "title": {
          "font": {
           "color": "#4D5663"
          },
          "text": ""
         },
         "zerolinecolor": "#E1E5ED"
        },
        "xaxis10": {
         "anchor": "y10",
         "domain": [
          0.2625,
          0.475
         ],
         "gridcolor": "#E1E5ED",
         "showgrid": false,
         "tickfont": {
          "color": "#4D5663"
         },
         "title": {
          "font": {
           "color": "#4D5663"
          },
          "text": ""
         },
         "zerolinecolor": "#E1E5ED"
        },
        "xaxis11": {
         "anchor": "y11",
         "domain": [
          0.525,
          0.7375
         ],
         "gridcolor": "#E1E5ED",
         "showgrid": false,
         "tickfont": {
          "color": "#4D5663"
         },
         "title": {
          "font": {
           "color": "#4D5663"
          },
          "text": ""
         },
         "zerolinecolor": "#E1E5ED"
        },
        "xaxis12": {
         "anchor": "y12",
         "domain": [
          0.7875,
          1
         ],
         "gridcolor": "#E1E5ED",
         "showgrid": false,
         "tickfont": {
          "color": "#4D5663"
         },
         "title": {
          "font": {
           "color": "#4D5663"
          },
          "text": ""
         },
         "zerolinecolor": "#E1E5ED"
        },
        "xaxis13": {
         "anchor": "y13",
         "domain": [
          0,
          0.2125
         ],
         "gridcolor": "#E1E5ED",
         "showgrid": false,
         "tickfont": {
          "color": "#4D5663"
         },
         "title": {
          "font": {
           "color": "#4D5663"
          },
          "text": ""
         },
         "zerolinecolor": "#E1E5ED"
        },
        "xaxis14": {
         "anchor": "y14",
         "domain": [
          0.2625,
          0.475
         ],
         "gridcolor": "#E1E5ED",
         "showgrid": false,
         "tickfont": {
          "color": "#4D5663"
         },
         "title": {
          "font": {
           "color": "#4D5663"
          },
          "text": ""
         },
         "zerolinecolor": "#E1E5ED"
        },
        "xaxis15": {
         "anchor": "y15",
         "domain": [
          0.525,
          0.7375
         ],
         "gridcolor": "#E1E5ED",
         "showgrid": false,
         "tickfont": {
          "color": "#4D5663"
         },
         "title": {
          "font": {
           "color": "#4D5663"
          },
          "text": ""
         },
         "zerolinecolor": "#E1E5ED"
        },
        "xaxis16": {
         "anchor": "y16",
         "domain": [
          0.7875,
          1
         ],
         "gridcolor": "#E1E5ED",
         "showgrid": false,
         "tickfont": {
          "color": "#4D5663"
         },
         "title": {
          "font": {
           "color": "#4D5663"
          },
          "text": ""
         },
         "zerolinecolor": "#E1E5ED"
        },
        "xaxis2": {
         "anchor": "y2",
         "domain": [
          0.2625,
          0.475
         ],
         "gridcolor": "#E1E5ED",
         "showgrid": false,
         "tickfont": {
          "color": "#4D5663"
         },
         "title": {
          "font": {
           "color": "#4D5663"
          },
          "text": ""
         },
         "zerolinecolor": "#E1E5ED"
        },
        "xaxis3": {
         "anchor": "y3",
         "domain": [
          0.525,
          0.7375
         ],
         "gridcolor": "#E1E5ED",
         "showgrid": false,
         "tickfont": {
          "color": "#4D5663"
         },
         "title": {
          "font": {
           "color": "#4D5663"
          },
          "text": ""
         },
         "zerolinecolor": "#E1E5ED"
        },
        "xaxis4": {
         "anchor": "y4",
         "domain": [
          0.7875,
          1
         ],
         "gridcolor": "#E1E5ED",
         "showgrid": false,
         "tickfont": {
          "color": "#4D5663"
         },
         "title": {
          "font": {
           "color": "#4D5663"
          },
          "text": ""
         },
         "zerolinecolor": "#E1E5ED"
        },
        "xaxis5": {
         "anchor": "y5",
         "domain": [
          0,
          0.2125
         ],
         "gridcolor": "#E1E5ED",
         "showgrid": false,
         "tickfont": {
          "color": "#4D5663"
         },
         "title": {
          "font": {
           "color": "#4D5663"
          },
          "text": ""
         },
         "zerolinecolor": "#E1E5ED"
        },
        "xaxis6": {
         "anchor": "y6",
         "domain": [
          0.2625,
          0.475
         ],
         "gridcolor": "#E1E5ED",
         "showgrid": false,
         "tickfont": {
          "color": "#4D5663"
         },
         "title": {
          "font": {
           "color": "#4D5663"
          },
          "text": ""
         },
         "zerolinecolor": "#E1E5ED"
        },
        "xaxis7": {
         "anchor": "y7",
         "domain": [
          0.525,
          0.7375
         ],
         "gridcolor": "#E1E5ED",
         "showgrid": false,
         "tickfont": {
          "color": "#4D5663"
         },
         "title": {
          "font": {
           "color": "#4D5663"
          },
          "text": ""
         },
         "zerolinecolor": "#E1E5ED"
        },
        "xaxis8": {
         "anchor": "y8",
         "domain": [
          0.7875,
          1
         ],
         "gridcolor": "#E1E5ED",
         "showgrid": false,
         "tickfont": {
          "color": "#4D5663"
         },
         "title": {
          "font": {
           "color": "#4D5663"
          },
          "text": ""
         },
         "zerolinecolor": "#E1E5ED"
        },
        "xaxis9": {
         "anchor": "y9",
         "domain": [
          0,
          0.2125
         ],
         "gridcolor": "#E1E5ED",
         "showgrid": false,
         "tickfont": {
          "color": "#4D5663"
         },
         "title": {
          "font": {
           "color": "#4D5663"
          },
          "text": ""
         },
         "zerolinecolor": "#E1E5ED"
        },
        "yaxis": {
         "anchor": "x",
         "domain": [
          0.8025,
          1
         ],
         "gridcolor": "#E1E5ED",
         "showgrid": false,
         "tickfont": {
          "color": "#4D5663"
         },
         "title": {
          "font": {
           "color": "#4D5663"
          },
          "text": ""
         },
         "zerolinecolor": "#E1E5ED"
        },
        "yaxis10": {
         "anchor": "x10",
         "domain": [
          0.2675,
          0.465
         ],
         "gridcolor": "#E1E5ED",
         "showgrid": false,
         "tickfont": {
          "color": "#4D5663"
         },
         "title": {
          "font": {
           "color": "#4D5663"
          },
          "text": ""
         },
         "zerolinecolor": "#E1E5ED"
        },
        "yaxis11": {
         "anchor": "x11",
         "domain": [
          0.2675,
          0.465
         ],
         "gridcolor": "#E1E5ED",
         "showgrid": false,
         "tickfont": {
          "color": "#4D5663"
         },
         "title": {
          "font": {
           "color": "#4D5663"
          },
          "text": ""
         },
         "zerolinecolor": "#E1E5ED"
        },
        "yaxis12": {
         "anchor": "x12",
         "domain": [
          0.2675,
          0.465
         ],
         "gridcolor": "#E1E5ED",
         "showgrid": false,
         "tickfont": {
          "color": "#4D5663"
         },
         "title": {
          "font": {
           "color": "#4D5663"
          },
          "text": ""
         },
         "zerolinecolor": "#E1E5ED"
        },
        "yaxis13": {
         "anchor": "x13",
         "domain": [
          0,
          0.1975
         ],
         "gridcolor": "#E1E5ED",
         "showgrid": false,
         "tickfont": {
          "color": "#4D5663"
         },
         "title": {
          "font": {
           "color": "#4D5663"
          },
          "text": ""
         },
         "zerolinecolor": "#E1E5ED"
        },
        "yaxis14": {
         "anchor": "x14",
         "domain": [
          0,
          0.1975
         ],
         "gridcolor": "#E1E5ED",
         "showgrid": false,
         "tickfont": {
          "color": "#4D5663"
         },
         "title": {
          "font": {
           "color": "#4D5663"
          },
          "text": ""
         },
         "zerolinecolor": "#E1E5ED"
        },
        "yaxis15": {
         "anchor": "x15",
         "domain": [
          0,
          0.1975
         ],
         "gridcolor": "#E1E5ED",
         "showgrid": false,
         "tickfont": {
          "color": "#4D5663"
         },
         "title": {
          "font": {
           "color": "#4D5663"
          },
          "text": ""
         },
         "zerolinecolor": "#E1E5ED"
        },
        "yaxis16": {
         "anchor": "x16",
         "domain": [
          0,
          0.1975
         ],
         "gridcolor": "#E1E5ED",
         "showgrid": false,
         "tickfont": {
          "color": "#4D5663"
         },
         "title": {
          "font": {
           "color": "#4D5663"
          },
          "text": ""
         },
         "zerolinecolor": "#E1E5ED"
        },
        "yaxis2": {
         "anchor": "x2",
         "domain": [
          0.8025,
          1
         ],
         "gridcolor": "#E1E5ED",
         "showgrid": false,
         "tickfont": {
          "color": "#4D5663"
         },
         "title": {
          "font": {
           "color": "#4D5663"
          },
          "text": ""
         },
         "zerolinecolor": "#E1E5ED"
        },
        "yaxis3": {
         "anchor": "x3",
         "domain": [
          0.8025,
          1
         ],
         "gridcolor": "#E1E5ED",
         "showgrid": false,
         "tickfont": {
          "color": "#4D5663"
         },
         "title": {
          "font": {
           "color": "#4D5663"
          },
          "text": ""
         },
         "zerolinecolor": "#E1E5ED"
        },
        "yaxis4": {
         "anchor": "x4",
         "domain": [
          0.8025,
          1
         ],
         "gridcolor": "#E1E5ED",
         "showgrid": false,
         "tickfont": {
          "color": "#4D5663"
         },
         "title": {
          "font": {
           "color": "#4D5663"
          },
          "text": ""
         },
         "zerolinecolor": "#E1E5ED"
        },
        "yaxis5": {
         "anchor": "x5",
         "domain": [
          0.535,
          0.7325
         ],
         "gridcolor": "#E1E5ED",
         "showgrid": false,
         "tickfont": {
          "color": "#4D5663"
         },
         "title": {
          "font": {
           "color": "#4D5663"
          },
          "text": ""
         },
         "zerolinecolor": "#E1E5ED"
        },
        "yaxis6": {
         "anchor": "x6",
         "domain": [
          0.535,
          0.7325
         ],
         "gridcolor": "#E1E5ED",
         "showgrid": false,
         "tickfont": {
          "color": "#4D5663"
         },
         "title": {
          "font": {
           "color": "#4D5663"
          },
          "text": ""
         },
         "zerolinecolor": "#E1E5ED"
        },
        "yaxis7": {
         "anchor": "x7",
         "domain": [
          0.535,
          0.7325
         ],
         "gridcolor": "#E1E5ED",
         "showgrid": false,
         "tickfont": {
          "color": "#4D5663"
         },
         "title": {
          "font": {
           "color": "#4D5663"
          },
          "text": ""
         },
         "zerolinecolor": "#E1E5ED"
        },
        "yaxis8": {
         "anchor": "x8",
         "domain": [
          0.535,
          0.7325
         ],
         "gridcolor": "#E1E5ED",
         "showgrid": false,
         "tickfont": {
          "color": "#4D5663"
         },
         "title": {
          "font": {
           "color": "#4D5663"
          },
          "text": ""
         },
         "zerolinecolor": "#E1E5ED"
        },
        "yaxis9": {
         "anchor": "x9",
         "domain": [
          0.2675,
          0.465
         ],
         "gridcolor": "#E1E5ED",
         "showgrid": false,
         "tickfont": {
          "color": "#4D5663"
         },
         "title": {
          "font": {
           "color": "#4D5663"
          },
          "text": ""
         },
         "zerolinecolor": "#E1E5ED"
        }
       }
      },
      "text/html": [
       "<div>                            <div id=\"696766de-dfbd-44cc-a8e0-f086333dd536\" class=\"plotly-graph-div\" style=\"height:525px; width:100%;\"></div>            <script type=\"text/javascript\">                require([\"plotly\"], function(Plotly) {                    window.PLOTLYENV=window.PLOTLYENV || {};\n",
       "                    window.PLOTLYENV.BASE_URL='https://plot.ly';                                    if (document.getElementById(\"696766de-dfbd-44cc-a8e0-f086333dd536\")) {                    Plotly.newPlot(                        \"696766de-dfbd-44cc-a8e0-f086333dd536\",                        [{\"histfunc\":\"count\",\"histnorm\":\"\",\"marker\":{\"color\":\"rgba(255, 153, 51, 1.0)\",\"line\":{\"color\":\"#4D5663\",\"width\":1.3}},\"name\":\"A\",\"nbinsx\":10,\"opacity\":0.8,\"orientation\":\"v\",\"x\":[-0.6005272572897303,0.4244128074582704,-0.4409073355427527,0.8765579194110584,0.113261090341445,-0.4734724357527685,-0.5188427551304841,1.6014103864400826,-1.9072129048619137,0.13973295867986582,0.1702359906906131,-0.05052875998036999,0.20326605679474508,-0.6068987450085842,0.01901108295103341,1.693422376323972,0.5845625651895274,0.4308434776212245,2.0362362984046185,-0.37880189101535205,0.5311977539175295,0.2225490230732347,0.6105435706552877,0.6012397714386573,-0.49798029829730084,-1.5788557684254483,-1.1725339762475635,-0.7429584143370385,-1.3033130409601439,-0.1481121095374952,-0.08987450109740919,0.8634887289963715,1.3154289749839931,-0.1458612244300904,0.0446654478807579,-0.48504782159620513,-1.617495602420557,-0.731694949591574,0.3821784833214193,-0.5662280029457727,0.21408484014185408,-1.1289387995158675,0.7269769388895451,-0.9011091704893577,-2.535588699140916,-0.43260366467435213,-0.15376731612435343,0.39964626739478737,-0.11233023781221708,1.554395766979265,-0.4308410579333943,-1.0882608871453134,-0.30491823751325103,-2.7204294407752174,0.6273722477938712,-0.8654492756421258,1.9183759306233856,1.804196834549093,-0.15729206200947618,1.062606251289599,0.7294892417546102,1.734507463508707,-0.9622969360364804,-1.22800512027324,1.5476998702992784,0.20212868111909074,-0.2287354920448391,-1.6256267328555414,0.11805653097824363,-0.12569222392741497,0.6344132872644095,0.13955461698175808,-0.10892925133430031,0.45304222972607944,-0.2615053375643434,-0.22411611506996273,1.7141971468445547,-1.5018373663357867,-0.38328035963769436,-0.2043652018260254,-0.17657931439914137,-0.9963628208785296,0.6107128707648545,-0.47340018232802844,0.9359112776474541,-1.341473246861999,1.1182266906281662,2.353288351782029,-0.846808712188778,1.372132144431435,0.9999474752472598,1.5804495493664477,2.04568628243262,0.9797750995650546,-0.1787771713442234,-0.027427461421897097,1.476220213935394,0.7695677105340464,-1.3060175064144073,0.3037509273928669],\"xaxis\":\"x\",\"yaxis\":\"y\",\"type\":\"histogram\"},{\"line\":{\"color\":\"rgba(128, 128, 128, 1.0)\",\"dash\":\"solid\",\"shape\":\"linear\",\"width\":1.3},\"marker\":{\"size\":2,\"symbol\":\"circle\"},\"mode\":\"markers\",\"name\":\"A\",\"text\":\"\",\"x\":[0.03354789955792382,0.8070604927554935,-0.20541484675194602,1.4129841433086383,1.9008318459139721,0.09300179845913471,0.5736886980820219,-0.19687274864419568,0.6281570041414841,0.7239231301056195,1.7173841614342737,1.3988000668176435,-0.8184742870915912,0.8967890017662526,-0.9153149454880518,-1.1625286021506622,0.27044631838323935,0.17279082609833252,-0.4838988802454175,-0.1985370723300537,0.45925580298117624,-0.466204510726407,-1.1902078376153176,-1.9423008579291474,0.17112423404743934,-0.8855102151597386,-0.06814690123720969,0.007010359856248485,-1.137822077002745,-2.308475853373866,-1.4624081721848106,-2.3647837278310138,-0.04945163262821755,-1.2724024016855202,-0.18420164801720115,0.4937061618303972,0.8033638747875229,-0.5036382720105074,0.8650082134002659,1.3913484083238983,-0.20620902568661237,0.25801694867934716,1.2157655167065369,1.3728410412263647,-0.8789152030004874,2.732310897045035,-1.3190874577850344,1.397284606765221,-0.278408549922117,1.6045608853438653,0.4205862015249162,0.24586301293823862,-0.1624515223851526,0.004887071810461409,-0.3569192879972979,0.6108006930348017,0.5384132600405072,1.1870638570610101,-0.8103379700987837,1.025975673439183,-0.4868784353162769,1.099447359391673,2.126150863729017,-0.8853264199162242,-0.3906919892588175,0.7644501291980417,-0.33172508223653285,-1.673993229937289,0.7820730124854408,0.25078668823209227,0.060357828532477814,0.7135707361779056,1.9964468811846894,0.15720488025605775,-0.2914659228838468,0.5161998499046359,-1.2785898286810256,1.4256047826992324,0.7069658123112345,1.8546235482138067,1.3346021424253542,1.1148461334157418,0.026985915141145175,1.397096502991006,2.045547530911009,1.2087274247672462,-0.02902799114594827,0.013673037218682812,-0.7223314143978876,-0.19675613251686933,0.19737307211466443,1.8029377596310276,-0.5129101312888362,1.9020237049129,0.5392281905319504,-1.5195104524428904,0.45090724709228314,-0.4605983828812109,0.8367771087907409,0.4522326050616165],\"xaxis\":\"x2\",\"y\":[-0.6005272572897303,0.4244128074582704,-0.4409073355427527,0.8765579194110584,0.113261090341445,-0.4734724357527685,-0.5188427551304841,1.6014103864400826,-1.9072129048619137,0.13973295867986582,0.1702359906906131,-0.05052875998036999,0.20326605679474508,-0.6068987450085842,0.01901108295103341,1.693422376323972,0.5845625651895274,0.4308434776212245,2.0362362984046185,-0.37880189101535205,0.5311977539175295,0.2225490230732347,0.6105435706552877,0.6012397714386573,-0.49798029829730084,-1.5788557684254483,-1.1725339762475635,-0.7429584143370385,-1.3033130409601439,-0.1481121095374952,-0.08987450109740919,0.8634887289963715,1.3154289749839931,-0.1458612244300904,0.0446654478807579,-0.48504782159620513,-1.617495602420557,-0.731694949591574,0.3821784833214193,-0.5662280029457727,0.21408484014185408,-1.1289387995158675,0.7269769388895451,-0.9011091704893577,-2.535588699140916,-0.43260366467435213,-0.15376731612435343,0.39964626739478737,-0.11233023781221708,1.554395766979265,-0.4308410579333943,-1.0882608871453134,-0.30491823751325103,-2.7204294407752174,0.6273722477938712,-0.8654492756421258,1.9183759306233856,1.804196834549093,-0.15729206200947618,1.062606251289599,0.7294892417546102,1.734507463508707,-0.9622969360364804,-1.22800512027324,1.5476998702992784,0.20212868111909074,-0.2287354920448391,-1.6256267328555414,0.11805653097824363,-0.12569222392741497,0.6344132872644095,0.13955461698175808,-0.10892925133430031,0.45304222972607944,-0.2615053375643434,-0.22411611506996273,1.7141971468445547,-1.5018373663357867,-0.38328035963769436,-0.2043652018260254,-0.17657931439914137,-0.9963628208785296,0.6107128707648545,-0.47340018232802844,0.9359112776474541,-1.341473246861999,1.1182266906281662,2.353288351782029,-0.846808712188778,1.372132144431435,0.9999474752472598,1.5804495493664477,2.04568628243262,0.9797750995650546,-0.1787771713442234,-0.027427461421897097,1.476220213935394,0.7695677105340464,-1.3060175064144073,0.3037509273928669],\"yaxis\":\"y2\",\"type\":\"scatter\"},{\"line\":{\"color\":\"rgba(128, 128, 128, 1.0)\",\"dash\":\"solid\",\"shape\":\"linear\",\"width\":1.3},\"marker\":{\"size\":2,\"symbol\":\"circle\"},\"mode\":\"markers\",\"name\":\"A\",\"text\":\"\",\"x\":[0.005820026315235889,-0.944252919775402,-1.0492272328413648,0.22757054265445817,1.3777527492775783,-0.3489891370565893,0.44483703810824815,0.22303942724877285,-0.22881401479458185,0.6798059058144068,0.18454890869296758,-0.7429996997754517,-0.3150553275072614,0.6696838774410224,0.08971821990446563,-0.42078443345254213,-1.805350538008814,-0.5474542341282794,-2.640802056449358,0.29380406391663294,-0.5973603189213698,-0.8373122602203762,0.7911481136573829,1.3612366390345785,0.3260243510315011,-0.4381030244611688,-0.5183108164385883,0.575393066106595,0.002261293668035416,0.9480312712016943,-1.2518700264626437,-0.8636678495397886,0.1828220938574215,0.4651131859911088,0.6600216055864502,-0.35580438892131067,-0.28642366363561245,-1.0840761390606588,0.3713304208912552,-1.2284361640922536,0.9686348277002187,1.3296732876776354,1.177937948942286,0.39965380388345095,-1.4122223568957806,-0.176116020072892,1.138709732872558,0.35351407573453175,-0.5414400307940884,-0.07162348918388448,-1.2162767417108231,0.7123174537161838,-1.028955460810404,0.6156977305294409,1.178058898104863,0.0377000609650166,-1.3230000941088274,2.037772260676816,1.1490198058614232,-0.8536579018943958,0.30841573406451267,0.2254774591549979,0.4682975588086075,0.437699098955465,0.7709299476036803,1.3701566477949783,-1.0016567278174484,-0.028441481653694128,1.0801540051188552,0.5285911737990813,0.021650992628812524,-1.373511680614175,0.8183418801812649,1.7337369519516643,0.8938198365706271,0.4407902101656733,-0.5053911283601059,-1.9408740723430784,0.6732190978860576,0.09154499420627218,1.2327283294517688,0.17262182684022867,0.34415223930326977,1.7428745760179878,-2.0312787609735263,0.654249937369822,0.10880300326304189,0.44987552934980357,-0.24137878303951626,0.0072028249462114165,-0.7928376290036848,0.4196989942621943,0.6329049798142696,-0.20733444657212877,-0.9271172539059707,0.3250276542830719,0.3409165518651384,-1.115775977352867,0.34254224820018225,0.07045933383035928],\"xaxis\":\"x3\",\"y\":[-0.6005272572897303,0.4244128074582704,-0.4409073355427527,0.8765579194110584,0.113261090341445,-0.4734724357527685,-0.5188427551304841,1.6014103864400826,-1.9072129048619137,0.13973295867986582,0.1702359906906131,-0.05052875998036999,0.20326605679474508,-0.6068987450085842,0.01901108295103341,1.693422376323972,0.5845625651895274,0.4308434776212245,2.0362362984046185,-0.37880189101535205,0.5311977539175295,0.2225490230732347,0.6105435706552877,0.6012397714386573,-0.49798029829730084,-1.5788557684254483,-1.1725339762475635,-0.7429584143370385,-1.3033130409601439,-0.1481121095374952,-0.08987450109740919,0.8634887289963715,1.3154289749839931,-0.1458612244300904,0.0446654478807579,-0.48504782159620513,-1.617495602420557,-0.731694949591574,0.3821784833214193,-0.5662280029457727,0.21408484014185408,-1.1289387995158675,0.7269769388895451,-0.9011091704893577,-2.535588699140916,-0.43260366467435213,-0.15376731612435343,0.39964626739478737,-0.11233023781221708,1.554395766979265,-0.4308410579333943,-1.0882608871453134,-0.30491823751325103,-2.7204294407752174,0.6273722477938712,-0.8654492756421258,1.9183759306233856,1.804196834549093,-0.15729206200947618,1.062606251289599,0.7294892417546102,1.734507463508707,-0.9622969360364804,-1.22800512027324,1.5476998702992784,0.20212868111909074,-0.2287354920448391,-1.6256267328555414,0.11805653097824363,-0.12569222392741497,0.6344132872644095,0.13955461698175808,-0.10892925133430031,0.45304222972607944,-0.2615053375643434,-0.22411611506996273,1.7141971468445547,-1.5018373663357867,-0.38328035963769436,-0.2043652018260254,-0.17657931439914137,-0.9963628208785296,0.6107128707648545,-0.47340018232802844,0.9359112776474541,-1.341473246861999,1.1182266906281662,2.353288351782029,-0.846808712188778,1.372132144431435,0.9999474752472598,1.5804495493664477,2.04568628243262,0.9797750995650546,-0.1787771713442234,-0.027427461421897097,1.476220213935394,0.7695677105340464,-1.3060175064144073,0.3037509273928669],\"yaxis\":\"y3\",\"type\":\"scatter\"},{\"line\":{\"color\":\"rgba(128, 128, 128, 1.0)\",\"dash\":\"solid\",\"shape\":\"linear\",\"width\":1.3},\"marker\":{\"size\":2,\"symbol\":\"circle\"},\"mode\":\"markers\",\"name\":\"A\",\"text\":\"\",\"x\":[-1.2161176582357354,-0.12863284311431158,-2.298687363462328,0.28959636093595725,-0.7246255581238169,0.24498833446883608,1.0435180837318598,0.9105198724178482,0.12046775656811216,0.001045645582807576,0.24220784184161495,1.5898001614762565,0.6876512522271132,-0.03230315841728312,-0.3814995439381174,-0.5134324788502349,2.2561301375592597,-0.7669051369956381,-0.29939491794593953,-0.5868531070944372,0.1564747034944148,0.33812146361678314,-0.92777461790032,-0.2561779312891647,1.1321561472113089,-1.521624788830427,-0.10578492697862925,1.2528957251106014,0.31858334971281027,-0.6447269293766716,-0.16025998833187238,2.3866030669832057,-1.7129902727281132,0.7785984320469583,-0.6115944224731991,0.749970156290634,-0.6562576333886874,0.8813294570909459,0.9695967440466924,0.8925738209712588,-0.7793199241066547,-2.2866317157899436,0.31904550971387846,1.0126715470137597,0.7547102834564094,2.599890602061509,0.6823245967602878,-0.1372138229279569,-0.1807508933522096,-0.676618381731523,0.4741833456519362,-0.10564453918929545,0.2882816775361528,1.237038025980705,-0.19289648009289254,-0.8804086186836066,-1.6468181830690687,-0.8823675536084618,-2.910164088912495,0.8463497751337671,0.9298513207433153,0.37185374938785576,1.8927267937363947,2.2266953049171283,-0.4750157170211832,-0.08709822071199674,-1.1665419602002338,0.9458844620855422,0.528910425432497,1.1698694771232991,-0.8764687758536519,0.9648874484537752,0.9583079235422147,-0.4677544928787285,-1.76944414354469,0.3293468879804715,3.0592510895306484,0.287145383741864,-0.6182634384873641,0.23291094600947723,0.6984142428993263,0.46667676824662685,1.1929634268882765,0.8960450590152582,-0.4668953913993217,-0.2625586797308798,-0.08314992850791071,-0.47431853510305966,0.48683585232534143,1.9915587879980674,0.847409379660996,1.2032821110247556,0.0731334551143764,0.20911279275548394,0.7538630258275114,0.08833443228860614,-0.9043075198852949,-1.0158868611498866,0.7147232467054212,0.7354942823115364],\"xaxis\":\"x4\",\"y\":[-0.6005272572897303,0.4244128074582704,-0.4409073355427527,0.8765579194110584,0.113261090341445,-0.4734724357527685,-0.5188427551304841,1.6014103864400826,-1.9072129048619137,0.13973295867986582,0.1702359906906131,-0.05052875998036999,0.20326605679474508,-0.6068987450085842,0.01901108295103341,1.693422376323972,0.5845625651895274,0.4308434776212245,2.0362362984046185,-0.37880189101535205,0.5311977539175295,0.2225490230732347,0.6105435706552877,0.6012397714386573,-0.49798029829730084,-1.5788557684254483,-1.1725339762475635,-0.7429584143370385,-1.3033130409601439,-0.1481121095374952,-0.08987450109740919,0.8634887289963715,1.3154289749839931,-0.1458612244300904,0.0446654478807579,-0.48504782159620513,-1.617495602420557,-0.731694949591574,0.3821784833214193,-0.5662280029457727,0.21408484014185408,-1.1289387995158675,0.7269769388895451,-0.9011091704893577,-2.535588699140916,-0.43260366467435213,-0.15376731612435343,0.39964626739478737,-0.11233023781221708,1.554395766979265,-0.4308410579333943,-1.0882608871453134,-0.30491823751325103,-2.7204294407752174,0.6273722477938712,-0.8654492756421258,1.9183759306233856,1.804196834549093,-0.15729206200947618,1.062606251289599,0.7294892417546102,1.734507463508707,-0.9622969360364804,-1.22800512027324,1.5476998702992784,0.20212868111909074,-0.2287354920448391,-1.6256267328555414,0.11805653097824363,-0.12569222392741497,0.6344132872644095,0.13955461698175808,-0.10892925133430031,0.45304222972607944,-0.2615053375643434,-0.22411611506996273,1.7141971468445547,-1.5018373663357867,-0.38328035963769436,-0.2043652018260254,-0.17657931439914137,-0.9963628208785296,0.6107128707648545,-0.47340018232802844,0.9359112776474541,-1.341473246861999,1.1182266906281662,2.353288351782029,-0.846808712188778,1.372132144431435,0.9999474752472598,1.5804495493664477,2.04568628243262,0.9797750995650546,-0.1787771713442234,-0.027427461421897097,1.476220213935394,0.7695677105340464,-1.3060175064144073,0.3037509273928669],\"yaxis\":\"y4\",\"type\":\"scatter\"},{\"line\":{\"color\":\"rgba(128, 128, 128, 1.0)\",\"dash\":\"solid\",\"shape\":\"linear\",\"width\":1.3},\"marker\":{\"size\":2,\"symbol\":\"circle\"},\"mode\":\"markers\",\"name\":\"B\",\"text\":\"\",\"x\":[-0.6005272572897303,0.4244128074582704,-0.4409073355427527,0.8765579194110584,0.113261090341445,-0.4734724357527685,-0.5188427551304841,1.6014103864400826,-1.9072129048619137,0.13973295867986582,0.1702359906906131,-0.05052875998036999,0.20326605679474508,-0.6068987450085842,0.01901108295103341,1.693422376323972,0.5845625651895274,0.4308434776212245,2.0362362984046185,-0.37880189101535205,0.5311977539175295,0.2225490230732347,0.6105435706552877,0.6012397714386573,-0.49798029829730084,-1.5788557684254483,-1.1725339762475635,-0.7429584143370385,-1.3033130409601439,-0.1481121095374952,-0.08987450109740919,0.8634887289963715,1.3154289749839931,-0.1458612244300904,0.0446654478807579,-0.48504782159620513,-1.617495602420557,-0.731694949591574,0.3821784833214193,-0.5662280029457727,0.21408484014185408,-1.1289387995158675,0.7269769388895451,-0.9011091704893577,-2.535588699140916,-0.43260366467435213,-0.15376731612435343,0.39964626739478737,-0.11233023781221708,1.554395766979265,-0.4308410579333943,-1.0882608871453134,-0.30491823751325103,-2.7204294407752174,0.6273722477938712,-0.8654492756421258,1.9183759306233856,1.804196834549093,-0.15729206200947618,1.062606251289599,0.7294892417546102,1.734507463508707,-0.9622969360364804,-1.22800512027324,1.5476998702992784,0.20212868111909074,-0.2287354920448391,-1.6256267328555414,0.11805653097824363,-0.12569222392741497,0.6344132872644095,0.13955461698175808,-0.10892925133430031,0.45304222972607944,-0.2615053375643434,-0.22411611506996273,1.7141971468445547,-1.5018373663357867,-0.38328035963769436,-0.2043652018260254,-0.17657931439914137,-0.9963628208785296,0.6107128707648545,-0.47340018232802844,0.9359112776474541,-1.341473246861999,1.1182266906281662,2.353288351782029,-0.846808712188778,1.372132144431435,0.9999474752472598,1.5804495493664477,2.04568628243262,0.9797750995650546,-0.1787771713442234,-0.027427461421897097,1.476220213935394,0.7695677105340464,-1.3060175064144073,0.3037509273928669],\"xaxis\":\"x5\",\"y\":[0.03354789955792382,0.8070604927554935,-0.20541484675194602,1.4129841433086383,1.9008318459139721,0.09300179845913471,0.5736886980820219,-0.19687274864419568,0.6281570041414841,0.7239231301056195,1.7173841614342737,1.3988000668176435,-0.8184742870915912,0.8967890017662526,-0.9153149454880518,-1.1625286021506622,0.27044631838323935,0.17279082609833252,-0.4838988802454175,-0.1985370723300537,0.45925580298117624,-0.466204510726407,-1.1902078376153176,-1.9423008579291474,0.17112423404743934,-0.8855102151597386,-0.06814690123720969,0.007010359856248485,-1.137822077002745,-2.308475853373866,-1.4624081721848106,-2.3647837278310138,-0.04945163262821755,-1.2724024016855202,-0.18420164801720115,0.4937061618303972,0.8033638747875229,-0.5036382720105074,0.8650082134002659,1.3913484083238983,-0.20620902568661237,0.25801694867934716,1.2157655167065369,1.3728410412263647,-0.8789152030004874,2.732310897045035,-1.3190874577850344,1.397284606765221,-0.278408549922117,1.6045608853438653,0.4205862015249162,0.24586301293823862,-0.1624515223851526,0.004887071810461409,-0.3569192879972979,0.6108006930348017,0.5384132600405072,1.1870638570610101,-0.8103379700987837,1.025975673439183,-0.4868784353162769,1.099447359391673,2.126150863729017,-0.8853264199162242,-0.3906919892588175,0.7644501291980417,-0.33172508223653285,-1.673993229937289,0.7820730124854408,0.25078668823209227,0.060357828532477814,0.7135707361779056,1.9964468811846894,0.15720488025605775,-0.2914659228838468,0.5161998499046359,-1.2785898286810256,1.4256047826992324,0.7069658123112345,1.8546235482138067,1.3346021424253542,1.1148461334157418,0.026985915141145175,1.397096502991006,2.045547530911009,1.2087274247672462,-0.02902799114594827,0.013673037218682812,-0.7223314143978876,-0.19675613251686933,0.19737307211466443,1.8029377596310276,-0.5129101312888362,1.9020237049129,0.5392281905319504,-1.5195104524428904,0.45090724709228314,-0.4605983828812109,0.8367771087907409,0.4522326050616165],\"yaxis\":\"y5\",\"type\":\"scatter\"},{\"histfunc\":\"count\",\"histnorm\":\"\",\"marker\":{\"color\":\"rgba(55, 128, 191, 1.0)\",\"line\":{\"color\":\"#4D5663\",\"width\":1.3}},\"name\":\"B\",\"nbinsx\":10,\"opacity\":0.8,\"orientation\":\"v\",\"x\":[0.03354789955792382,0.8070604927554935,-0.20541484675194602,1.4129841433086383,1.9008318459139721,0.09300179845913471,0.5736886980820219,-0.19687274864419568,0.6281570041414841,0.7239231301056195,1.7173841614342737,1.3988000668176435,-0.8184742870915912,0.8967890017662526,-0.9153149454880518,-1.1625286021506622,0.27044631838323935,0.17279082609833252,-0.4838988802454175,-0.1985370723300537,0.45925580298117624,-0.466204510726407,-1.1902078376153176,-1.9423008579291474,0.17112423404743934,-0.8855102151597386,-0.06814690123720969,0.007010359856248485,-1.137822077002745,-2.308475853373866,-1.4624081721848106,-2.3647837278310138,-0.04945163262821755,-1.2724024016855202,-0.18420164801720115,0.4937061618303972,0.8033638747875229,-0.5036382720105074,0.8650082134002659,1.3913484083238983,-0.20620902568661237,0.25801694867934716,1.2157655167065369,1.3728410412263647,-0.8789152030004874,2.732310897045035,-1.3190874577850344,1.397284606765221,-0.278408549922117,1.6045608853438653,0.4205862015249162,0.24586301293823862,-0.1624515223851526,0.004887071810461409,-0.3569192879972979,0.6108006930348017,0.5384132600405072,1.1870638570610101,-0.8103379700987837,1.025975673439183,-0.4868784353162769,1.099447359391673,2.126150863729017,-0.8853264199162242,-0.3906919892588175,0.7644501291980417,-0.33172508223653285,-1.673993229937289,0.7820730124854408,0.25078668823209227,0.060357828532477814,0.7135707361779056,1.9964468811846894,0.15720488025605775,-0.2914659228838468,0.5161998499046359,-1.2785898286810256,1.4256047826992324,0.7069658123112345,1.8546235482138067,1.3346021424253542,1.1148461334157418,0.026985915141145175,1.397096502991006,2.045547530911009,1.2087274247672462,-0.02902799114594827,0.013673037218682812,-0.7223314143978876,-0.19675613251686933,0.19737307211466443,1.8029377596310276,-0.5129101312888362,1.9020237049129,0.5392281905319504,-1.5195104524428904,0.45090724709228314,-0.4605983828812109,0.8367771087907409,0.4522326050616165],\"xaxis\":\"x6\",\"yaxis\":\"y6\",\"type\":\"histogram\"},{\"line\":{\"color\":\"rgba(128, 128, 128, 1.0)\",\"dash\":\"solid\",\"shape\":\"linear\",\"width\":1.3},\"marker\":{\"size\":2,\"symbol\":\"circle\"},\"mode\":\"markers\",\"name\":\"B\",\"text\":\"\",\"x\":[0.005820026315235889,-0.944252919775402,-1.0492272328413648,0.22757054265445817,1.3777527492775783,-0.3489891370565893,0.44483703810824815,0.22303942724877285,-0.22881401479458185,0.6798059058144068,0.18454890869296758,-0.7429996997754517,-0.3150553275072614,0.6696838774410224,0.08971821990446563,-0.42078443345254213,-1.805350538008814,-0.5474542341282794,-2.640802056449358,0.29380406391663294,-0.5973603189213698,-0.8373122602203762,0.7911481136573829,1.3612366390345785,0.3260243510315011,-0.4381030244611688,-0.5183108164385883,0.575393066106595,0.002261293668035416,0.9480312712016943,-1.2518700264626437,-0.8636678495397886,0.1828220938574215,0.4651131859911088,0.6600216055864502,-0.35580438892131067,-0.28642366363561245,-1.0840761390606588,0.3713304208912552,-1.2284361640922536,0.9686348277002187,1.3296732876776354,1.177937948942286,0.39965380388345095,-1.4122223568957806,-0.176116020072892,1.138709732872558,0.35351407573453175,-0.5414400307940884,-0.07162348918388448,-1.2162767417108231,0.7123174537161838,-1.028955460810404,0.6156977305294409,1.178058898104863,0.0377000609650166,-1.3230000941088274,2.037772260676816,1.1490198058614232,-0.8536579018943958,0.30841573406451267,0.2254774591549979,0.4682975588086075,0.437699098955465,0.7709299476036803,1.3701566477949783,-1.0016567278174484,-0.028441481653694128,1.0801540051188552,0.5285911737990813,0.021650992628812524,-1.373511680614175,0.8183418801812649,1.7337369519516643,0.8938198365706271,0.4407902101656733,-0.5053911283601059,-1.9408740723430784,0.6732190978860576,0.09154499420627218,1.2327283294517688,0.17262182684022867,0.34415223930326977,1.7428745760179878,-2.0312787609735263,0.654249937369822,0.10880300326304189,0.44987552934980357,-0.24137878303951626,0.0072028249462114165,-0.7928376290036848,0.4196989942621943,0.6329049798142696,-0.20733444657212877,-0.9271172539059707,0.3250276542830719,0.3409165518651384,-1.115775977352867,0.34254224820018225,0.07045933383035928],\"xaxis\":\"x7\",\"y\":[0.03354789955792382,0.8070604927554935,-0.20541484675194602,1.4129841433086383,1.9008318459139721,0.09300179845913471,0.5736886980820219,-0.19687274864419568,0.6281570041414841,0.7239231301056195,1.7173841614342737,1.3988000668176435,-0.8184742870915912,0.8967890017662526,-0.9153149454880518,-1.1625286021506622,0.27044631838323935,0.17279082609833252,-0.4838988802454175,-0.1985370723300537,0.45925580298117624,-0.466204510726407,-1.1902078376153176,-1.9423008579291474,0.17112423404743934,-0.8855102151597386,-0.06814690123720969,0.007010359856248485,-1.137822077002745,-2.308475853373866,-1.4624081721848106,-2.3647837278310138,-0.04945163262821755,-1.2724024016855202,-0.18420164801720115,0.4937061618303972,0.8033638747875229,-0.5036382720105074,0.8650082134002659,1.3913484083238983,-0.20620902568661237,0.25801694867934716,1.2157655167065369,1.3728410412263647,-0.8789152030004874,2.732310897045035,-1.3190874577850344,1.397284606765221,-0.278408549922117,1.6045608853438653,0.4205862015249162,0.24586301293823862,-0.1624515223851526,0.004887071810461409,-0.3569192879972979,0.6108006930348017,0.5384132600405072,1.1870638570610101,-0.8103379700987837,1.025975673439183,-0.4868784353162769,1.099447359391673,2.126150863729017,-0.8853264199162242,-0.3906919892588175,0.7644501291980417,-0.33172508223653285,-1.673993229937289,0.7820730124854408,0.25078668823209227,0.060357828532477814,0.7135707361779056,1.9964468811846894,0.15720488025605775,-0.2914659228838468,0.5161998499046359,-1.2785898286810256,1.4256047826992324,0.7069658123112345,1.8546235482138067,1.3346021424253542,1.1148461334157418,0.026985915141145175,1.397096502991006,2.045547530911009,1.2087274247672462,-0.02902799114594827,0.013673037218682812,-0.7223314143978876,-0.19675613251686933,0.19737307211466443,1.8029377596310276,-0.5129101312888362,1.9020237049129,0.5392281905319504,-1.5195104524428904,0.45090724709228314,-0.4605983828812109,0.8367771087907409,0.4522326050616165],\"yaxis\":\"y7\",\"type\":\"scatter\"},{\"line\":{\"color\":\"rgba(128, 128, 128, 1.0)\",\"dash\":\"solid\",\"shape\":\"linear\",\"width\":1.3},\"marker\":{\"size\":2,\"symbol\":\"circle\"},\"mode\":\"markers\",\"name\":\"B\",\"text\":\"\",\"x\":[-1.2161176582357354,-0.12863284311431158,-2.298687363462328,0.28959636093595725,-0.7246255581238169,0.24498833446883608,1.0435180837318598,0.9105198724178482,0.12046775656811216,0.001045645582807576,0.24220784184161495,1.5898001614762565,0.6876512522271132,-0.03230315841728312,-0.3814995439381174,-0.5134324788502349,2.2561301375592597,-0.7669051369956381,-0.29939491794593953,-0.5868531070944372,0.1564747034944148,0.33812146361678314,-0.92777461790032,-0.2561779312891647,1.1321561472113089,-1.521624788830427,-0.10578492697862925,1.2528957251106014,0.31858334971281027,-0.6447269293766716,-0.16025998833187238,2.3866030669832057,-1.7129902727281132,0.7785984320469583,-0.6115944224731991,0.749970156290634,-0.6562576333886874,0.8813294570909459,0.9695967440466924,0.8925738209712588,-0.7793199241066547,-2.2866317157899436,0.31904550971387846,1.0126715470137597,0.7547102834564094,2.599890602061509,0.6823245967602878,-0.1372138229279569,-0.1807508933522096,-0.676618381731523,0.4741833456519362,-0.10564453918929545,0.2882816775361528,1.237038025980705,-0.19289648009289254,-0.8804086186836066,-1.6468181830690687,-0.8823675536084618,-2.910164088912495,0.8463497751337671,0.9298513207433153,0.37185374938785576,1.8927267937363947,2.2266953049171283,-0.4750157170211832,-0.08709822071199674,-1.1665419602002338,0.9458844620855422,0.528910425432497,1.1698694771232991,-0.8764687758536519,0.9648874484537752,0.9583079235422147,-0.4677544928787285,-1.76944414354469,0.3293468879804715,3.0592510895306484,0.287145383741864,-0.6182634384873641,0.23291094600947723,0.6984142428993263,0.46667676824662685,1.1929634268882765,0.8960450590152582,-0.4668953913993217,-0.2625586797308798,-0.08314992850791071,-0.47431853510305966,0.48683585232534143,1.9915587879980674,0.847409379660996,1.2032821110247556,0.0731334551143764,0.20911279275548394,0.7538630258275114,0.08833443228860614,-0.9043075198852949,-1.0158868611498866,0.7147232467054212,0.7354942823115364],\"xaxis\":\"x8\",\"y\":[0.03354789955792382,0.8070604927554935,-0.20541484675194602,1.4129841433086383,1.9008318459139721,0.09300179845913471,0.5736886980820219,-0.19687274864419568,0.6281570041414841,0.7239231301056195,1.7173841614342737,1.3988000668176435,-0.8184742870915912,0.8967890017662526,-0.9153149454880518,-1.1625286021506622,0.27044631838323935,0.17279082609833252,-0.4838988802454175,-0.1985370723300537,0.45925580298117624,-0.466204510726407,-1.1902078376153176,-1.9423008579291474,0.17112423404743934,-0.8855102151597386,-0.06814690123720969,0.007010359856248485,-1.137822077002745,-2.308475853373866,-1.4624081721848106,-2.3647837278310138,-0.04945163262821755,-1.2724024016855202,-0.18420164801720115,0.4937061618303972,0.8033638747875229,-0.5036382720105074,0.8650082134002659,1.3913484083238983,-0.20620902568661237,0.25801694867934716,1.2157655167065369,1.3728410412263647,-0.8789152030004874,2.732310897045035,-1.3190874577850344,1.397284606765221,-0.278408549922117,1.6045608853438653,0.4205862015249162,0.24586301293823862,-0.1624515223851526,0.004887071810461409,-0.3569192879972979,0.6108006930348017,0.5384132600405072,1.1870638570610101,-0.8103379700987837,1.025975673439183,-0.4868784353162769,1.099447359391673,2.126150863729017,-0.8853264199162242,-0.3906919892588175,0.7644501291980417,-0.33172508223653285,-1.673993229937289,0.7820730124854408,0.25078668823209227,0.060357828532477814,0.7135707361779056,1.9964468811846894,0.15720488025605775,-0.2914659228838468,0.5161998499046359,-1.2785898286810256,1.4256047826992324,0.7069658123112345,1.8546235482138067,1.3346021424253542,1.1148461334157418,0.026985915141145175,1.397096502991006,2.045547530911009,1.2087274247672462,-0.02902799114594827,0.013673037218682812,-0.7223314143978876,-0.19675613251686933,0.19737307211466443,1.8029377596310276,-0.5129101312888362,1.9020237049129,0.5392281905319504,-1.5195104524428904,0.45090724709228314,-0.4605983828812109,0.8367771087907409,0.4522326050616165],\"yaxis\":\"y8\",\"type\":\"scatter\"},{\"line\":{\"color\":\"rgba(128, 128, 128, 1.0)\",\"dash\":\"solid\",\"shape\":\"linear\",\"width\":1.3},\"marker\":{\"size\":2,\"symbol\":\"circle\"},\"mode\":\"markers\",\"name\":\"C\",\"text\":\"\",\"x\":[-0.6005272572897303,0.4244128074582704,-0.4409073355427527,0.8765579194110584,0.113261090341445,-0.4734724357527685,-0.5188427551304841,1.6014103864400826,-1.9072129048619137,0.13973295867986582,0.1702359906906131,-0.05052875998036999,0.20326605679474508,-0.6068987450085842,0.01901108295103341,1.693422376323972,0.5845625651895274,0.4308434776212245,2.0362362984046185,-0.37880189101535205,0.5311977539175295,0.2225490230732347,0.6105435706552877,0.6012397714386573,-0.49798029829730084,-1.5788557684254483,-1.1725339762475635,-0.7429584143370385,-1.3033130409601439,-0.1481121095374952,-0.08987450109740919,0.8634887289963715,1.3154289749839931,-0.1458612244300904,0.0446654478807579,-0.48504782159620513,-1.617495602420557,-0.731694949591574,0.3821784833214193,-0.5662280029457727,0.21408484014185408,-1.1289387995158675,0.7269769388895451,-0.9011091704893577,-2.535588699140916,-0.43260366467435213,-0.15376731612435343,0.39964626739478737,-0.11233023781221708,1.554395766979265,-0.4308410579333943,-1.0882608871453134,-0.30491823751325103,-2.7204294407752174,0.6273722477938712,-0.8654492756421258,1.9183759306233856,1.804196834549093,-0.15729206200947618,1.062606251289599,0.7294892417546102,1.734507463508707,-0.9622969360364804,-1.22800512027324,1.5476998702992784,0.20212868111909074,-0.2287354920448391,-1.6256267328555414,0.11805653097824363,-0.12569222392741497,0.6344132872644095,0.13955461698175808,-0.10892925133430031,0.45304222972607944,-0.2615053375643434,-0.22411611506996273,1.7141971468445547,-1.5018373663357867,-0.38328035963769436,-0.2043652018260254,-0.17657931439914137,-0.9963628208785296,0.6107128707648545,-0.47340018232802844,0.9359112776474541,-1.341473246861999,1.1182266906281662,2.353288351782029,-0.846808712188778,1.372132144431435,0.9999474752472598,1.5804495493664477,2.04568628243262,0.9797750995650546,-0.1787771713442234,-0.027427461421897097,1.476220213935394,0.7695677105340464,-1.3060175064144073,0.3037509273928669],\"xaxis\":\"x9\",\"y\":[0.005820026315235889,-0.944252919775402,-1.0492272328413648,0.22757054265445817,1.3777527492775783,-0.3489891370565893,0.44483703810824815,0.22303942724877285,-0.22881401479458185,0.6798059058144068,0.18454890869296758,-0.7429996997754517,-0.3150553275072614,0.6696838774410224,0.08971821990446563,-0.42078443345254213,-1.805350538008814,-0.5474542341282794,-2.640802056449358,0.29380406391663294,-0.5973603189213698,-0.8373122602203762,0.7911481136573829,1.3612366390345785,0.3260243510315011,-0.4381030244611688,-0.5183108164385883,0.575393066106595,0.002261293668035416,0.9480312712016943,-1.2518700264626437,-0.8636678495397886,0.1828220938574215,0.4651131859911088,0.6600216055864502,-0.35580438892131067,-0.28642366363561245,-1.0840761390606588,0.3713304208912552,-1.2284361640922536,0.9686348277002187,1.3296732876776354,1.177937948942286,0.39965380388345095,-1.4122223568957806,-0.176116020072892,1.138709732872558,0.35351407573453175,-0.5414400307940884,-0.07162348918388448,-1.2162767417108231,0.7123174537161838,-1.028955460810404,0.6156977305294409,1.178058898104863,0.0377000609650166,-1.3230000941088274,2.037772260676816,1.1490198058614232,-0.8536579018943958,0.30841573406451267,0.2254774591549979,0.4682975588086075,0.437699098955465,0.7709299476036803,1.3701566477949783,-1.0016567278174484,-0.028441481653694128,1.0801540051188552,0.5285911737990813,0.021650992628812524,-1.373511680614175,0.8183418801812649,1.7337369519516643,0.8938198365706271,0.4407902101656733,-0.5053911283601059,-1.9408740723430784,0.6732190978860576,0.09154499420627218,1.2327283294517688,0.17262182684022867,0.34415223930326977,1.7428745760179878,-2.0312787609735263,0.654249937369822,0.10880300326304189,0.44987552934980357,-0.24137878303951626,0.0072028249462114165,-0.7928376290036848,0.4196989942621943,0.6329049798142696,-0.20733444657212877,-0.9271172539059707,0.3250276542830719,0.3409165518651384,-1.115775977352867,0.34254224820018225,0.07045933383035928],\"yaxis\":\"y9\",\"type\":\"scatter\"},{\"line\":{\"color\":\"rgba(128, 128, 128, 1.0)\",\"dash\":\"solid\",\"shape\":\"linear\",\"width\":1.3},\"marker\":{\"size\":2,\"symbol\":\"circle\"},\"mode\":\"markers\",\"name\":\"C\",\"text\":\"\",\"x\":[0.03354789955792382,0.8070604927554935,-0.20541484675194602,1.4129841433086383,1.9008318459139721,0.09300179845913471,0.5736886980820219,-0.19687274864419568,0.6281570041414841,0.7239231301056195,1.7173841614342737,1.3988000668176435,-0.8184742870915912,0.8967890017662526,-0.9153149454880518,-1.1625286021506622,0.27044631838323935,0.17279082609833252,-0.4838988802454175,-0.1985370723300537,0.45925580298117624,-0.466204510726407,-1.1902078376153176,-1.9423008579291474,0.17112423404743934,-0.8855102151597386,-0.06814690123720969,0.007010359856248485,-1.137822077002745,-2.308475853373866,-1.4624081721848106,-2.3647837278310138,-0.04945163262821755,-1.2724024016855202,-0.18420164801720115,0.4937061618303972,0.8033638747875229,-0.5036382720105074,0.8650082134002659,1.3913484083238983,-0.20620902568661237,0.25801694867934716,1.2157655167065369,1.3728410412263647,-0.8789152030004874,2.732310897045035,-1.3190874577850344,1.397284606765221,-0.278408549922117,1.6045608853438653,0.4205862015249162,0.24586301293823862,-0.1624515223851526,0.004887071810461409,-0.3569192879972979,0.6108006930348017,0.5384132600405072,1.1870638570610101,-0.8103379700987837,1.025975673439183,-0.4868784353162769,1.099447359391673,2.126150863729017,-0.8853264199162242,-0.3906919892588175,0.7644501291980417,-0.33172508223653285,-1.673993229937289,0.7820730124854408,0.25078668823209227,0.060357828532477814,0.7135707361779056,1.9964468811846894,0.15720488025605775,-0.2914659228838468,0.5161998499046359,-1.2785898286810256,1.4256047826992324,0.7069658123112345,1.8546235482138067,1.3346021424253542,1.1148461334157418,0.026985915141145175,1.397096502991006,2.045547530911009,1.2087274247672462,-0.02902799114594827,0.013673037218682812,-0.7223314143978876,-0.19675613251686933,0.19737307211466443,1.8029377596310276,-0.5129101312888362,1.9020237049129,0.5392281905319504,-1.5195104524428904,0.45090724709228314,-0.4605983828812109,0.8367771087907409,0.4522326050616165],\"xaxis\":\"x10\",\"y\":[0.005820026315235889,-0.944252919775402,-1.0492272328413648,0.22757054265445817,1.3777527492775783,-0.3489891370565893,0.44483703810824815,0.22303942724877285,-0.22881401479458185,0.6798059058144068,0.18454890869296758,-0.7429996997754517,-0.3150553275072614,0.6696838774410224,0.08971821990446563,-0.42078443345254213,-1.805350538008814,-0.5474542341282794,-2.640802056449358,0.29380406391663294,-0.5973603189213698,-0.8373122602203762,0.7911481136573829,1.3612366390345785,0.3260243510315011,-0.4381030244611688,-0.5183108164385883,0.575393066106595,0.002261293668035416,0.9480312712016943,-1.2518700264626437,-0.8636678495397886,0.1828220938574215,0.4651131859911088,0.6600216055864502,-0.35580438892131067,-0.28642366363561245,-1.0840761390606588,0.3713304208912552,-1.2284361640922536,0.9686348277002187,1.3296732876776354,1.177937948942286,0.39965380388345095,-1.4122223568957806,-0.176116020072892,1.138709732872558,0.35351407573453175,-0.5414400307940884,-0.07162348918388448,-1.2162767417108231,0.7123174537161838,-1.028955460810404,0.6156977305294409,1.178058898104863,0.0377000609650166,-1.3230000941088274,2.037772260676816,1.1490198058614232,-0.8536579018943958,0.30841573406451267,0.2254774591549979,0.4682975588086075,0.437699098955465,0.7709299476036803,1.3701566477949783,-1.0016567278174484,-0.028441481653694128,1.0801540051188552,0.5285911737990813,0.021650992628812524,-1.373511680614175,0.8183418801812649,1.7337369519516643,0.8938198365706271,0.4407902101656733,-0.5053911283601059,-1.9408740723430784,0.6732190978860576,0.09154499420627218,1.2327283294517688,0.17262182684022867,0.34415223930326977,1.7428745760179878,-2.0312787609735263,0.654249937369822,0.10880300326304189,0.44987552934980357,-0.24137878303951626,0.0072028249462114165,-0.7928376290036848,0.4196989942621943,0.6329049798142696,-0.20733444657212877,-0.9271172539059707,0.3250276542830719,0.3409165518651384,-1.115775977352867,0.34254224820018225,0.07045933383035928],\"yaxis\":\"y10\",\"type\":\"scatter\"},{\"histfunc\":\"count\",\"histnorm\":\"\",\"marker\":{\"color\":\"rgba(50, 171, 96, 1.0)\",\"line\":{\"color\":\"#4D5663\",\"width\":1.3}},\"name\":\"C\",\"nbinsx\":10,\"opacity\":0.8,\"orientation\":\"v\",\"x\":[0.005820026315235889,-0.944252919775402,-1.0492272328413648,0.22757054265445817,1.3777527492775783,-0.3489891370565893,0.44483703810824815,0.22303942724877285,-0.22881401479458185,0.6798059058144068,0.18454890869296758,-0.7429996997754517,-0.3150553275072614,0.6696838774410224,0.08971821990446563,-0.42078443345254213,-1.805350538008814,-0.5474542341282794,-2.640802056449358,0.29380406391663294,-0.5973603189213698,-0.8373122602203762,0.7911481136573829,1.3612366390345785,0.3260243510315011,-0.4381030244611688,-0.5183108164385883,0.575393066106595,0.002261293668035416,0.9480312712016943,-1.2518700264626437,-0.8636678495397886,0.1828220938574215,0.4651131859911088,0.6600216055864502,-0.35580438892131067,-0.28642366363561245,-1.0840761390606588,0.3713304208912552,-1.2284361640922536,0.9686348277002187,1.3296732876776354,1.177937948942286,0.39965380388345095,-1.4122223568957806,-0.176116020072892,1.138709732872558,0.35351407573453175,-0.5414400307940884,-0.07162348918388448,-1.2162767417108231,0.7123174537161838,-1.028955460810404,0.6156977305294409,1.178058898104863,0.0377000609650166,-1.3230000941088274,2.037772260676816,1.1490198058614232,-0.8536579018943958,0.30841573406451267,0.2254774591549979,0.4682975588086075,0.437699098955465,0.7709299476036803,1.3701566477949783,-1.0016567278174484,-0.028441481653694128,1.0801540051188552,0.5285911737990813,0.021650992628812524,-1.373511680614175,0.8183418801812649,1.7337369519516643,0.8938198365706271,0.4407902101656733,-0.5053911283601059,-1.9408740723430784,0.6732190978860576,0.09154499420627218,1.2327283294517688,0.17262182684022867,0.34415223930326977,1.7428745760179878,-2.0312787609735263,0.654249937369822,0.10880300326304189,0.44987552934980357,-0.24137878303951626,0.0072028249462114165,-0.7928376290036848,0.4196989942621943,0.6329049798142696,-0.20733444657212877,-0.9271172539059707,0.3250276542830719,0.3409165518651384,-1.115775977352867,0.34254224820018225,0.07045933383035928],\"xaxis\":\"x11\",\"yaxis\":\"y11\",\"type\":\"histogram\"},{\"line\":{\"color\":\"rgba(128, 128, 128, 1.0)\",\"dash\":\"solid\",\"shape\":\"linear\",\"width\":1.3},\"marker\":{\"size\":2,\"symbol\":\"circle\"},\"mode\":\"markers\",\"name\":\"C\",\"text\":\"\",\"x\":[-1.2161176582357354,-0.12863284311431158,-2.298687363462328,0.28959636093595725,-0.7246255581238169,0.24498833446883608,1.0435180837318598,0.9105198724178482,0.12046775656811216,0.001045645582807576,0.24220784184161495,1.5898001614762565,0.6876512522271132,-0.03230315841728312,-0.3814995439381174,-0.5134324788502349,2.2561301375592597,-0.7669051369956381,-0.29939491794593953,-0.5868531070944372,0.1564747034944148,0.33812146361678314,-0.92777461790032,-0.2561779312891647,1.1321561472113089,-1.521624788830427,-0.10578492697862925,1.2528957251106014,0.31858334971281027,-0.6447269293766716,-0.16025998833187238,2.3866030669832057,-1.7129902727281132,0.7785984320469583,-0.6115944224731991,0.749970156290634,-0.6562576333886874,0.8813294570909459,0.9695967440466924,0.8925738209712588,-0.7793199241066547,-2.2866317157899436,0.31904550971387846,1.0126715470137597,0.7547102834564094,2.599890602061509,0.6823245967602878,-0.1372138229279569,-0.1807508933522096,-0.676618381731523,0.4741833456519362,-0.10564453918929545,0.2882816775361528,1.237038025980705,-0.19289648009289254,-0.8804086186836066,-1.6468181830690687,-0.8823675536084618,-2.910164088912495,0.8463497751337671,0.9298513207433153,0.37185374938785576,1.8927267937363947,2.2266953049171283,-0.4750157170211832,-0.08709822071199674,-1.1665419602002338,0.9458844620855422,0.528910425432497,1.1698694771232991,-0.8764687758536519,0.9648874484537752,0.9583079235422147,-0.4677544928787285,-1.76944414354469,0.3293468879804715,3.0592510895306484,0.287145383741864,-0.6182634384873641,0.23291094600947723,0.6984142428993263,0.46667676824662685,1.1929634268882765,0.8960450590152582,-0.4668953913993217,-0.2625586797308798,-0.08314992850791071,-0.47431853510305966,0.48683585232534143,1.9915587879980674,0.847409379660996,1.2032821110247556,0.0731334551143764,0.20911279275548394,0.7538630258275114,0.08833443228860614,-0.9043075198852949,-1.0158868611498866,0.7147232467054212,0.7354942823115364],\"xaxis\":\"x12\",\"y\":[0.005820026315235889,-0.944252919775402,-1.0492272328413648,0.22757054265445817,1.3777527492775783,-0.3489891370565893,0.44483703810824815,0.22303942724877285,-0.22881401479458185,0.6798059058144068,0.18454890869296758,-0.7429996997754517,-0.3150553275072614,0.6696838774410224,0.08971821990446563,-0.42078443345254213,-1.805350538008814,-0.5474542341282794,-2.640802056449358,0.29380406391663294,-0.5973603189213698,-0.8373122602203762,0.7911481136573829,1.3612366390345785,0.3260243510315011,-0.4381030244611688,-0.5183108164385883,0.575393066106595,0.002261293668035416,0.9480312712016943,-1.2518700264626437,-0.8636678495397886,0.1828220938574215,0.4651131859911088,0.6600216055864502,-0.35580438892131067,-0.28642366363561245,-1.0840761390606588,0.3713304208912552,-1.2284361640922536,0.9686348277002187,1.3296732876776354,1.177937948942286,0.39965380388345095,-1.4122223568957806,-0.176116020072892,1.138709732872558,0.35351407573453175,-0.5414400307940884,-0.07162348918388448,-1.2162767417108231,0.7123174537161838,-1.028955460810404,0.6156977305294409,1.178058898104863,0.0377000609650166,-1.3230000941088274,2.037772260676816,1.1490198058614232,-0.8536579018943958,0.30841573406451267,0.2254774591549979,0.4682975588086075,0.437699098955465,0.7709299476036803,1.3701566477949783,-1.0016567278174484,-0.028441481653694128,1.0801540051188552,0.5285911737990813,0.021650992628812524,-1.373511680614175,0.8183418801812649,1.7337369519516643,0.8938198365706271,0.4407902101656733,-0.5053911283601059,-1.9408740723430784,0.6732190978860576,0.09154499420627218,1.2327283294517688,0.17262182684022867,0.34415223930326977,1.7428745760179878,-2.0312787609735263,0.654249937369822,0.10880300326304189,0.44987552934980357,-0.24137878303951626,0.0072028249462114165,-0.7928376290036848,0.4196989942621943,0.6329049798142696,-0.20733444657212877,-0.9271172539059707,0.3250276542830719,0.3409165518651384,-1.115775977352867,0.34254224820018225,0.07045933383035928],\"yaxis\":\"y12\",\"type\":\"scatter\"},{\"line\":{\"color\":\"rgba(128, 128, 128, 1.0)\",\"dash\":\"solid\",\"shape\":\"linear\",\"width\":1.3},\"marker\":{\"size\":2,\"symbol\":\"circle\"},\"mode\":\"markers\",\"name\":\"D\",\"text\":\"\",\"x\":[-0.6005272572897303,0.4244128074582704,-0.4409073355427527,0.8765579194110584,0.113261090341445,-0.4734724357527685,-0.5188427551304841,1.6014103864400826,-1.9072129048619137,0.13973295867986582,0.1702359906906131,-0.05052875998036999,0.20326605679474508,-0.6068987450085842,0.01901108295103341,1.693422376323972,0.5845625651895274,0.4308434776212245,2.0362362984046185,-0.37880189101535205,0.5311977539175295,0.2225490230732347,0.6105435706552877,0.6012397714386573,-0.49798029829730084,-1.5788557684254483,-1.1725339762475635,-0.7429584143370385,-1.3033130409601439,-0.1481121095374952,-0.08987450109740919,0.8634887289963715,1.3154289749839931,-0.1458612244300904,0.0446654478807579,-0.48504782159620513,-1.617495602420557,-0.731694949591574,0.3821784833214193,-0.5662280029457727,0.21408484014185408,-1.1289387995158675,0.7269769388895451,-0.9011091704893577,-2.535588699140916,-0.43260366467435213,-0.15376731612435343,0.39964626739478737,-0.11233023781221708,1.554395766979265,-0.4308410579333943,-1.0882608871453134,-0.30491823751325103,-2.7204294407752174,0.6273722477938712,-0.8654492756421258,1.9183759306233856,1.804196834549093,-0.15729206200947618,1.062606251289599,0.7294892417546102,1.734507463508707,-0.9622969360364804,-1.22800512027324,1.5476998702992784,0.20212868111909074,-0.2287354920448391,-1.6256267328555414,0.11805653097824363,-0.12569222392741497,0.6344132872644095,0.13955461698175808,-0.10892925133430031,0.45304222972607944,-0.2615053375643434,-0.22411611506996273,1.7141971468445547,-1.5018373663357867,-0.38328035963769436,-0.2043652018260254,-0.17657931439914137,-0.9963628208785296,0.6107128707648545,-0.47340018232802844,0.9359112776474541,-1.341473246861999,1.1182266906281662,2.353288351782029,-0.846808712188778,1.372132144431435,0.9999474752472598,1.5804495493664477,2.04568628243262,0.9797750995650546,-0.1787771713442234,-0.027427461421897097,1.476220213935394,0.7695677105340464,-1.3060175064144073,0.3037509273928669],\"xaxis\":\"x13\",\"y\":[-1.2161176582357354,-0.12863284311431158,-2.298687363462328,0.28959636093595725,-0.7246255581238169,0.24498833446883608,1.0435180837318598,0.9105198724178482,0.12046775656811216,0.001045645582807576,0.24220784184161495,1.5898001614762565,0.6876512522271132,-0.03230315841728312,-0.3814995439381174,-0.5134324788502349,2.2561301375592597,-0.7669051369956381,-0.29939491794593953,-0.5868531070944372,0.1564747034944148,0.33812146361678314,-0.92777461790032,-0.2561779312891647,1.1321561472113089,-1.521624788830427,-0.10578492697862925,1.2528957251106014,0.31858334971281027,-0.6447269293766716,-0.16025998833187238,2.3866030669832057,-1.7129902727281132,0.7785984320469583,-0.6115944224731991,0.749970156290634,-0.6562576333886874,0.8813294570909459,0.9695967440466924,0.8925738209712588,-0.7793199241066547,-2.2866317157899436,0.31904550971387846,1.0126715470137597,0.7547102834564094,2.599890602061509,0.6823245967602878,-0.1372138229279569,-0.1807508933522096,-0.676618381731523,0.4741833456519362,-0.10564453918929545,0.2882816775361528,1.237038025980705,-0.19289648009289254,-0.8804086186836066,-1.6468181830690687,-0.8823675536084618,-2.910164088912495,0.8463497751337671,0.9298513207433153,0.37185374938785576,1.8927267937363947,2.2266953049171283,-0.4750157170211832,-0.08709822071199674,-1.1665419602002338,0.9458844620855422,0.528910425432497,1.1698694771232991,-0.8764687758536519,0.9648874484537752,0.9583079235422147,-0.4677544928787285,-1.76944414354469,0.3293468879804715,3.0592510895306484,0.287145383741864,-0.6182634384873641,0.23291094600947723,0.6984142428993263,0.46667676824662685,1.1929634268882765,0.8960450590152582,-0.4668953913993217,-0.2625586797308798,-0.08314992850791071,-0.47431853510305966,0.48683585232534143,1.9915587879980674,0.847409379660996,1.2032821110247556,0.0731334551143764,0.20911279275548394,0.7538630258275114,0.08833443228860614,-0.9043075198852949,-1.0158868611498866,0.7147232467054212,0.7354942823115364],\"yaxis\":\"y13\",\"type\":\"scatter\"},{\"line\":{\"color\":\"rgba(128, 128, 128, 1.0)\",\"dash\":\"solid\",\"shape\":\"linear\",\"width\":1.3},\"marker\":{\"size\":2,\"symbol\":\"circle\"},\"mode\":\"markers\",\"name\":\"D\",\"text\":\"\",\"x\":[0.03354789955792382,0.8070604927554935,-0.20541484675194602,1.4129841433086383,1.9008318459139721,0.09300179845913471,0.5736886980820219,-0.19687274864419568,0.6281570041414841,0.7239231301056195,1.7173841614342737,1.3988000668176435,-0.8184742870915912,0.8967890017662526,-0.9153149454880518,-1.1625286021506622,0.27044631838323935,0.17279082609833252,-0.4838988802454175,-0.1985370723300537,0.45925580298117624,-0.466204510726407,-1.1902078376153176,-1.9423008579291474,0.17112423404743934,-0.8855102151597386,-0.06814690123720969,0.007010359856248485,-1.137822077002745,-2.308475853373866,-1.4624081721848106,-2.3647837278310138,-0.04945163262821755,-1.2724024016855202,-0.18420164801720115,0.4937061618303972,0.8033638747875229,-0.5036382720105074,0.8650082134002659,1.3913484083238983,-0.20620902568661237,0.25801694867934716,1.2157655167065369,1.3728410412263647,-0.8789152030004874,2.732310897045035,-1.3190874577850344,1.397284606765221,-0.278408549922117,1.6045608853438653,0.4205862015249162,0.24586301293823862,-0.1624515223851526,0.004887071810461409,-0.3569192879972979,0.6108006930348017,0.5384132600405072,1.1870638570610101,-0.8103379700987837,1.025975673439183,-0.4868784353162769,1.099447359391673,2.126150863729017,-0.8853264199162242,-0.3906919892588175,0.7644501291980417,-0.33172508223653285,-1.673993229937289,0.7820730124854408,0.25078668823209227,0.060357828532477814,0.7135707361779056,1.9964468811846894,0.15720488025605775,-0.2914659228838468,0.5161998499046359,-1.2785898286810256,1.4256047826992324,0.7069658123112345,1.8546235482138067,1.3346021424253542,1.1148461334157418,0.026985915141145175,1.397096502991006,2.045547530911009,1.2087274247672462,-0.02902799114594827,0.013673037218682812,-0.7223314143978876,-0.19675613251686933,0.19737307211466443,1.8029377596310276,-0.5129101312888362,1.9020237049129,0.5392281905319504,-1.5195104524428904,0.45090724709228314,-0.4605983828812109,0.8367771087907409,0.4522326050616165],\"xaxis\":\"x14\",\"y\":[-1.2161176582357354,-0.12863284311431158,-2.298687363462328,0.28959636093595725,-0.7246255581238169,0.24498833446883608,1.0435180837318598,0.9105198724178482,0.12046775656811216,0.001045645582807576,0.24220784184161495,1.5898001614762565,0.6876512522271132,-0.03230315841728312,-0.3814995439381174,-0.5134324788502349,2.2561301375592597,-0.7669051369956381,-0.29939491794593953,-0.5868531070944372,0.1564747034944148,0.33812146361678314,-0.92777461790032,-0.2561779312891647,1.1321561472113089,-1.521624788830427,-0.10578492697862925,1.2528957251106014,0.31858334971281027,-0.6447269293766716,-0.16025998833187238,2.3866030669832057,-1.7129902727281132,0.7785984320469583,-0.6115944224731991,0.749970156290634,-0.6562576333886874,0.8813294570909459,0.9695967440466924,0.8925738209712588,-0.7793199241066547,-2.2866317157899436,0.31904550971387846,1.0126715470137597,0.7547102834564094,2.599890602061509,0.6823245967602878,-0.1372138229279569,-0.1807508933522096,-0.676618381731523,0.4741833456519362,-0.10564453918929545,0.2882816775361528,1.237038025980705,-0.19289648009289254,-0.8804086186836066,-1.6468181830690687,-0.8823675536084618,-2.910164088912495,0.8463497751337671,0.9298513207433153,0.37185374938785576,1.8927267937363947,2.2266953049171283,-0.4750157170211832,-0.08709822071199674,-1.1665419602002338,0.9458844620855422,0.528910425432497,1.1698694771232991,-0.8764687758536519,0.9648874484537752,0.9583079235422147,-0.4677544928787285,-1.76944414354469,0.3293468879804715,3.0592510895306484,0.287145383741864,-0.6182634384873641,0.23291094600947723,0.6984142428993263,0.46667676824662685,1.1929634268882765,0.8960450590152582,-0.4668953913993217,-0.2625586797308798,-0.08314992850791071,-0.47431853510305966,0.48683585232534143,1.9915587879980674,0.847409379660996,1.2032821110247556,0.0731334551143764,0.20911279275548394,0.7538630258275114,0.08833443228860614,-0.9043075198852949,-1.0158868611498866,0.7147232467054212,0.7354942823115364],\"yaxis\":\"y14\",\"type\":\"scatter\"},{\"line\":{\"color\":\"rgba(128, 128, 128, 1.0)\",\"dash\":\"solid\",\"shape\":\"linear\",\"width\":1.3},\"marker\":{\"size\":2,\"symbol\":\"circle\"},\"mode\":\"markers\",\"name\":\"D\",\"text\":\"\",\"x\":[0.005820026315235889,-0.944252919775402,-1.0492272328413648,0.22757054265445817,1.3777527492775783,-0.3489891370565893,0.44483703810824815,0.22303942724877285,-0.22881401479458185,0.6798059058144068,0.18454890869296758,-0.7429996997754517,-0.3150553275072614,0.6696838774410224,0.08971821990446563,-0.42078443345254213,-1.805350538008814,-0.5474542341282794,-2.640802056449358,0.29380406391663294,-0.5973603189213698,-0.8373122602203762,0.7911481136573829,1.3612366390345785,0.3260243510315011,-0.4381030244611688,-0.5183108164385883,0.575393066106595,0.002261293668035416,0.9480312712016943,-1.2518700264626437,-0.8636678495397886,0.1828220938574215,0.4651131859911088,0.6600216055864502,-0.35580438892131067,-0.28642366363561245,-1.0840761390606588,0.3713304208912552,-1.2284361640922536,0.9686348277002187,1.3296732876776354,1.177937948942286,0.39965380388345095,-1.4122223568957806,-0.176116020072892,1.138709732872558,0.35351407573453175,-0.5414400307940884,-0.07162348918388448,-1.2162767417108231,0.7123174537161838,-1.028955460810404,0.6156977305294409,1.178058898104863,0.0377000609650166,-1.3230000941088274,2.037772260676816,1.1490198058614232,-0.8536579018943958,0.30841573406451267,0.2254774591549979,0.4682975588086075,0.437699098955465,0.7709299476036803,1.3701566477949783,-1.0016567278174484,-0.028441481653694128,1.0801540051188552,0.5285911737990813,0.021650992628812524,-1.373511680614175,0.8183418801812649,1.7337369519516643,0.8938198365706271,0.4407902101656733,-0.5053911283601059,-1.9408740723430784,0.6732190978860576,0.09154499420627218,1.2327283294517688,0.17262182684022867,0.34415223930326977,1.7428745760179878,-2.0312787609735263,0.654249937369822,0.10880300326304189,0.44987552934980357,-0.24137878303951626,0.0072028249462114165,-0.7928376290036848,0.4196989942621943,0.6329049798142696,-0.20733444657212877,-0.9271172539059707,0.3250276542830719,0.3409165518651384,-1.115775977352867,0.34254224820018225,0.07045933383035928],\"xaxis\":\"x15\",\"y\":[-1.2161176582357354,-0.12863284311431158,-2.298687363462328,0.28959636093595725,-0.7246255581238169,0.24498833446883608,1.0435180837318598,0.9105198724178482,0.12046775656811216,0.001045645582807576,0.24220784184161495,1.5898001614762565,0.6876512522271132,-0.03230315841728312,-0.3814995439381174,-0.5134324788502349,2.2561301375592597,-0.7669051369956381,-0.29939491794593953,-0.5868531070944372,0.1564747034944148,0.33812146361678314,-0.92777461790032,-0.2561779312891647,1.1321561472113089,-1.521624788830427,-0.10578492697862925,1.2528957251106014,0.31858334971281027,-0.6447269293766716,-0.16025998833187238,2.3866030669832057,-1.7129902727281132,0.7785984320469583,-0.6115944224731991,0.749970156290634,-0.6562576333886874,0.8813294570909459,0.9695967440466924,0.8925738209712588,-0.7793199241066547,-2.2866317157899436,0.31904550971387846,1.0126715470137597,0.7547102834564094,2.599890602061509,0.6823245967602878,-0.1372138229279569,-0.1807508933522096,-0.676618381731523,0.4741833456519362,-0.10564453918929545,0.2882816775361528,1.237038025980705,-0.19289648009289254,-0.8804086186836066,-1.6468181830690687,-0.8823675536084618,-2.910164088912495,0.8463497751337671,0.9298513207433153,0.37185374938785576,1.8927267937363947,2.2266953049171283,-0.4750157170211832,-0.08709822071199674,-1.1665419602002338,0.9458844620855422,0.528910425432497,1.1698694771232991,-0.8764687758536519,0.9648874484537752,0.9583079235422147,-0.4677544928787285,-1.76944414354469,0.3293468879804715,3.0592510895306484,0.287145383741864,-0.6182634384873641,0.23291094600947723,0.6984142428993263,0.46667676824662685,1.1929634268882765,0.8960450590152582,-0.4668953913993217,-0.2625586797308798,-0.08314992850791071,-0.47431853510305966,0.48683585232534143,1.9915587879980674,0.847409379660996,1.2032821110247556,0.0731334551143764,0.20911279275548394,0.7538630258275114,0.08833443228860614,-0.9043075198852949,-1.0158868611498866,0.7147232467054212,0.7354942823115364],\"yaxis\":\"y15\",\"type\":\"scatter\"},{\"histfunc\":\"count\",\"histnorm\":\"\",\"marker\":{\"color\":\"rgba(128, 0, 128, 1.0)\",\"line\":{\"color\":\"#4D5663\",\"width\":1.3}},\"name\":\"D\",\"nbinsx\":10,\"opacity\":0.8,\"orientation\":\"v\",\"x\":[-1.2161176582357354,-0.12863284311431158,-2.298687363462328,0.28959636093595725,-0.7246255581238169,0.24498833446883608,1.0435180837318598,0.9105198724178482,0.12046775656811216,0.001045645582807576,0.24220784184161495,1.5898001614762565,0.6876512522271132,-0.03230315841728312,-0.3814995439381174,-0.5134324788502349,2.2561301375592597,-0.7669051369956381,-0.29939491794593953,-0.5868531070944372,0.1564747034944148,0.33812146361678314,-0.92777461790032,-0.2561779312891647,1.1321561472113089,-1.521624788830427,-0.10578492697862925,1.2528957251106014,0.31858334971281027,-0.6447269293766716,-0.16025998833187238,2.3866030669832057,-1.7129902727281132,0.7785984320469583,-0.6115944224731991,0.749970156290634,-0.6562576333886874,0.8813294570909459,0.9695967440466924,0.8925738209712588,-0.7793199241066547,-2.2866317157899436,0.31904550971387846,1.0126715470137597,0.7547102834564094,2.599890602061509,0.6823245967602878,-0.1372138229279569,-0.1807508933522096,-0.676618381731523,0.4741833456519362,-0.10564453918929545,0.2882816775361528,1.237038025980705,-0.19289648009289254,-0.8804086186836066,-1.6468181830690687,-0.8823675536084618,-2.910164088912495,0.8463497751337671,0.9298513207433153,0.37185374938785576,1.8927267937363947,2.2266953049171283,-0.4750157170211832,-0.08709822071199674,-1.1665419602002338,0.9458844620855422,0.528910425432497,1.1698694771232991,-0.8764687758536519,0.9648874484537752,0.9583079235422147,-0.4677544928787285,-1.76944414354469,0.3293468879804715,3.0592510895306484,0.287145383741864,-0.6182634384873641,0.23291094600947723,0.6984142428993263,0.46667676824662685,1.1929634268882765,0.8960450590152582,-0.4668953913993217,-0.2625586797308798,-0.08314992850791071,-0.47431853510305966,0.48683585232534143,1.9915587879980674,0.847409379660996,1.2032821110247556,0.0731334551143764,0.20911279275548394,0.7538630258275114,0.08833443228860614,-0.9043075198852949,-1.0158868611498866,0.7147232467054212,0.7354942823115364],\"xaxis\":\"x16\",\"yaxis\":\"y16\",\"type\":\"histogram\"}],                        {\"bargap\":0.02,\"legend\":{\"bgcolor\":\"#F5F6F9\",\"font\":{\"color\":\"#4D5663\"}},\"paper_bgcolor\":\"#F5F6F9\",\"plot_bgcolor\":\"#F5F6F9\",\"showlegend\":false,\"template\":{\"data\":{\"barpolar\":[{\"marker\":{\"line\":{\"color\":\"#E5ECF6\",\"width\":0.5},\"pattern\":{\"fillmode\":\"overlay\",\"size\":10,\"solidity\":0.2}},\"type\":\"barpolar\"}],\"bar\":[{\"error_x\":{\"color\":\"#2a3f5f\"},\"error_y\":{\"color\":\"#2a3f5f\"},\"marker\":{\"line\":{\"color\":\"#E5ECF6\",\"width\":0.5},\"pattern\":{\"fillmode\":\"overlay\",\"size\":10,\"solidity\":0.2}},\"type\":\"bar\"}],\"carpet\":[{\"aaxis\":{\"endlinecolor\":\"#2a3f5f\",\"gridcolor\":\"white\",\"linecolor\":\"white\",\"minorgridcolor\":\"white\",\"startlinecolor\":\"#2a3f5f\"},\"baxis\":{\"endlinecolor\":\"#2a3f5f\",\"gridcolor\":\"white\",\"linecolor\":\"white\",\"minorgridcolor\":\"white\",\"startlinecolor\":\"#2a3f5f\"},\"type\":\"carpet\"}],\"choropleth\":[{\"colorbar\":{\"outlinewidth\":0,\"ticks\":\"\"},\"type\":\"choropleth\"}],\"contourcarpet\":[{\"colorbar\":{\"outlinewidth\":0,\"ticks\":\"\"},\"type\":\"contourcarpet\"}],\"contour\":[{\"colorbar\":{\"outlinewidth\":0,\"ticks\":\"\"},\"colorscale\":[[0.0,\"#0d0887\"],[0.1111111111111111,\"#46039f\"],[0.2222222222222222,\"#7201a8\"],[0.3333333333333333,\"#9c179e\"],[0.4444444444444444,\"#bd3786\"],[0.5555555555555556,\"#d8576b\"],[0.6666666666666666,\"#ed7953\"],[0.7777777777777778,\"#fb9f3a\"],[0.8888888888888888,\"#fdca26\"],[1.0,\"#f0f921\"]],\"type\":\"contour\"}],\"heatmapgl\":[{\"colorbar\":{\"outlinewidth\":0,\"ticks\":\"\"},\"colorscale\":[[0.0,\"#0d0887\"],[0.1111111111111111,\"#46039f\"],[0.2222222222222222,\"#7201a8\"],[0.3333333333333333,\"#9c179e\"],[0.4444444444444444,\"#bd3786\"],[0.5555555555555556,\"#d8576b\"],[0.6666666666666666,\"#ed7953\"],[0.7777777777777778,\"#fb9f3a\"],[0.8888888888888888,\"#fdca26\"],[1.0,\"#f0f921\"]],\"type\":\"heatmapgl\"}],\"heatmap\":[{\"colorbar\":{\"outlinewidth\":0,\"ticks\":\"\"},\"colorscale\":[[0.0,\"#0d0887\"],[0.1111111111111111,\"#46039f\"],[0.2222222222222222,\"#7201a8\"],[0.3333333333333333,\"#9c179e\"],[0.4444444444444444,\"#bd3786\"],[0.5555555555555556,\"#d8576b\"],[0.6666666666666666,\"#ed7953\"],[0.7777777777777778,\"#fb9f3a\"],[0.8888888888888888,\"#fdca26\"],[1.0,\"#f0f921\"]],\"type\":\"heatmap\"}],\"histogram2dcontour\":[{\"colorbar\":{\"outlinewidth\":0,\"ticks\":\"\"},\"colorscale\":[[0.0,\"#0d0887\"],[0.1111111111111111,\"#46039f\"],[0.2222222222222222,\"#7201a8\"],[0.3333333333333333,\"#9c179e\"],[0.4444444444444444,\"#bd3786\"],[0.5555555555555556,\"#d8576b\"],[0.6666666666666666,\"#ed7953\"],[0.7777777777777778,\"#fb9f3a\"],[0.8888888888888888,\"#fdca26\"],[1.0,\"#f0f921\"]],\"type\":\"histogram2dcontour\"}],\"histogram2d\":[{\"colorbar\":{\"outlinewidth\":0,\"ticks\":\"\"},\"colorscale\":[[0.0,\"#0d0887\"],[0.1111111111111111,\"#46039f\"],[0.2222222222222222,\"#7201a8\"],[0.3333333333333333,\"#9c179e\"],[0.4444444444444444,\"#bd3786\"],[0.5555555555555556,\"#d8576b\"],[0.6666666666666666,\"#ed7953\"],[0.7777777777777778,\"#fb9f3a\"],[0.8888888888888888,\"#fdca26\"],[1.0,\"#f0f921\"]],\"type\":\"histogram2d\"}],\"histogram\":[{\"marker\":{\"pattern\":{\"fillmode\":\"overlay\",\"size\":10,\"solidity\":0.2}},\"type\":\"histogram\"}],\"mesh3d\":[{\"colorbar\":{\"outlinewidth\":0,\"ticks\":\"\"},\"type\":\"mesh3d\"}],\"parcoords\":[{\"line\":{\"colorbar\":{\"outlinewidth\":0,\"ticks\":\"\"}},\"type\":\"parcoords\"}],\"pie\":[{\"automargin\":true,\"type\":\"pie\"}],\"scatter3d\":[{\"line\":{\"colorbar\":{\"outlinewidth\":0,\"ticks\":\"\"}},\"marker\":{\"colorbar\":{\"outlinewidth\":0,\"ticks\":\"\"}},\"type\":\"scatter3d\"}],\"scattercarpet\":[{\"marker\":{\"colorbar\":{\"outlinewidth\":0,\"ticks\":\"\"}},\"type\":\"scattercarpet\"}],\"scattergeo\":[{\"marker\":{\"colorbar\":{\"outlinewidth\":0,\"ticks\":\"\"}},\"type\":\"scattergeo\"}],\"scattergl\":[{\"marker\":{\"colorbar\":{\"outlinewidth\":0,\"ticks\":\"\"}},\"type\":\"scattergl\"}],\"scattermapbox\":[{\"marker\":{\"colorbar\":{\"outlinewidth\":0,\"ticks\":\"\"}},\"type\":\"scattermapbox\"}],\"scatterpolargl\":[{\"marker\":{\"colorbar\":{\"outlinewidth\":0,\"ticks\":\"\"}},\"type\":\"scatterpolargl\"}],\"scatterpolar\":[{\"marker\":{\"colorbar\":{\"outlinewidth\":0,\"ticks\":\"\"}},\"type\":\"scatterpolar\"}],\"scatter\":[{\"marker\":{\"colorbar\":{\"outlinewidth\":0,\"ticks\":\"\"}},\"type\":\"scatter\"}],\"scatterternary\":[{\"marker\":{\"colorbar\":{\"outlinewidth\":0,\"ticks\":\"\"}},\"type\":\"scatterternary\"}],\"surface\":[{\"colorbar\":{\"outlinewidth\":0,\"ticks\":\"\"},\"colorscale\":[[0.0,\"#0d0887\"],[0.1111111111111111,\"#46039f\"],[0.2222222222222222,\"#7201a8\"],[0.3333333333333333,\"#9c179e\"],[0.4444444444444444,\"#bd3786\"],[0.5555555555555556,\"#d8576b\"],[0.6666666666666666,\"#ed7953\"],[0.7777777777777778,\"#fb9f3a\"],[0.8888888888888888,\"#fdca26\"],[1.0,\"#f0f921\"]],\"type\":\"surface\"}],\"table\":[{\"cells\":{\"fill\":{\"color\":\"#EBF0F8\"},\"line\":{\"color\":\"white\"}},\"header\":{\"fill\":{\"color\":\"#C8D4E3\"},\"line\":{\"color\":\"white\"}},\"type\":\"table\"}]},\"layout\":{\"annotationdefaults\":{\"arrowcolor\":\"#2a3f5f\",\"arrowhead\":0,\"arrowwidth\":1},\"autotypenumbers\":\"strict\",\"coloraxis\":{\"colorbar\":{\"outlinewidth\":0,\"ticks\":\"\"}},\"colorscale\":{\"diverging\":[[0,\"#8e0152\"],[0.1,\"#c51b7d\"],[0.2,\"#de77ae\"],[0.3,\"#f1b6da\"],[0.4,\"#fde0ef\"],[0.5,\"#f7f7f7\"],[0.6,\"#e6f5d0\"],[0.7,\"#b8e186\"],[0.8,\"#7fbc41\"],[0.9,\"#4d9221\"],[1,\"#276419\"]],\"sequential\":[[0.0,\"#0d0887\"],[0.1111111111111111,\"#46039f\"],[0.2222222222222222,\"#7201a8\"],[0.3333333333333333,\"#9c179e\"],[0.4444444444444444,\"#bd3786\"],[0.5555555555555556,\"#d8576b\"],[0.6666666666666666,\"#ed7953\"],[0.7777777777777778,\"#fb9f3a\"],[0.8888888888888888,\"#fdca26\"],[1.0,\"#f0f921\"]],\"sequentialminus\":[[0.0,\"#0d0887\"],[0.1111111111111111,\"#46039f\"],[0.2222222222222222,\"#7201a8\"],[0.3333333333333333,\"#9c179e\"],[0.4444444444444444,\"#bd3786\"],[0.5555555555555556,\"#d8576b\"],[0.6666666666666666,\"#ed7953\"],[0.7777777777777778,\"#fb9f3a\"],[0.8888888888888888,\"#fdca26\"],[1.0,\"#f0f921\"]]},\"colorway\":[\"#636efa\",\"#EF553B\",\"#00cc96\",\"#ab63fa\",\"#FFA15A\",\"#19d3f3\",\"#FF6692\",\"#B6E880\",\"#FF97FF\",\"#FECB52\"],\"font\":{\"color\":\"#2a3f5f\"},\"geo\":{\"bgcolor\":\"white\",\"lakecolor\":\"white\",\"landcolor\":\"#E5ECF6\",\"showlakes\":true,\"showland\":true,\"subunitcolor\":\"white\"},\"hoverlabel\":{\"align\":\"left\"},\"hovermode\":\"closest\",\"mapbox\":{\"style\":\"light\"},\"paper_bgcolor\":\"white\",\"plot_bgcolor\":\"#E5ECF6\",\"polar\":{\"angularaxis\":{\"gridcolor\":\"white\",\"linecolor\":\"white\",\"ticks\":\"\"},\"bgcolor\":\"#E5ECF6\",\"radialaxis\":{\"gridcolor\":\"white\",\"linecolor\":\"white\",\"ticks\":\"\"}},\"scene\":{\"xaxis\":{\"backgroundcolor\":\"#E5ECF6\",\"gridcolor\":\"white\",\"gridwidth\":2,\"linecolor\":\"white\",\"showbackground\":true,\"ticks\":\"\",\"zerolinecolor\":\"white\"},\"yaxis\":{\"backgroundcolor\":\"#E5ECF6\",\"gridcolor\":\"white\",\"gridwidth\":2,\"linecolor\":\"white\",\"showbackground\":true,\"ticks\":\"\",\"zerolinecolor\":\"white\"},\"zaxis\":{\"backgroundcolor\":\"#E5ECF6\",\"gridcolor\":\"white\",\"gridwidth\":2,\"linecolor\":\"white\",\"showbackground\":true,\"ticks\":\"\",\"zerolinecolor\":\"white\"}},\"shapedefaults\":{\"line\":{\"color\":\"#2a3f5f\"}},\"ternary\":{\"aaxis\":{\"gridcolor\":\"white\",\"linecolor\":\"white\",\"ticks\":\"\"},\"baxis\":{\"gridcolor\":\"white\",\"linecolor\":\"white\",\"ticks\":\"\"},\"bgcolor\":\"#E5ECF6\",\"caxis\":{\"gridcolor\":\"white\",\"linecolor\":\"white\",\"ticks\":\"\"}},\"title\":{\"x\":0.05},\"xaxis\":{\"automargin\":true,\"gridcolor\":\"white\",\"linecolor\":\"white\",\"ticks\":\"\",\"title\":{\"standoff\":15},\"zerolinecolor\":\"white\",\"zerolinewidth\":2},\"yaxis\":{\"automargin\":true,\"gridcolor\":\"white\",\"linecolor\":\"white\",\"ticks\":\"\",\"title\":{\"standoff\":15},\"zerolinecolor\":\"white\",\"zerolinewidth\":2}}},\"title\":{\"font\":{\"color\":\"#4D5663\"}},\"xaxis\":{\"anchor\":\"y\",\"domain\":[0.0,0.2125],\"gridcolor\":\"#E1E5ED\",\"showgrid\":false,\"tickfont\":{\"color\":\"#4D5663\"},\"title\":{\"font\":{\"color\":\"#4D5663\"},\"text\":\"\"},\"zerolinecolor\":\"#E1E5ED\"},\"yaxis\":{\"anchor\":\"x\",\"domain\":[0.8025,1.0],\"gridcolor\":\"#E1E5ED\",\"showgrid\":false,\"tickfont\":{\"color\":\"#4D5663\"},\"title\":{\"font\":{\"color\":\"#4D5663\"},\"text\":\"\"},\"zerolinecolor\":\"#E1E5ED\"},\"xaxis2\":{\"anchor\":\"y2\",\"domain\":[0.2625,0.475],\"gridcolor\":\"#E1E5ED\",\"showgrid\":false,\"tickfont\":{\"color\":\"#4D5663\"},\"title\":{\"font\":{\"color\":\"#4D5663\"},\"text\":\"\"},\"zerolinecolor\":\"#E1E5ED\"},\"yaxis2\":{\"anchor\":\"x2\",\"domain\":[0.8025,1.0],\"gridcolor\":\"#E1E5ED\",\"showgrid\":false,\"tickfont\":{\"color\":\"#4D5663\"},\"title\":{\"font\":{\"color\":\"#4D5663\"},\"text\":\"\"},\"zerolinecolor\":\"#E1E5ED\"},\"xaxis3\":{\"anchor\":\"y3\",\"domain\":[0.525,0.7375],\"gridcolor\":\"#E1E5ED\",\"showgrid\":false,\"tickfont\":{\"color\":\"#4D5663\"},\"title\":{\"font\":{\"color\":\"#4D5663\"},\"text\":\"\"},\"zerolinecolor\":\"#E1E5ED\"},\"yaxis3\":{\"anchor\":\"x3\",\"domain\":[0.8025,1.0],\"gridcolor\":\"#E1E5ED\",\"showgrid\":false,\"tickfont\":{\"color\":\"#4D5663\"},\"title\":{\"font\":{\"color\":\"#4D5663\"},\"text\":\"\"},\"zerolinecolor\":\"#E1E5ED\"},\"xaxis4\":{\"anchor\":\"y4\",\"domain\":[0.7875,1.0],\"gridcolor\":\"#E1E5ED\",\"showgrid\":false,\"tickfont\":{\"color\":\"#4D5663\"},\"title\":{\"font\":{\"color\":\"#4D5663\"},\"text\":\"\"},\"zerolinecolor\":\"#E1E5ED\"},\"yaxis4\":{\"anchor\":\"x4\",\"domain\":[0.8025,1.0],\"gridcolor\":\"#E1E5ED\",\"showgrid\":false,\"tickfont\":{\"color\":\"#4D5663\"},\"title\":{\"font\":{\"color\":\"#4D5663\"},\"text\":\"\"},\"zerolinecolor\":\"#E1E5ED\"},\"xaxis5\":{\"anchor\":\"y5\",\"domain\":[0.0,0.2125],\"gridcolor\":\"#E1E5ED\",\"showgrid\":false,\"tickfont\":{\"color\":\"#4D5663\"},\"title\":{\"font\":{\"color\":\"#4D5663\"},\"text\":\"\"},\"zerolinecolor\":\"#E1E5ED\"},\"yaxis5\":{\"anchor\":\"x5\",\"domain\":[0.535,0.7325],\"gridcolor\":\"#E1E5ED\",\"showgrid\":false,\"tickfont\":{\"color\":\"#4D5663\"},\"title\":{\"font\":{\"color\":\"#4D5663\"},\"text\":\"\"},\"zerolinecolor\":\"#E1E5ED\"},\"xaxis6\":{\"anchor\":\"y6\",\"domain\":[0.2625,0.475],\"gridcolor\":\"#E1E5ED\",\"showgrid\":false,\"tickfont\":{\"color\":\"#4D5663\"},\"title\":{\"font\":{\"color\":\"#4D5663\"},\"text\":\"\"},\"zerolinecolor\":\"#E1E5ED\"},\"yaxis6\":{\"anchor\":\"x6\",\"domain\":[0.535,0.7325],\"gridcolor\":\"#E1E5ED\",\"showgrid\":false,\"tickfont\":{\"color\":\"#4D5663\"},\"title\":{\"font\":{\"color\":\"#4D5663\"},\"text\":\"\"},\"zerolinecolor\":\"#E1E5ED\"},\"xaxis7\":{\"anchor\":\"y7\",\"domain\":[0.525,0.7375],\"gridcolor\":\"#E1E5ED\",\"showgrid\":false,\"tickfont\":{\"color\":\"#4D5663\"},\"title\":{\"font\":{\"color\":\"#4D5663\"},\"text\":\"\"},\"zerolinecolor\":\"#E1E5ED\"},\"yaxis7\":{\"anchor\":\"x7\",\"domain\":[0.535,0.7325],\"gridcolor\":\"#E1E5ED\",\"showgrid\":false,\"tickfont\":{\"color\":\"#4D5663\"},\"title\":{\"font\":{\"color\":\"#4D5663\"},\"text\":\"\"},\"zerolinecolor\":\"#E1E5ED\"},\"xaxis8\":{\"anchor\":\"y8\",\"domain\":[0.7875,1.0],\"gridcolor\":\"#E1E5ED\",\"showgrid\":false,\"tickfont\":{\"color\":\"#4D5663\"},\"title\":{\"font\":{\"color\":\"#4D5663\"},\"text\":\"\"},\"zerolinecolor\":\"#E1E5ED\"},\"yaxis8\":{\"anchor\":\"x8\",\"domain\":[0.535,0.7325],\"gridcolor\":\"#E1E5ED\",\"showgrid\":false,\"tickfont\":{\"color\":\"#4D5663\"},\"title\":{\"font\":{\"color\":\"#4D5663\"},\"text\":\"\"},\"zerolinecolor\":\"#E1E5ED\"},\"xaxis9\":{\"anchor\":\"y9\",\"domain\":[0.0,0.2125],\"gridcolor\":\"#E1E5ED\",\"showgrid\":false,\"tickfont\":{\"color\":\"#4D5663\"},\"title\":{\"font\":{\"color\":\"#4D5663\"},\"text\":\"\"},\"zerolinecolor\":\"#E1E5ED\"},\"yaxis9\":{\"anchor\":\"x9\",\"domain\":[0.2675,0.465],\"gridcolor\":\"#E1E5ED\",\"showgrid\":false,\"tickfont\":{\"color\":\"#4D5663\"},\"title\":{\"font\":{\"color\":\"#4D5663\"},\"text\":\"\"},\"zerolinecolor\":\"#E1E5ED\"},\"xaxis10\":{\"anchor\":\"y10\",\"domain\":[0.2625,0.475],\"gridcolor\":\"#E1E5ED\",\"showgrid\":false,\"tickfont\":{\"color\":\"#4D5663\"},\"title\":{\"font\":{\"color\":\"#4D5663\"},\"text\":\"\"},\"zerolinecolor\":\"#E1E5ED\"},\"yaxis10\":{\"anchor\":\"x10\",\"domain\":[0.2675,0.465],\"gridcolor\":\"#E1E5ED\",\"showgrid\":false,\"tickfont\":{\"color\":\"#4D5663\"},\"title\":{\"font\":{\"color\":\"#4D5663\"},\"text\":\"\"},\"zerolinecolor\":\"#E1E5ED\"},\"xaxis11\":{\"anchor\":\"y11\",\"domain\":[0.525,0.7375],\"gridcolor\":\"#E1E5ED\",\"showgrid\":false,\"tickfont\":{\"color\":\"#4D5663\"},\"title\":{\"font\":{\"color\":\"#4D5663\"},\"text\":\"\"},\"zerolinecolor\":\"#E1E5ED\"},\"yaxis11\":{\"anchor\":\"x11\",\"domain\":[0.2675,0.465],\"gridcolor\":\"#E1E5ED\",\"showgrid\":false,\"tickfont\":{\"color\":\"#4D5663\"},\"title\":{\"font\":{\"color\":\"#4D5663\"},\"text\":\"\"},\"zerolinecolor\":\"#E1E5ED\"},\"xaxis12\":{\"anchor\":\"y12\",\"domain\":[0.7875,1.0],\"gridcolor\":\"#E1E5ED\",\"showgrid\":false,\"tickfont\":{\"color\":\"#4D5663\"},\"title\":{\"font\":{\"color\":\"#4D5663\"},\"text\":\"\"},\"zerolinecolor\":\"#E1E5ED\"},\"yaxis12\":{\"anchor\":\"x12\",\"domain\":[0.2675,0.465],\"gridcolor\":\"#E1E5ED\",\"showgrid\":false,\"tickfont\":{\"color\":\"#4D5663\"},\"title\":{\"font\":{\"color\":\"#4D5663\"},\"text\":\"\"},\"zerolinecolor\":\"#E1E5ED\"},\"xaxis13\":{\"anchor\":\"y13\",\"domain\":[0.0,0.2125],\"gridcolor\":\"#E1E5ED\",\"showgrid\":false,\"tickfont\":{\"color\":\"#4D5663\"},\"title\":{\"font\":{\"color\":\"#4D5663\"},\"text\":\"\"},\"zerolinecolor\":\"#E1E5ED\"},\"yaxis13\":{\"anchor\":\"x13\",\"domain\":[0.0,0.1975],\"gridcolor\":\"#E1E5ED\",\"showgrid\":false,\"tickfont\":{\"color\":\"#4D5663\"},\"title\":{\"font\":{\"color\":\"#4D5663\"},\"text\":\"\"},\"zerolinecolor\":\"#E1E5ED\"},\"xaxis14\":{\"anchor\":\"y14\",\"domain\":[0.2625,0.475],\"gridcolor\":\"#E1E5ED\",\"showgrid\":false,\"tickfont\":{\"color\":\"#4D5663\"},\"title\":{\"font\":{\"color\":\"#4D5663\"},\"text\":\"\"},\"zerolinecolor\":\"#E1E5ED\"},\"yaxis14\":{\"anchor\":\"x14\",\"domain\":[0.0,0.1975],\"gridcolor\":\"#E1E5ED\",\"showgrid\":false,\"tickfont\":{\"color\":\"#4D5663\"},\"title\":{\"font\":{\"color\":\"#4D5663\"},\"text\":\"\"},\"zerolinecolor\":\"#E1E5ED\"},\"xaxis15\":{\"anchor\":\"y15\",\"domain\":[0.525,0.7375],\"gridcolor\":\"#E1E5ED\",\"showgrid\":false,\"tickfont\":{\"color\":\"#4D5663\"},\"title\":{\"font\":{\"color\":\"#4D5663\"},\"text\":\"\"},\"zerolinecolor\":\"#E1E5ED\"},\"yaxis15\":{\"anchor\":\"x15\",\"domain\":[0.0,0.1975],\"gridcolor\":\"#E1E5ED\",\"showgrid\":false,\"tickfont\":{\"color\":\"#4D5663\"},\"title\":{\"font\":{\"color\":\"#4D5663\"},\"text\":\"\"},\"zerolinecolor\":\"#E1E5ED\"},\"xaxis16\":{\"anchor\":\"y16\",\"domain\":[0.7875,1.0],\"gridcolor\":\"#E1E5ED\",\"showgrid\":false,\"tickfont\":{\"color\":\"#4D5663\"},\"title\":{\"font\":{\"color\":\"#4D5663\"},\"text\":\"\"},\"zerolinecolor\":\"#E1E5ED\"},\"yaxis16\":{\"anchor\":\"x16\",\"domain\":[0.0,0.1975],\"gridcolor\":\"#E1E5ED\",\"showgrid\":false,\"tickfont\":{\"color\":\"#4D5663\"},\"title\":{\"font\":{\"color\":\"#4D5663\"},\"text\":\"\"},\"zerolinecolor\":\"#E1E5ED\"}},                        {\"showLink\": true, \"linkText\": \"Export to plot.ly\", \"plotlyServerURL\": \"https://plot.ly\", \"responsive\": true}                    ).then(function(){\n",
       "                            \n",
       "var gd = document.getElementById('696766de-dfbd-44cc-a8e0-f086333dd536');\n",
       "var x = new MutationObserver(function (mutations, observer) {{\n",
       "        var display = window.getComputedStyle(gd).display;\n",
       "        if (!display || display === 'none') {{\n",
       "            console.log([gd, 'removed!']);\n",
       "            Plotly.purge(gd);\n",
       "            observer.disconnect();\n",
       "        }}\n",
       "}});\n",
       "\n",
       "// Listen for the removal of the full notebook cells\n",
       "var notebookContainer = gd.closest('#notebook-container');\n",
       "if (notebookContainer) {{\n",
       "    x.observe(notebookContainer, {childList: true});\n",
       "}}\n",
       "\n",
       "// Listen for the clearing of the current output cell\n",
       "var outputEl = gd.closest('.output');\n",
       "if (outputEl) {{\n",
       "    x.observe(outputEl, {childList: true});\n",
       "}}\n",
       "\n",
       "                        })                };                });            </script>        </div>"
      ]
     },
     "metadata": {},
     "output_type": "display_data"
    }
   ],
   "source": [
    "df.scatter_matrix()"
   ]
  },
  {
   "cell_type": "markdown",
   "metadata": {
    "collapsed": true
   },
   "source": [
    "# Great Job!"
   ]
  }
 ],
 "metadata": {
  "kernelspec": {
   "display_name": "Python 3 (ipykernel)",
   "language": "python",
   "name": "python3"
  },
  "language_info": {
   "codemirror_mode": {
    "name": "ipython",
    "version": 3
   },
   "file_extension": ".py",
   "mimetype": "text/x-python",
   "name": "python",
   "nbconvert_exporter": "python",
   "pygments_lexer": "ipython3",
   "version": "3.9.12"
  }
 },
 "nbformat": 4,
 "nbformat_minor": 1
}
