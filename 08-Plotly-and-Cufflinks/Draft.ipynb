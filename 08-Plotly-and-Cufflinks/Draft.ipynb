{
 "cells": [
  {
   "cell_type": "code",
   "execution_count": 6,
   "id": "f2346502",
   "metadata": {},
   "outputs": [],
   "source": [
    "import pandas as pd\n",
    "import numpy as np"
   ]
  },
  {
   "cell_type": "code",
   "execution_count": 7,
   "id": "20e94147",
   "metadata": {},
   "outputs": [],
   "source": [
    "from plotly import __version__"
   ]
  },
  {
   "cell_type": "code",
   "execution_count": 10,
   "id": "56759c92",
   "metadata": {},
   "outputs": [],
   "source": [
    "import cufflinks as cf"
   ]
  },
  {
   "cell_type": "code",
   "execution_count": 17,
   "id": "195de512",
   "metadata": {},
   "outputs": [],
   "source": [
    "from plotly.offline import download_plotlyjs, init_notebook_mode, plot, iplot"
   ]
  },
  {
   "cell_type": "markdown",
   "id": "89d7fe48",
   "metadata": {},
   "source": [
    "Plotly will essentially connect Pandas and Python to an interactive JavaScript library. The following code will allow notebook to access those visualizations."
   ]
  },
  {
   "cell_type": "code",
   "execution_count": 30,
   "id": "a6ac5dd5",
   "metadata": {},
   "outputs": [],
   "source": [
    "%matplotlib inline"
   ]
  },
  {
   "cell_type": "code",
   "execution_count": 18,
   "id": "183f5232",
   "metadata": {},
   "outputs": [
    {
     "data": {
      "text/html": [
       "        <script type=\"text/javascript\">\n",
       "        window.PlotlyConfig = {MathJaxConfig: 'local'};\n",
       "        if (window.MathJax) {MathJax.Hub.Config({SVG: {font: \"STIX-Web\"}});}\n",
       "        if (typeof require !== 'undefined') {\n",
       "        require.undef(\"plotly\");\n",
       "        requirejs.config({\n",
       "            paths: {\n",
       "                'plotly': ['https://cdn.plot.ly/plotly-2.9.0.min']\n",
       "            }\n",
       "        });\n",
       "        require(['plotly'], function(Plotly) {\n",
       "            window._Plotly = Plotly;\n",
       "        });\n",
       "        }\n",
       "        </script>\n",
       "        "
      ]
     },
     "metadata": {},
     "output_type": "display_data"
    }
   ],
   "source": [
    "# Connect JavaScript to the notebook\n",
    "init_notebook_mode(connected=True)"
   ]
  },
  {
   "cell_type": "code",
   "execution_count": 20,
   "id": "5c99dfe6",
   "metadata": {},
   "outputs": [
    {
     "data": {
      "text/html": [
       "        <script type=\"text/javascript\">\n",
       "        window.PlotlyConfig = {MathJaxConfig: 'local'};\n",
       "        if (window.MathJax) {MathJax.Hub.Config({SVG: {font: \"STIX-Web\"}});}\n",
       "        if (typeof require !== 'undefined') {\n",
       "        require.undef(\"plotly\");\n",
       "        requirejs.config({\n",
       "            paths: {\n",
       "                'plotly': ['https://cdn.plot.ly/plotly-2.9.0.min']\n",
       "            }\n",
       "        });\n",
       "        require(['plotly'], function(Plotly) {\n",
       "            window._Plotly = Plotly;\n",
       "        });\n",
       "        }\n",
       "        </script>\n",
       "        "
      ]
     },
     "metadata": {},
     "output_type": "display_data"
    }
   ],
   "source": [
    "# Allow cufflinks offline\n",
    "cf.go_offline()"
   ]
  },
  {
   "cell_type": "code",
   "execution_count": 22,
   "id": "d000443c",
   "metadata": {},
   "outputs": [],
   "source": [
    "df = pd.DataFrame(np.random.randn(100,4), columns='A B C D'.split())"
   ]
  },
  {
   "cell_type": "code",
   "execution_count": 23,
   "id": "3ad963ba",
   "metadata": {},
   "outputs": [
    {
     "data": {
      "text/html": [
       "<div>\n",
       "<style scoped>\n",
       "    .dataframe tbody tr th:only-of-type {\n",
       "        vertical-align: middle;\n",
       "    }\n",
       "\n",
       "    .dataframe tbody tr th {\n",
       "        vertical-align: top;\n",
       "    }\n",
       "\n",
       "    .dataframe thead th {\n",
       "        text-align: right;\n",
       "    }\n",
       "</style>\n",
       "<table border=\"1\" class=\"dataframe\">\n",
       "  <thead>\n",
       "    <tr style=\"text-align: right;\">\n",
       "      <th></th>\n",
       "      <th>A</th>\n",
       "      <th>B</th>\n",
       "      <th>C</th>\n",
       "      <th>D</th>\n",
       "    </tr>\n",
       "  </thead>\n",
       "  <tbody>\n",
       "    <tr>\n",
       "      <th>0</th>\n",
       "      <td>-0.612321</td>\n",
       "      <td>2.403373</td>\n",
       "      <td>0.468967</td>\n",
       "      <td>1.008596</td>\n",
       "    </tr>\n",
       "    <tr>\n",
       "      <th>1</th>\n",
       "      <td>1.359476</td>\n",
       "      <td>-0.318066</td>\n",
       "      <td>2.657662</td>\n",
       "      <td>-1.226975</td>\n",
       "    </tr>\n",
       "    <tr>\n",
       "      <th>2</th>\n",
       "      <td>0.715703</td>\n",
       "      <td>0.357565</td>\n",
       "      <td>-0.156954</td>\n",
       "      <td>-1.509799</td>\n",
       "    </tr>\n",
       "    <tr>\n",
       "      <th>3</th>\n",
       "      <td>0.742827</td>\n",
       "      <td>-0.110549</td>\n",
       "      <td>0.605265</td>\n",
       "      <td>-0.595725</td>\n",
       "    </tr>\n",
       "    <tr>\n",
       "      <th>4</th>\n",
       "      <td>1.438704</td>\n",
       "      <td>-1.989318</td>\n",
       "      <td>-0.705737</td>\n",
       "      <td>-0.957293</td>\n",
       "    </tr>\n",
       "  </tbody>\n",
       "</table>\n",
       "</div>"
      ],
      "text/plain": [
       "          A         B         C         D\n",
       "0 -0.612321  2.403373  0.468967  1.008596\n",
       "1  1.359476 -0.318066  2.657662 -1.226975\n",
       "2  0.715703  0.357565 -0.156954 -1.509799\n",
       "3  0.742827 -0.110549  0.605265 -0.595725\n",
       "4  1.438704 -1.989318 -0.705737 -0.957293"
      ]
     },
     "execution_count": 23,
     "metadata": {},
     "output_type": "execute_result"
    }
   ],
   "source": [
    "df.head()"
   ]
  },
  {
   "cell_type": "code",
   "execution_count": 25,
   "id": "fa5a0fd6",
   "metadata": {},
   "outputs": [],
   "source": [
    "df2 = pd.DataFrame({\n",
    "    'Category': ['A', 'B', 'C'],\n",
    "    'Values': [17, 25, 36]\n",
    "})"
   ]
  },
  {
   "cell_type": "code",
   "execution_count": 33,
   "id": "e2c4027e",
   "metadata": {},
   "outputs": [
    {
     "data": {
      "text/html": [
       "<div>\n",
       "<style scoped>\n",
       "    .dataframe tbody tr th:only-of-type {\n",
       "        vertical-align: middle;\n",
       "    }\n",
       "\n",
       "    .dataframe tbody tr th {\n",
       "        vertical-align: top;\n",
       "    }\n",
       "\n",
       "    .dataframe thead th {\n",
       "        text-align: right;\n",
       "    }\n",
       "</style>\n",
       "<table border=\"1\" class=\"dataframe\">\n",
       "  <thead>\n",
       "    <tr style=\"text-align: right;\">\n",
       "      <th></th>\n",
       "      <th>Category</th>\n",
       "      <th>Values</th>\n",
       "    </tr>\n",
       "  </thead>\n",
       "  <tbody>\n",
       "    <tr>\n",
       "      <th>0</th>\n",
       "      <td>A</td>\n",
       "      <td>17</td>\n",
       "    </tr>\n",
       "    <tr>\n",
       "      <th>1</th>\n",
       "      <td>B</td>\n",
       "      <td>25</td>\n",
       "    </tr>\n",
       "    <tr>\n",
       "      <th>2</th>\n",
       "      <td>C</td>\n",
       "      <td>36</td>\n",
       "    </tr>\n",
       "  </tbody>\n",
       "</table>\n",
       "</div>"
      ],
      "text/plain": [
       "  Category  Values\n",
       "0        A      17\n",
       "1        B      25\n",
       "2        C      36"
      ]
     },
     "execution_count": 33,
     "metadata": {},
     "output_type": "execute_result"
    }
   ],
   "source": [
    "df2"
   ]
  },
  {
   "cell_type": "code",
   "execution_count": 34,
   "id": "deb9c012",
   "metadata": {},
   "outputs": [
    {
     "data": {
      "text/plain": [
       "<AxesSubplot:>"
      ]
     },
     "execution_count": 34,
     "metadata": {},
     "output_type": "execute_result"
    },
    {
     "data": {
      "image/png": "[encoded data removed]",
      "text/plain": [
       "<Figure size 432x288 with 1 Axes>"
      ]
     },
     "metadata": {
      "needs_background": "light"
     },
     "output_type": "display_data"
    }
   ],
   "source": [
    "df.plot()"
   ]
  },
  {
   "cell_type": "code",
   "execution_count": 37,
   "id": "19e881c7",
   "metadata": {
    "scrolled": false
   },
   "outputs": [
    {
     "data": {
      "application/vnd.plotly.v1+json": {
       "config": {
        "linkText": "Export to plot.ly",
        "plotlyServerURL": "https://plot.ly",
        "showLink": true
       },
       "data": [
        {
         "line": {
          "color": "rgba(255, 153, 51, 1.0)",
          "dash": "solid",
          "shape": "linear",
          "width": 1.3
         },
         "mode": "lines",
         "name": "A",
         "text": "",
         "type": "scatter",
         "x": [
          0,
          1,
          2,
          3,
          4,
          5,
          6,
          7,
          8,
          9,
          10,
          11,
          12,
          13,
          14,
          15,
          16,
          17,
          18,
          19,
          20,
          21,
          22,
          23,
          24,
          25,
          26,
          27,
          28,
          29,
          30,
          31,
          32,
          33,
          34,
          35,
          36,
          37,
          38,
          39,
          40,
          41,
          42,
          43,
          44,
          45,
          46,
          47,
          48,
          49,
          50,
          51,
          52,
          53,
          54,
          55,
          56,
          57,
          58,
          59,
          60,
          61,
          62,
          63,
          64,
          65,
          66,
          67,
          68,
          69,
          70,
          71,
          72,
          73,
          74,
          75,
          76,
          77,
          78,
          79,
          80,
          81,
          82,
          83,
          84,
          85,
          86,
          87,
          88,
          89,
          90,
          91,
          92,
          93,
          94,
          95,
          96,
          97,
          98,
          99
         ],
         "y": [
          -0.6123213313638834,
          1.3594760586323038,
          0.7157028374769693,
          0.7428268604041767,
          1.4387038289767837,
          -0.18659775442196597,
          1.4732645597761136,
          -1.0063295388071447,
          1.056092961661525,
          -2.47632273602315,
          -0.635452318342618,
          -0.44341162530791667,
          0.8603466277919531,
          0.07446614932749684,
          -0.1331131522466488,
          0.9950176867120871,
          -0.6469853058251499,
          -0.8700113105706968,
          0.7451915965836442,
          1.0080729109461022,
          1.3612656769446707,
          -0.46388543466577953,
          -1.6252556434939562,
          -0.9321225459929191,
          0.16520721127913351,
          1.109035311807075,
          -0.17481458358740606,
          -1.624426672284938,
          -0.1702527952572121,
          0.5692071778213524,
          -1.8522429631266695,
          -1.8274075534861318,
          1.4467135685260804,
          -0.2566950458043969,
          -0.31473561434280445,
          -1.3924295664519903,
          -1.5183227401831643,
          1.100316191055605,
          -1.3243172550303042,
          0.934613326420437,
          0.5058253582807383,
          0.6925078253422744,
          1.9416032539843482,
          -1.1472736624868352,
          0.6738495664997504,
          -0.47737184536099964,
          -1.641216335191951,
          -0.13222458670586418,
          -0.709692601338341,
          1.0704070534135786,
          -0.35957829928635193,
          1.1347015745407685,
          1.7394557819272984,
          0.10648238319660469,
          -1.2104409774898166,
          -0.21935452937051048,
          -0.7209436501354658,
          -0.36707627095778994,
          -0.4137095293103209,
          -0.14202313507910364,
          1.2665388927529673,
          1.1194663999265804,
          -1.2425290334764583,
          0.39840737442666446,
          0.8945368981705608,
          -0.9571858944373809,
          -0.4633202776630124,
          -0.9712012233075042,
          0.7208776529585661,
          0.7438375746122489,
          -1.3026515735400312,
          1.004468713016441,
          -0.34401917264171356,
          0.37856579146205005,
          0.5766908858096895,
          0.14489140687254426,
          0.5030487355914735,
          0.16656440729662095,
          -1.044040712361414,
          1.3940344198410861,
          -1.8958614932946471,
          -1.598344342488547,
          0.619097265217185,
          1.1247773545002318,
          -0.7131652820603137,
          -0.7259441325114188,
          0.3783084614135404,
          0.953242635318946,
          -1.0865438738709796,
          1.0560252986180356,
          -0.9152623676229141,
          -0.47689637661425693,
          -1.5731089650479364,
          0.45657205749455,
          -0.011860036772261388,
          -0.7254513536108076,
          0.5454745770976296,
          -1.669814686271186,
          1.5393007948667181,
          0.28512201838580503
         ]
        },
        {
         "line": {
          "color": "rgba(55, 128, 191, 1.0)",
          "dash": "solid",
          "shape": "linear",
          "width": 1.3
         },
         "mode": "lines",
         "name": "B",
         "text": "",
         "type": "scatter",
         "x": [
          0,
          1,
          2,
          3,
          4,
          5,
          6,
          7,
          8,
          9,
          10,
          11,
          12,
          13,
          14,
          15,
          16,
          17,
          18,
          19,
          20,
          21,
          22,
          23,
          24,
          25,
          26,
          27,
          28,
          29,
          30,
          31,
          32,
          33,
          34,
          35,
          36,
          37,
          38,
          39,
          40,
          41,
          42,
          43,
          44,
          45,
          46,
          47,
          48,
          49,
          50,
          51,
          52,
          53,
          54,
          55,
          56,
          57,
          58,
          59,
          60,
          61,
          62,
          63,
          64,
          65,
          66,
          67,
          68,
          69,
          70,
          71,
          72,
          73,
          74,
          75,
          76,
          77,
          78,
          79,
          80,
          81,
          82,
          83,
          84,
          85,
          86,
          87,
          88,
          89,
          90,
          91,
          92,
          93,
          94,
          95,
          96,
          97,
          98,
          99
         ],
         "y": [
          2.4033726396064625,
          -0.3180661953813854,
          0.3575646009315945,
          -0.1105494946218425,
          -1.9893182998132442,
          0.12108998433814257,
          1.6231297492375656,
          -1.2060270018752517,
          -1.4763460598573717,
          -0.31605687258158366,
          -0.30143437365788345,
          -0.26399532166551437,
          0.9165050788909543,
          0.7736176343862297,
          0.9360968870348345,
          0.6558051320314173,
          -0.9571761584379436,
          -0.9924811564511132,
          0.7971918612956219,
          -0.37130794160576763,
          -0.2760754290236538,
          0.6900682486696768,
          1.5530644454787816,
          0.4313746272862494,
          0.606668375448992,
          -0.1678150518632239,
          -0.06562136516121853,
          1.1358032600451677,
          -1.555216491676847,
          2.3596114839686897,
          1.6849126218993657,
          -1.1076458633876247,
          0.19152751134038656,
          -2.418973945595888,
          0.46641748517612613,
          -0.21364558612811305,
          1.1480763571394446,
          0.059794594708253365,
          0.42198828304935004,
          -0.1278335244912023,
          -0.3434904890462654,
          0.6386561805665968,
          -0.14208161537358346,
          -0.21014682568625534,
          -1.1515120179039007,
          0.6423152244432342,
          0.5385251636516468,
          -1.2735301704460944,
          -0.9263130931462031,
          1.0528723780534726,
          1.398092729216517,
          0.7409688920291192,
          1.5330713382437804,
          1.2238886674459235,
          1.3021010010114673,
          0.9267666640747797,
          -1.0632816642972323,
          -0.853609509509939,
          1.4774215216322193,
          1.8375264582418434,
          1.2510879290725092,
          0.11877753746905721,
          1.0800394768582156,
          -1.31790521726136,
          -1.365923862710278,
          1.6836138765041453,
          -0.0050875497121913756,
          0.14030157148832426,
          -0.7439091480217016,
          0.3421569973368127,
          0.3176875279051301,
          -0.4658550524900476,
          1.5083142101265588,
          0.9342942058681324,
          0.038805998180403596,
          -0.5427143810390751,
          1.8653101105958274,
          0.9160042953261466,
          -0.7399792359271136,
          -1.3913613995497782,
          -1.3659709922367504,
          -1.7739464469938493,
          0.9790656864957751,
          -0.5645792416112951,
          1.3080798586746816,
          -0.3710346468680679,
          -0.3831733338661221,
          0.6690962928884536,
          0.5510184334158387,
          0.7638864171285927,
          0.7173354808699728,
          -0.7350903538128789,
          1.3679739533904145,
          -1.6310206244484406,
          -0.39313156746717626,
          0.026323629417493655,
          -1.7894767650578125,
          -0.7225163772056884,
          1.9078118752926256,
          0.7217442983989159
         ]
        },
        {
         "line": {
          "color": "rgba(50, 171, 96, 1.0)",
          "dash": "solid",
          "shape": "linear",
          "width": 1.3
         },
         "mode": "lines",
         "name": "C",
         "text": "",
         "type": "scatter",
         "x": [
          0,
          1,
          2,
          3,
          4,
          5,
          6,
          7,
          8,
          9,
          10,
          11,
          12,
          13,
          14,
          15,
          16,
          17,
          18,
          19,
          20,
          21,
          22,
          23,
          24,
          25,
          26,
          27,
          28,
          29,
          30,
          31,
          32,
          33,
          34,
          35,
          36,
          37,
          38,
          39,
          40,
          41,
          42,
          43,
          44,
          45,
          46,
          47,
          48,
          49,
          50,
          51,
          52,
          53,
          54,
          55,
          56,
          57,
          58,
          59,
          60,
          61,
          62,
          63,
          64,
          65,
          66,
          67,
          68,
          69,
          70,
          71,
          72,
          73,
          74,
          75,
          76,
          77,
          78,
          79,
          80,
          81,
          82,
          83,
          84,
          85,
          86,
          87,
          88,
          89,
          90,
          91,
          92,
          93,
          94,
          95,
          96,
          97,
          98,
          99
         ],
         "y": [
          0.4689665067580521,
          2.657661785631248,
          -0.15695404125640144,
          0.605265196825292,
          -0.7057374319212296,
          0.8444309653569217,
          0.7513210022146437,
          0.4307395998978597,
          1.0371730870237932,
          1.974103854421076,
          -1.1288760520237493,
          0.8055315230691629,
          -1.335601470526402,
          -0.028547479101887447,
          0.06747542495281443,
          -1.1309575553312143,
          1.6271698811106052,
          -0.8569455622264276,
          0.6456922933836641,
          1.6379346196809164,
          0.1806495115367449,
          0.14639348883989947,
          -1.3552736004820631,
          -0.119350727088024,
          -0.3563793145517163,
          -1.023983797537162,
          -1.2002930376860392,
          0.30540079810011533,
          -0.4761218790211993,
          0.24257472613728698,
          -0.3361720751310067,
          -1.846424890646746,
          -0.7748643511775507,
          -0.8618459502950332,
          2.1193450044927333,
          0.40496375514144517,
          -2.9377762864827,
          -1.8965821460469738,
          -0.48480046089468737,
          0.7483102482534699,
          1.6910057862337557,
          -1.233714975417407,
          0.06493475062118555,
          0.6392015128212213,
          -0.5899288328143886,
          -0.728572959023513,
          0.6113604849908908,
          1.2054338538568574,
          0.08020295162428227,
          2.041858302804547,
          1.4184034553585103,
          -0.1719830931621509,
          -0.6949916357107848,
          -1.978855890551208,
          0.6257545974595368,
          0.8632133760671598,
          -0.5976588697599662,
          0.8479532170096117,
          1.70344793958928,
          1.1386853529720973,
          0.8487051642989147,
          0.968843823916177,
          0.6957190136412353,
          0.002582225038355152,
          -1.4513032950993925,
          -0.19805787701228872,
          0.6774343549635712,
          -1.4327537700193087,
          0.26411514326036833,
          -0.33671161663269716,
          -0.08407330728644541,
          1.368220600727735,
          1.645714258578475,
          -1.384406199597019,
          0.5083535943892357,
          -1.0514179180662875,
          0.7549770555868955,
          -1.675545109092052,
          -1.0451488351170122,
          -2.0614544842966995,
          0.16982230547273192,
          1.8251139327360477,
          0.44986683396737626,
          0.3939286211800785,
          -1.114911778732924,
          -0.4177123875352382,
          1.108470034084431,
          0.49834592193931465,
          -1.9547909952942522,
          1.176365585897962,
          -0.029407168874944503,
          -0.4613577626841192,
          -1.3451916694004673,
          0.8821653763967819,
          -1.173395693010109,
          0.32036147045809604,
          -1.2749930918574466,
          1.9899525192678373,
          -1.1398903142935857,
          -0.4968601383846873
         ]
        },
        {
         "line": {
          "color": "rgba(128, 0, 128, 1.0)",
          "dash": "solid",
          "shape": "linear",
          "width": 1.3
         },
         "mode": "lines",
         "name": "D",
         "text": "",
         "type": "scatter",
         "x": [
          0,
          1,
          2,
          3,
          4,
          5,
          6,
          7,
          8,
          9,
          10,
          11,
          12,
          13,
          14,
          15,
          16,
          17,
          18,
          19,
          20,
          21,
          22,
          23,
          24,
          25,
          26,
          27,
          28,
          29,
          30,
          31,
          32,
          33,
          34,
          35,
          36,
          37,
          38,
          39,
          40,
          41,
          42,
          43,
          44,
          45,
          46,
          47,
          48,
          49,
          50,
          51,
          52,
          53,
          54,
          55,
          56,
          57,
          58,
          59,
          60,
          61,
          62,
          63,
          64,
          65,
          66,
          67,
          68,
          69,
          70,
          71,
          72,
          73,
          74,
          75,
          76,
          77,
          78,
          79,
          80,
          81,
          82,
          83,
          84,
          85,
          86,
          87,
          88,
          89,
          90,
          91,
          92,
          93,
          94,
          95,
          96,
          97,
          98,
          99
         ],
         "y": [
          1.0085964341555844,
          -1.2269753588859271,
          -1.5097988830045546,
          -0.5957249513887795,
          -0.957292708169662,
          0.37925034902571103,
          0.6390786863933957,
          -1.4278468527458785,
          1.1554198868405157,
          1.4835710039569256,
          -1.8617930501549576,
          1.0549386258229976,
          -0.597880076754315,
          0.5091114140451493,
          -0.4236008265812986,
          2.0422230963736423,
          -1.5944447623816826,
          1.0046933857435616,
          -1.346948771912937,
          -0.4780454082197933,
          -0.1293847086726596,
          0.047109012029019515,
          0.5254822345724128,
          0.822192262412065,
          1.4459759780435455,
          0.9115178242482179,
          0.09163585118157323,
          -0.4333767970305198,
          -0.25317827633395823,
          1.251941966515613,
          -0.48504486193858026,
          1.4155994216269399,
          -0.08942120600242834,
          0.018129302526952513,
          0.09538400771573545,
          0.14635880217596137,
          -0.03521929132626436,
          0.9464919018571304,
          -1.0298398614208712,
          1.1468853072362954,
          -0.28638870472181804,
          -2.312265561373491,
          1.0994685942927933,
          1.9323478853341507,
          1.285517116893445,
          -0.6561135953456818,
          0.613382362747721,
          0.294912843507637,
          0.501579060503352,
          2.0601536753961205,
          0.09031593286671273,
          -2.1116352492033665,
          1.14479295440716,
          1.6482467822786142,
          -0.23688476995824312,
          -2.483168964360678,
          1.7393690105774773,
          -0.7528532600045252,
          0.549850368149912,
          1.6092665516046354,
          1.1245463956901984,
          -0.25960022308154207,
          -0.894525142137224,
          -0.44335753624262075,
          -0.4953186258903264,
          0.44862293242002454,
          0.5076707606831699,
          -0.8234639692664324,
          -0.1825116567135101,
          0.6165168690298184,
          -0.7441595984799642,
          -1.2644685398119577,
          1.9473943153893534,
          0.8716113455957312,
          1.4056319769016397,
          0.18172623584949632,
          -0.34499946405601095,
          0.7016813836505776,
          0.5675933797489788,
          -0.0634524470695323,
          1.6698437842254625,
          -0.2589095268265948,
          0.39291905061572424,
          -2.3753214718334985,
          -0.44280955514871473,
          -0.06627116150696902,
          0.5600957537663671,
          -0.9066305671341511,
          0.8827050851394105,
          0.19517323025462843,
          0.2499217272758512,
          0.21879809967016942,
          -0.31226846868748914,
          -1.7337764797766497,
          0.8209083232667705,
          -0.42547099701212215,
          -0.09310701732516485,
          0.3629058590313021,
          0.1407115006202667,
          0.876168071097411
         ]
        }
       ],
       "layout": {
        "legend": {
         "bgcolor": "#F5F6F9",
         "font": {
          "color": "#4D5663"
         }
        },
        "paper_bgcolor": "#F5F6F9",
        "plot_bgcolor": "#F5F6F9",
        "template": {
         "data": {
          "bar": [
           {
            "error_x": {
             "color": "#2a3f5f"
            },
            "error_y": {
             "color": "#2a3f5f"
            },
            "marker": {
             "line": {
              "color": "#E5ECF6",
              "width": 0.5
             },
             "pattern": {
              "fillmode": "overlay",
              "size": 10,
              "solidity": 0.2
             }
            },
            "type": "bar"
           }
          ],
          "barpolar": [
           {
            "marker": {
             "line": {
              "color": "#E5ECF6",
              "width": 0.5
             },
             "pattern": {
              "fillmode": "overlay",
              "size": 10,
              "solidity": 0.2
             }
            },
            "type": "barpolar"
           }
          ],
          "carpet": [
           {
            "aaxis": {
             "endlinecolor": "#2a3f5f",
             "gridcolor": "white",
             "linecolor": "white",
             "minorgridcolor": "white",
             "startlinecolor": "#2a3f5f"
            },
            "baxis": {
             "endlinecolor": "#2a3f5f",
             "gridcolor": "white",
             "linecolor": "white",
             "minorgridcolor": "white",
             "startlinecolor": "#2a3f5f"
            },
            "type": "carpet"
           }
          ],
          "choropleth": [
           {
            "colorbar": {
             "outlinewidth": 0,
             "ticks": ""
            },
            "type": "choropleth"
           }
          ],
          "contour": [
           {
            "colorbar": {
             "outlinewidth": 0,
             "ticks": ""
            },
            "colorscale": [
             [
              0,
              "#0d0887"
             ],
             [
              0.1111111111111111,
              "#46039f"
             ],
             [
              0.2222222222222222,
              "#7201a8"
             ],
             [
              0.3333333333333333,
              "#9c179e"
             ],
             [
              0.4444444444444444,
              "#bd3786"
             ],
             [
              0.5555555555555556,
              "#d8576b"
             ],
             [
              0.6666666666666666,
              "#ed7953"
             ],
             [
              0.7777777777777778,
              "#fb9f3a"
             ],
             [
              0.8888888888888888,
              "#fdca26"
             ],
             [
              1,
              "#f0f921"
             ]
            ],
            "type": "contour"
           }
          ],
          "contourcarpet": [
           {
            "colorbar": {
             "outlinewidth": 0,
             "ticks": ""
            },
            "type": "contourcarpet"
           }
          ],
          "heatmap": [
           {
            "colorbar": {
             "outlinewidth": 0,
             "ticks": ""
            },
            "colorscale": [
             [
              0,
              "#0d0887"
             ],
             [
              0.1111111111111111,
              "#46039f"
             ],
             [
              0.2222222222222222,
              "#7201a8"
             ],
             [
              0.3333333333333333,
              "#9c179e"
             ],
             [
              0.4444444444444444,
              "#bd3786"
             ],
             [
              0.5555555555555556,
              "#d8576b"
             ],
             [
              0.6666666666666666,
              "#ed7953"
             ],
             [
              0.7777777777777778,
              "#fb9f3a"
             ],
             [
              0.8888888888888888,
              "#fdca26"
             ],
             [
              1,
              "#f0f921"
             ]
            ],
            "type": "heatmap"
           }
          ],
          "heatmapgl": [
           {
            "colorbar": {
             "outlinewidth": 0,
             "ticks": ""
            },
            "colorscale": [
             [
              0,
              "#0d0887"
             ],
             [
              0.1111111111111111,
              "#46039f"
             ],
             [
              0.2222222222222222,
              "#7201a8"
             ],
             [
              0.3333333333333333,
              "#9c179e"
             ],
             [
              0.4444444444444444,
              "#bd3786"
             ],
             [
              0.5555555555555556,
              "#d8576b"
             ],
             [
              0.6666666666666666,
              "#ed7953"
             ],
             [
              0.7777777777777778,
              "#fb9f3a"
             ],
             [
              0.8888888888888888,
              "#fdca26"
             ],
             [
              1,
              "#f0f921"
             ]
            ],
            "type": "heatmapgl"
           }
          ],
          "histogram": [
           {
            "marker": {
             "pattern": {
              "fillmode": "overlay",
              "size": 10,
              "solidity": 0.2
             }
            },
            "type": "histogram"
           }
          ],
          "histogram2d": [
           {
            "colorbar": {
             "outlinewidth": 0,
             "ticks": ""
            },
            "colorscale": [
             [
              0,
              "#0d0887"
             ],
             [
              0.1111111111111111,
              "#46039f"
             ],
             [
              0.2222222222222222,
              "#7201a8"
             ],
             [
              0.3333333333333333,
              "#9c179e"
             ],
             [
              0.4444444444444444,
              "#bd3786"
             ],
             [
              0.5555555555555556,
              "#d8576b"
             ],
             [
              0.6666666666666666,
              "#ed7953"
             ],
             [
              0.7777777777777778,
              "#fb9f3a"
             ],
             [
              0.8888888888888888,
              "#fdca26"
             ],
             [
              1,
              "#f0f921"
             ]
            ],
            "type": "histogram2d"
           }
          ],
          "histogram2dcontour": [
           {
            "colorbar": {
             "outlinewidth": 0,
             "ticks": ""
            },
            "colorscale": [
             [
              0,
              "#0d0887"
             ],
             [
              0.1111111111111111,
              "#46039f"
             ],
             [
              0.2222222222222222,
              "#7201a8"
             ],
             [
              0.3333333333333333,
              "#9c179e"
             ],
             [
              0.4444444444444444,
              "#bd3786"
             ],
             [
              0.5555555555555556,
              "#d8576b"
             ],
             [
              0.6666666666666666,
              "#ed7953"
             ],
             [
              0.7777777777777778,
              "#fb9f3a"
             ],
             [
              0.8888888888888888,
              "#fdca26"
             ],
             [
              1,
              "#f0f921"
             ]
            ],
            "type": "histogram2dcontour"
           }
          ],
          "mesh3d": [
           {
            "colorbar": {
             "outlinewidth": 0,
             "ticks": ""
            },
            "type": "mesh3d"
           }
          ],
          "parcoords": [
           {
            "line": {
             "colorbar": {
              "outlinewidth": 0,
              "ticks": ""
             }
            },
            "type": "parcoords"
           }
          ],
          "pie": [
           {
            "automargin": true,
            "type": "pie"
           }
          ],
          "scatter": [
           {
            "marker": {
             "colorbar": {
              "outlinewidth": 0,
              "ticks": ""
             }
            },
            "type": "scatter"
           }
          ],
          "scatter3d": [
           {
            "line": {
             "colorbar": {
              "outlinewidth": 0,
              "ticks": ""
             }
            },
            "marker": {
             "colorbar": {
              "outlinewidth": 0,
              "ticks": ""
             }
            },
            "type": "scatter3d"
           }
          ],
          "scattercarpet": [
           {
            "marker": {
             "colorbar": {
              "outlinewidth": 0,
              "ticks": ""
             }
            },
            "type": "scattercarpet"
           }
          ],
          "scattergeo": [
           {
            "marker": {
             "colorbar": {
              "outlinewidth": 0,
              "ticks": ""
             }
            },
            "type": "scattergeo"
           }
          ],
          "scattergl": [
           {
            "marker": {
             "colorbar": {
              "outlinewidth": 0,
              "ticks": ""
             }
            },
            "type": "scattergl"
           }
          ],
          "scattermapbox": [
           {
            "marker": {
             "colorbar": {
              "outlinewidth": 0,
              "ticks": ""
             }
            },
            "type": "scattermapbox"
           }
          ],
          "scatterpolar": [
           {
            "marker": {
             "colorbar": {
              "outlinewidth": 0,
              "ticks": ""
             }
            },
            "type": "scatterpolar"
           }
          ],
          "scatterpolargl": [
           {
            "marker": {
             "colorbar": {
              "outlinewidth": 0,
              "ticks": ""
             }
            },
            "type": "scatterpolargl"
           }
          ],
          "scatterternary": [
           {
            "marker": {
             "colorbar": {
              "outlinewidth": 0,
              "ticks": ""
             }
            },
            "type": "scatterternary"
           }
          ],
          "surface": [
           {
            "colorbar": {
             "outlinewidth": 0,
             "ticks": ""
            },
            "colorscale": [
             [
              0,
              "#0d0887"
             ],
             [
              0.1111111111111111,
              "#46039f"
             ],
             [
              0.2222222222222222,
              "#7201a8"
             ],
             [
              0.3333333333333333,
              "#9c179e"
             ],
             [
              0.4444444444444444,
              "#bd3786"
             ],
             [
              0.5555555555555556,
              "#d8576b"
             ],
             [
              0.6666666666666666,
              "#ed7953"
             ],
             [
              0.7777777777777778,
              "#fb9f3a"
             ],
             [
              0.8888888888888888,
              "#fdca26"
             ],
             [
              1,
              "#f0f921"
             ]
            ],
            "type": "surface"
           }
          ],
          "table": [
           {
            "cells": {
             "fill": {
              "color": "#EBF0F8"
             },
             "line": {
              "color": "white"
             }
            },
            "header": {
             "fill": {
              "color": "#C8D4E3"
             },
             "line": {
              "color": "white"
             }
            },
            "type": "table"
           }
          ]
         },
         "layout": {
          "annotationdefaults": {
           "arrowcolor": "#2a3f5f",
           "arrowhead": 0,
           "arrowwidth": 1
          },
          "autotypenumbers": "strict",
          "coloraxis": {
           "colorbar": {
            "outlinewidth": 0,
            "ticks": ""
           }
          },
          "colorscale": {
           "diverging": [
            [
             0,
             "#8e0152"
            ],
            [
             0.1,
             "#c51b7d"
            ],
            [
             0.2,
             "#de77ae"
            ],
            [
             0.3,
             "#f1b6da"
            ],
            [
             0.4,
             "#fde0ef"
            ],
            [
             0.5,
             "#f7f7f7"
            ],
            [
             0.6,
             "#e6f5d0"
            ],
            [
             0.7,
             "#b8e186"
            ],
            [
             0.8,
             "#7fbc41"
            ],
            [
             0.9,
             "#4d9221"
            ],
            [
             1,
             "#276419"
            ]
           ],
           "sequential": [
            [
             0,
             "#0d0887"
            ],
            [
             0.1111111111111111,
             "#46039f"
            ],
            [
             0.2222222222222222,
             "#7201a8"
            ],
            [
             0.3333333333333333,
             "#9c179e"
            ],
            [
             0.4444444444444444,
             "#bd3786"
            ],
            [
             0.5555555555555556,
             "#d8576b"
            ],
            [
             0.6666666666666666,
             "#ed7953"
            ],
            [
             0.7777777777777778,
             "#fb9f3a"
            ],
            [
             0.8888888888888888,
             "#fdca26"
            ],
            [
             1,
             "#f0f921"
            ]
           ],
           "sequentialminus": [
            [
             0,
             "#0d0887"
            ],
            [
             0.1111111111111111,
             "#46039f"
            ],
            [
             0.2222222222222222,
             "#7201a8"
            ],
            [
             0.3333333333333333,
             "#9c179e"
            ],
            [
             0.4444444444444444,
             "#bd3786"
            ],
            [
             0.5555555555555556,
             "#d8576b"
            ],
            [
             0.6666666666666666,
             "#ed7953"
            ],
            [
             0.7777777777777778,
             "#fb9f3a"
            ],
            [
             0.8888888888888888,
             "#fdca26"
            ],
            [
             1,
             "#f0f921"
            ]
           ]
          },
          "colorway": [
           "#636efa",
           "#EF553B",
           "#00cc96",
           "#ab63fa",
           "#FFA15A",
           "#19d3f3",
           "#FF6692",
           "#B6E880",
           "#FF97FF",
           "#FECB52"
          ],
          "font": {
           "color": "#2a3f5f"
          },
          "geo": {
           "bgcolor": "white",
           "lakecolor": "white",
           "landcolor": "#E5ECF6",
           "showlakes": true,
           "showland": true,
           "subunitcolor": "white"
          },
          "hoverlabel": {
           "align": "left"
          },
          "hovermode": "closest",
          "mapbox": {
           "style": "light"
          },
          "paper_bgcolor": "white",
          "plot_bgcolor": "#E5ECF6",
          "polar": {
           "angularaxis": {
            "gridcolor": "white",
            "linecolor": "white",
            "ticks": ""
           },
           "bgcolor": "#E5ECF6",
           "radialaxis": {
            "gridcolor": "white",
            "linecolor": "white",
            "ticks": ""
           }
          },
          "scene": {
           "xaxis": {
            "backgroundcolor": "#E5ECF6",
            "gridcolor": "white",
            "gridwidth": 2,
            "linecolor": "white",
            "showbackground": true,
            "ticks": "",
            "zerolinecolor": "white"
           },
           "yaxis": {
            "backgroundcolor": "#E5ECF6",
            "gridcolor": "white",
            "gridwidth": 2,
            "linecolor": "white",
            "showbackground": true,
            "ticks": "",
            "zerolinecolor": "white"
           },
           "zaxis": {
            "backgroundcolor": "#E5ECF6",
            "gridcolor": "white",
            "gridwidth": 2,
            "linecolor": "white",
            "showbackground": true,
            "ticks": "",
            "zerolinecolor": "white"
           }
          },
          "shapedefaults": {
           "line": {
            "color": "#2a3f5f"
           }
          },
          "ternary": {
           "aaxis": {
            "gridcolor": "white",
            "linecolor": "white",
            "ticks": ""
           },
           "baxis": {
            "gridcolor": "white",
            "linecolor": "white",
            "ticks": ""
           },
           "bgcolor": "#E5ECF6",
           "caxis": {
            "gridcolor": "white",
            "linecolor": "white",
            "ticks": ""
           }
          },
          "title": {
           "x": 0.05
          },
          "xaxis": {
           "automargin": true,
           "gridcolor": "white",
           "linecolor": "white",
           "ticks": "",
           "title": {
            "standoff": 15
           },
           "zerolinecolor": "white",
           "zerolinewidth": 2
          },
          "yaxis": {
           "automargin": true,
           "gridcolor": "white",
           "linecolor": "white",
           "ticks": "",
           "title": {
            "standoff": 15
           },
           "zerolinecolor": "white",
           "zerolinewidth": 2
          }
         }
        },
        "title": {
         "font": {
          "color": "#4D5663"
         }
        },
        "xaxis": {
         "gridcolor": "#E1E5ED",
         "showgrid": true,
         "tickfont": {
          "color": "#4D5663"
         },
         "title": {
          "font": {
           "color": "#4D5663"
          },
          "text": ""
         },
         "zerolinecolor": "#E1E5ED"
        },
        "yaxis": {
         "gridcolor": "#E1E5ED",
         "showgrid": true,
         "tickfont": {
          "color": "#4D5663"
         },
         "title": {
          "font": {
           "color": "#4D5663"
          },
          "text": ""
         },
         "zerolinecolor": "#E1E5ED"
        }
       }
      },
      "text/html": [
       "<div>                            <div id=\"8b239afe-ae0b-4b68-b141-40fb39a8c8bc\" class=\"plotly-graph-div\" style=\"height:525px; width:100%;\"></div>            <script type=\"text/javascript\">                require([\"plotly\"], function(Plotly) {                    window.PLOTLYENV=window.PLOTLYENV || {};\n",
       "                    window.PLOTLYENV.BASE_URL='https://plot.ly';                                    if (document.getElementById(\"8b239afe-ae0b-4b68-b141-40fb39a8c8bc\")) {                    Plotly.newPlot(                        \"8b239afe-ae0b-4b68-b141-40fb39a8c8bc\",                        [{\"line\":{\"color\":\"rgba(255, 153, 51, 1.0)\",\"dash\":\"solid\",\"shape\":\"linear\",\"width\":1.3},\"mode\":\"lines\",\"name\":\"A\",\"text\":\"\",\"x\":[0,1,2,3,4,5,6,7,8,9,10,11,12,13,14,15,16,17,18,19,20,21,22,23,24,25,26,27,28,29,30,31,32,33,34,35,36,37,38,39,40,41,42,43,44,45,46,47,48,49,50,51,52,53,54,55,56,57,58,59,60,61,62,63,64,65,66,67,68,69,70,71,72,73,74,75,76,77,78,79,80,81,82,83,84,85,86,87,88,89,90,91,92,93,94,95,96,97,98,99],\"y\":[-0.6123213313638834,1.3594760586323038,0.7157028374769693,0.7428268604041767,1.4387038289767837,-0.18659775442196597,1.4732645597761136,-1.0063295388071447,1.056092961661525,-2.47632273602315,-0.635452318342618,-0.44341162530791667,0.8603466277919531,0.07446614932749684,-0.1331131522466488,0.9950176867120871,-0.6469853058251499,-0.8700113105706968,0.7451915965836442,1.0080729109461022,1.3612656769446707,-0.46388543466577953,-1.6252556434939562,-0.9321225459929191,0.16520721127913351,1.109035311807075,-0.17481458358740606,-1.624426672284938,-0.1702527952572121,0.5692071778213524,-1.8522429631266695,-1.8274075534861318,1.4467135685260804,-0.2566950458043969,-0.31473561434280445,-1.3924295664519903,-1.5183227401831643,1.100316191055605,-1.3243172550303042,0.934613326420437,0.5058253582807383,0.6925078253422744,1.9416032539843482,-1.1472736624868352,0.6738495664997504,-0.47737184536099964,-1.641216335191951,-0.13222458670586418,-0.709692601338341,1.0704070534135786,-0.35957829928635193,1.1347015745407685,1.7394557819272984,0.10648238319660469,-1.2104409774898166,-0.21935452937051048,-0.7209436501354658,-0.36707627095778994,-0.4137095293103209,-0.14202313507910364,1.2665388927529673,1.1194663999265804,-1.2425290334764583,0.39840737442666446,0.8945368981705608,-0.9571858944373809,-0.4633202776630124,-0.9712012233075042,0.7208776529585661,0.7438375746122489,-1.3026515735400312,1.004468713016441,-0.34401917264171356,0.37856579146205005,0.5766908858096895,0.14489140687254426,0.5030487355914735,0.16656440729662095,-1.044040712361414,1.3940344198410861,-1.8958614932946471,-1.598344342488547,0.619097265217185,1.1247773545002318,-0.7131652820603137,-0.7259441325114188,0.3783084614135404,0.953242635318946,-1.0865438738709796,1.0560252986180356,-0.9152623676229141,-0.47689637661425693,-1.5731089650479364,0.45657205749455,-0.011860036772261388,-0.7254513536108076,0.5454745770976296,-1.669814686271186,1.5393007948667181,0.28512201838580503],\"type\":\"scatter\"},{\"line\":{\"color\":\"rgba(55, 128, 191, 1.0)\",\"dash\":\"solid\",\"shape\":\"linear\",\"width\":1.3},\"mode\":\"lines\",\"name\":\"B\",\"text\":\"\",\"x\":[0,1,2,3,4,5,6,7,8,9,10,11,12,13,14,15,16,17,18,19,20,21,22,23,24,25,26,27,28,29,30,31,32,33,34,35,36,37,38,39,40,41,42,43,44,45,46,47,48,49,50,51,52,53,54,55,56,57,58,59,60,61,62,63,64,65,66,67,68,69,70,71,72,73,74,75,76,77,78,79,80,81,82,83,84,85,86,87,88,89,90,91,92,93,94,95,96,97,98,99],\"y\":[2.4033726396064625,-0.3180661953813854,0.3575646009315945,-0.1105494946218425,-1.9893182998132442,0.12108998433814257,1.6231297492375656,-1.2060270018752517,-1.4763460598573717,-0.31605687258158366,-0.30143437365788345,-0.26399532166551437,0.9165050788909543,0.7736176343862297,0.9360968870348345,0.6558051320314173,-0.9571761584379436,-0.9924811564511132,0.7971918612956219,-0.37130794160576763,-0.2760754290236538,0.6900682486696768,1.5530644454787816,0.4313746272862494,0.606668375448992,-0.1678150518632239,-0.06562136516121853,1.1358032600451677,-1.555216491676847,2.3596114839686897,1.6849126218993657,-1.1076458633876247,0.19152751134038656,-2.418973945595888,0.46641748517612613,-0.21364558612811305,1.1480763571394446,0.059794594708253365,0.42198828304935004,-0.1278335244912023,-0.3434904890462654,0.6386561805665968,-0.14208161537358346,-0.21014682568625534,-1.1515120179039007,0.6423152244432342,0.5385251636516468,-1.2735301704460944,-0.9263130931462031,1.0528723780534726,1.398092729216517,0.7409688920291192,1.5330713382437804,1.2238886674459235,1.3021010010114673,0.9267666640747797,-1.0632816642972323,-0.853609509509939,1.4774215216322193,1.8375264582418434,1.2510879290725092,0.11877753746905721,1.0800394768582156,-1.31790521726136,-1.365923862710278,1.6836138765041453,-0.0050875497121913756,0.14030157148832426,-0.7439091480217016,0.3421569973368127,0.3176875279051301,-0.4658550524900476,1.5083142101265588,0.9342942058681324,0.038805998180403596,-0.5427143810390751,1.8653101105958274,0.9160042953261466,-0.7399792359271136,-1.3913613995497782,-1.3659709922367504,-1.7739464469938493,0.9790656864957751,-0.5645792416112951,1.3080798586746816,-0.3710346468680679,-0.3831733338661221,0.6690962928884536,0.5510184334158387,0.7638864171285927,0.7173354808699728,-0.7350903538128789,1.3679739533904145,-1.6310206244484406,-0.39313156746717626,0.026323629417493655,-1.7894767650578125,-0.7225163772056884,1.9078118752926256,0.7217442983989159],\"type\":\"scatter\"},{\"line\":{\"color\":\"rgba(50, 171, 96, 1.0)\",\"dash\":\"solid\",\"shape\":\"linear\",\"width\":1.3},\"mode\":\"lines\",\"name\":\"C\",\"text\":\"\",\"x\":[0,1,2,3,4,5,6,7,8,9,10,11,12,13,14,15,16,17,18,19,20,21,22,23,24,25,26,27,28,29,30,31,32,33,34,35,36,37,38,39,40,41,42,43,44,45,46,47,48,49,50,51,52,53,54,55,56,57,58,59,60,61,62,63,64,65,66,67,68,69,70,71,72,73,74,75,76,77,78,79,80,81,82,83,84,85,86,87,88,89,90,91,92,93,94,95,96,97,98,99],\"y\":[0.4689665067580521,2.657661785631248,-0.15695404125640144,0.605265196825292,-0.7057374319212296,0.8444309653569217,0.7513210022146437,0.4307395998978597,1.0371730870237932,1.974103854421076,-1.1288760520237493,0.8055315230691629,-1.335601470526402,-0.028547479101887447,0.06747542495281443,-1.1309575553312143,1.6271698811106052,-0.8569455622264276,0.6456922933836641,1.6379346196809164,0.1806495115367449,0.14639348883989947,-1.3552736004820631,-0.119350727088024,-0.3563793145517163,-1.023983797537162,-1.2002930376860392,0.30540079810011533,-0.4761218790211993,0.24257472613728698,-0.3361720751310067,-1.846424890646746,-0.7748643511775507,-0.8618459502950332,2.1193450044927333,0.40496375514144517,-2.9377762864827,-1.8965821460469738,-0.48480046089468737,0.7483102482534699,1.6910057862337557,-1.233714975417407,0.06493475062118555,0.6392015128212213,-0.5899288328143886,-0.728572959023513,0.6113604849908908,1.2054338538568574,0.08020295162428227,2.041858302804547,1.4184034553585103,-0.1719830931621509,-0.6949916357107848,-1.978855890551208,0.6257545974595368,0.8632133760671598,-0.5976588697599662,0.8479532170096117,1.70344793958928,1.1386853529720973,0.8487051642989147,0.968843823916177,0.6957190136412353,0.002582225038355152,-1.4513032950993925,-0.19805787701228872,0.6774343549635712,-1.4327537700193087,0.26411514326036833,-0.33671161663269716,-0.08407330728644541,1.368220600727735,1.645714258578475,-1.384406199597019,0.5083535943892357,-1.0514179180662875,0.7549770555868955,-1.675545109092052,-1.0451488351170122,-2.0614544842966995,0.16982230547273192,1.8251139327360477,0.44986683396737626,0.3939286211800785,-1.114911778732924,-0.4177123875352382,1.108470034084431,0.49834592193931465,-1.9547909952942522,1.176365585897962,-0.029407168874944503,-0.4613577626841192,-1.3451916694004673,0.8821653763967819,-1.173395693010109,0.32036147045809604,-1.2749930918574466,1.9899525192678373,-1.1398903142935857,-0.4968601383846873],\"type\":\"scatter\"},{\"line\":{\"color\":\"rgba(128, 0, 128, 1.0)\",\"dash\":\"solid\",\"shape\":\"linear\",\"width\":1.3},\"mode\":\"lines\",\"name\":\"D\",\"text\":\"\",\"x\":[0,1,2,3,4,5,6,7,8,9,10,11,12,13,14,15,16,17,18,19,20,21,22,23,24,25,26,27,28,29,30,31,32,33,34,35,36,37,38,39,40,41,42,43,44,45,46,47,48,49,50,51,52,53,54,55,56,57,58,59,60,61,62,63,64,65,66,67,68,69,70,71,72,73,74,75,76,77,78,79,80,81,82,83,84,85,86,87,88,89,90,91,92,93,94,95,96,97,98,99],\"y\":[1.0085964341555844,-1.2269753588859271,-1.5097988830045546,-0.5957249513887795,-0.957292708169662,0.37925034902571103,0.6390786863933957,-1.4278468527458785,1.1554198868405157,1.4835710039569256,-1.8617930501549576,1.0549386258229976,-0.597880076754315,0.5091114140451493,-0.4236008265812986,2.0422230963736423,-1.5944447623816826,1.0046933857435616,-1.346948771912937,-0.4780454082197933,-0.1293847086726596,0.047109012029019515,0.5254822345724128,0.822192262412065,1.4459759780435455,0.9115178242482179,0.09163585118157323,-0.4333767970305198,-0.25317827633395823,1.251941966515613,-0.48504486193858026,1.4155994216269399,-0.08942120600242834,0.018129302526952513,0.09538400771573545,0.14635880217596137,-0.03521929132626436,0.9464919018571304,-1.0298398614208712,1.1468853072362954,-0.28638870472181804,-2.312265561373491,1.0994685942927933,1.9323478853341507,1.285517116893445,-0.6561135953456818,0.613382362747721,0.294912843507637,0.501579060503352,2.0601536753961205,0.09031593286671273,-2.1116352492033665,1.14479295440716,1.6482467822786142,-0.23688476995824312,-2.483168964360678,1.7393690105774773,-0.7528532600045252,0.549850368149912,1.6092665516046354,1.1245463956901984,-0.25960022308154207,-0.894525142137224,-0.44335753624262075,-0.4953186258903264,0.44862293242002454,0.5076707606831699,-0.8234639692664324,-0.1825116567135101,0.6165168690298184,-0.7441595984799642,-1.2644685398119577,1.9473943153893534,0.8716113455957312,1.4056319769016397,0.18172623584949632,-0.34499946405601095,0.7016813836505776,0.5675933797489788,-0.0634524470695323,1.6698437842254625,-0.2589095268265948,0.39291905061572424,-2.3753214718334985,-0.44280955514871473,-0.06627116150696902,0.5600957537663671,-0.9066305671341511,0.8827050851394105,0.19517323025462843,0.2499217272758512,0.21879809967016942,-0.31226846868748914,-1.7337764797766497,0.8209083232667705,-0.42547099701212215,-0.09310701732516485,0.3629058590313021,0.1407115006202667,0.876168071097411],\"type\":\"scatter\"}],                        {\"legend\":{\"bgcolor\":\"#F5F6F9\",\"font\":{\"color\":\"#4D5663\"}},\"paper_bgcolor\":\"#F5F6F9\",\"plot_bgcolor\":\"#F5F6F9\",\"template\":{\"data\":{\"barpolar\":[{\"marker\":{\"line\":{\"color\":\"#E5ECF6\",\"width\":0.5},\"pattern\":{\"fillmode\":\"overlay\",\"size\":10,\"solidity\":0.2}},\"type\":\"barpolar\"}],\"bar\":[{\"error_x\":{\"color\":\"#2a3f5f\"},\"error_y\":{\"color\":\"#2a3f5f\"},\"marker\":{\"line\":{\"color\":\"#E5ECF6\",\"width\":0.5},\"pattern\":{\"fillmode\":\"overlay\",\"size\":10,\"solidity\":0.2}},\"type\":\"bar\"}],\"carpet\":[{\"aaxis\":{\"endlinecolor\":\"#2a3f5f\",\"gridcolor\":\"white\",\"linecolor\":\"white\",\"minorgridcolor\":\"white\",\"startlinecolor\":\"#2a3f5f\"},\"baxis\":{\"endlinecolor\":\"#2a3f5f\",\"gridcolor\":\"white\",\"linecolor\":\"white\",\"minorgridcolor\":\"white\",\"startlinecolor\":\"#2a3f5f\"},\"type\":\"carpet\"}],\"choropleth\":[{\"colorbar\":{\"outlinewidth\":0,\"ticks\":\"\"},\"type\":\"choropleth\"}],\"contourcarpet\":[{\"colorbar\":{\"outlinewidth\":0,\"ticks\":\"\"},\"type\":\"contourcarpet\"}],\"contour\":[{\"colorbar\":{\"outlinewidth\":0,\"ticks\":\"\"},\"colorscale\":[[0.0,\"#0d0887\"],[0.1111111111111111,\"#46039f\"],[0.2222222222222222,\"#7201a8\"],[0.3333333333333333,\"#9c179e\"],[0.4444444444444444,\"#bd3786\"],[0.5555555555555556,\"#d8576b\"],[0.6666666666666666,\"#ed7953\"],[0.7777777777777778,\"#fb9f3a\"],[0.8888888888888888,\"#fdca26\"],[1.0,\"#f0f921\"]],\"type\":\"contour\"}],\"heatmapgl\":[{\"colorbar\":{\"outlinewidth\":0,\"ticks\":\"\"},\"colorscale\":[[0.0,\"#0d0887\"],[0.1111111111111111,\"#46039f\"],[0.2222222222222222,\"#7201a8\"],[0.3333333333333333,\"#9c179e\"],[0.4444444444444444,\"#bd3786\"],[0.5555555555555556,\"#d8576b\"],[0.6666666666666666,\"#ed7953\"],[0.7777777777777778,\"#fb9f3a\"],[0.8888888888888888,\"#fdca26\"],[1.0,\"#f0f921\"]],\"type\":\"heatmapgl\"}],\"heatmap\":[{\"colorbar\":{\"outlinewidth\":0,\"ticks\":\"\"},\"colorscale\":[[0.0,\"#0d0887\"],[0.1111111111111111,\"#46039f\"],[0.2222222222222222,\"#7201a8\"],[0.3333333333333333,\"#9c179e\"],[0.4444444444444444,\"#bd3786\"],[0.5555555555555556,\"#d8576b\"],[0.6666666666666666,\"#ed7953\"],[0.7777777777777778,\"#fb9f3a\"],[0.8888888888888888,\"#fdca26\"],[1.0,\"#f0f921\"]],\"type\":\"heatmap\"}],\"histogram2dcontour\":[{\"colorbar\":{\"outlinewidth\":0,\"ticks\":\"\"},\"colorscale\":[[0.0,\"#0d0887\"],[0.1111111111111111,\"#46039f\"],[0.2222222222222222,\"#7201a8\"],[0.3333333333333333,\"#9c179e\"],[0.4444444444444444,\"#bd3786\"],[0.5555555555555556,\"#d8576b\"],[0.6666666666666666,\"#ed7953\"],[0.7777777777777778,\"#fb9f3a\"],[0.8888888888888888,\"#fdca26\"],[1.0,\"#f0f921\"]],\"type\":\"histogram2dcontour\"}],\"histogram2d\":[{\"colorbar\":{\"outlinewidth\":0,\"ticks\":\"\"},\"colorscale\":[[0.0,\"#0d0887\"],[0.1111111111111111,\"#46039f\"],[0.2222222222222222,\"#7201a8\"],[0.3333333333333333,\"#9c179e\"],[0.4444444444444444,\"#bd3786\"],[0.5555555555555556,\"#d8576b\"],[0.6666666666666666,\"#ed7953\"],[0.7777777777777778,\"#fb9f3a\"],[0.8888888888888888,\"#fdca26\"],[1.0,\"#f0f921\"]],\"type\":\"histogram2d\"}],\"histogram\":[{\"marker\":{\"pattern\":{\"fillmode\":\"overlay\",\"size\":10,\"solidity\":0.2}},\"type\":\"histogram\"}],\"mesh3d\":[{\"colorbar\":{\"outlinewidth\":0,\"ticks\":\"\"},\"type\":\"mesh3d\"}],\"parcoords\":[{\"line\":{\"colorbar\":{\"outlinewidth\":0,\"ticks\":\"\"}},\"type\":\"parcoords\"}],\"pie\":[{\"automargin\":true,\"type\":\"pie\"}],\"scatter3d\":[{\"line\":{\"colorbar\":{\"outlinewidth\":0,\"ticks\":\"\"}},\"marker\":{\"colorbar\":{\"outlinewidth\":0,\"ticks\":\"\"}},\"type\":\"scatter3d\"}],\"scattercarpet\":[{\"marker\":{\"colorbar\":{\"outlinewidth\":0,\"ticks\":\"\"}},\"type\":\"scattercarpet\"}],\"scattergeo\":[{\"marker\":{\"colorbar\":{\"outlinewidth\":0,\"ticks\":\"\"}},\"type\":\"scattergeo\"}],\"scattergl\":[{\"marker\":{\"colorbar\":{\"outlinewidth\":0,\"ticks\":\"\"}},\"type\":\"scattergl\"}],\"scattermapbox\":[{\"marker\":{\"colorbar\":{\"outlinewidth\":0,\"ticks\":\"\"}},\"type\":\"scattermapbox\"}],\"scatterpolargl\":[{\"marker\":{\"colorbar\":{\"outlinewidth\":0,\"ticks\":\"\"}},\"type\":\"scatterpolargl\"}],\"scatterpolar\":[{\"marker\":{\"colorbar\":{\"outlinewidth\":0,\"ticks\":\"\"}},\"type\":\"scatterpolar\"}],\"scatter\":[{\"marker\":{\"colorbar\":{\"outlinewidth\":0,\"ticks\":\"\"}},\"type\":\"scatter\"}],\"scatterternary\":[{\"marker\":{\"colorbar\":{\"outlinewidth\":0,\"ticks\":\"\"}},\"type\":\"scatterternary\"}],\"surface\":[{\"colorbar\":{\"outlinewidth\":0,\"ticks\":\"\"},\"colorscale\":[[0.0,\"#0d0887\"],[0.1111111111111111,\"#46039f\"],[0.2222222222222222,\"#7201a8\"],[0.3333333333333333,\"#9c179e\"],[0.4444444444444444,\"#bd3786\"],[0.5555555555555556,\"#d8576b\"],[0.6666666666666666,\"#ed7953\"],[0.7777777777777778,\"#fb9f3a\"],[0.8888888888888888,\"#fdca26\"],[1.0,\"#f0f921\"]],\"type\":\"surface\"}],\"table\":[{\"cells\":{\"fill\":{\"color\":\"#EBF0F8\"},\"line\":{\"color\":\"white\"}},\"header\":{\"fill\":{\"color\":\"#C8D4E3\"},\"line\":{\"color\":\"white\"}},\"type\":\"table\"}]},\"layout\":{\"annotationdefaults\":{\"arrowcolor\":\"#2a3f5f\",\"arrowhead\":0,\"arrowwidth\":1},\"autotypenumbers\":\"strict\",\"coloraxis\":{\"colorbar\":{\"outlinewidth\":0,\"ticks\":\"\"}},\"colorscale\":{\"diverging\":[[0,\"#8e0152\"],[0.1,\"#c51b7d\"],[0.2,\"#de77ae\"],[0.3,\"#f1b6da\"],[0.4,\"#fde0ef\"],[0.5,\"#f7f7f7\"],[0.6,\"#e6f5d0\"],[0.7,\"#b8e186\"],[0.8,\"#7fbc41\"],[0.9,\"#4d9221\"],[1,\"#276419\"]],\"sequential\":[[0.0,\"#0d0887\"],[0.1111111111111111,\"#46039f\"],[0.2222222222222222,\"#7201a8\"],[0.3333333333333333,\"#9c179e\"],[0.4444444444444444,\"#bd3786\"],[0.5555555555555556,\"#d8576b\"],[0.6666666666666666,\"#ed7953\"],[0.7777777777777778,\"#fb9f3a\"],[0.8888888888888888,\"#fdca26\"],[1.0,\"#f0f921\"]],\"sequentialminus\":[[0.0,\"#0d0887\"],[0.1111111111111111,\"#46039f\"],[0.2222222222222222,\"#7201a8\"],[0.3333333333333333,\"#9c179e\"],[0.4444444444444444,\"#bd3786\"],[0.5555555555555556,\"#d8576b\"],[0.6666666666666666,\"#ed7953\"],[0.7777777777777778,\"#fb9f3a\"],[0.8888888888888888,\"#fdca26\"],[1.0,\"#f0f921\"]]},\"colorway\":[\"#636efa\",\"#EF553B\",\"#00cc96\",\"#ab63fa\",\"#FFA15A\",\"#19d3f3\",\"#FF6692\",\"#B6E880\",\"#FF97FF\",\"#FECB52\"],\"font\":{\"color\":\"#2a3f5f\"},\"geo\":{\"bgcolor\":\"white\",\"lakecolor\":\"white\",\"landcolor\":\"#E5ECF6\",\"showlakes\":true,\"showland\":true,\"subunitcolor\":\"white\"},\"hoverlabel\":{\"align\":\"left\"},\"hovermode\":\"closest\",\"mapbox\":{\"style\":\"light\"},\"paper_bgcolor\":\"white\",\"plot_bgcolor\":\"#E5ECF6\",\"polar\":{\"angularaxis\":{\"gridcolor\":\"white\",\"linecolor\":\"white\",\"ticks\":\"\"},\"bgcolor\":\"#E5ECF6\",\"radialaxis\":{\"gridcolor\":\"white\",\"linecolor\":\"white\",\"ticks\":\"\"}},\"scene\":{\"xaxis\":{\"backgroundcolor\":\"#E5ECF6\",\"gridcolor\":\"white\",\"gridwidth\":2,\"linecolor\":\"white\",\"showbackground\":true,\"ticks\":\"\",\"zerolinecolor\":\"white\"},\"yaxis\":{\"backgroundcolor\":\"#E5ECF6\",\"gridcolor\":\"white\",\"gridwidth\":2,\"linecolor\":\"white\",\"showbackground\":true,\"ticks\":\"\",\"zerolinecolor\":\"white\"},\"zaxis\":{\"backgroundcolor\":\"#E5ECF6\",\"gridcolor\":\"white\",\"gridwidth\":2,\"linecolor\":\"white\",\"showbackground\":true,\"ticks\":\"\",\"zerolinecolor\":\"white\"}},\"shapedefaults\":{\"line\":{\"color\":\"#2a3f5f\"}},\"ternary\":{\"aaxis\":{\"gridcolor\":\"white\",\"linecolor\":\"white\",\"ticks\":\"\"},\"baxis\":{\"gridcolor\":\"white\",\"linecolor\":\"white\",\"ticks\":\"\"},\"bgcolor\":\"#E5ECF6\",\"caxis\":{\"gridcolor\":\"white\",\"linecolor\":\"white\",\"ticks\":\"\"}},\"title\":{\"x\":0.05},\"xaxis\":{\"automargin\":true,\"gridcolor\":\"white\",\"linecolor\":\"white\",\"ticks\":\"\",\"title\":{\"standoff\":15},\"zerolinecolor\":\"white\",\"zerolinewidth\":2},\"yaxis\":{\"automargin\":true,\"gridcolor\":\"white\",\"linecolor\":\"white\",\"ticks\":\"\",\"title\":{\"standoff\":15},\"zerolinecolor\":\"white\",\"zerolinewidth\":2}}},\"title\":{\"font\":{\"color\":\"#4D5663\"}},\"xaxis\":{\"gridcolor\":\"#E1E5ED\",\"showgrid\":true,\"tickfont\":{\"color\":\"#4D5663\"},\"title\":{\"font\":{\"color\":\"#4D5663\"},\"text\":\"\"},\"zerolinecolor\":\"#E1E5ED\"},\"yaxis\":{\"gridcolor\":\"#E1E5ED\",\"showgrid\":true,\"tickfont\":{\"color\":\"#4D5663\"},\"title\":{\"font\":{\"color\":\"#4D5663\"},\"text\":\"\"},\"zerolinecolor\":\"#E1E5ED\"}},                        {\"showLink\": true, \"linkText\": \"Export to plot.ly\", \"plotlyServerURL\": \"https://plot.ly\", \"responsive\": true}                    ).then(function(){\n",
       "                            \n",
       "var gd = document.getElementById('8b239afe-ae0b-4b68-b141-40fb39a8c8bc');\n",
       "var x = new MutationObserver(function (mutations, observer) {{\n",
       "        var display = window.getComputedStyle(gd).display;\n",
       "        if (!display || display === 'none') {{\n",
       "            console.log([gd, 'removed!']);\n",
       "            Plotly.purge(gd);\n",
       "            observer.disconnect();\n",
       "        }}\n",
       "}});\n",
       "\n",
       "// Listen for the removal of the full notebook cells\n",
       "var notebookContainer = gd.closest('#notebook-container');\n",
       "if (notebookContainer) {{\n",
       "    x.observe(notebookContainer, {childList: true});\n",
       "}}\n",
       "\n",
       "// Listen for the clearing of the current output cell\n",
       "var outputEl = gd.closest('.output');\n",
       "if (outputEl) {{\n",
       "    x.observe(outputEl, {childList: true});\n",
       "}}\n",
       "\n",
       "                        })                };                });            </script>        </div>"
      ]
     },
     "metadata": {},
     "output_type": "display_data"
    }
   ],
   "source": [
    "df.iplot()\n",
    "# Hover over to see the values at that particular index point\n",
    "# Choose a particular region to zoom in, double-click to zoom back out\n",
    "# Click on the variable on the legend to hide it, click again to show."
   ]
  },
  {
   "cell_type": "code",
   "execution_count": 42,
   "id": "cdbb9f62",
   "metadata": {
    "scrolled": false
   },
   "outputs": [
    {
     "data": {
      "application/vnd.plotly.v1+json": {
       "config": {
        "linkText": "Export to plot.ly",
        "plotlyServerURL": "https://plot.ly",
        "showLink": true
       },
       "data": [
        {
         "line": {
          "color": "rgba(255, 153, 51, 1.0)",
          "dash": "solid",
          "shape": "linear",
          "width": 1.3
         },
         "marker": {
          "size": 12,
          "symbol": "circle"
         },
         "mode": "markers",
         "name": "B",
         "text": "",
         "type": "scatter",
         "x": [
          -0.6123213313638834,
          1.3594760586323038,
          0.7157028374769693,
          0.7428268604041767,
          1.4387038289767837,
          -0.18659775442196597,
          1.4732645597761136,
          -1.0063295388071447,
          1.056092961661525,
          -2.47632273602315,
          -0.635452318342618,
          -0.44341162530791667,
          0.8603466277919531,
          0.07446614932749684,
          -0.1331131522466488,
          0.9950176867120871,
          -0.6469853058251499,
          -0.8700113105706968,
          0.7451915965836442,
          1.0080729109461022,
          1.3612656769446707,
          -0.46388543466577953,
          -1.6252556434939562,
          -0.9321225459929191,
          0.16520721127913351,
          1.109035311807075,
          -0.17481458358740606,
          -1.624426672284938,
          -0.1702527952572121,
          0.5692071778213524,
          -1.8522429631266695,
          -1.8274075534861318,
          1.4467135685260804,
          -0.2566950458043969,
          -0.31473561434280445,
          -1.3924295664519903,
          -1.5183227401831643,
          1.100316191055605,
          -1.3243172550303042,
          0.934613326420437,
          0.5058253582807383,
          0.6925078253422744,
          1.9416032539843482,
          -1.1472736624868352,
          0.6738495664997504,
          -0.47737184536099964,
          -1.641216335191951,
          -0.13222458670586418,
          -0.709692601338341,
          1.0704070534135786,
          -0.35957829928635193,
          1.1347015745407685,
          1.7394557819272984,
          0.10648238319660469,
          -1.2104409774898166,
          -0.21935452937051048,
          -0.7209436501354658,
          -0.36707627095778994,
          -0.4137095293103209,
          -0.14202313507910364,
          1.2665388927529673,
          1.1194663999265804,
          -1.2425290334764583,
          0.39840737442666446,
          0.8945368981705608,
          -0.9571858944373809,
          -0.4633202776630124,
          -0.9712012233075042,
          0.7208776529585661,
          0.7438375746122489,
          -1.3026515735400312,
          1.004468713016441,
          -0.34401917264171356,
          0.37856579146205005,
          0.5766908858096895,
          0.14489140687254426,
          0.5030487355914735,
          0.16656440729662095,
          -1.044040712361414,
          1.3940344198410861,
          -1.8958614932946471,
          -1.598344342488547,
          0.619097265217185,
          1.1247773545002318,
          -0.7131652820603137,
          -0.7259441325114188,
          0.3783084614135404,
          0.953242635318946,
          -1.0865438738709796,
          1.0560252986180356,
          -0.9152623676229141,
          -0.47689637661425693,
          -1.5731089650479364,
          0.45657205749455,
          -0.011860036772261388,
          -0.7254513536108076,
          0.5454745770976296,
          -1.669814686271186,
          1.5393007948667181,
          0.28512201838580503
         ],
         "y": [
          2.4033726396064625,
          -0.3180661953813854,
          0.3575646009315945,
          -0.1105494946218425,
          -1.9893182998132442,
          0.12108998433814257,
          1.6231297492375656,
          -1.2060270018752517,
          -1.4763460598573717,
          -0.31605687258158366,
          -0.30143437365788345,
          -0.26399532166551437,
          0.9165050788909543,
          0.7736176343862297,
          0.9360968870348345,
          0.6558051320314173,
          -0.9571761584379436,
          -0.9924811564511132,
          0.7971918612956219,
          -0.37130794160576763,
          -0.2760754290236538,
          0.6900682486696768,
          1.5530644454787816,
          0.4313746272862494,
          0.606668375448992,
          -0.1678150518632239,
          -0.06562136516121853,
          1.1358032600451677,
          -1.555216491676847,
          2.3596114839686897,
          1.6849126218993657,
          -1.1076458633876247,
          0.19152751134038656,
          -2.418973945595888,
          0.46641748517612613,
          -0.21364558612811305,
          1.1480763571394446,
          0.059794594708253365,
          0.42198828304935004,
          -0.1278335244912023,
          -0.3434904890462654,
          0.6386561805665968,
          -0.14208161537358346,
          -0.21014682568625534,
          -1.1515120179039007,
          0.6423152244432342,
          0.5385251636516468,
          -1.2735301704460944,
          -0.9263130931462031,
          1.0528723780534726,
          1.398092729216517,
          0.7409688920291192,
          1.5330713382437804,
          1.2238886674459235,
          1.3021010010114673,
          0.9267666640747797,
          -1.0632816642972323,
          -0.853609509509939,
          1.4774215216322193,
          1.8375264582418434,
          1.2510879290725092,
          0.11877753746905721,
          1.0800394768582156,
          -1.31790521726136,
          -1.365923862710278,
          1.6836138765041453,
          -0.0050875497121913756,
          0.14030157148832426,
          -0.7439091480217016,
          0.3421569973368127,
          0.3176875279051301,
          -0.4658550524900476,
          1.5083142101265588,
          0.9342942058681324,
          0.038805998180403596,
          -0.5427143810390751,
          1.8653101105958274,
          0.9160042953261466,
          -0.7399792359271136,
          -1.3913613995497782,
          -1.3659709922367504,
          -1.7739464469938493,
          0.9790656864957751,
          -0.5645792416112951,
          1.3080798586746816,
          -0.3710346468680679,
          -0.3831733338661221,
          0.6690962928884536,
          0.5510184334158387,
          0.7638864171285927,
          0.7173354808699728,
          -0.7350903538128789,
          1.3679739533904145,
          -1.6310206244484406,
          -0.39313156746717626,
          0.026323629417493655,
          -1.7894767650578125,
          -0.7225163772056884,
          1.9078118752926256,
          0.7217442983989159
         ]
        }
       ],
       "layout": {
        "legend": {
         "bgcolor": "#F5F6F9",
         "font": {
          "color": "#4D5663"
         }
        },
        "paper_bgcolor": "#F5F6F9",
        "plot_bgcolor": "#F5F6F9",
        "template": {
         "data": {
          "bar": [
           {
            "error_x": {
             "color": "#2a3f5f"
            },
            "error_y": {
             "color": "#2a3f5f"
            },
            "marker": {
             "line": {
              "color": "#E5ECF6",
              "width": 0.5
             },
             "pattern": {
              "fillmode": "overlay",
              "size": 10,
              "solidity": 0.2
             }
            },
            "type": "bar"
           }
          ],
          "barpolar": [
           {
            "marker": {
             "line": {
              "color": "#E5ECF6",
              "width": 0.5
             },
             "pattern": {
              "fillmode": "overlay",
              "size": 10,
              "solidity": 0.2
             }
            },
            "type": "barpolar"
           }
          ],
          "carpet": [
           {
            "aaxis": {
             "endlinecolor": "#2a3f5f",
             "gridcolor": "white",
             "linecolor": "white",
             "minorgridcolor": "white",
             "startlinecolor": "#2a3f5f"
            },
            "baxis": {
             "endlinecolor": "#2a3f5f",
             "gridcolor": "white",
             "linecolor": "white",
             "minorgridcolor": "white",
             "startlinecolor": "#2a3f5f"
            },
            "type": "carpet"
           }
          ],
          "choropleth": [
           {
            "colorbar": {
             "outlinewidth": 0,
             "ticks": ""
            },
            "type": "choropleth"
           }
          ],
          "contour": [
           {
            "colorbar": {
             "outlinewidth": 0,
             "ticks": ""
            },
            "colorscale": [
             [
              0,
              "#0d0887"
             ],
             [
              0.1111111111111111,
              "#46039f"
             ],
             [
              0.2222222222222222,
              "#7201a8"
             ],
             [
              0.3333333333333333,
              "#9c179e"
             ],
             [
              0.4444444444444444,
              "#bd3786"
             ],
             [
              0.5555555555555556,
              "#d8576b"
             ],
             [
              0.6666666666666666,
              "#ed7953"
             ],
             [
              0.7777777777777778,
              "#fb9f3a"
             ],
             [
              0.8888888888888888,
              "#fdca26"
             ],
             [
              1,
              "#f0f921"
             ]
            ],
            "type": "contour"
           }
          ],
          "contourcarpet": [
           {
            "colorbar": {
             "outlinewidth": 0,
             "ticks": ""
            },
            "type": "contourcarpet"
           }
          ],
          "heatmap": [
           {
            "colorbar": {
             "outlinewidth": 0,
             "ticks": ""
            },
            "colorscale": [
             [
              0,
              "#0d0887"
             ],
             [
              0.1111111111111111,
              "#46039f"
             ],
             [
              0.2222222222222222,
              "#7201a8"
             ],
             [
              0.3333333333333333,
              "#9c179e"
             ],
             [
              0.4444444444444444,
              "#bd3786"
             ],
             [
              0.5555555555555556,
              "#d8576b"
             ],
             [
              0.6666666666666666,
              "#ed7953"
             ],
             [
              0.7777777777777778,
              "#fb9f3a"
             ],
             [
              0.8888888888888888,
              "#fdca26"
             ],
             [
              1,
              "#f0f921"
             ]
            ],
            "type": "heatmap"
           }
          ],
          "heatmapgl": [
           {
            "colorbar": {
             "outlinewidth": 0,
             "ticks": ""
            },
            "colorscale": [
             [
              0,
              "#0d0887"
             ],
             [
              0.1111111111111111,
              "#46039f"
             ],
             [
              0.2222222222222222,
              "#7201a8"
             ],
             [
              0.3333333333333333,
              "#9c179e"
             ],
             [
              0.4444444444444444,
              "#bd3786"
             ],
             [
              0.5555555555555556,
              "#d8576b"
             ],
             [
              0.6666666666666666,
              "#ed7953"
             ],
             [
              0.7777777777777778,
              "#fb9f3a"
             ],
             [
              0.8888888888888888,
              "#fdca26"
             ],
             [
              1,
              "#f0f921"
             ]
            ],
            "type": "heatmapgl"
           }
          ],
          "histogram": [
           {
            "marker": {
             "pattern": {
              "fillmode": "overlay",
              "size": 10,
              "solidity": 0.2
             }
            },
            "type": "histogram"
           }
          ],
          "histogram2d": [
           {
            "colorbar": {
             "outlinewidth": 0,
             "ticks": ""
            },
            "colorscale": [
             [
              0,
              "#0d0887"
             ],
             [
              0.1111111111111111,
              "#46039f"
             ],
             [
              0.2222222222222222,
              "#7201a8"
             ],
             [
              0.3333333333333333,
              "#9c179e"
             ],
             [
              0.4444444444444444,
              "#bd3786"
             ],
             [
              0.5555555555555556,
              "#d8576b"
             ],
             [
              0.6666666666666666,
              "#ed7953"
             ],
             [
              0.7777777777777778,
              "#fb9f3a"
             ],
             [
              0.8888888888888888,
              "#fdca26"
             ],
             [
              1,
              "#f0f921"
             ]
            ],
            "type": "histogram2d"
           }
          ],
          "histogram2dcontour": [
           {
            "colorbar": {
             "outlinewidth": 0,
             "ticks": ""
            },
            "colorscale": [
             [
              0,
              "#0d0887"
             ],
             [
              0.1111111111111111,
              "#46039f"
             ],
             [
              0.2222222222222222,
              "#7201a8"
             ],
             [
              0.3333333333333333,
              "#9c179e"
             ],
             [
              0.4444444444444444,
              "#bd3786"
             ],
             [
              0.5555555555555556,
              "#d8576b"
             ],
             [
              0.6666666666666666,
              "#ed7953"
             ],
             [
              0.7777777777777778,
              "#fb9f3a"
             ],
             [
              0.8888888888888888,
              "#fdca26"
             ],
             [
              1,
              "#f0f921"
             ]
            ],
            "type": "histogram2dcontour"
           }
          ],
          "mesh3d": [
           {
            "colorbar": {
             "outlinewidth": 0,
             "ticks": ""
            },
            "type": "mesh3d"
           }
          ],
          "parcoords": [
           {
            "line": {
             "colorbar": {
              "outlinewidth": 0,
              "ticks": ""
             }
            },
            "type": "parcoords"
           }
          ],
          "pie": [
           {
            "automargin": true,
            "type": "pie"
           }
          ],
          "scatter": [
           {
            "marker": {
             "colorbar": {
              "outlinewidth": 0,
              "ticks": ""
             }
            },
            "type": "scatter"
           }
          ],
          "scatter3d": [
           {
            "line": {
             "colorbar": {
              "outlinewidth": 0,
              "ticks": ""
             }
            },
            "marker": {
             "colorbar": {
              "outlinewidth": 0,
              "ticks": ""
             }
            },
            "type": "scatter3d"
           }
          ],
          "scattercarpet": [
           {
            "marker": {
             "colorbar": {
              "outlinewidth": 0,
              "ticks": ""
             }
            },
            "type": "scattercarpet"
           }
          ],
          "scattergeo": [
           {
            "marker": {
             "colorbar": {
              "outlinewidth": 0,
              "ticks": ""
             }
            },
            "type": "scattergeo"
           }
          ],
          "scattergl": [
           {
            "marker": {
             "colorbar": {
              "outlinewidth": 0,
              "ticks": ""
             }
            },
            "type": "scattergl"
           }
          ],
          "scattermapbox": [
           {
            "marker": {
             "colorbar": {
              "outlinewidth": 0,
              "ticks": ""
             }
            },
            "type": "scattermapbox"
           }
          ],
          "scatterpolar": [
           {
            "marker": {
             "colorbar": {
              "outlinewidth": 0,
              "ticks": ""
             }
            },
            "type": "scatterpolar"
           }
          ],
          "scatterpolargl": [
           {
            "marker": {
             "colorbar": {
              "outlinewidth": 0,
              "ticks": ""
             }
            },
            "type": "scatterpolargl"
           }
          ],
          "scatterternary": [
           {
            "marker": {
             "colorbar": {
              "outlinewidth": 0,
              "ticks": ""
             }
            },
            "type": "scatterternary"
           }
          ],
          "surface": [
           {
            "colorbar": {
             "outlinewidth": 0,
             "ticks": ""
            },
            "colorscale": [
             [
              0,
              "#0d0887"
             ],
             [
              0.1111111111111111,
              "#46039f"
             ],
             [
              0.2222222222222222,
              "#7201a8"
             ],
             [
              0.3333333333333333,
              "#9c179e"
             ],
             [
              0.4444444444444444,
              "#bd3786"
             ],
             [
              0.5555555555555556,
              "#d8576b"
             ],
             [
              0.6666666666666666,
              "#ed7953"
             ],
             [
              0.7777777777777778,
              "#fb9f3a"
             ],
             [
              0.8888888888888888,
              "#fdca26"
             ],
             [
              1,
              "#f0f921"
             ]
            ],
            "type": "surface"
           }
          ],
          "table": [
           {
            "cells": {
             "fill": {
              "color": "#EBF0F8"
             },
             "line": {
              "color": "white"
             }
            },
            "header": {
             "fill": {
              "color": "#C8D4E3"
             },
             "line": {
              "color": "white"
             }
            },
            "type": "table"
           }
          ]
         },
         "layout": {
          "annotationdefaults": {
           "arrowcolor": "#2a3f5f",
           "arrowhead": 0,
           "arrowwidth": 1
          },
          "autotypenumbers": "strict",
          "coloraxis": {
           "colorbar": {
            "outlinewidth": 0,
            "ticks": ""
           }
          },
          "colorscale": {
           "diverging": [
            [
             0,
             "#8e0152"
            ],
            [
             0.1,
             "#c51b7d"
            ],
            [
             0.2,
             "#de77ae"
            ],
            [
             0.3,
             "#f1b6da"
            ],
            [
             0.4,
             "#fde0ef"
            ],
            [
             0.5,
             "#f7f7f7"
            ],
            [
             0.6,
             "#e6f5d0"
            ],
            [
             0.7,
             "#b8e186"
            ],
            [
             0.8,
             "#7fbc41"
            ],
            [
             0.9,
             "#4d9221"
            ],
            [
             1,
             "#276419"
            ]
           ],
           "sequential": [
            [
             0,
             "#0d0887"
            ],
            [
             0.1111111111111111,
             "#46039f"
            ],
            [
             0.2222222222222222,
             "#7201a8"
            ],
            [
             0.3333333333333333,
             "#9c179e"
            ],
            [
             0.4444444444444444,
             "#bd3786"
            ],
            [
             0.5555555555555556,
             "#d8576b"
            ],
            [
             0.6666666666666666,
             "#ed7953"
            ],
            [
             0.7777777777777778,
             "#fb9f3a"
            ],
            [
             0.8888888888888888,
             "#fdca26"
            ],
            [
             1,
             "#f0f921"
            ]
           ],
           "sequentialminus": [
            [
             0,
             "#0d0887"
            ],
            [
             0.1111111111111111,
             "#46039f"
            ],
            [
             0.2222222222222222,
             "#7201a8"
            ],
            [
             0.3333333333333333,
             "#9c179e"
            ],
            [
             0.4444444444444444,
             "#bd3786"
            ],
            [
             0.5555555555555556,
             "#d8576b"
            ],
            [
             0.6666666666666666,
             "#ed7953"
            ],
            [
             0.7777777777777778,
             "#fb9f3a"
            ],
            [
             0.8888888888888888,
             "#fdca26"
            ],
            [
             1,
             "#f0f921"
            ]
           ]
          },
          "colorway": [
           "#636efa",
           "#EF553B",
           "#00cc96",
           "#ab63fa",
           "#FFA15A",
           "#19d3f3",
           "#FF6692",
           "#B6E880",
           "#FF97FF",
           "#FECB52"
          ],
          "font": {
           "color": "#2a3f5f"
          },
          "geo": {
           "bgcolor": "white",
           "lakecolor": "white",
           "landcolor": "#E5ECF6",
           "showlakes": true,
           "showland": true,
           "subunitcolor": "white"
          },
          "hoverlabel": {
           "align": "left"
          },
          "hovermode": "closest",
          "mapbox": {
           "style": "light"
          },
          "paper_bgcolor": "white",
          "plot_bgcolor": "#E5ECF6",
          "polar": {
           "angularaxis": {
            "gridcolor": "white",
            "linecolor": "white",
            "ticks": ""
           },
           "bgcolor": "#E5ECF6",
           "radialaxis": {
            "gridcolor": "white",
            "linecolor": "white",
            "ticks": ""
           }
          },
          "scene": {
           "xaxis": {
            "backgroundcolor": "#E5ECF6",
            "gridcolor": "white",
            "gridwidth": 2,
            "linecolor": "white",
            "showbackground": true,
            "ticks": "",
            "zerolinecolor": "white"
           },
           "yaxis": {
            "backgroundcolor": "#E5ECF6",
            "gridcolor": "white",
            "gridwidth": 2,
            "linecolor": "white",
            "showbackground": true,
            "ticks": "",
            "zerolinecolor": "white"
           },
           "zaxis": {
            "backgroundcolor": "#E5ECF6",
            "gridcolor": "white",
            "gridwidth": 2,
            "linecolor": "white",
            "showbackground": true,
            "ticks": "",
            "zerolinecolor": "white"
           }
          },
          "shapedefaults": {
           "line": {
            "color": "#2a3f5f"
           }
          },
          "ternary": {
           "aaxis": {
            "gridcolor": "white",
            "linecolor": "white",
            "ticks": ""
           },
           "baxis": {
            "gridcolor": "white",
            "linecolor": "white",
            "ticks": ""
           },
           "bgcolor": "#E5ECF6",
           "caxis": {
            "gridcolor": "white",
            "linecolor": "white",
            "ticks": ""
           }
          },
          "title": {
           "x": 0.05
          },
          "xaxis": {
           "automargin": true,
           "gridcolor": "white",
           "linecolor": "white",
           "ticks": "",
           "title": {
            "standoff": 15
           },
           "zerolinecolor": "white",
           "zerolinewidth": 2
          },
          "yaxis": {
           "automargin": true,
           "gridcolor": "white",
           "linecolor": "white",
           "ticks": "",
           "title": {
            "standoff": 15
           },
           "zerolinecolor": "white",
           "zerolinewidth": 2
          }
         }
        },
        "title": {
         "font": {
          "color": "#4D5663"
         }
        },
        "xaxis": {
         "gridcolor": "#E1E5ED",
         "showgrid": true,
         "tickfont": {
          "color": "#4D5663"
         },
         "title": {
          "font": {
           "color": "#4D5663"
          },
          "text": ""
         },
         "zerolinecolor": "#E1E5ED"
        },
        "yaxis": {
         "gridcolor": "#E1E5ED",
         "showgrid": true,
         "tickfont": {
          "color": "#4D5663"
         },
         "title": {
          "font": {
           "color": "#4D5663"
          },
          "text": ""
         },
         "zerolinecolor": "#E1E5ED"
        }
       }
      },
      "text/html": [
       "<div>                            <div id=\"9c30b012-c3ed-47ae-a429-9cbdcff4a0f0\" class=\"plotly-graph-div\" style=\"height:525px; width:100%;\"></div>            <script type=\"text/javascript\">                require([\"plotly\"], function(Plotly) {                    window.PLOTLYENV=window.PLOTLYENV || {};\n",
       "                    window.PLOTLYENV.BASE_URL='https://plot.ly';                                    if (document.getElementById(\"9c30b012-c3ed-47ae-a429-9cbdcff4a0f0\")) {                    Plotly.newPlot(                        \"9c30b012-c3ed-47ae-a429-9cbdcff4a0f0\",                        [{\"line\":{\"color\":\"rgba(255, 153, 51, 1.0)\",\"dash\":\"solid\",\"shape\":\"linear\",\"width\":1.3},\"marker\":{\"size\":12,\"symbol\":\"circle\"},\"mode\":\"markers\",\"name\":\"B\",\"text\":\"\",\"x\":[-0.6123213313638834,1.3594760586323038,0.7157028374769693,0.7428268604041767,1.4387038289767837,-0.18659775442196597,1.4732645597761136,-1.0063295388071447,1.056092961661525,-2.47632273602315,-0.635452318342618,-0.44341162530791667,0.8603466277919531,0.07446614932749684,-0.1331131522466488,0.9950176867120871,-0.6469853058251499,-0.8700113105706968,0.7451915965836442,1.0080729109461022,1.3612656769446707,-0.46388543466577953,-1.6252556434939562,-0.9321225459929191,0.16520721127913351,1.109035311807075,-0.17481458358740606,-1.624426672284938,-0.1702527952572121,0.5692071778213524,-1.8522429631266695,-1.8274075534861318,1.4467135685260804,-0.2566950458043969,-0.31473561434280445,-1.3924295664519903,-1.5183227401831643,1.100316191055605,-1.3243172550303042,0.934613326420437,0.5058253582807383,0.6925078253422744,1.9416032539843482,-1.1472736624868352,0.6738495664997504,-0.47737184536099964,-1.641216335191951,-0.13222458670586418,-0.709692601338341,1.0704070534135786,-0.35957829928635193,1.1347015745407685,1.7394557819272984,0.10648238319660469,-1.2104409774898166,-0.21935452937051048,-0.7209436501354658,-0.36707627095778994,-0.4137095293103209,-0.14202313507910364,1.2665388927529673,1.1194663999265804,-1.2425290334764583,0.39840737442666446,0.8945368981705608,-0.9571858944373809,-0.4633202776630124,-0.9712012233075042,0.7208776529585661,0.7438375746122489,-1.3026515735400312,1.004468713016441,-0.34401917264171356,0.37856579146205005,0.5766908858096895,0.14489140687254426,0.5030487355914735,0.16656440729662095,-1.044040712361414,1.3940344198410861,-1.8958614932946471,-1.598344342488547,0.619097265217185,1.1247773545002318,-0.7131652820603137,-0.7259441325114188,0.3783084614135404,0.953242635318946,-1.0865438738709796,1.0560252986180356,-0.9152623676229141,-0.47689637661425693,-1.5731089650479364,0.45657205749455,-0.011860036772261388,-0.7254513536108076,0.5454745770976296,-1.669814686271186,1.5393007948667181,0.28512201838580503],\"y\":[2.4033726396064625,-0.3180661953813854,0.3575646009315945,-0.1105494946218425,-1.9893182998132442,0.12108998433814257,1.6231297492375656,-1.2060270018752517,-1.4763460598573717,-0.31605687258158366,-0.30143437365788345,-0.26399532166551437,0.9165050788909543,0.7736176343862297,0.9360968870348345,0.6558051320314173,-0.9571761584379436,-0.9924811564511132,0.7971918612956219,-0.37130794160576763,-0.2760754290236538,0.6900682486696768,1.5530644454787816,0.4313746272862494,0.606668375448992,-0.1678150518632239,-0.06562136516121853,1.1358032600451677,-1.555216491676847,2.3596114839686897,1.6849126218993657,-1.1076458633876247,0.19152751134038656,-2.418973945595888,0.46641748517612613,-0.21364558612811305,1.1480763571394446,0.059794594708253365,0.42198828304935004,-0.1278335244912023,-0.3434904890462654,0.6386561805665968,-0.14208161537358346,-0.21014682568625534,-1.1515120179039007,0.6423152244432342,0.5385251636516468,-1.2735301704460944,-0.9263130931462031,1.0528723780534726,1.398092729216517,0.7409688920291192,1.5330713382437804,1.2238886674459235,1.3021010010114673,0.9267666640747797,-1.0632816642972323,-0.853609509509939,1.4774215216322193,1.8375264582418434,1.2510879290725092,0.11877753746905721,1.0800394768582156,-1.31790521726136,-1.365923862710278,1.6836138765041453,-0.0050875497121913756,0.14030157148832426,-0.7439091480217016,0.3421569973368127,0.3176875279051301,-0.4658550524900476,1.5083142101265588,0.9342942058681324,0.038805998180403596,-0.5427143810390751,1.8653101105958274,0.9160042953261466,-0.7399792359271136,-1.3913613995497782,-1.3659709922367504,-1.7739464469938493,0.9790656864957751,-0.5645792416112951,1.3080798586746816,-0.3710346468680679,-0.3831733338661221,0.6690962928884536,0.5510184334158387,0.7638864171285927,0.7173354808699728,-0.7350903538128789,1.3679739533904145,-1.6310206244484406,-0.39313156746717626,0.026323629417493655,-1.7894767650578125,-0.7225163772056884,1.9078118752926256,0.7217442983989159],\"type\":\"scatter\"}],                        {\"legend\":{\"bgcolor\":\"#F5F6F9\",\"font\":{\"color\":\"#4D5663\"}},\"paper_bgcolor\":\"#F5F6F9\",\"plot_bgcolor\":\"#F5F6F9\",\"template\":{\"data\":{\"barpolar\":[{\"marker\":{\"line\":{\"color\":\"#E5ECF6\",\"width\":0.5},\"pattern\":{\"fillmode\":\"overlay\",\"size\":10,\"solidity\":0.2}},\"type\":\"barpolar\"}],\"bar\":[{\"error_x\":{\"color\":\"#2a3f5f\"},\"error_y\":{\"color\":\"#2a3f5f\"},\"marker\":{\"line\":{\"color\":\"#E5ECF6\",\"width\":0.5},\"pattern\":{\"fillmode\":\"overlay\",\"size\":10,\"solidity\":0.2}},\"type\":\"bar\"}],\"carpet\":[{\"aaxis\":{\"endlinecolor\":\"#2a3f5f\",\"gridcolor\":\"white\",\"linecolor\":\"white\",\"minorgridcolor\":\"white\",\"startlinecolor\":\"#2a3f5f\"},\"baxis\":{\"endlinecolor\":\"#2a3f5f\",\"gridcolor\":\"white\",\"linecolor\":\"white\",\"minorgridcolor\":\"white\",\"startlinecolor\":\"#2a3f5f\"},\"type\":\"carpet\"}],\"choropleth\":[{\"colorbar\":{\"outlinewidth\":0,\"ticks\":\"\"},\"type\":\"choropleth\"}],\"contourcarpet\":[{\"colorbar\":{\"outlinewidth\":0,\"ticks\":\"\"},\"type\":\"contourcarpet\"}],\"contour\":[{\"colorbar\":{\"outlinewidth\":0,\"ticks\":\"\"},\"colorscale\":[[0.0,\"#0d0887\"],[0.1111111111111111,\"#46039f\"],[0.2222222222222222,\"#7201a8\"],[0.3333333333333333,\"#9c179e\"],[0.4444444444444444,\"#bd3786\"],[0.5555555555555556,\"#d8576b\"],[0.6666666666666666,\"#ed7953\"],[0.7777777777777778,\"#fb9f3a\"],[0.8888888888888888,\"#fdca26\"],[1.0,\"#f0f921\"]],\"type\":\"contour\"}],\"heatmapgl\":[{\"colorbar\":{\"outlinewidth\":0,\"ticks\":\"\"},\"colorscale\":[[0.0,\"#0d0887\"],[0.1111111111111111,\"#46039f\"],[0.2222222222222222,\"#7201a8\"],[0.3333333333333333,\"#9c179e\"],[0.4444444444444444,\"#bd3786\"],[0.5555555555555556,\"#d8576b\"],[0.6666666666666666,\"#ed7953\"],[0.7777777777777778,\"#fb9f3a\"],[0.8888888888888888,\"#fdca26\"],[1.0,\"#f0f921\"]],\"type\":\"heatmapgl\"}],\"heatmap\":[{\"colorbar\":{\"outlinewidth\":0,\"ticks\":\"\"},\"colorscale\":[[0.0,\"#0d0887\"],[0.1111111111111111,\"#46039f\"],[0.2222222222222222,\"#7201a8\"],[0.3333333333333333,\"#9c179e\"],[0.4444444444444444,\"#bd3786\"],[0.5555555555555556,\"#d8576b\"],[0.6666666666666666,\"#ed7953\"],[0.7777777777777778,\"#fb9f3a\"],[0.8888888888888888,\"#fdca26\"],[1.0,\"#f0f921\"]],\"type\":\"heatmap\"}],\"histogram2dcontour\":[{\"colorbar\":{\"outlinewidth\":0,\"ticks\":\"\"},\"colorscale\":[[0.0,\"#0d0887\"],[0.1111111111111111,\"#46039f\"],[0.2222222222222222,\"#7201a8\"],[0.3333333333333333,\"#9c179e\"],[0.4444444444444444,\"#bd3786\"],[0.5555555555555556,\"#d8576b\"],[0.6666666666666666,\"#ed7953\"],[0.7777777777777778,\"#fb9f3a\"],[0.8888888888888888,\"#fdca26\"],[1.0,\"#f0f921\"]],\"type\":\"histogram2dcontour\"}],\"histogram2d\":[{\"colorbar\":{\"outlinewidth\":0,\"ticks\":\"\"},\"colorscale\":[[0.0,\"#0d0887\"],[0.1111111111111111,\"#46039f\"],[0.2222222222222222,\"#7201a8\"],[0.3333333333333333,\"#9c179e\"],[0.4444444444444444,\"#bd3786\"],[0.5555555555555556,\"#d8576b\"],[0.6666666666666666,\"#ed7953\"],[0.7777777777777778,\"#fb9f3a\"],[0.8888888888888888,\"#fdca26\"],[1.0,\"#f0f921\"]],\"type\":\"histogram2d\"}],\"histogram\":[{\"marker\":{\"pattern\":{\"fillmode\":\"overlay\",\"size\":10,\"solidity\":0.2}},\"type\":\"histogram\"}],\"mesh3d\":[{\"colorbar\":{\"outlinewidth\":0,\"ticks\":\"\"},\"type\":\"mesh3d\"}],\"parcoords\":[{\"line\":{\"colorbar\":{\"outlinewidth\":0,\"ticks\":\"\"}},\"type\":\"parcoords\"}],\"pie\":[{\"automargin\":true,\"type\":\"pie\"}],\"scatter3d\":[{\"line\":{\"colorbar\":{\"outlinewidth\":0,\"ticks\":\"\"}},\"marker\":{\"colorbar\":{\"outlinewidth\":0,\"ticks\":\"\"}},\"type\":\"scatter3d\"}],\"scattercarpet\":[{\"marker\":{\"colorbar\":{\"outlinewidth\":0,\"ticks\":\"\"}},\"type\":\"scattercarpet\"}],\"scattergeo\":[{\"marker\":{\"colorbar\":{\"outlinewidth\":0,\"ticks\":\"\"}},\"type\":\"scattergeo\"}],\"scattergl\":[{\"marker\":{\"colorbar\":{\"outlinewidth\":0,\"ticks\":\"\"}},\"type\":\"scattergl\"}],\"scattermapbox\":[{\"marker\":{\"colorbar\":{\"outlinewidth\":0,\"ticks\":\"\"}},\"type\":\"scattermapbox\"}],\"scatterpolargl\":[{\"marker\":{\"colorbar\":{\"outlinewidth\":0,\"ticks\":\"\"}},\"type\":\"scatterpolargl\"}],\"scatterpolar\":[{\"marker\":{\"colorbar\":{\"outlinewidth\":0,\"ticks\":\"\"}},\"type\":\"scatterpolar\"}],\"scatter\":[{\"marker\":{\"colorbar\":{\"outlinewidth\":0,\"ticks\":\"\"}},\"type\":\"scatter\"}],\"scatterternary\":[{\"marker\":{\"colorbar\":{\"outlinewidth\":0,\"ticks\":\"\"}},\"type\":\"scatterternary\"}],\"surface\":[{\"colorbar\":{\"outlinewidth\":0,\"ticks\":\"\"},\"colorscale\":[[0.0,\"#0d0887\"],[0.1111111111111111,\"#46039f\"],[0.2222222222222222,\"#7201a8\"],[0.3333333333333333,\"#9c179e\"],[0.4444444444444444,\"#bd3786\"],[0.5555555555555556,\"#d8576b\"],[0.6666666666666666,\"#ed7953\"],[0.7777777777777778,\"#fb9f3a\"],[0.8888888888888888,\"#fdca26\"],[1.0,\"#f0f921\"]],\"type\":\"surface\"}],\"table\":[{\"cells\":{\"fill\":{\"color\":\"#EBF0F8\"},\"line\":{\"color\":\"white\"}},\"header\":{\"fill\":{\"color\":\"#C8D4E3\"},\"line\":{\"color\":\"white\"}},\"type\":\"table\"}]},\"layout\":{\"annotationdefaults\":{\"arrowcolor\":\"#2a3f5f\",\"arrowhead\":0,\"arrowwidth\":1},\"autotypenumbers\":\"strict\",\"coloraxis\":{\"colorbar\":{\"outlinewidth\":0,\"ticks\":\"\"}},\"colorscale\":{\"diverging\":[[0,\"#8e0152\"],[0.1,\"#c51b7d\"],[0.2,\"#de77ae\"],[0.3,\"#f1b6da\"],[0.4,\"#fde0ef\"],[0.5,\"#f7f7f7\"],[0.6,\"#e6f5d0\"],[0.7,\"#b8e186\"],[0.8,\"#7fbc41\"],[0.9,\"#4d9221\"],[1,\"#276419\"]],\"sequential\":[[0.0,\"#0d0887\"],[0.1111111111111111,\"#46039f\"],[0.2222222222222222,\"#7201a8\"],[0.3333333333333333,\"#9c179e\"],[0.4444444444444444,\"#bd3786\"],[0.5555555555555556,\"#d8576b\"],[0.6666666666666666,\"#ed7953\"],[0.7777777777777778,\"#fb9f3a\"],[0.8888888888888888,\"#fdca26\"],[1.0,\"#f0f921\"]],\"sequentialminus\":[[0.0,\"#0d0887\"],[0.1111111111111111,\"#46039f\"],[0.2222222222222222,\"#7201a8\"],[0.3333333333333333,\"#9c179e\"],[0.4444444444444444,\"#bd3786\"],[0.5555555555555556,\"#d8576b\"],[0.6666666666666666,\"#ed7953\"],[0.7777777777777778,\"#fb9f3a\"],[0.8888888888888888,\"#fdca26\"],[1.0,\"#f0f921\"]]},\"colorway\":[\"#636efa\",\"#EF553B\",\"#00cc96\",\"#ab63fa\",\"#FFA15A\",\"#19d3f3\",\"#FF6692\",\"#B6E880\",\"#FF97FF\",\"#FECB52\"],\"font\":{\"color\":\"#2a3f5f\"},\"geo\":{\"bgcolor\":\"white\",\"lakecolor\":\"white\",\"landcolor\":\"#E5ECF6\",\"showlakes\":true,\"showland\":true,\"subunitcolor\":\"white\"},\"hoverlabel\":{\"align\":\"left\"},\"hovermode\":\"closest\",\"mapbox\":{\"style\":\"light\"},\"paper_bgcolor\":\"white\",\"plot_bgcolor\":\"#E5ECF6\",\"polar\":{\"angularaxis\":{\"gridcolor\":\"white\",\"linecolor\":\"white\",\"ticks\":\"\"},\"bgcolor\":\"#E5ECF6\",\"radialaxis\":{\"gridcolor\":\"white\",\"linecolor\":\"white\",\"ticks\":\"\"}},\"scene\":{\"xaxis\":{\"backgroundcolor\":\"#E5ECF6\",\"gridcolor\":\"white\",\"gridwidth\":2,\"linecolor\":\"white\",\"showbackground\":true,\"ticks\":\"\",\"zerolinecolor\":\"white\"},\"yaxis\":{\"backgroundcolor\":\"#E5ECF6\",\"gridcolor\":\"white\",\"gridwidth\":2,\"linecolor\":\"white\",\"showbackground\":true,\"ticks\":\"\",\"zerolinecolor\":\"white\"},\"zaxis\":{\"backgroundcolor\":\"#E5ECF6\",\"gridcolor\":\"white\",\"gridwidth\":2,\"linecolor\":\"white\",\"showbackground\":true,\"ticks\":\"\",\"zerolinecolor\":\"white\"}},\"shapedefaults\":{\"line\":{\"color\":\"#2a3f5f\"}},\"ternary\":{\"aaxis\":{\"gridcolor\":\"white\",\"linecolor\":\"white\",\"ticks\":\"\"},\"baxis\":{\"gridcolor\":\"white\",\"linecolor\":\"white\",\"ticks\":\"\"},\"bgcolor\":\"#E5ECF6\",\"caxis\":{\"gridcolor\":\"white\",\"linecolor\":\"white\",\"ticks\":\"\"}},\"title\":{\"x\":0.05},\"xaxis\":{\"automargin\":true,\"gridcolor\":\"white\",\"linecolor\":\"white\",\"ticks\":\"\",\"title\":{\"standoff\":15},\"zerolinecolor\":\"white\",\"zerolinewidth\":2},\"yaxis\":{\"automargin\":true,\"gridcolor\":\"white\",\"linecolor\":\"white\",\"ticks\":\"\",\"title\":{\"standoff\":15},\"zerolinecolor\":\"white\",\"zerolinewidth\":2}}},\"title\":{\"font\":{\"color\":\"#4D5663\"}},\"xaxis\":{\"gridcolor\":\"#E1E5ED\",\"showgrid\":true,\"tickfont\":{\"color\":\"#4D5663\"},\"title\":{\"font\":{\"color\":\"#4D5663\"},\"text\":\"\"},\"zerolinecolor\":\"#E1E5ED\"},\"yaxis\":{\"gridcolor\":\"#E1E5ED\",\"showgrid\":true,\"tickfont\":{\"color\":\"#4D5663\"},\"title\":{\"font\":{\"color\":\"#4D5663\"},\"text\":\"\"},\"zerolinecolor\":\"#E1E5ED\"}},                        {\"showLink\": true, \"linkText\": \"Export to plot.ly\", \"plotlyServerURL\": \"https://plot.ly\", \"responsive\": true}                    ).then(function(){\n",
       "                            \n",
       "var gd = document.getElementById('9c30b012-c3ed-47ae-a429-9cbdcff4a0f0');\n",
       "var x = new MutationObserver(function (mutations, observer) {{\n",
       "        var display = window.getComputedStyle(gd).display;\n",
       "        if (!display || display === 'none') {{\n",
       "            console.log([gd, 'removed!']);\n",
       "            Plotly.purge(gd);\n",
       "            observer.disconnect();\n",
       "        }}\n",
       "}});\n",
       "\n",
       "// Listen for the removal of the full notebook cells\n",
       "var notebookContainer = gd.closest('#notebook-container');\n",
       "if (notebookContainer) {{\n",
       "    x.observe(notebookContainer, {childList: true});\n",
       "}}\n",
       "\n",
       "// Listen for the clearing of the current output cell\n",
       "var outputEl = gd.closest('.output');\n",
       "if (outputEl) {{\n",
       "    x.observe(outputEl, {childList: true});\n",
       "}}\n",
       "\n",
       "                        })                };                });            </script>        </div>"
      ]
     },
     "metadata": {},
     "output_type": "display_data"
    }
   ],
   "source": [
    "df.iplot(kind='scatter', x='A', y='B', mode='markers')"
   ]
  },
  {
   "cell_type": "code",
   "execution_count": 44,
   "id": "712c137a",
   "metadata": {},
   "outputs": [
    {
     "data": {
      "application/vnd.plotly.v1+json": {
       "config": {
        "linkText": "Export to plot.ly",
        "plotlyServerURL": "https://plot.ly",
        "showLink": true
       },
       "data": [
        {
         "marker": {
          "color": "rgba(255, 153, 51, 0.6)",
          "line": {
           "color": "rgba(255, 153, 51, 1.0)",
           "width": 1
          }
         },
         "name": "Values",
         "orientation": "v",
         "text": "",
         "type": "bar",
         "x": [
          "A",
          "B",
          "C"
         ],
         "y": [
          17,
          25,
          36
         ]
        }
       ],
       "layout": {
        "legend": {
         "bgcolor": "#F5F6F9",
         "font": {
          "color": "#4D5663"
         }
        },
        "paper_bgcolor": "#F5F6F9",
        "plot_bgcolor": "#F5F6F9",
        "template": {
         "data": {
          "bar": [
           {
            "error_x": {
             "color": "#2a3f5f"
            },
            "error_y": {
             "color": "#2a3f5f"
            },
            "marker": {
             "line": {
              "color": "#E5ECF6",
              "width": 0.5
             },
             "pattern": {
              "fillmode": "overlay",
              "size": 10,
              "solidity": 0.2
             }
            },
            "type": "bar"
           }
          ],
          "barpolar": [
           {
            "marker": {
             "line": {
              "color": "#E5ECF6",
              "width": 0.5
             },
             "pattern": {
              "fillmode": "overlay",
              "size": 10,
              "solidity": 0.2
             }
            },
            "type": "barpolar"
           }
          ],
          "carpet": [
           {
            "aaxis": {
             "endlinecolor": "#2a3f5f",
             "gridcolor": "white",
             "linecolor": "white",
             "minorgridcolor": "white",
             "startlinecolor": "#2a3f5f"
            },
            "baxis": {
             "endlinecolor": "#2a3f5f",
             "gridcolor": "white",
             "linecolor": "white",
             "minorgridcolor": "white",
             "startlinecolor": "#2a3f5f"
            },
            "type": "carpet"
           }
          ],
          "choropleth": [
           {
            "colorbar": {
             "outlinewidth": 0,
             "ticks": ""
            },
            "type": "choropleth"
           }
          ],
          "contour": [
           {
            "colorbar": {
             "outlinewidth": 0,
             "ticks": ""
            },
            "colorscale": [
             [
              0,
              "#0d0887"
             ],
             [
              0.1111111111111111,
              "#46039f"
             ],
             [
              0.2222222222222222,
              "#7201a8"
             ],
             [
              0.3333333333333333,
              "#9c179e"
             ],
             [
              0.4444444444444444,
              "#bd3786"
             ],
             [
              0.5555555555555556,
              "#d8576b"
             ],
             [
              0.6666666666666666,
              "#ed7953"
             ],
             [
              0.7777777777777778,
              "#fb9f3a"
             ],
             [
              0.8888888888888888,
              "#fdca26"
             ],
             [
              1,
              "#f0f921"
             ]
            ],
            "type": "contour"
           }
          ],
          "contourcarpet": [
           {
            "colorbar": {
             "outlinewidth": 0,
             "ticks": ""
            },
            "type": "contourcarpet"
           }
          ],
          "heatmap": [
           {
            "colorbar": {
             "outlinewidth": 0,
             "ticks": ""
            },
            "colorscale": [
             [
              0,
              "#0d0887"
             ],
             [
              0.1111111111111111,
              "#46039f"
             ],
             [
              0.2222222222222222,
              "#7201a8"
             ],
             [
              0.3333333333333333,
              "#9c179e"
             ],
             [
              0.4444444444444444,
              "#bd3786"
             ],
             [
              0.5555555555555556,
              "#d8576b"
             ],
             [
              0.6666666666666666,
              "#ed7953"
             ],
             [
              0.7777777777777778,
              "#fb9f3a"
             ],
             [
              0.8888888888888888,
              "#fdca26"
             ],
             [
              1,
              "#f0f921"
             ]
            ],
            "type": "heatmap"
           }
          ],
          "heatmapgl": [
           {
            "colorbar": {
             "outlinewidth": 0,
             "ticks": ""
            },
            "colorscale": [
             [
              0,
              "#0d0887"
             ],
             [
              0.1111111111111111,
              "#46039f"
             ],
             [
              0.2222222222222222,
              "#7201a8"
             ],
             [
              0.3333333333333333,
              "#9c179e"
             ],
             [
              0.4444444444444444,
              "#bd3786"
             ],
             [
              0.5555555555555556,
              "#d8576b"
             ],
             [
              0.6666666666666666,
              "#ed7953"
             ],
             [
              0.7777777777777778,
              "#fb9f3a"
             ],
             [
              0.8888888888888888,
              "#fdca26"
             ],
             [
              1,
              "#f0f921"
             ]
            ],
            "type": "heatmapgl"
           }
          ],
          "histogram": [
           {
            "marker": {
             "pattern": {
              "fillmode": "overlay",
              "size": 10,
              "solidity": 0.2
             }
            },
            "type": "histogram"
           }
          ],
          "histogram2d": [
           {
            "colorbar": {
             "outlinewidth": 0,
             "ticks": ""
            },
            "colorscale": [
             [
              0,
              "#0d0887"
             ],
             [
              0.1111111111111111,
              "#46039f"
             ],
             [
              0.2222222222222222,
              "#7201a8"
             ],
             [
              0.3333333333333333,
              "#9c179e"
             ],
             [
              0.4444444444444444,
              "#bd3786"
             ],
             [
              0.5555555555555556,
              "#d8576b"
             ],
             [
              0.6666666666666666,
              "#ed7953"
             ],
             [
              0.7777777777777778,
              "#fb9f3a"
             ],
             [
              0.8888888888888888,
              "#fdca26"
             ],
             [
              1,
              "#f0f921"
             ]
            ],
            "type": "histogram2d"
           }
          ],
          "histogram2dcontour": [
           {
            "colorbar": {
             "outlinewidth": 0,
             "ticks": ""
            },
            "colorscale": [
             [
              0,
              "#0d0887"
             ],
             [
              0.1111111111111111,
              "#46039f"
             ],
             [
              0.2222222222222222,
              "#7201a8"
             ],
             [
              0.3333333333333333,
              "#9c179e"
             ],
             [
              0.4444444444444444,
              "#bd3786"
             ],
             [
              0.5555555555555556,
              "#d8576b"
             ],
             [
              0.6666666666666666,
              "#ed7953"
             ],
             [
              0.7777777777777778,
              "#fb9f3a"
             ],
             [
              0.8888888888888888,
              "#fdca26"
             ],
             [
              1,
              "#f0f921"
             ]
            ],
            "type": "histogram2dcontour"
           }
          ],
          "mesh3d": [
           {
            "colorbar": {
             "outlinewidth": 0,
             "ticks": ""
            },
            "type": "mesh3d"
           }
          ],
          "parcoords": [
           {
            "line": {
             "colorbar": {
              "outlinewidth": 0,
              "ticks": ""
             }
            },
            "type": "parcoords"
           }
          ],
          "pie": [
           {
            "automargin": true,
            "type": "pie"
           }
          ],
          "scatter": [
           {
            "marker": {
             "colorbar": {
              "outlinewidth": 0,
              "ticks": ""
             }
            },
            "type": "scatter"
           }
          ],
          "scatter3d": [
           {
            "line": {
             "colorbar": {
              "outlinewidth": 0,
              "ticks": ""
             }
            },
            "marker": {
             "colorbar": {
              "outlinewidth": 0,
              "ticks": ""
             }
            },
            "type": "scatter3d"
           }
          ],
          "scattercarpet": [
           {
            "marker": {
             "colorbar": {
              "outlinewidth": 0,
              "ticks": ""
             }
            },
            "type": "scattercarpet"
           }
          ],
          "scattergeo": [
           {
            "marker": {
             "colorbar": {
              "outlinewidth": 0,
              "ticks": ""
             }
            },
            "type": "scattergeo"
           }
          ],
          "scattergl": [
           {
            "marker": {
             "colorbar": {
              "outlinewidth": 0,
              "ticks": ""
             }
            },
            "type": "scattergl"
           }
          ],
          "scattermapbox": [
           {
            "marker": {
             "colorbar": {
              "outlinewidth": 0,
              "ticks": ""
             }
            },
            "type": "scattermapbox"
           }
          ],
          "scatterpolar": [
           {
            "marker": {
             "colorbar": {
              "outlinewidth": 0,
              "ticks": ""
             }
            },
            "type": "scatterpolar"
           }
          ],
          "scatterpolargl": [
           {
            "marker": {
             "colorbar": {
              "outlinewidth": 0,
              "ticks": ""
             }
            },
            "type": "scatterpolargl"
           }
          ],
          "scatterternary": [
           {
            "marker": {
             "colorbar": {
              "outlinewidth": 0,
              "ticks": ""
             }
            },
            "type": "scatterternary"
           }
          ],
          "surface": [
           {
            "colorbar": {
             "outlinewidth": 0,
             "ticks": ""
            },
            "colorscale": [
             [
              0,
              "#0d0887"
             ],
             [
              0.1111111111111111,
              "#46039f"
             ],
             [
              0.2222222222222222,
              "#7201a8"
             ],
             [
              0.3333333333333333,
              "#9c179e"
             ],
             [
              0.4444444444444444,
              "#bd3786"
             ],
             [
              0.5555555555555556,
              "#d8576b"
             ],
             [
              0.6666666666666666,
              "#ed7953"
             ],
             [
              0.7777777777777778,
              "#fb9f3a"
             ],
             [
              0.8888888888888888,
              "#fdca26"
             ],
             [
              1,
              "#f0f921"
             ]
            ],
            "type": "surface"
           }
          ],
          "table": [
           {
            "cells": {
             "fill": {
              "color": "#EBF0F8"
             },
             "line": {
              "color": "white"
             }
            },
            "header": {
             "fill": {
              "color": "#C8D4E3"
             },
             "line": {
              "color": "white"
             }
            },
            "type": "table"
           }
          ]
         },
         "layout": {
          "annotationdefaults": {
           "arrowcolor": "#2a3f5f",
           "arrowhead": 0,
           "arrowwidth": 1
          },
          "autotypenumbers": "strict",
          "coloraxis": {
           "colorbar": {
            "outlinewidth": 0,
            "ticks": ""
           }
          },
          "colorscale": {
           "diverging": [
            [
             0,
             "#8e0152"
            ],
            [
             0.1,
             "#c51b7d"
            ],
            [
             0.2,
             "#de77ae"
            ],
            [
             0.3,
             "#f1b6da"
            ],
            [
             0.4,
             "#fde0ef"
            ],
            [
             0.5,
             "#f7f7f7"
            ],
            [
             0.6,
             "#e6f5d0"
            ],
            [
             0.7,
             "#b8e186"
            ],
            [
             0.8,
             "#7fbc41"
            ],
            [
             0.9,
             "#4d9221"
            ],
            [
             1,
             "#276419"
            ]
           ],
           "sequential": [
            [
             0,
             "#0d0887"
            ],
            [
             0.1111111111111111,
             "#46039f"
            ],
            [
             0.2222222222222222,
             "#7201a8"
            ],
            [
             0.3333333333333333,
             "#9c179e"
            ],
            [
             0.4444444444444444,
             "#bd3786"
            ],
            [
             0.5555555555555556,
             "#d8576b"
            ],
            [
             0.6666666666666666,
             "#ed7953"
            ],
            [
             0.7777777777777778,
             "#fb9f3a"
            ],
            [
             0.8888888888888888,
             "#fdca26"
            ],
            [
             1,
             "#f0f921"
            ]
           ],
           "sequentialminus": [
            [
             0,
             "#0d0887"
            ],
            [
             0.1111111111111111,
             "#46039f"
            ],
            [
             0.2222222222222222,
             "#7201a8"
            ],
            [
             0.3333333333333333,
             "#9c179e"
            ],
            [
             0.4444444444444444,
             "#bd3786"
            ],
            [
             0.5555555555555556,
             "#d8576b"
            ],
            [
             0.6666666666666666,
             "#ed7953"
            ],
            [
             0.7777777777777778,
             "#fb9f3a"
            ],
            [
             0.8888888888888888,
             "#fdca26"
            ],
            [
             1,
             "#f0f921"
            ]
           ]
          },
          "colorway": [
           "#636efa",
           "#EF553B",
           "#00cc96",
           "#ab63fa",
           "#FFA15A",
           "#19d3f3",
           "#FF6692",
           "#B6E880",
           "#FF97FF",
           "#FECB52"
          ],
          "font": {
           "color": "#2a3f5f"
          },
          "geo": {
           "bgcolor": "white",
           "lakecolor": "white",
           "landcolor": "#E5ECF6",
           "showlakes": true,
           "showland": true,
           "subunitcolor": "white"
          },
          "hoverlabel": {
           "align": "left"
          },
          "hovermode": "closest",
          "mapbox": {
           "style": "light"
          },
          "paper_bgcolor": "white",
          "plot_bgcolor": "#E5ECF6",
          "polar": {
           "angularaxis": {
            "gridcolor": "white",
            "linecolor": "white",
            "ticks": ""
           },
           "bgcolor": "#E5ECF6",
           "radialaxis": {
            "gridcolor": "white",
            "linecolor": "white",
            "ticks": ""
           }
          },
          "scene": {
           "xaxis": {
            "backgroundcolor": "#E5ECF6",
            "gridcolor": "white",
            "gridwidth": 2,
            "linecolor": "white",
            "showbackground": true,
            "ticks": "",
            "zerolinecolor": "white"
           },
           "yaxis": {
            "backgroundcolor": "#E5ECF6",
            "gridcolor": "white",
            "gridwidth": 2,
            "linecolor": "white",
            "showbackground": true,
            "ticks": "",
            "zerolinecolor": "white"
           },
           "zaxis": {
            "backgroundcolor": "#E5ECF6",
            "gridcolor": "white",
            "gridwidth": 2,
            "linecolor": "white",
            "showbackground": true,
            "ticks": "",
            "zerolinecolor": "white"
           }
          },
          "shapedefaults": {
           "line": {
            "color": "#2a3f5f"
           }
          },
          "ternary": {
           "aaxis": {
            "gridcolor": "white",
            "linecolor": "white",
            "ticks": ""
           },
           "baxis": {
            "gridcolor": "white",
            "linecolor": "white",
            "ticks": ""
           },
           "bgcolor": "#E5ECF6",
           "caxis": {
            "gridcolor": "white",
            "linecolor": "white",
            "ticks": ""
           }
          },
          "title": {
           "x": 0.05
          },
          "xaxis": {
           "automargin": true,
           "gridcolor": "white",
           "linecolor": "white",
           "ticks": "",
           "title": {
            "standoff": 15
           },
           "zerolinecolor": "white",
           "zerolinewidth": 2
          },
          "yaxis": {
           "automargin": true,
           "gridcolor": "white",
           "linecolor": "white",
           "ticks": "",
           "title": {
            "standoff": 15
           },
           "zerolinecolor": "white",
           "zerolinewidth": 2
          }
         }
        },
        "title": {
         "font": {
          "color": "#4D5663"
         }
        },
        "xaxis": {
         "gridcolor": "#E1E5ED",
         "showgrid": true,
         "tickfont": {
          "color": "#4D5663"
         },
         "title": {
          "font": {
           "color": "#4D5663"
          },
          "text": ""
         },
         "zerolinecolor": "#E1E5ED"
        },
        "yaxis": {
         "gridcolor": "#E1E5ED",
         "showgrid": true,
         "tickfont": {
          "color": "#4D5663"
         },
         "title": {
          "font": {
           "color": "#4D5663"
          },
          "text": ""
         },
         "zerolinecolor": "#E1E5ED"
        }
       }
      },
      "text/html": [
       "<div>                            <div id=\"9c6d9642-bced-44e5-9e1f-9442de139d66\" class=\"plotly-graph-div\" style=\"height:525px; width:100%;\"></div>            <script type=\"text/javascript\">                require([\"plotly\"], function(Plotly) {                    window.PLOTLYENV=window.PLOTLYENV || {};\n",
       "                    window.PLOTLYENV.BASE_URL='https://plot.ly';                                    if (document.getElementById(\"9c6d9642-bced-44e5-9e1f-9442de139d66\")) {                    Plotly.newPlot(                        \"9c6d9642-bced-44e5-9e1f-9442de139d66\",                        [{\"marker\":{\"color\":\"rgba(255, 153, 51, 0.6)\",\"line\":{\"color\":\"rgba(255, 153, 51, 1.0)\",\"width\":1}},\"name\":\"Values\",\"orientation\":\"v\",\"text\":\"\",\"x\":[\"A\",\"B\",\"C\"],\"y\":[17,25,36],\"type\":\"bar\"}],                        {\"legend\":{\"bgcolor\":\"#F5F6F9\",\"font\":{\"color\":\"#4D5663\"}},\"paper_bgcolor\":\"#F5F6F9\",\"plot_bgcolor\":\"#F5F6F9\",\"template\":{\"data\":{\"barpolar\":[{\"marker\":{\"line\":{\"color\":\"#E5ECF6\",\"width\":0.5},\"pattern\":{\"fillmode\":\"overlay\",\"size\":10,\"solidity\":0.2}},\"type\":\"barpolar\"}],\"bar\":[{\"error_x\":{\"color\":\"#2a3f5f\"},\"error_y\":{\"color\":\"#2a3f5f\"},\"marker\":{\"line\":{\"color\":\"#E5ECF6\",\"width\":0.5},\"pattern\":{\"fillmode\":\"overlay\",\"size\":10,\"solidity\":0.2}},\"type\":\"bar\"}],\"carpet\":[{\"aaxis\":{\"endlinecolor\":\"#2a3f5f\",\"gridcolor\":\"white\",\"linecolor\":\"white\",\"minorgridcolor\":\"white\",\"startlinecolor\":\"#2a3f5f\"},\"baxis\":{\"endlinecolor\":\"#2a3f5f\",\"gridcolor\":\"white\",\"linecolor\":\"white\",\"minorgridcolor\":\"white\",\"startlinecolor\":\"#2a3f5f\"},\"type\":\"carpet\"}],\"choropleth\":[{\"colorbar\":{\"outlinewidth\":0,\"ticks\":\"\"},\"type\":\"choropleth\"}],\"contourcarpet\":[{\"colorbar\":{\"outlinewidth\":0,\"ticks\":\"\"},\"type\":\"contourcarpet\"}],\"contour\":[{\"colorbar\":{\"outlinewidth\":0,\"ticks\":\"\"},\"colorscale\":[[0.0,\"#0d0887\"],[0.1111111111111111,\"#46039f\"],[0.2222222222222222,\"#7201a8\"],[0.3333333333333333,\"#9c179e\"],[0.4444444444444444,\"#bd3786\"],[0.5555555555555556,\"#d8576b\"],[0.6666666666666666,\"#ed7953\"],[0.7777777777777778,\"#fb9f3a\"],[0.8888888888888888,\"#fdca26\"],[1.0,\"#f0f921\"]],\"type\":\"contour\"}],\"heatmapgl\":[{\"colorbar\":{\"outlinewidth\":0,\"ticks\":\"\"},\"colorscale\":[[0.0,\"#0d0887\"],[0.1111111111111111,\"#46039f\"],[0.2222222222222222,\"#7201a8\"],[0.3333333333333333,\"#9c179e\"],[0.4444444444444444,\"#bd3786\"],[0.5555555555555556,\"#d8576b\"],[0.6666666666666666,\"#ed7953\"],[0.7777777777777778,\"#fb9f3a\"],[0.8888888888888888,\"#fdca26\"],[1.0,\"#f0f921\"]],\"type\":\"heatmapgl\"}],\"heatmap\":[{\"colorbar\":{\"outlinewidth\":0,\"ticks\":\"\"},\"colorscale\":[[0.0,\"#0d0887\"],[0.1111111111111111,\"#46039f\"],[0.2222222222222222,\"#7201a8\"],[0.3333333333333333,\"#9c179e\"],[0.4444444444444444,\"#bd3786\"],[0.5555555555555556,\"#d8576b\"],[0.6666666666666666,\"#ed7953\"],[0.7777777777777778,\"#fb9f3a\"],[0.8888888888888888,\"#fdca26\"],[1.0,\"#f0f921\"]],\"type\":\"heatmap\"}],\"histogram2dcontour\":[{\"colorbar\":{\"outlinewidth\":0,\"ticks\":\"\"},\"colorscale\":[[0.0,\"#0d0887\"],[0.1111111111111111,\"#46039f\"],[0.2222222222222222,\"#7201a8\"],[0.3333333333333333,\"#9c179e\"],[0.4444444444444444,\"#bd3786\"],[0.5555555555555556,\"#d8576b\"],[0.6666666666666666,\"#ed7953\"],[0.7777777777777778,\"#fb9f3a\"],[0.8888888888888888,\"#fdca26\"],[1.0,\"#f0f921\"]],\"type\":\"histogram2dcontour\"}],\"histogram2d\":[{\"colorbar\":{\"outlinewidth\":0,\"ticks\":\"\"},\"colorscale\":[[0.0,\"#0d0887\"],[0.1111111111111111,\"#46039f\"],[0.2222222222222222,\"#7201a8\"],[0.3333333333333333,\"#9c179e\"],[0.4444444444444444,\"#bd3786\"],[0.5555555555555556,\"#d8576b\"],[0.6666666666666666,\"#ed7953\"],[0.7777777777777778,\"#fb9f3a\"],[0.8888888888888888,\"#fdca26\"],[1.0,\"#f0f921\"]],\"type\":\"histogram2d\"}],\"histogram\":[{\"marker\":{\"pattern\":{\"fillmode\":\"overlay\",\"size\":10,\"solidity\":0.2}},\"type\":\"histogram\"}],\"mesh3d\":[{\"colorbar\":{\"outlinewidth\":0,\"ticks\":\"\"},\"type\":\"mesh3d\"}],\"parcoords\":[{\"line\":{\"colorbar\":{\"outlinewidth\":0,\"ticks\":\"\"}},\"type\":\"parcoords\"}],\"pie\":[{\"automargin\":true,\"type\":\"pie\"}],\"scatter3d\":[{\"line\":{\"colorbar\":{\"outlinewidth\":0,\"ticks\":\"\"}},\"marker\":{\"colorbar\":{\"outlinewidth\":0,\"ticks\":\"\"}},\"type\":\"scatter3d\"}],\"scattercarpet\":[{\"marker\":{\"colorbar\":{\"outlinewidth\":0,\"ticks\":\"\"}},\"type\":\"scattercarpet\"}],\"scattergeo\":[{\"marker\":{\"colorbar\":{\"outlinewidth\":0,\"ticks\":\"\"}},\"type\":\"scattergeo\"}],\"scattergl\":[{\"marker\":{\"colorbar\":{\"outlinewidth\":0,\"ticks\":\"\"}},\"type\":\"scattergl\"}],\"scattermapbox\":[{\"marker\":{\"colorbar\":{\"outlinewidth\":0,\"ticks\":\"\"}},\"type\":\"scattermapbox\"}],\"scatterpolargl\":[{\"marker\":{\"colorbar\":{\"outlinewidth\":0,\"ticks\":\"\"}},\"type\":\"scatterpolargl\"}],\"scatterpolar\":[{\"marker\":{\"colorbar\":{\"outlinewidth\":0,\"ticks\":\"\"}},\"type\":\"scatterpolar\"}],\"scatter\":[{\"marker\":{\"colorbar\":{\"outlinewidth\":0,\"ticks\":\"\"}},\"type\":\"scatter\"}],\"scatterternary\":[{\"marker\":{\"colorbar\":{\"outlinewidth\":0,\"ticks\":\"\"}},\"type\":\"scatterternary\"}],\"surface\":[{\"colorbar\":{\"outlinewidth\":0,\"ticks\":\"\"},\"colorscale\":[[0.0,\"#0d0887\"],[0.1111111111111111,\"#46039f\"],[0.2222222222222222,\"#7201a8\"],[0.3333333333333333,\"#9c179e\"],[0.4444444444444444,\"#bd3786\"],[0.5555555555555556,\"#d8576b\"],[0.6666666666666666,\"#ed7953\"],[0.7777777777777778,\"#fb9f3a\"],[0.8888888888888888,\"#fdca26\"],[1.0,\"#f0f921\"]],\"type\":\"surface\"}],\"table\":[{\"cells\":{\"fill\":{\"color\":\"#EBF0F8\"},\"line\":{\"color\":\"white\"}},\"header\":{\"fill\":{\"color\":\"#C8D4E3\"},\"line\":{\"color\":\"white\"}},\"type\":\"table\"}]},\"layout\":{\"annotationdefaults\":{\"arrowcolor\":\"#2a3f5f\",\"arrowhead\":0,\"arrowwidth\":1},\"autotypenumbers\":\"strict\",\"coloraxis\":{\"colorbar\":{\"outlinewidth\":0,\"ticks\":\"\"}},\"colorscale\":{\"diverging\":[[0,\"#8e0152\"],[0.1,\"#c51b7d\"],[0.2,\"#de77ae\"],[0.3,\"#f1b6da\"],[0.4,\"#fde0ef\"],[0.5,\"#f7f7f7\"],[0.6,\"#e6f5d0\"],[0.7,\"#b8e186\"],[0.8,\"#7fbc41\"],[0.9,\"#4d9221\"],[1,\"#276419\"]],\"sequential\":[[0.0,\"#0d0887\"],[0.1111111111111111,\"#46039f\"],[0.2222222222222222,\"#7201a8\"],[0.3333333333333333,\"#9c179e\"],[0.4444444444444444,\"#bd3786\"],[0.5555555555555556,\"#d8576b\"],[0.6666666666666666,\"#ed7953\"],[0.7777777777777778,\"#fb9f3a\"],[0.8888888888888888,\"#fdca26\"],[1.0,\"#f0f921\"]],\"sequentialminus\":[[0.0,\"#0d0887\"],[0.1111111111111111,\"#46039f\"],[0.2222222222222222,\"#7201a8\"],[0.3333333333333333,\"#9c179e\"],[0.4444444444444444,\"#bd3786\"],[0.5555555555555556,\"#d8576b\"],[0.6666666666666666,\"#ed7953\"],[0.7777777777777778,\"#fb9f3a\"],[0.8888888888888888,\"#fdca26\"],[1.0,\"#f0f921\"]]},\"colorway\":[\"#636efa\",\"#EF553B\",\"#00cc96\",\"#ab63fa\",\"#FFA15A\",\"#19d3f3\",\"#FF6692\",\"#B6E880\",\"#FF97FF\",\"#FECB52\"],\"font\":{\"color\":\"#2a3f5f\"},\"geo\":{\"bgcolor\":\"white\",\"lakecolor\":\"white\",\"landcolor\":\"#E5ECF6\",\"showlakes\":true,\"showland\":true,\"subunitcolor\":\"white\"},\"hoverlabel\":{\"align\":\"left\"},\"hovermode\":\"closest\",\"mapbox\":{\"style\":\"light\"},\"paper_bgcolor\":\"white\",\"plot_bgcolor\":\"#E5ECF6\",\"polar\":{\"angularaxis\":{\"gridcolor\":\"white\",\"linecolor\":\"white\",\"ticks\":\"\"},\"bgcolor\":\"#E5ECF6\",\"radialaxis\":{\"gridcolor\":\"white\",\"linecolor\":\"white\",\"ticks\":\"\"}},\"scene\":{\"xaxis\":{\"backgroundcolor\":\"#E5ECF6\",\"gridcolor\":\"white\",\"gridwidth\":2,\"linecolor\":\"white\",\"showbackground\":true,\"ticks\":\"\",\"zerolinecolor\":\"white\"},\"yaxis\":{\"backgroundcolor\":\"#E5ECF6\",\"gridcolor\":\"white\",\"gridwidth\":2,\"linecolor\":\"white\",\"showbackground\":true,\"ticks\":\"\",\"zerolinecolor\":\"white\"},\"zaxis\":{\"backgroundcolor\":\"#E5ECF6\",\"gridcolor\":\"white\",\"gridwidth\":2,\"linecolor\":\"white\",\"showbackground\":true,\"ticks\":\"\",\"zerolinecolor\":\"white\"}},\"shapedefaults\":{\"line\":{\"color\":\"#2a3f5f\"}},\"ternary\":{\"aaxis\":{\"gridcolor\":\"white\",\"linecolor\":\"white\",\"ticks\":\"\"},\"baxis\":{\"gridcolor\":\"white\",\"linecolor\":\"white\",\"ticks\":\"\"},\"bgcolor\":\"#E5ECF6\",\"caxis\":{\"gridcolor\":\"white\",\"linecolor\":\"white\",\"ticks\":\"\"}},\"title\":{\"x\":0.05},\"xaxis\":{\"automargin\":true,\"gridcolor\":\"white\",\"linecolor\":\"white\",\"ticks\":\"\",\"title\":{\"standoff\":15},\"zerolinecolor\":\"white\",\"zerolinewidth\":2},\"yaxis\":{\"automargin\":true,\"gridcolor\":\"white\",\"linecolor\":\"white\",\"ticks\":\"\",\"title\":{\"standoff\":15},\"zerolinecolor\":\"white\",\"zerolinewidth\":2}}},\"title\":{\"font\":{\"color\":\"#4D5663\"}},\"xaxis\":{\"gridcolor\":\"#E1E5ED\",\"showgrid\":true,\"tickfont\":{\"color\":\"#4D5663\"},\"title\":{\"font\":{\"color\":\"#4D5663\"},\"text\":\"\"},\"zerolinecolor\":\"#E1E5ED\"},\"yaxis\":{\"gridcolor\":\"#E1E5ED\",\"showgrid\":true,\"tickfont\":{\"color\":\"#4D5663\"},\"title\":{\"font\":{\"color\":\"#4D5663\"},\"text\":\"\"},\"zerolinecolor\":\"#E1E5ED\"}},                        {\"showLink\": true, \"linkText\": \"Export to plot.ly\", \"plotlyServerURL\": \"https://plot.ly\", \"responsive\": true}                    ).then(function(){\n",
       "                            \n",
       "var gd = document.getElementById('9c6d9642-bced-44e5-9e1f-9442de139d66');\n",
       "var x = new MutationObserver(function (mutations, observer) {{\n",
       "        var display = window.getComputedStyle(gd).display;\n",
       "        if (!display || display === 'none') {{\n",
       "            console.log([gd, 'removed!']);\n",
       "            Plotly.purge(gd);\n",
       "            observer.disconnect();\n",
       "        }}\n",
       "}});\n",
       "\n",
       "// Listen for the removal of the full notebook cells\n",
       "var notebookContainer = gd.closest('#notebook-container');\n",
       "if (notebookContainer) {{\n",
       "    x.observe(notebookContainer, {childList: true});\n",
       "}}\n",
       "\n",
       "// Listen for the clearing of the current output cell\n",
       "var outputEl = gd.closest('.output');\n",
       "if (outputEl) {{\n",
       "    x.observe(outputEl, {childList: true});\n",
       "}}\n",
       "\n",
       "                        })                };                });            </script>        </div>"
      ]
     },
     "metadata": {},
     "output_type": "display_data"
    }
   ],
   "source": [
    "df2.iplot(kind='bar', x='Category', y='Values')"
   ]
  },
  {
   "cell_type": "code",
   "execution_count": 47,
   "id": "dd972a05",
   "metadata": {},
   "outputs": [
    {
     "data": {
      "application/vnd.plotly.v1+json": {
       "config": {
        "linkText": "Export to plot.ly",
        "plotlyServerURL": "https://plot.ly",
        "showLink": true
       },
       "data": [
        {
         "marker": {
          "color": "rgba(255, 153, 51, 0.6)",
          "line": {
           "color": "rgba(255, 153, 51, 1.0)",
           "width": 1
          }
         },
         "name": "None",
         "orientation": "v",
         "text": "",
         "type": "bar",
         "x": [
          "A",
          "B",
          "C",
          "D"
         ],
         "y": [
          -4.455356751943976,
          15.352389028312162,
          2.0430389118836914,
          12.008386767087682
         ]
        }
       ],
       "layout": {
        "legend": {
         "bgcolor": "#F5F6F9",
         "font": {
          "color": "#4D5663"
         }
        },
        "paper_bgcolor": "#F5F6F9",
        "plot_bgcolor": "#F5F6F9",
        "template": {
         "data": {
          "bar": [
           {
            "error_x": {
             "color": "#2a3f5f"
            },
            "error_y": {
             "color": "#2a3f5f"
            },
            "marker": {
             "line": {
              "color": "#E5ECF6",
              "width": 0.5
             },
             "pattern": {
              "fillmode": "overlay",
              "size": 10,
              "solidity": 0.2
             }
            },
            "type": "bar"
           }
          ],
          "barpolar": [
           {
            "marker": {
             "line": {
              "color": "#E5ECF6",
              "width": 0.5
             },
             "pattern": {
              "fillmode": "overlay",
              "size": 10,
              "solidity": 0.2
             }
            },
            "type": "barpolar"
           }
          ],
          "carpet": [
           {
            "aaxis": {
             "endlinecolor": "#2a3f5f",
             "gridcolor": "white",
             "linecolor": "white",
             "minorgridcolor": "white",
             "startlinecolor": "#2a3f5f"
            },
            "baxis": {
             "endlinecolor": "#2a3f5f",
             "gridcolor": "white",
             "linecolor": "white",
             "minorgridcolor": "white",
             "startlinecolor": "#2a3f5f"
            },
            "type": "carpet"
           }
          ],
          "choropleth": [
           {
            "colorbar": {
             "outlinewidth": 0,
             "ticks": ""
            },
            "type": "choropleth"
           }
          ],
          "contour": [
           {
            "colorbar": {
             "outlinewidth": 0,
             "ticks": ""
            },
            "colorscale": [
             [
              0,
              "#0d0887"
             ],
             [
              0.1111111111111111,
              "#46039f"
             ],
             [
              0.2222222222222222,
              "#7201a8"
             ],
             [
              0.3333333333333333,
              "#9c179e"
             ],
             [
              0.4444444444444444,
              "#bd3786"
             ],
             [
              0.5555555555555556,
              "#d8576b"
             ],
             [
              0.6666666666666666,
              "#ed7953"
             ],
             [
              0.7777777777777778,
              "#fb9f3a"
             ],
             [
              0.8888888888888888,
              "#fdca26"
             ],
             [
              1,
              "#f0f921"
             ]
            ],
            "type": "contour"
           }
          ],
          "contourcarpet": [
           {
            "colorbar": {
             "outlinewidth": 0,
             "ticks": ""
            },
            "type": "contourcarpet"
           }
          ],
          "heatmap": [
           {
            "colorbar": {
             "outlinewidth": 0,
             "ticks": ""
            },
            "colorscale": [
             [
              0,
              "#0d0887"
             ],
             [
              0.1111111111111111,
              "#46039f"
             ],
             [
              0.2222222222222222,
              "#7201a8"
             ],
             [
              0.3333333333333333,
              "#9c179e"
             ],
             [
              0.4444444444444444,
              "#bd3786"
             ],
             [
              0.5555555555555556,
              "#d8576b"
             ],
             [
              0.6666666666666666,
              "#ed7953"
             ],
             [
              0.7777777777777778,
              "#fb9f3a"
             ],
             [
              0.8888888888888888,
              "#fdca26"
             ],
             [
              1,
              "#f0f921"
             ]
            ],
            "type": "heatmap"
           }
          ],
          "heatmapgl": [
           {
            "colorbar": {
             "outlinewidth": 0,
             "ticks": ""
            },
            "colorscale": [
             [
              0,
              "#0d0887"
             ],
             [
              0.1111111111111111,
              "#46039f"
             ],
             [
              0.2222222222222222,
              "#7201a8"
             ],
             [
              0.3333333333333333,
              "#9c179e"
             ],
             [
              0.4444444444444444,
              "#bd3786"
             ],
             [
              0.5555555555555556,
              "#d8576b"
             ],
             [
              0.6666666666666666,
              "#ed7953"
             ],
             [
              0.7777777777777778,
              "#fb9f3a"
             ],
             [
              0.8888888888888888,
              "#fdca26"
             ],
             [
              1,
              "#f0f921"
             ]
            ],
            "type": "heatmapgl"
           }
          ],
          "histogram": [
           {
            "marker": {
             "pattern": {
              "fillmode": "overlay",
              "size": 10,
              "solidity": 0.2
             }
            },
            "type": "histogram"
           }
          ],
          "histogram2d": [
           {
            "colorbar": {
             "outlinewidth": 0,
             "ticks": ""
            },
            "colorscale": [
             [
              0,
              "#0d0887"
             ],
             [
              0.1111111111111111,
              "#46039f"
             ],
             [
              0.2222222222222222,
              "#7201a8"
             ],
             [
              0.3333333333333333,
              "#9c179e"
             ],
             [
              0.4444444444444444,
              "#bd3786"
             ],
             [
              0.5555555555555556,
              "#d8576b"
             ],
             [
              0.6666666666666666,
              "#ed7953"
             ],
             [
              0.7777777777777778,
              "#fb9f3a"
             ],
             [
              0.8888888888888888,
              "#fdca26"
             ],
             [
              1,
              "#f0f921"
             ]
            ],
            "type": "histogram2d"
           }
          ],
          "histogram2dcontour": [
           {
            "colorbar": {
             "outlinewidth": 0,
             "ticks": ""
            },
            "colorscale": [
             [
              0,
              "#0d0887"
             ],
             [
              0.1111111111111111,
              "#46039f"
             ],
             [
              0.2222222222222222,
              "#7201a8"
             ],
             [
              0.3333333333333333,
              "#9c179e"
             ],
             [
              0.4444444444444444,
              "#bd3786"
             ],
             [
              0.5555555555555556,
              "#d8576b"
             ],
             [
              0.6666666666666666,
              "#ed7953"
             ],
             [
              0.7777777777777778,
              "#fb9f3a"
             ],
             [
              0.8888888888888888,
              "#fdca26"
             ],
             [
              1,
              "#f0f921"
             ]
            ],
            "type": "histogram2dcontour"
           }
          ],
          "mesh3d": [
           {
            "colorbar": {
             "outlinewidth": 0,
             "ticks": ""
            },
            "type": "mesh3d"
           }
          ],
          "parcoords": [
           {
            "line": {
             "colorbar": {
              "outlinewidth": 0,
              "ticks": ""
             }
            },
            "type": "parcoords"
           }
          ],
          "pie": [
           {
            "automargin": true,
            "type": "pie"
           }
          ],
          "scatter": [
           {
            "marker": {
             "colorbar": {
              "outlinewidth": 0,
              "ticks": ""
             }
            },
            "type": "scatter"
           }
          ],
          "scatter3d": [
           {
            "line": {
             "colorbar": {
              "outlinewidth": 0,
              "ticks": ""
             }
            },
            "marker": {
             "colorbar": {
              "outlinewidth": 0,
              "ticks": ""
             }
            },
            "type": "scatter3d"
           }
          ],
          "scattercarpet": [
           {
            "marker": {
             "colorbar": {
              "outlinewidth": 0,
              "ticks": ""
             }
            },
            "type": "scattercarpet"
           }
          ],
          "scattergeo": [
           {
            "marker": {
             "colorbar": {
              "outlinewidth": 0,
              "ticks": ""
             }
            },
            "type": "scattergeo"
           }
          ],
          "scattergl": [
           {
            "marker": {
             "colorbar": {
              "outlinewidth": 0,
              "ticks": ""
             }
            },
            "type": "scattergl"
           }
          ],
          "scattermapbox": [
           {
            "marker": {
             "colorbar": {
              "outlinewidth": 0,
              "ticks": ""
             }
            },
            "type": "scattermapbox"
           }
          ],
          "scatterpolar": [
           {
            "marker": {
             "colorbar": {
              "outlinewidth": 0,
              "ticks": ""
             }
            },
            "type": "scatterpolar"
           }
          ],
          "scatterpolargl": [
           {
            "marker": {
             "colorbar": {
              "outlinewidth": 0,
              "ticks": ""
             }
            },
            "type": "scatterpolargl"
           }
          ],
          "scatterternary": [
           {
            "marker": {
             "colorbar": {
              "outlinewidth": 0,
              "ticks": ""
             }
            },
            "type": "scatterternary"
           }
          ],
          "surface": [
           {
            "colorbar": {
             "outlinewidth": 0,
             "ticks": ""
            },
            "colorscale": [
             [
              0,
              "#0d0887"
             ],
             [
              0.1111111111111111,
              "#46039f"
             ],
             [
              0.2222222222222222,
              "#7201a8"
             ],
             [
              0.3333333333333333,
              "#9c179e"
             ],
             [
              0.4444444444444444,
              "#bd3786"
             ],
             [
              0.5555555555555556,
              "#d8576b"
             ],
             [
              0.6666666666666666,
              "#ed7953"
             ],
             [
              0.7777777777777778,
              "#fb9f3a"
             ],
             [
              0.8888888888888888,
              "#fdca26"
             ],
             [
              1,
              "#f0f921"
             ]
            ],
            "type": "surface"
           }
          ],
          "table": [
           {
            "cells": {
             "fill": {
              "color": "#EBF0F8"
             },
             "line": {
              "color": "white"
             }
            },
            "header": {
             "fill": {
              "color": "#C8D4E3"
             },
             "line": {
              "color": "white"
             }
            },
            "type": "table"
           }
          ]
         },
         "layout": {
          "annotationdefaults": {
           "arrowcolor": "#2a3f5f",
           "arrowhead": 0,
           "arrowwidth": 1
          },
          "autotypenumbers": "strict",
          "coloraxis": {
           "colorbar": {
            "outlinewidth": 0,
            "ticks": ""
           }
          },
          "colorscale": {
           "diverging": [
            [
             0,
             "#8e0152"
            ],
            [
             0.1,
             "#c51b7d"
            ],
            [
             0.2,
             "#de77ae"
            ],
            [
             0.3,
             "#f1b6da"
            ],
            [
             0.4,
             "#fde0ef"
            ],
            [
             0.5,
             "#f7f7f7"
            ],
            [
             0.6,
             "#e6f5d0"
            ],
            [
             0.7,
             "#b8e186"
            ],
            [
             0.8,
             "#7fbc41"
            ],
            [
             0.9,
             "#4d9221"
            ],
            [
             1,
             "#276419"
            ]
           ],
           "sequential": [
            [
             0,
             "#0d0887"
            ],
            [
             0.1111111111111111,
             "#46039f"
            ],
            [
             0.2222222222222222,
             "#7201a8"
            ],
            [
             0.3333333333333333,
             "#9c179e"
            ],
            [
             0.4444444444444444,
             "#bd3786"
            ],
            [
             0.5555555555555556,
             "#d8576b"
            ],
            [
             0.6666666666666666,
             "#ed7953"
            ],
            [
             0.7777777777777778,
             "#fb9f3a"
            ],
            [
             0.8888888888888888,
             "#fdca26"
            ],
            [
             1,
             "#f0f921"
            ]
           ],
           "sequentialminus": [
            [
             0,
             "#0d0887"
            ],
            [
             0.1111111111111111,
             "#46039f"
            ],
            [
             0.2222222222222222,
             "#7201a8"
            ],
            [
             0.3333333333333333,
             "#9c179e"
            ],
            [
             0.4444444444444444,
             "#bd3786"
            ],
            [
             0.5555555555555556,
             "#d8576b"
            ],
            [
             0.6666666666666666,
             "#ed7953"
            ],
            [
             0.7777777777777778,
             "#fb9f3a"
            ],
            [
             0.8888888888888888,
             "#fdca26"
            ],
            [
             1,
             "#f0f921"
            ]
           ]
          },
          "colorway": [
           "#636efa",
           "#EF553B",
           "#00cc96",
           "#ab63fa",
           "#FFA15A",
           "#19d3f3",
           "#FF6692",
           "#B6E880",
           "#FF97FF",
           "#FECB52"
          ],
          "font": {
           "color": "#2a3f5f"
          },
          "geo": {
           "bgcolor": "white",
           "lakecolor": "white",
           "landcolor": "#E5ECF6",
           "showlakes": true,
           "showland": true,
           "subunitcolor": "white"
          },
          "hoverlabel": {
           "align": "left"
          },
          "hovermode": "closest",
          "mapbox": {
           "style": "light"
          },
          "paper_bgcolor": "white",
          "plot_bgcolor": "#E5ECF6",
          "polar": {
           "angularaxis": {
            "gridcolor": "white",
            "linecolor": "white",
            "ticks": ""
           },
           "bgcolor": "#E5ECF6",
           "radialaxis": {
            "gridcolor": "white",
            "linecolor": "white",
            "ticks": ""
           }
          },
          "scene": {
           "xaxis": {
            "backgroundcolor": "#E5ECF6",
            "gridcolor": "white",
            "gridwidth": 2,
            "linecolor": "white",
            "showbackground": true,
            "ticks": "",
            "zerolinecolor": "white"
           },
           "yaxis": {
            "backgroundcolor": "#E5ECF6",
            "gridcolor": "white",
            "gridwidth": 2,
            "linecolor": "white",
            "showbackground": true,
            "ticks": "",
            "zerolinecolor": "white"
           },
           "zaxis": {
            "backgroundcolor": "#E5ECF6",
            "gridcolor": "white",
            "gridwidth": 2,
            "linecolor": "white",
            "showbackground": true,
            "ticks": "",
            "zerolinecolor": "white"
           }
          },
          "shapedefaults": {
           "line": {
            "color": "#2a3f5f"
           }
          },
          "ternary": {
           "aaxis": {
            "gridcolor": "white",
            "linecolor": "white",
            "ticks": ""
           },
           "baxis": {
            "gridcolor": "white",
            "linecolor": "white",
            "ticks": ""
           },
           "bgcolor": "#E5ECF6",
           "caxis": {
            "gridcolor": "white",
            "linecolor": "white",
            "ticks": ""
           }
          },
          "title": {
           "x": 0.05
          },
          "xaxis": {
           "automargin": true,
           "gridcolor": "white",
           "linecolor": "white",
           "ticks": "",
           "title": {
            "standoff": 15
           },
           "zerolinecolor": "white",
           "zerolinewidth": 2
          },
          "yaxis": {
           "automargin": true,
           "gridcolor": "white",
           "linecolor": "white",
           "ticks": "",
           "title": {
            "standoff": 15
           },
           "zerolinecolor": "white",
           "zerolinewidth": 2
          }
         }
        },
        "title": {
         "font": {
          "color": "#4D5663"
         }
        },
        "xaxis": {
         "gridcolor": "#E1E5ED",
         "showgrid": true,
         "tickfont": {
          "color": "#4D5663"
         },
         "title": {
          "font": {
           "color": "#4D5663"
          },
          "text": ""
         },
         "zerolinecolor": "#E1E5ED"
        },
        "yaxis": {
         "gridcolor": "#E1E5ED",
         "showgrid": true,
         "tickfont": {
          "color": "#4D5663"
         },
         "title": {
          "font": {
           "color": "#4D5663"
          },
          "text": ""
         },
         "zerolinecolor": "#E1E5ED"
        }
       }
      },
      "text/html": [
       "<div>                            <div id=\"bf871a3a-b76a-48e5-92de-e78833a24f59\" class=\"plotly-graph-div\" style=\"height:525px; width:100%;\"></div>            <script type=\"text/javascript\">                require([\"plotly\"], function(Plotly) {                    window.PLOTLYENV=window.PLOTLYENV || {};\n",
       "                    window.PLOTLYENV.BASE_URL='https://plot.ly';                                    if (document.getElementById(\"bf871a3a-b76a-48e5-92de-e78833a24f59\")) {                    Plotly.newPlot(                        \"bf871a3a-b76a-48e5-92de-e78833a24f59\",                        [{\"marker\":{\"color\":\"rgba(255, 153, 51, 0.6)\",\"line\":{\"color\":\"rgba(255, 153, 51, 1.0)\",\"width\":1}},\"name\":\"None\",\"orientation\":\"v\",\"text\":\"\",\"x\":[\"A\",\"B\",\"C\",\"D\"],\"y\":[-4.455356751943976,15.352389028312162,2.0430389118836914,12.008386767087682],\"type\":\"bar\"}],                        {\"legend\":{\"bgcolor\":\"#F5F6F9\",\"font\":{\"color\":\"#4D5663\"}},\"paper_bgcolor\":\"#F5F6F9\",\"plot_bgcolor\":\"#F5F6F9\",\"template\":{\"data\":{\"barpolar\":[{\"marker\":{\"line\":{\"color\":\"#E5ECF6\",\"width\":0.5},\"pattern\":{\"fillmode\":\"overlay\",\"size\":10,\"solidity\":0.2}},\"type\":\"barpolar\"}],\"bar\":[{\"error_x\":{\"color\":\"#2a3f5f\"},\"error_y\":{\"color\":\"#2a3f5f\"},\"marker\":{\"line\":{\"color\":\"#E5ECF6\",\"width\":0.5},\"pattern\":{\"fillmode\":\"overlay\",\"size\":10,\"solidity\":0.2}},\"type\":\"bar\"}],\"carpet\":[{\"aaxis\":{\"endlinecolor\":\"#2a3f5f\",\"gridcolor\":\"white\",\"linecolor\":\"white\",\"minorgridcolor\":\"white\",\"startlinecolor\":\"#2a3f5f\"},\"baxis\":{\"endlinecolor\":\"#2a3f5f\",\"gridcolor\":\"white\",\"linecolor\":\"white\",\"minorgridcolor\":\"white\",\"startlinecolor\":\"#2a3f5f\"},\"type\":\"carpet\"}],\"choropleth\":[{\"colorbar\":{\"outlinewidth\":0,\"ticks\":\"\"},\"type\":\"choropleth\"}],\"contourcarpet\":[{\"colorbar\":{\"outlinewidth\":0,\"ticks\":\"\"},\"type\":\"contourcarpet\"}],\"contour\":[{\"colorbar\":{\"outlinewidth\":0,\"ticks\":\"\"},\"colorscale\":[[0.0,\"#0d0887\"],[0.1111111111111111,\"#46039f\"],[0.2222222222222222,\"#7201a8\"],[0.3333333333333333,\"#9c179e\"],[0.4444444444444444,\"#bd3786\"],[0.5555555555555556,\"#d8576b\"],[0.6666666666666666,\"#ed7953\"],[0.7777777777777778,\"#fb9f3a\"],[0.8888888888888888,\"#fdca26\"],[1.0,\"#f0f921\"]],\"type\":\"contour\"}],\"heatmapgl\":[{\"colorbar\":{\"outlinewidth\":0,\"ticks\":\"\"},\"colorscale\":[[0.0,\"#0d0887\"],[0.1111111111111111,\"#46039f\"],[0.2222222222222222,\"#7201a8\"],[0.3333333333333333,\"#9c179e\"],[0.4444444444444444,\"#bd3786\"],[0.5555555555555556,\"#d8576b\"],[0.6666666666666666,\"#ed7953\"],[0.7777777777777778,\"#fb9f3a\"],[0.8888888888888888,\"#fdca26\"],[1.0,\"#f0f921\"]],\"type\":\"heatmapgl\"}],\"heatmap\":[{\"colorbar\":{\"outlinewidth\":0,\"ticks\":\"\"},\"colorscale\":[[0.0,\"#0d0887\"],[0.1111111111111111,\"#46039f\"],[0.2222222222222222,\"#7201a8\"],[0.3333333333333333,\"#9c179e\"],[0.4444444444444444,\"#bd3786\"],[0.5555555555555556,\"#d8576b\"],[0.6666666666666666,\"#ed7953\"],[0.7777777777777778,\"#fb9f3a\"],[0.8888888888888888,\"#fdca26\"],[1.0,\"#f0f921\"]],\"type\":\"heatmap\"}],\"histogram2dcontour\":[{\"colorbar\":{\"outlinewidth\":0,\"ticks\":\"\"},\"colorscale\":[[0.0,\"#0d0887\"],[0.1111111111111111,\"#46039f\"],[0.2222222222222222,\"#7201a8\"],[0.3333333333333333,\"#9c179e\"],[0.4444444444444444,\"#bd3786\"],[0.5555555555555556,\"#d8576b\"],[0.6666666666666666,\"#ed7953\"],[0.7777777777777778,\"#fb9f3a\"],[0.8888888888888888,\"#fdca26\"],[1.0,\"#f0f921\"]],\"type\":\"histogram2dcontour\"}],\"histogram2d\":[{\"colorbar\":{\"outlinewidth\":0,\"ticks\":\"\"},\"colorscale\":[[0.0,\"#0d0887\"],[0.1111111111111111,\"#46039f\"],[0.2222222222222222,\"#7201a8\"],[0.3333333333333333,\"#9c179e\"],[0.4444444444444444,\"#bd3786\"],[0.5555555555555556,\"#d8576b\"],[0.6666666666666666,\"#ed7953\"],[0.7777777777777778,\"#fb9f3a\"],[0.8888888888888888,\"#fdca26\"],[1.0,\"#f0f921\"]],\"type\":\"histogram2d\"}],\"histogram\":[{\"marker\":{\"pattern\":{\"fillmode\":\"overlay\",\"size\":10,\"solidity\":0.2}},\"type\":\"histogram\"}],\"mesh3d\":[{\"colorbar\":{\"outlinewidth\":0,\"ticks\":\"\"},\"type\":\"mesh3d\"}],\"parcoords\":[{\"line\":{\"colorbar\":{\"outlinewidth\":0,\"ticks\":\"\"}},\"type\":\"parcoords\"}],\"pie\":[{\"automargin\":true,\"type\":\"pie\"}],\"scatter3d\":[{\"line\":{\"colorbar\":{\"outlinewidth\":0,\"ticks\":\"\"}},\"marker\":{\"colorbar\":{\"outlinewidth\":0,\"ticks\":\"\"}},\"type\":\"scatter3d\"}],\"scattercarpet\":[{\"marker\":{\"colorbar\":{\"outlinewidth\":0,\"ticks\":\"\"}},\"type\":\"scattercarpet\"}],\"scattergeo\":[{\"marker\":{\"colorbar\":{\"outlinewidth\":0,\"ticks\":\"\"}},\"type\":\"scattergeo\"}],\"scattergl\":[{\"marker\":{\"colorbar\":{\"outlinewidth\":0,\"ticks\":\"\"}},\"type\":\"scattergl\"}],\"scattermapbox\":[{\"marker\":{\"colorbar\":{\"outlinewidth\":0,\"ticks\":\"\"}},\"type\":\"scattermapbox\"}],\"scatterpolargl\":[{\"marker\":{\"colorbar\":{\"outlinewidth\":0,\"ticks\":\"\"}},\"type\":\"scatterpolargl\"}],\"scatterpolar\":[{\"marker\":{\"colorbar\":{\"outlinewidth\":0,\"ticks\":\"\"}},\"type\":\"scatterpolar\"}],\"scatter\":[{\"marker\":{\"colorbar\":{\"outlinewidth\":0,\"ticks\":\"\"}},\"type\":\"scatter\"}],\"scatterternary\":[{\"marker\":{\"colorbar\":{\"outlinewidth\":0,\"ticks\":\"\"}},\"type\":\"scatterternary\"}],\"surface\":[{\"colorbar\":{\"outlinewidth\":0,\"ticks\":\"\"},\"colorscale\":[[0.0,\"#0d0887\"],[0.1111111111111111,\"#46039f\"],[0.2222222222222222,\"#7201a8\"],[0.3333333333333333,\"#9c179e\"],[0.4444444444444444,\"#bd3786\"],[0.5555555555555556,\"#d8576b\"],[0.6666666666666666,\"#ed7953\"],[0.7777777777777778,\"#fb9f3a\"],[0.8888888888888888,\"#fdca26\"],[1.0,\"#f0f921\"]],\"type\":\"surface\"}],\"table\":[{\"cells\":{\"fill\":{\"color\":\"#EBF0F8\"},\"line\":{\"color\":\"white\"}},\"header\":{\"fill\":{\"color\":\"#C8D4E3\"},\"line\":{\"color\":\"white\"}},\"type\":\"table\"}]},\"layout\":{\"annotationdefaults\":{\"arrowcolor\":\"#2a3f5f\",\"arrowhead\":0,\"arrowwidth\":1},\"autotypenumbers\":\"strict\",\"coloraxis\":{\"colorbar\":{\"outlinewidth\":0,\"ticks\":\"\"}},\"colorscale\":{\"diverging\":[[0,\"#8e0152\"],[0.1,\"#c51b7d\"],[0.2,\"#de77ae\"],[0.3,\"#f1b6da\"],[0.4,\"#fde0ef\"],[0.5,\"#f7f7f7\"],[0.6,\"#e6f5d0\"],[0.7,\"#b8e186\"],[0.8,\"#7fbc41\"],[0.9,\"#4d9221\"],[1,\"#276419\"]],\"sequential\":[[0.0,\"#0d0887\"],[0.1111111111111111,\"#46039f\"],[0.2222222222222222,\"#7201a8\"],[0.3333333333333333,\"#9c179e\"],[0.4444444444444444,\"#bd3786\"],[0.5555555555555556,\"#d8576b\"],[0.6666666666666666,\"#ed7953\"],[0.7777777777777778,\"#fb9f3a\"],[0.8888888888888888,\"#fdca26\"],[1.0,\"#f0f921\"]],\"sequentialminus\":[[0.0,\"#0d0887\"],[0.1111111111111111,\"#46039f\"],[0.2222222222222222,\"#7201a8\"],[0.3333333333333333,\"#9c179e\"],[0.4444444444444444,\"#bd3786\"],[0.5555555555555556,\"#d8576b\"],[0.6666666666666666,\"#ed7953\"],[0.7777777777777778,\"#fb9f3a\"],[0.8888888888888888,\"#fdca26\"],[1.0,\"#f0f921\"]]},\"colorway\":[\"#636efa\",\"#EF553B\",\"#00cc96\",\"#ab63fa\",\"#FFA15A\",\"#19d3f3\",\"#FF6692\",\"#B6E880\",\"#FF97FF\",\"#FECB52\"],\"font\":{\"color\":\"#2a3f5f\"},\"geo\":{\"bgcolor\":\"white\",\"lakecolor\":\"white\",\"landcolor\":\"#E5ECF6\",\"showlakes\":true,\"showland\":true,\"subunitcolor\":\"white\"},\"hoverlabel\":{\"align\":\"left\"},\"hovermode\":\"closest\",\"mapbox\":{\"style\":\"light\"},\"paper_bgcolor\":\"white\",\"plot_bgcolor\":\"#E5ECF6\",\"polar\":{\"angularaxis\":{\"gridcolor\":\"white\",\"linecolor\":\"white\",\"ticks\":\"\"},\"bgcolor\":\"#E5ECF6\",\"radialaxis\":{\"gridcolor\":\"white\",\"linecolor\":\"white\",\"ticks\":\"\"}},\"scene\":{\"xaxis\":{\"backgroundcolor\":\"#E5ECF6\",\"gridcolor\":\"white\",\"gridwidth\":2,\"linecolor\":\"white\",\"showbackground\":true,\"ticks\":\"\",\"zerolinecolor\":\"white\"},\"yaxis\":{\"backgroundcolor\":\"#E5ECF6\",\"gridcolor\":\"white\",\"gridwidth\":2,\"linecolor\":\"white\",\"showbackground\":true,\"ticks\":\"\",\"zerolinecolor\":\"white\"},\"zaxis\":{\"backgroundcolor\":\"#E5ECF6\",\"gridcolor\":\"white\",\"gridwidth\":2,\"linecolor\":\"white\",\"showbackground\":true,\"ticks\":\"\",\"zerolinecolor\":\"white\"}},\"shapedefaults\":{\"line\":{\"color\":\"#2a3f5f\"}},\"ternary\":{\"aaxis\":{\"gridcolor\":\"white\",\"linecolor\":\"white\",\"ticks\":\"\"},\"baxis\":{\"gridcolor\":\"white\",\"linecolor\":\"white\",\"ticks\":\"\"},\"bgcolor\":\"#E5ECF6\",\"caxis\":{\"gridcolor\":\"white\",\"linecolor\":\"white\",\"ticks\":\"\"}},\"title\":{\"x\":0.05},\"xaxis\":{\"automargin\":true,\"gridcolor\":\"white\",\"linecolor\":\"white\",\"ticks\":\"\",\"title\":{\"standoff\":15},\"zerolinecolor\":\"white\",\"zerolinewidth\":2},\"yaxis\":{\"automargin\":true,\"gridcolor\":\"white\",\"linecolor\":\"white\",\"ticks\":\"\",\"title\":{\"standoff\":15},\"zerolinecolor\":\"white\",\"zerolinewidth\":2}}},\"title\":{\"font\":{\"color\":\"#4D5663\"}},\"xaxis\":{\"gridcolor\":\"#E1E5ED\",\"showgrid\":true,\"tickfont\":{\"color\":\"#4D5663\"},\"title\":{\"font\":{\"color\":\"#4D5663\"},\"text\":\"\"},\"zerolinecolor\":\"#E1E5ED\"},\"yaxis\":{\"gridcolor\":\"#E1E5ED\",\"showgrid\":true,\"tickfont\":{\"color\":\"#4D5663\"},\"title\":{\"font\":{\"color\":\"#4D5663\"},\"text\":\"\"},\"zerolinecolor\":\"#E1E5ED\"}},                        {\"showLink\": true, \"linkText\": \"Export to plot.ly\", \"plotlyServerURL\": \"https://plot.ly\", \"responsive\": true}                    ).then(function(){\n",
       "                            \n",
       "var gd = document.getElementById('bf871a3a-b76a-48e5-92de-e78833a24f59');\n",
       "var x = new MutationObserver(function (mutations, observer) {{\n",
       "        var display = window.getComputedStyle(gd).display;\n",
       "        if (!display || display === 'none') {{\n",
       "            console.log([gd, 'removed!']);\n",
       "            Plotly.purge(gd);\n",
       "            observer.disconnect();\n",
       "        }}\n",
       "}});\n",
       "\n",
       "// Listen for the removal of the full notebook cells\n",
       "var notebookContainer = gd.closest('#notebook-container');\n",
       "if (notebookContainer) {{\n",
       "    x.observe(notebookContainer, {childList: true});\n",
       "}}\n",
       "\n",
       "// Listen for the clearing of the current output cell\n",
       "var outputEl = gd.closest('.output');\n",
       "if (outputEl) {{\n",
       "    x.observe(outputEl, {childList: true});\n",
       "}}\n",
       "\n",
       "                        })                };                });            </script>        </div>"
      ]
     },
     "metadata": {},
     "output_type": "display_data"
    }
   ],
   "source": [
    "# df.count().iplot(kind='bar')\n",
    "df.sum().iplot(kind='bar')"
   ]
  },
  {
   "cell_type": "code",
   "execution_count": 48,
   "id": "e162923f",
   "metadata": {},
   "outputs": [
    {
     "data": {
      "application/vnd.plotly.v1+json": {
       "config": {
        "linkText": "Export to plot.ly",
        "plotlyServerURL": "https://plot.ly",
        "showLink": true
       },
       "data": [
        {
         "boxpoints": false,
         "line": {
          "width": 1.3
         },
         "marker": {
          "color": "rgba(255, 153, 51, 1.0)"
         },
         "name": "A",
         "orientation": "v",
         "type": "box",
         "y": [
          -0.6123213313638834,
          1.3594760586323038,
          0.7157028374769693,
          0.7428268604041767,
          1.4387038289767837,
          -0.18659775442196597,
          1.4732645597761136,
          -1.0063295388071447,
          1.056092961661525,
          -2.47632273602315,
          -0.635452318342618,
          -0.44341162530791667,
          0.8603466277919531,
          0.07446614932749684,
          -0.1331131522466488,
          0.9950176867120871,
          -0.6469853058251499,
          -0.8700113105706968,
          0.7451915965836442,
          1.0080729109461022,
          1.3612656769446707,
          -0.46388543466577953,
          -1.6252556434939562,
          -0.9321225459929191,
          0.16520721127913351,
          1.109035311807075,
          -0.17481458358740606,
          -1.624426672284938,
          -0.1702527952572121,
          0.5692071778213524,
          -1.8522429631266695,
          -1.8274075534861318,
          1.4467135685260804,
          -0.2566950458043969,
          -0.31473561434280445,
          -1.3924295664519903,
          -1.5183227401831643,
          1.100316191055605,
          -1.3243172550303042,
          0.934613326420437,
          0.5058253582807383,
          0.6925078253422744,
          1.9416032539843482,
          -1.1472736624868352,
          0.6738495664997504,
          -0.47737184536099964,
          -1.641216335191951,
          -0.13222458670586418,
          -0.709692601338341,
          1.0704070534135786,
          -0.35957829928635193,
          1.1347015745407685,
          1.7394557819272984,
          0.10648238319660469,
          -1.2104409774898166,
          -0.21935452937051048,
          -0.7209436501354658,
          -0.36707627095778994,
          -0.4137095293103209,
          -0.14202313507910364,
          1.2665388927529673,
          1.1194663999265804,
          -1.2425290334764583,
          0.39840737442666446,
          0.8945368981705608,
          -0.9571858944373809,
          -0.4633202776630124,
          -0.9712012233075042,
          0.7208776529585661,
          0.7438375746122489,
          -1.3026515735400312,
          1.004468713016441,
          -0.34401917264171356,
          0.37856579146205005,
          0.5766908858096895,
          0.14489140687254426,
          0.5030487355914735,
          0.16656440729662095,
          -1.044040712361414,
          1.3940344198410861,
          -1.8958614932946471,
          -1.598344342488547,
          0.619097265217185,
          1.1247773545002318,
          -0.7131652820603137,
          -0.7259441325114188,
          0.3783084614135404,
          0.953242635318946,
          -1.0865438738709796,
          1.0560252986180356,
          -0.9152623676229141,
          -0.47689637661425693,
          -1.5731089650479364,
          0.45657205749455,
          -0.011860036772261388,
          -0.7254513536108076,
          0.5454745770976296,
          -1.669814686271186,
          1.5393007948667181,
          0.28512201838580503
         ]
        },
        {
         "boxpoints": false,
         "line": {
          "width": 1.3
         },
         "marker": {
          "color": "rgba(55, 128, 191, 1.0)"
         },
         "name": "B",
         "orientation": "v",
         "type": "box",
         "y": [
          2.4033726396064625,
          -0.3180661953813854,
          0.3575646009315945,
          -0.1105494946218425,
          -1.9893182998132442,
          0.12108998433814257,
          1.6231297492375656,
          -1.2060270018752517,
          -1.4763460598573717,
          -0.31605687258158366,
          -0.30143437365788345,
          -0.26399532166551437,
          0.9165050788909543,
          0.7736176343862297,
          0.9360968870348345,
          0.6558051320314173,
          -0.9571761584379436,
          -0.9924811564511132,
          0.7971918612956219,
          -0.37130794160576763,
          -0.2760754290236538,
          0.6900682486696768,
          1.5530644454787816,
          0.4313746272862494,
          0.606668375448992,
          -0.1678150518632239,
          -0.06562136516121853,
          1.1358032600451677,
          -1.555216491676847,
          2.3596114839686897,
          1.6849126218993657,
          -1.1076458633876247,
          0.19152751134038656,
          -2.418973945595888,
          0.46641748517612613,
          -0.21364558612811305,
          1.1480763571394446,
          0.059794594708253365,
          0.42198828304935004,
          -0.1278335244912023,
          -0.3434904890462654,
          0.6386561805665968,
          -0.14208161537358346,
          -0.21014682568625534,
          -1.1515120179039007,
          0.6423152244432342,
          0.5385251636516468,
          -1.2735301704460944,
          -0.9263130931462031,
          1.0528723780534726,
          1.398092729216517,
          0.7409688920291192,
          1.5330713382437804,
          1.2238886674459235,
          1.3021010010114673,
          0.9267666640747797,
          -1.0632816642972323,
          -0.853609509509939,
          1.4774215216322193,
          1.8375264582418434,
          1.2510879290725092,
          0.11877753746905721,
          1.0800394768582156,
          -1.31790521726136,
          -1.365923862710278,
          1.6836138765041453,
          -0.0050875497121913756,
          0.14030157148832426,
          -0.7439091480217016,
          0.3421569973368127,
          0.3176875279051301,
          -0.4658550524900476,
          1.5083142101265588,
          0.9342942058681324,
          0.038805998180403596,
          -0.5427143810390751,
          1.8653101105958274,
          0.9160042953261466,
          -0.7399792359271136,
          -1.3913613995497782,
          -1.3659709922367504,
          -1.7739464469938493,
          0.9790656864957751,
          -0.5645792416112951,
          1.3080798586746816,
          -0.3710346468680679,
          -0.3831733338661221,
          0.6690962928884536,
          0.5510184334158387,
          0.7638864171285927,
          0.7173354808699728,
          -0.7350903538128789,
          1.3679739533904145,
          -1.6310206244484406,
          -0.39313156746717626,
          0.026323629417493655,
          -1.7894767650578125,
          -0.7225163772056884,
          1.9078118752926256,
          0.7217442983989159
         ]
        },
        {
         "boxpoints": false,
         "line": {
          "width": 1.3
         },
         "marker": {
          "color": "rgba(50, 171, 96, 1.0)"
         },
         "name": "C",
         "orientation": "v",
         "type": "box",
         "y": [
          0.4689665067580521,
          2.657661785631248,
          -0.15695404125640144,
          0.605265196825292,
          -0.7057374319212296,
          0.8444309653569217,
          0.7513210022146437,
          0.4307395998978597,
          1.0371730870237932,
          1.974103854421076,
          -1.1288760520237493,
          0.8055315230691629,
          -1.335601470526402,
          -0.028547479101887447,
          0.06747542495281443,
          -1.1309575553312143,
          1.6271698811106052,
          -0.8569455622264276,
          0.6456922933836641,
          1.6379346196809164,
          0.1806495115367449,
          0.14639348883989947,
          -1.3552736004820631,
          -0.119350727088024,
          -0.3563793145517163,
          -1.023983797537162,
          -1.2002930376860392,
          0.30540079810011533,
          -0.4761218790211993,
          0.24257472613728698,
          -0.3361720751310067,
          -1.846424890646746,
          -0.7748643511775507,
          -0.8618459502950332,
          2.1193450044927333,
          0.40496375514144517,
          -2.9377762864827,
          -1.8965821460469738,
          -0.48480046089468737,
          0.7483102482534699,
          1.6910057862337557,
          -1.233714975417407,
          0.06493475062118555,
          0.6392015128212213,
          -0.5899288328143886,
          -0.728572959023513,
          0.6113604849908908,
          1.2054338538568574,
          0.08020295162428227,
          2.041858302804547,
          1.4184034553585103,
          -0.1719830931621509,
          -0.6949916357107848,
          -1.978855890551208,
          0.6257545974595368,
          0.8632133760671598,
          -0.5976588697599662,
          0.8479532170096117,
          1.70344793958928,
          1.1386853529720973,
          0.8487051642989147,
          0.968843823916177,
          0.6957190136412353,
          0.002582225038355152,
          -1.4513032950993925,
          -0.19805787701228872,
          0.6774343549635712,
          -1.4327537700193087,
          0.26411514326036833,
          -0.33671161663269716,
          -0.08407330728644541,
          1.368220600727735,
          1.645714258578475,
          -1.384406199597019,
          0.5083535943892357,
          -1.0514179180662875,
          0.7549770555868955,
          -1.675545109092052,
          -1.0451488351170122,
          -2.0614544842966995,
          0.16982230547273192,
          1.8251139327360477,
          0.44986683396737626,
          0.3939286211800785,
          -1.114911778732924,
          -0.4177123875352382,
          1.108470034084431,
          0.49834592193931465,
          -1.9547909952942522,
          1.176365585897962,
          -0.029407168874944503,
          -0.4613577626841192,
          -1.3451916694004673,
          0.8821653763967819,
          -1.173395693010109,
          0.32036147045809604,
          -1.2749930918574466,
          1.9899525192678373,
          -1.1398903142935857,
          -0.4968601383846873
         ]
        },
        {
         "boxpoints": false,
         "line": {
          "width": 1.3
         },
         "marker": {
          "color": "rgba(128, 0, 128, 1.0)"
         },
         "name": "D",
         "orientation": "v",
         "type": "box",
         "y": [
          1.0085964341555844,
          -1.2269753588859271,
          -1.5097988830045546,
          -0.5957249513887795,
          -0.957292708169662,
          0.37925034902571103,
          0.6390786863933957,
          -1.4278468527458785,
          1.1554198868405157,
          1.4835710039569256,
          -1.8617930501549576,
          1.0549386258229976,
          -0.597880076754315,
          0.5091114140451493,
          -0.4236008265812986,
          2.0422230963736423,
          -1.5944447623816826,
          1.0046933857435616,
          -1.346948771912937,
          -0.4780454082197933,
          -0.1293847086726596,
          0.047109012029019515,
          0.5254822345724128,
          0.822192262412065,
          1.4459759780435455,
          0.9115178242482179,
          0.09163585118157323,
          -0.4333767970305198,
          -0.25317827633395823,
          1.251941966515613,
          -0.48504486193858026,
          1.4155994216269399,
          -0.08942120600242834,
          0.018129302526952513,
          0.09538400771573545,
          0.14635880217596137,
          -0.03521929132626436,
          0.9464919018571304,
          -1.0298398614208712,
          1.1468853072362954,
          -0.28638870472181804,
          -2.312265561373491,
          1.0994685942927933,
          1.9323478853341507,
          1.285517116893445,
          -0.6561135953456818,
          0.613382362747721,
          0.294912843507637,
          0.501579060503352,
          2.0601536753961205,
          0.09031593286671273,
          -2.1116352492033665,
          1.14479295440716,
          1.6482467822786142,
          -0.23688476995824312,
          -2.483168964360678,
          1.7393690105774773,
          -0.7528532600045252,
          0.549850368149912,
          1.6092665516046354,
          1.1245463956901984,
          -0.25960022308154207,
          -0.894525142137224,
          -0.44335753624262075,
          -0.4953186258903264,
          0.44862293242002454,
          0.5076707606831699,
          -0.8234639692664324,
          -0.1825116567135101,
          0.6165168690298184,
          -0.7441595984799642,
          -1.2644685398119577,
          1.9473943153893534,
          0.8716113455957312,
          1.4056319769016397,
          0.18172623584949632,
          -0.34499946405601095,
          0.7016813836505776,
          0.5675933797489788,
          -0.0634524470695323,
          1.6698437842254625,
          -0.2589095268265948,
          0.39291905061572424,
          -2.3753214718334985,
          -0.44280955514871473,
          -0.06627116150696902,
          0.5600957537663671,
          -0.9066305671341511,
          0.8827050851394105,
          0.19517323025462843,
          0.2499217272758512,
          0.21879809967016942,
          -0.31226846868748914,
          -1.7337764797766497,
          0.8209083232667705,
          -0.42547099701212215,
          -0.09310701732516485,
          0.3629058590313021,
          0.1407115006202667,
          0.876168071097411
         ]
        }
       ],
       "layout": {
        "legend": {
         "bgcolor": "#F5F6F9",
         "font": {
          "color": "#4D5663"
         }
        },
        "paper_bgcolor": "#F5F6F9",
        "plot_bgcolor": "#F5F6F9",
        "template": {
         "data": {
          "bar": [
           {
            "error_x": {
             "color": "#2a3f5f"
            },
            "error_y": {
             "color": "#2a3f5f"
            },
            "marker": {
             "line": {
              "color": "#E5ECF6",
              "width": 0.5
             },
             "pattern": {
              "fillmode": "overlay",
              "size": 10,
              "solidity": 0.2
             }
            },
            "type": "bar"
           }
          ],
          "barpolar": [
           {
            "marker": {
             "line": {
              "color": "#E5ECF6",
              "width": 0.5
             },
             "pattern": {
              "fillmode": "overlay",
              "size": 10,
              "solidity": 0.2
             }
            },
            "type": "barpolar"
           }
          ],
          "carpet": [
           {
            "aaxis": {
             "endlinecolor": "#2a3f5f",
             "gridcolor": "white",
             "linecolor": "white",
             "minorgridcolor": "white",
             "startlinecolor": "#2a3f5f"
            },
            "baxis": {
             "endlinecolor": "#2a3f5f",
             "gridcolor": "white",
             "linecolor": "white",
             "minorgridcolor": "white",
             "startlinecolor": "#2a3f5f"
            },
            "type": "carpet"
           }
          ],
          "choropleth": [
           {
            "colorbar": {
             "outlinewidth": 0,
             "ticks": ""
            },
            "type": "choropleth"
           }
          ],
          "contour": [
           {
            "colorbar": {
             "outlinewidth": 0,
             "ticks": ""
            },
            "colorscale": [
             [
              0,
              "#0d0887"
             ],
             [
              0.1111111111111111,
              "#46039f"
             ],
             [
              0.2222222222222222,
              "#7201a8"
             ],
             [
              0.3333333333333333,
              "#9c179e"
             ],
             [
              0.4444444444444444,
              "#bd3786"
             ],
             [
              0.5555555555555556,
              "#d8576b"
             ],
             [
              0.6666666666666666,
              "#ed7953"
             ],
             [
              0.7777777777777778,
              "#fb9f3a"
             ],
             [
              0.8888888888888888,
              "#fdca26"
             ],
             [
              1,
              "#f0f921"
             ]
            ],
            "type": "contour"
           }
          ],
          "contourcarpet": [
           {
            "colorbar": {
             "outlinewidth": 0,
             "ticks": ""
            },
            "type": "contourcarpet"
           }
          ],
          "heatmap": [
           {
            "colorbar": {
             "outlinewidth": 0,
             "ticks": ""
            },
            "colorscale": [
             [
              0,
              "#0d0887"
             ],
             [
              0.1111111111111111,
              "#46039f"
             ],
             [
              0.2222222222222222,
              "#7201a8"
             ],
             [
              0.3333333333333333,
              "#9c179e"
             ],
             [
              0.4444444444444444,
              "#bd3786"
             ],
             [
              0.5555555555555556,
              "#d8576b"
             ],
             [
              0.6666666666666666,
              "#ed7953"
             ],
             [
              0.7777777777777778,
              "#fb9f3a"
             ],
             [
              0.8888888888888888,
              "#fdca26"
             ],
             [
              1,
              "#f0f921"
             ]
            ],
            "type": "heatmap"
           }
          ],
          "heatmapgl": [
           {
            "colorbar": {
             "outlinewidth": 0,
             "ticks": ""
            },
            "colorscale": [
             [
              0,
              "#0d0887"
             ],
             [
              0.1111111111111111,
              "#46039f"
             ],
             [
              0.2222222222222222,
              "#7201a8"
             ],
             [
              0.3333333333333333,
              "#9c179e"
             ],
             [
              0.4444444444444444,
              "#bd3786"
             ],
             [
              0.5555555555555556,
              "#d8576b"
             ],
             [
              0.6666666666666666,
              "#ed7953"
             ],
             [
              0.7777777777777778,
              "#fb9f3a"
             ],
             [
              0.8888888888888888,
              "#fdca26"
             ],
             [
              1,
              "#f0f921"
             ]
            ],
            "type": "heatmapgl"
           }
          ],
          "histogram": [
           {
            "marker": {
             "pattern": {
              "fillmode": "overlay",
              "size": 10,
              "solidity": 0.2
             }
            },
            "type": "histogram"
           }
          ],
          "histogram2d": [
           {
            "colorbar": {
             "outlinewidth": 0,
             "ticks": ""
            },
            "colorscale": [
             [
              0,
              "#0d0887"
             ],
             [
              0.1111111111111111,
              "#46039f"
             ],
             [
              0.2222222222222222,
              "#7201a8"
             ],
             [
              0.3333333333333333,
              "#9c179e"
             ],
             [
              0.4444444444444444,
              "#bd3786"
             ],
             [
              0.5555555555555556,
              "#d8576b"
             ],
             [
              0.6666666666666666,
              "#ed7953"
             ],
             [
              0.7777777777777778,
              "#fb9f3a"
             ],
             [
              0.8888888888888888,
              "#fdca26"
             ],
             [
              1,
              "#f0f921"
             ]
            ],
            "type": "histogram2d"
           }
          ],
          "histogram2dcontour": [
           {
            "colorbar": {
             "outlinewidth": 0,
             "ticks": ""
            },
            "colorscale": [
             [
              0,
              "#0d0887"
             ],
             [
              0.1111111111111111,
              "#46039f"
             ],
             [
              0.2222222222222222,
              "#7201a8"
             ],
             [
              0.3333333333333333,
              "#9c179e"
             ],
             [
              0.4444444444444444,
              "#bd3786"
             ],
             [
              0.5555555555555556,
              "#d8576b"
             ],
             [
              0.6666666666666666,
              "#ed7953"
             ],
             [
              0.7777777777777778,
              "#fb9f3a"
             ],
             [
              0.8888888888888888,
              "#fdca26"
             ],
             [
              1,
              "#f0f921"
             ]
            ],
            "type": "histogram2dcontour"
           }
          ],
          "mesh3d": [
           {
            "colorbar": {
             "outlinewidth": 0,
             "ticks": ""
            },
            "type": "mesh3d"
           }
          ],
          "parcoords": [
           {
            "line": {
             "colorbar": {
              "outlinewidth": 0,
              "ticks": ""
             }
            },
            "type": "parcoords"
           }
          ],
          "pie": [
           {
            "automargin": true,
            "type": "pie"
           }
          ],
          "scatter": [
           {
            "marker": {
             "colorbar": {
              "outlinewidth": 0,
              "ticks": ""
             }
            },
            "type": "scatter"
           }
          ],
          "scatter3d": [
           {
            "line": {
             "colorbar": {
              "outlinewidth": 0,
              "ticks": ""
             }
            },
            "marker": {
             "colorbar": {
              "outlinewidth": 0,
              "ticks": ""
             }
            },
            "type": "scatter3d"
           }
          ],
          "scattercarpet": [
           {
            "marker": {
             "colorbar": {
              "outlinewidth": 0,
              "ticks": ""
             }
            },
            "type": "scattercarpet"
           }
          ],
          "scattergeo": [
           {
            "marker": {
             "colorbar": {
              "outlinewidth": 0,
              "ticks": ""
             }
            },
            "type": "scattergeo"
           }
          ],
          "scattergl": [
           {
            "marker": {
             "colorbar": {
              "outlinewidth": 0,
              "ticks": ""
             }
            },
            "type": "scattergl"
           }
          ],
          "scattermapbox": [
           {
            "marker": {
             "colorbar": {
              "outlinewidth": 0,
              "ticks": ""
             }
            },
            "type": "scattermapbox"
           }
          ],
          "scatterpolar": [
           {
            "marker": {
             "colorbar": {
              "outlinewidth": 0,
              "ticks": ""
             }
            },
            "type": "scatterpolar"
           }
          ],
          "scatterpolargl": [
           {
            "marker": {
             "colorbar": {
              "outlinewidth": 0,
              "ticks": ""
             }
            },
            "type": "scatterpolargl"
           }
          ],
          "scatterternary": [
           {
            "marker": {
             "colorbar": {
              "outlinewidth": 0,
              "ticks": ""
             }
            },
            "type": "scatterternary"
           }
          ],
          "surface": [
           {
            "colorbar": {
             "outlinewidth": 0,
             "ticks": ""
            },
            "colorscale": [
             [
              0,
              "#0d0887"
             ],
             [
              0.1111111111111111,
              "#46039f"
             ],
             [
              0.2222222222222222,
              "#7201a8"
             ],
             [
              0.3333333333333333,
              "#9c179e"
             ],
             [
              0.4444444444444444,
              "#bd3786"
             ],
             [
              0.5555555555555556,
              "#d8576b"
             ],
             [
              0.6666666666666666,
              "#ed7953"
             ],
             [
              0.7777777777777778,
              "#fb9f3a"
             ],
             [
              0.8888888888888888,
              "#fdca26"
             ],
             [
              1,
              "#f0f921"
             ]
            ],
            "type": "surface"
           }
          ],
          "table": [
           {
            "cells": {
             "fill": {
              "color": "#EBF0F8"
             },
             "line": {
              "color": "white"
             }
            },
            "header": {
             "fill": {
              "color": "#C8D4E3"
             },
             "line": {
              "color": "white"
             }
            },
            "type": "table"
           }
          ]
         },
         "layout": {
          "annotationdefaults": {
           "arrowcolor": "#2a3f5f",
           "arrowhead": 0,
           "arrowwidth": 1
          },
          "autotypenumbers": "strict",
          "coloraxis": {
           "colorbar": {
            "outlinewidth": 0,
            "ticks": ""
           }
          },
          "colorscale": {
           "diverging": [
            [
             0,
             "#8e0152"
            ],
            [
             0.1,
             "#c51b7d"
            ],
            [
             0.2,
             "#de77ae"
            ],
            [
             0.3,
             "#f1b6da"
            ],
            [
             0.4,
             "#fde0ef"
            ],
            [
             0.5,
             "#f7f7f7"
            ],
            [
             0.6,
             "#e6f5d0"
            ],
            [
             0.7,
             "#b8e186"
            ],
            [
             0.8,
             "#7fbc41"
            ],
            [
             0.9,
             "#4d9221"
            ],
            [
             1,
             "#276419"
            ]
           ],
           "sequential": [
            [
             0,
             "#0d0887"
            ],
            [
             0.1111111111111111,
             "#46039f"
            ],
            [
             0.2222222222222222,
             "#7201a8"
            ],
            [
             0.3333333333333333,
             "#9c179e"
            ],
            [
             0.4444444444444444,
             "#bd3786"
            ],
            [
             0.5555555555555556,
             "#d8576b"
            ],
            [
             0.6666666666666666,
             "#ed7953"
            ],
            [
             0.7777777777777778,
             "#fb9f3a"
            ],
            [
             0.8888888888888888,
             "#fdca26"
            ],
            [
             1,
             "#f0f921"
            ]
           ],
           "sequentialminus": [
            [
             0,
             "#0d0887"
            ],
            [
             0.1111111111111111,
             "#46039f"
            ],
            [
             0.2222222222222222,
             "#7201a8"
            ],
            [
             0.3333333333333333,
             "#9c179e"
            ],
            [
             0.4444444444444444,
             "#bd3786"
            ],
            [
             0.5555555555555556,
             "#d8576b"
            ],
            [
             0.6666666666666666,
             "#ed7953"
            ],
            [
             0.7777777777777778,
             "#fb9f3a"
            ],
            [
             0.8888888888888888,
             "#fdca26"
            ],
            [
             1,
             "#f0f921"
            ]
           ]
          },
          "colorway": [
           "#636efa",
           "#EF553B",
           "#00cc96",
           "#ab63fa",
           "#FFA15A",
           "#19d3f3",
           "#FF6692",
           "#B6E880",
           "#FF97FF",
           "#FECB52"
          ],
          "font": {
           "color": "#2a3f5f"
          },
          "geo": {
           "bgcolor": "white",
           "lakecolor": "white",
           "landcolor": "#E5ECF6",
           "showlakes": true,
           "showland": true,
           "subunitcolor": "white"
          },
          "hoverlabel": {
           "align": "left"
          },
          "hovermode": "closest",
          "mapbox": {
           "style": "light"
          },
          "paper_bgcolor": "white",
          "plot_bgcolor": "#E5ECF6",
          "polar": {
           "angularaxis": {
            "gridcolor": "white",
            "linecolor": "white",
            "ticks": ""
           },
           "bgcolor": "#E5ECF6",
           "radialaxis": {
            "gridcolor": "white",
            "linecolor": "white",
            "ticks": ""
           }
          },
          "scene": {
           "xaxis": {
            "backgroundcolor": "#E5ECF6",
            "gridcolor": "white",
            "gridwidth": 2,
            "linecolor": "white",
            "showbackground": true,
            "ticks": "",
            "zerolinecolor": "white"
           },
           "yaxis": {
            "backgroundcolor": "#E5ECF6",
            "gridcolor": "white",
            "gridwidth": 2,
            "linecolor": "white",
            "showbackground": true,
            "ticks": "",
            "zerolinecolor": "white"
           },
           "zaxis": {
            "backgroundcolor": "#E5ECF6",
            "gridcolor": "white",
            "gridwidth": 2,
            "linecolor": "white",
            "showbackground": true,
            "ticks": "",
            "zerolinecolor": "white"
           }
          },
          "shapedefaults": {
           "line": {
            "color": "#2a3f5f"
           }
          },
          "ternary": {
           "aaxis": {
            "gridcolor": "white",
            "linecolor": "white",
            "ticks": ""
           },
           "baxis": {
            "gridcolor": "white",
            "linecolor": "white",
            "ticks": ""
           },
           "bgcolor": "#E5ECF6",
           "caxis": {
            "gridcolor": "white",
            "linecolor": "white",
            "ticks": ""
           }
          },
          "title": {
           "x": 0.05
          },
          "xaxis": {
           "automargin": true,
           "gridcolor": "white",
           "linecolor": "white",
           "ticks": "",
           "title": {
            "standoff": 15
           },
           "zerolinecolor": "white",
           "zerolinewidth": 2
          },
          "yaxis": {
           "automargin": true,
           "gridcolor": "white",
           "linecolor": "white",
           "ticks": "",
           "title": {
            "standoff": 15
           },
           "zerolinecolor": "white",
           "zerolinewidth": 2
          }
         }
        },
        "title": {
         "font": {
          "color": "#4D5663"
         }
        },
        "xaxis": {
         "gridcolor": "#E1E5ED",
         "showgrid": true,
         "tickfont": {
          "color": "#4D5663"
         },
         "title": {
          "font": {
           "color": "#4D5663"
          },
          "text": ""
         },
         "zerolinecolor": "#E1E5ED"
        },
        "yaxis": {
         "gridcolor": "#E1E5ED",
         "showgrid": true,
         "tickfont": {
          "color": "#4D5663"
         },
         "title": {
          "font": {
           "color": "#4D5663"
          },
          "text": ""
         },
         "zerolinecolor": "#E1E5ED"
        }
       }
      },
      "text/html": [
       "<div>                            <div id=\"cfedb49b-c6a4-4b13-bb41-019b13ebce87\" class=\"plotly-graph-div\" style=\"height:525px; width:100%;\"></div>            <script type=\"text/javascript\">                require([\"plotly\"], function(Plotly) {                    window.PLOTLYENV=window.PLOTLYENV || {};\n",
       "                    window.PLOTLYENV.BASE_URL='https://plot.ly';                                    if (document.getElementById(\"cfedb49b-c6a4-4b13-bb41-019b13ebce87\")) {                    Plotly.newPlot(                        \"cfedb49b-c6a4-4b13-bb41-019b13ebce87\",                        [{\"boxpoints\":false,\"line\":{\"width\":1.3},\"marker\":{\"color\":\"rgba(255, 153, 51, 1.0)\"},\"name\":\"A\",\"orientation\":\"v\",\"y\":[-0.6123213313638834,1.3594760586323038,0.7157028374769693,0.7428268604041767,1.4387038289767837,-0.18659775442196597,1.4732645597761136,-1.0063295388071447,1.056092961661525,-2.47632273602315,-0.635452318342618,-0.44341162530791667,0.8603466277919531,0.07446614932749684,-0.1331131522466488,0.9950176867120871,-0.6469853058251499,-0.8700113105706968,0.7451915965836442,1.0080729109461022,1.3612656769446707,-0.46388543466577953,-1.6252556434939562,-0.9321225459929191,0.16520721127913351,1.109035311807075,-0.17481458358740606,-1.624426672284938,-0.1702527952572121,0.5692071778213524,-1.8522429631266695,-1.8274075534861318,1.4467135685260804,-0.2566950458043969,-0.31473561434280445,-1.3924295664519903,-1.5183227401831643,1.100316191055605,-1.3243172550303042,0.934613326420437,0.5058253582807383,0.6925078253422744,1.9416032539843482,-1.1472736624868352,0.6738495664997504,-0.47737184536099964,-1.641216335191951,-0.13222458670586418,-0.709692601338341,1.0704070534135786,-0.35957829928635193,1.1347015745407685,1.7394557819272984,0.10648238319660469,-1.2104409774898166,-0.21935452937051048,-0.7209436501354658,-0.36707627095778994,-0.4137095293103209,-0.14202313507910364,1.2665388927529673,1.1194663999265804,-1.2425290334764583,0.39840737442666446,0.8945368981705608,-0.9571858944373809,-0.4633202776630124,-0.9712012233075042,0.7208776529585661,0.7438375746122489,-1.3026515735400312,1.004468713016441,-0.34401917264171356,0.37856579146205005,0.5766908858096895,0.14489140687254426,0.5030487355914735,0.16656440729662095,-1.044040712361414,1.3940344198410861,-1.8958614932946471,-1.598344342488547,0.619097265217185,1.1247773545002318,-0.7131652820603137,-0.7259441325114188,0.3783084614135404,0.953242635318946,-1.0865438738709796,1.0560252986180356,-0.9152623676229141,-0.47689637661425693,-1.5731089650479364,0.45657205749455,-0.011860036772261388,-0.7254513536108076,0.5454745770976296,-1.669814686271186,1.5393007948667181,0.28512201838580503],\"type\":\"box\"},{\"boxpoints\":false,\"line\":{\"width\":1.3},\"marker\":{\"color\":\"rgba(55, 128, 191, 1.0)\"},\"name\":\"B\",\"orientation\":\"v\",\"y\":[2.4033726396064625,-0.3180661953813854,0.3575646009315945,-0.1105494946218425,-1.9893182998132442,0.12108998433814257,1.6231297492375656,-1.2060270018752517,-1.4763460598573717,-0.31605687258158366,-0.30143437365788345,-0.26399532166551437,0.9165050788909543,0.7736176343862297,0.9360968870348345,0.6558051320314173,-0.9571761584379436,-0.9924811564511132,0.7971918612956219,-0.37130794160576763,-0.2760754290236538,0.6900682486696768,1.5530644454787816,0.4313746272862494,0.606668375448992,-0.1678150518632239,-0.06562136516121853,1.1358032600451677,-1.555216491676847,2.3596114839686897,1.6849126218993657,-1.1076458633876247,0.19152751134038656,-2.418973945595888,0.46641748517612613,-0.21364558612811305,1.1480763571394446,0.059794594708253365,0.42198828304935004,-0.1278335244912023,-0.3434904890462654,0.6386561805665968,-0.14208161537358346,-0.21014682568625534,-1.1515120179039007,0.6423152244432342,0.5385251636516468,-1.2735301704460944,-0.9263130931462031,1.0528723780534726,1.398092729216517,0.7409688920291192,1.5330713382437804,1.2238886674459235,1.3021010010114673,0.9267666640747797,-1.0632816642972323,-0.853609509509939,1.4774215216322193,1.8375264582418434,1.2510879290725092,0.11877753746905721,1.0800394768582156,-1.31790521726136,-1.365923862710278,1.6836138765041453,-0.0050875497121913756,0.14030157148832426,-0.7439091480217016,0.3421569973368127,0.3176875279051301,-0.4658550524900476,1.5083142101265588,0.9342942058681324,0.038805998180403596,-0.5427143810390751,1.8653101105958274,0.9160042953261466,-0.7399792359271136,-1.3913613995497782,-1.3659709922367504,-1.7739464469938493,0.9790656864957751,-0.5645792416112951,1.3080798586746816,-0.3710346468680679,-0.3831733338661221,0.6690962928884536,0.5510184334158387,0.7638864171285927,0.7173354808699728,-0.7350903538128789,1.3679739533904145,-1.6310206244484406,-0.39313156746717626,0.026323629417493655,-1.7894767650578125,-0.7225163772056884,1.9078118752926256,0.7217442983989159],\"type\":\"box\"},{\"boxpoints\":false,\"line\":{\"width\":1.3},\"marker\":{\"color\":\"rgba(50, 171, 96, 1.0)\"},\"name\":\"C\",\"orientation\":\"v\",\"y\":[0.4689665067580521,2.657661785631248,-0.15695404125640144,0.605265196825292,-0.7057374319212296,0.8444309653569217,0.7513210022146437,0.4307395998978597,1.0371730870237932,1.974103854421076,-1.1288760520237493,0.8055315230691629,-1.335601470526402,-0.028547479101887447,0.06747542495281443,-1.1309575553312143,1.6271698811106052,-0.8569455622264276,0.6456922933836641,1.6379346196809164,0.1806495115367449,0.14639348883989947,-1.3552736004820631,-0.119350727088024,-0.3563793145517163,-1.023983797537162,-1.2002930376860392,0.30540079810011533,-0.4761218790211993,0.24257472613728698,-0.3361720751310067,-1.846424890646746,-0.7748643511775507,-0.8618459502950332,2.1193450044927333,0.40496375514144517,-2.9377762864827,-1.8965821460469738,-0.48480046089468737,0.7483102482534699,1.6910057862337557,-1.233714975417407,0.06493475062118555,0.6392015128212213,-0.5899288328143886,-0.728572959023513,0.6113604849908908,1.2054338538568574,0.08020295162428227,2.041858302804547,1.4184034553585103,-0.1719830931621509,-0.6949916357107848,-1.978855890551208,0.6257545974595368,0.8632133760671598,-0.5976588697599662,0.8479532170096117,1.70344793958928,1.1386853529720973,0.8487051642989147,0.968843823916177,0.6957190136412353,0.002582225038355152,-1.4513032950993925,-0.19805787701228872,0.6774343549635712,-1.4327537700193087,0.26411514326036833,-0.33671161663269716,-0.08407330728644541,1.368220600727735,1.645714258578475,-1.384406199597019,0.5083535943892357,-1.0514179180662875,0.7549770555868955,-1.675545109092052,-1.0451488351170122,-2.0614544842966995,0.16982230547273192,1.8251139327360477,0.44986683396737626,0.3939286211800785,-1.114911778732924,-0.4177123875352382,1.108470034084431,0.49834592193931465,-1.9547909952942522,1.176365585897962,-0.029407168874944503,-0.4613577626841192,-1.3451916694004673,0.8821653763967819,-1.173395693010109,0.32036147045809604,-1.2749930918574466,1.9899525192678373,-1.1398903142935857,-0.4968601383846873],\"type\":\"box\"},{\"boxpoints\":false,\"line\":{\"width\":1.3},\"marker\":{\"color\":\"rgba(128, 0, 128, 1.0)\"},\"name\":\"D\",\"orientation\":\"v\",\"y\":[1.0085964341555844,-1.2269753588859271,-1.5097988830045546,-0.5957249513887795,-0.957292708169662,0.37925034902571103,0.6390786863933957,-1.4278468527458785,1.1554198868405157,1.4835710039569256,-1.8617930501549576,1.0549386258229976,-0.597880076754315,0.5091114140451493,-0.4236008265812986,2.0422230963736423,-1.5944447623816826,1.0046933857435616,-1.346948771912937,-0.4780454082197933,-0.1293847086726596,0.047109012029019515,0.5254822345724128,0.822192262412065,1.4459759780435455,0.9115178242482179,0.09163585118157323,-0.4333767970305198,-0.25317827633395823,1.251941966515613,-0.48504486193858026,1.4155994216269399,-0.08942120600242834,0.018129302526952513,0.09538400771573545,0.14635880217596137,-0.03521929132626436,0.9464919018571304,-1.0298398614208712,1.1468853072362954,-0.28638870472181804,-2.312265561373491,1.0994685942927933,1.9323478853341507,1.285517116893445,-0.6561135953456818,0.613382362747721,0.294912843507637,0.501579060503352,2.0601536753961205,0.09031593286671273,-2.1116352492033665,1.14479295440716,1.6482467822786142,-0.23688476995824312,-2.483168964360678,1.7393690105774773,-0.7528532600045252,0.549850368149912,1.6092665516046354,1.1245463956901984,-0.25960022308154207,-0.894525142137224,-0.44335753624262075,-0.4953186258903264,0.44862293242002454,0.5076707606831699,-0.8234639692664324,-0.1825116567135101,0.6165168690298184,-0.7441595984799642,-1.2644685398119577,1.9473943153893534,0.8716113455957312,1.4056319769016397,0.18172623584949632,-0.34499946405601095,0.7016813836505776,0.5675933797489788,-0.0634524470695323,1.6698437842254625,-0.2589095268265948,0.39291905061572424,-2.3753214718334985,-0.44280955514871473,-0.06627116150696902,0.5600957537663671,-0.9066305671341511,0.8827050851394105,0.19517323025462843,0.2499217272758512,0.21879809967016942,-0.31226846868748914,-1.7337764797766497,0.8209083232667705,-0.42547099701212215,-0.09310701732516485,0.3629058590313021,0.1407115006202667,0.876168071097411],\"type\":\"box\"}],                        {\"legend\":{\"bgcolor\":\"#F5F6F9\",\"font\":{\"color\":\"#4D5663\"}},\"paper_bgcolor\":\"#F5F6F9\",\"plot_bgcolor\":\"#F5F6F9\",\"template\":{\"data\":{\"barpolar\":[{\"marker\":{\"line\":{\"color\":\"#E5ECF6\",\"width\":0.5},\"pattern\":{\"fillmode\":\"overlay\",\"size\":10,\"solidity\":0.2}},\"type\":\"barpolar\"}],\"bar\":[{\"error_x\":{\"color\":\"#2a3f5f\"},\"error_y\":{\"color\":\"#2a3f5f\"},\"marker\":{\"line\":{\"color\":\"#E5ECF6\",\"width\":0.5},\"pattern\":{\"fillmode\":\"overlay\",\"size\":10,\"solidity\":0.2}},\"type\":\"bar\"}],\"carpet\":[{\"aaxis\":{\"endlinecolor\":\"#2a3f5f\",\"gridcolor\":\"white\",\"linecolor\":\"white\",\"minorgridcolor\":\"white\",\"startlinecolor\":\"#2a3f5f\"},\"baxis\":{\"endlinecolor\":\"#2a3f5f\",\"gridcolor\":\"white\",\"linecolor\":\"white\",\"minorgridcolor\":\"white\",\"startlinecolor\":\"#2a3f5f\"},\"type\":\"carpet\"}],\"choropleth\":[{\"colorbar\":{\"outlinewidth\":0,\"ticks\":\"\"},\"type\":\"choropleth\"}],\"contourcarpet\":[{\"colorbar\":{\"outlinewidth\":0,\"ticks\":\"\"},\"type\":\"contourcarpet\"}],\"contour\":[{\"colorbar\":{\"outlinewidth\":0,\"ticks\":\"\"},\"colorscale\":[[0.0,\"#0d0887\"],[0.1111111111111111,\"#46039f\"],[0.2222222222222222,\"#7201a8\"],[0.3333333333333333,\"#9c179e\"],[0.4444444444444444,\"#bd3786\"],[0.5555555555555556,\"#d8576b\"],[0.6666666666666666,\"#ed7953\"],[0.7777777777777778,\"#fb9f3a\"],[0.8888888888888888,\"#fdca26\"],[1.0,\"#f0f921\"]],\"type\":\"contour\"}],\"heatmapgl\":[{\"colorbar\":{\"outlinewidth\":0,\"ticks\":\"\"},\"colorscale\":[[0.0,\"#0d0887\"],[0.1111111111111111,\"#46039f\"],[0.2222222222222222,\"#7201a8\"],[0.3333333333333333,\"#9c179e\"],[0.4444444444444444,\"#bd3786\"],[0.5555555555555556,\"#d8576b\"],[0.6666666666666666,\"#ed7953\"],[0.7777777777777778,\"#fb9f3a\"],[0.8888888888888888,\"#fdca26\"],[1.0,\"#f0f921\"]],\"type\":\"heatmapgl\"}],\"heatmap\":[{\"colorbar\":{\"outlinewidth\":0,\"ticks\":\"\"},\"colorscale\":[[0.0,\"#0d0887\"],[0.1111111111111111,\"#46039f\"],[0.2222222222222222,\"#7201a8\"],[0.3333333333333333,\"#9c179e\"],[0.4444444444444444,\"#bd3786\"],[0.5555555555555556,\"#d8576b\"],[0.6666666666666666,\"#ed7953\"],[0.7777777777777778,\"#fb9f3a\"],[0.8888888888888888,\"#fdca26\"],[1.0,\"#f0f921\"]],\"type\":\"heatmap\"}],\"histogram2dcontour\":[{\"colorbar\":{\"outlinewidth\":0,\"ticks\":\"\"},\"colorscale\":[[0.0,\"#0d0887\"],[0.1111111111111111,\"#46039f\"],[0.2222222222222222,\"#7201a8\"],[0.3333333333333333,\"#9c179e\"],[0.4444444444444444,\"#bd3786\"],[0.5555555555555556,\"#d8576b\"],[0.6666666666666666,\"#ed7953\"],[0.7777777777777778,\"#fb9f3a\"],[0.8888888888888888,\"#fdca26\"],[1.0,\"#f0f921\"]],\"type\":\"histogram2dcontour\"}],\"histogram2d\":[{\"colorbar\":{\"outlinewidth\":0,\"ticks\":\"\"},\"colorscale\":[[0.0,\"#0d0887\"],[0.1111111111111111,\"#46039f\"],[0.2222222222222222,\"#7201a8\"],[0.3333333333333333,\"#9c179e\"],[0.4444444444444444,\"#bd3786\"],[0.5555555555555556,\"#d8576b\"],[0.6666666666666666,\"#ed7953\"],[0.7777777777777778,\"#fb9f3a\"],[0.8888888888888888,\"#fdca26\"],[1.0,\"#f0f921\"]],\"type\":\"histogram2d\"}],\"histogram\":[{\"marker\":{\"pattern\":{\"fillmode\":\"overlay\",\"size\":10,\"solidity\":0.2}},\"type\":\"histogram\"}],\"mesh3d\":[{\"colorbar\":{\"outlinewidth\":0,\"ticks\":\"\"},\"type\":\"mesh3d\"}],\"parcoords\":[{\"line\":{\"colorbar\":{\"outlinewidth\":0,\"ticks\":\"\"}},\"type\":\"parcoords\"}],\"pie\":[{\"automargin\":true,\"type\":\"pie\"}],\"scatter3d\":[{\"line\":{\"colorbar\":{\"outlinewidth\":0,\"ticks\":\"\"}},\"marker\":{\"colorbar\":{\"outlinewidth\":0,\"ticks\":\"\"}},\"type\":\"scatter3d\"}],\"scattercarpet\":[{\"marker\":{\"colorbar\":{\"outlinewidth\":0,\"ticks\":\"\"}},\"type\":\"scattercarpet\"}],\"scattergeo\":[{\"marker\":{\"colorbar\":{\"outlinewidth\":0,\"ticks\":\"\"}},\"type\":\"scattergeo\"}],\"scattergl\":[{\"marker\":{\"colorbar\":{\"outlinewidth\":0,\"ticks\":\"\"}},\"type\":\"scattergl\"}],\"scattermapbox\":[{\"marker\":{\"colorbar\":{\"outlinewidth\":0,\"ticks\":\"\"}},\"type\":\"scattermapbox\"}],\"scatterpolargl\":[{\"marker\":{\"colorbar\":{\"outlinewidth\":0,\"ticks\":\"\"}},\"type\":\"scatterpolargl\"}],\"scatterpolar\":[{\"marker\":{\"colorbar\":{\"outlinewidth\":0,\"ticks\":\"\"}},\"type\":\"scatterpolar\"}],\"scatter\":[{\"marker\":{\"colorbar\":{\"outlinewidth\":0,\"ticks\":\"\"}},\"type\":\"scatter\"}],\"scatterternary\":[{\"marker\":{\"colorbar\":{\"outlinewidth\":0,\"ticks\":\"\"}},\"type\":\"scatterternary\"}],\"surface\":[{\"colorbar\":{\"outlinewidth\":0,\"ticks\":\"\"},\"colorscale\":[[0.0,\"#0d0887\"],[0.1111111111111111,\"#46039f\"],[0.2222222222222222,\"#7201a8\"],[0.3333333333333333,\"#9c179e\"],[0.4444444444444444,\"#bd3786\"],[0.5555555555555556,\"#d8576b\"],[0.6666666666666666,\"#ed7953\"],[0.7777777777777778,\"#fb9f3a\"],[0.8888888888888888,\"#fdca26\"],[1.0,\"#f0f921\"]],\"type\":\"surface\"}],\"table\":[{\"cells\":{\"fill\":{\"color\":\"#EBF0F8\"},\"line\":{\"color\":\"white\"}},\"header\":{\"fill\":{\"color\":\"#C8D4E3\"},\"line\":{\"color\":\"white\"}},\"type\":\"table\"}]},\"layout\":{\"annotationdefaults\":{\"arrowcolor\":\"#2a3f5f\",\"arrowhead\":0,\"arrowwidth\":1},\"autotypenumbers\":\"strict\",\"coloraxis\":{\"colorbar\":{\"outlinewidth\":0,\"ticks\":\"\"}},\"colorscale\":{\"diverging\":[[0,\"#8e0152\"],[0.1,\"#c51b7d\"],[0.2,\"#de77ae\"],[0.3,\"#f1b6da\"],[0.4,\"#fde0ef\"],[0.5,\"#f7f7f7\"],[0.6,\"#e6f5d0\"],[0.7,\"#b8e186\"],[0.8,\"#7fbc41\"],[0.9,\"#4d9221\"],[1,\"#276419\"]],\"sequential\":[[0.0,\"#0d0887\"],[0.1111111111111111,\"#46039f\"],[0.2222222222222222,\"#7201a8\"],[0.3333333333333333,\"#9c179e\"],[0.4444444444444444,\"#bd3786\"],[0.5555555555555556,\"#d8576b\"],[0.6666666666666666,\"#ed7953\"],[0.7777777777777778,\"#fb9f3a\"],[0.8888888888888888,\"#fdca26\"],[1.0,\"#f0f921\"]],\"sequentialminus\":[[0.0,\"#0d0887\"],[0.1111111111111111,\"#46039f\"],[0.2222222222222222,\"#7201a8\"],[0.3333333333333333,\"#9c179e\"],[0.4444444444444444,\"#bd3786\"],[0.5555555555555556,\"#d8576b\"],[0.6666666666666666,\"#ed7953\"],[0.7777777777777778,\"#fb9f3a\"],[0.8888888888888888,\"#fdca26\"],[1.0,\"#f0f921\"]]},\"colorway\":[\"#636efa\",\"#EF553B\",\"#00cc96\",\"#ab63fa\",\"#FFA15A\",\"#19d3f3\",\"#FF6692\",\"#B6E880\",\"#FF97FF\",\"#FECB52\"],\"font\":{\"color\":\"#2a3f5f\"},\"geo\":{\"bgcolor\":\"white\",\"lakecolor\":\"white\",\"landcolor\":\"#E5ECF6\",\"showlakes\":true,\"showland\":true,\"subunitcolor\":\"white\"},\"hoverlabel\":{\"align\":\"left\"},\"hovermode\":\"closest\",\"mapbox\":{\"style\":\"light\"},\"paper_bgcolor\":\"white\",\"plot_bgcolor\":\"#E5ECF6\",\"polar\":{\"angularaxis\":{\"gridcolor\":\"white\",\"linecolor\":\"white\",\"ticks\":\"\"},\"bgcolor\":\"#E5ECF6\",\"radialaxis\":{\"gridcolor\":\"white\",\"linecolor\":\"white\",\"ticks\":\"\"}},\"scene\":{\"xaxis\":{\"backgroundcolor\":\"#E5ECF6\",\"gridcolor\":\"white\",\"gridwidth\":2,\"linecolor\":\"white\",\"showbackground\":true,\"ticks\":\"\",\"zerolinecolor\":\"white\"},\"yaxis\":{\"backgroundcolor\":\"#E5ECF6\",\"gridcolor\":\"white\",\"gridwidth\":2,\"linecolor\":\"white\",\"showbackground\":true,\"ticks\":\"\",\"zerolinecolor\":\"white\"},\"zaxis\":{\"backgroundcolor\":\"#E5ECF6\",\"gridcolor\":\"white\",\"gridwidth\":2,\"linecolor\":\"white\",\"showbackground\":true,\"ticks\":\"\",\"zerolinecolor\":\"white\"}},\"shapedefaults\":{\"line\":{\"color\":\"#2a3f5f\"}},\"ternary\":{\"aaxis\":{\"gridcolor\":\"white\",\"linecolor\":\"white\",\"ticks\":\"\"},\"baxis\":{\"gridcolor\":\"white\",\"linecolor\":\"white\",\"ticks\":\"\"},\"bgcolor\":\"#E5ECF6\",\"caxis\":{\"gridcolor\":\"white\",\"linecolor\":\"white\",\"ticks\":\"\"}},\"title\":{\"x\":0.05},\"xaxis\":{\"automargin\":true,\"gridcolor\":\"white\",\"linecolor\":\"white\",\"ticks\":\"\",\"title\":{\"standoff\":15},\"zerolinecolor\":\"white\",\"zerolinewidth\":2},\"yaxis\":{\"automargin\":true,\"gridcolor\":\"white\",\"linecolor\":\"white\",\"ticks\":\"\",\"title\":{\"standoff\":15},\"zerolinecolor\":\"white\",\"zerolinewidth\":2}}},\"title\":{\"font\":{\"color\":\"#4D5663\"}},\"xaxis\":{\"gridcolor\":\"#E1E5ED\",\"showgrid\":true,\"tickfont\":{\"color\":\"#4D5663\"},\"title\":{\"font\":{\"color\":\"#4D5663\"},\"text\":\"\"},\"zerolinecolor\":\"#E1E5ED\"},\"yaxis\":{\"gridcolor\":\"#E1E5ED\",\"showgrid\":true,\"tickfont\":{\"color\":\"#4D5663\"},\"title\":{\"font\":{\"color\":\"#4D5663\"},\"text\":\"\"},\"zerolinecolor\":\"#E1E5ED\"}},                        {\"showLink\": true, \"linkText\": \"Export to plot.ly\", \"plotlyServerURL\": \"https://plot.ly\", \"responsive\": true}                    ).then(function(){\n",
       "                            \n",
       "var gd = document.getElementById('cfedb49b-c6a4-4b13-bb41-019b13ebce87');\n",
       "var x = new MutationObserver(function (mutations, observer) {{\n",
       "        var display = window.getComputedStyle(gd).display;\n",
       "        if (!display || display === 'none') {{\n",
       "            console.log([gd, 'removed!']);\n",
       "            Plotly.purge(gd);\n",
       "            observer.disconnect();\n",
       "        }}\n",
       "}});\n",
       "\n",
       "// Listen for the removal of the full notebook cells\n",
       "var notebookContainer = gd.closest('#notebook-container');\n",
       "if (notebookContainer) {{\n",
       "    x.observe(notebookContainer, {childList: true});\n",
       "}}\n",
       "\n",
       "// Listen for the clearing of the current output cell\n",
       "var outputEl = gd.closest('.output');\n",
       "if (outputEl) {{\n",
       "    x.observe(outputEl, {childList: true});\n",
       "}}\n",
       "\n",
       "                        })                };                });            </script>        </div>"
      ]
     },
     "metadata": {},
     "output_type": "display_data"
    }
   ],
   "source": [
    "df.iplot(kind='box')"
   ]
  },
  {
   "cell_type": "code",
   "execution_count": 54,
   "id": "0966d1ac",
   "metadata": {},
   "outputs": [],
   "source": [
    "df3 = pd.DataFrame({\n",
    "    'x': [1,2,3,4,5], \n",
    "    'y': [10,20,30,20,10], \n",
    "    'z': [5,4,3,2,1]})"
   ]
  },
  {
   "cell_type": "code",
   "execution_count": 55,
   "id": "011df36e",
   "metadata": {},
   "outputs": [
    {
     "data": {
      "text/html": [
       "<div>\n",
       "<style scoped>\n",
       "    .dataframe tbody tr th:only-of-type {\n",
       "        vertical-align: middle;\n",
       "    }\n",
       "\n",
       "    .dataframe tbody tr th {\n",
       "        vertical-align: top;\n",
       "    }\n",
       "\n",
       "    .dataframe thead th {\n",
       "        text-align: right;\n",
       "    }\n",
       "</style>\n",
       "<table border=\"1\" class=\"dataframe\">\n",
       "  <thead>\n",
       "    <tr style=\"text-align: right;\">\n",
       "      <th></th>\n",
       "      <th>x</th>\n",
       "      <th>y</th>\n",
       "      <th>z</th>\n",
       "    </tr>\n",
       "  </thead>\n",
       "  <tbody>\n",
       "    <tr>\n",
       "      <th>0</th>\n",
       "      <td>1</td>\n",
       "      <td>10</td>\n",
       "      <td>5</td>\n",
       "    </tr>\n",
       "    <tr>\n",
       "      <th>1</th>\n",
       "      <td>2</td>\n",
       "      <td>20</td>\n",
       "      <td>4</td>\n",
       "    </tr>\n",
       "    <tr>\n",
       "      <th>2</th>\n",
       "      <td>3</td>\n",
       "      <td>30</td>\n",
       "      <td>3</td>\n",
       "    </tr>\n",
       "    <tr>\n",
       "      <th>3</th>\n",
       "      <td>4</td>\n",
       "      <td>20</td>\n",
       "      <td>2</td>\n",
       "    </tr>\n",
       "    <tr>\n",
       "      <th>4</th>\n",
       "      <td>5</td>\n",
       "      <td>10</td>\n",
       "      <td>1</td>\n",
       "    </tr>\n",
       "  </tbody>\n",
       "</table>\n",
       "</div>"
      ],
      "text/plain": [
       "   x   y  z\n",
       "0  1  10  5\n",
       "1  2  20  4\n",
       "2  3  30  3\n",
       "3  4  20  2\n",
       "4  5  10  1"
      ]
     },
     "execution_count": 55,
     "metadata": {},
     "output_type": "execute_result"
    }
   ],
   "source": [
    "df3"
   ]
  },
  {
   "cell_type": "code",
   "execution_count": 56,
   "id": "a440d574",
   "metadata": {},
   "outputs": [
    {
     "data": {
      "application/vnd.plotly.v1+json": {
       "config": {
        "linkText": "Export to plot.ly",
        "plotlyServerURL": "https://plot.ly",
        "showLink": true
       },
       "data": [
        {
         "colorscale": [
          [
           0,
           "rgb(165,0,38)"
          ],
          [
           0.1,
           "rgb(215,48,39)"
          ],
          [
           0.2,
           "rgb(244,109,67)"
          ],
          [
           0.3,
           "rgb(253,174,97)"
          ],
          [
           0.4,
           "rgb(254,224,144)"
          ],
          [
           0.5,
           "rgb(255,255,191)"
          ],
          [
           0.6,
           "rgb(224,243,248)"
          ],
          [
           0.7,
           "rgb(171,217,233)"
          ],
          [
           0.8,
           "rgb(116,173,209)"
          ],
          [
           0.9,
           "rgb(69,117,180)"
          ],
          [
           1,
           "rgb(49,54,149)"
          ]
         ],
         "type": "surface",
         "x": [
          0,
          1,
          2,
          3,
          4
         ],
         "y": [
          "x",
          "y",
          "z"
         ],
         "z": [
          [
           1,
           2,
           3,
           4,
           5
          ],
          [
           10,
           20,
           30,
           20,
           10
          ],
          [
           5,
           4,
           3,
           2,
           1
          ]
         ]
        }
       ],
       "layout": {
        "legend": {
         "bgcolor": "#F5F6F9",
         "font": {
          "color": "#4D5663"
         }
        },
        "paper_bgcolor": "#F5F6F9",
        "plot_bgcolor": "#F5F6F9",
        "template": {
         "data": {
          "bar": [
           {
            "error_x": {
             "color": "#2a3f5f"
            },
            "error_y": {
             "color": "#2a3f5f"
            },
            "marker": {
             "line": {
              "color": "#E5ECF6",
              "width": 0.5
             },
             "pattern": {
              "fillmode": "overlay",
              "size": 10,
              "solidity": 0.2
             }
            },
            "type": "bar"
           }
          ],
          "barpolar": [
           {
            "marker": {
             "line": {
              "color": "#E5ECF6",
              "width": 0.5
             },
             "pattern": {
              "fillmode": "overlay",
              "size": 10,
              "solidity": 0.2
             }
            },
            "type": "barpolar"
           }
          ],
          "carpet": [
           {
            "aaxis": {
             "endlinecolor": "#2a3f5f",
             "gridcolor": "white",
             "linecolor": "white",
             "minorgridcolor": "white",
             "startlinecolor": "#2a3f5f"
            },
            "baxis": {
             "endlinecolor": "#2a3f5f",
             "gridcolor": "white",
             "linecolor": "white",
             "minorgridcolor": "white",
             "startlinecolor": "#2a3f5f"
            },
            "type": "carpet"
           }
          ],
          "choropleth": [
           {
            "colorbar": {
             "outlinewidth": 0,
             "ticks": ""
            },
            "type": "choropleth"
           }
          ],
          "contour": [
           {
            "colorbar": {
             "outlinewidth": 0,
             "ticks": ""
            },
            "colorscale": [
             [
              0,
              "#0d0887"
             ],
             [
              0.1111111111111111,
              "#46039f"
             ],
             [
              0.2222222222222222,
              "#7201a8"
             ],
             [
              0.3333333333333333,
              "#9c179e"
             ],
             [
              0.4444444444444444,
              "#bd3786"
             ],
             [
              0.5555555555555556,
              "#d8576b"
             ],
             [
              0.6666666666666666,
              "#ed7953"
             ],
             [
              0.7777777777777778,
              "#fb9f3a"
             ],
             [
              0.8888888888888888,
              "#fdca26"
             ],
             [
              1,
              "#f0f921"
             ]
            ],
            "type": "contour"
           }
          ],
          "contourcarpet": [
           {
            "colorbar": {
             "outlinewidth": 0,
             "ticks": ""
            },
            "type": "contourcarpet"
           }
          ],
          "heatmap": [
           {
            "colorbar": {
             "outlinewidth": 0,
             "ticks": ""
            },
            "colorscale": [
             [
              0,
              "#0d0887"
             ],
             [
              0.1111111111111111,
              "#46039f"
             ],
             [
              0.2222222222222222,
              "#7201a8"
             ],
             [
              0.3333333333333333,
              "#9c179e"
             ],
             [
              0.4444444444444444,
              "#bd3786"
             ],
             [
              0.5555555555555556,
              "#d8576b"
             ],
             [
              0.6666666666666666,
              "#ed7953"
             ],
             [
              0.7777777777777778,
              "#fb9f3a"
             ],
             [
              0.8888888888888888,
              "#fdca26"
             ],
             [
              1,
              "#f0f921"
             ]
            ],
            "type": "heatmap"
           }
          ],
          "heatmapgl": [
           {
            "colorbar": {
             "outlinewidth": 0,
             "ticks": ""
            },
            "colorscale": [
             [
              0,
              "#0d0887"
             ],
             [
              0.1111111111111111,
              "#46039f"
             ],
             [
              0.2222222222222222,
              "#7201a8"
             ],
             [
              0.3333333333333333,
              "#9c179e"
             ],
             [
              0.4444444444444444,
              "#bd3786"
             ],
             [
              0.5555555555555556,
              "#d8576b"
             ],
             [
              0.6666666666666666,
              "#ed7953"
             ],
             [
              0.7777777777777778,
              "#fb9f3a"
             ],
             [
              0.8888888888888888,
              "#fdca26"
             ],
             [
              1,
              "#f0f921"
             ]
            ],
            "type": "heatmapgl"
           }
          ],
          "histogram": [
           {
            "marker": {
             "pattern": {
              "fillmode": "overlay",
              "size": 10,
              "solidity": 0.2
             }
            },
            "type": "histogram"
           }
          ],
          "histogram2d": [
           {
            "colorbar": {
             "outlinewidth": 0,
             "ticks": ""
            },
            "colorscale": [
             [
              0,
              "#0d0887"
             ],
             [
              0.1111111111111111,
              "#46039f"
             ],
             [
              0.2222222222222222,
              "#7201a8"
             ],
             [
              0.3333333333333333,
              "#9c179e"
             ],
             [
              0.4444444444444444,
              "#bd3786"
             ],
             [
              0.5555555555555556,
              "#d8576b"
             ],
             [
              0.6666666666666666,
              "#ed7953"
             ],
             [
              0.7777777777777778,
              "#fb9f3a"
             ],
             [
              0.8888888888888888,
              "#fdca26"
             ],
             [
              1,
              "#f0f921"
             ]
            ],
            "type": "histogram2d"
           }
          ],
          "histogram2dcontour": [
           {
            "colorbar": {
             "outlinewidth": 0,
             "ticks": ""
            },
            "colorscale": [
             [
              0,
              "#0d0887"
             ],
             [
              0.1111111111111111,
              "#46039f"
             ],
             [
              0.2222222222222222,
              "#7201a8"
             ],
             [
              0.3333333333333333,
              "#9c179e"
             ],
             [
              0.4444444444444444,
              "#bd3786"
             ],
             [
              0.5555555555555556,
              "#d8576b"
             ],
             [
              0.6666666666666666,
              "#ed7953"
             ],
             [
              0.7777777777777778,
              "#fb9f3a"
             ],
             [
              0.8888888888888888,
              "#fdca26"
             ],
             [
              1,
              "#f0f921"
             ]
            ],
            "type": "histogram2dcontour"
           }
          ],
          "mesh3d": [
           {
            "colorbar": {
             "outlinewidth": 0,
             "ticks": ""
            },
            "type": "mesh3d"
           }
          ],
          "parcoords": [
           {
            "line": {
             "colorbar": {
              "outlinewidth": 0,
              "ticks": ""
             }
            },
            "type": "parcoords"
           }
          ],
          "pie": [
           {
            "automargin": true,
            "type": "pie"
           }
          ],
          "scatter": [
           {
            "marker": {
             "colorbar": {
              "outlinewidth": 0,
              "ticks": ""
             }
            },
            "type": "scatter"
           }
          ],
          "scatter3d": [
           {
            "line": {
             "colorbar": {
              "outlinewidth": 0,
              "ticks": ""
             }
            },
            "marker": {
             "colorbar": {
              "outlinewidth": 0,
              "ticks": ""
             }
            },
            "type": "scatter3d"
           }
          ],
          "scattercarpet": [
           {
            "marker": {
             "colorbar": {
              "outlinewidth": 0,
              "ticks": ""
             }
            },
            "type": "scattercarpet"
           }
          ],
          "scattergeo": [
           {
            "marker": {
             "colorbar": {
              "outlinewidth": 0,
              "ticks": ""
             }
            },
            "type": "scattergeo"
           }
          ],
          "scattergl": [
           {
            "marker": {
             "colorbar": {
              "outlinewidth": 0,
              "ticks": ""
             }
            },
            "type": "scattergl"
           }
          ],
          "scattermapbox": [
           {
            "marker": {
             "colorbar": {
              "outlinewidth": 0,
              "ticks": ""
             }
            },
            "type": "scattermapbox"
           }
          ],
          "scatterpolar": [
           {
            "marker": {
             "colorbar": {
              "outlinewidth": 0,
              "ticks": ""
             }
            },
            "type": "scatterpolar"
           }
          ],
          "scatterpolargl": [
           {
            "marker": {
             "colorbar": {
              "outlinewidth": 0,
              "ticks": ""
             }
            },
            "type": "scatterpolargl"
           }
          ],
          "scatterternary": [
           {
            "marker": {
             "colorbar": {
              "outlinewidth": 0,
              "ticks": ""
             }
            },
            "type": "scatterternary"
           }
          ],
          "surface": [
           {
            "colorbar": {
             "outlinewidth": 0,
             "ticks": ""
            },
            "colorscale": [
             [
              0,
              "#0d0887"
             ],
             [
              0.1111111111111111,
              "#46039f"
             ],
             [
              0.2222222222222222,
              "#7201a8"
             ],
             [
              0.3333333333333333,
              "#9c179e"
             ],
             [
              0.4444444444444444,
              "#bd3786"
             ],
             [
              0.5555555555555556,
              "#d8576b"
             ],
             [
              0.6666666666666666,
              "#ed7953"
             ],
             [
              0.7777777777777778,
              "#fb9f3a"
             ],
             [
              0.8888888888888888,
              "#fdca26"
             ],
             [
              1,
              "#f0f921"
             ]
            ],
            "type": "surface"
           }
          ],
          "table": [
           {
            "cells": {
             "fill": {
              "color": "#EBF0F8"
             },
             "line": {
              "color": "white"
             }
            },
            "header": {
             "fill": {
              "color": "#C8D4E3"
             },
             "line": {
              "color": "white"
             }
            },
            "type": "table"
           }
          ]
         },
         "layout": {
          "annotationdefaults": {
           "arrowcolor": "#2a3f5f",
           "arrowhead": 0,
           "arrowwidth": 1
          },
          "autotypenumbers": "strict",
          "coloraxis": {
           "colorbar": {
            "outlinewidth": 0,
            "ticks": ""
           }
          },
          "colorscale": {
           "diverging": [
            [
             0,
             "#8e0152"
            ],
            [
             0.1,
             "#c51b7d"
            ],
            [
             0.2,
             "#de77ae"
            ],
            [
             0.3,
             "#f1b6da"
            ],
            [
             0.4,
             "#fde0ef"
            ],
            [
             0.5,
             "#f7f7f7"
            ],
            [
             0.6,
             "#e6f5d0"
            ],
            [
             0.7,
             "#b8e186"
            ],
            [
             0.8,
             "#7fbc41"
            ],
            [
             0.9,
             "#4d9221"
            ],
            [
             1,
             "#276419"
            ]
           ],
           "sequential": [
            [
             0,
             "#0d0887"
            ],
            [
             0.1111111111111111,
             "#46039f"
            ],
            [
             0.2222222222222222,
             "#7201a8"
            ],
            [
             0.3333333333333333,
             "#9c179e"
            ],
            [
             0.4444444444444444,
             "#bd3786"
            ],
            [
             0.5555555555555556,
             "#d8576b"
            ],
            [
             0.6666666666666666,
             "#ed7953"
            ],
            [
             0.7777777777777778,
             "#fb9f3a"
            ],
            [
             0.8888888888888888,
             "#fdca26"
            ],
            [
             1,
             "#f0f921"
            ]
           ],
           "sequentialminus": [
            [
             0,
             "#0d0887"
            ],
            [
             0.1111111111111111,
             "#46039f"
            ],
            [
             0.2222222222222222,
             "#7201a8"
            ],
            [
             0.3333333333333333,
             "#9c179e"
            ],
            [
             0.4444444444444444,
             "#bd3786"
            ],
            [
             0.5555555555555556,
             "#d8576b"
            ],
            [
             0.6666666666666666,
             "#ed7953"
            ],
            [
             0.7777777777777778,
             "#fb9f3a"
            ],
            [
             0.8888888888888888,
             "#fdca26"
            ],
            [
             1,
             "#f0f921"
            ]
           ]
          },
          "colorway": [
           "#636efa",
           "#EF553B",
           "#00cc96",
           "#ab63fa",
           "#FFA15A",
           "#19d3f3",
           "#FF6692",
           "#B6E880",
           "#FF97FF",
           "#FECB52"
          ],
          "font": {
           "color": "#2a3f5f"
          },
          "geo": {
           "bgcolor": "white",
           "lakecolor": "white",
           "landcolor": "#E5ECF6",
           "showlakes": true,
           "showland": true,
           "subunitcolor": "white"
          },
          "hoverlabel": {
           "align": "left"
          },
          "hovermode": "closest",
          "mapbox": {
           "style": "light"
          },
          "paper_bgcolor": "white",
          "plot_bgcolor": "#E5ECF6",
          "polar": {
           "angularaxis": {
            "gridcolor": "white",
            "linecolor": "white",
            "ticks": ""
           },
           "bgcolor": "#E5ECF6",
           "radialaxis": {
            "gridcolor": "white",
            "linecolor": "white",
            "ticks": ""
           }
          },
          "scene": {
           "xaxis": {
            "backgroundcolor": "#E5ECF6",
            "gridcolor": "white",
            "gridwidth": 2,
            "linecolor": "white",
            "showbackground": true,
            "ticks": "",
            "zerolinecolor": "white"
           },
           "yaxis": {
            "backgroundcolor": "#E5ECF6",
            "gridcolor": "white",
            "gridwidth": 2,
            "linecolor": "white",
            "showbackground": true,
            "ticks": "",
            "zerolinecolor": "white"
           },
           "zaxis": {
            "backgroundcolor": "#E5ECF6",
            "gridcolor": "white",
            "gridwidth": 2,
            "linecolor": "white",
            "showbackground": true,
            "ticks": "",
            "zerolinecolor": "white"
           }
          },
          "shapedefaults": {
           "line": {
            "color": "#2a3f5f"
           }
          },
          "ternary": {
           "aaxis": {
            "gridcolor": "white",
            "linecolor": "white",
            "ticks": ""
           },
           "baxis": {
            "gridcolor": "white",
            "linecolor": "white",
            "ticks": ""
           },
           "bgcolor": "#E5ECF6",
           "caxis": {
            "gridcolor": "white",
            "linecolor": "white",
            "ticks": ""
           }
          },
          "title": {
           "x": 0.05
          },
          "xaxis": {
           "automargin": true,
           "gridcolor": "white",
           "linecolor": "white",
           "ticks": "",
           "title": {
            "standoff": 15
           },
           "zerolinecolor": "white",
           "zerolinewidth": 2
          },
          "yaxis": {
           "automargin": true,
           "gridcolor": "white",
           "linecolor": "white",
           "ticks": "",
           "title": {
            "standoff": 15
           },
           "zerolinecolor": "white",
           "zerolinewidth": 2
          }
         }
        },
        "title": {
         "font": {
          "color": "#4D5663"
         }
        },
        "xaxis": {
         "gridcolor": "#E1E5ED",
         "showgrid": true,
         "tickfont": {
          "color": "#4D5663"
         },
         "title": {
          "font": {
           "color": "#4D5663"
          },
          "text": ""
         },
         "zerolinecolor": "#E1E5ED"
        },
        "yaxis": {
         "gridcolor": "#E1E5ED",
         "showgrid": true,
         "tickfont": {
          "color": "#4D5663"
         },
         "title": {
          "font": {
           "color": "#4D5663"
          },
          "text": ""
         },
         "zerolinecolor": "#E1E5ED"
        }
       }
      },
      "text/html": [
       "<div>                            <div id=\"c90097f3-a7a7-4d28-a3d5-d69a70f4e01c\" class=\"plotly-graph-div\" style=\"height:525px; width:100%;\"></div>            <script type=\"text/javascript\">                require([\"plotly\"], function(Plotly) {                    window.PLOTLYENV=window.PLOTLYENV || {};\n",
       "                    window.PLOTLYENV.BASE_URL='https://plot.ly';                                    if (document.getElementById(\"c90097f3-a7a7-4d28-a3d5-d69a70f4e01c\")) {                    Plotly.newPlot(                        \"c90097f3-a7a7-4d28-a3d5-d69a70f4e01c\",                        [{\"colorscale\":[[0.0,\"rgb(165,0,38)\"],[0.1,\"rgb(215,48,39)\"],[0.2,\"rgb(244,109,67)\"],[0.3,\"rgb(253,174,97)\"],[0.4,\"rgb(254,224,144)\"],[0.5,\"rgb(255,255,191)\"],[0.6,\"rgb(224,243,248)\"],[0.7,\"rgb(171,217,233)\"],[0.8,\"rgb(116,173,209)\"],[0.9,\"rgb(69,117,180)\"],[1.0,\"rgb(49,54,149)\"]],\"x\":[0,1,2,3,4],\"y\":[\"x\",\"y\",\"z\"],\"z\":[[1,2,3,4,5],[10,20,30,20,10],[5,4,3,2,1]],\"type\":\"surface\"}],                        {\"legend\":{\"bgcolor\":\"#F5F6F9\",\"font\":{\"color\":\"#4D5663\"}},\"paper_bgcolor\":\"#F5F6F9\",\"plot_bgcolor\":\"#F5F6F9\",\"template\":{\"data\":{\"barpolar\":[{\"marker\":{\"line\":{\"color\":\"#E5ECF6\",\"width\":0.5},\"pattern\":{\"fillmode\":\"overlay\",\"size\":10,\"solidity\":0.2}},\"type\":\"barpolar\"}],\"bar\":[{\"error_x\":{\"color\":\"#2a3f5f\"},\"error_y\":{\"color\":\"#2a3f5f\"},\"marker\":{\"line\":{\"color\":\"#E5ECF6\",\"width\":0.5},\"pattern\":{\"fillmode\":\"overlay\",\"size\":10,\"solidity\":0.2}},\"type\":\"bar\"}],\"carpet\":[{\"aaxis\":{\"endlinecolor\":\"#2a3f5f\",\"gridcolor\":\"white\",\"linecolor\":\"white\",\"minorgridcolor\":\"white\",\"startlinecolor\":\"#2a3f5f\"},\"baxis\":{\"endlinecolor\":\"#2a3f5f\",\"gridcolor\":\"white\",\"linecolor\":\"white\",\"minorgridcolor\":\"white\",\"startlinecolor\":\"#2a3f5f\"},\"type\":\"carpet\"}],\"choropleth\":[{\"colorbar\":{\"outlinewidth\":0,\"ticks\":\"\"},\"type\":\"choropleth\"}],\"contourcarpet\":[{\"colorbar\":{\"outlinewidth\":0,\"ticks\":\"\"},\"type\":\"contourcarpet\"}],\"contour\":[{\"colorbar\":{\"outlinewidth\":0,\"ticks\":\"\"},\"colorscale\":[[0.0,\"#0d0887\"],[0.1111111111111111,\"#46039f\"],[0.2222222222222222,\"#7201a8\"],[0.3333333333333333,\"#9c179e\"],[0.4444444444444444,\"#bd3786\"],[0.5555555555555556,\"#d8576b\"],[0.6666666666666666,\"#ed7953\"],[0.7777777777777778,\"#fb9f3a\"],[0.8888888888888888,\"#fdca26\"],[1.0,\"#f0f921\"]],\"type\":\"contour\"}],\"heatmapgl\":[{\"colorbar\":{\"outlinewidth\":0,\"ticks\":\"\"},\"colorscale\":[[0.0,\"#0d0887\"],[0.1111111111111111,\"#46039f\"],[0.2222222222222222,\"#7201a8\"],[0.3333333333333333,\"#9c179e\"],[0.4444444444444444,\"#bd3786\"],[0.5555555555555556,\"#d8576b\"],[0.6666666666666666,\"#ed7953\"],[0.7777777777777778,\"#fb9f3a\"],[0.8888888888888888,\"#fdca26\"],[1.0,\"#f0f921\"]],\"type\":\"heatmapgl\"}],\"heatmap\":[{\"colorbar\":{\"outlinewidth\":0,\"ticks\":\"\"},\"colorscale\":[[0.0,\"#0d0887\"],[0.1111111111111111,\"#46039f\"],[0.2222222222222222,\"#7201a8\"],[0.3333333333333333,\"#9c179e\"],[0.4444444444444444,\"#bd3786\"],[0.5555555555555556,\"#d8576b\"],[0.6666666666666666,\"#ed7953\"],[0.7777777777777778,\"#fb9f3a\"],[0.8888888888888888,\"#fdca26\"],[1.0,\"#f0f921\"]],\"type\":\"heatmap\"}],\"histogram2dcontour\":[{\"colorbar\":{\"outlinewidth\":0,\"ticks\":\"\"},\"colorscale\":[[0.0,\"#0d0887\"],[0.1111111111111111,\"#46039f\"],[0.2222222222222222,\"#7201a8\"],[0.3333333333333333,\"#9c179e\"],[0.4444444444444444,\"#bd3786\"],[0.5555555555555556,\"#d8576b\"],[0.6666666666666666,\"#ed7953\"],[0.7777777777777778,\"#fb9f3a\"],[0.8888888888888888,\"#fdca26\"],[1.0,\"#f0f921\"]],\"type\":\"histogram2dcontour\"}],\"histogram2d\":[{\"colorbar\":{\"outlinewidth\":0,\"ticks\":\"\"},\"colorscale\":[[0.0,\"#0d0887\"],[0.1111111111111111,\"#46039f\"],[0.2222222222222222,\"#7201a8\"],[0.3333333333333333,\"#9c179e\"],[0.4444444444444444,\"#bd3786\"],[0.5555555555555556,\"#d8576b\"],[0.6666666666666666,\"#ed7953\"],[0.7777777777777778,\"#fb9f3a\"],[0.8888888888888888,\"#fdca26\"],[1.0,\"#f0f921\"]],\"type\":\"histogram2d\"}],\"histogram\":[{\"marker\":{\"pattern\":{\"fillmode\":\"overlay\",\"size\":10,\"solidity\":0.2}},\"type\":\"histogram\"}],\"mesh3d\":[{\"colorbar\":{\"outlinewidth\":0,\"ticks\":\"\"},\"type\":\"mesh3d\"}],\"parcoords\":[{\"line\":{\"colorbar\":{\"outlinewidth\":0,\"ticks\":\"\"}},\"type\":\"parcoords\"}],\"pie\":[{\"automargin\":true,\"type\":\"pie\"}],\"scatter3d\":[{\"line\":{\"colorbar\":{\"outlinewidth\":0,\"ticks\":\"\"}},\"marker\":{\"colorbar\":{\"outlinewidth\":0,\"ticks\":\"\"}},\"type\":\"scatter3d\"}],\"scattercarpet\":[{\"marker\":{\"colorbar\":{\"outlinewidth\":0,\"ticks\":\"\"}},\"type\":\"scattercarpet\"}],\"scattergeo\":[{\"marker\":{\"colorbar\":{\"outlinewidth\":0,\"ticks\":\"\"}},\"type\":\"scattergeo\"}],\"scattergl\":[{\"marker\":{\"colorbar\":{\"outlinewidth\":0,\"ticks\":\"\"}},\"type\":\"scattergl\"}],\"scattermapbox\":[{\"marker\":{\"colorbar\":{\"outlinewidth\":0,\"ticks\":\"\"}},\"type\":\"scattermapbox\"}],\"scatterpolargl\":[{\"marker\":{\"colorbar\":{\"outlinewidth\":0,\"ticks\":\"\"}},\"type\":\"scatterpolargl\"}],\"scatterpolar\":[{\"marker\":{\"colorbar\":{\"outlinewidth\":0,\"ticks\":\"\"}},\"type\":\"scatterpolar\"}],\"scatter\":[{\"marker\":{\"colorbar\":{\"outlinewidth\":0,\"ticks\":\"\"}},\"type\":\"scatter\"}],\"scatterternary\":[{\"marker\":{\"colorbar\":{\"outlinewidth\":0,\"ticks\":\"\"}},\"type\":\"scatterternary\"}],\"surface\":[{\"colorbar\":{\"outlinewidth\":0,\"ticks\":\"\"},\"colorscale\":[[0.0,\"#0d0887\"],[0.1111111111111111,\"#46039f\"],[0.2222222222222222,\"#7201a8\"],[0.3333333333333333,\"#9c179e\"],[0.4444444444444444,\"#bd3786\"],[0.5555555555555556,\"#d8576b\"],[0.6666666666666666,\"#ed7953\"],[0.7777777777777778,\"#fb9f3a\"],[0.8888888888888888,\"#fdca26\"],[1.0,\"#f0f921\"]],\"type\":\"surface\"}],\"table\":[{\"cells\":{\"fill\":{\"color\":\"#EBF0F8\"},\"line\":{\"color\":\"white\"}},\"header\":{\"fill\":{\"color\":\"#C8D4E3\"},\"line\":{\"color\":\"white\"}},\"type\":\"table\"}]},\"layout\":{\"annotationdefaults\":{\"arrowcolor\":\"#2a3f5f\",\"arrowhead\":0,\"arrowwidth\":1},\"autotypenumbers\":\"strict\",\"coloraxis\":{\"colorbar\":{\"outlinewidth\":0,\"ticks\":\"\"}},\"colorscale\":{\"diverging\":[[0,\"#8e0152\"],[0.1,\"#c51b7d\"],[0.2,\"#de77ae\"],[0.3,\"#f1b6da\"],[0.4,\"#fde0ef\"],[0.5,\"#f7f7f7\"],[0.6,\"#e6f5d0\"],[0.7,\"#b8e186\"],[0.8,\"#7fbc41\"],[0.9,\"#4d9221\"],[1,\"#276419\"]],\"sequential\":[[0.0,\"#0d0887\"],[0.1111111111111111,\"#46039f\"],[0.2222222222222222,\"#7201a8\"],[0.3333333333333333,\"#9c179e\"],[0.4444444444444444,\"#bd3786\"],[0.5555555555555556,\"#d8576b\"],[0.6666666666666666,\"#ed7953\"],[0.7777777777777778,\"#fb9f3a\"],[0.8888888888888888,\"#fdca26\"],[1.0,\"#f0f921\"]],\"sequentialminus\":[[0.0,\"#0d0887\"],[0.1111111111111111,\"#46039f\"],[0.2222222222222222,\"#7201a8\"],[0.3333333333333333,\"#9c179e\"],[0.4444444444444444,\"#bd3786\"],[0.5555555555555556,\"#d8576b\"],[0.6666666666666666,\"#ed7953\"],[0.7777777777777778,\"#fb9f3a\"],[0.8888888888888888,\"#fdca26\"],[1.0,\"#f0f921\"]]},\"colorway\":[\"#636efa\",\"#EF553B\",\"#00cc96\",\"#ab63fa\",\"#FFA15A\",\"#19d3f3\",\"#FF6692\",\"#B6E880\",\"#FF97FF\",\"#FECB52\"],\"font\":{\"color\":\"#2a3f5f\"},\"geo\":{\"bgcolor\":\"white\",\"lakecolor\":\"white\",\"landcolor\":\"#E5ECF6\",\"showlakes\":true,\"showland\":true,\"subunitcolor\":\"white\"},\"hoverlabel\":{\"align\":\"left\"},\"hovermode\":\"closest\",\"mapbox\":{\"style\":\"light\"},\"paper_bgcolor\":\"white\",\"plot_bgcolor\":\"#E5ECF6\",\"polar\":{\"angularaxis\":{\"gridcolor\":\"white\",\"linecolor\":\"white\",\"ticks\":\"\"},\"bgcolor\":\"#E5ECF6\",\"radialaxis\":{\"gridcolor\":\"white\",\"linecolor\":\"white\",\"ticks\":\"\"}},\"scene\":{\"xaxis\":{\"backgroundcolor\":\"#E5ECF6\",\"gridcolor\":\"white\",\"gridwidth\":2,\"linecolor\":\"white\",\"showbackground\":true,\"ticks\":\"\",\"zerolinecolor\":\"white\"},\"yaxis\":{\"backgroundcolor\":\"#E5ECF6\",\"gridcolor\":\"white\",\"gridwidth\":2,\"linecolor\":\"white\",\"showbackground\":true,\"ticks\":\"\",\"zerolinecolor\":\"white\"},\"zaxis\":{\"backgroundcolor\":\"#E5ECF6\",\"gridcolor\":\"white\",\"gridwidth\":2,\"linecolor\":\"white\",\"showbackground\":true,\"ticks\":\"\",\"zerolinecolor\":\"white\"}},\"shapedefaults\":{\"line\":{\"color\":\"#2a3f5f\"}},\"ternary\":{\"aaxis\":{\"gridcolor\":\"white\",\"linecolor\":\"white\",\"ticks\":\"\"},\"baxis\":{\"gridcolor\":\"white\",\"linecolor\":\"white\",\"ticks\":\"\"},\"bgcolor\":\"#E5ECF6\",\"caxis\":{\"gridcolor\":\"white\",\"linecolor\":\"white\",\"ticks\":\"\"}},\"title\":{\"x\":0.05},\"xaxis\":{\"automargin\":true,\"gridcolor\":\"white\",\"linecolor\":\"white\",\"ticks\":\"\",\"title\":{\"standoff\":15},\"zerolinecolor\":\"white\",\"zerolinewidth\":2},\"yaxis\":{\"automargin\":true,\"gridcolor\":\"white\",\"linecolor\":\"white\",\"ticks\":\"\",\"title\":{\"standoff\":15},\"zerolinecolor\":\"white\",\"zerolinewidth\":2}}},\"title\":{\"font\":{\"color\":\"#4D5663\"}},\"xaxis\":{\"gridcolor\":\"#E1E5ED\",\"showgrid\":true,\"tickfont\":{\"color\":\"#4D5663\"},\"title\":{\"font\":{\"color\":\"#4D5663\"},\"text\":\"\"},\"zerolinecolor\":\"#E1E5ED\"},\"yaxis\":{\"gridcolor\":\"#E1E5ED\",\"showgrid\":true,\"tickfont\":{\"color\":\"#4D5663\"},\"title\":{\"font\":{\"color\":\"#4D5663\"},\"text\":\"\"},\"zerolinecolor\":\"#E1E5ED\"}},                        {\"showLink\": true, \"linkText\": \"Export to plot.ly\", \"plotlyServerURL\": \"https://plot.ly\", \"responsive\": true}                    ).then(function(){\n",
       "                            \n",
       "var gd = document.getElementById('c90097f3-a7a7-4d28-a3d5-d69a70f4e01c');\n",
       "var x = new MutationObserver(function (mutations, observer) {{\n",
       "        var display = window.getComputedStyle(gd).display;\n",
       "        if (!display || display === 'none') {{\n",
       "            console.log([gd, 'removed!']);\n",
       "            Plotly.purge(gd);\n",
       "            observer.disconnect();\n",
       "        }}\n",
       "}});\n",
       "\n",
       "// Listen for the removal of the full notebook cells\n",
       "var notebookContainer = gd.closest('#notebook-container');\n",
       "if (notebookContainer) {{\n",
       "    x.observe(notebookContainer, {childList: true});\n",
       "}}\n",
       "\n",
       "// Listen for the clearing of the current output cell\n",
       "var outputEl = gd.closest('.output');\n",
       "if (outputEl) {{\n",
       "    x.observe(outputEl, {childList: true});\n",
       "}}\n",
       "\n",
       "                        })                };                });            </script>        </div>"
      ]
     },
     "metadata": {},
     "output_type": "display_data"
    }
   ],
   "source": [
    "df3.iplot(kind='surface', colorscale='rdylbu')"
   ]
  },
  {
   "cell_type": "code",
   "execution_count": 59,
   "id": "db9eb1d3",
   "metadata": {},
   "outputs": [
    {
     "data": {
      "application/vnd.plotly.v1+json": {
       "config": {
        "linkText": "Export to plot.ly",
        "plotlyServerURL": "https://plot.ly",
        "showLink": true
       },
       "data": [
        {
         "histfunc": "count",
         "histnorm": "",
         "marker": {
          "color": "rgba(255, 153, 51, 1.0)",
          "line": {
           "color": "#4D5663",
           "width": 1.3
          }
         },
         "name": "A",
         "nbinsx": 20,
         "opacity": 0.8,
         "orientation": "v",
         "type": "histogram",
         "x": [
          -0.6123213313638834,
          1.3594760586323038,
          0.7157028374769693,
          0.7428268604041767,
          1.4387038289767837,
          -0.18659775442196597,
          1.4732645597761136,
          -1.0063295388071447,
          1.056092961661525,
          -2.47632273602315,
          -0.635452318342618,
          -0.44341162530791667,
          0.8603466277919531,
          0.07446614932749684,
          -0.1331131522466488,
          0.9950176867120871,
          -0.6469853058251499,
          -0.8700113105706968,
          0.7451915965836442,
          1.0080729109461022,
          1.3612656769446707,
          -0.46388543466577953,
          -1.6252556434939562,
          -0.9321225459929191,
          0.16520721127913351,
          1.109035311807075,
          -0.17481458358740606,
          -1.624426672284938,
          -0.1702527952572121,
          0.5692071778213524,
          -1.8522429631266695,
          -1.8274075534861318,
          1.4467135685260804,
          -0.2566950458043969,
          -0.31473561434280445,
          -1.3924295664519903,
          -1.5183227401831643,
          1.100316191055605,
          -1.3243172550303042,
          0.934613326420437,
          0.5058253582807383,
          0.6925078253422744,
          1.9416032539843482,
          -1.1472736624868352,
          0.6738495664997504,
          -0.47737184536099964,
          -1.641216335191951,
          -0.13222458670586418,
          -0.709692601338341,
          1.0704070534135786,
          -0.35957829928635193,
          1.1347015745407685,
          1.7394557819272984,
          0.10648238319660469,
          -1.2104409774898166,
          -0.21935452937051048,
          -0.7209436501354658,
          -0.36707627095778994,
          -0.4137095293103209,
          -0.14202313507910364,
          1.2665388927529673,
          1.1194663999265804,
          -1.2425290334764583,
          0.39840737442666446,
          0.8945368981705608,
          -0.9571858944373809,
          -0.4633202776630124,
          -0.9712012233075042,
          0.7208776529585661,
          0.7438375746122489,
          -1.3026515735400312,
          1.004468713016441,
          -0.34401917264171356,
          0.37856579146205005,
          0.5766908858096895,
          0.14489140687254426,
          0.5030487355914735,
          0.16656440729662095,
          -1.044040712361414,
          1.3940344198410861,
          -1.8958614932946471,
          -1.598344342488547,
          0.619097265217185,
          1.1247773545002318,
          -0.7131652820603137,
          -0.7259441325114188,
          0.3783084614135404,
          0.953242635318946,
          -1.0865438738709796,
          1.0560252986180356,
          -0.9152623676229141,
          -0.47689637661425693,
          -1.5731089650479364,
          0.45657205749455,
          -0.011860036772261388,
          -0.7254513536108076,
          0.5454745770976296,
          -1.669814686271186,
          1.5393007948667181,
          0.28512201838580503
         ]
        }
       ],
       "layout": {
        "barmode": "overlay",
        "legend": {
         "bgcolor": "#F5F6F9",
         "font": {
          "color": "#4D5663"
         }
        },
        "paper_bgcolor": "#F5F6F9",
        "plot_bgcolor": "#F5F6F9",
        "template": {
         "data": {
          "bar": [
           {
            "error_x": {
             "color": "#2a3f5f"
            },
            "error_y": {
             "color": "#2a3f5f"
            },
            "marker": {
             "line": {
              "color": "#E5ECF6",
              "width": 0.5
             },
             "pattern": {
              "fillmode": "overlay",
              "size": 10,
              "solidity": 0.2
             }
            },
            "type": "bar"
           }
          ],
          "barpolar": [
           {
            "marker": {
             "line": {
              "color": "#E5ECF6",
              "width": 0.5
             },
             "pattern": {
              "fillmode": "overlay",
              "size": 10,
              "solidity": 0.2
             }
            },
            "type": "barpolar"
           }
          ],
          "carpet": [
           {
            "aaxis": {
             "endlinecolor": "#2a3f5f",
             "gridcolor": "white",
             "linecolor": "white",
             "minorgridcolor": "white",
             "startlinecolor": "#2a3f5f"
            },
            "baxis": {
             "endlinecolor": "#2a3f5f",
             "gridcolor": "white",
             "linecolor": "white",
             "minorgridcolor": "white",
             "startlinecolor": "#2a3f5f"
            },
            "type": "carpet"
           }
          ],
          "choropleth": [
           {
            "colorbar": {
             "outlinewidth": 0,
             "ticks": ""
            },
            "type": "choropleth"
           }
          ],
          "contour": [
           {
            "colorbar": {
             "outlinewidth": 0,
             "ticks": ""
            },
            "colorscale": [
             [
              0,
              "#0d0887"
             ],
             [
              0.1111111111111111,
              "#46039f"
             ],
             [
              0.2222222222222222,
              "#7201a8"
             ],
             [
              0.3333333333333333,
              "#9c179e"
             ],
             [
              0.4444444444444444,
              "#bd3786"
             ],
             [
              0.5555555555555556,
              "#d8576b"
             ],
             [
              0.6666666666666666,
              "#ed7953"
             ],
             [
              0.7777777777777778,
              "#fb9f3a"
             ],
             [
              0.8888888888888888,
              "#fdca26"
             ],
             [
              1,
              "#f0f921"
             ]
            ],
            "type": "contour"
           }
          ],
          "contourcarpet": [
           {
            "colorbar": {
             "outlinewidth": 0,
             "ticks": ""
            },
            "type": "contourcarpet"
           }
          ],
          "heatmap": [
           {
            "colorbar": {
             "outlinewidth": 0,
             "ticks": ""
            },
            "colorscale": [
             [
              0,
              "#0d0887"
             ],
             [
              0.1111111111111111,
              "#46039f"
             ],
             [
              0.2222222222222222,
              "#7201a8"
             ],
             [
              0.3333333333333333,
              "#9c179e"
             ],
             [
              0.4444444444444444,
              "#bd3786"
             ],
             [
              0.5555555555555556,
              "#d8576b"
             ],
             [
              0.6666666666666666,
              "#ed7953"
             ],
             [
              0.7777777777777778,
              "#fb9f3a"
             ],
             [
              0.8888888888888888,
              "#fdca26"
             ],
             [
              1,
              "#f0f921"
             ]
            ],
            "type": "heatmap"
           }
          ],
          "heatmapgl": [
           {
            "colorbar": {
             "outlinewidth": 0,
             "ticks": ""
            },
            "colorscale": [
             [
              0,
              "#0d0887"
             ],
             [
              0.1111111111111111,
              "#46039f"
             ],
             [
              0.2222222222222222,
              "#7201a8"
             ],
             [
              0.3333333333333333,
              "#9c179e"
             ],
             [
              0.4444444444444444,
              "#bd3786"
             ],
             [
              0.5555555555555556,
              "#d8576b"
             ],
             [
              0.6666666666666666,
              "#ed7953"
             ],
             [
              0.7777777777777778,
              "#fb9f3a"
             ],
             [
              0.8888888888888888,
              "#fdca26"
             ],
             [
              1,
              "#f0f921"
             ]
            ],
            "type": "heatmapgl"
           }
          ],
          "histogram": [
           {
            "marker": {
             "pattern": {
              "fillmode": "overlay",
              "size": 10,
              "solidity": 0.2
             }
            },
            "type": "histogram"
           }
          ],
          "histogram2d": [
           {
            "colorbar": {
             "outlinewidth": 0,
             "ticks": ""
            },
            "colorscale": [
             [
              0,
              "#0d0887"
             ],
             [
              0.1111111111111111,
              "#46039f"
             ],
             [
              0.2222222222222222,
              "#7201a8"
             ],
             [
              0.3333333333333333,
              "#9c179e"
             ],
             [
              0.4444444444444444,
              "#bd3786"
             ],
             [
              0.5555555555555556,
              "#d8576b"
             ],
             [
              0.6666666666666666,
              "#ed7953"
             ],
             [
              0.7777777777777778,
              "#fb9f3a"
             ],
             [
              0.8888888888888888,
              "#fdca26"
             ],
             [
              1,
              "#f0f921"
             ]
            ],
            "type": "histogram2d"
           }
          ],
          "histogram2dcontour": [
           {
            "colorbar": {
             "outlinewidth": 0,
             "ticks": ""
            },
            "colorscale": [
             [
              0,
              "#0d0887"
             ],
             [
              0.1111111111111111,
              "#46039f"
             ],
             [
              0.2222222222222222,
              "#7201a8"
             ],
             [
              0.3333333333333333,
              "#9c179e"
             ],
             [
              0.4444444444444444,
              "#bd3786"
             ],
             [
              0.5555555555555556,
              "#d8576b"
             ],
             [
              0.6666666666666666,
              "#ed7953"
             ],
             [
              0.7777777777777778,
              "#fb9f3a"
             ],
             [
              0.8888888888888888,
              "#fdca26"
             ],
             [
              1,
              "#f0f921"
             ]
            ],
            "type": "histogram2dcontour"
           }
          ],
          "mesh3d": [
           {
            "colorbar": {
             "outlinewidth": 0,
             "ticks": ""
            },
            "type": "mesh3d"
           }
          ],
          "parcoords": [
           {
            "line": {
             "colorbar": {
              "outlinewidth": 0,
              "ticks": ""
             }
            },
            "type": "parcoords"
           }
          ],
          "pie": [
           {
            "automargin": true,
            "type": "pie"
           }
          ],
          "scatter": [
           {
            "marker": {
             "colorbar": {
              "outlinewidth": 0,
              "ticks": ""
             }
            },
            "type": "scatter"
           }
          ],
          "scatter3d": [
           {
            "line": {
             "colorbar": {
              "outlinewidth": 0,
              "ticks": ""
             }
            },
            "marker": {
             "colorbar": {
              "outlinewidth": 0,
              "ticks": ""
             }
            },
            "type": "scatter3d"
           }
          ],
          "scattercarpet": [
           {
            "marker": {
             "colorbar": {
              "outlinewidth": 0,
              "ticks": ""
             }
            },
            "type": "scattercarpet"
           }
          ],
          "scattergeo": [
           {
            "marker": {
             "colorbar": {
              "outlinewidth": 0,
              "ticks": ""
             }
            },
            "type": "scattergeo"
           }
          ],
          "scattergl": [
           {
            "marker": {
             "colorbar": {
              "outlinewidth": 0,
              "ticks": ""
             }
            },
            "type": "scattergl"
           }
          ],
          "scattermapbox": [
           {
            "marker": {
             "colorbar": {
              "outlinewidth": 0,
              "ticks": ""
             }
            },
            "type": "scattermapbox"
           }
          ],
          "scatterpolar": [
           {
            "marker": {
             "colorbar": {
              "outlinewidth": 0,
              "ticks": ""
             }
            },
            "type": "scatterpolar"
           }
          ],
          "scatterpolargl": [
           {
            "marker": {
             "colorbar": {
              "outlinewidth": 0,
              "ticks": ""
             }
            },
            "type": "scatterpolargl"
           }
          ],
          "scatterternary": [
           {
            "marker": {
             "colorbar": {
              "outlinewidth": 0,
              "ticks": ""
             }
            },
            "type": "scatterternary"
           }
          ],
          "surface": [
           {
            "colorbar": {
             "outlinewidth": 0,
             "ticks": ""
            },
            "colorscale": [
             [
              0,
              "#0d0887"
             ],
             [
              0.1111111111111111,
              "#46039f"
             ],
             [
              0.2222222222222222,
              "#7201a8"
             ],
             [
              0.3333333333333333,
              "#9c179e"
             ],
             [
              0.4444444444444444,
              "#bd3786"
             ],
             [
              0.5555555555555556,
              "#d8576b"
             ],
             [
              0.6666666666666666,
              "#ed7953"
             ],
             [
              0.7777777777777778,
              "#fb9f3a"
             ],
             [
              0.8888888888888888,
              "#fdca26"
             ],
             [
              1,
              "#f0f921"
             ]
            ],
            "type": "surface"
           }
          ],
          "table": [
           {
            "cells": {
             "fill": {
              "color": "#EBF0F8"
             },
             "line": {
              "color": "white"
             }
            },
            "header": {
             "fill": {
              "color": "#C8D4E3"
             },
             "line": {
              "color": "white"
             }
            },
            "type": "table"
           }
          ]
         },
         "layout": {
          "annotationdefaults": {
           "arrowcolor": "#2a3f5f",
           "arrowhead": 0,
           "arrowwidth": 1
          },
          "autotypenumbers": "strict",
          "coloraxis": {
           "colorbar": {
            "outlinewidth": 0,
            "ticks": ""
           }
          },
          "colorscale": {
           "diverging": [
            [
             0,
             "#8e0152"
            ],
            [
             0.1,
             "#c51b7d"
            ],
            [
             0.2,
             "#de77ae"
            ],
            [
             0.3,
             "#f1b6da"
            ],
            [
             0.4,
             "#fde0ef"
            ],
            [
             0.5,
             "#f7f7f7"
            ],
            [
             0.6,
             "#e6f5d0"
            ],
            [
             0.7,
             "#b8e186"
            ],
            [
             0.8,
             "#7fbc41"
            ],
            [
             0.9,
             "#4d9221"
            ],
            [
             1,
             "#276419"
            ]
           ],
           "sequential": [
            [
             0,
             "#0d0887"
            ],
            [
             0.1111111111111111,
             "#46039f"
            ],
            [
             0.2222222222222222,
             "#7201a8"
            ],
            [
             0.3333333333333333,
             "#9c179e"
            ],
            [
             0.4444444444444444,
             "#bd3786"
            ],
            [
             0.5555555555555556,
             "#d8576b"
            ],
            [
             0.6666666666666666,
             "#ed7953"
            ],
            [
             0.7777777777777778,
             "#fb9f3a"
            ],
            [
             0.8888888888888888,
             "#fdca26"
            ],
            [
             1,
             "#f0f921"
            ]
           ],
           "sequentialminus": [
            [
             0,
             "#0d0887"
            ],
            [
             0.1111111111111111,
             "#46039f"
            ],
            [
             0.2222222222222222,
             "#7201a8"
            ],
            [
             0.3333333333333333,
             "#9c179e"
            ],
            [
             0.4444444444444444,
             "#bd3786"
            ],
            [
             0.5555555555555556,
             "#d8576b"
            ],
            [
             0.6666666666666666,
             "#ed7953"
            ],
            [
             0.7777777777777778,
             "#fb9f3a"
            ],
            [
             0.8888888888888888,
             "#fdca26"
            ],
            [
             1,
             "#f0f921"
            ]
           ]
          },
          "colorway": [
           "#636efa",
           "#EF553B",
           "#00cc96",
           "#ab63fa",
           "#FFA15A",
           "#19d3f3",
           "#FF6692",
           "#B6E880",
           "#FF97FF",
           "#FECB52"
          ],
          "font": {
           "color": "#2a3f5f"
          },
          "geo": {
           "bgcolor": "white",
           "lakecolor": "white",
           "landcolor": "#E5ECF6",
           "showlakes": true,
           "showland": true,
           "subunitcolor": "white"
          },
          "hoverlabel": {
           "align": "left"
          },
          "hovermode": "closest",
          "mapbox": {
           "style": "light"
          },
          "paper_bgcolor": "white",
          "plot_bgcolor": "#E5ECF6",
          "polar": {
           "angularaxis": {
            "gridcolor": "white",
            "linecolor": "white",
            "ticks": ""
           },
           "bgcolor": "#E5ECF6",
           "radialaxis": {
            "gridcolor": "white",
            "linecolor": "white",
            "ticks": ""
           }
          },
          "scene": {
           "xaxis": {
            "backgroundcolor": "#E5ECF6",
            "gridcolor": "white",
            "gridwidth": 2,
            "linecolor": "white",
            "showbackground": true,
            "ticks": "",
            "zerolinecolor": "white"
           },
           "yaxis": {
            "backgroundcolor": "#E5ECF6",
            "gridcolor": "white",
            "gridwidth": 2,
            "linecolor": "white",
            "showbackground": true,
            "ticks": "",
            "zerolinecolor": "white"
           },
           "zaxis": {
            "backgroundcolor": "#E5ECF6",
            "gridcolor": "white",
            "gridwidth": 2,
            "linecolor": "white",
            "showbackground": true,
            "ticks": "",
            "zerolinecolor": "white"
           }
          },
          "shapedefaults": {
           "line": {
            "color": "#2a3f5f"
           }
          },
          "ternary": {
           "aaxis": {
            "gridcolor": "white",
            "linecolor": "white",
            "ticks": ""
           },
           "baxis": {
            "gridcolor": "white",
            "linecolor": "white",
            "ticks": ""
           },
           "bgcolor": "#E5ECF6",
           "caxis": {
            "gridcolor": "white",
            "linecolor": "white",
            "ticks": ""
           }
          },
          "title": {
           "x": 0.05
          },
          "xaxis": {
           "automargin": true,
           "gridcolor": "white",
           "linecolor": "white",
           "ticks": "",
           "title": {
            "standoff": 15
           },
           "zerolinecolor": "white",
           "zerolinewidth": 2
          },
          "yaxis": {
           "automargin": true,
           "gridcolor": "white",
           "linecolor": "white",
           "ticks": "",
           "title": {
            "standoff": 15
           },
           "zerolinecolor": "white",
           "zerolinewidth": 2
          }
         }
        },
        "title": {
         "font": {
          "color": "#4D5663"
         }
        },
        "xaxis": {
         "gridcolor": "#E1E5ED",
         "showgrid": true,
         "tickfont": {
          "color": "#4D5663"
         },
         "title": {
          "font": {
           "color": "#4D5663"
          },
          "text": ""
         },
         "zerolinecolor": "#E1E5ED"
        },
        "yaxis": {
         "gridcolor": "#E1E5ED",
         "showgrid": true,
         "tickfont": {
          "color": "#4D5663"
         },
         "title": {
          "font": {
           "color": "#4D5663"
          },
          "text": ""
         },
         "zerolinecolor": "#E1E5ED"
        }
       }
      },
      "text/html": [
       "<div>                            <div id=\"53d1e860-1638-4bad-882d-cca4e1d56364\" class=\"plotly-graph-div\" style=\"height:525px; width:100%;\"></div>            <script type=\"text/javascript\">                require([\"plotly\"], function(Plotly) {                    window.PLOTLYENV=window.PLOTLYENV || {};\n",
       "                    window.PLOTLYENV.BASE_URL='https://plot.ly';                                    if (document.getElementById(\"53d1e860-1638-4bad-882d-cca4e1d56364\")) {                    Plotly.newPlot(                        \"53d1e860-1638-4bad-882d-cca4e1d56364\",                        [{\"histfunc\":\"count\",\"histnorm\":\"\",\"marker\":{\"color\":\"rgba(255, 153, 51, 1.0)\",\"line\":{\"color\":\"#4D5663\",\"width\":1.3}},\"name\":\"A\",\"nbinsx\":20,\"opacity\":0.8,\"orientation\":\"v\",\"x\":[-0.6123213313638834,1.3594760586323038,0.7157028374769693,0.7428268604041767,1.4387038289767837,-0.18659775442196597,1.4732645597761136,-1.0063295388071447,1.056092961661525,-2.47632273602315,-0.635452318342618,-0.44341162530791667,0.8603466277919531,0.07446614932749684,-0.1331131522466488,0.9950176867120871,-0.6469853058251499,-0.8700113105706968,0.7451915965836442,1.0080729109461022,1.3612656769446707,-0.46388543466577953,-1.6252556434939562,-0.9321225459929191,0.16520721127913351,1.109035311807075,-0.17481458358740606,-1.624426672284938,-0.1702527952572121,0.5692071778213524,-1.8522429631266695,-1.8274075534861318,1.4467135685260804,-0.2566950458043969,-0.31473561434280445,-1.3924295664519903,-1.5183227401831643,1.100316191055605,-1.3243172550303042,0.934613326420437,0.5058253582807383,0.6925078253422744,1.9416032539843482,-1.1472736624868352,0.6738495664997504,-0.47737184536099964,-1.641216335191951,-0.13222458670586418,-0.709692601338341,1.0704070534135786,-0.35957829928635193,1.1347015745407685,1.7394557819272984,0.10648238319660469,-1.2104409774898166,-0.21935452937051048,-0.7209436501354658,-0.36707627095778994,-0.4137095293103209,-0.14202313507910364,1.2665388927529673,1.1194663999265804,-1.2425290334764583,0.39840737442666446,0.8945368981705608,-0.9571858944373809,-0.4633202776630124,-0.9712012233075042,0.7208776529585661,0.7438375746122489,-1.3026515735400312,1.004468713016441,-0.34401917264171356,0.37856579146205005,0.5766908858096895,0.14489140687254426,0.5030487355914735,0.16656440729662095,-1.044040712361414,1.3940344198410861,-1.8958614932946471,-1.598344342488547,0.619097265217185,1.1247773545002318,-0.7131652820603137,-0.7259441325114188,0.3783084614135404,0.953242635318946,-1.0865438738709796,1.0560252986180356,-0.9152623676229141,-0.47689637661425693,-1.5731089650479364,0.45657205749455,-0.011860036772261388,-0.7254513536108076,0.5454745770976296,-1.669814686271186,1.5393007948667181,0.28512201838580503],\"type\":\"histogram\"}],                        {\"barmode\":\"overlay\",\"legend\":{\"bgcolor\":\"#F5F6F9\",\"font\":{\"color\":\"#4D5663\"}},\"paper_bgcolor\":\"#F5F6F9\",\"plot_bgcolor\":\"#F5F6F9\",\"template\":{\"data\":{\"barpolar\":[{\"marker\":{\"line\":{\"color\":\"#E5ECF6\",\"width\":0.5},\"pattern\":{\"fillmode\":\"overlay\",\"size\":10,\"solidity\":0.2}},\"type\":\"barpolar\"}],\"bar\":[{\"error_x\":{\"color\":\"#2a3f5f\"},\"error_y\":{\"color\":\"#2a3f5f\"},\"marker\":{\"line\":{\"color\":\"#E5ECF6\",\"width\":0.5},\"pattern\":{\"fillmode\":\"overlay\",\"size\":10,\"solidity\":0.2}},\"type\":\"bar\"}],\"carpet\":[{\"aaxis\":{\"endlinecolor\":\"#2a3f5f\",\"gridcolor\":\"white\",\"linecolor\":\"white\",\"minorgridcolor\":\"white\",\"startlinecolor\":\"#2a3f5f\"},\"baxis\":{\"endlinecolor\":\"#2a3f5f\",\"gridcolor\":\"white\",\"linecolor\":\"white\",\"minorgridcolor\":\"white\",\"startlinecolor\":\"#2a3f5f\"},\"type\":\"carpet\"}],\"choropleth\":[{\"colorbar\":{\"outlinewidth\":0,\"ticks\":\"\"},\"type\":\"choropleth\"}],\"contourcarpet\":[{\"colorbar\":{\"outlinewidth\":0,\"ticks\":\"\"},\"type\":\"contourcarpet\"}],\"contour\":[{\"colorbar\":{\"outlinewidth\":0,\"ticks\":\"\"},\"colorscale\":[[0.0,\"#0d0887\"],[0.1111111111111111,\"#46039f\"],[0.2222222222222222,\"#7201a8\"],[0.3333333333333333,\"#9c179e\"],[0.4444444444444444,\"#bd3786\"],[0.5555555555555556,\"#d8576b\"],[0.6666666666666666,\"#ed7953\"],[0.7777777777777778,\"#fb9f3a\"],[0.8888888888888888,\"#fdca26\"],[1.0,\"#f0f921\"]],\"type\":\"contour\"}],\"heatmapgl\":[{\"colorbar\":{\"outlinewidth\":0,\"ticks\":\"\"},\"colorscale\":[[0.0,\"#0d0887\"],[0.1111111111111111,\"#46039f\"],[0.2222222222222222,\"#7201a8\"],[0.3333333333333333,\"#9c179e\"],[0.4444444444444444,\"#bd3786\"],[0.5555555555555556,\"#d8576b\"],[0.6666666666666666,\"#ed7953\"],[0.7777777777777778,\"#fb9f3a\"],[0.8888888888888888,\"#fdca26\"],[1.0,\"#f0f921\"]],\"type\":\"heatmapgl\"}],\"heatmap\":[{\"colorbar\":{\"outlinewidth\":0,\"ticks\":\"\"},\"colorscale\":[[0.0,\"#0d0887\"],[0.1111111111111111,\"#46039f\"],[0.2222222222222222,\"#7201a8\"],[0.3333333333333333,\"#9c179e\"],[0.4444444444444444,\"#bd3786\"],[0.5555555555555556,\"#d8576b\"],[0.6666666666666666,\"#ed7953\"],[0.7777777777777778,\"#fb9f3a\"],[0.8888888888888888,\"#fdca26\"],[1.0,\"#f0f921\"]],\"type\":\"heatmap\"}],\"histogram2dcontour\":[{\"colorbar\":{\"outlinewidth\":0,\"ticks\":\"\"},\"colorscale\":[[0.0,\"#0d0887\"],[0.1111111111111111,\"#46039f\"],[0.2222222222222222,\"#7201a8\"],[0.3333333333333333,\"#9c179e\"],[0.4444444444444444,\"#bd3786\"],[0.5555555555555556,\"#d8576b\"],[0.6666666666666666,\"#ed7953\"],[0.7777777777777778,\"#fb9f3a\"],[0.8888888888888888,\"#fdca26\"],[1.0,\"#f0f921\"]],\"type\":\"histogram2dcontour\"}],\"histogram2d\":[{\"colorbar\":{\"outlinewidth\":0,\"ticks\":\"\"},\"colorscale\":[[0.0,\"#0d0887\"],[0.1111111111111111,\"#46039f\"],[0.2222222222222222,\"#7201a8\"],[0.3333333333333333,\"#9c179e\"],[0.4444444444444444,\"#bd3786\"],[0.5555555555555556,\"#d8576b\"],[0.6666666666666666,\"#ed7953\"],[0.7777777777777778,\"#fb9f3a\"],[0.8888888888888888,\"#fdca26\"],[1.0,\"#f0f921\"]],\"type\":\"histogram2d\"}],\"histogram\":[{\"marker\":{\"pattern\":{\"fillmode\":\"overlay\",\"size\":10,\"solidity\":0.2}},\"type\":\"histogram\"}],\"mesh3d\":[{\"colorbar\":{\"outlinewidth\":0,\"ticks\":\"\"},\"type\":\"mesh3d\"}],\"parcoords\":[{\"line\":{\"colorbar\":{\"outlinewidth\":0,\"ticks\":\"\"}},\"type\":\"parcoords\"}],\"pie\":[{\"automargin\":true,\"type\":\"pie\"}],\"scatter3d\":[{\"line\":{\"colorbar\":{\"outlinewidth\":0,\"ticks\":\"\"}},\"marker\":{\"colorbar\":{\"outlinewidth\":0,\"ticks\":\"\"}},\"type\":\"scatter3d\"}],\"scattercarpet\":[{\"marker\":{\"colorbar\":{\"outlinewidth\":0,\"ticks\":\"\"}},\"type\":\"scattercarpet\"}],\"scattergeo\":[{\"marker\":{\"colorbar\":{\"outlinewidth\":0,\"ticks\":\"\"}},\"type\":\"scattergeo\"}],\"scattergl\":[{\"marker\":{\"colorbar\":{\"outlinewidth\":0,\"ticks\":\"\"}},\"type\":\"scattergl\"}],\"scattermapbox\":[{\"marker\":{\"colorbar\":{\"outlinewidth\":0,\"ticks\":\"\"}},\"type\":\"scattermapbox\"}],\"scatterpolargl\":[{\"marker\":{\"colorbar\":{\"outlinewidth\":0,\"ticks\":\"\"}},\"type\":\"scatterpolargl\"}],\"scatterpolar\":[{\"marker\":{\"colorbar\":{\"outlinewidth\":0,\"ticks\":\"\"}},\"type\":\"scatterpolar\"}],\"scatter\":[{\"marker\":{\"colorbar\":{\"outlinewidth\":0,\"ticks\":\"\"}},\"type\":\"scatter\"}],\"scatterternary\":[{\"marker\":{\"colorbar\":{\"outlinewidth\":0,\"ticks\":\"\"}},\"type\":\"scatterternary\"}],\"surface\":[{\"colorbar\":{\"outlinewidth\":0,\"ticks\":\"\"},\"colorscale\":[[0.0,\"#0d0887\"],[0.1111111111111111,\"#46039f\"],[0.2222222222222222,\"#7201a8\"],[0.3333333333333333,\"#9c179e\"],[0.4444444444444444,\"#bd3786\"],[0.5555555555555556,\"#d8576b\"],[0.6666666666666666,\"#ed7953\"],[0.7777777777777778,\"#fb9f3a\"],[0.8888888888888888,\"#fdca26\"],[1.0,\"#f0f921\"]],\"type\":\"surface\"}],\"table\":[{\"cells\":{\"fill\":{\"color\":\"#EBF0F8\"},\"line\":{\"color\":\"white\"}},\"header\":{\"fill\":{\"color\":\"#C8D4E3\"},\"line\":{\"color\":\"white\"}},\"type\":\"table\"}]},\"layout\":{\"annotationdefaults\":{\"arrowcolor\":\"#2a3f5f\",\"arrowhead\":0,\"arrowwidth\":1},\"autotypenumbers\":\"strict\",\"coloraxis\":{\"colorbar\":{\"outlinewidth\":0,\"ticks\":\"\"}},\"colorscale\":{\"diverging\":[[0,\"#8e0152\"],[0.1,\"#c51b7d\"],[0.2,\"#de77ae\"],[0.3,\"#f1b6da\"],[0.4,\"#fde0ef\"],[0.5,\"#f7f7f7\"],[0.6,\"#e6f5d0\"],[0.7,\"#b8e186\"],[0.8,\"#7fbc41\"],[0.9,\"#4d9221\"],[1,\"#276419\"]],\"sequential\":[[0.0,\"#0d0887\"],[0.1111111111111111,\"#46039f\"],[0.2222222222222222,\"#7201a8\"],[0.3333333333333333,\"#9c179e\"],[0.4444444444444444,\"#bd3786\"],[0.5555555555555556,\"#d8576b\"],[0.6666666666666666,\"#ed7953\"],[0.7777777777777778,\"#fb9f3a\"],[0.8888888888888888,\"#fdca26\"],[1.0,\"#f0f921\"]],\"sequentialminus\":[[0.0,\"#0d0887\"],[0.1111111111111111,\"#46039f\"],[0.2222222222222222,\"#7201a8\"],[0.3333333333333333,\"#9c179e\"],[0.4444444444444444,\"#bd3786\"],[0.5555555555555556,\"#d8576b\"],[0.6666666666666666,\"#ed7953\"],[0.7777777777777778,\"#fb9f3a\"],[0.8888888888888888,\"#fdca26\"],[1.0,\"#f0f921\"]]},\"colorway\":[\"#636efa\",\"#EF553B\",\"#00cc96\",\"#ab63fa\",\"#FFA15A\",\"#19d3f3\",\"#FF6692\",\"#B6E880\",\"#FF97FF\",\"#FECB52\"],\"font\":{\"color\":\"#2a3f5f\"},\"geo\":{\"bgcolor\":\"white\",\"lakecolor\":\"white\",\"landcolor\":\"#E5ECF6\",\"showlakes\":true,\"showland\":true,\"subunitcolor\":\"white\"},\"hoverlabel\":{\"align\":\"left\"},\"hovermode\":\"closest\",\"mapbox\":{\"style\":\"light\"},\"paper_bgcolor\":\"white\",\"plot_bgcolor\":\"#E5ECF6\",\"polar\":{\"angularaxis\":{\"gridcolor\":\"white\",\"linecolor\":\"white\",\"ticks\":\"\"},\"bgcolor\":\"#E5ECF6\",\"radialaxis\":{\"gridcolor\":\"white\",\"linecolor\":\"white\",\"ticks\":\"\"}},\"scene\":{\"xaxis\":{\"backgroundcolor\":\"#E5ECF6\",\"gridcolor\":\"white\",\"gridwidth\":2,\"linecolor\":\"white\",\"showbackground\":true,\"ticks\":\"\",\"zerolinecolor\":\"white\"},\"yaxis\":{\"backgroundcolor\":\"#E5ECF6\",\"gridcolor\":\"white\",\"gridwidth\":2,\"linecolor\":\"white\",\"showbackground\":true,\"ticks\":\"\",\"zerolinecolor\":\"white\"},\"zaxis\":{\"backgroundcolor\":\"#E5ECF6\",\"gridcolor\":\"white\",\"gridwidth\":2,\"linecolor\":\"white\",\"showbackground\":true,\"ticks\":\"\",\"zerolinecolor\":\"white\"}},\"shapedefaults\":{\"line\":{\"color\":\"#2a3f5f\"}},\"ternary\":{\"aaxis\":{\"gridcolor\":\"white\",\"linecolor\":\"white\",\"ticks\":\"\"},\"baxis\":{\"gridcolor\":\"white\",\"linecolor\":\"white\",\"ticks\":\"\"},\"bgcolor\":\"#E5ECF6\",\"caxis\":{\"gridcolor\":\"white\",\"linecolor\":\"white\",\"ticks\":\"\"}},\"title\":{\"x\":0.05},\"xaxis\":{\"automargin\":true,\"gridcolor\":\"white\",\"linecolor\":\"white\",\"ticks\":\"\",\"title\":{\"standoff\":15},\"zerolinecolor\":\"white\",\"zerolinewidth\":2},\"yaxis\":{\"automargin\":true,\"gridcolor\":\"white\",\"linecolor\":\"white\",\"ticks\":\"\",\"title\":{\"standoff\":15},\"zerolinecolor\":\"white\",\"zerolinewidth\":2}}},\"title\":{\"font\":{\"color\":\"#4D5663\"}},\"xaxis\":{\"gridcolor\":\"#E1E5ED\",\"showgrid\":true,\"tickfont\":{\"color\":\"#4D5663\"},\"title\":{\"font\":{\"color\":\"#4D5663\"},\"text\":\"\"},\"zerolinecolor\":\"#E1E5ED\"},\"yaxis\":{\"gridcolor\":\"#E1E5ED\",\"showgrid\":true,\"tickfont\":{\"color\":\"#4D5663\"},\"title\":{\"font\":{\"color\":\"#4D5663\"},\"text\":\"\"},\"zerolinecolor\":\"#E1E5ED\"}},                        {\"showLink\": true, \"linkText\": \"Export to plot.ly\", \"plotlyServerURL\": \"https://plot.ly\", \"responsive\": true}                    ).then(function(){\n",
       "                            \n",
       "var gd = document.getElementById('53d1e860-1638-4bad-882d-cca4e1d56364');\n",
       "var x = new MutationObserver(function (mutations, observer) {{\n",
       "        var display = window.getComputedStyle(gd).display;\n",
       "        if (!display || display === 'none') {{\n",
       "            console.log([gd, 'removed!']);\n",
       "            Plotly.purge(gd);\n",
       "            observer.disconnect();\n",
       "        }}\n",
       "}});\n",
       "\n",
       "// Listen for the removal of the full notebook cells\n",
       "var notebookContainer = gd.closest('#notebook-container');\n",
       "if (notebookContainer) {{\n",
       "    x.observe(notebookContainer, {childList: true});\n",
       "}}\n",
       "\n",
       "// Listen for the clearing of the current output cell\n",
       "var outputEl = gd.closest('.output');\n",
       "if (outputEl) {{\n",
       "    x.observe(outputEl, {childList: true});\n",
       "}}\n",
       "\n",
       "                        })                };                });            </script>        </div>"
      ]
     },
     "metadata": {},
     "output_type": "display_data"
    }
   ],
   "source": [
    "df['A'].iplot(kind='hist', bins=20)"
   ]
  },
  {
   "cell_type": "code",
   "execution_count": 61,
   "id": "311c11fa",
   "metadata": {},
   "outputs": [
    {
     "data": {
      "application/vnd.plotly.v1+json": {
       "config": {
        "linkText": "Export to plot.ly",
        "plotlyServerURL": "https://plot.ly",
        "showLink": true
       },
       "data": [
        {
         "histfunc": "count",
         "histnorm": "",
         "marker": {
          "color": "rgba(255, 153, 51, 1.0)",
          "line": {
           "color": "#4D5663",
           "width": 1.3
          }
         },
         "name": "A",
         "opacity": 0.8,
         "orientation": "v",
         "type": "histogram",
         "x": [
          -0.6123213313638834,
          1.3594760586323038,
          0.7157028374769693,
          0.7428268604041767,
          1.4387038289767837,
          -0.18659775442196597,
          1.4732645597761136,
          -1.0063295388071447,
          1.056092961661525,
          -2.47632273602315,
          -0.635452318342618,
          -0.44341162530791667,
          0.8603466277919531,
          0.07446614932749684,
          -0.1331131522466488,
          0.9950176867120871,
          -0.6469853058251499,
          -0.8700113105706968,
          0.7451915965836442,
          1.0080729109461022,
          1.3612656769446707,
          -0.46388543466577953,
          -1.6252556434939562,
          -0.9321225459929191,
          0.16520721127913351,
          1.109035311807075,
          -0.17481458358740606,
          -1.624426672284938,
          -0.1702527952572121,
          0.5692071778213524,
          -1.8522429631266695,
          -1.8274075534861318,
          1.4467135685260804,
          -0.2566950458043969,
          -0.31473561434280445,
          -1.3924295664519903,
          -1.5183227401831643,
          1.100316191055605,
          -1.3243172550303042,
          0.934613326420437,
          0.5058253582807383,
          0.6925078253422744,
          1.9416032539843482,
          -1.1472736624868352,
          0.6738495664997504,
          -0.47737184536099964,
          -1.641216335191951,
          -0.13222458670586418,
          -0.709692601338341,
          1.0704070534135786,
          -0.35957829928635193,
          1.1347015745407685,
          1.7394557819272984,
          0.10648238319660469,
          -1.2104409774898166,
          -0.21935452937051048,
          -0.7209436501354658,
          -0.36707627095778994,
          -0.4137095293103209,
          -0.14202313507910364,
          1.2665388927529673,
          1.1194663999265804,
          -1.2425290334764583,
          0.39840737442666446,
          0.8945368981705608,
          -0.9571858944373809,
          -0.4633202776630124,
          -0.9712012233075042,
          0.7208776529585661,
          0.7438375746122489,
          -1.3026515735400312,
          1.004468713016441,
          -0.34401917264171356,
          0.37856579146205005,
          0.5766908858096895,
          0.14489140687254426,
          0.5030487355914735,
          0.16656440729662095,
          -1.044040712361414,
          1.3940344198410861,
          -1.8958614932946471,
          -1.598344342488547,
          0.619097265217185,
          1.1247773545002318,
          -0.7131652820603137,
          -0.7259441325114188,
          0.3783084614135404,
          0.953242635318946,
          -1.0865438738709796,
          1.0560252986180356,
          -0.9152623676229141,
          -0.47689637661425693,
          -1.5731089650479364,
          0.45657205749455,
          -0.011860036772261388,
          -0.7254513536108076,
          0.5454745770976296,
          -1.669814686271186,
          1.5393007948667181,
          0.28512201838580503
         ]
        },
        {
         "histfunc": "count",
         "histnorm": "",
         "marker": {
          "color": "rgba(55, 128, 191, 1.0)",
          "line": {
           "color": "#4D5663",
           "width": 1.3
          }
         },
         "name": "B",
         "opacity": 0.8,
         "orientation": "v",
         "type": "histogram",
         "x": [
          2.4033726396064625,
          -0.3180661953813854,
          0.3575646009315945,
          -0.1105494946218425,
          -1.9893182998132442,
          0.12108998433814257,
          1.6231297492375656,
          -1.2060270018752517,
          -1.4763460598573717,
          -0.31605687258158366,
          -0.30143437365788345,
          -0.26399532166551437,
          0.9165050788909543,
          0.7736176343862297,
          0.9360968870348345,
          0.6558051320314173,
          -0.9571761584379436,
          -0.9924811564511132,
          0.7971918612956219,
          -0.37130794160576763,
          -0.2760754290236538,
          0.6900682486696768,
          1.5530644454787816,
          0.4313746272862494,
          0.606668375448992,
          -0.1678150518632239,
          -0.06562136516121853,
          1.1358032600451677,
          -1.555216491676847,
          2.3596114839686897,
          1.6849126218993657,
          -1.1076458633876247,
          0.19152751134038656,
          -2.418973945595888,
          0.46641748517612613,
          -0.21364558612811305,
          1.1480763571394446,
          0.059794594708253365,
          0.42198828304935004,
          -0.1278335244912023,
          -0.3434904890462654,
          0.6386561805665968,
          -0.14208161537358346,
          -0.21014682568625534,
          -1.1515120179039007,
          0.6423152244432342,
          0.5385251636516468,
          -1.2735301704460944,
          -0.9263130931462031,
          1.0528723780534726,
          1.398092729216517,
          0.7409688920291192,
          1.5330713382437804,
          1.2238886674459235,
          1.3021010010114673,
          0.9267666640747797,
          -1.0632816642972323,
          -0.853609509509939,
          1.4774215216322193,
          1.8375264582418434,
          1.2510879290725092,
          0.11877753746905721,
          1.0800394768582156,
          -1.31790521726136,
          -1.365923862710278,
          1.6836138765041453,
          -0.0050875497121913756,
          0.14030157148832426,
          -0.7439091480217016,
          0.3421569973368127,
          0.3176875279051301,
          -0.4658550524900476,
          1.5083142101265588,
          0.9342942058681324,
          0.038805998180403596,
          -0.5427143810390751,
          1.8653101105958274,
          0.9160042953261466,
          -0.7399792359271136,
          -1.3913613995497782,
          -1.3659709922367504,
          -1.7739464469938493,
          0.9790656864957751,
          -0.5645792416112951,
          1.3080798586746816,
          -0.3710346468680679,
          -0.3831733338661221,
          0.6690962928884536,
          0.5510184334158387,
          0.7638864171285927,
          0.7173354808699728,
          -0.7350903538128789,
          1.3679739533904145,
          -1.6310206244484406,
          -0.39313156746717626,
          0.026323629417493655,
          -1.7894767650578125,
          -0.7225163772056884,
          1.9078118752926256,
          0.7217442983989159
         ]
        },
        {
         "histfunc": "count",
         "histnorm": "",
         "marker": {
          "color": "rgba(50, 171, 96, 1.0)",
          "line": {
           "color": "#4D5663",
           "width": 1.3
          }
         },
         "name": "C",
         "opacity": 0.8,
         "orientation": "v",
         "type": "histogram",
         "x": [
          0.4689665067580521,
          2.657661785631248,
          -0.15695404125640144,
          0.605265196825292,
          -0.7057374319212296,
          0.8444309653569217,
          0.7513210022146437,
          0.4307395998978597,
          1.0371730870237932,
          1.974103854421076,
          -1.1288760520237493,
          0.8055315230691629,
          -1.335601470526402,
          -0.028547479101887447,
          0.06747542495281443,
          -1.1309575553312143,
          1.6271698811106052,
          -0.8569455622264276,
          0.6456922933836641,
          1.6379346196809164,
          0.1806495115367449,
          0.14639348883989947,
          -1.3552736004820631,
          -0.119350727088024,
          -0.3563793145517163,
          -1.023983797537162,
          -1.2002930376860392,
          0.30540079810011533,
          -0.4761218790211993,
          0.24257472613728698,
          -0.3361720751310067,
          -1.846424890646746,
          -0.7748643511775507,
          -0.8618459502950332,
          2.1193450044927333,
          0.40496375514144517,
          -2.9377762864827,
          -1.8965821460469738,
          -0.48480046089468737,
          0.7483102482534699,
          1.6910057862337557,
          -1.233714975417407,
          0.06493475062118555,
          0.6392015128212213,
          -0.5899288328143886,
          -0.728572959023513,
          0.6113604849908908,
          1.2054338538568574,
          0.08020295162428227,
          2.041858302804547,
          1.4184034553585103,
          -0.1719830931621509,
          -0.6949916357107848,
          -1.978855890551208,
          0.6257545974595368,
          0.8632133760671598,
          -0.5976588697599662,
          0.8479532170096117,
          1.70344793958928,
          1.1386853529720973,
          0.8487051642989147,
          0.968843823916177,
          0.6957190136412353,
          0.002582225038355152,
          -1.4513032950993925,
          -0.19805787701228872,
          0.6774343549635712,
          -1.4327537700193087,
          0.26411514326036833,
          -0.33671161663269716,
          -0.08407330728644541,
          1.368220600727735,
          1.645714258578475,
          -1.384406199597019,
          0.5083535943892357,
          -1.0514179180662875,
          0.7549770555868955,
          -1.675545109092052,
          -1.0451488351170122,
          -2.0614544842966995,
          0.16982230547273192,
          1.8251139327360477,
          0.44986683396737626,
          0.3939286211800785,
          -1.114911778732924,
          -0.4177123875352382,
          1.108470034084431,
          0.49834592193931465,
          -1.9547909952942522,
          1.176365585897962,
          -0.029407168874944503,
          -0.4613577626841192,
          -1.3451916694004673,
          0.8821653763967819,
          -1.173395693010109,
          0.32036147045809604,
          -1.2749930918574466,
          1.9899525192678373,
          -1.1398903142935857,
          -0.4968601383846873
         ]
        },
        {
         "histfunc": "count",
         "histnorm": "",
         "marker": {
          "color": "rgba(128, 0, 128, 1.0)",
          "line": {
           "color": "#4D5663",
           "width": 1.3
          }
         },
         "name": "D",
         "opacity": 0.8,
         "orientation": "v",
         "type": "histogram",
         "x": [
          1.0085964341555844,
          -1.2269753588859271,
          -1.5097988830045546,
          -0.5957249513887795,
          -0.957292708169662,
          0.37925034902571103,
          0.6390786863933957,
          -1.4278468527458785,
          1.1554198868405157,
          1.4835710039569256,
          -1.8617930501549576,
          1.0549386258229976,
          -0.597880076754315,
          0.5091114140451493,
          -0.4236008265812986,
          2.0422230963736423,
          -1.5944447623816826,
          1.0046933857435616,
          -1.346948771912937,
          -0.4780454082197933,
          -0.1293847086726596,
          0.047109012029019515,
          0.5254822345724128,
          0.822192262412065,
          1.4459759780435455,
          0.9115178242482179,
          0.09163585118157323,
          -0.4333767970305198,
          -0.25317827633395823,
          1.251941966515613,
          -0.48504486193858026,
          1.4155994216269399,
          -0.08942120600242834,
          0.018129302526952513,
          0.09538400771573545,
          0.14635880217596137,
          -0.03521929132626436,
          0.9464919018571304,
          -1.0298398614208712,
          1.1468853072362954,
          -0.28638870472181804,
          -2.312265561373491,
          1.0994685942927933,
          1.9323478853341507,
          1.285517116893445,
          -0.6561135953456818,
          0.613382362747721,
          0.294912843507637,
          0.501579060503352,
          2.0601536753961205,
          0.09031593286671273,
          -2.1116352492033665,
          1.14479295440716,
          1.6482467822786142,
          -0.23688476995824312,
          -2.483168964360678,
          1.7393690105774773,
          -0.7528532600045252,
          0.549850368149912,
          1.6092665516046354,
          1.1245463956901984,
          -0.25960022308154207,
          -0.894525142137224,
          -0.44335753624262075,
          -0.4953186258903264,
          0.44862293242002454,
          0.5076707606831699,
          -0.8234639692664324,
          -0.1825116567135101,
          0.6165168690298184,
          -0.7441595984799642,
          -1.2644685398119577,
          1.9473943153893534,
          0.8716113455957312,
          1.4056319769016397,
          0.18172623584949632,
          -0.34499946405601095,
          0.7016813836505776,
          0.5675933797489788,
          -0.0634524470695323,
          1.6698437842254625,
          -0.2589095268265948,
          0.39291905061572424,
          -2.3753214718334985,
          -0.44280955514871473,
          -0.06627116150696902,
          0.5600957537663671,
          -0.9066305671341511,
          0.8827050851394105,
          0.19517323025462843,
          0.2499217272758512,
          0.21879809967016942,
          -0.31226846868748914,
          -1.7337764797766497,
          0.8209083232667705,
          -0.42547099701212215,
          -0.09310701732516485,
          0.3629058590313021,
          0.1407115006202667,
          0.876168071097411
         ]
        }
       ],
       "layout": {
        "barmode": "overlay",
        "legend": {
         "bgcolor": "#F5F6F9",
         "font": {
          "color": "#4D5663"
         }
        },
        "paper_bgcolor": "#F5F6F9",
        "plot_bgcolor": "#F5F6F9",
        "template": {
         "data": {
          "bar": [
           {
            "error_x": {
             "color": "#2a3f5f"
            },
            "error_y": {
             "color": "#2a3f5f"
            },
            "marker": {
             "line": {
              "color": "#E5ECF6",
              "width": 0.5
             },
             "pattern": {
              "fillmode": "overlay",
              "size": 10,
              "solidity": 0.2
             }
            },
            "type": "bar"
           }
          ],
          "barpolar": [
           {
            "marker": {
             "line": {
              "color": "#E5ECF6",
              "width": 0.5
             },
             "pattern": {
              "fillmode": "overlay",
              "size": 10,
              "solidity": 0.2
             }
            },
            "type": "barpolar"
           }
          ],
          "carpet": [
           {
            "aaxis": {
             "endlinecolor": "#2a3f5f",
             "gridcolor": "white",
             "linecolor": "white",
             "minorgridcolor": "white",
             "startlinecolor": "#2a3f5f"
            },
            "baxis": {
             "endlinecolor": "#2a3f5f",
             "gridcolor": "white",
             "linecolor": "white",
             "minorgridcolor": "white",
             "startlinecolor": "#2a3f5f"
            },
            "type": "carpet"
           }
          ],
          "choropleth": [
           {
            "colorbar": {
             "outlinewidth": 0,
             "ticks": ""
            },
            "type": "choropleth"
           }
          ],
          "contour": [
           {
            "colorbar": {
             "outlinewidth": 0,
             "ticks": ""
            },
            "colorscale": [
             [
              0,
              "#0d0887"
             ],
             [
              0.1111111111111111,
              "#46039f"
             ],
             [
              0.2222222222222222,
              "#7201a8"
             ],
             [
              0.3333333333333333,
              "#9c179e"
             ],
             [
              0.4444444444444444,
              "#bd3786"
             ],
             [
              0.5555555555555556,
              "#d8576b"
             ],
             [
              0.6666666666666666,
              "#ed7953"
             ],
             [
              0.7777777777777778,
              "#fb9f3a"
             ],
             [
              0.8888888888888888,
              "#fdca26"
             ],
             [
              1,
              "#f0f921"
             ]
            ],
            "type": "contour"
           }
          ],
          "contourcarpet": [
           {
            "colorbar": {
             "outlinewidth": 0,
             "ticks": ""
            },
            "type": "contourcarpet"
           }
          ],
          "heatmap": [
           {
            "colorbar": {
             "outlinewidth": 0,
             "ticks": ""
            },
            "colorscale": [
             [
              0,
              "#0d0887"
             ],
             [
              0.1111111111111111,
              "#46039f"
             ],
             [
              0.2222222222222222,
              "#7201a8"
             ],
             [
              0.3333333333333333,
              "#9c179e"
             ],
             [
              0.4444444444444444,
              "#bd3786"
             ],
             [
              0.5555555555555556,
              "#d8576b"
             ],
             [
              0.6666666666666666,
              "#ed7953"
             ],
             [
              0.7777777777777778,
              "#fb9f3a"
             ],
             [
              0.8888888888888888,
              "#fdca26"
             ],
             [
              1,
              "#f0f921"
             ]
            ],
            "type": "heatmap"
           }
          ],
          "heatmapgl": [
           {
            "colorbar": {
             "outlinewidth": 0,
             "ticks": ""
            },
            "colorscale": [
             [
              0,
              "#0d0887"
             ],
             [
              0.1111111111111111,
              "#46039f"
             ],
             [
              0.2222222222222222,
              "#7201a8"
             ],
             [
              0.3333333333333333,
              "#9c179e"
             ],
             [
              0.4444444444444444,
              "#bd3786"
             ],
             [
              0.5555555555555556,
              "#d8576b"
             ],
             [
              0.6666666666666666,
              "#ed7953"
             ],
             [
              0.7777777777777778,
              "#fb9f3a"
             ],
             [
              0.8888888888888888,
              "#fdca26"
             ],
             [
              1,
              "#f0f921"
             ]
            ],
            "type": "heatmapgl"
           }
          ],
          "histogram": [
           {
            "marker": {
             "pattern": {
              "fillmode": "overlay",
              "size": 10,
              "solidity": 0.2
             }
            },
            "type": "histogram"
           }
          ],
          "histogram2d": [
           {
            "colorbar": {
             "outlinewidth": 0,
             "ticks": ""
            },
            "colorscale": [
             [
              0,
              "#0d0887"
             ],
             [
              0.1111111111111111,
              "#46039f"
             ],
             [
              0.2222222222222222,
              "#7201a8"
             ],
             [
              0.3333333333333333,
              "#9c179e"
             ],
             [
              0.4444444444444444,
              "#bd3786"
             ],
             [
              0.5555555555555556,
              "#d8576b"
             ],
             [
              0.6666666666666666,
              "#ed7953"
             ],
             [
              0.7777777777777778,
              "#fb9f3a"
             ],
             [
              0.8888888888888888,
              "#fdca26"
             ],
             [
              1,
              "#f0f921"
             ]
            ],
            "type": "histogram2d"
           }
          ],
          "histogram2dcontour": [
           {
            "colorbar": {
             "outlinewidth": 0,
             "ticks": ""
            },
            "colorscale": [
             [
              0,
              "#0d0887"
             ],
             [
              0.1111111111111111,
              "#46039f"
             ],
             [
              0.2222222222222222,
              "#7201a8"
             ],
             [
              0.3333333333333333,
              "#9c179e"
             ],
             [
              0.4444444444444444,
              "#bd3786"
             ],
             [
              0.5555555555555556,
              "#d8576b"
             ],
             [
              0.6666666666666666,
              "#ed7953"
             ],
             [
              0.7777777777777778,
              "#fb9f3a"
             ],
             [
              0.8888888888888888,
              "#fdca26"
             ],
             [
              1,
              "#f0f921"
             ]
            ],
            "type": "histogram2dcontour"
           }
          ],
          "mesh3d": [
           {
            "colorbar": {
             "outlinewidth": 0,
             "ticks": ""
            },
            "type": "mesh3d"
           }
          ],
          "parcoords": [
           {
            "line": {
             "colorbar": {
              "outlinewidth": 0,
              "ticks": ""
             }
            },
            "type": "parcoords"
           }
          ],
          "pie": [
           {
            "automargin": true,
            "type": "pie"
           }
          ],
          "scatter": [
           {
            "marker": {
             "colorbar": {
              "outlinewidth": 0,
              "ticks": ""
             }
            },
            "type": "scatter"
           }
          ],
          "scatter3d": [
           {
            "line": {
             "colorbar": {
              "outlinewidth": 0,
              "ticks": ""
             }
            },
            "marker": {
             "colorbar": {
              "outlinewidth": 0,
              "ticks": ""
             }
            },
            "type": "scatter3d"
           }
          ],
          "scattercarpet": [
           {
            "marker": {
             "colorbar": {
              "outlinewidth": 0,
              "ticks": ""
             }
            },
            "type": "scattercarpet"
           }
          ],
          "scattergeo": [
           {
            "marker": {
             "colorbar": {
              "outlinewidth": 0,
              "ticks": ""
             }
            },
            "type": "scattergeo"
           }
          ],
          "scattergl": [
           {
            "marker": {
             "colorbar": {
              "outlinewidth": 0,
              "ticks": ""
             }
            },
            "type": "scattergl"
           }
          ],
          "scattermapbox": [
           {
            "marker": {
             "colorbar": {
              "outlinewidth": 0,
              "ticks": ""
             }
            },
            "type": "scattermapbox"
           }
          ],
          "scatterpolar": [
           {
            "marker": {
             "colorbar": {
              "outlinewidth": 0,
              "ticks": ""
             }
            },
            "type": "scatterpolar"
           }
          ],
          "scatterpolargl": [
           {
            "marker": {
             "colorbar": {
              "outlinewidth": 0,
              "ticks": ""
             }
            },
            "type": "scatterpolargl"
           }
          ],
          "scatterternary": [
           {
            "marker": {
             "colorbar": {
              "outlinewidth": 0,
              "ticks": ""
             }
            },
            "type": "scatterternary"
           }
          ],
          "surface": [
           {
            "colorbar": {
             "outlinewidth": 0,
             "ticks": ""
            },
            "colorscale": [
             [
              0,
              "#0d0887"
             ],
             [
              0.1111111111111111,
              "#46039f"
             ],
             [
              0.2222222222222222,
              "#7201a8"
             ],
             [
              0.3333333333333333,
              "#9c179e"
             ],
             [
              0.4444444444444444,
              "#bd3786"
             ],
             [
              0.5555555555555556,
              "#d8576b"
             ],
             [
              0.6666666666666666,
              "#ed7953"
             ],
             [
              0.7777777777777778,
              "#fb9f3a"
             ],
             [
              0.8888888888888888,
              "#fdca26"
             ],
             [
              1,
              "#f0f921"
             ]
            ],
            "type": "surface"
           }
          ],
          "table": [
           {
            "cells": {
             "fill": {
              "color": "#EBF0F8"
             },
             "line": {
              "color": "white"
             }
            },
            "header": {
             "fill": {
              "color": "#C8D4E3"
             },
             "line": {
              "color": "white"
             }
            },
            "type": "table"
           }
          ]
         },
         "layout": {
          "annotationdefaults": {
           "arrowcolor": "#2a3f5f",
           "arrowhead": 0,
           "arrowwidth": 1
          },
          "autotypenumbers": "strict",
          "coloraxis": {
           "colorbar": {
            "outlinewidth": 0,
            "ticks": ""
           }
          },
          "colorscale": {
           "diverging": [
            [
             0,
             "#8e0152"
            ],
            [
             0.1,
             "#c51b7d"
            ],
            [
             0.2,
             "#de77ae"
            ],
            [
             0.3,
             "#f1b6da"
            ],
            [
             0.4,
             "#fde0ef"
            ],
            [
             0.5,
             "#f7f7f7"
            ],
            [
             0.6,
             "#e6f5d0"
            ],
            [
             0.7,
             "#b8e186"
            ],
            [
             0.8,
             "#7fbc41"
            ],
            [
             0.9,
             "#4d9221"
            ],
            [
             1,
             "#276419"
            ]
           ],
           "sequential": [
            [
             0,
             "#0d0887"
            ],
            [
             0.1111111111111111,
             "#46039f"
            ],
            [
             0.2222222222222222,
             "#7201a8"
            ],
            [
             0.3333333333333333,
             "#9c179e"
            ],
            [
             0.4444444444444444,
             "#bd3786"
            ],
            [
             0.5555555555555556,
             "#d8576b"
            ],
            [
             0.6666666666666666,
             "#ed7953"
            ],
            [
             0.7777777777777778,
             "#fb9f3a"
            ],
            [
             0.8888888888888888,
             "#fdca26"
            ],
            [
             1,
             "#f0f921"
            ]
           ],
           "sequentialminus": [
            [
             0,
             "#0d0887"
            ],
            [
             0.1111111111111111,
             "#46039f"
            ],
            [
             0.2222222222222222,
             "#7201a8"
            ],
            [
             0.3333333333333333,
             "#9c179e"
            ],
            [
             0.4444444444444444,
             "#bd3786"
            ],
            [
             0.5555555555555556,
             "#d8576b"
            ],
            [
             0.6666666666666666,
             "#ed7953"
            ],
            [
             0.7777777777777778,
             "#fb9f3a"
            ],
            [
             0.8888888888888888,
             "#fdca26"
            ],
            [
             1,
             "#f0f921"
            ]
           ]
          },
          "colorway": [
           "#636efa",
           "#EF553B",
           "#00cc96",
           "#ab63fa",
           "#FFA15A",
           "#19d3f3",
           "#FF6692",
           "#B6E880",
           "#FF97FF",
           "#FECB52"
          ],
          "font": {
           "color": "#2a3f5f"
          },
          "geo": {
           "bgcolor": "white",
           "lakecolor": "white",
           "landcolor": "#E5ECF6",
           "showlakes": true,
           "showland": true,
           "subunitcolor": "white"
          },
          "hoverlabel": {
           "align": "left"
          },
          "hovermode": "closest",
          "mapbox": {
           "style": "light"
          },
          "paper_bgcolor": "white",
          "plot_bgcolor": "#E5ECF6",
          "polar": {
           "angularaxis": {
            "gridcolor": "white",
            "linecolor": "white",
            "ticks": ""
           },
           "bgcolor": "#E5ECF6",
           "radialaxis": {
            "gridcolor": "white",
            "linecolor": "white",
            "ticks": ""
           }
          },
          "scene": {
           "xaxis": {
            "backgroundcolor": "#E5ECF6",
            "gridcolor": "white",
            "gridwidth": 2,
            "linecolor": "white",
            "showbackground": true,
            "ticks": "",
            "zerolinecolor": "white"
           },
           "yaxis": {
            "backgroundcolor": "#E5ECF6",
            "gridcolor": "white",
            "gridwidth": 2,
            "linecolor": "white",
            "showbackground": true,
            "ticks": "",
            "zerolinecolor": "white"
           },
           "zaxis": {
            "backgroundcolor": "#E5ECF6",
            "gridcolor": "white",
            "gridwidth": 2,
            "linecolor": "white",
            "showbackground": true,
            "ticks": "",
            "zerolinecolor": "white"
           }
          },
          "shapedefaults": {
           "line": {
            "color": "#2a3f5f"
           }
          },
          "ternary": {
           "aaxis": {
            "gridcolor": "white",
            "linecolor": "white",
            "ticks": ""
           },
           "baxis": {
            "gridcolor": "white",
            "linecolor": "white",
            "ticks": ""
           },
           "bgcolor": "#E5ECF6",
           "caxis": {
            "gridcolor": "white",
            "linecolor": "white",
            "ticks": ""
           }
          },
          "title": {
           "x": 0.05
          },
          "xaxis": {
           "automargin": true,
           "gridcolor": "white",
           "linecolor": "white",
           "ticks": "",
           "title": {
            "standoff": 15
           },
           "zerolinecolor": "white",
           "zerolinewidth": 2
          },
          "yaxis": {
           "automargin": true,
           "gridcolor": "white",
           "linecolor": "white",
           "ticks": "",
           "title": {
            "standoff": 15
           },
           "zerolinecolor": "white",
           "zerolinewidth": 2
          }
         }
        },
        "title": {
         "font": {
          "color": "#4D5663"
         }
        },
        "xaxis": {
         "gridcolor": "#E1E5ED",
         "showgrid": true,
         "tickfont": {
          "color": "#4D5663"
         },
         "title": {
          "font": {
           "color": "#4D5663"
          },
          "text": ""
         },
         "zerolinecolor": "#E1E5ED"
        },
        "yaxis": {
         "gridcolor": "#E1E5ED",
         "showgrid": true,
         "tickfont": {
          "color": "#4D5663"
         },
         "title": {
          "font": {
           "color": "#4D5663"
          },
          "text": ""
         },
         "zerolinecolor": "#E1E5ED"
        }
       }
      },
      "text/html": [
       "<div>                            <div id=\"ea595eae-d04e-4aa2-8de1-9a4cd07d9388\" class=\"plotly-graph-div\" style=\"height:525px; width:100%;\"></div>            <script type=\"text/javascript\">                require([\"plotly\"], function(Plotly) {                    window.PLOTLYENV=window.PLOTLYENV || {};\n",
       "                    window.PLOTLYENV.BASE_URL='https://plot.ly';                                    if (document.getElementById(\"ea595eae-d04e-4aa2-8de1-9a4cd07d9388\")) {                    Plotly.newPlot(                        \"ea595eae-d04e-4aa2-8de1-9a4cd07d9388\",                        [{\"histfunc\":\"count\",\"histnorm\":\"\",\"marker\":{\"color\":\"rgba(255, 153, 51, 1.0)\",\"line\":{\"color\":\"#4D5663\",\"width\":1.3}},\"name\":\"A\",\"opacity\":0.8,\"orientation\":\"v\",\"x\":[-0.6123213313638834,1.3594760586323038,0.7157028374769693,0.7428268604041767,1.4387038289767837,-0.18659775442196597,1.4732645597761136,-1.0063295388071447,1.056092961661525,-2.47632273602315,-0.635452318342618,-0.44341162530791667,0.8603466277919531,0.07446614932749684,-0.1331131522466488,0.9950176867120871,-0.6469853058251499,-0.8700113105706968,0.7451915965836442,1.0080729109461022,1.3612656769446707,-0.46388543466577953,-1.6252556434939562,-0.9321225459929191,0.16520721127913351,1.109035311807075,-0.17481458358740606,-1.624426672284938,-0.1702527952572121,0.5692071778213524,-1.8522429631266695,-1.8274075534861318,1.4467135685260804,-0.2566950458043969,-0.31473561434280445,-1.3924295664519903,-1.5183227401831643,1.100316191055605,-1.3243172550303042,0.934613326420437,0.5058253582807383,0.6925078253422744,1.9416032539843482,-1.1472736624868352,0.6738495664997504,-0.47737184536099964,-1.641216335191951,-0.13222458670586418,-0.709692601338341,1.0704070534135786,-0.35957829928635193,1.1347015745407685,1.7394557819272984,0.10648238319660469,-1.2104409774898166,-0.21935452937051048,-0.7209436501354658,-0.36707627095778994,-0.4137095293103209,-0.14202313507910364,1.2665388927529673,1.1194663999265804,-1.2425290334764583,0.39840737442666446,0.8945368981705608,-0.9571858944373809,-0.4633202776630124,-0.9712012233075042,0.7208776529585661,0.7438375746122489,-1.3026515735400312,1.004468713016441,-0.34401917264171356,0.37856579146205005,0.5766908858096895,0.14489140687254426,0.5030487355914735,0.16656440729662095,-1.044040712361414,1.3940344198410861,-1.8958614932946471,-1.598344342488547,0.619097265217185,1.1247773545002318,-0.7131652820603137,-0.7259441325114188,0.3783084614135404,0.953242635318946,-1.0865438738709796,1.0560252986180356,-0.9152623676229141,-0.47689637661425693,-1.5731089650479364,0.45657205749455,-0.011860036772261388,-0.7254513536108076,0.5454745770976296,-1.669814686271186,1.5393007948667181,0.28512201838580503],\"type\":\"histogram\"},{\"histfunc\":\"count\",\"histnorm\":\"\",\"marker\":{\"color\":\"rgba(55, 128, 191, 1.0)\",\"line\":{\"color\":\"#4D5663\",\"width\":1.3}},\"name\":\"B\",\"opacity\":0.8,\"orientation\":\"v\",\"x\":[2.4033726396064625,-0.3180661953813854,0.3575646009315945,-0.1105494946218425,-1.9893182998132442,0.12108998433814257,1.6231297492375656,-1.2060270018752517,-1.4763460598573717,-0.31605687258158366,-0.30143437365788345,-0.26399532166551437,0.9165050788909543,0.7736176343862297,0.9360968870348345,0.6558051320314173,-0.9571761584379436,-0.9924811564511132,0.7971918612956219,-0.37130794160576763,-0.2760754290236538,0.6900682486696768,1.5530644454787816,0.4313746272862494,0.606668375448992,-0.1678150518632239,-0.06562136516121853,1.1358032600451677,-1.555216491676847,2.3596114839686897,1.6849126218993657,-1.1076458633876247,0.19152751134038656,-2.418973945595888,0.46641748517612613,-0.21364558612811305,1.1480763571394446,0.059794594708253365,0.42198828304935004,-0.1278335244912023,-0.3434904890462654,0.6386561805665968,-0.14208161537358346,-0.21014682568625534,-1.1515120179039007,0.6423152244432342,0.5385251636516468,-1.2735301704460944,-0.9263130931462031,1.0528723780534726,1.398092729216517,0.7409688920291192,1.5330713382437804,1.2238886674459235,1.3021010010114673,0.9267666640747797,-1.0632816642972323,-0.853609509509939,1.4774215216322193,1.8375264582418434,1.2510879290725092,0.11877753746905721,1.0800394768582156,-1.31790521726136,-1.365923862710278,1.6836138765041453,-0.0050875497121913756,0.14030157148832426,-0.7439091480217016,0.3421569973368127,0.3176875279051301,-0.4658550524900476,1.5083142101265588,0.9342942058681324,0.038805998180403596,-0.5427143810390751,1.8653101105958274,0.9160042953261466,-0.7399792359271136,-1.3913613995497782,-1.3659709922367504,-1.7739464469938493,0.9790656864957751,-0.5645792416112951,1.3080798586746816,-0.3710346468680679,-0.3831733338661221,0.6690962928884536,0.5510184334158387,0.7638864171285927,0.7173354808699728,-0.7350903538128789,1.3679739533904145,-1.6310206244484406,-0.39313156746717626,0.026323629417493655,-1.7894767650578125,-0.7225163772056884,1.9078118752926256,0.7217442983989159],\"type\":\"histogram\"},{\"histfunc\":\"count\",\"histnorm\":\"\",\"marker\":{\"color\":\"rgba(50, 171, 96, 1.0)\",\"line\":{\"color\":\"#4D5663\",\"width\":1.3}},\"name\":\"C\",\"opacity\":0.8,\"orientation\":\"v\",\"x\":[0.4689665067580521,2.657661785631248,-0.15695404125640144,0.605265196825292,-0.7057374319212296,0.8444309653569217,0.7513210022146437,0.4307395998978597,1.0371730870237932,1.974103854421076,-1.1288760520237493,0.8055315230691629,-1.335601470526402,-0.028547479101887447,0.06747542495281443,-1.1309575553312143,1.6271698811106052,-0.8569455622264276,0.6456922933836641,1.6379346196809164,0.1806495115367449,0.14639348883989947,-1.3552736004820631,-0.119350727088024,-0.3563793145517163,-1.023983797537162,-1.2002930376860392,0.30540079810011533,-0.4761218790211993,0.24257472613728698,-0.3361720751310067,-1.846424890646746,-0.7748643511775507,-0.8618459502950332,2.1193450044927333,0.40496375514144517,-2.9377762864827,-1.8965821460469738,-0.48480046089468737,0.7483102482534699,1.6910057862337557,-1.233714975417407,0.06493475062118555,0.6392015128212213,-0.5899288328143886,-0.728572959023513,0.6113604849908908,1.2054338538568574,0.08020295162428227,2.041858302804547,1.4184034553585103,-0.1719830931621509,-0.6949916357107848,-1.978855890551208,0.6257545974595368,0.8632133760671598,-0.5976588697599662,0.8479532170096117,1.70344793958928,1.1386853529720973,0.8487051642989147,0.968843823916177,0.6957190136412353,0.002582225038355152,-1.4513032950993925,-0.19805787701228872,0.6774343549635712,-1.4327537700193087,0.26411514326036833,-0.33671161663269716,-0.08407330728644541,1.368220600727735,1.645714258578475,-1.384406199597019,0.5083535943892357,-1.0514179180662875,0.7549770555868955,-1.675545109092052,-1.0451488351170122,-2.0614544842966995,0.16982230547273192,1.8251139327360477,0.44986683396737626,0.3939286211800785,-1.114911778732924,-0.4177123875352382,1.108470034084431,0.49834592193931465,-1.9547909952942522,1.176365585897962,-0.029407168874944503,-0.4613577626841192,-1.3451916694004673,0.8821653763967819,-1.173395693010109,0.32036147045809604,-1.2749930918574466,1.9899525192678373,-1.1398903142935857,-0.4968601383846873],\"type\":\"histogram\"},{\"histfunc\":\"count\",\"histnorm\":\"\",\"marker\":{\"color\":\"rgba(128, 0, 128, 1.0)\",\"line\":{\"color\":\"#4D5663\",\"width\":1.3}},\"name\":\"D\",\"opacity\":0.8,\"orientation\":\"v\",\"x\":[1.0085964341555844,-1.2269753588859271,-1.5097988830045546,-0.5957249513887795,-0.957292708169662,0.37925034902571103,0.6390786863933957,-1.4278468527458785,1.1554198868405157,1.4835710039569256,-1.8617930501549576,1.0549386258229976,-0.597880076754315,0.5091114140451493,-0.4236008265812986,2.0422230963736423,-1.5944447623816826,1.0046933857435616,-1.346948771912937,-0.4780454082197933,-0.1293847086726596,0.047109012029019515,0.5254822345724128,0.822192262412065,1.4459759780435455,0.9115178242482179,0.09163585118157323,-0.4333767970305198,-0.25317827633395823,1.251941966515613,-0.48504486193858026,1.4155994216269399,-0.08942120600242834,0.018129302526952513,0.09538400771573545,0.14635880217596137,-0.03521929132626436,0.9464919018571304,-1.0298398614208712,1.1468853072362954,-0.28638870472181804,-2.312265561373491,1.0994685942927933,1.9323478853341507,1.285517116893445,-0.6561135953456818,0.613382362747721,0.294912843507637,0.501579060503352,2.0601536753961205,0.09031593286671273,-2.1116352492033665,1.14479295440716,1.6482467822786142,-0.23688476995824312,-2.483168964360678,1.7393690105774773,-0.7528532600045252,0.549850368149912,1.6092665516046354,1.1245463956901984,-0.25960022308154207,-0.894525142137224,-0.44335753624262075,-0.4953186258903264,0.44862293242002454,0.5076707606831699,-0.8234639692664324,-0.1825116567135101,0.6165168690298184,-0.7441595984799642,-1.2644685398119577,1.9473943153893534,0.8716113455957312,1.4056319769016397,0.18172623584949632,-0.34499946405601095,0.7016813836505776,0.5675933797489788,-0.0634524470695323,1.6698437842254625,-0.2589095268265948,0.39291905061572424,-2.3753214718334985,-0.44280955514871473,-0.06627116150696902,0.5600957537663671,-0.9066305671341511,0.8827050851394105,0.19517323025462843,0.2499217272758512,0.21879809967016942,-0.31226846868748914,-1.7337764797766497,0.8209083232667705,-0.42547099701212215,-0.09310701732516485,0.3629058590313021,0.1407115006202667,0.876168071097411],\"type\":\"histogram\"}],                        {\"barmode\":\"overlay\",\"legend\":{\"bgcolor\":\"#F5F6F9\",\"font\":{\"color\":\"#4D5663\"}},\"paper_bgcolor\":\"#F5F6F9\",\"plot_bgcolor\":\"#F5F6F9\",\"template\":{\"data\":{\"barpolar\":[{\"marker\":{\"line\":{\"color\":\"#E5ECF6\",\"width\":0.5},\"pattern\":{\"fillmode\":\"overlay\",\"size\":10,\"solidity\":0.2}},\"type\":\"barpolar\"}],\"bar\":[{\"error_x\":{\"color\":\"#2a3f5f\"},\"error_y\":{\"color\":\"#2a3f5f\"},\"marker\":{\"line\":{\"color\":\"#E5ECF6\",\"width\":0.5},\"pattern\":{\"fillmode\":\"overlay\",\"size\":10,\"solidity\":0.2}},\"type\":\"bar\"}],\"carpet\":[{\"aaxis\":{\"endlinecolor\":\"#2a3f5f\",\"gridcolor\":\"white\",\"linecolor\":\"white\",\"minorgridcolor\":\"white\",\"startlinecolor\":\"#2a3f5f\"},\"baxis\":{\"endlinecolor\":\"#2a3f5f\",\"gridcolor\":\"white\",\"linecolor\":\"white\",\"minorgridcolor\":\"white\",\"startlinecolor\":\"#2a3f5f\"},\"type\":\"carpet\"}],\"choropleth\":[{\"colorbar\":{\"outlinewidth\":0,\"ticks\":\"\"},\"type\":\"choropleth\"}],\"contourcarpet\":[{\"colorbar\":{\"outlinewidth\":0,\"ticks\":\"\"},\"type\":\"contourcarpet\"}],\"contour\":[{\"colorbar\":{\"outlinewidth\":0,\"ticks\":\"\"},\"colorscale\":[[0.0,\"#0d0887\"],[0.1111111111111111,\"#46039f\"],[0.2222222222222222,\"#7201a8\"],[0.3333333333333333,\"#9c179e\"],[0.4444444444444444,\"#bd3786\"],[0.5555555555555556,\"#d8576b\"],[0.6666666666666666,\"#ed7953\"],[0.7777777777777778,\"#fb9f3a\"],[0.8888888888888888,\"#fdca26\"],[1.0,\"#f0f921\"]],\"type\":\"contour\"}],\"heatmapgl\":[{\"colorbar\":{\"outlinewidth\":0,\"ticks\":\"\"},\"colorscale\":[[0.0,\"#0d0887\"],[0.1111111111111111,\"#46039f\"],[0.2222222222222222,\"#7201a8\"],[0.3333333333333333,\"#9c179e\"],[0.4444444444444444,\"#bd3786\"],[0.5555555555555556,\"#d8576b\"],[0.6666666666666666,\"#ed7953\"],[0.7777777777777778,\"#fb9f3a\"],[0.8888888888888888,\"#fdca26\"],[1.0,\"#f0f921\"]],\"type\":\"heatmapgl\"}],\"heatmap\":[{\"colorbar\":{\"outlinewidth\":0,\"ticks\":\"\"},\"colorscale\":[[0.0,\"#0d0887\"],[0.1111111111111111,\"#46039f\"],[0.2222222222222222,\"#7201a8\"],[0.3333333333333333,\"#9c179e\"],[0.4444444444444444,\"#bd3786\"],[0.5555555555555556,\"#d8576b\"],[0.6666666666666666,\"#ed7953\"],[0.7777777777777778,\"#fb9f3a\"],[0.8888888888888888,\"#fdca26\"],[1.0,\"#f0f921\"]],\"type\":\"heatmap\"}],\"histogram2dcontour\":[{\"colorbar\":{\"outlinewidth\":0,\"ticks\":\"\"},\"colorscale\":[[0.0,\"#0d0887\"],[0.1111111111111111,\"#46039f\"],[0.2222222222222222,\"#7201a8\"],[0.3333333333333333,\"#9c179e\"],[0.4444444444444444,\"#bd3786\"],[0.5555555555555556,\"#d8576b\"],[0.6666666666666666,\"#ed7953\"],[0.7777777777777778,\"#fb9f3a\"],[0.8888888888888888,\"#fdca26\"],[1.0,\"#f0f921\"]],\"type\":\"histogram2dcontour\"}],\"histogram2d\":[{\"colorbar\":{\"outlinewidth\":0,\"ticks\":\"\"},\"colorscale\":[[0.0,\"#0d0887\"],[0.1111111111111111,\"#46039f\"],[0.2222222222222222,\"#7201a8\"],[0.3333333333333333,\"#9c179e\"],[0.4444444444444444,\"#bd3786\"],[0.5555555555555556,\"#d8576b\"],[0.6666666666666666,\"#ed7953\"],[0.7777777777777778,\"#fb9f3a\"],[0.8888888888888888,\"#fdca26\"],[1.0,\"#f0f921\"]],\"type\":\"histogram2d\"}],\"histogram\":[{\"marker\":{\"pattern\":{\"fillmode\":\"overlay\",\"size\":10,\"solidity\":0.2}},\"type\":\"histogram\"}],\"mesh3d\":[{\"colorbar\":{\"outlinewidth\":0,\"ticks\":\"\"},\"type\":\"mesh3d\"}],\"parcoords\":[{\"line\":{\"colorbar\":{\"outlinewidth\":0,\"ticks\":\"\"}},\"type\":\"parcoords\"}],\"pie\":[{\"automargin\":true,\"type\":\"pie\"}],\"scatter3d\":[{\"line\":{\"colorbar\":{\"outlinewidth\":0,\"ticks\":\"\"}},\"marker\":{\"colorbar\":{\"outlinewidth\":0,\"ticks\":\"\"}},\"type\":\"scatter3d\"}],\"scattercarpet\":[{\"marker\":{\"colorbar\":{\"outlinewidth\":0,\"ticks\":\"\"}},\"type\":\"scattercarpet\"}],\"scattergeo\":[{\"marker\":{\"colorbar\":{\"outlinewidth\":0,\"ticks\":\"\"}},\"type\":\"scattergeo\"}],\"scattergl\":[{\"marker\":{\"colorbar\":{\"outlinewidth\":0,\"ticks\":\"\"}},\"type\":\"scattergl\"}],\"scattermapbox\":[{\"marker\":{\"colorbar\":{\"outlinewidth\":0,\"ticks\":\"\"}},\"type\":\"scattermapbox\"}],\"scatterpolargl\":[{\"marker\":{\"colorbar\":{\"outlinewidth\":0,\"ticks\":\"\"}},\"type\":\"scatterpolargl\"}],\"scatterpolar\":[{\"marker\":{\"colorbar\":{\"outlinewidth\":0,\"ticks\":\"\"}},\"type\":\"scatterpolar\"}],\"scatter\":[{\"marker\":{\"colorbar\":{\"outlinewidth\":0,\"ticks\":\"\"}},\"type\":\"scatter\"}],\"scatterternary\":[{\"marker\":{\"colorbar\":{\"outlinewidth\":0,\"ticks\":\"\"}},\"type\":\"scatterternary\"}],\"surface\":[{\"colorbar\":{\"outlinewidth\":0,\"ticks\":\"\"},\"colorscale\":[[0.0,\"#0d0887\"],[0.1111111111111111,\"#46039f\"],[0.2222222222222222,\"#7201a8\"],[0.3333333333333333,\"#9c179e\"],[0.4444444444444444,\"#bd3786\"],[0.5555555555555556,\"#d8576b\"],[0.6666666666666666,\"#ed7953\"],[0.7777777777777778,\"#fb9f3a\"],[0.8888888888888888,\"#fdca26\"],[1.0,\"#f0f921\"]],\"type\":\"surface\"}],\"table\":[{\"cells\":{\"fill\":{\"color\":\"#EBF0F8\"},\"line\":{\"color\":\"white\"}},\"header\":{\"fill\":{\"color\":\"#C8D4E3\"},\"line\":{\"color\":\"white\"}},\"type\":\"table\"}]},\"layout\":{\"annotationdefaults\":{\"arrowcolor\":\"#2a3f5f\",\"arrowhead\":0,\"arrowwidth\":1},\"autotypenumbers\":\"strict\",\"coloraxis\":{\"colorbar\":{\"outlinewidth\":0,\"ticks\":\"\"}},\"colorscale\":{\"diverging\":[[0,\"#8e0152\"],[0.1,\"#c51b7d\"],[0.2,\"#de77ae\"],[0.3,\"#f1b6da\"],[0.4,\"#fde0ef\"],[0.5,\"#f7f7f7\"],[0.6,\"#e6f5d0\"],[0.7,\"#b8e186\"],[0.8,\"#7fbc41\"],[0.9,\"#4d9221\"],[1,\"#276419\"]],\"sequential\":[[0.0,\"#0d0887\"],[0.1111111111111111,\"#46039f\"],[0.2222222222222222,\"#7201a8\"],[0.3333333333333333,\"#9c179e\"],[0.4444444444444444,\"#bd3786\"],[0.5555555555555556,\"#d8576b\"],[0.6666666666666666,\"#ed7953\"],[0.7777777777777778,\"#fb9f3a\"],[0.8888888888888888,\"#fdca26\"],[1.0,\"#f0f921\"]],\"sequentialminus\":[[0.0,\"#0d0887\"],[0.1111111111111111,\"#46039f\"],[0.2222222222222222,\"#7201a8\"],[0.3333333333333333,\"#9c179e\"],[0.4444444444444444,\"#bd3786\"],[0.5555555555555556,\"#d8576b\"],[0.6666666666666666,\"#ed7953\"],[0.7777777777777778,\"#fb9f3a\"],[0.8888888888888888,\"#fdca26\"],[1.0,\"#f0f921\"]]},\"colorway\":[\"#636efa\",\"#EF553B\",\"#00cc96\",\"#ab63fa\",\"#FFA15A\",\"#19d3f3\",\"#FF6692\",\"#B6E880\",\"#FF97FF\",\"#FECB52\"],\"font\":{\"color\":\"#2a3f5f\"},\"geo\":{\"bgcolor\":\"white\",\"lakecolor\":\"white\",\"landcolor\":\"#E5ECF6\",\"showlakes\":true,\"showland\":true,\"subunitcolor\":\"white\"},\"hoverlabel\":{\"align\":\"left\"},\"hovermode\":\"closest\",\"mapbox\":{\"style\":\"light\"},\"paper_bgcolor\":\"white\",\"plot_bgcolor\":\"#E5ECF6\",\"polar\":{\"angularaxis\":{\"gridcolor\":\"white\",\"linecolor\":\"white\",\"ticks\":\"\"},\"bgcolor\":\"#E5ECF6\",\"radialaxis\":{\"gridcolor\":\"white\",\"linecolor\":\"white\",\"ticks\":\"\"}},\"scene\":{\"xaxis\":{\"backgroundcolor\":\"#E5ECF6\",\"gridcolor\":\"white\",\"gridwidth\":2,\"linecolor\":\"white\",\"showbackground\":true,\"ticks\":\"\",\"zerolinecolor\":\"white\"},\"yaxis\":{\"backgroundcolor\":\"#E5ECF6\",\"gridcolor\":\"white\",\"gridwidth\":2,\"linecolor\":\"white\",\"showbackground\":true,\"ticks\":\"\",\"zerolinecolor\":\"white\"},\"zaxis\":{\"backgroundcolor\":\"#E5ECF6\",\"gridcolor\":\"white\",\"gridwidth\":2,\"linecolor\":\"white\",\"showbackground\":true,\"ticks\":\"\",\"zerolinecolor\":\"white\"}},\"shapedefaults\":{\"line\":{\"color\":\"#2a3f5f\"}},\"ternary\":{\"aaxis\":{\"gridcolor\":\"white\",\"linecolor\":\"white\",\"ticks\":\"\"},\"baxis\":{\"gridcolor\":\"white\",\"linecolor\":\"white\",\"ticks\":\"\"},\"bgcolor\":\"#E5ECF6\",\"caxis\":{\"gridcolor\":\"white\",\"linecolor\":\"white\",\"ticks\":\"\"}},\"title\":{\"x\":0.05},\"xaxis\":{\"automargin\":true,\"gridcolor\":\"white\",\"linecolor\":\"white\",\"ticks\":\"\",\"title\":{\"standoff\":15},\"zerolinecolor\":\"white\",\"zerolinewidth\":2},\"yaxis\":{\"automargin\":true,\"gridcolor\":\"white\",\"linecolor\":\"white\",\"ticks\":\"\",\"title\":{\"standoff\":15},\"zerolinecolor\":\"white\",\"zerolinewidth\":2}}},\"title\":{\"font\":{\"color\":\"#4D5663\"}},\"xaxis\":{\"gridcolor\":\"#E1E5ED\",\"showgrid\":true,\"tickfont\":{\"color\":\"#4D5663\"},\"title\":{\"font\":{\"color\":\"#4D5663\"},\"text\":\"\"},\"zerolinecolor\":\"#E1E5ED\"},\"yaxis\":{\"gridcolor\":\"#E1E5ED\",\"showgrid\":true,\"tickfont\":{\"color\":\"#4D5663\"},\"title\":{\"font\":{\"color\":\"#4D5663\"},\"text\":\"\"},\"zerolinecolor\":\"#E1E5ED\"}},                        {\"showLink\": true, \"linkText\": \"Export to plot.ly\", \"plotlyServerURL\": \"https://plot.ly\", \"responsive\": true}                    ).then(function(){\n",
       "                            \n",
       "var gd = document.getElementById('ea595eae-d04e-4aa2-8de1-9a4cd07d9388');\n",
       "var x = new MutationObserver(function (mutations, observer) {{\n",
       "        var display = window.getComputedStyle(gd).display;\n",
       "        if (!display || display === 'none') {{\n",
       "            console.log([gd, 'removed!']);\n",
       "            Plotly.purge(gd);\n",
       "            observer.disconnect();\n",
       "        }}\n",
       "}});\n",
       "\n",
       "// Listen for the removal of the full notebook cells\n",
       "var notebookContainer = gd.closest('#notebook-container');\n",
       "if (notebookContainer) {{\n",
       "    x.observe(notebookContainer, {childList: true});\n",
       "}}\n",
       "\n",
       "// Listen for the clearing of the current output cell\n",
       "var outputEl = gd.closest('.output');\n",
       "if (outputEl) {{\n",
       "    x.observe(outputEl, {childList: true});\n",
       "}}\n",
       "\n",
       "                        })                };                });            </script>        </div>"
      ]
     },
     "metadata": {},
     "output_type": "display_data"
    }
   ],
   "source": [
    "df.iplot(kind='hist')"
   ]
  },
  {
   "cell_type": "code",
   "execution_count": 79,
   "id": "7389350b",
   "metadata": {},
   "outputs": [
    {
     "name": "stderr",
     "output_type": "stream",
     "text": [
      "C:\\Users\\ROG STRIX\\anaconda3\\lib\\site-packages\\cufflinks\\plotlytools.py:849: FutureWarning:\n",
      "\n",
      "The pandas.np module is deprecated and will be removed from pandas in a future version. Import numpy directly instead.\n",
      "\n",
      "C:\\Users\\ROG STRIX\\anaconda3\\lib\\site-packages\\cufflinks\\plotlytools.py:850: FutureWarning:\n",
      "\n",
      "The pandas.np module is deprecated and will be removed from pandas in a future version. Import numpy directly instead.\n",
      "\n"
     ]
    },
    {
     "data": {
      "application/vnd.plotly.v1+json": {
       "config": {
        "linkText": "Export to plot.ly",
        "plotlyServerURL": "https://plot.ly",
        "showLink": true
       },
       "data": [
        {
         "line": {
          "color": "rgba(255, 153, 51, 1.0)",
          "dash": "solid",
          "shape": "linear",
          "width": 1.3
         },
         "mode": "lines",
         "name": "A",
         "text": "",
         "type": "scatter",
         "x": [
          0,
          1,
          2,
          3,
          4,
          5,
          6,
          7,
          8,
          9,
          10,
          11,
          12,
          13,
          14,
          15,
          16,
          17,
          18,
          19,
          20,
          21,
          22,
          23,
          24,
          25,
          26,
          27,
          28,
          29,
          30,
          31,
          32,
          33,
          34,
          35,
          36,
          37,
          38,
          39,
          40,
          41,
          42,
          43,
          44,
          45,
          46,
          47,
          48,
          49,
          50,
          51,
          52,
          53,
          54,
          55,
          56,
          57,
          58,
          59,
          60,
          61,
          62,
          63,
          64,
          65,
          66,
          67,
          68,
          69,
          70,
          71,
          72,
          73,
          74,
          75,
          76,
          77,
          78,
          79,
          80,
          81,
          82,
          83,
          84,
          85,
          86,
          87,
          88,
          89,
          90,
          91,
          92,
          93,
          94,
          95,
          96,
          97,
          98,
          99
         ],
         "y": [
          -0.6123213313638834,
          1.3594760586323038,
          0.7157028374769693,
          0.7428268604041767,
          1.4387038289767837,
          -0.18659775442196597,
          1.4732645597761136,
          -1.0063295388071447,
          1.056092961661525,
          -2.47632273602315,
          -0.635452318342618,
          -0.44341162530791667,
          0.8603466277919531,
          0.07446614932749684,
          -0.1331131522466488,
          0.9950176867120871,
          -0.6469853058251499,
          -0.8700113105706968,
          0.7451915965836442,
          1.0080729109461022,
          1.3612656769446707,
          -0.46388543466577953,
          -1.6252556434939562,
          -0.9321225459929191,
          0.16520721127913351,
          1.109035311807075,
          -0.17481458358740606,
          -1.624426672284938,
          -0.1702527952572121,
          0.5692071778213524,
          -1.8522429631266695,
          -1.8274075534861318,
          1.4467135685260804,
          -0.2566950458043969,
          -0.31473561434280445,
          -1.3924295664519903,
          -1.5183227401831643,
          1.100316191055605,
          -1.3243172550303042,
          0.934613326420437,
          0.5058253582807383,
          0.6925078253422744,
          1.9416032539843482,
          -1.1472736624868352,
          0.6738495664997504,
          -0.47737184536099964,
          -1.641216335191951,
          -0.13222458670586418,
          -0.709692601338341,
          1.0704070534135786,
          -0.35957829928635193,
          1.1347015745407685,
          1.7394557819272984,
          0.10648238319660469,
          -1.2104409774898166,
          -0.21935452937051048,
          -0.7209436501354658,
          -0.36707627095778994,
          -0.4137095293103209,
          -0.14202313507910364,
          1.2665388927529673,
          1.1194663999265804,
          -1.2425290334764583,
          0.39840737442666446,
          0.8945368981705608,
          -0.9571858944373809,
          -0.4633202776630124,
          -0.9712012233075042,
          0.7208776529585661,
          0.7438375746122489,
          -1.3026515735400312,
          1.004468713016441,
          -0.34401917264171356,
          0.37856579146205005,
          0.5766908858096895,
          0.14489140687254426,
          0.5030487355914735,
          0.16656440729662095,
          -1.044040712361414,
          1.3940344198410861,
          -1.8958614932946471,
          -1.598344342488547,
          0.619097265217185,
          1.1247773545002318,
          -0.7131652820603137,
          -0.7259441325114188,
          0.3783084614135404,
          0.953242635318946,
          -1.0865438738709796,
          1.0560252986180356,
          -0.9152623676229141,
          -0.47689637661425693,
          -1.5731089650479364,
          0.45657205749455,
          -0.011860036772261388,
          -0.7254513536108076,
          0.5454745770976296,
          -1.669814686271186,
          1.5393007948667181,
          0.28512201838580503
         ]
        },
        {
         "line": {
          "color": "rgba(55, 128, 191, 1.0)",
          "dash": "solid",
          "shape": "linear",
          "width": 1.3
         },
         "mode": "lines",
         "name": "B",
         "text": "",
         "type": "scatter",
         "x": [
          0,
          1,
          2,
          3,
          4,
          5,
          6,
          7,
          8,
          9,
          10,
          11,
          12,
          13,
          14,
          15,
          16,
          17,
          18,
          19,
          20,
          21,
          22,
          23,
          24,
          25,
          26,
          27,
          28,
          29,
          30,
          31,
          32,
          33,
          34,
          35,
          36,
          37,
          38,
          39,
          40,
          41,
          42,
          43,
          44,
          45,
          46,
          47,
          48,
          49,
          50,
          51,
          52,
          53,
          54,
          55,
          56,
          57,
          58,
          59,
          60,
          61,
          62,
          63,
          64,
          65,
          66,
          67,
          68,
          69,
          70,
          71,
          72,
          73,
          74,
          75,
          76,
          77,
          78,
          79,
          80,
          81,
          82,
          83,
          84,
          85,
          86,
          87,
          88,
          89,
          90,
          91,
          92,
          93,
          94,
          95,
          96,
          97,
          98,
          99
         ],
         "y": [
          2.4033726396064625,
          -0.3180661953813854,
          0.3575646009315945,
          -0.1105494946218425,
          -1.9893182998132442,
          0.12108998433814257,
          1.6231297492375656,
          -1.2060270018752517,
          -1.4763460598573717,
          -0.31605687258158366,
          -0.30143437365788345,
          -0.26399532166551437,
          0.9165050788909543,
          0.7736176343862297,
          0.9360968870348345,
          0.6558051320314173,
          -0.9571761584379436,
          -0.9924811564511132,
          0.7971918612956219,
          -0.37130794160576763,
          -0.2760754290236538,
          0.6900682486696768,
          1.5530644454787816,
          0.4313746272862494,
          0.606668375448992,
          -0.1678150518632239,
          -0.06562136516121853,
          1.1358032600451677,
          -1.555216491676847,
          2.3596114839686897,
          1.6849126218993657,
          -1.1076458633876247,
          0.19152751134038656,
          -2.418973945595888,
          0.46641748517612613,
          -0.21364558612811305,
          1.1480763571394446,
          0.059794594708253365,
          0.42198828304935004,
          -0.1278335244912023,
          -0.3434904890462654,
          0.6386561805665968,
          -0.14208161537358346,
          -0.21014682568625534,
          -1.1515120179039007,
          0.6423152244432342,
          0.5385251636516468,
          -1.2735301704460944,
          -0.9263130931462031,
          1.0528723780534726,
          1.398092729216517,
          0.7409688920291192,
          1.5330713382437804,
          1.2238886674459235,
          1.3021010010114673,
          0.9267666640747797,
          -1.0632816642972323,
          -0.853609509509939,
          1.4774215216322193,
          1.8375264582418434,
          1.2510879290725092,
          0.11877753746905721,
          1.0800394768582156,
          -1.31790521726136,
          -1.365923862710278,
          1.6836138765041453,
          -0.0050875497121913756,
          0.14030157148832426,
          -0.7439091480217016,
          0.3421569973368127,
          0.3176875279051301,
          -0.4658550524900476,
          1.5083142101265588,
          0.9342942058681324,
          0.038805998180403596,
          -0.5427143810390751,
          1.8653101105958274,
          0.9160042953261466,
          -0.7399792359271136,
          -1.3913613995497782,
          -1.3659709922367504,
          -1.7739464469938493,
          0.9790656864957751,
          -0.5645792416112951,
          1.3080798586746816,
          -0.3710346468680679,
          -0.3831733338661221,
          0.6690962928884536,
          0.5510184334158387,
          0.7638864171285927,
          0.7173354808699728,
          -0.7350903538128789,
          1.3679739533904145,
          -1.6310206244484406,
          -0.39313156746717626,
          0.026323629417493655,
          -1.7894767650578125,
          -0.7225163772056884,
          1.9078118752926256,
          0.7217442983989159
         ]
        },
        {
         "line": {
          "color": "rgba(50, 171, 96, 1.0)",
          "dash": "solid",
          "shape": "linear",
          "width": 1.3
         },
         "mode": "lines",
         "name": "C",
         "text": "",
         "type": "scatter",
         "x": [
          0,
          1,
          2,
          3,
          4,
          5,
          6,
          7,
          8,
          9,
          10,
          11,
          12,
          13,
          14,
          15,
          16,
          17,
          18,
          19,
          20,
          21,
          22,
          23,
          24,
          25,
          26,
          27,
          28,
          29,
          30,
          31,
          32,
          33,
          34,
          35,
          36,
          37,
          38,
          39,
          40,
          41,
          42,
          43,
          44,
          45,
          46,
          47,
          48,
          49,
          50,
          51,
          52,
          53,
          54,
          55,
          56,
          57,
          58,
          59,
          60,
          61,
          62,
          63,
          64,
          65,
          66,
          67,
          68,
          69,
          70,
          71,
          72,
          73,
          74,
          75,
          76,
          77,
          78,
          79,
          80,
          81,
          82,
          83,
          84,
          85,
          86,
          87,
          88,
          89,
          90,
          91,
          92,
          93,
          94,
          95,
          96,
          97,
          98,
          99
         ],
         "y": [
          0.4689665067580521,
          2.657661785631248,
          -0.15695404125640144,
          0.605265196825292,
          -0.7057374319212296,
          0.8444309653569217,
          0.7513210022146437,
          0.4307395998978597,
          1.0371730870237932,
          1.974103854421076,
          -1.1288760520237493,
          0.8055315230691629,
          -1.335601470526402,
          -0.028547479101887447,
          0.06747542495281443,
          -1.1309575553312143,
          1.6271698811106052,
          -0.8569455622264276,
          0.6456922933836641,
          1.6379346196809164,
          0.1806495115367449,
          0.14639348883989947,
          -1.3552736004820631,
          -0.119350727088024,
          -0.3563793145517163,
          -1.023983797537162,
          -1.2002930376860392,
          0.30540079810011533,
          -0.4761218790211993,
          0.24257472613728698,
          -0.3361720751310067,
          -1.846424890646746,
          -0.7748643511775507,
          -0.8618459502950332,
          2.1193450044927333,
          0.40496375514144517,
          -2.9377762864827,
          -1.8965821460469738,
          -0.48480046089468737,
          0.7483102482534699,
          1.6910057862337557,
          -1.233714975417407,
          0.06493475062118555,
          0.6392015128212213,
          -0.5899288328143886,
          -0.728572959023513,
          0.6113604849908908,
          1.2054338538568574,
          0.08020295162428227,
          2.041858302804547,
          1.4184034553585103,
          -0.1719830931621509,
          -0.6949916357107848,
          -1.978855890551208,
          0.6257545974595368,
          0.8632133760671598,
          -0.5976588697599662,
          0.8479532170096117,
          1.70344793958928,
          1.1386853529720973,
          0.8487051642989147,
          0.968843823916177,
          0.6957190136412353,
          0.002582225038355152,
          -1.4513032950993925,
          -0.19805787701228872,
          0.6774343549635712,
          -1.4327537700193087,
          0.26411514326036833,
          -0.33671161663269716,
          -0.08407330728644541,
          1.368220600727735,
          1.645714258578475,
          -1.384406199597019,
          0.5083535943892357,
          -1.0514179180662875,
          0.7549770555868955,
          -1.675545109092052,
          -1.0451488351170122,
          -2.0614544842966995,
          0.16982230547273192,
          1.8251139327360477,
          0.44986683396737626,
          0.3939286211800785,
          -1.114911778732924,
          -0.4177123875352382,
          1.108470034084431,
          0.49834592193931465,
          -1.9547909952942522,
          1.176365585897962,
          -0.029407168874944503,
          -0.4613577626841192,
          -1.3451916694004673,
          0.8821653763967819,
          -1.173395693010109,
          0.32036147045809604,
          -1.2749930918574466,
          1.9899525192678373,
          -1.1398903142935857,
          -0.4968601383846873
         ]
        },
        {
         "line": {
          "color": "rgba(128, 0, 128, 1.0)",
          "dash": "solid",
          "shape": "linear",
          "width": 1.3
         },
         "mode": "lines",
         "name": "D",
         "text": "",
         "type": "scatter",
         "x": [
          0,
          1,
          2,
          3,
          4,
          5,
          6,
          7,
          8,
          9,
          10,
          11,
          12,
          13,
          14,
          15,
          16,
          17,
          18,
          19,
          20,
          21,
          22,
          23,
          24,
          25,
          26,
          27,
          28,
          29,
          30,
          31,
          32,
          33,
          34,
          35,
          36,
          37,
          38,
          39,
          40,
          41,
          42,
          43,
          44,
          45,
          46,
          47,
          48,
          49,
          50,
          51,
          52,
          53,
          54,
          55,
          56,
          57,
          58,
          59,
          60,
          61,
          62,
          63,
          64,
          65,
          66,
          67,
          68,
          69,
          70,
          71,
          72,
          73,
          74,
          75,
          76,
          77,
          78,
          79,
          80,
          81,
          82,
          83,
          84,
          85,
          86,
          87,
          88,
          89,
          90,
          91,
          92,
          93,
          94,
          95,
          96,
          97,
          98,
          99
         ],
         "y": [
          1.0085964341555844,
          -1.2269753588859271,
          -1.5097988830045546,
          -0.5957249513887795,
          -0.957292708169662,
          0.37925034902571103,
          0.6390786863933957,
          -1.4278468527458785,
          1.1554198868405157,
          1.4835710039569256,
          -1.8617930501549576,
          1.0549386258229976,
          -0.597880076754315,
          0.5091114140451493,
          -0.4236008265812986,
          2.0422230963736423,
          -1.5944447623816826,
          1.0046933857435616,
          -1.346948771912937,
          -0.4780454082197933,
          -0.1293847086726596,
          0.047109012029019515,
          0.5254822345724128,
          0.822192262412065,
          1.4459759780435455,
          0.9115178242482179,
          0.09163585118157323,
          -0.4333767970305198,
          -0.25317827633395823,
          1.251941966515613,
          -0.48504486193858026,
          1.4155994216269399,
          -0.08942120600242834,
          0.018129302526952513,
          0.09538400771573545,
          0.14635880217596137,
          -0.03521929132626436,
          0.9464919018571304,
          -1.0298398614208712,
          1.1468853072362954,
          -0.28638870472181804,
          -2.312265561373491,
          1.0994685942927933,
          1.9323478853341507,
          1.285517116893445,
          -0.6561135953456818,
          0.613382362747721,
          0.294912843507637,
          0.501579060503352,
          2.0601536753961205,
          0.09031593286671273,
          -2.1116352492033665,
          1.14479295440716,
          1.6482467822786142,
          -0.23688476995824312,
          -2.483168964360678,
          1.7393690105774773,
          -0.7528532600045252,
          0.549850368149912,
          1.6092665516046354,
          1.1245463956901984,
          -0.25960022308154207,
          -0.894525142137224,
          -0.44335753624262075,
          -0.4953186258903264,
          0.44862293242002454,
          0.5076707606831699,
          -0.8234639692664324,
          -0.1825116567135101,
          0.6165168690298184,
          -0.7441595984799642,
          -1.2644685398119577,
          1.9473943153893534,
          0.8716113455957312,
          1.4056319769016397,
          0.18172623584949632,
          -0.34499946405601095,
          0.7016813836505776,
          0.5675933797489788,
          -0.0634524470695323,
          1.6698437842254625,
          -0.2589095268265948,
          0.39291905061572424,
          -2.3753214718334985,
          -0.44280955514871473,
          -0.06627116150696902,
          0.5600957537663671,
          -0.9066305671341511,
          0.8827050851394105,
          0.19517323025462843,
          0.2499217272758512,
          0.21879809967016942,
          -0.31226846868748914,
          -1.7337764797766497,
          0.8209083232667705,
          -0.42547099701212215,
          -0.09310701732516485,
          0.3629058590313021,
          0.1407115006202667,
          0.876168071097411
         ]
        },
        {
         "connectgaps": false,
         "fill": "tozeroy",
         "line": {
          "color": "green",
          "dash": "solid",
          "shape": "linear",
          "width": 0.5
         },
         "mode": "lines",
         "name": "Spread",
         "showlegend": false,
         "type": "scatter",
         "x": [
          0,
          1,
          2,
          3,
          4,
          5,
          6,
          7,
          8,
          9,
          10,
          11,
          12,
          13,
          14,
          15,
          16,
          17,
          18,
          19,
          20,
          21,
          22,
          23,
          24,
          25,
          26,
          27,
          28,
          29,
          30,
          31,
          32,
          33,
          34,
          35,
          36,
          37,
          38,
          39,
          40,
          41,
          42,
          43,
          44,
          45,
          46,
          47,
          48,
          49,
          50,
          51,
          52,
          53,
          54,
          55,
          56,
          57,
          58,
          59,
          60,
          61,
          62,
          63,
          64,
          65,
          66,
          67,
          68,
          69,
          70,
          71,
          72,
          73,
          74,
          75,
          76,
          77,
          78,
          79,
          80,
          81,
          82,
          83,
          84,
          85,
          86,
          87,
          88,
          89,
          90,
          91,
          92,
          93,
          94,
          95,
          96,
          97,
          98,
          99
         ],
         "xaxis": "x2",
         "y": [
          "",
          1.6775422540136893,
          0.3581382365453748,
          0.8533763550260192,
          3.428022128790028,
          "",
          "",
          0.19969746306810698,
          2.532439021518897,
          "",
          "",
          "",
          "",
          "",
          "",
          0.3392125546806698,
          0.31019085261279367,
          0.12246984588041643,
          "",
          1.3793808525518698,
          1.6373411059683245,
          "",
          "",
          "",
          "",
          1.276850363670299,
          "",
          "",
          1.3849636964196348,
          "",
          "",
          "",
          1.2551860571856939,
          2.1622788997914912,
          "",
          "",
          "",
          1.0405215963473515,
          "",
          1.0624468509116394,
          0.8493158473270037,
          0.05385164477567761,
          2.0836848693579317,
          "",
          1.825361584403651,
          "",
          "",
          1.1413055837402302,
          0.21662049180786214,
          0.017534675360106,
          "",
          0.3937326825116493,
          0.20638444368351805,
          "",
          "",
          "",
          0.34233801416176646,
          0.486533238552149,
          "",
          "",
          0.015450963680458063,
          1.0006888624575232,
          "",
          1.7163125916880244,
          2.260460760880839,
          "",
          "",
          "",
          1.4647868009802676,
          0.40168057727543616,
          "",
          1.4703237655064885,
          "",
          "",
          0.5378848876292859,
          0.6876057879116193,
          "",
          "",
          "",
          2.7853958193908643,
          "",
          0.17560210450530223,
          "",
          1.6893565961115269,
          "",
          "",
          0.7614817952796625,
          0.2841463424304924,
          "",
          0.2921388814894429,
          "",
          0.25819397719862197,
          "",
          2.087592681942991,
          0.3812715306949149,
          "",
          2.334951342155442,
          "",
          "",
          ""
         ],
         "yaxis": "y2"
        },
        {
         "connectgaps": false,
         "fill": "tozeroy",
         "line": {
          "color": "red",
          "dash": "solid",
          "shape": "linear",
          "width": 0.5
         },
         "mode": "lines",
         "name": "Spread",
         "showlegend": false,
         "type": "scatter",
         "x": [
          0,
          1,
          2,
          3,
          4,
          5,
          6,
          7,
          8,
          9,
          10,
          11,
          12,
          13,
          14,
          15,
          16,
          17,
          18,
          19,
          20,
          21,
          22,
          23,
          24,
          25,
          26,
          27,
          28,
          29,
          30,
          31,
          32,
          33,
          34,
          35,
          36,
          37,
          38,
          39,
          40,
          41,
          42,
          43,
          44,
          45,
          46,
          47,
          48,
          49,
          50,
          51,
          52,
          53,
          54,
          55,
          56,
          57,
          58,
          59,
          60,
          61,
          62,
          63,
          64,
          65,
          66,
          67,
          68,
          69,
          70,
          71,
          72,
          73,
          74,
          75,
          76,
          77,
          78,
          79,
          80,
          81,
          82,
          83,
          84,
          85,
          86,
          87,
          88,
          89,
          90,
          91,
          92,
          93,
          94,
          95,
          96,
          97,
          98,
          99
         ],
         "xaxis": "x2",
         "y": [
          -3.015693970970346,
          "",
          "",
          "",
          "",
          -0.3076877387601085,
          -0.149865189461452,
          "",
          "",
          -2.1602658634415666,
          -0.3340179446847345,
          -0.1794163036424023,
          -0.056158451099001194,
          -0.6991514850587328,
          -1.0692100392814834,
          "",
          "",
          "",
          -0.05200026471197772,
          "",
          "",
          -1.1539536833354562,
          -3.178320088972738,
          -1.3634971732791685,
          -0.4414611641698585,
          "",
          -0.10919321842618754,
          -2.760229932330106,
          "",
          -1.7904043061473374,
          -3.537155585026035,
          -0.7197616900985071,
          "",
          "",
          -0.7811530995189306,
          -1.1787839803238773,
          -2.666399097322609,
          "",
          -1.7463055380796542,
          "",
          "",
          "",
          "",
          -0.9371268368005798,
          "",
          -1.1196870698042338,
          -2.179741498843598,
          "",
          "",
          "",
          -1.757671028502869,
          "",
          "",
          -1.1174062842493189,
          -2.512541978501284,
          -1.1461211934452902,
          "",
          "",
          -1.89113105094254,
          -1.979549593320947,
          "",
          "",
          -2.3225685103346736,
          "",
          "",
          -2.640799770941526,
          -0.45823272795082104,
          -1.1115027947958285,
          "",
          "",
          -1.6203391014451614,
          "",
          -1.8523333827682724,
          -0.5557284144060823,
          "",
          "",
          -1.362261375004354,
          -0.7494398880295257,
          -0.30406147643430037,
          "",
          -0.5298905010578967,
          "",
          -0.3599684212785901,
          "",
          -2.021245140734995,
          -0.35490948564335084,
          "",
          "",
          -1.6375623072868182,
          "",
          -1.632597848492887,
          "",
          -2.941082918438351,
          "",
          "",
          -0.7517749830283013,
          "",
          -0.9472983090654976,
          -0.3685110804259075,
          -0.4366222800131108
         ],
         "yaxis": "y2"
        }
       ],
       "layout": {
        "hovermode": "x",
        "legend": {
         "bgcolor": "#F5F6F9",
         "font": {
          "color": "#4D5663"
         }
        },
        "paper_bgcolor": "#F5F6F9",
        "plot_bgcolor": "#F5F6F9",
        "template": {
         "data": {
          "bar": [
           {
            "error_x": {
             "color": "#2a3f5f"
            },
            "error_y": {
             "color": "#2a3f5f"
            },
            "marker": {
             "line": {
              "color": "#E5ECF6",
              "width": 0.5
             },
             "pattern": {
              "fillmode": "overlay",
              "size": 10,
              "solidity": 0.2
             }
            },
            "type": "bar"
           }
          ],
          "barpolar": [
           {
            "marker": {
             "line": {
              "color": "#E5ECF6",
              "width": 0.5
             },
             "pattern": {
              "fillmode": "overlay",
              "size": 10,
              "solidity": 0.2
             }
            },
            "type": "barpolar"
           }
          ],
          "carpet": [
           {
            "aaxis": {
             "endlinecolor": "#2a3f5f",
             "gridcolor": "white",
             "linecolor": "white",
             "minorgridcolor": "white",
             "startlinecolor": "#2a3f5f"
            },
            "baxis": {
             "endlinecolor": "#2a3f5f",
             "gridcolor": "white",
             "linecolor": "white",
             "minorgridcolor": "white",
             "startlinecolor": "#2a3f5f"
            },
            "type": "carpet"
           }
          ],
          "choropleth": [
           {
            "colorbar": {
             "outlinewidth": 0,
             "ticks": ""
            },
            "type": "choropleth"
           }
          ],
          "contour": [
           {
            "colorbar": {
             "outlinewidth": 0,
             "ticks": ""
            },
            "colorscale": [
             [
              0,
              "#0d0887"
             ],
             [
              0.1111111111111111,
              "#46039f"
             ],
             [
              0.2222222222222222,
              "#7201a8"
             ],
             [
              0.3333333333333333,
              "#9c179e"
             ],
             [
              0.4444444444444444,
              "#bd3786"
             ],
             [
              0.5555555555555556,
              "#d8576b"
             ],
             [
              0.6666666666666666,
              "#ed7953"
             ],
             [
              0.7777777777777778,
              "#fb9f3a"
             ],
             [
              0.8888888888888888,
              "#fdca26"
             ],
             [
              1,
              "#f0f921"
             ]
            ],
            "type": "contour"
           }
          ],
          "contourcarpet": [
           {
            "colorbar": {
             "outlinewidth": 0,
             "ticks": ""
            },
            "type": "contourcarpet"
           }
          ],
          "heatmap": [
           {
            "colorbar": {
             "outlinewidth": 0,
             "ticks": ""
            },
            "colorscale": [
             [
              0,
              "#0d0887"
             ],
             [
              0.1111111111111111,
              "#46039f"
             ],
             [
              0.2222222222222222,
              "#7201a8"
             ],
             [
              0.3333333333333333,
              "#9c179e"
             ],
             [
              0.4444444444444444,
              "#bd3786"
             ],
             [
              0.5555555555555556,
              "#d8576b"
             ],
             [
              0.6666666666666666,
              "#ed7953"
             ],
             [
              0.7777777777777778,
              "#fb9f3a"
             ],
             [
              0.8888888888888888,
              "#fdca26"
             ],
             [
              1,
              "#f0f921"
             ]
            ],
            "type": "heatmap"
           }
          ],
          "heatmapgl": [
           {
            "colorbar": {
             "outlinewidth": 0,
             "ticks": ""
            },
            "colorscale": [
             [
              0,
              "#0d0887"
             ],
             [
              0.1111111111111111,
              "#46039f"
             ],
             [
              0.2222222222222222,
              "#7201a8"
             ],
             [
              0.3333333333333333,
              "#9c179e"
             ],
             [
              0.4444444444444444,
              "#bd3786"
             ],
             [
              0.5555555555555556,
              "#d8576b"
             ],
             [
              0.6666666666666666,
              "#ed7953"
             ],
             [
              0.7777777777777778,
              "#fb9f3a"
             ],
             [
              0.8888888888888888,
              "#fdca26"
             ],
             [
              1,
              "#f0f921"
             ]
            ],
            "type": "heatmapgl"
           }
          ],
          "histogram": [
           {
            "marker": {
             "pattern": {
              "fillmode": "overlay",
              "size": 10,
              "solidity": 0.2
             }
            },
            "type": "histogram"
           }
          ],
          "histogram2d": [
           {
            "colorbar": {
             "outlinewidth": 0,
             "ticks": ""
            },
            "colorscale": [
             [
              0,
              "#0d0887"
             ],
             [
              0.1111111111111111,
              "#46039f"
             ],
             [
              0.2222222222222222,
              "#7201a8"
             ],
             [
              0.3333333333333333,
              "#9c179e"
             ],
             [
              0.4444444444444444,
              "#bd3786"
             ],
             [
              0.5555555555555556,
              "#d8576b"
             ],
             [
              0.6666666666666666,
              "#ed7953"
             ],
             [
              0.7777777777777778,
              "#fb9f3a"
             ],
             [
              0.8888888888888888,
              "#fdca26"
             ],
             [
              1,
              "#f0f921"
             ]
            ],
            "type": "histogram2d"
           }
          ],
          "histogram2dcontour": [
           {
            "colorbar": {
             "outlinewidth": 0,
             "ticks": ""
            },
            "colorscale": [
             [
              0,
              "#0d0887"
             ],
             [
              0.1111111111111111,
              "#46039f"
             ],
             [
              0.2222222222222222,
              "#7201a8"
             ],
             [
              0.3333333333333333,
              "#9c179e"
             ],
             [
              0.4444444444444444,
              "#bd3786"
             ],
             [
              0.5555555555555556,
              "#d8576b"
             ],
             [
              0.6666666666666666,
              "#ed7953"
             ],
             [
              0.7777777777777778,
              "#fb9f3a"
             ],
             [
              0.8888888888888888,
              "#fdca26"
             ],
             [
              1,
              "#f0f921"
             ]
            ],
            "type": "histogram2dcontour"
           }
          ],
          "mesh3d": [
           {
            "colorbar": {
             "outlinewidth": 0,
             "ticks": ""
            },
            "type": "mesh3d"
           }
          ],
          "parcoords": [
           {
            "line": {
             "colorbar": {
              "outlinewidth": 0,
              "ticks": ""
             }
            },
            "type": "parcoords"
           }
          ],
          "pie": [
           {
            "automargin": true,
            "type": "pie"
           }
          ],
          "scatter": [
           {
            "marker": {
             "colorbar": {
              "outlinewidth": 0,
              "ticks": ""
             }
            },
            "type": "scatter"
           }
          ],
          "scatter3d": [
           {
            "line": {
             "colorbar": {
              "outlinewidth": 0,
              "ticks": ""
             }
            },
            "marker": {
             "colorbar": {
              "outlinewidth": 0,
              "ticks": ""
             }
            },
            "type": "scatter3d"
           }
          ],
          "scattercarpet": [
           {
            "marker": {
             "colorbar": {
              "outlinewidth": 0,
              "ticks": ""
             }
            },
            "type": "scattercarpet"
           }
          ],
          "scattergeo": [
           {
            "marker": {
             "colorbar": {
              "outlinewidth": 0,
              "ticks": ""
             }
            },
            "type": "scattergeo"
           }
          ],
          "scattergl": [
           {
            "marker": {
             "colorbar": {
              "outlinewidth": 0,
              "ticks": ""
             }
            },
            "type": "scattergl"
           }
          ],
          "scattermapbox": [
           {
            "marker": {
             "colorbar": {
              "outlinewidth": 0,
              "ticks": ""
             }
            },
            "type": "scattermapbox"
           }
          ],
          "scatterpolar": [
           {
            "marker": {
             "colorbar": {
              "outlinewidth": 0,
              "ticks": ""
             }
            },
            "type": "scatterpolar"
           }
          ],
          "scatterpolargl": [
           {
            "marker": {
             "colorbar": {
              "outlinewidth": 0,
              "ticks": ""
             }
            },
            "type": "scatterpolargl"
           }
          ],
          "scatterternary": [
           {
            "marker": {
             "colorbar": {
              "outlinewidth": 0,
              "ticks": ""
             }
            },
            "type": "scatterternary"
           }
          ],
          "surface": [
           {
            "colorbar": {
             "outlinewidth": 0,
             "ticks": ""
            },
            "colorscale": [
             [
              0,
              "#0d0887"
             ],
             [
              0.1111111111111111,
              "#46039f"
             ],
             [
              0.2222222222222222,
              "#7201a8"
             ],
             [
              0.3333333333333333,
              "#9c179e"
             ],
             [
              0.4444444444444444,
              "#bd3786"
             ],
             [
              0.5555555555555556,
              "#d8576b"
             ],
             [
              0.6666666666666666,
              "#ed7953"
             ],
             [
              0.7777777777777778,
              "#fb9f3a"
             ],
             [
              0.8888888888888888,
              "#fdca26"
             ],
             [
              1,
              "#f0f921"
             ]
            ],
            "type": "surface"
           }
          ],
          "table": [
           {
            "cells": {
             "fill": {
              "color": "#EBF0F8"
             },
             "line": {
              "color": "white"
             }
            },
            "header": {
             "fill": {
              "color": "#C8D4E3"
             },
             "line": {
              "color": "white"
             }
            },
            "type": "table"
           }
          ]
         },
         "layout": {
          "annotationdefaults": {
           "arrowcolor": "#2a3f5f",
           "arrowhead": 0,
           "arrowwidth": 1
          },
          "autotypenumbers": "strict",
          "coloraxis": {
           "colorbar": {
            "outlinewidth": 0,
            "ticks": ""
           }
          },
          "colorscale": {
           "diverging": [
            [
             0,
             "#8e0152"
            ],
            [
             0.1,
             "#c51b7d"
            ],
            [
             0.2,
             "#de77ae"
            ],
            [
             0.3,
             "#f1b6da"
            ],
            [
             0.4,
             "#fde0ef"
            ],
            [
             0.5,
             "#f7f7f7"
            ],
            [
             0.6,
             "#e6f5d0"
            ],
            [
             0.7,
             "#b8e186"
            ],
            [
             0.8,
             "#7fbc41"
            ],
            [
             0.9,
             "#4d9221"
            ],
            [
             1,
             "#276419"
            ]
           ],
           "sequential": [
            [
             0,
             "#0d0887"
            ],
            [
             0.1111111111111111,
             "#46039f"
            ],
            [
             0.2222222222222222,
             "#7201a8"
            ],
            [
             0.3333333333333333,
             "#9c179e"
            ],
            [
             0.4444444444444444,
             "#bd3786"
            ],
            [
             0.5555555555555556,
             "#d8576b"
            ],
            [
             0.6666666666666666,
             "#ed7953"
            ],
            [
             0.7777777777777778,
             "#fb9f3a"
            ],
            [
             0.8888888888888888,
             "#fdca26"
            ],
            [
             1,
             "#f0f921"
            ]
           ],
           "sequentialminus": [
            [
             0,
             "#0d0887"
            ],
            [
             0.1111111111111111,
             "#46039f"
            ],
            [
             0.2222222222222222,
             "#7201a8"
            ],
            [
             0.3333333333333333,
             "#9c179e"
            ],
            [
             0.4444444444444444,
             "#bd3786"
            ],
            [
             0.5555555555555556,
             "#d8576b"
            ],
            [
             0.6666666666666666,
             "#ed7953"
            ],
            [
             0.7777777777777778,
             "#fb9f3a"
            ],
            [
             0.8888888888888888,
             "#fdca26"
            ],
            [
             1,
             "#f0f921"
            ]
           ]
          },
          "colorway": [
           "#636efa",
           "#EF553B",
           "#00cc96",
           "#ab63fa",
           "#FFA15A",
           "#19d3f3",
           "#FF6692",
           "#B6E880",
           "#FF97FF",
           "#FECB52"
          ],
          "font": {
           "color": "#2a3f5f"
          },
          "geo": {
           "bgcolor": "white",
           "lakecolor": "white",
           "landcolor": "#E5ECF6",
           "showlakes": true,
           "showland": true,
           "subunitcolor": "white"
          },
          "hoverlabel": {
           "align": "left"
          },
          "hovermode": "closest",
          "mapbox": {
           "style": "light"
          },
          "paper_bgcolor": "white",
          "plot_bgcolor": "#E5ECF6",
          "polar": {
           "angularaxis": {
            "gridcolor": "white",
            "linecolor": "white",
            "ticks": ""
           },
           "bgcolor": "#E5ECF6",
           "radialaxis": {
            "gridcolor": "white",
            "linecolor": "white",
            "ticks": ""
           }
          },
          "scene": {
           "xaxis": {
            "backgroundcolor": "#E5ECF6",
            "gridcolor": "white",
            "gridwidth": 2,
            "linecolor": "white",
            "showbackground": true,
            "ticks": "",
            "zerolinecolor": "white"
           },
           "yaxis": {
            "backgroundcolor": "#E5ECF6",
            "gridcolor": "white",
            "gridwidth": 2,
            "linecolor": "white",
            "showbackground": true,
            "ticks": "",
            "zerolinecolor": "white"
           },
           "zaxis": {
            "backgroundcolor": "#E5ECF6",
            "gridcolor": "white",
            "gridwidth": 2,
            "linecolor": "white",
            "showbackground": true,
            "ticks": "",
            "zerolinecolor": "white"
           }
          },
          "shapedefaults": {
           "line": {
            "color": "#2a3f5f"
           }
          },
          "ternary": {
           "aaxis": {
            "gridcolor": "white",
            "linecolor": "white",
            "ticks": ""
           },
           "baxis": {
            "gridcolor": "white",
            "linecolor": "white",
            "ticks": ""
           },
           "bgcolor": "#E5ECF6",
           "caxis": {
            "gridcolor": "white",
            "linecolor": "white",
            "ticks": ""
           }
          },
          "title": {
           "x": 0.05
          },
          "xaxis": {
           "automargin": true,
           "gridcolor": "white",
           "linecolor": "white",
           "ticks": "",
           "title": {
            "standoff": 15
           },
           "zerolinecolor": "white",
           "zerolinewidth": 2
          },
          "yaxis": {
           "automargin": true,
           "gridcolor": "white",
           "linecolor": "white",
           "ticks": "",
           "title": {
            "standoff": 15
           },
           "zerolinecolor": "white",
           "zerolinewidth": 2
          }
         }
        },
        "title": {
         "font": {
          "color": "#4D5663"
         }
        },
        "xaxis": {
         "gridcolor": "#E1E5ED",
         "showgrid": true,
         "tickfont": {
          "color": "#4D5663"
         },
         "title": {
          "font": {
           "color": "#4D5663"
          },
          "text": ""
         },
         "zerolinecolor": "#E1E5ED"
        },
        "xaxis2": {
         "anchor": "y2",
         "gridcolor": "#E1E5ED",
         "showgrid": true,
         "showticklabels": false,
         "tickfont": {
          "color": "#4D5663"
         },
         "title": {
          "font": {
           "color": "#4D5663"
          },
          "text": ""
         },
         "zerolinecolor": "#E1E5ED"
        },
        "yaxis": {
         "domain": [
          0.3,
          1
         ],
         "gridcolor": "#E1E5ED",
         "showgrid": true,
         "tickfont": {
          "color": "#4D5663"
         },
         "title": {
          "font": {
           "color": "#4D5663"
          },
          "text": ""
         },
         "zerolinecolor": "#E1E5ED"
        },
        "yaxis2": {
         "domain": [
          0,
          0.25
         ],
         "gridcolor": "#E1E5ED",
         "showgrid": true,
         "tickfont": {
          "color": "#4D5663"
         },
         "title": {
          "font": {
           "color": "#4D5663"
          },
          "text": "Spread"
         },
         "zerolinecolor": "#E1E5ED"
        }
       }
      },
      "text/html": [
       "<div>                            <div id=\"5bdea842-e8fc-4e39-8b1f-b442ee836f28\" class=\"plotly-graph-div\" style=\"height:525px; width:100%;\"></div>            <script type=\"text/javascript\">                require([\"plotly\"], function(Plotly) {                    window.PLOTLYENV=window.PLOTLYENV || {};\n",
       "                    window.PLOTLYENV.BASE_URL='https://plot.ly';                                    if (document.getElementById(\"5bdea842-e8fc-4e39-8b1f-b442ee836f28\")) {                    Plotly.newPlot(                        \"5bdea842-e8fc-4e39-8b1f-b442ee836f28\",                        [{\"line\":{\"color\":\"rgba(255, 153, 51, 1.0)\",\"dash\":\"solid\",\"shape\":\"linear\",\"width\":1.3},\"mode\":\"lines\",\"name\":\"A\",\"text\":\"\",\"x\":[0,1,2,3,4,5,6,7,8,9,10,11,12,13,14,15,16,17,18,19,20,21,22,23,24,25,26,27,28,29,30,31,32,33,34,35,36,37,38,39,40,41,42,43,44,45,46,47,48,49,50,51,52,53,54,55,56,57,58,59,60,61,62,63,64,65,66,67,68,69,70,71,72,73,74,75,76,77,78,79,80,81,82,83,84,85,86,87,88,89,90,91,92,93,94,95,96,97,98,99],\"y\":[-0.6123213313638834,1.3594760586323038,0.7157028374769693,0.7428268604041767,1.4387038289767837,-0.18659775442196597,1.4732645597761136,-1.0063295388071447,1.056092961661525,-2.47632273602315,-0.635452318342618,-0.44341162530791667,0.8603466277919531,0.07446614932749684,-0.1331131522466488,0.9950176867120871,-0.6469853058251499,-0.8700113105706968,0.7451915965836442,1.0080729109461022,1.3612656769446707,-0.46388543466577953,-1.6252556434939562,-0.9321225459929191,0.16520721127913351,1.109035311807075,-0.17481458358740606,-1.624426672284938,-0.1702527952572121,0.5692071778213524,-1.8522429631266695,-1.8274075534861318,1.4467135685260804,-0.2566950458043969,-0.31473561434280445,-1.3924295664519903,-1.5183227401831643,1.100316191055605,-1.3243172550303042,0.934613326420437,0.5058253582807383,0.6925078253422744,1.9416032539843482,-1.1472736624868352,0.6738495664997504,-0.47737184536099964,-1.641216335191951,-0.13222458670586418,-0.709692601338341,1.0704070534135786,-0.35957829928635193,1.1347015745407685,1.7394557819272984,0.10648238319660469,-1.2104409774898166,-0.21935452937051048,-0.7209436501354658,-0.36707627095778994,-0.4137095293103209,-0.14202313507910364,1.2665388927529673,1.1194663999265804,-1.2425290334764583,0.39840737442666446,0.8945368981705608,-0.9571858944373809,-0.4633202776630124,-0.9712012233075042,0.7208776529585661,0.7438375746122489,-1.3026515735400312,1.004468713016441,-0.34401917264171356,0.37856579146205005,0.5766908858096895,0.14489140687254426,0.5030487355914735,0.16656440729662095,-1.044040712361414,1.3940344198410861,-1.8958614932946471,-1.598344342488547,0.619097265217185,1.1247773545002318,-0.7131652820603137,-0.7259441325114188,0.3783084614135404,0.953242635318946,-1.0865438738709796,1.0560252986180356,-0.9152623676229141,-0.47689637661425693,-1.5731089650479364,0.45657205749455,-0.011860036772261388,-0.7254513536108076,0.5454745770976296,-1.669814686271186,1.5393007948667181,0.28512201838580503],\"type\":\"scatter\"},{\"line\":{\"color\":\"rgba(55, 128, 191, 1.0)\",\"dash\":\"solid\",\"shape\":\"linear\",\"width\":1.3},\"mode\":\"lines\",\"name\":\"B\",\"text\":\"\",\"x\":[0,1,2,3,4,5,6,7,8,9,10,11,12,13,14,15,16,17,18,19,20,21,22,23,24,25,26,27,28,29,30,31,32,33,34,35,36,37,38,39,40,41,42,43,44,45,46,47,48,49,50,51,52,53,54,55,56,57,58,59,60,61,62,63,64,65,66,67,68,69,70,71,72,73,74,75,76,77,78,79,80,81,82,83,84,85,86,87,88,89,90,91,92,93,94,95,96,97,98,99],\"y\":[2.4033726396064625,-0.3180661953813854,0.3575646009315945,-0.1105494946218425,-1.9893182998132442,0.12108998433814257,1.6231297492375656,-1.2060270018752517,-1.4763460598573717,-0.31605687258158366,-0.30143437365788345,-0.26399532166551437,0.9165050788909543,0.7736176343862297,0.9360968870348345,0.6558051320314173,-0.9571761584379436,-0.9924811564511132,0.7971918612956219,-0.37130794160576763,-0.2760754290236538,0.6900682486696768,1.5530644454787816,0.4313746272862494,0.606668375448992,-0.1678150518632239,-0.06562136516121853,1.1358032600451677,-1.555216491676847,2.3596114839686897,1.6849126218993657,-1.1076458633876247,0.19152751134038656,-2.418973945595888,0.46641748517612613,-0.21364558612811305,1.1480763571394446,0.059794594708253365,0.42198828304935004,-0.1278335244912023,-0.3434904890462654,0.6386561805665968,-0.14208161537358346,-0.21014682568625534,-1.1515120179039007,0.6423152244432342,0.5385251636516468,-1.2735301704460944,-0.9263130931462031,1.0528723780534726,1.398092729216517,0.7409688920291192,1.5330713382437804,1.2238886674459235,1.3021010010114673,0.9267666640747797,-1.0632816642972323,-0.853609509509939,1.4774215216322193,1.8375264582418434,1.2510879290725092,0.11877753746905721,1.0800394768582156,-1.31790521726136,-1.365923862710278,1.6836138765041453,-0.0050875497121913756,0.14030157148832426,-0.7439091480217016,0.3421569973368127,0.3176875279051301,-0.4658550524900476,1.5083142101265588,0.9342942058681324,0.038805998180403596,-0.5427143810390751,1.8653101105958274,0.9160042953261466,-0.7399792359271136,-1.3913613995497782,-1.3659709922367504,-1.7739464469938493,0.9790656864957751,-0.5645792416112951,1.3080798586746816,-0.3710346468680679,-0.3831733338661221,0.6690962928884536,0.5510184334158387,0.7638864171285927,0.7173354808699728,-0.7350903538128789,1.3679739533904145,-1.6310206244484406,-0.39313156746717626,0.026323629417493655,-1.7894767650578125,-0.7225163772056884,1.9078118752926256,0.7217442983989159],\"type\":\"scatter\"},{\"line\":{\"color\":\"rgba(50, 171, 96, 1.0)\",\"dash\":\"solid\",\"shape\":\"linear\",\"width\":1.3},\"mode\":\"lines\",\"name\":\"C\",\"text\":\"\",\"x\":[0,1,2,3,4,5,6,7,8,9,10,11,12,13,14,15,16,17,18,19,20,21,22,23,24,25,26,27,28,29,30,31,32,33,34,35,36,37,38,39,40,41,42,43,44,45,46,47,48,49,50,51,52,53,54,55,56,57,58,59,60,61,62,63,64,65,66,67,68,69,70,71,72,73,74,75,76,77,78,79,80,81,82,83,84,85,86,87,88,89,90,91,92,93,94,95,96,97,98,99],\"y\":[0.4689665067580521,2.657661785631248,-0.15695404125640144,0.605265196825292,-0.7057374319212296,0.8444309653569217,0.7513210022146437,0.4307395998978597,1.0371730870237932,1.974103854421076,-1.1288760520237493,0.8055315230691629,-1.335601470526402,-0.028547479101887447,0.06747542495281443,-1.1309575553312143,1.6271698811106052,-0.8569455622264276,0.6456922933836641,1.6379346196809164,0.1806495115367449,0.14639348883989947,-1.3552736004820631,-0.119350727088024,-0.3563793145517163,-1.023983797537162,-1.2002930376860392,0.30540079810011533,-0.4761218790211993,0.24257472613728698,-0.3361720751310067,-1.846424890646746,-0.7748643511775507,-0.8618459502950332,2.1193450044927333,0.40496375514144517,-2.9377762864827,-1.8965821460469738,-0.48480046089468737,0.7483102482534699,1.6910057862337557,-1.233714975417407,0.06493475062118555,0.6392015128212213,-0.5899288328143886,-0.728572959023513,0.6113604849908908,1.2054338538568574,0.08020295162428227,2.041858302804547,1.4184034553585103,-0.1719830931621509,-0.6949916357107848,-1.978855890551208,0.6257545974595368,0.8632133760671598,-0.5976588697599662,0.8479532170096117,1.70344793958928,1.1386853529720973,0.8487051642989147,0.968843823916177,0.6957190136412353,0.002582225038355152,-1.4513032950993925,-0.19805787701228872,0.6774343549635712,-1.4327537700193087,0.26411514326036833,-0.33671161663269716,-0.08407330728644541,1.368220600727735,1.645714258578475,-1.384406199597019,0.5083535943892357,-1.0514179180662875,0.7549770555868955,-1.675545109092052,-1.0451488351170122,-2.0614544842966995,0.16982230547273192,1.8251139327360477,0.44986683396737626,0.3939286211800785,-1.114911778732924,-0.4177123875352382,1.108470034084431,0.49834592193931465,-1.9547909952942522,1.176365585897962,-0.029407168874944503,-0.4613577626841192,-1.3451916694004673,0.8821653763967819,-1.173395693010109,0.32036147045809604,-1.2749930918574466,1.9899525192678373,-1.1398903142935857,-0.4968601383846873],\"type\":\"scatter\"},{\"line\":{\"color\":\"rgba(128, 0, 128, 1.0)\",\"dash\":\"solid\",\"shape\":\"linear\",\"width\":1.3},\"mode\":\"lines\",\"name\":\"D\",\"text\":\"\",\"x\":[0,1,2,3,4,5,6,7,8,9,10,11,12,13,14,15,16,17,18,19,20,21,22,23,24,25,26,27,28,29,30,31,32,33,34,35,36,37,38,39,40,41,42,43,44,45,46,47,48,49,50,51,52,53,54,55,56,57,58,59,60,61,62,63,64,65,66,67,68,69,70,71,72,73,74,75,76,77,78,79,80,81,82,83,84,85,86,87,88,89,90,91,92,93,94,95,96,97,98,99],\"y\":[1.0085964341555844,-1.2269753588859271,-1.5097988830045546,-0.5957249513887795,-0.957292708169662,0.37925034902571103,0.6390786863933957,-1.4278468527458785,1.1554198868405157,1.4835710039569256,-1.8617930501549576,1.0549386258229976,-0.597880076754315,0.5091114140451493,-0.4236008265812986,2.0422230963736423,-1.5944447623816826,1.0046933857435616,-1.346948771912937,-0.4780454082197933,-0.1293847086726596,0.047109012029019515,0.5254822345724128,0.822192262412065,1.4459759780435455,0.9115178242482179,0.09163585118157323,-0.4333767970305198,-0.25317827633395823,1.251941966515613,-0.48504486193858026,1.4155994216269399,-0.08942120600242834,0.018129302526952513,0.09538400771573545,0.14635880217596137,-0.03521929132626436,0.9464919018571304,-1.0298398614208712,1.1468853072362954,-0.28638870472181804,-2.312265561373491,1.0994685942927933,1.9323478853341507,1.285517116893445,-0.6561135953456818,0.613382362747721,0.294912843507637,0.501579060503352,2.0601536753961205,0.09031593286671273,-2.1116352492033665,1.14479295440716,1.6482467822786142,-0.23688476995824312,-2.483168964360678,1.7393690105774773,-0.7528532600045252,0.549850368149912,1.6092665516046354,1.1245463956901984,-0.25960022308154207,-0.894525142137224,-0.44335753624262075,-0.4953186258903264,0.44862293242002454,0.5076707606831699,-0.8234639692664324,-0.1825116567135101,0.6165168690298184,-0.7441595984799642,-1.2644685398119577,1.9473943153893534,0.8716113455957312,1.4056319769016397,0.18172623584949632,-0.34499946405601095,0.7016813836505776,0.5675933797489788,-0.0634524470695323,1.6698437842254625,-0.2589095268265948,0.39291905061572424,-2.3753214718334985,-0.44280955514871473,-0.06627116150696902,0.5600957537663671,-0.9066305671341511,0.8827050851394105,0.19517323025462843,0.2499217272758512,0.21879809967016942,-0.31226846868748914,-1.7337764797766497,0.8209083232667705,-0.42547099701212215,-0.09310701732516485,0.3629058590313021,0.1407115006202667,0.876168071097411],\"type\":\"scatter\"},{\"connectgaps\":false,\"fill\":\"tozeroy\",\"line\":{\"color\":\"green\",\"dash\":\"solid\",\"shape\":\"linear\",\"width\":0.5},\"mode\":\"lines\",\"name\":\"Spread\",\"showlegend\":false,\"x\":[0,1,2,3,4,5,6,7,8,9,10,11,12,13,14,15,16,17,18,19,20,21,22,23,24,25,26,27,28,29,30,31,32,33,34,35,36,37,38,39,40,41,42,43,44,45,46,47,48,49,50,51,52,53,54,55,56,57,58,59,60,61,62,63,64,65,66,67,68,69,70,71,72,73,74,75,76,77,78,79,80,81,82,83,84,85,86,87,88,89,90,91,92,93,94,95,96,97,98,99],\"xaxis\":\"x2\",\"y\":[\"\",1.6775422540136893,0.3581382365453748,0.8533763550260192,3.428022128790028,\"\",\"\",0.19969746306810698,2.532439021518897,\"\",\"\",\"\",\"\",\"\",\"\",0.3392125546806698,0.31019085261279367,0.12246984588041643,\"\",1.3793808525518698,1.6373411059683245,\"\",\"\",\"\",\"\",1.276850363670299,\"\",\"\",1.3849636964196348,\"\",\"\",\"\",1.2551860571856939,2.1622788997914912,\"\",\"\",\"\",1.0405215963473515,\"\",1.0624468509116394,0.8493158473270037,0.05385164477567761,2.0836848693579317,\"\",1.825361584403651,\"\",\"\",1.1413055837402302,0.21662049180786214,0.017534675360106,\"\",0.3937326825116493,0.20638444368351805,\"\",\"\",\"\",0.34233801416176646,0.486533238552149,\"\",\"\",0.015450963680458063,1.0006888624575232,\"\",1.7163125916880244,2.260460760880839,\"\",\"\",\"\",1.4647868009802676,0.40168057727543616,\"\",1.4703237655064885,\"\",\"\",0.5378848876292859,0.6876057879116193,\"\",\"\",\"\",2.7853958193908643,\"\",0.17560210450530223,\"\",1.6893565961115269,\"\",\"\",0.7614817952796625,0.2841463424304924,\"\",0.2921388814894429,\"\",0.25819397719862197,\"\",2.087592681942991,0.3812715306949149,\"\",2.334951342155442,\"\",\"\",\"\"],\"yaxis\":\"y2\",\"type\":\"scatter\"},{\"connectgaps\":false,\"fill\":\"tozeroy\",\"line\":{\"color\":\"red\",\"dash\":\"solid\",\"shape\":\"linear\",\"width\":0.5},\"mode\":\"lines\",\"name\":\"Spread\",\"showlegend\":false,\"x\":[0,1,2,3,4,5,6,7,8,9,10,11,12,13,14,15,16,17,18,19,20,21,22,23,24,25,26,27,28,29,30,31,32,33,34,35,36,37,38,39,40,41,42,43,44,45,46,47,48,49,50,51,52,53,54,55,56,57,58,59,60,61,62,63,64,65,66,67,68,69,70,71,72,73,74,75,76,77,78,79,80,81,82,83,84,85,86,87,88,89,90,91,92,93,94,95,96,97,98,99],\"xaxis\":\"x2\",\"y\":[-3.015693970970346,\"\",\"\",\"\",\"\",-0.3076877387601085,-0.149865189461452,\"\",\"\",-2.1602658634415666,-0.3340179446847345,-0.1794163036424023,-0.056158451099001194,-0.6991514850587328,-1.0692100392814834,\"\",\"\",\"\",-0.05200026471197772,\"\",\"\",-1.1539536833354562,-3.178320088972738,-1.3634971732791685,-0.4414611641698585,\"\",-0.10919321842618754,-2.760229932330106,\"\",-1.7904043061473374,-3.537155585026035,-0.7197616900985071,\"\",\"\",-0.7811530995189306,-1.1787839803238773,-2.666399097322609,\"\",-1.7463055380796542,\"\",\"\",\"\",\"\",-0.9371268368005798,\"\",-1.1196870698042338,-2.179741498843598,\"\",\"\",\"\",-1.757671028502869,\"\",\"\",-1.1174062842493189,-2.512541978501284,-1.1461211934452902,\"\",\"\",-1.89113105094254,-1.979549593320947,\"\",\"\",-2.3225685103346736,\"\",\"\",-2.640799770941526,-0.45823272795082104,-1.1115027947958285,\"\",\"\",-1.6203391014451614,\"\",-1.8523333827682724,-0.5557284144060823,\"\",\"\",-1.362261375004354,-0.7494398880295257,-0.30406147643430037,\"\",-0.5298905010578967,\"\",-0.3599684212785901,\"\",-2.021245140734995,-0.35490948564335084,\"\",\"\",-1.6375623072868182,\"\",-1.632597848492887,\"\",-2.941082918438351,\"\",\"\",-0.7517749830283013,\"\",-0.9472983090654976,-0.3685110804259075,-0.4366222800131108],\"yaxis\":\"y2\",\"type\":\"scatter\"}],                        {\"hovermode\":\"x\",\"legend\":{\"bgcolor\":\"#F5F6F9\",\"font\":{\"color\":\"#4D5663\"}},\"paper_bgcolor\":\"#F5F6F9\",\"plot_bgcolor\":\"#F5F6F9\",\"template\":{\"data\":{\"barpolar\":[{\"marker\":{\"line\":{\"color\":\"#E5ECF6\",\"width\":0.5},\"pattern\":{\"fillmode\":\"overlay\",\"size\":10,\"solidity\":0.2}},\"type\":\"barpolar\"}],\"bar\":[{\"error_x\":{\"color\":\"#2a3f5f\"},\"error_y\":{\"color\":\"#2a3f5f\"},\"marker\":{\"line\":{\"color\":\"#E5ECF6\",\"width\":0.5},\"pattern\":{\"fillmode\":\"overlay\",\"size\":10,\"solidity\":0.2}},\"type\":\"bar\"}],\"carpet\":[{\"aaxis\":{\"endlinecolor\":\"#2a3f5f\",\"gridcolor\":\"white\",\"linecolor\":\"white\",\"minorgridcolor\":\"white\",\"startlinecolor\":\"#2a3f5f\"},\"baxis\":{\"endlinecolor\":\"#2a3f5f\",\"gridcolor\":\"white\",\"linecolor\":\"white\",\"minorgridcolor\":\"white\",\"startlinecolor\":\"#2a3f5f\"},\"type\":\"carpet\"}],\"choropleth\":[{\"colorbar\":{\"outlinewidth\":0,\"ticks\":\"\"},\"type\":\"choropleth\"}],\"contourcarpet\":[{\"colorbar\":{\"outlinewidth\":0,\"ticks\":\"\"},\"type\":\"contourcarpet\"}],\"contour\":[{\"colorbar\":{\"outlinewidth\":0,\"ticks\":\"\"},\"colorscale\":[[0.0,\"#0d0887\"],[0.1111111111111111,\"#46039f\"],[0.2222222222222222,\"#7201a8\"],[0.3333333333333333,\"#9c179e\"],[0.4444444444444444,\"#bd3786\"],[0.5555555555555556,\"#d8576b\"],[0.6666666666666666,\"#ed7953\"],[0.7777777777777778,\"#fb9f3a\"],[0.8888888888888888,\"#fdca26\"],[1.0,\"#f0f921\"]],\"type\":\"contour\"}],\"heatmapgl\":[{\"colorbar\":{\"outlinewidth\":0,\"ticks\":\"\"},\"colorscale\":[[0.0,\"#0d0887\"],[0.1111111111111111,\"#46039f\"],[0.2222222222222222,\"#7201a8\"],[0.3333333333333333,\"#9c179e\"],[0.4444444444444444,\"#bd3786\"],[0.5555555555555556,\"#d8576b\"],[0.6666666666666666,\"#ed7953\"],[0.7777777777777778,\"#fb9f3a\"],[0.8888888888888888,\"#fdca26\"],[1.0,\"#f0f921\"]],\"type\":\"heatmapgl\"}],\"heatmap\":[{\"colorbar\":{\"outlinewidth\":0,\"ticks\":\"\"},\"colorscale\":[[0.0,\"#0d0887\"],[0.1111111111111111,\"#46039f\"],[0.2222222222222222,\"#7201a8\"],[0.3333333333333333,\"#9c179e\"],[0.4444444444444444,\"#bd3786\"],[0.5555555555555556,\"#d8576b\"],[0.6666666666666666,\"#ed7953\"],[0.7777777777777778,\"#fb9f3a\"],[0.8888888888888888,\"#fdca26\"],[1.0,\"#f0f921\"]],\"type\":\"heatmap\"}],\"histogram2dcontour\":[{\"colorbar\":{\"outlinewidth\":0,\"ticks\":\"\"},\"colorscale\":[[0.0,\"#0d0887\"],[0.1111111111111111,\"#46039f\"],[0.2222222222222222,\"#7201a8\"],[0.3333333333333333,\"#9c179e\"],[0.4444444444444444,\"#bd3786\"],[0.5555555555555556,\"#d8576b\"],[0.6666666666666666,\"#ed7953\"],[0.7777777777777778,\"#fb9f3a\"],[0.8888888888888888,\"#fdca26\"],[1.0,\"#f0f921\"]],\"type\":\"histogram2dcontour\"}],\"histogram2d\":[{\"colorbar\":{\"outlinewidth\":0,\"ticks\":\"\"},\"colorscale\":[[0.0,\"#0d0887\"],[0.1111111111111111,\"#46039f\"],[0.2222222222222222,\"#7201a8\"],[0.3333333333333333,\"#9c179e\"],[0.4444444444444444,\"#bd3786\"],[0.5555555555555556,\"#d8576b\"],[0.6666666666666666,\"#ed7953\"],[0.7777777777777778,\"#fb9f3a\"],[0.8888888888888888,\"#fdca26\"],[1.0,\"#f0f921\"]],\"type\":\"histogram2d\"}],\"histogram\":[{\"marker\":{\"pattern\":{\"fillmode\":\"overlay\",\"size\":10,\"solidity\":0.2}},\"type\":\"histogram\"}],\"mesh3d\":[{\"colorbar\":{\"outlinewidth\":0,\"ticks\":\"\"},\"type\":\"mesh3d\"}],\"parcoords\":[{\"line\":{\"colorbar\":{\"outlinewidth\":0,\"ticks\":\"\"}},\"type\":\"parcoords\"}],\"pie\":[{\"automargin\":true,\"type\":\"pie\"}],\"scatter3d\":[{\"line\":{\"colorbar\":{\"outlinewidth\":0,\"ticks\":\"\"}},\"marker\":{\"colorbar\":{\"outlinewidth\":0,\"ticks\":\"\"}},\"type\":\"scatter3d\"}],\"scattercarpet\":[{\"marker\":{\"colorbar\":{\"outlinewidth\":0,\"ticks\":\"\"}},\"type\":\"scattercarpet\"}],\"scattergeo\":[{\"marker\":{\"colorbar\":{\"outlinewidth\":0,\"ticks\":\"\"}},\"type\":\"scattergeo\"}],\"scattergl\":[{\"marker\":{\"colorbar\":{\"outlinewidth\":0,\"ticks\":\"\"}},\"type\":\"scattergl\"}],\"scattermapbox\":[{\"marker\":{\"colorbar\":{\"outlinewidth\":0,\"ticks\":\"\"}},\"type\":\"scattermapbox\"}],\"scatterpolargl\":[{\"marker\":{\"colorbar\":{\"outlinewidth\":0,\"ticks\":\"\"}},\"type\":\"scatterpolargl\"}],\"scatterpolar\":[{\"marker\":{\"colorbar\":{\"outlinewidth\":0,\"ticks\":\"\"}},\"type\":\"scatterpolar\"}],\"scatter\":[{\"marker\":{\"colorbar\":{\"outlinewidth\":0,\"ticks\":\"\"}},\"type\":\"scatter\"}],\"scatterternary\":[{\"marker\":{\"colorbar\":{\"outlinewidth\":0,\"ticks\":\"\"}},\"type\":\"scatterternary\"}],\"surface\":[{\"colorbar\":{\"outlinewidth\":0,\"ticks\":\"\"},\"colorscale\":[[0.0,\"#0d0887\"],[0.1111111111111111,\"#46039f\"],[0.2222222222222222,\"#7201a8\"],[0.3333333333333333,\"#9c179e\"],[0.4444444444444444,\"#bd3786\"],[0.5555555555555556,\"#d8576b\"],[0.6666666666666666,\"#ed7953\"],[0.7777777777777778,\"#fb9f3a\"],[0.8888888888888888,\"#fdca26\"],[1.0,\"#f0f921\"]],\"type\":\"surface\"}],\"table\":[{\"cells\":{\"fill\":{\"color\":\"#EBF0F8\"},\"line\":{\"color\":\"white\"}},\"header\":{\"fill\":{\"color\":\"#C8D4E3\"},\"line\":{\"color\":\"white\"}},\"type\":\"table\"}]},\"layout\":{\"annotationdefaults\":{\"arrowcolor\":\"#2a3f5f\",\"arrowhead\":0,\"arrowwidth\":1},\"autotypenumbers\":\"strict\",\"coloraxis\":{\"colorbar\":{\"outlinewidth\":0,\"ticks\":\"\"}},\"colorscale\":{\"diverging\":[[0,\"#8e0152\"],[0.1,\"#c51b7d\"],[0.2,\"#de77ae\"],[0.3,\"#f1b6da\"],[0.4,\"#fde0ef\"],[0.5,\"#f7f7f7\"],[0.6,\"#e6f5d0\"],[0.7,\"#b8e186\"],[0.8,\"#7fbc41\"],[0.9,\"#4d9221\"],[1,\"#276419\"]],\"sequential\":[[0.0,\"#0d0887\"],[0.1111111111111111,\"#46039f\"],[0.2222222222222222,\"#7201a8\"],[0.3333333333333333,\"#9c179e\"],[0.4444444444444444,\"#bd3786\"],[0.5555555555555556,\"#d8576b\"],[0.6666666666666666,\"#ed7953\"],[0.7777777777777778,\"#fb9f3a\"],[0.8888888888888888,\"#fdca26\"],[1.0,\"#f0f921\"]],\"sequentialminus\":[[0.0,\"#0d0887\"],[0.1111111111111111,\"#46039f\"],[0.2222222222222222,\"#7201a8\"],[0.3333333333333333,\"#9c179e\"],[0.4444444444444444,\"#bd3786\"],[0.5555555555555556,\"#d8576b\"],[0.6666666666666666,\"#ed7953\"],[0.7777777777777778,\"#fb9f3a\"],[0.8888888888888888,\"#fdca26\"],[1.0,\"#f0f921\"]]},\"colorway\":[\"#636efa\",\"#EF553B\",\"#00cc96\",\"#ab63fa\",\"#FFA15A\",\"#19d3f3\",\"#FF6692\",\"#B6E880\",\"#FF97FF\",\"#FECB52\"],\"font\":{\"color\":\"#2a3f5f\"},\"geo\":{\"bgcolor\":\"white\",\"lakecolor\":\"white\",\"landcolor\":\"#E5ECF6\",\"showlakes\":true,\"showland\":true,\"subunitcolor\":\"white\"},\"hoverlabel\":{\"align\":\"left\"},\"hovermode\":\"closest\",\"mapbox\":{\"style\":\"light\"},\"paper_bgcolor\":\"white\",\"plot_bgcolor\":\"#E5ECF6\",\"polar\":{\"angularaxis\":{\"gridcolor\":\"white\",\"linecolor\":\"white\",\"ticks\":\"\"},\"bgcolor\":\"#E5ECF6\",\"radialaxis\":{\"gridcolor\":\"white\",\"linecolor\":\"white\",\"ticks\":\"\"}},\"scene\":{\"xaxis\":{\"backgroundcolor\":\"#E5ECF6\",\"gridcolor\":\"white\",\"gridwidth\":2,\"linecolor\":\"white\",\"showbackground\":true,\"ticks\":\"\",\"zerolinecolor\":\"white\"},\"yaxis\":{\"backgroundcolor\":\"#E5ECF6\",\"gridcolor\":\"white\",\"gridwidth\":2,\"linecolor\":\"white\",\"showbackground\":true,\"ticks\":\"\",\"zerolinecolor\":\"white\"},\"zaxis\":{\"backgroundcolor\":\"#E5ECF6\",\"gridcolor\":\"white\",\"gridwidth\":2,\"linecolor\":\"white\",\"showbackground\":true,\"ticks\":\"\",\"zerolinecolor\":\"white\"}},\"shapedefaults\":{\"line\":{\"color\":\"#2a3f5f\"}},\"ternary\":{\"aaxis\":{\"gridcolor\":\"white\",\"linecolor\":\"white\",\"ticks\":\"\"},\"baxis\":{\"gridcolor\":\"white\",\"linecolor\":\"white\",\"ticks\":\"\"},\"bgcolor\":\"#E5ECF6\",\"caxis\":{\"gridcolor\":\"white\",\"linecolor\":\"white\",\"ticks\":\"\"}},\"title\":{\"x\":0.05},\"xaxis\":{\"automargin\":true,\"gridcolor\":\"white\",\"linecolor\":\"white\",\"ticks\":\"\",\"title\":{\"standoff\":15},\"zerolinecolor\":\"white\",\"zerolinewidth\":2},\"yaxis\":{\"automargin\":true,\"gridcolor\":\"white\",\"linecolor\":\"white\",\"ticks\":\"\",\"title\":{\"standoff\":15},\"zerolinecolor\":\"white\",\"zerolinewidth\":2}}},\"title\":{\"font\":{\"color\":\"#4D5663\"}},\"xaxis\":{\"gridcolor\":\"#E1E5ED\",\"showgrid\":true,\"tickfont\":{\"color\":\"#4D5663\"},\"title\":{\"font\":{\"color\":\"#4D5663\"},\"text\":\"\"},\"zerolinecolor\":\"#E1E5ED\"},\"yaxis\":{\"domain\":[0.3,1],\"gridcolor\":\"#E1E5ED\",\"showgrid\":true,\"tickfont\":{\"color\":\"#4D5663\"},\"title\":{\"font\":{\"color\":\"#4D5663\"},\"text\":\"\"},\"zerolinecolor\":\"#E1E5ED\"},\"yaxis2\":{\"domain\":[0,0.25],\"gridcolor\":\"#E1E5ED\",\"showgrid\":true,\"tickfont\":{\"color\":\"#4D5663\"},\"title\":{\"font\":{\"color\":\"#4D5663\"},\"text\":\"Spread\"},\"zerolinecolor\":\"#E1E5ED\"},\"xaxis2\":{\"anchor\":\"y2\",\"gridcolor\":\"#E1E5ED\",\"showgrid\":true,\"showticklabels\":false,\"tickfont\":{\"color\":\"#4D5663\"},\"title\":{\"font\":{\"color\":\"#4D5663\"},\"text\":\"\"},\"zerolinecolor\":\"#E1E5ED\"}},                        {\"showLink\": true, \"linkText\": \"Export to plot.ly\", \"plotlyServerURL\": \"https://plot.ly\", \"responsive\": true}                    ).then(function(){\n",
       "                            \n",
       "var gd = document.getElementById('5bdea842-e8fc-4e39-8b1f-b442ee836f28');\n",
       "var x = new MutationObserver(function (mutations, observer) {{\n",
       "        var display = window.getComputedStyle(gd).display;\n",
       "        if (!display || display === 'none') {{\n",
       "            console.log([gd, 'removed!']);\n",
       "            Plotly.purge(gd);\n",
       "            observer.disconnect();\n",
       "        }}\n",
       "}});\n",
       "\n",
       "// Listen for the removal of the full notebook cells\n",
       "var notebookContainer = gd.closest('#notebook-container');\n",
       "if (notebookContainer) {{\n",
       "    x.observe(notebookContainer, {childList: true});\n",
       "}}\n",
       "\n",
       "// Listen for the clearing of the current output cell\n",
       "var outputEl = gd.closest('.output');\n",
       "if (outputEl) {{\n",
       "    x.observe(outputEl, {childList: true});\n",
       "}}\n",
       "\n",
       "                        })                };                });            </script>        </div>"
      ]
     },
     "metadata": {},
     "output_type": "display_data"
    }
   ],
   "source": [
    "df.iplot(kind='spread')"
   ]
  },
  {
   "cell_type": "markdown",
   "id": "ed7eb32e",
   "metadata": {},
   "source": [
    "Bubble is similar to scatter plot, except that it will change size of the points based off another variable.\n",
    "\n",
    "Application: World GDP, population, happiness factors, etc."
   ]
  },
  {
   "cell_type": "code",
   "execution_count": 81,
   "id": "9494d521",
   "metadata": {},
   "outputs": [
    {
     "data": {
      "application/vnd.plotly.v1+json": {
       "config": {
        "linkText": "Export to plot.ly",
        "plotlyServerURL": "https://plot.ly",
        "showLink": true
       },
       "data": [
        {
         "marker": {
          "color": [
           "rgb(255, 153, 51)",
           "rgb(55, 128, 191)",
           "rgb(50, 171, 96)",
           "rgb(128, 0, 128)",
           "rgb(219, 64, 82)",
           "rgb(0, 128, 128)",
           "rgb(255, 255, 51)",
           "rgb(128, 128, 0)",
           "rgb(251, 128, 114)",
           "rgb(128, 177, 211)"
          ],
          "line": {
           "width": 1.3
          },
          "size": [
           72,
           111,
           61,
           75,
           51,
           79,
           77,
           72,
           83,
           99,
           44,
           78,
           40,
           63,
           65,
           44,
           93,
           49,
           76,
           93,
           67,
           67,
           40,
           62,
           58,
           46,
           43,
           69,
           55,
           68,
           58,
           31,
           50,
           49,
           102,
           71,
           12,
           30,
           55,
           77,
           94,
           42,
           65,
           75,
           53,
           51,
           75,
           86,
           65,
           100,
           89,
           61,
           52,
           29,
           75,
           79,
           53,
           79,
           94,
           84,
           79,
           81,
           76,
           64,
           38,
           60,
           76,
           38,
           69,
           58,
           63,
           88,
           93,
           39,
           73,
           45,
           77,
           34,
           45,
           27,
           67,
           97,
           72,
           71,
           44,
           57,
           84,
           73,
           29,
           85,
           63,
           56,
           40,
           80,
           43,
           70,
           41,
           100,
           44,
           55
          ],
          "symbol": "circle"
         },
         "mode": "markers",
         "text": "",
         "type": "scatter",
         "x": [
          -0.6123213313638834,
          1.3594760586323038,
          0.7157028374769693,
          0.7428268604041767,
          1.4387038289767837,
          -0.18659775442196597,
          1.4732645597761136,
          -1.0063295388071447,
          1.056092961661525,
          -2.47632273602315,
          -0.635452318342618,
          -0.44341162530791667,
          0.8603466277919531,
          0.07446614932749684,
          -0.1331131522466488,
          0.9950176867120871,
          -0.6469853058251499,
          -0.8700113105706968,
          0.7451915965836442,
          1.0080729109461022,
          1.3612656769446707,
          -0.46388543466577953,
          -1.6252556434939562,
          -0.9321225459929191,
          0.16520721127913351,
          1.109035311807075,
          -0.17481458358740606,
          -1.624426672284938,
          -0.1702527952572121,
          0.5692071778213524,
          -1.8522429631266695,
          -1.8274075534861318,
          1.4467135685260804,
          -0.2566950458043969,
          -0.31473561434280445,
          -1.3924295664519903,
          -1.5183227401831643,
          1.100316191055605,
          -1.3243172550303042,
          0.934613326420437,
          0.5058253582807383,
          0.6925078253422744,
          1.9416032539843482,
          -1.1472736624868352,
          0.6738495664997504,
          -0.47737184536099964,
          -1.641216335191951,
          -0.13222458670586418,
          -0.709692601338341,
          1.0704070534135786,
          -0.35957829928635193,
          1.1347015745407685,
          1.7394557819272984,
          0.10648238319660469,
          -1.2104409774898166,
          -0.21935452937051048,
          -0.7209436501354658,
          -0.36707627095778994,
          -0.4137095293103209,
          -0.14202313507910364,
          1.2665388927529673,
          1.1194663999265804,
          -1.2425290334764583,
          0.39840737442666446,
          0.8945368981705608,
          -0.9571858944373809,
          -0.4633202776630124,
          -0.9712012233075042,
          0.7208776529585661,
          0.7438375746122489,
          -1.3026515735400312,
          1.004468713016441,
          -0.34401917264171356,
          0.37856579146205005,
          0.5766908858096895,
          0.14489140687254426,
          0.5030487355914735,
          0.16656440729662095,
          -1.044040712361414,
          1.3940344198410861,
          -1.8958614932946471,
          -1.598344342488547,
          0.619097265217185,
          1.1247773545002318,
          -0.7131652820603137,
          -0.7259441325114188,
          0.3783084614135404,
          0.953242635318946,
          -1.0865438738709796,
          1.0560252986180356,
          -0.9152623676229141,
          -0.47689637661425693,
          -1.5731089650479364,
          0.45657205749455,
          -0.011860036772261388,
          -0.7254513536108076,
          0.5454745770976296,
          -1.669814686271186,
          1.5393007948667181,
          0.28512201838580503
         ],
         "y": [
          2.4033726396064625,
          -0.3180661953813854,
          0.3575646009315945,
          -0.1105494946218425,
          -1.9893182998132442,
          0.12108998433814257,
          1.6231297492375656,
          -1.2060270018752517,
          -1.4763460598573717,
          -0.31605687258158366,
          -0.30143437365788345,
          -0.26399532166551437,
          0.9165050788909543,
          0.7736176343862297,
          0.9360968870348345,
          0.6558051320314173,
          -0.9571761584379436,
          -0.9924811564511132,
          0.7971918612956219,
          -0.37130794160576763,
          -0.2760754290236538,
          0.6900682486696768,
          1.5530644454787816,
          0.4313746272862494,
          0.606668375448992,
          -0.1678150518632239,
          -0.06562136516121853,
          1.1358032600451677,
          -1.555216491676847,
          2.3596114839686897,
          1.6849126218993657,
          -1.1076458633876247,
          0.19152751134038656,
          -2.418973945595888,
          0.46641748517612613,
          -0.21364558612811305,
          1.1480763571394446,
          0.059794594708253365,
          0.42198828304935004,
          -0.1278335244912023,
          -0.3434904890462654,
          0.6386561805665968,
          -0.14208161537358346,
          -0.21014682568625534,
          -1.1515120179039007,
          0.6423152244432342,
          0.5385251636516468,
          -1.2735301704460944,
          -0.9263130931462031,
          1.0528723780534726,
          1.398092729216517,
          0.7409688920291192,
          1.5330713382437804,
          1.2238886674459235,
          1.3021010010114673,
          0.9267666640747797,
          -1.0632816642972323,
          -0.853609509509939,
          1.4774215216322193,
          1.8375264582418434,
          1.2510879290725092,
          0.11877753746905721,
          1.0800394768582156,
          -1.31790521726136,
          -1.365923862710278,
          1.6836138765041453,
          -0.0050875497121913756,
          0.14030157148832426,
          -0.7439091480217016,
          0.3421569973368127,
          0.3176875279051301,
          -0.4658550524900476,
          1.5083142101265588,
          0.9342942058681324,
          0.038805998180403596,
          -0.5427143810390751,
          1.8653101105958274,
          0.9160042953261466,
          -0.7399792359271136,
          -1.3913613995497782,
          -1.3659709922367504,
          -1.7739464469938493,
          0.9790656864957751,
          -0.5645792416112951,
          1.3080798586746816,
          -0.3710346468680679,
          -0.3831733338661221,
          0.6690962928884536,
          0.5510184334158387,
          0.7638864171285927,
          0.7173354808699728,
          -0.7350903538128789,
          1.3679739533904145,
          -1.6310206244484406,
          -0.39313156746717626,
          0.026323629417493655,
          -1.7894767650578125,
          -0.7225163772056884,
          1.9078118752926256,
          0.7217442983989159
         ]
        }
       ],
       "layout": {
        "legend": {
         "bgcolor": "#F5F6F9",
         "font": {
          "color": "#4D5663"
         }
        },
        "paper_bgcolor": "#F5F6F9",
        "plot_bgcolor": "#F5F6F9",
        "template": {
         "data": {
          "bar": [
           {
            "error_x": {
             "color": "#2a3f5f"
            },
            "error_y": {
             "color": "#2a3f5f"
            },
            "marker": {
             "line": {
              "color": "#E5ECF6",
              "width": 0.5
             },
             "pattern": {
              "fillmode": "overlay",
              "size": 10,
              "solidity": 0.2
             }
            },
            "type": "bar"
           }
          ],
          "barpolar": [
           {
            "marker": {
             "line": {
              "color": "#E5ECF6",
              "width": 0.5
             },
             "pattern": {
              "fillmode": "overlay",
              "size": 10,
              "solidity": 0.2
             }
            },
            "type": "barpolar"
           }
          ],
          "carpet": [
           {
            "aaxis": {
             "endlinecolor": "#2a3f5f",
             "gridcolor": "white",
             "linecolor": "white",
             "minorgridcolor": "white",
             "startlinecolor": "#2a3f5f"
            },
            "baxis": {
             "endlinecolor": "#2a3f5f",
             "gridcolor": "white",
             "linecolor": "white",
             "minorgridcolor": "white",
             "startlinecolor": "#2a3f5f"
            },
            "type": "carpet"
           }
          ],
          "choropleth": [
           {
            "colorbar": {
             "outlinewidth": 0,
             "ticks": ""
            },
            "type": "choropleth"
           }
          ],
          "contour": [
           {
            "colorbar": {
             "outlinewidth": 0,
             "ticks": ""
            },
            "colorscale": [
             [
              0,
              "#0d0887"
             ],
             [
              0.1111111111111111,
              "#46039f"
             ],
             [
              0.2222222222222222,
              "#7201a8"
             ],
             [
              0.3333333333333333,
              "#9c179e"
             ],
             [
              0.4444444444444444,
              "#bd3786"
             ],
             [
              0.5555555555555556,
              "#d8576b"
             ],
             [
              0.6666666666666666,
              "#ed7953"
             ],
             [
              0.7777777777777778,
              "#fb9f3a"
             ],
             [
              0.8888888888888888,
              "#fdca26"
             ],
             [
              1,
              "#f0f921"
             ]
            ],
            "type": "contour"
           }
          ],
          "contourcarpet": [
           {
            "colorbar": {
             "outlinewidth": 0,
             "ticks": ""
            },
            "type": "contourcarpet"
           }
          ],
          "heatmap": [
           {
            "colorbar": {
             "outlinewidth": 0,
             "ticks": ""
            },
            "colorscale": [
             [
              0,
              "#0d0887"
             ],
             [
              0.1111111111111111,
              "#46039f"
             ],
             [
              0.2222222222222222,
              "#7201a8"
             ],
             [
              0.3333333333333333,
              "#9c179e"
             ],
             [
              0.4444444444444444,
              "#bd3786"
             ],
             [
              0.5555555555555556,
              "#d8576b"
             ],
             [
              0.6666666666666666,
              "#ed7953"
             ],
             [
              0.7777777777777778,
              "#fb9f3a"
             ],
             [
              0.8888888888888888,
              "#fdca26"
             ],
             [
              1,
              "#f0f921"
             ]
            ],
            "type": "heatmap"
           }
          ],
          "heatmapgl": [
           {
            "colorbar": {
             "outlinewidth": 0,
             "ticks": ""
            },
            "colorscale": [
             [
              0,
              "#0d0887"
             ],
             [
              0.1111111111111111,
              "#46039f"
             ],
             [
              0.2222222222222222,
              "#7201a8"
             ],
             [
              0.3333333333333333,
              "#9c179e"
             ],
             [
              0.4444444444444444,
              "#bd3786"
             ],
             [
              0.5555555555555556,
              "#d8576b"
             ],
             [
              0.6666666666666666,
              "#ed7953"
             ],
             [
              0.7777777777777778,
              "#fb9f3a"
             ],
             [
              0.8888888888888888,
              "#fdca26"
             ],
             [
              1,
              "#f0f921"
             ]
            ],
            "type": "heatmapgl"
           }
          ],
          "histogram": [
           {
            "marker": {
             "pattern": {
              "fillmode": "overlay",
              "size": 10,
              "solidity": 0.2
             }
            },
            "type": "histogram"
           }
          ],
          "histogram2d": [
           {
            "colorbar": {
             "outlinewidth": 0,
             "ticks": ""
            },
            "colorscale": [
             [
              0,
              "#0d0887"
             ],
             [
              0.1111111111111111,
              "#46039f"
             ],
             [
              0.2222222222222222,
              "#7201a8"
             ],
             [
              0.3333333333333333,
              "#9c179e"
             ],
             [
              0.4444444444444444,
              "#bd3786"
             ],
             [
              0.5555555555555556,
              "#d8576b"
             ],
             [
              0.6666666666666666,
              "#ed7953"
             ],
             [
              0.7777777777777778,
              "#fb9f3a"
             ],
             [
              0.8888888888888888,
              "#fdca26"
             ],
             [
              1,
              "#f0f921"
             ]
            ],
            "type": "histogram2d"
           }
          ],
          "histogram2dcontour": [
           {
            "colorbar": {
             "outlinewidth": 0,
             "ticks": ""
            },
            "colorscale": [
             [
              0,
              "#0d0887"
             ],
             [
              0.1111111111111111,
              "#46039f"
             ],
             [
              0.2222222222222222,
              "#7201a8"
             ],
             [
              0.3333333333333333,
              "#9c179e"
             ],
             [
              0.4444444444444444,
              "#bd3786"
             ],
             [
              0.5555555555555556,
              "#d8576b"
             ],
             [
              0.6666666666666666,
              "#ed7953"
             ],
             [
              0.7777777777777778,
              "#fb9f3a"
             ],
             [
              0.8888888888888888,
              "#fdca26"
             ],
             [
              1,
              "#f0f921"
             ]
            ],
            "type": "histogram2dcontour"
           }
          ],
          "mesh3d": [
           {
            "colorbar": {
             "outlinewidth": 0,
             "ticks": ""
            },
            "type": "mesh3d"
           }
          ],
          "parcoords": [
           {
            "line": {
             "colorbar": {
              "outlinewidth": 0,
              "ticks": ""
             }
            },
            "type": "parcoords"
           }
          ],
          "pie": [
           {
            "automargin": true,
            "type": "pie"
           }
          ],
          "scatter": [
           {
            "marker": {
             "colorbar": {
              "outlinewidth": 0,
              "ticks": ""
             }
            },
            "type": "scatter"
           }
          ],
          "scatter3d": [
           {
            "line": {
             "colorbar": {
              "outlinewidth": 0,
              "ticks": ""
             }
            },
            "marker": {
             "colorbar": {
              "outlinewidth": 0,
              "ticks": ""
             }
            },
            "type": "scatter3d"
           }
          ],
          "scattercarpet": [
           {
            "marker": {
             "colorbar": {
              "outlinewidth": 0,
              "ticks": ""
             }
            },
            "type": "scattercarpet"
           }
          ],
          "scattergeo": [
           {
            "marker": {
             "colorbar": {
              "outlinewidth": 0,
              "ticks": ""
             }
            },
            "type": "scattergeo"
           }
          ],
          "scattergl": [
           {
            "marker": {
             "colorbar": {
              "outlinewidth": 0,
              "ticks": ""
             }
            },
            "type": "scattergl"
           }
          ],
          "scattermapbox": [
           {
            "marker": {
             "colorbar": {
              "outlinewidth": 0,
              "ticks": ""
             }
            },
            "type": "scattermapbox"
           }
          ],
          "scatterpolar": [
           {
            "marker": {
             "colorbar": {
              "outlinewidth": 0,
              "ticks": ""
             }
            },
            "type": "scatterpolar"
           }
          ],
          "scatterpolargl": [
           {
            "marker": {
             "colorbar": {
              "outlinewidth": 0,
              "ticks": ""
             }
            },
            "type": "scatterpolargl"
           }
          ],
          "scatterternary": [
           {
            "marker": {
             "colorbar": {
              "outlinewidth": 0,
              "ticks": ""
             }
            },
            "type": "scatterternary"
           }
          ],
          "surface": [
           {
            "colorbar": {
             "outlinewidth": 0,
             "ticks": ""
            },
            "colorscale": [
             [
              0,
              "#0d0887"
             ],
             [
              0.1111111111111111,
              "#46039f"
             ],
             [
              0.2222222222222222,
              "#7201a8"
             ],
             [
              0.3333333333333333,
              "#9c179e"
             ],
             [
              0.4444444444444444,
              "#bd3786"
             ],
             [
              0.5555555555555556,
              "#d8576b"
             ],
             [
              0.6666666666666666,
              "#ed7953"
             ],
             [
              0.7777777777777778,
              "#fb9f3a"
             ],
             [
              0.8888888888888888,
              "#fdca26"
             ],
             [
              1,
              "#f0f921"
             ]
            ],
            "type": "surface"
           }
          ],
          "table": [
           {
            "cells": {
             "fill": {
              "color": "#EBF0F8"
             },
             "line": {
              "color": "white"
             }
            },
            "header": {
             "fill": {
              "color": "#C8D4E3"
             },
             "line": {
              "color": "white"
             }
            },
            "type": "table"
           }
          ]
         },
         "layout": {
          "annotationdefaults": {
           "arrowcolor": "#2a3f5f",
           "arrowhead": 0,
           "arrowwidth": 1
          },
          "autotypenumbers": "strict",
          "coloraxis": {
           "colorbar": {
            "outlinewidth": 0,
            "ticks": ""
           }
          },
          "colorscale": {
           "diverging": [
            [
             0,
             "#8e0152"
            ],
            [
             0.1,
             "#c51b7d"
            ],
            [
             0.2,
             "#de77ae"
            ],
            [
             0.3,
             "#f1b6da"
            ],
            [
             0.4,
             "#fde0ef"
            ],
            [
             0.5,
             "#f7f7f7"
            ],
            [
             0.6,
             "#e6f5d0"
            ],
            [
             0.7,
             "#b8e186"
            ],
            [
             0.8,
             "#7fbc41"
            ],
            [
             0.9,
             "#4d9221"
            ],
            [
             1,
             "#276419"
            ]
           ],
           "sequential": [
            [
             0,
             "#0d0887"
            ],
            [
             0.1111111111111111,
             "#46039f"
            ],
            [
             0.2222222222222222,
             "#7201a8"
            ],
            [
             0.3333333333333333,
             "#9c179e"
            ],
            [
             0.4444444444444444,
             "#bd3786"
            ],
            [
             0.5555555555555556,
             "#d8576b"
            ],
            [
             0.6666666666666666,
             "#ed7953"
            ],
            [
             0.7777777777777778,
             "#fb9f3a"
            ],
            [
             0.8888888888888888,
             "#fdca26"
            ],
            [
             1,
             "#f0f921"
            ]
           ],
           "sequentialminus": [
            [
             0,
             "#0d0887"
            ],
            [
             0.1111111111111111,
             "#46039f"
            ],
            [
             0.2222222222222222,
             "#7201a8"
            ],
            [
             0.3333333333333333,
             "#9c179e"
            ],
            [
             0.4444444444444444,
             "#bd3786"
            ],
            [
             0.5555555555555556,
             "#d8576b"
            ],
            [
             0.6666666666666666,
             "#ed7953"
            ],
            [
             0.7777777777777778,
             "#fb9f3a"
            ],
            [
             0.8888888888888888,
             "#fdca26"
            ],
            [
             1,
             "#f0f921"
            ]
           ]
          },
          "colorway": [
           "#636efa",
           "#EF553B",
           "#00cc96",
           "#ab63fa",
           "#FFA15A",
           "#19d3f3",
           "#FF6692",
           "#B6E880",
           "#FF97FF",
           "#FECB52"
          ],
          "font": {
           "color": "#2a3f5f"
          },
          "geo": {
           "bgcolor": "white",
           "lakecolor": "white",
           "landcolor": "#E5ECF6",
           "showlakes": true,
           "showland": true,
           "subunitcolor": "white"
          },
          "hoverlabel": {
           "align": "left"
          },
          "hovermode": "closest",
          "mapbox": {
           "style": "light"
          },
          "paper_bgcolor": "white",
          "plot_bgcolor": "#E5ECF6",
          "polar": {
           "angularaxis": {
            "gridcolor": "white",
            "linecolor": "white",
            "ticks": ""
           },
           "bgcolor": "#E5ECF6",
           "radialaxis": {
            "gridcolor": "white",
            "linecolor": "white",
            "ticks": ""
           }
          },
          "scene": {
           "xaxis": {
            "backgroundcolor": "#E5ECF6",
            "gridcolor": "white",
            "gridwidth": 2,
            "linecolor": "white",
            "showbackground": true,
            "ticks": "",
            "zerolinecolor": "white"
           },
           "yaxis": {
            "backgroundcolor": "#E5ECF6",
            "gridcolor": "white",
            "gridwidth": 2,
            "linecolor": "white",
            "showbackground": true,
            "ticks": "",
            "zerolinecolor": "white"
           },
           "zaxis": {
            "backgroundcolor": "#E5ECF6",
            "gridcolor": "white",
            "gridwidth": 2,
            "linecolor": "white",
            "showbackground": true,
            "ticks": "",
            "zerolinecolor": "white"
           }
          },
          "shapedefaults": {
           "line": {
            "color": "#2a3f5f"
           }
          },
          "ternary": {
           "aaxis": {
            "gridcolor": "white",
            "linecolor": "white",
            "ticks": ""
           },
           "baxis": {
            "gridcolor": "white",
            "linecolor": "white",
            "ticks": ""
           },
           "bgcolor": "#E5ECF6",
           "caxis": {
            "gridcolor": "white",
            "linecolor": "white",
            "ticks": ""
           }
          },
          "title": {
           "x": 0.05
          },
          "xaxis": {
           "automargin": true,
           "gridcolor": "white",
           "linecolor": "white",
           "ticks": "",
           "title": {
            "standoff": 15
           },
           "zerolinecolor": "white",
           "zerolinewidth": 2
          },
          "yaxis": {
           "automargin": true,
           "gridcolor": "white",
           "linecolor": "white",
           "ticks": "",
           "title": {
            "standoff": 15
           },
           "zerolinecolor": "white",
           "zerolinewidth": 2
          }
         }
        },
        "title": {
         "font": {
          "color": "#4D5663"
         }
        },
        "xaxis": {
         "gridcolor": "#E1E5ED",
         "showgrid": true,
         "tickfont": {
          "color": "#4D5663"
         },
         "title": {
          "font": {
           "color": "#4D5663"
          },
          "text": ""
         },
         "zerolinecolor": "#E1E5ED"
        },
        "yaxis": {
         "gridcolor": "#E1E5ED",
         "showgrid": true,
         "tickfont": {
          "color": "#4D5663"
         },
         "title": {
          "font": {
           "color": "#4D5663"
          },
          "text": ""
         },
         "zerolinecolor": "#E1E5ED"
        }
       }
      },
      "text/html": [
       "<div>                            <div id=\"fa52b88f-3b12-40bd-a102-6b97219274ca\" class=\"plotly-graph-div\" style=\"height:525px; width:100%;\"></div>            <script type=\"text/javascript\">                require([\"plotly\"], function(Plotly) {                    window.PLOTLYENV=window.PLOTLYENV || {};\n",
       "                    window.PLOTLYENV.BASE_URL='https://plot.ly';                                    if (document.getElementById(\"fa52b88f-3b12-40bd-a102-6b97219274ca\")) {                    Plotly.newPlot(                        \"fa52b88f-3b12-40bd-a102-6b97219274ca\",                        [{\"marker\":{\"color\":[\"rgb(255, 153, 51)\",\"rgb(55, 128, 191)\",\"rgb(50, 171, 96)\",\"rgb(128, 0, 128)\",\"rgb(219, 64, 82)\",\"rgb(0, 128, 128)\",\"rgb(255, 255, 51)\",\"rgb(128, 128, 0)\",\"rgb(251, 128, 114)\",\"rgb(128, 177, 211)\"],\"line\":{\"width\":1.3},\"size\":[72,111,61,75,51,79,77,72,83,99,44,78,40,63,65,44,93,49,76,93,67,67,40,62,58,46,43,69,55,68,58,31,50,49,102,71,12,30,55,77,94,42,65,75,53,51,75,86,65,100,89,61,52,29,75,79,53,79,94,84,79,81,76,64,38,60,76,38,69,58,63,88,93,39,73,45,77,34,45,27,67,97,72,71,44,57,84,73,29,85,63,56,40,80,43,70,41,100,44,55],\"symbol\":\"circle\"},\"mode\":\"markers\",\"text\":\"\",\"x\":[-0.6123213313638834,1.3594760586323038,0.7157028374769693,0.7428268604041767,1.4387038289767837,-0.18659775442196597,1.4732645597761136,-1.0063295388071447,1.056092961661525,-2.47632273602315,-0.635452318342618,-0.44341162530791667,0.8603466277919531,0.07446614932749684,-0.1331131522466488,0.9950176867120871,-0.6469853058251499,-0.8700113105706968,0.7451915965836442,1.0080729109461022,1.3612656769446707,-0.46388543466577953,-1.6252556434939562,-0.9321225459929191,0.16520721127913351,1.109035311807075,-0.17481458358740606,-1.624426672284938,-0.1702527952572121,0.5692071778213524,-1.8522429631266695,-1.8274075534861318,1.4467135685260804,-0.2566950458043969,-0.31473561434280445,-1.3924295664519903,-1.5183227401831643,1.100316191055605,-1.3243172550303042,0.934613326420437,0.5058253582807383,0.6925078253422744,1.9416032539843482,-1.1472736624868352,0.6738495664997504,-0.47737184536099964,-1.641216335191951,-0.13222458670586418,-0.709692601338341,1.0704070534135786,-0.35957829928635193,1.1347015745407685,1.7394557819272984,0.10648238319660469,-1.2104409774898166,-0.21935452937051048,-0.7209436501354658,-0.36707627095778994,-0.4137095293103209,-0.14202313507910364,1.2665388927529673,1.1194663999265804,-1.2425290334764583,0.39840737442666446,0.8945368981705608,-0.9571858944373809,-0.4633202776630124,-0.9712012233075042,0.7208776529585661,0.7438375746122489,-1.3026515735400312,1.004468713016441,-0.34401917264171356,0.37856579146205005,0.5766908858096895,0.14489140687254426,0.5030487355914735,0.16656440729662095,-1.044040712361414,1.3940344198410861,-1.8958614932946471,-1.598344342488547,0.619097265217185,1.1247773545002318,-0.7131652820603137,-0.7259441325114188,0.3783084614135404,0.953242635318946,-1.0865438738709796,1.0560252986180356,-0.9152623676229141,-0.47689637661425693,-1.5731089650479364,0.45657205749455,-0.011860036772261388,-0.7254513536108076,0.5454745770976296,-1.669814686271186,1.5393007948667181,0.28512201838580503],\"y\":[2.4033726396064625,-0.3180661953813854,0.3575646009315945,-0.1105494946218425,-1.9893182998132442,0.12108998433814257,1.6231297492375656,-1.2060270018752517,-1.4763460598573717,-0.31605687258158366,-0.30143437365788345,-0.26399532166551437,0.9165050788909543,0.7736176343862297,0.9360968870348345,0.6558051320314173,-0.9571761584379436,-0.9924811564511132,0.7971918612956219,-0.37130794160576763,-0.2760754290236538,0.6900682486696768,1.5530644454787816,0.4313746272862494,0.606668375448992,-0.1678150518632239,-0.06562136516121853,1.1358032600451677,-1.555216491676847,2.3596114839686897,1.6849126218993657,-1.1076458633876247,0.19152751134038656,-2.418973945595888,0.46641748517612613,-0.21364558612811305,1.1480763571394446,0.059794594708253365,0.42198828304935004,-0.1278335244912023,-0.3434904890462654,0.6386561805665968,-0.14208161537358346,-0.21014682568625534,-1.1515120179039007,0.6423152244432342,0.5385251636516468,-1.2735301704460944,-0.9263130931462031,1.0528723780534726,1.398092729216517,0.7409688920291192,1.5330713382437804,1.2238886674459235,1.3021010010114673,0.9267666640747797,-1.0632816642972323,-0.853609509509939,1.4774215216322193,1.8375264582418434,1.2510879290725092,0.11877753746905721,1.0800394768582156,-1.31790521726136,-1.365923862710278,1.6836138765041453,-0.0050875497121913756,0.14030157148832426,-0.7439091480217016,0.3421569973368127,0.3176875279051301,-0.4658550524900476,1.5083142101265588,0.9342942058681324,0.038805998180403596,-0.5427143810390751,1.8653101105958274,0.9160042953261466,-0.7399792359271136,-1.3913613995497782,-1.3659709922367504,-1.7739464469938493,0.9790656864957751,-0.5645792416112951,1.3080798586746816,-0.3710346468680679,-0.3831733338661221,0.6690962928884536,0.5510184334158387,0.7638864171285927,0.7173354808699728,-0.7350903538128789,1.3679739533904145,-1.6310206244484406,-0.39313156746717626,0.026323629417493655,-1.7894767650578125,-0.7225163772056884,1.9078118752926256,0.7217442983989159],\"type\":\"scatter\"}],                        {\"legend\":{\"bgcolor\":\"#F5F6F9\",\"font\":{\"color\":\"#4D5663\"}},\"paper_bgcolor\":\"#F5F6F9\",\"plot_bgcolor\":\"#F5F6F9\",\"template\":{\"data\":{\"barpolar\":[{\"marker\":{\"line\":{\"color\":\"#E5ECF6\",\"width\":0.5},\"pattern\":{\"fillmode\":\"overlay\",\"size\":10,\"solidity\":0.2}},\"type\":\"barpolar\"}],\"bar\":[{\"error_x\":{\"color\":\"#2a3f5f\"},\"error_y\":{\"color\":\"#2a3f5f\"},\"marker\":{\"line\":{\"color\":\"#E5ECF6\",\"width\":0.5},\"pattern\":{\"fillmode\":\"overlay\",\"size\":10,\"solidity\":0.2}},\"type\":\"bar\"}],\"carpet\":[{\"aaxis\":{\"endlinecolor\":\"#2a3f5f\",\"gridcolor\":\"white\",\"linecolor\":\"white\",\"minorgridcolor\":\"white\",\"startlinecolor\":\"#2a3f5f\"},\"baxis\":{\"endlinecolor\":\"#2a3f5f\",\"gridcolor\":\"white\",\"linecolor\":\"white\",\"minorgridcolor\":\"white\",\"startlinecolor\":\"#2a3f5f\"},\"type\":\"carpet\"}],\"choropleth\":[{\"colorbar\":{\"outlinewidth\":0,\"ticks\":\"\"},\"type\":\"choropleth\"}],\"contourcarpet\":[{\"colorbar\":{\"outlinewidth\":0,\"ticks\":\"\"},\"type\":\"contourcarpet\"}],\"contour\":[{\"colorbar\":{\"outlinewidth\":0,\"ticks\":\"\"},\"colorscale\":[[0.0,\"#0d0887\"],[0.1111111111111111,\"#46039f\"],[0.2222222222222222,\"#7201a8\"],[0.3333333333333333,\"#9c179e\"],[0.4444444444444444,\"#bd3786\"],[0.5555555555555556,\"#d8576b\"],[0.6666666666666666,\"#ed7953\"],[0.7777777777777778,\"#fb9f3a\"],[0.8888888888888888,\"#fdca26\"],[1.0,\"#f0f921\"]],\"type\":\"contour\"}],\"heatmapgl\":[{\"colorbar\":{\"outlinewidth\":0,\"ticks\":\"\"},\"colorscale\":[[0.0,\"#0d0887\"],[0.1111111111111111,\"#46039f\"],[0.2222222222222222,\"#7201a8\"],[0.3333333333333333,\"#9c179e\"],[0.4444444444444444,\"#bd3786\"],[0.5555555555555556,\"#d8576b\"],[0.6666666666666666,\"#ed7953\"],[0.7777777777777778,\"#fb9f3a\"],[0.8888888888888888,\"#fdca26\"],[1.0,\"#f0f921\"]],\"type\":\"heatmapgl\"}],\"heatmap\":[{\"colorbar\":{\"outlinewidth\":0,\"ticks\":\"\"},\"colorscale\":[[0.0,\"#0d0887\"],[0.1111111111111111,\"#46039f\"],[0.2222222222222222,\"#7201a8\"],[0.3333333333333333,\"#9c179e\"],[0.4444444444444444,\"#bd3786\"],[0.5555555555555556,\"#d8576b\"],[0.6666666666666666,\"#ed7953\"],[0.7777777777777778,\"#fb9f3a\"],[0.8888888888888888,\"#fdca26\"],[1.0,\"#f0f921\"]],\"type\":\"heatmap\"}],\"histogram2dcontour\":[{\"colorbar\":{\"outlinewidth\":0,\"ticks\":\"\"},\"colorscale\":[[0.0,\"#0d0887\"],[0.1111111111111111,\"#46039f\"],[0.2222222222222222,\"#7201a8\"],[0.3333333333333333,\"#9c179e\"],[0.4444444444444444,\"#bd3786\"],[0.5555555555555556,\"#d8576b\"],[0.6666666666666666,\"#ed7953\"],[0.7777777777777778,\"#fb9f3a\"],[0.8888888888888888,\"#fdca26\"],[1.0,\"#f0f921\"]],\"type\":\"histogram2dcontour\"}],\"histogram2d\":[{\"colorbar\":{\"outlinewidth\":0,\"ticks\":\"\"},\"colorscale\":[[0.0,\"#0d0887\"],[0.1111111111111111,\"#46039f\"],[0.2222222222222222,\"#7201a8\"],[0.3333333333333333,\"#9c179e\"],[0.4444444444444444,\"#bd3786\"],[0.5555555555555556,\"#d8576b\"],[0.6666666666666666,\"#ed7953\"],[0.7777777777777778,\"#fb9f3a\"],[0.8888888888888888,\"#fdca26\"],[1.0,\"#f0f921\"]],\"type\":\"histogram2d\"}],\"histogram\":[{\"marker\":{\"pattern\":{\"fillmode\":\"overlay\",\"size\":10,\"solidity\":0.2}},\"type\":\"histogram\"}],\"mesh3d\":[{\"colorbar\":{\"outlinewidth\":0,\"ticks\":\"\"},\"type\":\"mesh3d\"}],\"parcoords\":[{\"line\":{\"colorbar\":{\"outlinewidth\":0,\"ticks\":\"\"}},\"type\":\"parcoords\"}],\"pie\":[{\"automargin\":true,\"type\":\"pie\"}],\"scatter3d\":[{\"line\":{\"colorbar\":{\"outlinewidth\":0,\"ticks\":\"\"}},\"marker\":{\"colorbar\":{\"outlinewidth\":0,\"ticks\":\"\"}},\"type\":\"scatter3d\"}],\"scattercarpet\":[{\"marker\":{\"colorbar\":{\"outlinewidth\":0,\"ticks\":\"\"}},\"type\":\"scattercarpet\"}],\"scattergeo\":[{\"marker\":{\"colorbar\":{\"outlinewidth\":0,\"ticks\":\"\"}},\"type\":\"scattergeo\"}],\"scattergl\":[{\"marker\":{\"colorbar\":{\"outlinewidth\":0,\"ticks\":\"\"}},\"type\":\"scattergl\"}],\"scattermapbox\":[{\"marker\":{\"colorbar\":{\"outlinewidth\":0,\"ticks\":\"\"}},\"type\":\"scattermapbox\"}],\"scatterpolargl\":[{\"marker\":{\"colorbar\":{\"outlinewidth\":0,\"ticks\":\"\"}},\"type\":\"scatterpolargl\"}],\"scatterpolar\":[{\"marker\":{\"colorbar\":{\"outlinewidth\":0,\"ticks\":\"\"}},\"type\":\"scatterpolar\"}],\"scatter\":[{\"marker\":{\"colorbar\":{\"outlinewidth\":0,\"ticks\":\"\"}},\"type\":\"scatter\"}],\"scatterternary\":[{\"marker\":{\"colorbar\":{\"outlinewidth\":0,\"ticks\":\"\"}},\"type\":\"scatterternary\"}],\"surface\":[{\"colorbar\":{\"outlinewidth\":0,\"ticks\":\"\"},\"colorscale\":[[0.0,\"#0d0887\"],[0.1111111111111111,\"#46039f\"],[0.2222222222222222,\"#7201a8\"],[0.3333333333333333,\"#9c179e\"],[0.4444444444444444,\"#bd3786\"],[0.5555555555555556,\"#d8576b\"],[0.6666666666666666,\"#ed7953\"],[0.7777777777777778,\"#fb9f3a\"],[0.8888888888888888,\"#fdca26\"],[1.0,\"#f0f921\"]],\"type\":\"surface\"}],\"table\":[{\"cells\":{\"fill\":{\"color\":\"#EBF0F8\"},\"line\":{\"color\":\"white\"}},\"header\":{\"fill\":{\"color\":\"#C8D4E3\"},\"line\":{\"color\":\"white\"}},\"type\":\"table\"}]},\"layout\":{\"annotationdefaults\":{\"arrowcolor\":\"#2a3f5f\",\"arrowhead\":0,\"arrowwidth\":1},\"autotypenumbers\":\"strict\",\"coloraxis\":{\"colorbar\":{\"outlinewidth\":0,\"ticks\":\"\"}},\"colorscale\":{\"diverging\":[[0,\"#8e0152\"],[0.1,\"#c51b7d\"],[0.2,\"#de77ae\"],[0.3,\"#f1b6da\"],[0.4,\"#fde0ef\"],[0.5,\"#f7f7f7\"],[0.6,\"#e6f5d0\"],[0.7,\"#b8e186\"],[0.8,\"#7fbc41\"],[0.9,\"#4d9221\"],[1,\"#276419\"]],\"sequential\":[[0.0,\"#0d0887\"],[0.1111111111111111,\"#46039f\"],[0.2222222222222222,\"#7201a8\"],[0.3333333333333333,\"#9c179e\"],[0.4444444444444444,\"#bd3786\"],[0.5555555555555556,\"#d8576b\"],[0.6666666666666666,\"#ed7953\"],[0.7777777777777778,\"#fb9f3a\"],[0.8888888888888888,\"#fdca26\"],[1.0,\"#f0f921\"]],\"sequentialminus\":[[0.0,\"#0d0887\"],[0.1111111111111111,\"#46039f\"],[0.2222222222222222,\"#7201a8\"],[0.3333333333333333,\"#9c179e\"],[0.4444444444444444,\"#bd3786\"],[0.5555555555555556,\"#d8576b\"],[0.6666666666666666,\"#ed7953\"],[0.7777777777777778,\"#fb9f3a\"],[0.8888888888888888,\"#fdca26\"],[1.0,\"#f0f921\"]]},\"colorway\":[\"#636efa\",\"#EF553B\",\"#00cc96\",\"#ab63fa\",\"#FFA15A\",\"#19d3f3\",\"#FF6692\",\"#B6E880\",\"#FF97FF\",\"#FECB52\"],\"font\":{\"color\":\"#2a3f5f\"},\"geo\":{\"bgcolor\":\"white\",\"lakecolor\":\"white\",\"landcolor\":\"#E5ECF6\",\"showlakes\":true,\"showland\":true,\"subunitcolor\":\"white\"},\"hoverlabel\":{\"align\":\"left\"},\"hovermode\":\"closest\",\"mapbox\":{\"style\":\"light\"},\"paper_bgcolor\":\"white\",\"plot_bgcolor\":\"#E5ECF6\",\"polar\":{\"angularaxis\":{\"gridcolor\":\"white\",\"linecolor\":\"white\",\"ticks\":\"\"},\"bgcolor\":\"#E5ECF6\",\"radialaxis\":{\"gridcolor\":\"white\",\"linecolor\":\"white\",\"ticks\":\"\"}},\"scene\":{\"xaxis\":{\"backgroundcolor\":\"#E5ECF6\",\"gridcolor\":\"white\",\"gridwidth\":2,\"linecolor\":\"white\",\"showbackground\":true,\"ticks\":\"\",\"zerolinecolor\":\"white\"},\"yaxis\":{\"backgroundcolor\":\"#E5ECF6\",\"gridcolor\":\"white\",\"gridwidth\":2,\"linecolor\":\"white\",\"showbackground\":true,\"ticks\":\"\",\"zerolinecolor\":\"white\"},\"zaxis\":{\"backgroundcolor\":\"#E5ECF6\",\"gridcolor\":\"white\",\"gridwidth\":2,\"linecolor\":\"white\",\"showbackground\":true,\"ticks\":\"\",\"zerolinecolor\":\"white\"}},\"shapedefaults\":{\"line\":{\"color\":\"#2a3f5f\"}},\"ternary\":{\"aaxis\":{\"gridcolor\":\"white\",\"linecolor\":\"white\",\"ticks\":\"\"},\"baxis\":{\"gridcolor\":\"white\",\"linecolor\":\"white\",\"ticks\":\"\"},\"bgcolor\":\"#E5ECF6\",\"caxis\":{\"gridcolor\":\"white\",\"linecolor\":\"white\",\"ticks\":\"\"}},\"title\":{\"x\":0.05},\"xaxis\":{\"automargin\":true,\"gridcolor\":\"white\",\"linecolor\":\"white\",\"ticks\":\"\",\"title\":{\"standoff\":15},\"zerolinecolor\":\"white\",\"zerolinewidth\":2},\"yaxis\":{\"automargin\":true,\"gridcolor\":\"white\",\"linecolor\":\"white\",\"ticks\":\"\",\"title\":{\"standoff\":15},\"zerolinecolor\":\"white\",\"zerolinewidth\":2}}},\"title\":{\"font\":{\"color\":\"#4D5663\"}},\"xaxis\":{\"gridcolor\":\"#E1E5ED\",\"showgrid\":true,\"tickfont\":{\"color\":\"#4D5663\"},\"title\":{\"font\":{\"color\":\"#4D5663\"},\"text\":\"\"},\"zerolinecolor\":\"#E1E5ED\"},\"yaxis\":{\"gridcolor\":\"#E1E5ED\",\"showgrid\":true,\"tickfont\":{\"color\":\"#4D5663\"},\"title\":{\"font\":{\"color\":\"#4D5663\"},\"text\":\"\"},\"zerolinecolor\":\"#E1E5ED\"}},                        {\"showLink\": true, \"linkText\": \"Export to plot.ly\", \"plotlyServerURL\": \"https://plot.ly\", \"responsive\": true}                    ).then(function(){\n",
       "                            \n",
       "var gd = document.getElementById('fa52b88f-3b12-40bd-a102-6b97219274ca');\n",
       "var x = new MutationObserver(function (mutations, observer) {{\n",
       "        var display = window.getComputedStyle(gd).display;\n",
       "        if (!display || display === 'none') {{\n",
       "            console.log([gd, 'removed!']);\n",
       "            Plotly.purge(gd);\n",
       "            observer.disconnect();\n",
       "        }}\n",
       "}});\n",
       "\n",
       "// Listen for the removal of the full notebook cells\n",
       "var notebookContainer = gd.closest('#notebook-container');\n",
       "if (notebookContainer) {{\n",
       "    x.observe(notebookContainer, {childList: true});\n",
       "}}\n",
       "\n",
       "// Listen for the clearing of the current output cell\n",
       "var outputEl = gd.closest('.output');\n",
       "if (outputEl) {{\n",
       "    x.observe(outputEl, {childList: true});\n",
       "}}\n",
       "\n",
       "                        })                };                });            </script>        </div>"
      ]
     },
     "metadata": {},
     "output_type": "display_data"
    }
   ],
   "source": [
    "df.iplot(kind='bubble', x='A', y='B', size='C')"
   ]
  },
  {
   "cell_type": "code",
   "execution_count": 78,
   "id": "290d6a32",
   "metadata": {},
   "outputs": [
    {
     "data": {
      "application/vnd.plotly.v1+json": {
       "config": {
        "linkText": "Export to plot.ly",
        "plotlyServerURL": "https://plot.ly",
        "showLink": true
       },
       "data": [
        {
         "histfunc": "count",
         "histnorm": "",
         "marker": {
          "color": "rgba(255, 153, 51, 1.0)",
          "line": {
           "color": "#4D5663",
           "width": 1.3
          }
         },
         "name": "A",
         "nbinsx": 10,
         "opacity": 0.8,
         "orientation": "v",
         "type": "histogram",
         "x": [
          -0.6123213313638834,
          1.3594760586323038,
          0.7157028374769693,
          0.7428268604041767,
          1.4387038289767837,
          -0.18659775442196597,
          1.4732645597761136,
          -1.0063295388071447,
          1.056092961661525,
          -2.47632273602315,
          -0.635452318342618,
          -0.44341162530791667,
          0.8603466277919531,
          0.07446614932749684,
          -0.1331131522466488,
          0.9950176867120871,
          -0.6469853058251499,
          -0.8700113105706968,
          0.7451915965836442,
          1.0080729109461022,
          1.3612656769446707,
          -0.46388543466577953,
          -1.6252556434939562,
          -0.9321225459929191,
          0.16520721127913351,
          1.109035311807075,
          -0.17481458358740606,
          -1.624426672284938,
          -0.1702527952572121,
          0.5692071778213524,
          -1.8522429631266695,
          -1.8274075534861318,
          1.4467135685260804,
          -0.2566950458043969,
          -0.31473561434280445,
          -1.3924295664519903,
          -1.5183227401831643,
          1.100316191055605,
          -1.3243172550303042,
          0.934613326420437,
          0.5058253582807383,
          0.6925078253422744,
          1.9416032539843482,
          -1.1472736624868352,
          0.6738495664997504,
          -0.47737184536099964,
          -1.641216335191951,
          -0.13222458670586418,
          -0.709692601338341,
          1.0704070534135786,
          -0.35957829928635193,
          1.1347015745407685,
          1.7394557819272984,
          0.10648238319660469,
          -1.2104409774898166,
          -0.21935452937051048,
          -0.7209436501354658,
          -0.36707627095778994,
          -0.4137095293103209,
          -0.14202313507910364,
          1.2665388927529673,
          1.1194663999265804,
          -1.2425290334764583,
          0.39840737442666446,
          0.8945368981705608,
          -0.9571858944373809,
          -0.4633202776630124,
          -0.9712012233075042,
          0.7208776529585661,
          0.7438375746122489,
          -1.3026515735400312,
          1.004468713016441,
          -0.34401917264171356,
          0.37856579146205005,
          0.5766908858096895,
          0.14489140687254426,
          0.5030487355914735,
          0.16656440729662095,
          -1.044040712361414,
          1.3940344198410861,
          -1.8958614932946471,
          -1.598344342488547,
          0.619097265217185,
          1.1247773545002318,
          -0.7131652820603137,
          -0.7259441325114188,
          0.3783084614135404,
          0.953242635318946,
          -1.0865438738709796,
          1.0560252986180356,
          -0.9152623676229141,
          -0.47689637661425693,
          -1.5731089650479364,
          0.45657205749455,
          -0.011860036772261388,
          -0.7254513536108076,
          0.5454745770976296,
          -1.669814686271186,
          1.5393007948667181,
          0.28512201838580503
         ],
         "xaxis": "x",
         "yaxis": "y"
        },
        {
         "line": {
          "color": "rgba(128, 128, 128, 1.0)",
          "dash": "solid",
          "shape": "linear",
          "width": 1.3
         },
         "marker": {
          "size": 2,
          "symbol": "circle"
         },
         "mode": "markers",
         "name": "A",
         "text": "",
         "type": "scatter",
         "x": [
          2.4033726396064625,
          -0.3180661953813854,
          0.3575646009315945,
          -0.1105494946218425,
          -1.9893182998132442,
          0.12108998433814257,
          1.6231297492375656,
          -1.2060270018752517,
          -1.4763460598573717,
          -0.31605687258158366,
          -0.30143437365788345,
          -0.26399532166551437,
          0.9165050788909543,
          0.7736176343862297,
          0.9360968870348345,
          0.6558051320314173,
          -0.9571761584379436,
          -0.9924811564511132,
          0.7971918612956219,
          -0.37130794160576763,
          -0.2760754290236538,
          0.6900682486696768,
          1.5530644454787816,
          0.4313746272862494,
          0.606668375448992,
          -0.1678150518632239,
          -0.06562136516121853,
          1.1358032600451677,
          -1.555216491676847,
          2.3596114839686897,
          1.6849126218993657,
          -1.1076458633876247,
          0.19152751134038656,
          -2.418973945595888,
          0.46641748517612613,
          -0.21364558612811305,
          1.1480763571394446,
          0.059794594708253365,
          0.42198828304935004,
          -0.1278335244912023,
          -0.3434904890462654,
          0.6386561805665968,
          -0.14208161537358346,
          -0.21014682568625534,
          -1.1515120179039007,
          0.6423152244432342,
          0.5385251636516468,
          -1.2735301704460944,
          -0.9263130931462031,
          1.0528723780534726,
          1.398092729216517,
          0.7409688920291192,
          1.5330713382437804,
          1.2238886674459235,
          1.3021010010114673,
          0.9267666640747797,
          -1.0632816642972323,
          -0.853609509509939,
          1.4774215216322193,
          1.8375264582418434,
          1.2510879290725092,
          0.11877753746905721,
          1.0800394768582156,
          -1.31790521726136,
          -1.365923862710278,
          1.6836138765041453,
          -0.0050875497121913756,
          0.14030157148832426,
          -0.7439091480217016,
          0.3421569973368127,
          0.3176875279051301,
          -0.4658550524900476,
          1.5083142101265588,
          0.9342942058681324,
          0.038805998180403596,
          -0.5427143810390751,
          1.8653101105958274,
          0.9160042953261466,
          -0.7399792359271136,
          -1.3913613995497782,
          -1.3659709922367504,
          -1.7739464469938493,
          0.9790656864957751,
          -0.5645792416112951,
          1.3080798586746816,
          -0.3710346468680679,
          -0.3831733338661221,
          0.6690962928884536,
          0.5510184334158387,
          0.7638864171285927,
          0.7173354808699728,
          -0.7350903538128789,
          1.3679739533904145,
          -1.6310206244484406,
          -0.39313156746717626,
          0.026323629417493655,
          -1.7894767650578125,
          -0.7225163772056884,
          1.9078118752926256,
          0.7217442983989159
         ],
         "xaxis": "x2",
         "y": [
          -0.6123213313638834,
          1.3594760586323038,
          0.7157028374769693,
          0.7428268604041767,
          1.4387038289767837,
          -0.18659775442196597,
          1.4732645597761136,
          -1.0063295388071447,
          1.056092961661525,
          -2.47632273602315,
          -0.635452318342618,
          -0.44341162530791667,
          0.8603466277919531,
          0.07446614932749684,
          -0.1331131522466488,
          0.9950176867120871,
          -0.6469853058251499,
          -0.8700113105706968,
          0.7451915965836442,
          1.0080729109461022,
          1.3612656769446707,
          -0.46388543466577953,
          -1.6252556434939562,
          -0.9321225459929191,
          0.16520721127913351,
          1.109035311807075,
          -0.17481458358740606,
          -1.624426672284938,
          -0.1702527952572121,
          0.5692071778213524,
          -1.8522429631266695,
          -1.8274075534861318,
          1.4467135685260804,
          -0.2566950458043969,
          -0.31473561434280445,
          -1.3924295664519903,
          -1.5183227401831643,
          1.100316191055605,
          -1.3243172550303042,
          0.934613326420437,
          0.5058253582807383,
          0.6925078253422744,
          1.9416032539843482,
          -1.1472736624868352,
          0.6738495664997504,
          -0.47737184536099964,
          -1.641216335191951,
          -0.13222458670586418,
          -0.709692601338341,
          1.0704070534135786,
          -0.35957829928635193,
          1.1347015745407685,
          1.7394557819272984,
          0.10648238319660469,
          -1.2104409774898166,
          -0.21935452937051048,
          -0.7209436501354658,
          -0.36707627095778994,
          -0.4137095293103209,
          -0.14202313507910364,
          1.2665388927529673,
          1.1194663999265804,
          -1.2425290334764583,
          0.39840737442666446,
          0.8945368981705608,
          -0.9571858944373809,
          -0.4633202776630124,
          -0.9712012233075042,
          0.7208776529585661,
          0.7438375746122489,
          -1.3026515735400312,
          1.004468713016441,
          -0.34401917264171356,
          0.37856579146205005,
          0.5766908858096895,
          0.14489140687254426,
          0.5030487355914735,
          0.16656440729662095,
          -1.044040712361414,
          1.3940344198410861,
          -1.8958614932946471,
          -1.598344342488547,
          0.619097265217185,
          1.1247773545002318,
          -0.7131652820603137,
          -0.7259441325114188,
          0.3783084614135404,
          0.953242635318946,
          -1.0865438738709796,
          1.0560252986180356,
          -0.9152623676229141,
          -0.47689637661425693,
          -1.5731089650479364,
          0.45657205749455,
          -0.011860036772261388,
          -0.7254513536108076,
          0.5454745770976296,
          -1.669814686271186,
          1.5393007948667181,
          0.28512201838580503
         ],
         "yaxis": "y2"
        },
        {
         "line": {
          "color": "rgba(128, 128, 128, 1.0)",
          "dash": "solid",
          "shape": "linear",
          "width": 1.3
         },
         "marker": {
          "size": 2,
          "symbol": "circle"
         },
         "mode": "markers",
         "name": "A",
         "text": "",
         "type": "scatter",
         "x": [
          0.4689665067580521,
          2.657661785631248,
          -0.15695404125640144,
          0.605265196825292,
          -0.7057374319212296,
          0.8444309653569217,
          0.7513210022146437,
          0.4307395998978597,
          1.0371730870237932,
          1.974103854421076,
          -1.1288760520237493,
          0.8055315230691629,
          -1.335601470526402,
          -0.028547479101887447,
          0.06747542495281443,
          -1.1309575553312143,
          1.6271698811106052,
          -0.8569455622264276,
          0.6456922933836641,
          1.6379346196809164,
          0.1806495115367449,
          0.14639348883989947,
          -1.3552736004820631,
          -0.119350727088024,
          -0.3563793145517163,
          -1.023983797537162,
          -1.2002930376860392,
          0.30540079810011533,
          -0.4761218790211993,
          0.24257472613728698,
          -0.3361720751310067,
          -1.846424890646746,
          -0.7748643511775507,
          -0.8618459502950332,
          2.1193450044927333,
          0.40496375514144517,
          -2.9377762864827,
          -1.8965821460469738,
          -0.48480046089468737,
          0.7483102482534699,
          1.6910057862337557,
          -1.233714975417407,
          0.06493475062118555,
          0.6392015128212213,
          -0.5899288328143886,
          -0.728572959023513,
          0.6113604849908908,
          1.2054338538568574,
          0.08020295162428227,
          2.041858302804547,
          1.4184034553585103,
          -0.1719830931621509,
          -0.6949916357107848,
          -1.978855890551208,
          0.6257545974595368,
          0.8632133760671598,
          -0.5976588697599662,
          0.8479532170096117,
          1.70344793958928,
          1.1386853529720973,
          0.8487051642989147,
          0.968843823916177,
          0.6957190136412353,
          0.002582225038355152,
          -1.4513032950993925,
          -0.19805787701228872,
          0.6774343549635712,
          -1.4327537700193087,
          0.26411514326036833,
          -0.33671161663269716,
          -0.08407330728644541,
          1.368220600727735,
          1.645714258578475,
          -1.384406199597019,
          0.5083535943892357,
          -1.0514179180662875,
          0.7549770555868955,
          -1.675545109092052,
          -1.0451488351170122,
          -2.0614544842966995,
          0.16982230547273192,
          1.8251139327360477,
          0.44986683396737626,
          0.3939286211800785,
          -1.114911778732924,
          -0.4177123875352382,
          1.108470034084431,
          0.49834592193931465,
          -1.9547909952942522,
          1.176365585897962,
          -0.029407168874944503,
          -0.4613577626841192,
          -1.3451916694004673,
          0.8821653763967819,
          -1.173395693010109,
          0.32036147045809604,
          -1.2749930918574466,
          1.9899525192678373,
          -1.1398903142935857,
          -0.4968601383846873
         ],
         "xaxis": "x3",
         "y": [
          -0.6123213313638834,
          1.3594760586323038,
          0.7157028374769693,
          0.7428268604041767,
          1.4387038289767837,
          -0.18659775442196597,
          1.4732645597761136,
          -1.0063295388071447,
          1.056092961661525,
          -2.47632273602315,
          -0.635452318342618,
          -0.44341162530791667,
          0.8603466277919531,
          0.07446614932749684,
          -0.1331131522466488,
          0.9950176867120871,
          -0.6469853058251499,
          -0.8700113105706968,
          0.7451915965836442,
          1.0080729109461022,
          1.3612656769446707,
          -0.46388543466577953,
          -1.6252556434939562,
          -0.9321225459929191,
          0.16520721127913351,
          1.109035311807075,
          -0.17481458358740606,
          -1.624426672284938,
          -0.1702527952572121,
          0.5692071778213524,
          -1.8522429631266695,
          -1.8274075534861318,
          1.4467135685260804,
          -0.2566950458043969,
          -0.31473561434280445,
          -1.3924295664519903,
          -1.5183227401831643,
          1.100316191055605,
          -1.3243172550303042,
          0.934613326420437,
          0.5058253582807383,
          0.6925078253422744,
          1.9416032539843482,
          -1.1472736624868352,
          0.6738495664997504,
          -0.47737184536099964,
          -1.641216335191951,
          -0.13222458670586418,
          -0.709692601338341,
          1.0704070534135786,
          -0.35957829928635193,
          1.1347015745407685,
          1.7394557819272984,
          0.10648238319660469,
          -1.2104409774898166,
          -0.21935452937051048,
          -0.7209436501354658,
          -0.36707627095778994,
          -0.4137095293103209,
          -0.14202313507910364,
          1.2665388927529673,
          1.1194663999265804,
          -1.2425290334764583,
          0.39840737442666446,
          0.8945368981705608,
          -0.9571858944373809,
          -0.4633202776630124,
          -0.9712012233075042,
          0.7208776529585661,
          0.7438375746122489,
          -1.3026515735400312,
          1.004468713016441,
          -0.34401917264171356,
          0.37856579146205005,
          0.5766908858096895,
          0.14489140687254426,
          0.5030487355914735,
          0.16656440729662095,
          -1.044040712361414,
          1.3940344198410861,
          -1.8958614932946471,
          -1.598344342488547,
          0.619097265217185,
          1.1247773545002318,
          -0.7131652820603137,
          -0.7259441325114188,
          0.3783084614135404,
          0.953242635318946,
          -1.0865438738709796,
          1.0560252986180356,
          -0.9152623676229141,
          -0.47689637661425693,
          -1.5731089650479364,
          0.45657205749455,
          -0.011860036772261388,
          -0.7254513536108076,
          0.5454745770976296,
          -1.669814686271186,
          1.5393007948667181,
          0.28512201838580503
         ],
         "yaxis": "y3"
        },
        {
         "line": {
          "color": "rgba(128, 128, 128, 1.0)",
          "dash": "solid",
          "shape": "linear",
          "width": 1.3
         },
         "marker": {
          "size": 2,
          "symbol": "circle"
         },
         "mode": "markers",
         "name": "A",
         "text": "",
         "type": "scatter",
         "x": [
          1.0085964341555844,
          -1.2269753588859271,
          -1.5097988830045546,
          -0.5957249513887795,
          -0.957292708169662,
          0.37925034902571103,
          0.6390786863933957,
          -1.4278468527458785,
          1.1554198868405157,
          1.4835710039569256,
          -1.8617930501549576,
          1.0549386258229976,
          -0.597880076754315,
          0.5091114140451493,
          -0.4236008265812986,
          2.0422230963736423,
          -1.5944447623816826,
          1.0046933857435616,
          -1.346948771912937,
          -0.4780454082197933,
          -0.1293847086726596,
          0.047109012029019515,
          0.5254822345724128,
          0.822192262412065,
          1.4459759780435455,
          0.9115178242482179,
          0.09163585118157323,
          -0.4333767970305198,
          -0.25317827633395823,
          1.251941966515613,
          -0.48504486193858026,
          1.4155994216269399,
          -0.08942120600242834,
          0.018129302526952513,
          0.09538400771573545,
          0.14635880217596137,
          -0.03521929132626436,
          0.9464919018571304,
          -1.0298398614208712,
          1.1468853072362954,
          -0.28638870472181804,
          -2.312265561373491,
          1.0994685942927933,
          1.9323478853341507,
          1.285517116893445,
          -0.6561135953456818,
          0.613382362747721,
          0.294912843507637,
          0.501579060503352,
          2.0601536753961205,
          0.09031593286671273,
          -2.1116352492033665,
          1.14479295440716,
          1.6482467822786142,
          -0.23688476995824312,
          -2.483168964360678,
          1.7393690105774773,
          -0.7528532600045252,
          0.549850368149912,
          1.6092665516046354,
          1.1245463956901984,
          -0.25960022308154207,
          -0.894525142137224,
          -0.44335753624262075,
          -0.4953186258903264,
          0.44862293242002454,
          0.5076707606831699,
          -0.8234639692664324,
          -0.1825116567135101,
          0.6165168690298184,
          -0.7441595984799642,
          -1.2644685398119577,
          1.9473943153893534,
          0.8716113455957312,
          1.4056319769016397,
          0.18172623584949632,
          -0.34499946405601095,
          0.7016813836505776,
          0.5675933797489788,
          -0.0634524470695323,
          1.6698437842254625,
          -0.2589095268265948,
          0.39291905061572424,
          -2.3753214718334985,
          -0.44280955514871473,
          -0.06627116150696902,
          0.5600957537663671,
          -0.9066305671341511,
          0.8827050851394105,
          0.19517323025462843,
          0.2499217272758512,
          0.21879809967016942,
          -0.31226846868748914,
          -1.7337764797766497,
          0.8209083232667705,
          -0.42547099701212215,
          -0.09310701732516485,
          0.3629058590313021,
          0.1407115006202667,
          0.876168071097411
         ],
         "xaxis": "x4",
         "y": [
          -0.6123213313638834,
          1.3594760586323038,
          0.7157028374769693,
          0.7428268604041767,
          1.4387038289767837,
          -0.18659775442196597,
          1.4732645597761136,
          -1.0063295388071447,
          1.056092961661525,
          -2.47632273602315,
          -0.635452318342618,
          -0.44341162530791667,
          0.8603466277919531,
          0.07446614932749684,
          -0.1331131522466488,
          0.9950176867120871,
          -0.6469853058251499,
          -0.8700113105706968,
          0.7451915965836442,
          1.0080729109461022,
          1.3612656769446707,
          -0.46388543466577953,
          -1.6252556434939562,
          -0.9321225459929191,
          0.16520721127913351,
          1.109035311807075,
          -0.17481458358740606,
          -1.624426672284938,
          -0.1702527952572121,
          0.5692071778213524,
          -1.8522429631266695,
          -1.8274075534861318,
          1.4467135685260804,
          -0.2566950458043969,
          -0.31473561434280445,
          -1.3924295664519903,
          -1.5183227401831643,
          1.100316191055605,
          -1.3243172550303042,
          0.934613326420437,
          0.5058253582807383,
          0.6925078253422744,
          1.9416032539843482,
          -1.1472736624868352,
          0.6738495664997504,
          -0.47737184536099964,
          -1.641216335191951,
          -0.13222458670586418,
          -0.709692601338341,
          1.0704070534135786,
          -0.35957829928635193,
          1.1347015745407685,
          1.7394557819272984,
          0.10648238319660469,
          -1.2104409774898166,
          -0.21935452937051048,
          -0.7209436501354658,
          -0.36707627095778994,
          -0.4137095293103209,
          -0.14202313507910364,
          1.2665388927529673,
          1.1194663999265804,
          -1.2425290334764583,
          0.39840737442666446,
          0.8945368981705608,
          -0.9571858944373809,
          -0.4633202776630124,
          -0.9712012233075042,
          0.7208776529585661,
          0.7438375746122489,
          -1.3026515735400312,
          1.004468713016441,
          -0.34401917264171356,
          0.37856579146205005,
          0.5766908858096895,
          0.14489140687254426,
          0.5030487355914735,
          0.16656440729662095,
          -1.044040712361414,
          1.3940344198410861,
          -1.8958614932946471,
          -1.598344342488547,
          0.619097265217185,
          1.1247773545002318,
          -0.7131652820603137,
          -0.7259441325114188,
          0.3783084614135404,
          0.953242635318946,
          -1.0865438738709796,
          1.0560252986180356,
          -0.9152623676229141,
          -0.47689637661425693,
          -1.5731089650479364,
          0.45657205749455,
          -0.011860036772261388,
          -0.7254513536108076,
          0.5454745770976296,
          -1.669814686271186,
          1.5393007948667181,
          0.28512201838580503
         ],
         "yaxis": "y4"
        },
        {
         "line": {
          "color": "rgba(128, 128, 128, 1.0)",
          "dash": "solid",
          "shape": "linear",
          "width": 1.3
         },
         "marker": {
          "size": 2,
          "symbol": "circle"
         },
         "mode": "markers",
         "name": "B",
         "text": "",
         "type": "scatter",
         "x": [
          -0.6123213313638834,
          1.3594760586323038,
          0.7157028374769693,
          0.7428268604041767,
          1.4387038289767837,
          -0.18659775442196597,
          1.4732645597761136,
          -1.0063295388071447,
          1.056092961661525,
          -2.47632273602315,
          -0.635452318342618,
          -0.44341162530791667,
          0.8603466277919531,
          0.07446614932749684,
          -0.1331131522466488,
          0.9950176867120871,
          -0.6469853058251499,
          -0.8700113105706968,
          0.7451915965836442,
          1.0080729109461022,
          1.3612656769446707,
          -0.46388543466577953,
          -1.6252556434939562,
          -0.9321225459929191,
          0.16520721127913351,
          1.109035311807075,
          -0.17481458358740606,
          -1.624426672284938,
          -0.1702527952572121,
          0.5692071778213524,
          -1.8522429631266695,
          -1.8274075534861318,
          1.4467135685260804,
          -0.2566950458043969,
          -0.31473561434280445,
          -1.3924295664519903,
          -1.5183227401831643,
          1.100316191055605,
          -1.3243172550303042,
          0.934613326420437,
          0.5058253582807383,
          0.6925078253422744,
          1.9416032539843482,
          -1.1472736624868352,
          0.6738495664997504,
          -0.47737184536099964,
          -1.641216335191951,
          -0.13222458670586418,
          -0.709692601338341,
          1.0704070534135786,
          -0.35957829928635193,
          1.1347015745407685,
          1.7394557819272984,
          0.10648238319660469,
          -1.2104409774898166,
          -0.21935452937051048,
          -0.7209436501354658,
          -0.36707627095778994,
          -0.4137095293103209,
          -0.14202313507910364,
          1.2665388927529673,
          1.1194663999265804,
          -1.2425290334764583,
          0.39840737442666446,
          0.8945368981705608,
          -0.9571858944373809,
          -0.4633202776630124,
          -0.9712012233075042,
          0.7208776529585661,
          0.7438375746122489,
          -1.3026515735400312,
          1.004468713016441,
          -0.34401917264171356,
          0.37856579146205005,
          0.5766908858096895,
          0.14489140687254426,
          0.5030487355914735,
          0.16656440729662095,
          -1.044040712361414,
          1.3940344198410861,
          -1.8958614932946471,
          -1.598344342488547,
          0.619097265217185,
          1.1247773545002318,
          -0.7131652820603137,
          -0.7259441325114188,
          0.3783084614135404,
          0.953242635318946,
          -1.0865438738709796,
          1.0560252986180356,
          -0.9152623676229141,
          -0.47689637661425693,
          -1.5731089650479364,
          0.45657205749455,
          -0.011860036772261388,
          -0.7254513536108076,
          0.5454745770976296,
          -1.669814686271186,
          1.5393007948667181,
          0.28512201838580503
         ],
         "xaxis": "x5",
         "y": [
          2.4033726396064625,
          -0.3180661953813854,
          0.3575646009315945,
          -0.1105494946218425,
          -1.9893182998132442,
          0.12108998433814257,
          1.6231297492375656,
          -1.2060270018752517,
          -1.4763460598573717,
          -0.31605687258158366,
          -0.30143437365788345,
          -0.26399532166551437,
          0.9165050788909543,
          0.7736176343862297,
          0.9360968870348345,
          0.6558051320314173,
          -0.9571761584379436,
          -0.9924811564511132,
          0.7971918612956219,
          -0.37130794160576763,
          -0.2760754290236538,
          0.6900682486696768,
          1.5530644454787816,
          0.4313746272862494,
          0.606668375448992,
          -0.1678150518632239,
          -0.06562136516121853,
          1.1358032600451677,
          -1.555216491676847,
          2.3596114839686897,
          1.6849126218993657,
          -1.1076458633876247,
          0.19152751134038656,
          -2.418973945595888,
          0.46641748517612613,
          -0.21364558612811305,
          1.1480763571394446,
          0.059794594708253365,
          0.42198828304935004,
          -0.1278335244912023,
          -0.3434904890462654,
          0.6386561805665968,
          -0.14208161537358346,
          -0.21014682568625534,
          -1.1515120179039007,
          0.6423152244432342,
          0.5385251636516468,
          -1.2735301704460944,
          -0.9263130931462031,
          1.0528723780534726,
          1.398092729216517,
          0.7409688920291192,
          1.5330713382437804,
          1.2238886674459235,
          1.3021010010114673,
          0.9267666640747797,
          -1.0632816642972323,
          -0.853609509509939,
          1.4774215216322193,
          1.8375264582418434,
          1.2510879290725092,
          0.11877753746905721,
          1.0800394768582156,
          -1.31790521726136,
          -1.365923862710278,
          1.6836138765041453,
          -0.0050875497121913756,
          0.14030157148832426,
          -0.7439091480217016,
          0.3421569973368127,
          0.3176875279051301,
          -0.4658550524900476,
          1.5083142101265588,
          0.9342942058681324,
          0.038805998180403596,
          -0.5427143810390751,
          1.8653101105958274,
          0.9160042953261466,
          -0.7399792359271136,
          -1.3913613995497782,
          -1.3659709922367504,
          -1.7739464469938493,
          0.9790656864957751,
          -0.5645792416112951,
          1.3080798586746816,
          -0.3710346468680679,
          -0.3831733338661221,
          0.6690962928884536,
          0.5510184334158387,
          0.7638864171285927,
          0.7173354808699728,
          -0.7350903538128789,
          1.3679739533904145,
          -1.6310206244484406,
          -0.39313156746717626,
          0.026323629417493655,
          -1.7894767650578125,
          -0.7225163772056884,
          1.9078118752926256,
          0.7217442983989159
         ],
         "yaxis": "y5"
        },
        {
         "histfunc": "count",
         "histnorm": "",
         "marker": {
          "color": "rgba(55, 128, 191, 1.0)",
          "line": {
           "color": "#4D5663",
           "width": 1.3
          }
         },
         "name": "B",
         "nbinsx": 10,
         "opacity": 0.8,
         "orientation": "v",
         "type": "histogram",
         "x": [
          2.4033726396064625,
          -0.3180661953813854,
          0.3575646009315945,
          -0.1105494946218425,
          -1.9893182998132442,
          0.12108998433814257,
          1.6231297492375656,
          -1.2060270018752517,
          -1.4763460598573717,
          -0.31605687258158366,
          -0.30143437365788345,
          -0.26399532166551437,
          0.9165050788909543,
          0.7736176343862297,
          0.9360968870348345,
          0.6558051320314173,
          -0.9571761584379436,
          -0.9924811564511132,
          0.7971918612956219,
          -0.37130794160576763,
          -0.2760754290236538,
          0.6900682486696768,
          1.5530644454787816,
          0.4313746272862494,
          0.606668375448992,
          -0.1678150518632239,
          -0.06562136516121853,
          1.1358032600451677,
          -1.555216491676847,
          2.3596114839686897,
          1.6849126218993657,
          -1.1076458633876247,
          0.19152751134038656,
          -2.418973945595888,
          0.46641748517612613,
          -0.21364558612811305,
          1.1480763571394446,
          0.059794594708253365,
          0.42198828304935004,
          -0.1278335244912023,
          -0.3434904890462654,
          0.6386561805665968,
          -0.14208161537358346,
          -0.21014682568625534,
          -1.1515120179039007,
          0.6423152244432342,
          0.5385251636516468,
          -1.2735301704460944,
          -0.9263130931462031,
          1.0528723780534726,
          1.398092729216517,
          0.7409688920291192,
          1.5330713382437804,
          1.2238886674459235,
          1.3021010010114673,
          0.9267666640747797,
          -1.0632816642972323,
          -0.853609509509939,
          1.4774215216322193,
          1.8375264582418434,
          1.2510879290725092,
          0.11877753746905721,
          1.0800394768582156,
          -1.31790521726136,
          -1.365923862710278,
          1.6836138765041453,
          -0.0050875497121913756,
          0.14030157148832426,
          -0.7439091480217016,
          0.3421569973368127,
          0.3176875279051301,
          -0.4658550524900476,
          1.5083142101265588,
          0.9342942058681324,
          0.038805998180403596,
          -0.5427143810390751,
          1.8653101105958274,
          0.9160042953261466,
          -0.7399792359271136,
          -1.3913613995497782,
          -1.3659709922367504,
          -1.7739464469938493,
          0.9790656864957751,
          -0.5645792416112951,
          1.3080798586746816,
          -0.3710346468680679,
          -0.3831733338661221,
          0.6690962928884536,
          0.5510184334158387,
          0.7638864171285927,
          0.7173354808699728,
          -0.7350903538128789,
          1.3679739533904145,
          -1.6310206244484406,
          -0.39313156746717626,
          0.026323629417493655,
          -1.7894767650578125,
          -0.7225163772056884,
          1.9078118752926256,
          0.7217442983989159
         ],
         "xaxis": "x6",
         "yaxis": "y6"
        },
        {
         "line": {
          "color": "rgba(128, 128, 128, 1.0)",
          "dash": "solid",
          "shape": "linear",
          "width": 1.3
         },
         "marker": {
          "size": 2,
          "symbol": "circle"
         },
         "mode": "markers",
         "name": "B",
         "text": "",
         "type": "scatter",
         "x": [
          0.4689665067580521,
          2.657661785631248,
          -0.15695404125640144,
          0.605265196825292,
          -0.7057374319212296,
          0.8444309653569217,
          0.7513210022146437,
          0.4307395998978597,
          1.0371730870237932,
          1.974103854421076,
          -1.1288760520237493,
          0.8055315230691629,
          -1.335601470526402,
          -0.028547479101887447,
          0.06747542495281443,
          -1.1309575553312143,
          1.6271698811106052,
          -0.8569455622264276,
          0.6456922933836641,
          1.6379346196809164,
          0.1806495115367449,
          0.14639348883989947,
          -1.3552736004820631,
          -0.119350727088024,
          -0.3563793145517163,
          -1.023983797537162,
          -1.2002930376860392,
          0.30540079810011533,
          -0.4761218790211993,
          0.24257472613728698,
          -0.3361720751310067,
          -1.846424890646746,
          -0.7748643511775507,
          -0.8618459502950332,
          2.1193450044927333,
          0.40496375514144517,
          -2.9377762864827,
          -1.8965821460469738,
          -0.48480046089468737,
          0.7483102482534699,
          1.6910057862337557,
          -1.233714975417407,
          0.06493475062118555,
          0.6392015128212213,
          -0.5899288328143886,
          -0.728572959023513,
          0.6113604849908908,
          1.2054338538568574,
          0.08020295162428227,
          2.041858302804547,
          1.4184034553585103,
          -0.1719830931621509,
          -0.6949916357107848,
          -1.978855890551208,
          0.6257545974595368,
          0.8632133760671598,
          -0.5976588697599662,
          0.8479532170096117,
          1.70344793958928,
          1.1386853529720973,
          0.8487051642989147,
          0.968843823916177,
          0.6957190136412353,
          0.002582225038355152,
          -1.4513032950993925,
          -0.19805787701228872,
          0.6774343549635712,
          -1.4327537700193087,
          0.26411514326036833,
          -0.33671161663269716,
          -0.08407330728644541,
          1.368220600727735,
          1.645714258578475,
          -1.384406199597019,
          0.5083535943892357,
          -1.0514179180662875,
          0.7549770555868955,
          -1.675545109092052,
          -1.0451488351170122,
          -2.0614544842966995,
          0.16982230547273192,
          1.8251139327360477,
          0.44986683396737626,
          0.3939286211800785,
          -1.114911778732924,
          -0.4177123875352382,
          1.108470034084431,
          0.49834592193931465,
          -1.9547909952942522,
          1.176365585897962,
          -0.029407168874944503,
          -0.4613577626841192,
          -1.3451916694004673,
          0.8821653763967819,
          -1.173395693010109,
          0.32036147045809604,
          -1.2749930918574466,
          1.9899525192678373,
          -1.1398903142935857,
          -0.4968601383846873
         ],
         "xaxis": "x7",
         "y": [
          2.4033726396064625,
          -0.3180661953813854,
          0.3575646009315945,
          -0.1105494946218425,
          -1.9893182998132442,
          0.12108998433814257,
          1.6231297492375656,
          -1.2060270018752517,
          -1.4763460598573717,
          -0.31605687258158366,
          -0.30143437365788345,
          -0.26399532166551437,
          0.9165050788909543,
          0.7736176343862297,
          0.9360968870348345,
          0.6558051320314173,
          -0.9571761584379436,
          -0.9924811564511132,
          0.7971918612956219,
          -0.37130794160576763,
          -0.2760754290236538,
          0.6900682486696768,
          1.5530644454787816,
          0.4313746272862494,
          0.606668375448992,
          -0.1678150518632239,
          -0.06562136516121853,
          1.1358032600451677,
          -1.555216491676847,
          2.3596114839686897,
          1.6849126218993657,
          -1.1076458633876247,
          0.19152751134038656,
          -2.418973945595888,
          0.46641748517612613,
          -0.21364558612811305,
          1.1480763571394446,
          0.059794594708253365,
          0.42198828304935004,
          -0.1278335244912023,
          -0.3434904890462654,
          0.6386561805665968,
          -0.14208161537358346,
          -0.21014682568625534,
          -1.1515120179039007,
          0.6423152244432342,
          0.5385251636516468,
          -1.2735301704460944,
          -0.9263130931462031,
          1.0528723780534726,
          1.398092729216517,
          0.7409688920291192,
          1.5330713382437804,
          1.2238886674459235,
          1.3021010010114673,
          0.9267666640747797,
          -1.0632816642972323,
          -0.853609509509939,
          1.4774215216322193,
          1.8375264582418434,
          1.2510879290725092,
          0.11877753746905721,
          1.0800394768582156,
          -1.31790521726136,
          -1.365923862710278,
          1.6836138765041453,
          -0.0050875497121913756,
          0.14030157148832426,
          -0.7439091480217016,
          0.3421569973368127,
          0.3176875279051301,
          -0.4658550524900476,
          1.5083142101265588,
          0.9342942058681324,
          0.038805998180403596,
          -0.5427143810390751,
          1.8653101105958274,
          0.9160042953261466,
          -0.7399792359271136,
          -1.3913613995497782,
          -1.3659709922367504,
          -1.7739464469938493,
          0.9790656864957751,
          -0.5645792416112951,
          1.3080798586746816,
          -0.3710346468680679,
          -0.3831733338661221,
          0.6690962928884536,
          0.5510184334158387,
          0.7638864171285927,
          0.7173354808699728,
          -0.7350903538128789,
          1.3679739533904145,
          -1.6310206244484406,
          -0.39313156746717626,
          0.026323629417493655,
          -1.7894767650578125,
          -0.7225163772056884,
          1.9078118752926256,
          0.7217442983989159
         ],
         "yaxis": "y7"
        },
        {
         "line": {
          "color": "rgba(128, 128, 128, 1.0)",
          "dash": "solid",
          "shape": "linear",
          "width": 1.3
         },
         "marker": {
          "size": 2,
          "symbol": "circle"
         },
         "mode": "markers",
         "name": "B",
         "text": "",
         "type": "scatter",
         "x": [
          1.0085964341555844,
          -1.2269753588859271,
          -1.5097988830045546,
          -0.5957249513887795,
          -0.957292708169662,
          0.37925034902571103,
          0.6390786863933957,
          -1.4278468527458785,
          1.1554198868405157,
          1.4835710039569256,
          -1.8617930501549576,
          1.0549386258229976,
          -0.597880076754315,
          0.5091114140451493,
          -0.4236008265812986,
          2.0422230963736423,
          -1.5944447623816826,
          1.0046933857435616,
          -1.346948771912937,
          -0.4780454082197933,
          -0.1293847086726596,
          0.047109012029019515,
          0.5254822345724128,
          0.822192262412065,
          1.4459759780435455,
          0.9115178242482179,
          0.09163585118157323,
          -0.4333767970305198,
          -0.25317827633395823,
          1.251941966515613,
          -0.48504486193858026,
          1.4155994216269399,
          -0.08942120600242834,
          0.018129302526952513,
          0.09538400771573545,
          0.14635880217596137,
          -0.03521929132626436,
          0.9464919018571304,
          -1.0298398614208712,
          1.1468853072362954,
          -0.28638870472181804,
          -2.312265561373491,
          1.0994685942927933,
          1.9323478853341507,
          1.285517116893445,
          -0.6561135953456818,
          0.613382362747721,
          0.294912843507637,
          0.501579060503352,
          2.0601536753961205,
          0.09031593286671273,
          -2.1116352492033665,
          1.14479295440716,
          1.6482467822786142,
          -0.23688476995824312,
          -2.483168964360678,
          1.7393690105774773,
          -0.7528532600045252,
          0.549850368149912,
          1.6092665516046354,
          1.1245463956901984,
          -0.25960022308154207,
          -0.894525142137224,
          -0.44335753624262075,
          -0.4953186258903264,
          0.44862293242002454,
          0.5076707606831699,
          -0.8234639692664324,
          -0.1825116567135101,
          0.6165168690298184,
          -0.7441595984799642,
          -1.2644685398119577,
          1.9473943153893534,
          0.8716113455957312,
          1.4056319769016397,
          0.18172623584949632,
          -0.34499946405601095,
          0.7016813836505776,
          0.5675933797489788,
          -0.0634524470695323,
          1.6698437842254625,
          -0.2589095268265948,
          0.39291905061572424,
          -2.3753214718334985,
          -0.44280955514871473,
          -0.06627116150696902,
          0.5600957537663671,
          -0.9066305671341511,
          0.8827050851394105,
          0.19517323025462843,
          0.2499217272758512,
          0.21879809967016942,
          -0.31226846868748914,
          -1.7337764797766497,
          0.8209083232667705,
          -0.42547099701212215,
          -0.09310701732516485,
          0.3629058590313021,
          0.1407115006202667,
          0.876168071097411
         ],
         "xaxis": "x8",
         "y": [
          2.4033726396064625,
          -0.3180661953813854,
          0.3575646009315945,
          -0.1105494946218425,
          -1.9893182998132442,
          0.12108998433814257,
          1.6231297492375656,
          -1.2060270018752517,
          -1.4763460598573717,
          -0.31605687258158366,
          -0.30143437365788345,
          -0.26399532166551437,
          0.9165050788909543,
          0.7736176343862297,
          0.9360968870348345,
          0.6558051320314173,
          -0.9571761584379436,
          -0.9924811564511132,
          0.7971918612956219,
          -0.37130794160576763,
          -0.2760754290236538,
          0.6900682486696768,
          1.5530644454787816,
          0.4313746272862494,
          0.606668375448992,
          -0.1678150518632239,
          -0.06562136516121853,
          1.1358032600451677,
          -1.555216491676847,
          2.3596114839686897,
          1.6849126218993657,
          -1.1076458633876247,
          0.19152751134038656,
          -2.418973945595888,
          0.46641748517612613,
          -0.21364558612811305,
          1.1480763571394446,
          0.059794594708253365,
          0.42198828304935004,
          -0.1278335244912023,
          -0.3434904890462654,
          0.6386561805665968,
          -0.14208161537358346,
          -0.21014682568625534,
          -1.1515120179039007,
          0.6423152244432342,
          0.5385251636516468,
          -1.2735301704460944,
          -0.9263130931462031,
          1.0528723780534726,
          1.398092729216517,
          0.7409688920291192,
          1.5330713382437804,
          1.2238886674459235,
          1.3021010010114673,
          0.9267666640747797,
          -1.0632816642972323,
          -0.853609509509939,
          1.4774215216322193,
          1.8375264582418434,
          1.2510879290725092,
          0.11877753746905721,
          1.0800394768582156,
          -1.31790521726136,
          -1.365923862710278,
          1.6836138765041453,
          -0.0050875497121913756,
          0.14030157148832426,
          -0.7439091480217016,
          0.3421569973368127,
          0.3176875279051301,
          -0.4658550524900476,
          1.5083142101265588,
          0.9342942058681324,
          0.038805998180403596,
          -0.5427143810390751,
          1.8653101105958274,
          0.9160042953261466,
          -0.7399792359271136,
          -1.3913613995497782,
          -1.3659709922367504,
          -1.7739464469938493,
          0.9790656864957751,
          -0.5645792416112951,
          1.3080798586746816,
          -0.3710346468680679,
          -0.3831733338661221,
          0.6690962928884536,
          0.5510184334158387,
          0.7638864171285927,
          0.7173354808699728,
          -0.7350903538128789,
          1.3679739533904145,
          -1.6310206244484406,
          -0.39313156746717626,
          0.026323629417493655,
          -1.7894767650578125,
          -0.7225163772056884,
          1.9078118752926256,
          0.7217442983989159
         ],
         "yaxis": "y8"
        },
        {
         "line": {
          "color": "rgba(128, 128, 128, 1.0)",
          "dash": "solid",
          "shape": "linear",
          "width": 1.3
         },
         "marker": {
          "size": 2,
          "symbol": "circle"
         },
         "mode": "markers",
         "name": "C",
         "text": "",
         "type": "scatter",
         "x": [
          -0.6123213313638834,
          1.3594760586323038,
          0.7157028374769693,
          0.7428268604041767,
          1.4387038289767837,
          -0.18659775442196597,
          1.4732645597761136,
          -1.0063295388071447,
          1.056092961661525,
          -2.47632273602315,
          -0.635452318342618,
          -0.44341162530791667,
          0.8603466277919531,
          0.07446614932749684,
          -0.1331131522466488,
          0.9950176867120871,
          -0.6469853058251499,
          -0.8700113105706968,
          0.7451915965836442,
          1.0080729109461022,
          1.3612656769446707,
          -0.46388543466577953,
          -1.6252556434939562,
          -0.9321225459929191,
          0.16520721127913351,
          1.109035311807075,
          -0.17481458358740606,
          -1.624426672284938,
          -0.1702527952572121,
          0.5692071778213524,
          -1.8522429631266695,
          -1.8274075534861318,
          1.4467135685260804,
          -0.2566950458043969,
          -0.31473561434280445,
          -1.3924295664519903,
          -1.5183227401831643,
          1.100316191055605,
          -1.3243172550303042,
          0.934613326420437,
          0.5058253582807383,
          0.6925078253422744,
          1.9416032539843482,
          -1.1472736624868352,
          0.6738495664997504,
          -0.47737184536099964,
          -1.641216335191951,
          -0.13222458670586418,
          -0.709692601338341,
          1.0704070534135786,
          -0.35957829928635193,
          1.1347015745407685,
          1.7394557819272984,
          0.10648238319660469,
          -1.2104409774898166,
          -0.21935452937051048,
          -0.7209436501354658,
          -0.36707627095778994,
          -0.4137095293103209,
          -0.14202313507910364,
          1.2665388927529673,
          1.1194663999265804,
          -1.2425290334764583,
          0.39840737442666446,
          0.8945368981705608,
          -0.9571858944373809,
          -0.4633202776630124,
          -0.9712012233075042,
          0.7208776529585661,
          0.7438375746122489,
          -1.3026515735400312,
          1.004468713016441,
          -0.34401917264171356,
          0.37856579146205005,
          0.5766908858096895,
          0.14489140687254426,
          0.5030487355914735,
          0.16656440729662095,
          -1.044040712361414,
          1.3940344198410861,
          -1.8958614932946471,
          -1.598344342488547,
          0.619097265217185,
          1.1247773545002318,
          -0.7131652820603137,
          -0.7259441325114188,
          0.3783084614135404,
          0.953242635318946,
          -1.0865438738709796,
          1.0560252986180356,
          -0.9152623676229141,
          -0.47689637661425693,
          -1.5731089650479364,
          0.45657205749455,
          -0.011860036772261388,
          -0.7254513536108076,
          0.5454745770976296,
          -1.669814686271186,
          1.5393007948667181,
          0.28512201838580503
         ],
         "xaxis": "x9",
         "y": [
          0.4689665067580521,
          2.657661785631248,
          -0.15695404125640144,
          0.605265196825292,
          -0.7057374319212296,
          0.8444309653569217,
          0.7513210022146437,
          0.4307395998978597,
          1.0371730870237932,
          1.974103854421076,
          -1.1288760520237493,
          0.8055315230691629,
          -1.335601470526402,
          -0.028547479101887447,
          0.06747542495281443,
          -1.1309575553312143,
          1.6271698811106052,
          -0.8569455622264276,
          0.6456922933836641,
          1.6379346196809164,
          0.1806495115367449,
          0.14639348883989947,
          -1.3552736004820631,
          -0.119350727088024,
          -0.3563793145517163,
          -1.023983797537162,
          -1.2002930376860392,
          0.30540079810011533,
          -0.4761218790211993,
          0.24257472613728698,
          -0.3361720751310067,
          -1.846424890646746,
          -0.7748643511775507,
          -0.8618459502950332,
          2.1193450044927333,
          0.40496375514144517,
          -2.9377762864827,
          -1.8965821460469738,
          -0.48480046089468737,
          0.7483102482534699,
          1.6910057862337557,
          -1.233714975417407,
          0.06493475062118555,
          0.6392015128212213,
          -0.5899288328143886,
          -0.728572959023513,
          0.6113604849908908,
          1.2054338538568574,
          0.08020295162428227,
          2.041858302804547,
          1.4184034553585103,
          -0.1719830931621509,
          -0.6949916357107848,
          -1.978855890551208,
          0.6257545974595368,
          0.8632133760671598,
          -0.5976588697599662,
          0.8479532170096117,
          1.70344793958928,
          1.1386853529720973,
          0.8487051642989147,
          0.968843823916177,
          0.6957190136412353,
          0.002582225038355152,
          -1.4513032950993925,
          -0.19805787701228872,
          0.6774343549635712,
          -1.4327537700193087,
          0.26411514326036833,
          -0.33671161663269716,
          -0.08407330728644541,
          1.368220600727735,
          1.645714258578475,
          -1.384406199597019,
          0.5083535943892357,
          -1.0514179180662875,
          0.7549770555868955,
          -1.675545109092052,
          -1.0451488351170122,
          -2.0614544842966995,
          0.16982230547273192,
          1.8251139327360477,
          0.44986683396737626,
          0.3939286211800785,
          -1.114911778732924,
          -0.4177123875352382,
          1.108470034084431,
          0.49834592193931465,
          -1.9547909952942522,
          1.176365585897962,
          -0.029407168874944503,
          -0.4613577626841192,
          -1.3451916694004673,
          0.8821653763967819,
          -1.173395693010109,
          0.32036147045809604,
          -1.2749930918574466,
          1.9899525192678373,
          -1.1398903142935857,
          -0.4968601383846873
         ],
         "yaxis": "y9"
        },
        {
         "line": {
          "color": "rgba(128, 128, 128, 1.0)",
          "dash": "solid",
          "shape": "linear",
          "width": 1.3
         },
         "marker": {
          "size": 2,
          "symbol": "circle"
         },
         "mode": "markers",
         "name": "C",
         "text": "",
         "type": "scatter",
         "x": [
          2.4033726396064625,
          -0.3180661953813854,
          0.3575646009315945,
          -0.1105494946218425,
          -1.9893182998132442,
          0.12108998433814257,
          1.6231297492375656,
          -1.2060270018752517,
          -1.4763460598573717,
          -0.31605687258158366,
          -0.30143437365788345,
          -0.26399532166551437,
          0.9165050788909543,
          0.7736176343862297,
          0.9360968870348345,
          0.6558051320314173,
          -0.9571761584379436,
          -0.9924811564511132,
          0.7971918612956219,
          -0.37130794160576763,
          -0.2760754290236538,
          0.6900682486696768,
          1.5530644454787816,
          0.4313746272862494,
          0.606668375448992,
          -0.1678150518632239,
          -0.06562136516121853,
          1.1358032600451677,
          -1.555216491676847,
          2.3596114839686897,
          1.6849126218993657,
          -1.1076458633876247,
          0.19152751134038656,
          -2.418973945595888,
          0.46641748517612613,
          -0.21364558612811305,
          1.1480763571394446,
          0.059794594708253365,
          0.42198828304935004,
          -0.1278335244912023,
          -0.3434904890462654,
          0.6386561805665968,
          -0.14208161537358346,
          -0.21014682568625534,
          -1.1515120179039007,
          0.6423152244432342,
          0.5385251636516468,
          -1.2735301704460944,
          -0.9263130931462031,
          1.0528723780534726,
          1.398092729216517,
          0.7409688920291192,
          1.5330713382437804,
          1.2238886674459235,
          1.3021010010114673,
          0.9267666640747797,
          -1.0632816642972323,
          -0.853609509509939,
          1.4774215216322193,
          1.8375264582418434,
          1.2510879290725092,
          0.11877753746905721,
          1.0800394768582156,
          -1.31790521726136,
          -1.365923862710278,
          1.6836138765041453,
          -0.0050875497121913756,
          0.14030157148832426,
          -0.7439091480217016,
          0.3421569973368127,
          0.3176875279051301,
          -0.4658550524900476,
          1.5083142101265588,
          0.9342942058681324,
          0.038805998180403596,
          -0.5427143810390751,
          1.8653101105958274,
          0.9160042953261466,
          -0.7399792359271136,
          -1.3913613995497782,
          -1.3659709922367504,
          -1.7739464469938493,
          0.9790656864957751,
          -0.5645792416112951,
          1.3080798586746816,
          -0.3710346468680679,
          -0.3831733338661221,
          0.6690962928884536,
          0.5510184334158387,
          0.7638864171285927,
          0.7173354808699728,
          -0.7350903538128789,
          1.3679739533904145,
          -1.6310206244484406,
          -0.39313156746717626,
          0.026323629417493655,
          -1.7894767650578125,
          -0.7225163772056884,
          1.9078118752926256,
          0.7217442983989159
         ],
         "xaxis": "x10",
         "y": [
          0.4689665067580521,
          2.657661785631248,
          -0.15695404125640144,
          0.605265196825292,
          -0.7057374319212296,
          0.8444309653569217,
          0.7513210022146437,
          0.4307395998978597,
          1.0371730870237932,
          1.974103854421076,
          -1.1288760520237493,
          0.8055315230691629,
          -1.335601470526402,
          -0.028547479101887447,
          0.06747542495281443,
          -1.1309575553312143,
          1.6271698811106052,
          -0.8569455622264276,
          0.6456922933836641,
          1.6379346196809164,
          0.1806495115367449,
          0.14639348883989947,
          -1.3552736004820631,
          -0.119350727088024,
          -0.3563793145517163,
          -1.023983797537162,
          -1.2002930376860392,
          0.30540079810011533,
          -0.4761218790211993,
          0.24257472613728698,
          -0.3361720751310067,
          -1.846424890646746,
          -0.7748643511775507,
          -0.8618459502950332,
          2.1193450044927333,
          0.40496375514144517,
          -2.9377762864827,
          -1.8965821460469738,
          -0.48480046089468737,
          0.7483102482534699,
          1.6910057862337557,
          -1.233714975417407,
          0.06493475062118555,
          0.6392015128212213,
          -0.5899288328143886,
          -0.728572959023513,
          0.6113604849908908,
          1.2054338538568574,
          0.08020295162428227,
          2.041858302804547,
          1.4184034553585103,
          -0.1719830931621509,
          -0.6949916357107848,
          -1.978855890551208,
          0.6257545974595368,
          0.8632133760671598,
          -0.5976588697599662,
          0.8479532170096117,
          1.70344793958928,
          1.1386853529720973,
          0.8487051642989147,
          0.968843823916177,
          0.6957190136412353,
          0.002582225038355152,
          -1.4513032950993925,
          -0.19805787701228872,
          0.6774343549635712,
          -1.4327537700193087,
          0.26411514326036833,
          -0.33671161663269716,
          -0.08407330728644541,
          1.368220600727735,
          1.645714258578475,
          -1.384406199597019,
          0.5083535943892357,
          -1.0514179180662875,
          0.7549770555868955,
          -1.675545109092052,
          -1.0451488351170122,
          -2.0614544842966995,
          0.16982230547273192,
          1.8251139327360477,
          0.44986683396737626,
          0.3939286211800785,
          -1.114911778732924,
          -0.4177123875352382,
          1.108470034084431,
          0.49834592193931465,
          -1.9547909952942522,
          1.176365585897962,
          -0.029407168874944503,
          -0.4613577626841192,
          -1.3451916694004673,
          0.8821653763967819,
          -1.173395693010109,
          0.32036147045809604,
          -1.2749930918574466,
          1.9899525192678373,
          -1.1398903142935857,
          -0.4968601383846873
         ],
         "yaxis": "y10"
        },
        {
         "histfunc": "count",
         "histnorm": "",
         "marker": {
          "color": "rgba(50, 171, 96, 1.0)",
          "line": {
           "color": "#4D5663",
           "width": 1.3
          }
         },
         "name": "C",
         "nbinsx": 10,
         "opacity": 0.8,
         "orientation": "v",
         "type": "histogram",
         "x": [
          0.4689665067580521,
          2.657661785631248,
          -0.15695404125640144,
          0.605265196825292,
          -0.7057374319212296,
          0.8444309653569217,
          0.7513210022146437,
          0.4307395998978597,
          1.0371730870237932,
          1.974103854421076,
          -1.1288760520237493,
          0.8055315230691629,
          -1.335601470526402,
          -0.028547479101887447,
          0.06747542495281443,
          -1.1309575553312143,
          1.6271698811106052,
          -0.8569455622264276,
          0.6456922933836641,
          1.6379346196809164,
          0.1806495115367449,
          0.14639348883989947,
          -1.3552736004820631,
          -0.119350727088024,
          -0.3563793145517163,
          -1.023983797537162,
          -1.2002930376860392,
          0.30540079810011533,
          -0.4761218790211993,
          0.24257472613728698,
          -0.3361720751310067,
          -1.846424890646746,
          -0.7748643511775507,
          -0.8618459502950332,
          2.1193450044927333,
          0.40496375514144517,
          -2.9377762864827,
          -1.8965821460469738,
          -0.48480046089468737,
          0.7483102482534699,
          1.6910057862337557,
          -1.233714975417407,
          0.06493475062118555,
          0.6392015128212213,
          -0.5899288328143886,
          -0.728572959023513,
          0.6113604849908908,
          1.2054338538568574,
          0.08020295162428227,
          2.041858302804547,
          1.4184034553585103,
          -0.1719830931621509,
          -0.6949916357107848,
          -1.978855890551208,
          0.6257545974595368,
          0.8632133760671598,
          -0.5976588697599662,
          0.8479532170096117,
          1.70344793958928,
          1.1386853529720973,
          0.8487051642989147,
          0.968843823916177,
          0.6957190136412353,
          0.002582225038355152,
          -1.4513032950993925,
          -0.19805787701228872,
          0.6774343549635712,
          -1.4327537700193087,
          0.26411514326036833,
          -0.33671161663269716,
          -0.08407330728644541,
          1.368220600727735,
          1.645714258578475,
          -1.384406199597019,
          0.5083535943892357,
          -1.0514179180662875,
          0.7549770555868955,
          -1.675545109092052,
          -1.0451488351170122,
          -2.0614544842966995,
          0.16982230547273192,
          1.8251139327360477,
          0.44986683396737626,
          0.3939286211800785,
          -1.114911778732924,
          -0.4177123875352382,
          1.108470034084431,
          0.49834592193931465,
          -1.9547909952942522,
          1.176365585897962,
          -0.029407168874944503,
          -0.4613577626841192,
          -1.3451916694004673,
          0.8821653763967819,
          -1.173395693010109,
          0.32036147045809604,
          -1.2749930918574466,
          1.9899525192678373,
          -1.1398903142935857,
          -0.4968601383846873
         ],
         "xaxis": "x11",
         "yaxis": "y11"
        },
        {
         "line": {
          "color": "rgba(128, 128, 128, 1.0)",
          "dash": "solid",
          "shape": "linear",
          "width": 1.3
         },
         "marker": {
          "size": 2,
          "symbol": "circle"
         },
         "mode": "markers",
         "name": "C",
         "text": "",
         "type": "scatter",
         "x": [
          1.0085964341555844,
          -1.2269753588859271,
          -1.5097988830045546,
          -0.5957249513887795,
          -0.957292708169662,
          0.37925034902571103,
          0.6390786863933957,
          -1.4278468527458785,
          1.1554198868405157,
          1.4835710039569256,
          -1.8617930501549576,
          1.0549386258229976,
          -0.597880076754315,
          0.5091114140451493,
          -0.4236008265812986,
          2.0422230963736423,
          -1.5944447623816826,
          1.0046933857435616,
          -1.346948771912937,
          -0.4780454082197933,
          -0.1293847086726596,
          0.047109012029019515,
          0.5254822345724128,
          0.822192262412065,
          1.4459759780435455,
          0.9115178242482179,
          0.09163585118157323,
          -0.4333767970305198,
          -0.25317827633395823,
          1.251941966515613,
          -0.48504486193858026,
          1.4155994216269399,
          -0.08942120600242834,
          0.018129302526952513,
          0.09538400771573545,
          0.14635880217596137,
          -0.03521929132626436,
          0.9464919018571304,
          -1.0298398614208712,
          1.1468853072362954,
          -0.28638870472181804,
          -2.312265561373491,
          1.0994685942927933,
          1.9323478853341507,
          1.285517116893445,
          -0.6561135953456818,
          0.613382362747721,
          0.294912843507637,
          0.501579060503352,
          2.0601536753961205,
          0.09031593286671273,
          -2.1116352492033665,
          1.14479295440716,
          1.6482467822786142,
          -0.23688476995824312,
          -2.483168964360678,
          1.7393690105774773,
          -0.7528532600045252,
          0.549850368149912,
          1.6092665516046354,
          1.1245463956901984,
          -0.25960022308154207,
          -0.894525142137224,
          -0.44335753624262075,
          -0.4953186258903264,
          0.44862293242002454,
          0.5076707606831699,
          -0.8234639692664324,
          -0.1825116567135101,
          0.6165168690298184,
          -0.7441595984799642,
          -1.2644685398119577,
          1.9473943153893534,
          0.8716113455957312,
          1.4056319769016397,
          0.18172623584949632,
          -0.34499946405601095,
          0.7016813836505776,
          0.5675933797489788,
          -0.0634524470695323,
          1.6698437842254625,
          -0.2589095268265948,
          0.39291905061572424,
          -2.3753214718334985,
          -0.44280955514871473,
          -0.06627116150696902,
          0.5600957537663671,
          -0.9066305671341511,
          0.8827050851394105,
          0.19517323025462843,
          0.2499217272758512,
          0.21879809967016942,
          -0.31226846868748914,
          -1.7337764797766497,
          0.8209083232667705,
          -0.42547099701212215,
          -0.09310701732516485,
          0.3629058590313021,
          0.1407115006202667,
          0.876168071097411
         ],
         "xaxis": "x12",
         "y": [
          0.4689665067580521,
          2.657661785631248,
          -0.15695404125640144,
          0.605265196825292,
          -0.7057374319212296,
          0.8444309653569217,
          0.7513210022146437,
          0.4307395998978597,
          1.0371730870237932,
          1.974103854421076,
          -1.1288760520237493,
          0.8055315230691629,
          -1.335601470526402,
          -0.028547479101887447,
          0.06747542495281443,
          -1.1309575553312143,
          1.6271698811106052,
          -0.8569455622264276,
          0.6456922933836641,
          1.6379346196809164,
          0.1806495115367449,
          0.14639348883989947,
          -1.3552736004820631,
          -0.119350727088024,
          -0.3563793145517163,
          -1.023983797537162,
          -1.2002930376860392,
          0.30540079810011533,
          -0.4761218790211993,
          0.24257472613728698,
          -0.3361720751310067,
          -1.846424890646746,
          -0.7748643511775507,
          -0.8618459502950332,
          2.1193450044927333,
          0.40496375514144517,
          -2.9377762864827,
          -1.8965821460469738,
          -0.48480046089468737,
          0.7483102482534699,
          1.6910057862337557,
          -1.233714975417407,
          0.06493475062118555,
          0.6392015128212213,
          -0.5899288328143886,
          -0.728572959023513,
          0.6113604849908908,
          1.2054338538568574,
          0.08020295162428227,
          2.041858302804547,
          1.4184034553585103,
          -0.1719830931621509,
          -0.6949916357107848,
          -1.978855890551208,
          0.6257545974595368,
          0.8632133760671598,
          -0.5976588697599662,
          0.8479532170096117,
          1.70344793958928,
          1.1386853529720973,
          0.8487051642989147,
          0.968843823916177,
          0.6957190136412353,
          0.002582225038355152,
          -1.4513032950993925,
          -0.19805787701228872,
          0.6774343549635712,
          -1.4327537700193087,
          0.26411514326036833,
          -0.33671161663269716,
          -0.08407330728644541,
          1.368220600727735,
          1.645714258578475,
          -1.384406199597019,
          0.5083535943892357,
          -1.0514179180662875,
          0.7549770555868955,
          -1.675545109092052,
          -1.0451488351170122,
          -2.0614544842966995,
          0.16982230547273192,
          1.8251139327360477,
          0.44986683396737626,
          0.3939286211800785,
          -1.114911778732924,
          -0.4177123875352382,
          1.108470034084431,
          0.49834592193931465,
          -1.9547909952942522,
          1.176365585897962,
          -0.029407168874944503,
          -0.4613577626841192,
          -1.3451916694004673,
          0.8821653763967819,
          -1.173395693010109,
          0.32036147045809604,
          -1.2749930918574466,
          1.9899525192678373,
          -1.1398903142935857,
          -0.4968601383846873
         ],
         "yaxis": "y12"
        },
        {
         "line": {
          "color": "rgba(128, 128, 128, 1.0)",
          "dash": "solid",
          "shape": "linear",
          "width": 1.3
         },
         "marker": {
          "size": 2,
          "symbol": "circle"
         },
         "mode": "markers",
         "name": "D",
         "text": "",
         "type": "scatter",
         "x": [
          -0.6123213313638834,
          1.3594760586323038,
          0.7157028374769693,
          0.7428268604041767,
          1.4387038289767837,
          -0.18659775442196597,
          1.4732645597761136,
          -1.0063295388071447,
          1.056092961661525,
          -2.47632273602315,
          -0.635452318342618,
          -0.44341162530791667,
          0.8603466277919531,
          0.07446614932749684,
          -0.1331131522466488,
          0.9950176867120871,
          -0.6469853058251499,
          -0.8700113105706968,
          0.7451915965836442,
          1.0080729109461022,
          1.3612656769446707,
          -0.46388543466577953,
          -1.6252556434939562,
          -0.9321225459929191,
          0.16520721127913351,
          1.109035311807075,
          -0.17481458358740606,
          -1.624426672284938,
          -0.1702527952572121,
          0.5692071778213524,
          -1.8522429631266695,
          -1.8274075534861318,
          1.4467135685260804,
          -0.2566950458043969,
          -0.31473561434280445,
          -1.3924295664519903,
          -1.5183227401831643,
          1.100316191055605,
          -1.3243172550303042,
          0.934613326420437,
          0.5058253582807383,
          0.6925078253422744,
          1.9416032539843482,
          -1.1472736624868352,
          0.6738495664997504,
          -0.47737184536099964,
          -1.641216335191951,
          -0.13222458670586418,
          -0.709692601338341,
          1.0704070534135786,
          -0.35957829928635193,
          1.1347015745407685,
          1.7394557819272984,
          0.10648238319660469,
          -1.2104409774898166,
          -0.21935452937051048,
          -0.7209436501354658,
          -0.36707627095778994,
          -0.4137095293103209,
          -0.14202313507910364,
          1.2665388927529673,
          1.1194663999265804,
          -1.2425290334764583,
          0.39840737442666446,
          0.8945368981705608,
          -0.9571858944373809,
          -0.4633202776630124,
          -0.9712012233075042,
          0.7208776529585661,
          0.7438375746122489,
          -1.3026515735400312,
          1.004468713016441,
          -0.34401917264171356,
          0.37856579146205005,
          0.5766908858096895,
          0.14489140687254426,
          0.5030487355914735,
          0.16656440729662095,
          -1.044040712361414,
          1.3940344198410861,
          -1.8958614932946471,
          -1.598344342488547,
          0.619097265217185,
          1.1247773545002318,
          -0.7131652820603137,
          -0.7259441325114188,
          0.3783084614135404,
          0.953242635318946,
          -1.0865438738709796,
          1.0560252986180356,
          -0.9152623676229141,
          -0.47689637661425693,
          -1.5731089650479364,
          0.45657205749455,
          -0.011860036772261388,
          -0.7254513536108076,
          0.5454745770976296,
          -1.669814686271186,
          1.5393007948667181,
          0.28512201838580503
         ],
         "xaxis": "x13",
         "y": [
          1.0085964341555844,
          -1.2269753588859271,
          -1.5097988830045546,
          -0.5957249513887795,
          -0.957292708169662,
          0.37925034902571103,
          0.6390786863933957,
          -1.4278468527458785,
          1.1554198868405157,
          1.4835710039569256,
          -1.8617930501549576,
          1.0549386258229976,
          -0.597880076754315,
          0.5091114140451493,
          -0.4236008265812986,
          2.0422230963736423,
          -1.5944447623816826,
          1.0046933857435616,
          -1.346948771912937,
          -0.4780454082197933,
          -0.1293847086726596,
          0.047109012029019515,
          0.5254822345724128,
          0.822192262412065,
          1.4459759780435455,
          0.9115178242482179,
          0.09163585118157323,
          -0.4333767970305198,
          -0.25317827633395823,
          1.251941966515613,
          -0.48504486193858026,
          1.4155994216269399,
          -0.08942120600242834,
          0.018129302526952513,
          0.09538400771573545,
          0.14635880217596137,
          -0.03521929132626436,
          0.9464919018571304,
          -1.0298398614208712,
          1.1468853072362954,
          -0.28638870472181804,
          -2.312265561373491,
          1.0994685942927933,
          1.9323478853341507,
          1.285517116893445,
          -0.6561135953456818,
          0.613382362747721,
          0.294912843507637,
          0.501579060503352,
          2.0601536753961205,
          0.09031593286671273,
          -2.1116352492033665,
          1.14479295440716,
          1.6482467822786142,
          -0.23688476995824312,
          -2.483168964360678,
          1.7393690105774773,
          -0.7528532600045252,
          0.549850368149912,
          1.6092665516046354,
          1.1245463956901984,
          -0.25960022308154207,
          -0.894525142137224,
          -0.44335753624262075,
          -0.4953186258903264,
          0.44862293242002454,
          0.5076707606831699,
          -0.8234639692664324,
          -0.1825116567135101,
          0.6165168690298184,
          -0.7441595984799642,
          -1.2644685398119577,
          1.9473943153893534,
          0.8716113455957312,
          1.4056319769016397,
          0.18172623584949632,
          -0.34499946405601095,
          0.7016813836505776,
          0.5675933797489788,
          -0.0634524470695323,
          1.6698437842254625,
          -0.2589095268265948,
          0.39291905061572424,
          -2.3753214718334985,
          -0.44280955514871473,
          -0.06627116150696902,
          0.5600957537663671,
          -0.9066305671341511,
          0.8827050851394105,
          0.19517323025462843,
          0.2499217272758512,
          0.21879809967016942,
          -0.31226846868748914,
          -1.7337764797766497,
          0.8209083232667705,
          -0.42547099701212215,
          -0.09310701732516485,
          0.3629058590313021,
          0.1407115006202667,
          0.876168071097411
         ],
         "yaxis": "y13"
        },
        {
         "line": {
          "color": "rgba(128, 128, 128, 1.0)",
          "dash": "solid",
          "shape": "linear",
          "width": 1.3
         },
         "marker": {
          "size": 2,
          "symbol": "circle"
         },
         "mode": "markers",
         "name": "D",
         "text": "",
         "type": "scatter",
         "x": [
          2.4033726396064625,
          -0.3180661953813854,
          0.3575646009315945,
          -0.1105494946218425,
          -1.9893182998132442,
          0.12108998433814257,
          1.6231297492375656,
          -1.2060270018752517,
          -1.4763460598573717,
          -0.31605687258158366,
          -0.30143437365788345,
          -0.26399532166551437,
          0.9165050788909543,
          0.7736176343862297,
          0.9360968870348345,
          0.6558051320314173,
          -0.9571761584379436,
          -0.9924811564511132,
          0.7971918612956219,
          -0.37130794160576763,
          -0.2760754290236538,
          0.6900682486696768,
          1.5530644454787816,
          0.4313746272862494,
          0.606668375448992,
          -0.1678150518632239,
          -0.06562136516121853,
          1.1358032600451677,
          -1.555216491676847,
          2.3596114839686897,
          1.6849126218993657,
          -1.1076458633876247,
          0.19152751134038656,
          -2.418973945595888,
          0.46641748517612613,
          -0.21364558612811305,
          1.1480763571394446,
          0.059794594708253365,
          0.42198828304935004,
          -0.1278335244912023,
          -0.3434904890462654,
          0.6386561805665968,
          -0.14208161537358346,
          -0.21014682568625534,
          -1.1515120179039007,
          0.6423152244432342,
          0.5385251636516468,
          -1.2735301704460944,
          -0.9263130931462031,
          1.0528723780534726,
          1.398092729216517,
          0.7409688920291192,
          1.5330713382437804,
          1.2238886674459235,
          1.3021010010114673,
          0.9267666640747797,
          -1.0632816642972323,
          -0.853609509509939,
          1.4774215216322193,
          1.8375264582418434,
          1.2510879290725092,
          0.11877753746905721,
          1.0800394768582156,
          -1.31790521726136,
          -1.365923862710278,
          1.6836138765041453,
          -0.0050875497121913756,
          0.14030157148832426,
          -0.7439091480217016,
          0.3421569973368127,
          0.3176875279051301,
          -0.4658550524900476,
          1.5083142101265588,
          0.9342942058681324,
          0.038805998180403596,
          -0.5427143810390751,
          1.8653101105958274,
          0.9160042953261466,
          -0.7399792359271136,
          -1.3913613995497782,
          -1.3659709922367504,
          -1.7739464469938493,
          0.9790656864957751,
          -0.5645792416112951,
          1.3080798586746816,
          -0.3710346468680679,
          -0.3831733338661221,
          0.6690962928884536,
          0.5510184334158387,
          0.7638864171285927,
          0.7173354808699728,
          -0.7350903538128789,
          1.3679739533904145,
          -1.6310206244484406,
          -0.39313156746717626,
          0.026323629417493655,
          -1.7894767650578125,
          -0.7225163772056884,
          1.9078118752926256,
          0.7217442983989159
         ],
         "xaxis": "x14",
         "y": [
          1.0085964341555844,
          -1.2269753588859271,
          -1.5097988830045546,
          -0.5957249513887795,
          -0.957292708169662,
          0.37925034902571103,
          0.6390786863933957,
          -1.4278468527458785,
          1.1554198868405157,
          1.4835710039569256,
          -1.8617930501549576,
          1.0549386258229976,
          -0.597880076754315,
          0.5091114140451493,
          -0.4236008265812986,
          2.0422230963736423,
          -1.5944447623816826,
          1.0046933857435616,
          -1.346948771912937,
          -0.4780454082197933,
          -0.1293847086726596,
          0.047109012029019515,
          0.5254822345724128,
          0.822192262412065,
          1.4459759780435455,
          0.9115178242482179,
          0.09163585118157323,
          -0.4333767970305198,
          -0.25317827633395823,
          1.251941966515613,
          -0.48504486193858026,
          1.4155994216269399,
          -0.08942120600242834,
          0.018129302526952513,
          0.09538400771573545,
          0.14635880217596137,
          -0.03521929132626436,
          0.9464919018571304,
          -1.0298398614208712,
          1.1468853072362954,
          -0.28638870472181804,
          -2.312265561373491,
          1.0994685942927933,
          1.9323478853341507,
          1.285517116893445,
          -0.6561135953456818,
          0.613382362747721,
          0.294912843507637,
          0.501579060503352,
          2.0601536753961205,
          0.09031593286671273,
          -2.1116352492033665,
          1.14479295440716,
          1.6482467822786142,
          -0.23688476995824312,
          -2.483168964360678,
          1.7393690105774773,
          -0.7528532600045252,
          0.549850368149912,
          1.6092665516046354,
          1.1245463956901984,
          -0.25960022308154207,
          -0.894525142137224,
          -0.44335753624262075,
          -0.4953186258903264,
          0.44862293242002454,
          0.5076707606831699,
          -0.8234639692664324,
          -0.1825116567135101,
          0.6165168690298184,
          -0.7441595984799642,
          -1.2644685398119577,
          1.9473943153893534,
          0.8716113455957312,
          1.4056319769016397,
          0.18172623584949632,
          -0.34499946405601095,
          0.7016813836505776,
          0.5675933797489788,
          -0.0634524470695323,
          1.6698437842254625,
          -0.2589095268265948,
          0.39291905061572424,
          -2.3753214718334985,
          -0.44280955514871473,
          -0.06627116150696902,
          0.5600957537663671,
          -0.9066305671341511,
          0.8827050851394105,
          0.19517323025462843,
          0.2499217272758512,
          0.21879809967016942,
          -0.31226846868748914,
          -1.7337764797766497,
          0.8209083232667705,
          -0.42547099701212215,
          -0.09310701732516485,
          0.3629058590313021,
          0.1407115006202667,
          0.876168071097411
         ],
         "yaxis": "y14"
        },
        {
         "line": {
          "color": "rgba(128, 128, 128, 1.0)",
          "dash": "solid",
          "shape": "linear",
          "width": 1.3
         },
         "marker": {
          "size": 2,
          "symbol": "circle"
         },
         "mode": "markers",
         "name": "D",
         "text": "",
         "type": "scatter",
         "x": [
          0.4689665067580521,
          2.657661785631248,
          -0.15695404125640144,
          0.605265196825292,
          -0.7057374319212296,
          0.8444309653569217,
          0.7513210022146437,
          0.4307395998978597,
          1.0371730870237932,
          1.974103854421076,
          -1.1288760520237493,
          0.8055315230691629,
          -1.335601470526402,
          -0.028547479101887447,
          0.06747542495281443,
          -1.1309575553312143,
          1.6271698811106052,
          -0.8569455622264276,
          0.6456922933836641,
          1.6379346196809164,
          0.1806495115367449,
          0.14639348883989947,
          -1.3552736004820631,
          -0.119350727088024,
          -0.3563793145517163,
          -1.023983797537162,
          -1.2002930376860392,
          0.30540079810011533,
          -0.4761218790211993,
          0.24257472613728698,
          -0.3361720751310067,
          -1.846424890646746,
          -0.7748643511775507,
          -0.8618459502950332,
          2.1193450044927333,
          0.40496375514144517,
          -2.9377762864827,
          -1.8965821460469738,
          -0.48480046089468737,
          0.7483102482534699,
          1.6910057862337557,
          -1.233714975417407,
          0.06493475062118555,
          0.6392015128212213,
          -0.5899288328143886,
          -0.728572959023513,
          0.6113604849908908,
          1.2054338538568574,
          0.08020295162428227,
          2.041858302804547,
          1.4184034553585103,
          -0.1719830931621509,
          -0.6949916357107848,
          -1.978855890551208,
          0.6257545974595368,
          0.8632133760671598,
          -0.5976588697599662,
          0.8479532170096117,
          1.70344793958928,
          1.1386853529720973,
          0.8487051642989147,
          0.968843823916177,
          0.6957190136412353,
          0.002582225038355152,
          -1.4513032950993925,
          -0.19805787701228872,
          0.6774343549635712,
          -1.4327537700193087,
          0.26411514326036833,
          -0.33671161663269716,
          -0.08407330728644541,
          1.368220600727735,
          1.645714258578475,
          -1.384406199597019,
          0.5083535943892357,
          -1.0514179180662875,
          0.7549770555868955,
          -1.675545109092052,
          -1.0451488351170122,
          -2.0614544842966995,
          0.16982230547273192,
          1.8251139327360477,
          0.44986683396737626,
          0.3939286211800785,
          -1.114911778732924,
          -0.4177123875352382,
          1.108470034084431,
          0.49834592193931465,
          -1.9547909952942522,
          1.176365585897962,
          -0.029407168874944503,
          -0.4613577626841192,
          -1.3451916694004673,
          0.8821653763967819,
          -1.173395693010109,
          0.32036147045809604,
          -1.2749930918574466,
          1.9899525192678373,
          -1.1398903142935857,
          -0.4968601383846873
         ],
         "xaxis": "x15",
         "y": [
          1.0085964341555844,
          -1.2269753588859271,
          -1.5097988830045546,
          -0.5957249513887795,
          -0.957292708169662,
          0.37925034902571103,
          0.6390786863933957,
          -1.4278468527458785,
          1.1554198868405157,
          1.4835710039569256,
          -1.8617930501549576,
          1.0549386258229976,
          -0.597880076754315,
          0.5091114140451493,
          -0.4236008265812986,
          2.0422230963736423,
          -1.5944447623816826,
          1.0046933857435616,
          -1.346948771912937,
          -0.4780454082197933,
          -0.1293847086726596,
          0.047109012029019515,
          0.5254822345724128,
          0.822192262412065,
          1.4459759780435455,
          0.9115178242482179,
          0.09163585118157323,
          -0.4333767970305198,
          -0.25317827633395823,
          1.251941966515613,
          -0.48504486193858026,
          1.4155994216269399,
          -0.08942120600242834,
          0.018129302526952513,
          0.09538400771573545,
          0.14635880217596137,
          -0.03521929132626436,
          0.9464919018571304,
          -1.0298398614208712,
          1.1468853072362954,
          -0.28638870472181804,
          -2.312265561373491,
          1.0994685942927933,
          1.9323478853341507,
          1.285517116893445,
          -0.6561135953456818,
          0.613382362747721,
          0.294912843507637,
          0.501579060503352,
          2.0601536753961205,
          0.09031593286671273,
          -2.1116352492033665,
          1.14479295440716,
          1.6482467822786142,
          -0.23688476995824312,
          -2.483168964360678,
          1.7393690105774773,
          -0.7528532600045252,
          0.549850368149912,
          1.6092665516046354,
          1.1245463956901984,
          -0.25960022308154207,
          -0.894525142137224,
          -0.44335753624262075,
          -0.4953186258903264,
          0.44862293242002454,
          0.5076707606831699,
          -0.8234639692664324,
          -0.1825116567135101,
          0.6165168690298184,
          -0.7441595984799642,
          -1.2644685398119577,
          1.9473943153893534,
          0.8716113455957312,
          1.4056319769016397,
          0.18172623584949632,
          -0.34499946405601095,
          0.7016813836505776,
          0.5675933797489788,
          -0.0634524470695323,
          1.6698437842254625,
          -0.2589095268265948,
          0.39291905061572424,
          -2.3753214718334985,
          -0.44280955514871473,
          -0.06627116150696902,
          0.5600957537663671,
          -0.9066305671341511,
          0.8827050851394105,
          0.19517323025462843,
          0.2499217272758512,
          0.21879809967016942,
          -0.31226846868748914,
          -1.7337764797766497,
          0.8209083232667705,
          -0.42547099701212215,
          -0.09310701732516485,
          0.3629058590313021,
          0.1407115006202667,
          0.876168071097411
         ],
         "yaxis": "y15"
        },
        {
         "histfunc": "count",
         "histnorm": "",
         "marker": {
          "color": "rgba(128, 0, 128, 1.0)",
          "line": {
           "color": "#4D5663",
           "width": 1.3
          }
         },
         "name": "D",
         "nbinsx": 10,
         "opacity": 0.8,
         "orientation": "v",
         "type": "histogram",
         "x": [
          1.0085964341555844,
          -1.2269753588859271,
          -1.5097988830045546,
          -0.5957249513887795,
          -0.957292708169662,
          0.37925034902571103,
          0.6390786863933957,
          -1.4278468527458785,
          1.1554198868405157,
          1.4835710039569256,
          -1.8617930501549576,
          1.0549386258229976,
          -0.597880076754315,
          0.5091114140451493,
          -0.4236008265812986,
          2.0422230963736423,
          -1.5944447623816826,
          1.0046933857435616,
          -1.346948771912937,
          -0.4780454082197933,
          -0.1293847086726596,
          0.047109012029019515,
          0.5254822345724128,
          0.822192262412065,
          1.4459759780435455,
          0.9115178242482179,
          0.09163585118157323,
          -0.4333767970305198,
          -0.25317827633395823,
          1.251941966515613,
          -0.48504486193858026,
          1.4155994216269399,
          -0.08942120600242834,
          0.018129302526952513,
          0.09538400771573545,
          0.14635880217596137,
          -0.03521929132626436,
          0.9464919018571304,
          -1.0298398614208712,
          1.1468853072362954,
          -0.28638870472181804,
          -2.312265561373491,
          1.0994685942927933,
          1.9323478853341507,
          1.285517116893445,
          -0.6561135953456818,
          0.613382362747721,
          0.294912843507637,
          0.501579060503352,
          2.0601536753961205,
          0.09031593286671273,
          -2.1116352492033665,
          1.14479295440716,
          1.6482467822786142,
          -0.23688476995824312,
          -2.483168964360678,
          1.7393690105774773,
          -0.7528532600045252,
          0.549850368149912,
          1.6092665516046354,
          1.1245463956901984,
          -0.25960022308154207,
          -0.894525142137224,
          -0.44335753624262075,
          -0.4953186258903264,
          0.44862293242002454,
          0.5076707606831699,
          -0.8234639692664324,
          -0.1825116567135101,
          0.6165168690298184,
          -0.7441595984799642,
          -1.2644685398119577,
          1.9473943153893534,
          0.8716113455957312,
          1.4056319769016397,
          0.18172623584949632,
          -0.34499946405601095,
          0.7016813836505776,
          0.5675933797489788,
          -0.0634524470695323,
          1.6698437842254625,
          -0.2589095268265948,
          0.39291905061572424,
          -2.3753214718334985,
          -0.44280955514871473,
          -0.06627116150696902,
          0.5600957537663671,
          -0.9066305671341511,
          0.8827050851394105,
          0.19517323025462843,
          0.2499217272758512,
          0.21879809967016942,
          -0.31226846868748914,
          -1.7337764797766497,
          0.8209083232667705,
          -0.42547099701212215,
          -0.09310701732516485,
          0.3629058590313021,
          0.1407115006202667,
          0.876168071097411
         ],
         "xaxis": "x16",
         "yaxis": "y16"
        }
       ],
       "layout": {
        "bargap": 0.02,
        "legend": {
         "bgcolor": "#F5F6F9",
         "font": {
          "color": "#4D5663"
         }
        },
        "paper_bgcolor": "#F5F6F9",
        "plot_bgcolor": "#F5F6F9",
        "showlegend": false,
        "template": {
         "data": {
          "bar": [
           {
            "error_x": {
             "color": "#2a3f5f"
            },
            "error_y": {
             "color": "#2a3f5f"
            },
            "marker": {
             "line": {
              "color": "#E5ECF6",
              "width": 0.5
             },
             "pattern": {
              "fillmode": "overlay",
              "size": 10,
              "solidity": 0.2
             }
            },
            "type": "bar"
           }
          ],
          "barpolar": [
           {
            "marker": {
             "line": {
              "color": "#E5ECF6",
              "width": 0.5
             },
             "pattern": {
              "fillmode": "overlay",
              "size": 10,
              "solidity": 0.2
             }
            },
            "type": "barpolar"
           }
          ],
          "carpet": [
           {
            "aaxis": {
             "endlinecolor": "#2a3f5f",
             "gridcolor": "white",
             "linecolor": "white",
             "minorgridcolor": "white",
             "startlinecolor": "#2a3f5f"
            },
            "baxis": {
             "endlinecolor": "#2a3f5f",
             "gridcolor": "white",
             "linecolor": "white",
             "minorgridcolor": "white",
             "startlinecolor": "#2a3f5f"
            },
            "type": "carpet"
           }
          ],
          "choropleth": [
           {
            "colorbar": {
             "outlinewidth": 0,
             "ticks": ""
            },
            "type": "choropleth"
           }
          ],
          "contour": [
           {
            "colorbar": {
             "outlinewidth": 0,
             "ticks": ""
            },
            "colorscale": [
             [
              0,
              "#0d0887"
             ],
             [
              0.1111111111111111,
              "#46039f"
             ],
             [
              0.2222222222222222,
              "#7201a8"
             ],
             [
              0.3333333333333333,
              "#9c179e"
             ],
             [
              0.4444444444444444,
              "#bd3786"
             ],
             [
              0.5555555555555556,
              "#d8576b"
             ],
             [
              0.6666666666666666,
              "#ed7953"
             ],
             [
              0.7777777777777778,
              "#fb9f3a"
             ],
             [
              0.8888888888888888,
              "#fdca26"
             ],
             [
              1,
              "#f0f921"
             ]
            ],
            "type": "contour"
           }
          ],
          "contourcarpet": [
           {
            "colorbar": {
             "outlinewidth": 0,
             "ticks": ""
            },
            "type": "contourcarpet"
           }
          ],
          "heatmap": [
           {
            "colorbar": {
             "outlinewidth": 0,
             "ticks": ""
            },
            "colorscale": [
             [
              0,
              "#0d0887"
             ],
             [
              0.1111111111111111,
              "#46039f"
             ],
             [
              0.2222222222222222,
              "#7201a8"
             ],
             [
              0.3333333333333333,
              "#9c179e"
             ],
             [
              0.4444444444444444,
              "#bd3786"
             ],
             [
              0.5555555555555556,
              "#d8576b"
             ],
             [
              0.6666666666666666,
              "#ed7953"
             ],
             [
              0.7777777777777778,
              "#fb9f3a"
             ],
             [
              0.8888888888888888,
              "#fdca26"
             ],
             [
              1,
              "#f0f921"
             ]
            ],
            "type": "heatmap"
           }
          ],
          "heatmapgl": [
           {
            "colorbar": {
             "outlinewidth": 0,
             "ticks": ""
            },
            "colorscale": [
             [
              0,
              "#0d0887"
             ],
             [
              0.1111111111111111,
              "#46039f"
             ],
             [
              0.2222222222222222,
              "#7201a8"
             ],
             [
              0.3333333333333333,
              "#9c179e"
             ],
             [
              0.4444444444444444,
              "#bd3786"
             ],
             [
              0.5555555555555556,
              "#d8576b"
             ],
             [
              0.6666666666666666,
              "#ed7953"
             ],
             [
              0.7777777777777778,
              "#fb9f3a"
             ],
             [
              0.8888888888888888,
              "#fdca26"
             ],
             [
              1,
              "#f0f921"
             ]
            ],
            "type": "heatmapgl"
           }
          ],
          "histogram": [
           {
            "marker": {
             "pattern": {
              "fillmode": "overlay",
              "size": 10,
              "solidity": 0.2
             }
            },
            "type": "histogram"
           }
          ],
          "histogram2d": [
           {
            "colorbar": {
             "outlinewidth": 0,
             "ticks": ""
            },
            "colorscale": [
             [
              0,
              "#0d0887"
             ],
             [
              0.1111111111111111,
              "#46039f"
             ],
             [
              0.2222222222222222,
              "#7201a8"
             ],
             [
              0.3333333333333333,
              "#9c179e"
             ],
             [
              0.4444444444444444,
              "#bd3786"
             ],
             [
              0.5555555555555556,
              "#d8576b"
             ],
             [
              0.6666666666666666,
              "#ed7953"
             ],
             [
              0.7777777777777778,
              "#fb9f3a"
             ],
             [
              0.8888888888888888,
              "#fdca26"
             ],
             [
              1,
              "#f0f921"
             ]
            ],
            "type": "histogram2d"
           }
          ],
          "histogram2dcontour": [
           {
            "colorbar": {
             "outlinewidth": 0,
             "ticks": ""
            },
            "colorscale": [
             [
              0,
              "#0d0887"
             ],
             [
              0.1111111111111111,
              "#46039f"
             ],
             [
              0.2222222222222222,
              "#7201a8"
             ],
             [
              0.3333333333333333,
              "#9c179e"
             ],
             [
              0.4444444444444444,
              "#bd3786"
             ],
             [
              0.5555555555555556,
              "#d8576b"
             ],
             [
              0.6666666666666666,
              "#ed7953"
             ],
             [
              0.7777777777777778,
              "#fb9f3a"
             ],
             [
              0.8888888888888888,
              "#fdca26"
             ],
             [
              1,
              "#f0f921"
             ]
            ],
            "type": "histogram2dcontour"
           }
          ],
          "mesh3d": [
           {
            "colorbar": {
             "outlinewidth": 0,
             "ticks": ""
            },
            "type": "mesh3d"
           }
          ],
          "parcoords": [
           {
            "line": {
             "colorbar": {
              "outlinewidth": 0,
              "ticks": ""
             }
            },
            "type": "parcoords"
           }
          ],
          "pie": [
           {
            "automargin": true,
            "type": "pie"
           }
          ],
          "scatter": [
           {
            "marker": {
             "colorbar": {
              "outlinewidth": 0,
              "ticks": ""
             }
            },
            "type": "scatter"
           }
          ],
          "scatter3d": [
           {
            "line": {
             "colorbar": {
              "outlinewidth": 0,
              "ticks": ""
             }
            },
            "marker": {
             "colorbar": {
              "outlinewidth": 0,
              "ticks": ""
             }
            },
            "type": "scatter3d"
           }
          ],
          "scattercarpet": [
           {
            "marker": {
             "colorbar": {
              "outlinewidth": 0,
              "ticks": ""
             }
            },
            "type": "scattercarpet"
           }
          ],
          "scattergeo": [
           {
            "marker": {
             "colorbar": {
              "outlinewidth": 0,
              "ticks": ""
             }
            },
            "type": "scattergeo"
           }
          ],
          "scattergl": [
           {
            "marker": {
             "colorbar": {
              "outlinewidth": 0,
              "ticks": ""
             }
            },
            "type": "scattergl"
           }
          ],
          "scattermapbox": [
           {
            "marker": {
             "colorbar": {
              "outlinewidth": 0,
              "ticks": ""
             }
            },
            "type": "scattermapbox"
           }
          ],
          "scatterpolar": [
           {
            "marker": {
             "colorbar": {
              "outlinewidth": 0,
              "ticks": ""
             }
            },
            "type": "scatterpolar"
           }
          ],
          "scatterpolargl": [
           {
            "marker": {
             "colorbar": {
              "outlinewidth": 0,
              "ticks": ""
             }
            },
            "type": "scatterpolargl"
           }
          ],
          "scatterternary": [
           {
            "marker": {
             "colorbar": {
              "outlinewidth": 0,
              "ticks": ""
             }
            },
            "type": "scatterternary"
           }
          ],
          "surface": [
           {
            "colorbar": {
             "outlinewidth": 0,
             "ticks": ""
            },
            "colorscale": [
             [
              0,
              "#0d0887"
             ],
             [
              0.1111111111111111,
              "#46039f"
             ],
             [
              0.2222222222222222,
              "#7201a8"
             ],
             [
              0.3333333333333333,
              "#9c179e"
             ],
             [
              0.4444444444444444,
              "#bd3786"
             ],
             [
              0.5555555555555556,
              "#d8576b"
             ],
             [
              0.6666666666666666,
              "#ed7953"
             ],
             [
              0.7777777777777778,
              "#fb9f3a"
             ],
             [
              0.8888888888888888,
              "#fdca26"
             ],
             [
              1,
              "#f0f921"
             ]
            ],
            "type": "surface"
           }
          ],
          "table": [
           {
            "cells": {
             "fill": {
              "color": "#EBF0F8"
             },
             "line": {
              "color": "white"
             }
            },
            "header": {
             "fill": {
              "color": "#C8D4E3"
             },
             "line": {
              "color": "white"
             }
            },
            "type": "table"
           }
          ]
         },
         "layout": {
          "annotationdefaults": {
           "arrowcolor": "#2a3f5f",
           "arrowhead": 0,
           "arrowwidth": 1
          },
          "autotypenumbers": "strict",
          "coloraxis": {
           "colorbar": {
            "outlinewidth": 0,
            "ticks": ""
           }
          },
          "colorscale": {
           "diverging": [
            [
             0,
             "#8e0152"
            ],
            [
             0.1,
             "#c51b7d"
            ],
            [
             0.2,
             "#de77ae"
            ],
            [
             0.3,
             "#f1b6da"
            ],
            [
             0.4,
             "#fde0ef"
            ],
            [
             0.5,
             "#f7f7f7"
            ],
            [
             0.6,
             "#e6f5d0"
            ],
            [
             0.7,
             "#b8e186"
            ],
            [
             0.8,
             "#7fbc41"
            ],
            [
             0.9,
             "#4d9221"
            ],
            [
             1,
             "#276419"
            ]
           ],
           "sequential": [
            [
             0,
             "#0d0887"
            ],
            [
             0.1111111111111111,
             "#46039f"
            ],
            [
             0.2222222222222222,
             "#7201a8"
            ],
            [
             0.3333333333333333,
             "#9c179e"
            ],
            [
             0.4444444444444444,
             "#bd3786"
            ],
            [
             0.5555555555555556,
             "#d8576b"
            ],
            [
             0.6666666666666666,
             "#ed7953"
            ],
            [
             0.7777777777777778,
             "#fb9f3a"
            ],
            [
             0.8888888888888888,
             "#fdca26"
            ],
            [
             1,
             "#f0f921"
            ]
           ],
           "sequentialminus": [
            [
             0,
             "#0d0887"
            ],
            [
             0.1111111111111111,
             "#46039f"
            ],
            [
             0.2222222222222222,
             "#7201a8"
            ],
            [
             0.3333333333333333,
             "#9c179e"
            ],
            [
             0.4444444444444444,
             "#bd3786"
            ],
            [
             0.5555555555555556,
             "#d8576b"
            ],
            [
             0.6666666666666666,
             "#ed7953"
            ],
            [
             0.7777777777777778,
             "#fb9f3a"
            ],
            [
             0.8888888888888888,
             "#fdca26"
            ],
            [
             1,
             "#f0f921"
            ]
           ]
          },
          "colorway": [
           "#636efa",
           "#EF553B",
           "#00cc96",
           "#ab63fa",
           "#FFA15A",
           "#19d3f3",
           "#FF6692",
           "#B6E880",
           "#FF97FF",
           "#FECB52"
          ],
          "font": {
           "color": "#2a3f5f"
          },
          "geo": {
           "bgcolor": "white",
           "lakecolor": "white",
           "landcolor": "#E5ECF6",
           "showlakes": true,
           "showland": true,
           "subunitcolor": "white"
          },
          "hoverlabel": {
           "align": "left"
          },
          "hovermode": "closest",
          "mapbox": {
           "style": "light"
          },
          "paper_bgcolor": "white",
          "plot_bgcolor": "#E5ECF6",
          "polar": {
           "angularaxis": {
            "gridcolor": "white",
            "linecolor": "white",
            "ticks": ""
           },
           "bgcolor": "#E5ECF6",
           "radialaxis": {
            "gridcolor": "white",
            "linecolor": "white",
            "ticks": ""
           }
          },
          "scene": {
           "xaxis": {
            "backgroundcolor": "#E5ECF6",
            "gridcolor": "white",
            "gridwidth": 2,
            "linecolor": "white",
            "showbackground": true,
            "ticks": "",
            "zerolinecolor": "white"
           },
           "yaxis": {
            "backgroundcolor": "#E5ECF6",
            "gridcolor": "white",
            "gridwidth": 2,
            "linecolor": "white",
            "showbackground": true,
            "ticks": "",
            "zerolinecolor": "white"
           },
           "zaxis": {
            "backgroundcolor": "#E5ECF6",
            "gridcolor": "white",
            "gridwidth": 2,
            "linecolor": "white",
            "showbackground": true,
            "ticks": "",
            "zerolinecolor": "white"
           }
          },
          "shapedefaults": {
           "line": {
            "color": "#2a3f5f"
           }
          },
          "ternary": {
           "aaxis": {
            "gridcolor": "white",
            "linecolor": "white",
            "ticks": ""
           },
           "baxis": {
            "gridcolor": "white",
            "linecolor": "white",
            "ticks": ""
           },
           "bgcolor": "#E5ECF6",
           "caxis": {
            "gridcolor": "white",
            "linecolor": "white",
            "ticks": ""
           }
          },
          "title": {
           "x": 0.05
          },
          "xaxis": {
           "automargin": true,
           "gridcolor": "white",
           "linecolor": "white",
           "ticks": "",
           "title": {
            "standoff": 15
           },
           "zerolinecolor": "white",
           "zerolinewidth": 2
          },
          "yaxis": {
           "automargin": true,
           "gridcolor": "white",
           "linecolor": "white",
           "ticks": "",
           "title": {
            "standoff": 15
           },
           "zerolinecolor": "white",
           "zerolinewidth": 2
          }
         }
        },
        "title": {
         "font": {
          "color": "#4D5663"
         }
        },
        "xaxis": {
         "anchor": "y",
         "domain": [
          0,
          0.2125
         ],
         "gridcolor": "#E1E5ED",
         "showgrid": false,
         "tickfont": {
          "color": "#4D5663"
         },
         "title": {
          "font": {
           "color": "#4D5663"
          },
          "text": ""
         },
         "zerolinecolor": "#E1E5ED"
        },
        "xaxis10": {
         "anchor": "y10",
         "domain": [
          0.2625,
          0.475
         ],
         "gridcolor": "#E1E5ED",
         "showgrid": false,
         "tickfont": {
          "color": "#4D5663"
         },
         "title": {
          "font": {
           "color": "#4D5663"
          },
          "text": ""
         },
         "zerolinecolor": "#E1E5ED"
        },
        "xaxis11": {
         "anchor": "y11",
         "domain": [
          0.525,
          0.7375
         ],
         "gridcolor": "#E1E5ED",
         "showgrid": false,
         "tickfont": {
          "color": "#4D5663"
         },
         "title": {
          "font": {
           "color": "#4D5663"
          },
          "text": ""
         },
         "zerolinecolor": "#E1E5ED"
        },
        "xaxis12": {
         "anchor": "y12",
         "domain": [
          0.7875,
          1
         ],
         "gridcolor": "#E1E5ED",
         "showgrid": false,
         "tickfont": {
          "color": "#4D5663"
         },
         "title": {
          "font": {
           "color": "#4D5663"
          },
          "text": ""
         },
         "zerolinecolor": "#E1E5ED"
        },
        "xaxis13": {
         "anchor": "y13",
         "domain": [
          0,
          0.2125
         ],
         "gridcolor": "#E1E5ED",
         "showgrid": false,
         "tickfont": {
          "color": "#4D5663"
         },
         "title": {
          "font": {
           "color": "#4D5663"
          },
          "text": ""
         },
         "zerolinecolor": "#E1E5ED"
        },
        "xaxis14": {
         "anchor": "y14",
         "domain": [
          0.2625,
          0.475
         ],
         "gridcolor": "#E1E5ED",
         "showgrid": false,
         "tickfont": {
          "color": "#4D5663"
         },
         "title": {
          "font": {
           "color": "#4D5663"
          },
          "text": ""
         },
         "zerolinecolor": "#E1E5ED"
        },
        "xaxis15": {
         "anchor": "y15",
         "domain": [
          0.525,
          0.7375
         ],
         "gridcolor": "#E1E5ED",
         "showgrid": false,
         "tickfont": {
          "color": "#4D5663"
         },
         "title": {
          "font": {
           "color": "#4D5663"
          },
          "text": ""
         },
         "zerolinecolor": "#E1E5ED"
        },
        "xaxis16": {
         "anchor": "y16",
         "domain": [
          0.7875,
          1
         ],
         "gridcolor": "#E1E5ED",
         "showgrid": false,
         "tickfont": {
          "color": "#4D5663"
         },
         "title": {
          "font": {
           "color": "#4D5663"
          },
          "text": ""
         },
         "zerolinecolor": "#E1E5ED"
        },
        "xaxis2": {
         "anchor": "y2",
         "domain": [
          0.2625,
          0.475
         ],
         "gridcolor": "#E1E5ED",
         "showgrid": false,
         "tickfont": {
          "color": "#4D5663"
         },
         "title": {
          "font": {
           "color": "#4D5663"
          },
          "text": ""
         },
         "zerolinecolor": "#E1E5ED"
        },
        "xaxis3": {
         "anchor": "y3",
         "domain": [
          0.525,
          0.7375
         ],
         "gridcolor": "#E1E5ED",
         "showgrid": false,
         "tickfont": {
          "color": "#4D5663"
         },
         "title": {
          "font": {
           "color": "#4D5663"
          },
          "text": ""
         },
         "zerolinecolor": "#E1E5ED"
        },
        "xaxis4": {
         "anchor": "y4",
         "domain": [
          0.7875,
          1
         ],
         "gridcolor": "#E1E5ED",
         "showgrid": false,
         "tickfont": {
          "color": "#4D5663"
         },
         "title": {
          "font": {
           "color": "#4D5663"
          },
          "text": ""
         },
         "zerolinecolor": "#E1E5ED"
        },
        "xaxis5": {
         "anchor": "y5",
         "domain": [
          0,
          0.2125
         ],
         "gridcolor": "#E1E5ED",
         "showgrid": false,
         "tickfont": {
          "color": "#4D5663"
         },
         "title": {
          "font": {
           "color": "#4D5663"
          },
          "text": ""
         },
         "zerolinecolor": "#E1E5ED"
        },
        "xaxis6": {
         "anchor": "y6",
         "domain": [
          0.2625,
          0.475
         ],
         "gridcolor": "#E1E5ED",
         "showgrid": false,
         "tickfont": {
          "color": "#4D5663"
         },
         "title": {
          "font": {
           "color": "#4D5663"
          },
          "text": ""
         },
         "zerolinecolor": "#E1E5ED"
        },
        "xaxis7": {
         "anchor": "y7",
         "domain": [
          0.525,
          0.7375
         ],
         "gridcolor": "#E1E5ED",
         "showgrid": false,
         "tickfont": {
          "color": "#4D5663"
         },
         "title": {
          "font": {
           "color": "#4D5663"
          },
          "text": ""
         },
         "zerolinecolor": "#E1E5ED"
        },
        "xaxis8": {
         "anchor": "y8",
         "domain": [
          0.7875,
          1
         ],
         "gridcolor": "#E1E5ED",
         "showgrid": false,
         "tickfont": {
          "color": "#4D5663"
         },
         "title": {
          "font": {
           "color": "#4D5663"
          },
          "text": ""
         },
         "zerolinecolor": "#E1E5ED"
        },
        "xaxis9": {
         "anchor": "y9",
         "domain": [
          0,
          0.2125
         ],
         "gridcolor": "#E1E5ED",
         "showgrid": false,
         "tickfont": {
          "color": "#4D5663"
         },
         "title": {
          "font": {
           "color": "#4D5663"
          },
          "text": ""
         },
         "zerolinecolor": "#E1E5ED"
        },
        "yaxis": {
         "anchor": "x",
         "domain": [
          0.8025,
          1
         ],
         "gridcolor": "#E1E5ED",
         "showgrid": false,
         "tickfont": {
          "color": "#4D5663"
         },
         "title": {
          "font": {
           "color": "#4D5663"
          },
          "text": ""
         },
         "zerolinecolor": "#E1E5ED"
        },
        "yaxis10": {
         "anchor": "x10",
         "domain": [
          0.2675,
          0.465
         ],
         "gridcolor": "#E1E5ED",
         "showgrid": false,
         "tickfont": {
          "color": "#4D5663"
         },
         "title": {
          "font": {
           "color": "#4D5663"
          },
          "text": ""
         },
         "zerolinecolor": "#E1E5ED"
        },
        "yaxis11": {
         "anchor": "x11",
         "domain": [
          0.2675,
          0.465
         ],
         "gridcolor": "#E1E5ED",
         "showgrid": false,
         "tickfont": {
          "color": "#4D5663"
         },
         "title": {
          "font": {
           "color": "#4D5663"
          },
          "text": ""
         },
         "zerolinecolor": "#E1E5ED"
        },
        "yaxis12": {
         "anchor": "x12",
         "domain": [
          0.2675,
          0.465
         ],
         "gridcolor": "#E1E5ED",
         "showgrid": false,
         "tickfont": {
          "color": "#4D5663"
         },
         "title": {
          "font": {
           "color": "#4D5663"
          },
          "text": ""
         },
         "zerolinecolor": "#E1E5ED"
        },
        "yaxis13": {
         "anchor": "x13",
         "domain": [
          0,
          0.1975
         ],
         "gridcolor": "#E1E5ED",
         "showgrid": false,
         "tickfont": {
          "color": "#4D5663"
         },
         "title": {
          "font": {
           "color": "#4D5663"
          },
          "text": ""
         },
         "zerolinecolor": "#E1E5ED"
        },
        "yaxis14": {
         "anchor": "x14",
         "domain": [
          0,
          0.1975
         ],
         "gridcolor": "#E1E5ED",
         "showgrid": false,
         "tickfont": {
          "color": "#4D5663"
         },
         "title": {
          "font": {
           "color": "#4D5663"
          },
          "text": ""
         },
         "zerolinecolor": "#E1E5ED"
        },
        "yaxis15": {
         "anchor": "x15",
         "domain": [
          0,
          0.1975
         ],
         "gridcolor": "#E1E5ED",
         "showgrid": false,
         "tickfont": {
          "color": "#4D5663"
         },
         "title": {
          "font": {
           "color": "#4D5663"
          },
          "text": ""
         },
         "zerolinecolor": "#E1E5ED"
        },
        "yaxis16": {
         "anchor": "x16",
         "domain": [
          0,
          0.1975
         ],
         "gridcolor": "#E1E5ED",
         "showgrid": false,
         "tickfont": {
          "color": "#4D5663"
         },
         "title": {
          "font": {
           "color": "#4D5663"
          },
          "text": ""
         },
         "zerolinecolor": "#E1E5ED"
        },
        "yaxis2": {
         "anchor": "x2",
         "domain": [
          0.8025,
          1
         ],
         "gridcolor": "#E1E5ED",
         "showgrid": false,
         "tickfont": {
          "color": "#4D5663"
         },
         "title": {
          "font": {
           "color": "#4D5663"
          },
          "text": ""
         },
         "zerolinecolor": "#E1E5ED"
        },
        "yaxis3": {
         "anchor": "x3",
         "domain": [
          0.8025,
          1
         ],
         "gridcolor": "#E1E5ED",
         "showgrid": false,
         "tickfont": {
          "color": "#4D5663"
         },
         "title": {
          "font": {
           "color": "#4D5663"
          },
          "text": ""
         },
         "zerolinecolor": "#E1E5ED"
        },
        "yaxis4": {
         "anchor": "x4",
         "domain": [
          0.8025,
          1
         ],
         "gridcolor": "#E1E5ED",
         "showgrid": false,
         "tickfont": {
          "color": "#4D5663"
         },
         "title": {
          "font": {
           "color": "#4D5663"
          },
          "text": ""
         },
         "zerolinecolor": "#E1E5ED"
        },
        "yaxis5": {
         "anchor": "x5",
         "domain": [
          0.535,
          0.7325
         ],
         "gridcolor": "#E1E5ED",
         "showgrid": false,
         "tickfont": {
          "color": "#4D5663"
         },
         "title": {
          "font": {
           "color": "#4D5663"
          },
          "text": ""
         },
         "zerolinecolor": "#E1E5ED"
        },
        "yaxis6": {
         "anchor": "x6",
         "domain": [
          0.535,
          0.7325
         ],
         "gridcolor": "#E1E5ED",
         "showgrid": false,
         "tickfont": {
          "color": "#4D5663"
         },
         "title": {
          "font": {
           "color": "#4D5663"
          },
          "text": ""
         },
         "zerolinecolor": "#E1E5ED"
        },
        "yaxis7": {
         "anchor": "x7",
         "domain": [
          0.535,
          0.7325
         ],
         "gridcolor": "#E1E5ED",
         "showgrid": false,
         "tickfont": {
          "color": "#4D5663"
         },
         "title": {
          "font": {
           "color": "#4D5663"
          },
          "text": ""
         },
         "zerolinecolor": "#E1E5ED"
        },
        "yaxis8": {
         "anchor": "x8",
         "domain": [
          0.535,
          0.7325
         ],
         "gridcolor": "#E1E5ED",
         "showgrid": false,
         "tickfont": {
          "color": "#4D5663"
         },
         "title": {
          "font": {
           "color": "#4D5663"
          },
          "text": ""
         },
         "zerolinecolor": "#E1E5ED"
        },
        "yaxis9": {
         "anchor": "x9",
         "domain": [
          0.2675,
          0.465
         ],
         "gridcolor": "#E1E5ED",
         "showgrid": false,
         "tickfont": {
          "color": "#4D5663"
         },
         "title": {
          "font": {
           "color": "#4D5663"
          },
          "text": ""
         },
         "zerolinecolor": "#E1E5ED"
        }
       }
      },
      "text/html": [
       "<div>                            <div id=\"b5cdfc74-265d-405d-8353-342067b869e3\" class=\"plotly-graph-div\" style=\"height:525px; width:100%;\"></div>            <script type=\"text/javascript\">                require([\"plotly\"], function(Plotly) {                    window.PLOTLYENV=window.PLOTLYENV || {};\n",
       "                    window.PLOTLYENV.BASE_URL='https://plot.ly';                                    if (document.getElementById(\"b5cdfc74-265d-405d-8353-342067b869e3\")) {                    Plotly.newPlot(                        \"b5cdfc74-265d-405d-8353-342067b869e3\",                        [{\"histfunc\":\"count\",\"histnorm\":\"\",\"marker\":{\"color\":\"rgba(255, 153, 51, 1.0)\",\"line\":{\"color\":\"#4D5663\",\"width\":1.3}},\"name\":\"A\",\"nbinsx\":10,\"opacity\":0.8,\"orientation\":\"v\",\"x\":[-0.6123213313638834,1.3594760586323038,0.7157028374769693,0.7428268604041767,1.4387038289767837,-0.18659775442196597,1.4732645597761136,-1.0063295388071447,1.056092961661525,-2.47632273602315,-0.635452318342618,-0.44341162530791667,0.8603466277919531,0.07446614932749684,-0.1331131522466488,0.9950176867120871,-0.6469853058251499,-0.8700113105706968,0.7451915965836442,1.0080729109461022,1.3612656769446707,-0.46388543466577953,-1.6252556434939562,-0.9321225459929191,0.16520721127913351,1.109035311807075,-0.17481458358740606,-1.624426672284938,-0.1702527952572121,0.5692071778213524,-1.8522429631266695,-1.8274075534861318,1.4467135685260804,-0.2566950458043969,-0.31473561434280445,-1.3924295664519903,-1.5183227401831643,1.100316191055605,-1.3243172550303042,0.934613326420437,0.5058253582807383,0.6925078253422744,1.9416032539843482,-1.1472736624868352,0.6738495664997504,-0.47737184536099964,-1.641216335191951,-0.13222458670586418,-0.709692601338341,1.0704070534135786,-0.35957829928635193,1.1347015745407685,1.7394557819272984,0.10648238319660469,-1.2104409774898166,-0.21935452937051048,-0.7209436501354658,-0.36707627095778994,-0.4137095293103209,-0.14202313507910364,1.2665388927529673,1.1194663999265804,-1.2425290334764583,0.39840737442666446,0.8945368981705608,-0.9571858944373809,-0.4633202776630124,-0.9712012233075042,0.7208776529585661,0.7438375746122489,-1.3026515735400312,1.004468713016441,-0.34401917264171356,0.37856579146205005,0.5766908858096895,0.14489140687254426,0.5030487355914735,0.16656440729662095,-1.044040712361414,1.3940344198410861,-1.8958614932946471,-1.598344342488547,0.619097265217185,1.1247773545002318,-0.7131652820603137,-0.7259441325114188,0.3783084614135404,0.953242635318946,-1.0865438738709796,1.0560252986180356,-0.9152623676229141,-0.47689637661425693,-1.5731089650479364,0.45657205749455,-0.011860036772261388,-0.7254513536108076,0.5454745770976296,-1.669814686271186,1.5393007948667181,0.28512201838580503],\"xaxis\":\"x\",\"yaxis\":\"y\",\"type\":\"histogram\"},{\"line\":{\"color\":\"rgba(128, 128, 128, 1.0)\",\"dash\":\"solid\",\"shape\":\"linear\",\"width\":1.3},\"marker\":{\"size\":2,\"symbol\":\"circle\"},\"mode\":\"markers\",\"name\":\"A\",\"text\":\"\",\"x\":[2.4033726396064625,-0.3180661953813854,0.3575646009315945,-0.1105494946218425,-1.9893182998132442,0.12108998433814257,1.6231297492375656,-1.2060270018752517,-1.4763460598573717,-0.31605687258158366,-0.30143437365788345,-0.26399532166551437,0.9165050788909543,0.7736176343862297,0.9360968870348345,0.6558051320314173,-0.9571761584379436,-0.9924811564511132,0.7971918612956219,-0.37130794160576763,-0.2760754290236538,0.6900682486696768,1.5530644454787816,0.4313746272862494,0.606668375448992,-0.1678150518632239,-0.06562136516121853,1.1358032600451677,-1.555216491676847,2.3596114839686897,1.6849126218993657,-1.1076458633876247,0.19152751134038656,-2.418973945595888,0.46641748517612613,-0.21364558612811305,1.1480763571394446,0.059794594708253365,0.42198828304935004,-0.1278335244912023,-0.3434904890462654,0.6386561805665968,-0.14208161537358346,-0.21014682568625534,-1.1515120179039007,0.6423152244432342,0.5385251636516468,-1.2735301704460944,-0.9263130931462031,1.0528723780534726,1.398092729216517,0.7409688920291192,1.5330713382437804,1.2238886674459235,1.3021010010114673,0.9267666640747797,-1.0632816642972323,-0.853609509509939,1.4774215216322193,1.8375264582418434,1.2510879290725092,0.11877753746905721,1.0800394768582156,-1.31790521726136,-1.365923862710278,1.6836138765041453,-0.0050875497121913756,0.14030157148832426,-0.7439091480217016,0.3421569973368127,0.3176875279051301,-0.4658550524900476,1.5083142101265588,0.9342942058681324,0.038805998180403596,-0.5427143810390751,1.8653101105958274,0.9160042953261466,-0.7399792359271136,-1.3913613995497782,-1.3659709922367504,-1.7739464469938493,0.9790656864957751,-0.5645792416112951,1.3080798586746816,-0.3710346468680679,-0.3831733338661221,0.6690962928884536,0.5510184334158387,0.7638864171285927,0.7173354808699728,-0.7350903538128789,1.3679739533904145,-1.6310206244484406,-0.39313156746717626,0.026323629417493655,-1.7894767650578125,-0.7225163772056884,1.9078118752926256,0.7217442983989159],\"xaxis\":\"x2\",\"y\":[-0.6123213313638834,1.3594760586323038,0.7157028374769693,0.7428268604041767,1.4387038289767837,-0.18659775442196597,1.4732645597761136,-1.0063295388071447,1.056092961661525,-2.47632273602315,-0.635452318342618,-0.44341162530791667,0.8603466277919531,0.07446614932749684,-0.1331131522466488,0.9950176867120871,-0.6469853058251499,-0.8700113105706968,0.7451915965836442,1.0080729109461022,1.3612656769446707,-0.46388543466577953,-1.6252556434939562,-0.9321225459929191,0.16520721127913351,1.109035311807075,-0.17481458358740606,-1.624426672284938,-0.1702527952572121,0.5692071778213524,-1.8522429631266695,-1.8274075534861318,1.4467135685260804,-0.2566950458043969,-0.31473561434280445,-1.3924295664519903,-1.5183227401831643,1.100316191055605,-1.3243172550303042,0.934613326420437,0.5058253582807383,0.6925078253422744,1.9416032539843482,-1.1472736624868352,0.6738495664997504,-0.47737184536099964,-1.641216335191951,-0.13222458670586418,-0.709692601338341,1.0704070534135786,-0.35957829928635193,1.1347015745407685,1.7394557819272984,0.10648238319660469,-1.2104409774898166,-0.21935452937051048,-0.7209436501354658,-0.36707627095778994,-0.4137095293103209,-0.14202313507910364,1.2665388927529673,1.1194663999265804,-1.2425290334764583,0.39840737442666446,0.8945368981705608,-0.9571858944373809,-0.4633202776630124,-0.9712012233075042,0.7208776529585661,0.7438375746122489,-1.3026515735400312,1.004468713016441,-0.34401917264171356,0.37856579146205005,0.5766908858096895,0.14489140687254426,0.5030487355914735,0.16656440729662095,-1.044040712361414,1.3940344198410861,-1.8958614932946471,-1.598344342488547,0.619097265217185,1.1247773545002318,-0.7131652820603137,-0.7259441325114188,0.3783084614135404,0.953242635318946,-1.0865438738709796,1.0560252986180356,-0.9152623676229141,-0.47689637661425693,-1.5731089650479364,0.45657205749455,-0.011860036772261388,-0.7254513536108076,0.5454745770976296,-1.669814686271186,1.5393007948667181,0.28512201838580503],\"yaxis\":\"y2\",\"type\":\"scatter\"},{\"line\":{\"color\":\"rgba(128, 128, 128, 1.0)\",\"dash\":\"solid\",\"shape\":\"linear\",\"width\":1.3},\"marker\":{\"size\":2,\"symbol\":\"circle\"},\"mode\":\"markers\",\"name\":\"A\",\"text\":\"\",\"x\":[0.4689665067580521,2.657661785631248,-0.15695404125640144,0.605265196825292,-0.7057374319212296,0.8444309653569217,0.7513210022146437,0.4307395998978597,1.0371730870237932,1.974103854421076,-1.1288760520237493,0.8055315230691629,-1.335601470526402,-0.028547479101887447,0.06747542495281443,-1.1309575553312143,1.6271698811106052,-0.8569455622264276,0.6456922933836641,1.6379346196809164,0.1806495115367449,0.14639348883989947,-1.3552736004820631,-0.119350727088024,-0.3563793145517163,-1.023983797537162,-1.2002930376860392,0.30540079810011533,-0.4761218790211993,0.24257472613728698,-0.3361720751310067,-1.846424890646746,-0.7748643511775507,-0.8618459502950332,2.1193450044927333,0.40496375514144517,-2.9377762864827,-1.8965821460469738,-0.48480046089468737,0.7483102482534699,1.6910057862337557,-1.233714975417407,0.06493475062118555,0.6392015128212213,-0.5899288328143886,-0.728572959023513,0.6113604849908908,1.2054338538568574,0.08020295162428227,2.041858302804547,1.4184034553585103,-0.1719830931621509,-0.6949916357107848,-1.978855890551208,0.6257545974595368,0.8632133760671598,-0.5976588697599662,0.8479532170096117,1.70344793958928,1.1386853529720973,0.8487051642989147,0.968843823916177,0.6957190136412353,0.002582225038355152,-1.4513032950993925,-0.19805787701228872,0.6774343549635712,-1.4327537700193087,0.26411514326036833,-0.33671161663269716,-0.08407330728644541,1.368220600727735,1.645714258578475,-1.384406199597019,0.5083535943892357,-1.0514179180662875,0.7549770555868955,-1.675545109092052,-1.0451488351170122,-2.0614544842966995,0.16982230547273192,1.8251139327360477,0.44986683396737626,0.3939286211800785,-1.114911778732924,-0.4177123875352382,1.108470034084431,0.49834592193931465,-1.9547909952942522,1.176365585897962,-0.029407168874944503,-0.4613577626841192,-1.3451916694004673,0.8821653763967819,-1.173395693010109,0.32036147045809604,-1.2749930918574466,1.9899525192678373,-1.1398903142935857,-0.4968601383846873],\"xaxis\":\"x3\",\"y\":[-0.6123213313638834,1.3594760586323038,0.7157028374769693,0.7428268604041767,1.4387038289767837,-0.18659775442196597,1.4732645597761136,-1.0063295388071447,1.056092961661525,-2.47632273602315,-0.635452318342618,-0.44341162530791667,0.8603466277919531,0.07446614932749684,-0.1331131522466488,0.9950176867120871,-0.6469853058251499,-0.8700113105706968,0.7451915965836442,1.0080729109461022,1.3612656769446707,-0.46388543466577953,-1.6252556434939562,-0.9321225459929191,0.16520721127913351,1.109035311807075,-0.17481458358740606,-1.624426672284938,-0.1702527952572121,0.5692071778213524,-1.8522429631266695,-1.8274075534861318,1.4467135685260804,-0.2566950458043969,-0.31473561434280445,-1.3924295664519903,-1.5183227401831643,1.100316191055605,-1.3243172550303042,0.934613326420437,0.5058253582807383,0.6925078253422744,1.9416032539843482,-1.1472736624868352,0.6738495664997504,-0.47737184536099964,-1.641216335191951,-0.13222458670586418,-0.709692601338341,1.0704070534135786,-0.35957829928635193,1.1347015745407685,1.7394557819272984,0.10648238319660469,-1.2104409774898166,-0.21935452937051048,-0.7209436501354658,-0.36707627095778994,-0.4137095293103209,-0.14202313507910364,1.2665388927529673,1.1194663999265804,-1.2425290334764583,0.39840737442666446,0.8945368981705608,-0.9571858944373809,-0.4633202776630124,-0.9712012233075042,0.7208776529585661,0.7438375746122489,-1.3026515735400312,1.004468713016441,-0.34401917264171356,0.37856579146205005,0.5766908858096895,0.14489140687254426,0.5030487355914735,0.16656440729662095,-1.044040712361414,1.3940344198410861,-1.8958614932946471,-1.598344342488547,0.619097265217185,1.1247773545002318,-0.7131652820603137,-0.7259441325114188,0.3783084614135404,0.953242635318946,-1.0865438738709796,1.0560252986180356,-0.9152623676229141,-0.47689637661425693,-1.5731089650479364,0.45657205749455,-0.011860036772261388,-0.7254513536108076,0.5454745770976296,-1.669814686271186,1.5393007948667181,0.28512201838580503],\"yaxis\":\"y3\",\"type\":\"scatter\"},{\"line\":{\"color\":\"rgba(128, 128, 128, 1.0)\",\"dash\":\"solid\",\"shape\":\"linear\",\"width\":1.3},\"marker\":{\"size\":2,\"symbol\":\"circle\"},\"mode\":\"markers\",\"name\":\"A\",\"text\":\"\",\"x\":[1.0085964341555844,-1.2269753588859271,-1.5097988830045546,-0.5957249513887795,-0.957292708169662,0.37925034902571103,0.6390786863933957,-1.4278468527458785,1.1554198868405157,1.4835710039569256,-1.8617930501549576,1.0549386258229976,-0.597880076754315,0.5091114140451493,-0.4236008265812986,2.0422230963736423,-1.5944447623816826,1.0046933857435616,-1.346948771912937,-0.4780454082197933,-0.1293847086726596,0.047109012029019515,0.5254822345724128,0.822192262412065,1.4459759780435455,0.9115178242482179,0.09163585118157323,-0.4333767970305198,-0.25317827633395823,1.251941966515613,-0.48504486193858026,1.4155994216269399,-0.08942120600242834,0.018129302526952513,0.09538400771573545,0.14635880217596137,-0.03521929132626436,0.9464919018571304,-1.0298398614208712,1.1468853072362954,-0.28638870472181804,-2.312265561373491,1.0994685942927933,1.9323478853341507,1.285517116893445,-0.6561135953456818,0.613382362747721,0.294912843507637,0.501579060503352,2.0601536753961205,0.09031593286671273,-2.1116352492033665,1.14479295440716,1.6482467822786142,-0.23688476995824312,-2.483168964360678,1.7393690105774773,-0.7528532600045252,0.549850368149912,1.6092665516046354,1.1245463956901984,-0.25960022308154207,-0.894525142137224,-0.44335753624262075,-0.4953186258903264,0.44862293242002454,0.5076707606831699,-0.8234639692664324,-0.1825116567135101,0.6165168690298184,-0.7441595984799642,-1.2644685398119577,1.9473943153893534,0.8716113455957312,1.4056319769016397,0.18172623584949632,-0.34499946405601095,0.7016813836505776,0.5675933797489788,-0.0634524470695323,1.6698437842254625,-0.2589095268265948,0.39291905061572424,-2.3753214718334985,-0.44280955514871473,-0.06627116150696902,0.5600957537663671,-0.9066305671341511,0.8827050851394105,0.19517323025462843,0.2499217272758512,0.21879809967016942,-0.31226846868748914,-1.7337764797766497,0.8209083232667705,-0.42547099701212215,-0.09310701732516485,0.3629058590313021,0.1407115006202667,0.876168071097411],\"xaxis\":\"x4\",\"y\":[-0.6123213313638834,1.3594760586323038,0.7157028374769693,0.7428268604041767,1.4387038289767837,-0.18659775442196597,1.4732645597761136,-1.0063295388071447,1.056092961661525,-2.47632273602315,-0.635452318342618,-0.44341162530791667,0.8603466277919531,0.07446614932749684,-0.1331131522466488,0.9950176867120871,-0.6469853058251499,-0.8700113105706968,0.7451915965836442,1.0080729109461022,1.3612656769446707,-0.46388543466577953,-1.6252556434939562,-0.9321225459929191,0.16520721127913351,1.109035311807075,-0.17481458358740606,-1.624426672284938,-0.1702527952572121,0.5692071778213524,-1.8522429631266695,-1.8274075534861318,1.4467135685260804,-0.2566950458043969,-0.31473561434280445,-1.3924295664519903,-1.5183227401831643,1.100316191055605,-1.3243172550303042,0.934613326420437,0.5058253582807383,0.6925078253422744,1.9416032539843482,-1.1472736624868352,0.6738495664997504,-0.47737184536099964,-1.641216335191951,-0.13222458670586418,-0.709692601338341,1.0704070534135786,-0.35957829928635193,1.1347015745407685,1.7394557819272984,0.10648238319660469,-1.2104409774898166,-0.21935452937051048,-0.7209436501354658,-0.36707627095778994,-0.4137095293103209,-0.14202313507910364,1.2665388927529673,1.1194663999265804,-1.2425290334764583,0.39840737442666446,0.8945368981705608,-0.9571858944373809,-0.4633202776630124,-0.9712012233075042,0.7208776529585661,0.7438375746122489,-1.3026515735400312,1.004468713016441,-0.34401917264171356,0.37856579146205005,0.5766908858096895,0.14489140687254426,0.5030487355914735,0.16656440729662095,-1.044040712361414,1.3940344198410861,-1.8958614932946471,-1.598344342488547,0.619097265217185,1.1247773545002318,-0.7131652820603137,-0.7259441325114188,0.3783084614135404,0.953242635318946,-1.0865438738709796,1.0560252986180356,-0.9152623676229141,-0.47689637661425693,-1.5731089650479364,0.45657205749455,-0.011860036772261388,-0.7254513536108076,0.5454745770976296,-1.669814686271186,1.5393007948667181,0.28512201838580503],\"yaxis\":\"y4\",\"type\":\"scatter\"},{\"line\":{\"color\":\"rgba(128, 128, 128, 1.0)\",\"dash\":\"solid\",\"shape\":\"linear\",\"width\":1.3},\"marker\":{\"size\":2,\"symbol\":\"circle\"},\"mode\":\"markers\",\"name\":\"B\",\"text\":\"\",\"x\":[-0.6123213313638834,1.3594760586323038,0.7157028374769693,0.7428268604041767,1.4387038289767837,-0.18659775442196597,1.4732645597761136,-1.0063295388071447,1.056092961661525,-2.47632273602315,-0.635452318342618,-0.44341162530791667,0.8603466277919531,0.07446614932749684,-0.1331131522466488,0.9950176867120871,-0.6469853058251499,-0.8700113105706968,0.7451915965836442,1.0080729109461022,1.3612656769446707,-0.46388543466577953,-1.6252556434939562,-0.9321225459929191,0.16520721127913351,1.109035311807075,-0.17481458358740606,-1.624426672284938,-0.1702527952572121,0.5692071778213524,-1.8522429631266695,-1.8274075534861318,1.4467135685260804,-0.2566950458043969,-0.31473561434280445,-1.3924295664519903,-1.5183227401831643,1.100316191055605,-1.3243172550303042,0.934613326420437,0.5058253582807383,0.6925078253422744,1.9416032539843482,-1.1472736624868352,0.6738495664997504,-0.47737184536099964,-1.641216335191951,-0.13222458670586418,-0.709692601338341,1.0704070534135786,-0.35957829928635193,1.1347015745407685,1.7394557819272984,0.10648238319660469,-1.2104409774898166,-0.21935452937051048,-0.7209436501354658,-0.36707627095778994,-0.4137095293103209,-0.14202313507910364,1.2665388927529673,1.1194663999265804,-1.2425290334764583,0.39840737442666446,0.8945368981705608,-0.9571858944373809,-0.4633202776630124,-0.9712012233075042,0.7208776529585661,0.7438375746122489,-1.3026515735400312,1.004468713016441,-0.34401917264171356,0.37856579146205005,0.5766908858096895,0.14489140687254426,0.5030487355914735,0.16656440729662095,-1.044040712361414,1.3940344198410861,-1.8958614932946471,-1.598344342488547,0.619097265217185,1.1247773545002318,-0.7131652820603137,-0.7259441325114188,0.3783084614135404,0.953242635318946,-1.0865438738709796,1.0560252986180356,-0.9152623676229141,-0.47689637661425693,-1.5731089650479364,0.45657205749455,-0.011860036772261388,-0.7254513536108076,0.5454745770976296,-1.669814686271186,1.5393007948667181,0.28512201838580503],\"xaxis\":\"x5\",\"y\":[2.4033726396064625,-0.3180661953813854,0.3575646009315945,-0.1105494946218425,-1.9893182998132442,0.12108998433814257,1.6231297492375656,-1.2060270018752517,-1.4763460598573717,-0.31605687258158366,-0.30143437365788345,-0.26399532166551437,0.9165050788909543,0.7736176343862297,0.9360968870348345,0.6558051320314173,-0.9571761584379436,-0.9924811564511132,0.7971918612956219,-0.37130794160576763,-0.2760754290236538,0.6900682486696768,1.5530644454787816,0.4313746272862494,0.606668375448992,-0.1678150518632239,-0.06562136516121853,1.1358032600451677,-1.555216491676847,2.3596114839686897,1.6849126218993657,-1.1076458633876247,0.19152751134038656,-2.418973945595888,0.46641748517612613,-0.21364558612811305,1.1480763571394446,0.059794594708253365,0.42198828304935004,-0.1278335244912023,-0.3434904890462654,0.6386561805665968,-0.14208161537358346,-0.21014682568625534,-1.1515120179039007,0.6423152244432342,0.5385251636516468,-1.2735301704460944,-0.9263130931462031,1.0528723780534726,1.398092729216517,0.7409688920291192,1.5330713382437804,1.2238886674459235,1.3021010010114673,0.9267666640747797,-1.0632816642972323,-0.853609509509939,1.4774215216322193,1.8375264582418434,1.2510879290725092,0.11877753746905721,1.0800394768582156,-1.31790521726136,-1.365923862710278,1.6836138765041453,-0.0050875497121913756,0.14030157148832426,-0.7439091480217016,0.3421569973368127,0.3176875279051301,-0.4658550524900476,1.5083142101265588,0.9342942058681324,0.038805998180403596,-0.5427143810390751,1.8653101105958274,0.9160042953261466,-0.7399792359271136,-1.3913613995497782,-1.3659709922367504,-1.7739464469938493,0.9790656864957751,-0.5645792416112951,1.3080798586746816,-0.3710346468680679,-0.3831733338661221,0.6690962928884536,0.5510184334158387,0.7638864171285927,0.7173354808699728,-0.7350903538128789,1.3679739533904145,-1.6310206244484406,-0.39313156746717626,0.026323629417493655,-1.7894767650578125,-0.7225163772056884,1.9078118752926256,0.7217442983989159],\"yaxis\":\"y5\",\"type\":\"scatter\"},{\"histfunc\":\"count\",\"histnorm\":\"\",\"marker\":{\"color\":\"rgba(55, 128, 191, 1.0)\",\"line\":{\"color\":\"#4D5663\",\"width\":1.3}},\"name\":\"B\",\"nbinsx\":10,\"opacity\":0.8,\"orientation\":\"v\",\"x\":[2.4033726396064625,-0.3180661953813854,0.3575646009315945,-0.1105494946218425,-1.9893182998132442,0.12108998433814257,1.6231297492375656,-1.2060270018752517,-1.4763460598573717,-0.31605687258158366,-0.30143437365788345,-0.26399532166551437,0.9165050788909543,0.7736176343862297,0.9360968870348345,0.6558051320314173,-0.9571761584379436,-0.9924811564511132,0.7971918612956219,-0.37130794160576763,-0.2760754290236538,0.6900682486696768,1.5530644454787816,0.4313746272862494,0.606668375448992,-0.1678150518632239,-0.06562136516121853,1.1358032600451677,-1.555216491676847,2.3596114839686897,1.6849126218993657,-1.1076458633876247,0.19152751134038656,-2.418973945595888,0.46641748517612613,-0.21364558612811305,1.1480763571394446,0.059794594708253365,0.42198828304935004,-0.1278335244912023,-0.3434904890462654,0.6386561805665968,-0.14208161537358346,-0.21014682568625534,-1.1515120179039007,0.6423152244432342,0.5385251636516468,-1.2735301704460944,-0.9263130931462031,1.0528723780534726,1.398092729216517,0.7409688920291192,1.5330713382437804,1.2238886674459235,1.3021010010114673,0.9267666640747797,-1.0632816642972323,-0.853609509509939,1.4774215216322193,1.8375264582418434,1.2510879290725092,0.11877753746905721,1.0800394768582156,-1.31790521726136,-1.365923862710278,1.6836138765041453,-0.0050875497121913756,0.14030157148832426,-0.7439091480217016,0.3421569973368127,0.3176875279051301,-0.4658550524900476,1.5083142101265588,0.9342942058681324,0.038805998180403596,-0.5427143810390751,1.8653101105958274,0.9160042953261466,-0.7399792359271136,-1.3913613995497782,-1.3659709922367504,-1.7739464469938493,0.9790656864957751,-0.5645792416112951,1.3080798586746816,-0.3710346468680679,-0.3831733338661221,0.6690962928884536,0.5510184334158387,0.7638864171285927,0.7173354808699728,-0.7350903538128789,1.3679739533904145,-1.6310206244484406,-0.39313156746717626,0.026323629417493655,-1.7894767650578125,-0.7225163772056884,1.9078118752926256,0.7217442983989159],\"xaxis\":\"x6\",\"yaxis\":\"y6\",\"type\":\"histogram\"},{\"line\":{\"color\":\"rgba(128, 128, 128, 1.0)\",\"dash\":\"solid\",\"shape\":\"linear\",\"width\":1.3},\"marker\":{\"size\":2,\"symbol\":\"circle\"},\"mode\":\"markers\",\"name\":\"B\",\"text\":\"\",\"x\":[0.4689665067580521,2.657661785631248,-0.15695404125640144,0.605265196825292,-0.7057374319212296,0.8444309653569217,0.7513210022146437,0.4307395998978597,1.0371730870237932,1.974103854421076,-1.1288760520237493,0.8055315230691629,-1.335601470526402,-0.028547479101887447,0.06747542495281443,-1.1309575553312143,1.6271698811106052,-0.8569455622264276,0.6456922933836641,1.6379346196809164,0.1806495115367449,0.14639348883989947,-1.3552736004820631,-0.119350727088024,-0.3563793145517163,-1.023983797537162,-1.2002930376860392,0.30540079810011533,-0.4761218790211993,0.24257472613728698,-0.3361720751310067,-1.846424890646746,-0.7748643511775507,-0.8618459502950332,2.1193450044927333,0.40496375514144517,-2.9377762864827,-1.8965821460469738,-0.48480046089468737,0.7483102482534699,1.6910057862337557,-1.233714975417407,0.06493475062118555,0.6392015128212213,-0.5899288328143886,-0.728572959023513,0.6113604849908908,1.2054338538568574,0.08020295162428227,2.041858302804547,1.4184034553585103,-0.1719830931621509,-0.6949916357107848,-1.978855890551208,0.6257545974595368,0.8632133760671598,-0.5976588697599662,0.8479532170096117,1.70344793958928,1.1386853529720973,0.8487051642989147,0.968843823916177,0.6957190136412353,0.002582225038355152,-1.4513032950993925,-0.19805787701228872,0.6774343549635712,-1.4327537700193087,0.26411514326036833,-0.33671161663269716,-0.08407330728644541,1.368220600727735,1.645714258578475,-1.384406199597019,0.5083535943892357,-1.0514179180662875,0.7549770555868955,-1.675545109092052,-1.0451488351170122,-2.0614544842966995,0.16982230547273192,1.8251139327360477,0.44986683396737626,0.3939286211800785,-1.114911778732924,-0.4177123875352382,1.108470034084431,0.49834592193931465,-1.9547909952942522,1.176365585897962,-0.029407168874944503,-0.4613577626841192,-1.3451916694004673,0.8821653763967819,-1.173395693010109,0.32036147045809604,-1.2749930918574466,1.9899525192678373,-1.1398903142935857,-0.4968601383846873],\"xaxis\":\"x7\",\"y\":[2.4033726396064625,-0.3180661953813854,0.3575646009315945,-0.1105494946218425,-1.9893182998132442,0.12108998433814257,1.6231297492375656,-1.2060270018752517,-1.4763460598573717,-0.31605687258158366,-0.30143437365788345,-0.26399532166551437,0.9165050788909543,0.7736176343862297,0.9360968870348345,0.6558051320314173,-0.9571761584379436,-0.9924811564511132,0.7971918612956219,-0.37130794160576763,-0.2760754290236538,0.6900682486696768,1.5530644454787816,0.4313746272862494,0.606668375448992,-0.1678150518632239,-0.06562136516121853,1.1358032600451677,-1.555216491676847,2.3596114839686897,1.6849126218993657,-1.1076458633876247,0.19152751134038656,-2.418973945595888,0.46641748517612613,-0.21364558612811305,1.1480763571394446,0.059794594708253365,0.42198828304935004,-0.1278335244912023,-0.3434904890462654,0.6386561805665968,-0.14208161537358346,-0.21014682568625534,-1.1515120179039007,0.6423152244432342,0.5385251636516468,-1.2735301704460944,-0.9263130931462031,1.0528723780534726,1.398092729216517,0.7409688920291192,1.5330713382437804,1.2238886674459235,1.3021010010114673,0.9267666640747797,-1.0632816642972323,-0.853609509509939,1.4774215216322193,1.8375264582418434,1.2510879290725092,0.11877753746905721,1.0800394768582156,-1.31790521726136,-1.365923862710278,1.6836138765041453,-0.0050875497121913756,0.14030157148832426,-0.7439091480217016,0.3421569973368127,0.3176875279051301,-0.4658550524900476,1.5083142101265588,0.9342942058681324,0.038805998180403596,-0.5427143810390751,1.8653101105958274,0.9160042953261466,-0.7399792359271136,-1.3913613995497782,-1.3659709922367504,-1.7739464469938493,0.9790656864957751,-0.5645792416112951,1.3080798586746816,-0.3710346468680679,-0.3831733338661221,0.6690962928884536,0.5510184334158387,0.7638864171285927,0.7173354808699728,-0.7350903538128789,1.3679739533904145,-1.6310206244484406,-0.39313156746717626,0.026323629417493655,-1.7894767650578125,-0.7225163772056884,1.9078118752926256,0.7217442983989159],\"yaxis\":\"y7\",\"type\":\"scatter\"},{\"line\":{\"color\":\"rgba(128, 128, 128, 1.0)\",\"dash\":\"solid\",\"shape\":\"linear\",\"width\":1.3},\"marker\":{\"size\":2,\"symbol\":\"circle\"},\"mode\":\"markers\",\"name\":\"B\",\"text\":\"\",\"x\":[1.0085964341555844,-1.2269753588859271,-1.5097988830045546,-0.5957249513887795,-0.957292708169662,0.37925034902571103,0.6390786863933957,-1.4278468527458785,1.1554198868405157,1.4835710039569256,-1.8617930501549576,1.0549386258229976,-0.597880076754315,0.5091114140451493,-0.4236008265812986,2.0422230963736423,-1.5944447623816826,1.0046933857435616,-1.346948771912937,-0.4780454082197933,-0.1293847086726596,0.047109012029019515,0.5254822345724128,0.822192262412065,1.4459759780435455,0.9115178242482179,0.09163585118157323,-0.4333767970305198,-0.25317827633395823,1.251941966515613,-0.48504486193858026,1.4155994216269399,-0.08942120600242834,0.018129302526952513,0.09538400771573545,0.14635880217596137,-0.03521929132626436,0.9464919018571304,-1.0298398614208712,1.1468853072362954,-0.28638870472181804,-2.312265561373491,1.0994685942927933,1.9323478853341507,1.285517116893445,-0.6561135953456818,0.613382362747721,0.294912843507637,0.501579060503352,2.0601536753961205,0.09031593286671273,-2.1116352492033665,1.14479295440716,1.6482467822786142,-0.23688476995824312,-2.483168964360678,1.7393690105774773,-0.7528532600045252,0.549850368149912,1.6092665516046354,1.1245463956901984,-0.25960022308154207,-0.894525142137224,-0.44335753624262075,-0.4953186258903264,0.44862293242002454,0.5076707606831699,-0.8234639692664324,-0.1825116567135101,0.6165168690298184,-0.7441595984799642,-1.2644685398119577,1.9473943153893534,0.8716113455957312,1.4056319769016397,0.18172623584949632,-0.34499946405601095,0.7016813836505776,0.5675933797489788,-0.0634524470695323,1.6698437842254625,-0.2589095268265948,0.39291905061572424,-2.3753214718334985,-0.44280955514871473,-0.06627116150696902,0.5600957537663671,-0.9066305671341511,0.8827050851394105,0.19517323025462843,0.2499217272758512,0.21879809967016942,-0.31226846868748914,-1.7337764797766497,0.8209083232667705,-0.42547099701212215,-0.09310701732516485,0.3629058590313021,0.1407115006202667,0.876168071097411],\"xaxis\":\"x8\",\"y\":[2.4033726396064625,-0.3180661953813854,0.3575646009315945,-0.1105494946218425,-1.9893182998132442,0.12108998433814257,1.6231297492375656,-1.2060270018752517,-1.4763460598573717,-0.31605687258158366,-0.30143437365788345,-0.26399532166551437,0.9165050788909543,0.7736176343862297,0.9360968870348345,0.6558051320314173,-0.9571761584379436,-0.9924811564511132,0.7971918612956219,-0.37130794160576763,-0.2760754290236538,0.6900682486696768,1.5530644454787816,0.4313746272862494,0.606668375448992,-0.1678150518632239,-0.06562136516121853,1.1358032600451677,-1.555216491676847,2.3596114839686897,1.6849126218993657,-1.1076458633876247,0.19152751134038656,-2.418973945595888,0.46641748517612613,-0.21364558612811305,1.1480763571394446,0.059794594708253365,0.42198828304935004,-0.1278335244912023,-0.3434904890462654,0.6386561805665968,-0.14208161537358346,-0.21014682568625534,-1.1515120179039007,0.6423152244432342,0.5385251636516468,-1.2735301704460944,-0.9263130931462031,1.0528723780534726,1.398092729216517,0.7409688920291192,1.5330713382437804,1.2238886674459235,1.3021010010114673,0.9267666640747797,-1.0632816642972323,-0.853609509509939,1.4774215216322193,1.8375264582418434,1.2510879290725092,0.11877753746905721,1.0800394768582156,-1.31790521726136,-1.365923862710278,1.6836138765041453,-0.0050875497121913756,0.14030157148832426,-0.7439091480217016,0.3421569973368127,0.3176875279051301,-0.4658550524900476,1.5083142101265588,0.9342942058681324,0.038805998180403596,-0.5427143810390751,1.8653101105958274,0.9160042953261466,-0.7399792359271136,-1.3913613995497782,-1.3659709922367504,-1.7739464469938493,0.9790656864957751,-0.5645792416112951,1.3080798586746816,-0.3710346468680679,-0.3831733338661221,0.6690962928884536,0.5510184334158387,0.7638864171285927,0.7173354808699728,-0.7350903538128789,1.3679739533904145,-1.6310206244484406,-0.39313156746717626,0.026323629417493655,-1.7894767650578125,-0.7225163772056884,1.9078118752926256,0.7217442983989159],\"yaxis\":\"y8\",\"type\":\"scatter\"},{\"line\":{\"color\":\"rgba(128, 128, 128, 1.0)\",\"dash\":\"solid\",\"shape\":\"linear\",\"width\":1.3},\"marker\":{\"size\":2,\"symbol\":\"circle\"},\"mode\":\"markers\",\"name\":\"C\",\"text\":\"\",\"x\":[-0.6123213313638834,1.3594760586323038,0.7157028374769693,0.7428268604041767,1.4387038289767837,-0.18659775442196597,1.4732645597761136,-1.0063295388071447,1.056092961661525,-2.47632273602315,-0.635452318342618,-0.44341162530791667,0.8603466277919531,0.07446614932749684,-0.1331131522466488,0.9950176867120871,-0.6469853058251499,-0.8700113105706968,0.7451915965836442,1.0080729109461022,1.3612656769446707,-0.46388543466577953,-1.6252556434939562,-0.9321225459929191,0.16520721127913351,1.109035311807075,-0.17481458358740606,-1.624426672284938,-0.1702527952572121,0.5692071778213524,-1.8522429631266695,-1.8274075534861318,1.4467135685260804,-0.2566950458043969,-0.31473561434280445,-1.3924295664519903,-1.5183227401831643,1.100316191055605,-1.3243172550303042,0.934613326420437,0.5058253582807383,0.6925078253422744,1.9416032539843482,-1.1472736624868352,0.6738495664997504,-0.47737184536099964,-1.641216335191951,-0.13222458670586418,-0.709692601338341,1.0704070534135786,-0.35957829928635193,1.1347015745407685,1.7394557819272984,0.10648238319660469,-1.2104409774898166,-0.21935452937051048,-0.7209436501354658,-0.36707627095778994,-0.4137095293103209,-0.14202313507910364,1.2665388927529673,1.1194663999265804,-1.2425290334764583,0.39840737442666446,0.8945368981705608,-0.9571858944373809,-0.4633202776630124,-0.9712012233075042,0.7208776529585661,0.7438375746122489,-1.3026515735400312,1.004468713016441,-0.34401917264171356,0.37856579146205005,0.5766908858096895,0.14489140687254426,0.5030487355914735,0.16656440729662095,-1.044040712361414,1.3940344198410861,-1.8958614932946471,-1.598344342488547,0.619097265217185,1.1247773545002318,-0.7131652820603137,-0.7259441325114188,0.3783084614135404,0.953242635318946,-1.0865438738709796,1.0560252986180356,-0.9152623676229141,-0.47689637661425693,-1.5731089650479364,0.45657205749455,-0.011860036772261388,-0.7254513536108076,0.5454745770976296,-1.669814686271186,1.5393007948667181,0.28512201838580503],\"xaxis\":\"x9\",\"y\":[0.4689665067580521,2.657661785631248,-0.15695404125640144,0.605265196825292,-0.7057374319212296,0.8444309653569217,0.7513210022146437,0.4307395998978597,1.0371730870237932,1.974103854421076,-1.1288760520237493,0.8055315230691629,-1.335601470526402,-0.028547479101887447,0.06747542495281443,-1.1309575553312143,1.6271698811106052,-0.8569455622264276,0.6456922933836641,1.6379346196809164,0.1806495115367449,0.14639348883989947,-1.3552736004820631,-0.119350727088024,-0.3563793145517163,-1.023983797537162,-1.2002930376860392,0.30540079810011533,-0.4761218790211993,0.24257472613728698,-0.3361720751310067,-1.846424890646746,-0.7748643511775507,-0.8618459502950332,2.1193450044927333,0.40496375514144517,-2.9377762864827,-1.8965821460469738,-0.48480046089468737,0.7483102482534699,1.6910057862337557,-1.233714975417407,0.06493475062118555,0.6392015128212213,-0.5899288328143886,-0.728572959023513,0.6113604849908908,1.2054338538568574,0.08020295162428227,2.041858302804547,1.4184034553585103,-0.1719830931621509,-0.6949916357107848,-1.978855890551208,0.6257545974595368,0.8632133760671598,-0.5976588697599662,0.8479532170096117,1.70344793958928,1.1386853529720973,0.8487051642989147,0.968843823916177,0.6957190136412353,0.002582225038355152,-1.4513032950993925,-0.19805787701228872,0.6774343549635712,-1.4327537700193087,0.26411514326036833,-0.33671161663269716,-0.08407330728644541,1.368220600727735,1.645714258578475,-1.384406199597019,0.5083535943892357,-1.0514179180662875,0.7549770555868955,-1.675545109092052,-1.0451488351170122,-2.0614544842966995,0.16982230547273192,1.8251139327360477,0.44986683396737626,0.3939286211800785,-1.114911778732924,-0.4177123875352382,1.108470034084431,0.49834592193931465,-1.9547909952942522,1.176365585897962,-0.029407168874944503,-0.4613577626841192,-1.3451916694004673,0.8821653763967819,-1.173395693010109,0.32036147045809604,-1.2749930918574466,1.9899525192678373,-1.1398903142935857,-0.4968601383846873],\"yaxis\":\"y9\",\"type\":\"scatter\"},{\"line\":{\"color\":\"rgba(128, 128, 128, 1.0)\",\"dash\":\"solid\",\"shape\":\"linear\",\"width\":1.3},\"marker\":{\"size\":2,\"symbol\":\"circle\"},\"mode\":\"markers\",\"name\":\"C\",\"text\":\"\",\"x\":[2.4033726396064625,-0.3180661953813854,0.3575646009315945,-0.1105494946218425,-1.9893182998132442,0.12108998433814257,1.6231297492375656,-1.2060270018752517,-1.4763460598573717,-0.31605687258158366,-0.30143437365788345,-0.26399532166551437,0.9165050788909543,0.7736176343862297,0.9360968870348345,0.6558051320314173,-0.9571761584379436,-0.9924811564511132,0.7971918612956219,-0.37130794160576763,-0.2760754290236538,0.6900682486696768,1.5530644454787816,0.4313746272862494,0.606668375448992,-0.1678150518632239,-0.06562136516121853,1.1358032600451677,-1.555216491676847,2.3596114839686897,1.6849126218993657,-1.1076458633876247,0.19152751134038656,-2.418973945595888,0.46641748517612613,-0.21364558612811305,1.1480763571394446,0.059794594708253365,0.42198828304935004,-0.1278335244912023,-0.3434904890462654,0.6386561805665968,-0.14208161537358346,-0.21014682568625534,-1.1515120179039007,0.6423152244432342,0.5385251636516468,-1.2735301704460944,-0.9263130931462031,1.0528723780534726,1.398092729216517,0.7409688920291192,1.5330713382437804,1.2238886674459235,1.3021010010114673,0.9267666640747797,-1.0632816642972323,-0.853609509509939,1.4774215216322193,1.8375264582418434,1.2510879290725092,0.11877753746905721,1.0800394768582156,-1.31790521726136,-1.365923862710278,1.6836138765041453,-0.0050875497121913756,0.14030157148832426,-0.7439091480217016,0.3421569973368127,0.3176875279051301,-0.4658550524900476,1.5083142101265588,0.9342942058681324,0.038805998180403596,-0.5427143810390751,1.8653101105958274,0.9160042953261466,-0.7399792359271136,-1.3913613995497782,-1.3659709922367504,-1.7739464469938493,0.9790656864957751,-0.5645792416112951,1.3080798586746816,-0.3710346468680679,-0.3831733338661221,0.6690962928884536,0.5510184334158387,0.7638864171285927,0.7173354808699728,-0.7350903538128789,1.3679739533904145,-1.6310206244484406,-0.39313156746717626,0.026323629417493655,-1.7894767650578125,-0.7225163772056884,1.9078118752926256,0.7217442983989159],\"xaxis\":\"x10\",\"y\":[0.4689665067580521,2.657661785631248,-0.15695404125640144,0.605265196825292,-0.7057374319212296,0.8444309653569217,0.7513210022146437,0.4307395998978597,1.0371730870237932,1.974103854421076,-1.1288760520237493,0.8055315230691629,-1.335601470526402,-0.028547479101887447,0.06747542495281443,-1.1309575553312143,1.6271698811106052,-0.8569455622264276,0.6456922933836641,1.6379346196809164,0.1806495115367449,0.14639348883989947,-1.3552736004820631,-0.119350727088024,-0.3563793145517163,-1.023983797537162,-1.2002930376860392,0.30540079810011533,-0.4761218790211993,0.24257472613728698,-0.3361720751310067,-1.846424890646746,-0.7748643511775507,-0.8618459502950332,2.1193450044927333,0.40496375514144517,-2.9377762864827,-1.8965821460469738,-0.48480046089468737,0.7483102482534699,1.6910057862337557,-1.233714975417407,0.06493475062118555,0.6392015128212213,-0.5899288328143886,-0.728572959023513,0.6113604849908908,1.2054338538568574,0.08020295162428227,2.041858302804547,1.4184034553585103,-0.1719830931621509,-0.6949916357107848,-1.978855890551208,0.6257545974595368,0.8632133760671598,-0.5976588697599662,0.8479532170096117,1.70344793958928,1.1386853529720973,0.8487051642989147,0.968843823916177,0.6957190136412353,0.002582225038355152,-1.4513032950993925,-0.19805787701228872,0.6774343549635712,-1.4327537700193087,0.26411514326036833,-0.33671161663269716,-0.08407330728644541,1.368220600727735,1.645714258578475,-1.384406199597019,0.5083535943892357,-1.0514179180662875,0.7549770555868955,-1.675545109092052,-1.0451488351170122,-2.0614544842966995,0.16982230547273192,1.8251139327360477,0.44986683396737626,0.3939286211800785,-1.114911778732924,-0.4177123875352382,1.108470034084431,0.49834592193931465,-1.9547909952942522,1.176365585897962,-0.029407168874944503,-0.4613577626841192,-1.3451916694004673,0.8821653763967819,-1.173395693010109,0.32036147045809604,-1.2749930918574466,1.9899525192678373,-1.1398903142935857,-0.4968601383846873],\"yaxis\":\"y10\",\"type\":\"scatter\"},{\"histfunc\":\"count\",\"histnorm\":\"\",\"marker\":{\"color\":\"rgba(50, 171, 96, 1.0)\",\"line\":{\"color\":\"#4D5663\",\"width\":1.3}},\"name\":\"C\",\"nbinsx\":10,\"opacity\":0.8,\"orientation\":\"v\",\"x\":[0.4689665067580521,2.657661785631248,-0.15695404125640144,0.605265196825292,-0.7057374319212296,0.8444309653569217,0.7513210022146437,0.4307395998978597,1.0371730870237932,1.974103854421076,-1.1288760520237493,0.8055315230691629,-1.335601470526402,-0.028547479101887447,0.06747542495281443,-1.1309575553312143,1.6271698811106052,-0.8569455622264276,0.6456922933836641,1.6379346196809164,0.1806495115367449,0.14639348883989947,-1.3552736004820631,-0.119350727088024,-0.3563793145517163,-1.023983797537162,-1.2002930376860392,0.30540079810011533,-0.4761218790211993,0.24257472613728698,-0.3361720751310067,-1.846424890646746,-0.7748643511775507,-0.8618459502950332,2.1193450044927333,0.40496375514144517,-2.9377762864827,-1.8965821460469738,-0.48480046089468737,0.7483102482534699,1.6910057862337557,-1.233714975417407,0.06493475062118555,0.6392015128212213,-0.5899288328143886,-0.728572959023513,0.6113604849908908,1.2054338538568574,0.08020295162428227,2.041858302804547,1.4184034553585103,-0.1719830931621509,-0.6949916357107848,-1.978855890551208,0.6257545974595368,0.8632133760671598,-0.5976588697599662,0.8479532170096117,1.70344793958928,1.1386853529720973,0.8487051642989147,0.968843823916177,0.6957190136412353,0.002582225038355152,-1.4513032950993925,-0.19805787701228872,0.6774343549635712,-1.4327537700193087,0.26411514326036833,-0.33671161663269716,-0.08407330728644541,1.368220600727735,1.645714258578475,-1.384406199597019,0.5083535943892357,-1.0514179180662875,0.7549770555868955,-1.675545109092052,-1.0451488351170122,-2.0614544842966995,0.16982230547273192,1.8251139327360477,0.44986683396737626,0.3939286211800785,-1.114911778732924,-0.4177123875352382,1.108470034084431,0.49834592193931465,-1.9547909952942522,1.176365585897962,-0.029407168874944503,-0.4613577626841192,-1.3451916694004673,0.8821653763967819,-1.173395693010109,0.32036147045809604,-1.2749930918574466,1.9899525192678373,-1.1398903142935857,-0.4968601383846873],\"xaxis\":\"x11\",\"yaxis\":\"y11\",\"type\":\"histogram\"},{\"line\":{\"color\":\"rgba(128, 128, 128, 1.0)\",\"dash\":\"solid\",\"shape\":\"linear\",\"width\":1.3},\"marker\":{\"size\":2,\"symbol\":\"circle\"},\"mode\":\"markers\",\"name\":\"C\",\"text\":\"\",\"x\":[1.0085964341555844,-1.2269753588859271,-1.5097988830045546,-0.5957249513887795,-0.957292708169662,0.37925034902571103,0.6390786863933957,-1.4278468527458785,1.1554198868405157,1.4835710039569256,-1.8617930501549576,1.0549386258229976,-0.597880076754315,0.5091114140451493,-0.4236008265812986,2.0422230963736423,-1.5944447623816826,1.0046933857435616,-1.346948771912937,-0.4780454082197933,-0.1293847086726596,0.047109012029019515,0.5254822345724128,0.822192262412065,1.4459759780435455,0.9115178242482179,0.09163585118157323,-0.4333767970305198,-0.25317827633395823,1.251941966515613,-0.48504486193858026,1.4155994216269399,-0.08942120600242834,0.018129302526952513,0.09538400771573545,0.14635880217596137,-0.03521929132626436,0.9464919018571304,-1.0298398614208712,1.1468853072362954,-0.28638870472181804,-2.312265561373491,1.0994685942927933,1.9323478853341507,1.285517116893445,-0.6561135953456818,0.613382362747721,0.294912843507637,0.501579060503352,2.0601536753961205,0.09031593286671273,-2.1116352492033665,1.14479295440716,1.6482467822786142,-0.23688476995824312,-2.483168964360678,1.7393690105774773,-0.7528532600045252,0.549850368149912,1.6092665516046354,1.1245463956901984,-0.25960022308154207,-0.894525142137224,-0.44335753624262075,-0.4953186258903264,0.44862293242002454,0.5076707606831699,-0.8234639692664324,-0.1825116567135101,0.6165168690298184,-0.7441595984799642,-1.2644685398119577,1.9473943153893534,0.8716113455957312,1.4056319769016397,0.18172623584949632,-0.34499946405601095,0.7016813836505776,0.5675933797489788,-0.0634524470695323,1.6698437842254625,-0.2589095268265948,0.39291905061572424,-2.3753214718334985,-0.44280955514871473,-0.06627116150696902,0.5600957537663671,-0.9066305671341511,0.8827050851394105,0.19517323025462843,0.2499217272758512,0.21879809967016942,-0.31226846868748914,-1.7337764797766497,0.8209083232667705,-0.42547099701212215,-0.09310701732516485,0.3629058590313021,0.1407115006202667,0.876168071097411],\"xaxis\":\"x12\",\"y\":[0.4689665067580521,2.657661785631248,-0.15695404125640144,0.605265196825292,-0.7057374319212296,0.8444309653569217,0.7513210022146437,0.4307395998978597,1.0371730870237932,1.974103854421076,-1.1288760520237493,0.8055315230691629,-1.335601470526402,-0.028547479101887447,0.06747542495281443,-1.1309575553312143,1.6271698811106052,-0.8569455622264276,0.6456922933836641,1.6379346196809164,0.1806495115367449,0.14639348883989947,-1.3552736004820631,-0.119350727088024,-0.3563793145517163,-1.023983797537162,-1.2002930376860392,0.30540079810011533,-0.4761218790211993,0.24257472613728698,-0.3361720751310067,-1.846424890646746,-0.7748643511775507,-0.8618459502950332,2.1193450044927333,0.40496375514144517,-2.9377762864827,-1.8965821460469738,-0.48480046089468737,0.7483102482534699,1.6910057862337557,-1.233714975417407,0.06493475062118555,0.6392015128212213,-0.5899288328143886,-0.728572959023513,0.6113604849908908,1.2054338538568574,0.08020295162428227,2.041858302804547,1.4184034553585103,-0.1719830931621509,-0.6949916357107848,-1.978855890551208,0.6257545974595368,0.8632133760671598,-0.5976588697599662,0.8479532170096117,1.70344793958928,1.1386853529720973,0.8487051642989147,0.968843823916177,0.6957190136412353,0.002582225038355152,-1.4513032950993925,-0.19805787701228872,0.6774343549635712,-1.4327537700193087,0.26411514326036833,-0.33671161663269716,-0.08407330728644541,1.368220600727735,1.645714258578475,-1.384406199597019,0.5083535943892357,-1.0514179180662875,0.7549770555868955,-1.675545109092052,-1.0451488351170122,-2.0614544842966995,0.16982230547273192,1.8251139327360477,0.44986683396737626,0.3939286211800785,-1.114911778732924,-0.4177123875352382,1.108470034084431,0.49834592193931465,-1.9547909952942522,1.176365585897962,-0.029407168874944503,-0.4613577626841192,-1.3451916694004673,0.8821653763967819,-1.173395693010109,0.32036147045809604,-1.2749930918574466,1.9899525192678373,-1.1398903142935857,-0.4968601383846873],\"yaxis\":\"y12\",\"type\":\"scatter\"},{\"line\":{\"color\":\"rgba(128, 128, 128, 1.0)\",\"dash\":\"solid\",\"shape\":\"linear\",\"width\":1.3},\"marker\":{\"size\":2,\"symbol\":\"circle\"},\"mode\":\"markers\",\"name\":\"D\",\"text\":\"\",\"x\":[-0.6123213313638834,1.3594760586323038,0.7157028374769693,0.7428268604041767,1.4387038289767837,-0.18659775442196597,1.4732645597761136,-1.0063295388071447,1.056092961661525,-2.47632273602315,-0.635452318342618,-0.44341162530791667,0.8603466277919531,0.07446614932749684,-0.1331131522466488,0.9950176867120871,-0.6469853058251499,-0.8700113105706968,0.7451915965836442,1.0080729109461022,1.3612656769446707,-0.46388543466577953,-1.6252556434939562,-0.9321225459929191,0.16520721127913351,1.109035311807075,-0.17481458358740606,-1.624426672284938,-0.1702527952572121,0.5692071778213524,-1.8522429631266695,-1.8274075534861318,1.4467135685260804,-0.2566950458043969,-0.31473561434280445,-1.3924295664519903,-1.5183227401831643,1.100316191055605,-1.3243172550303042,0.934613326420437,0.5058253582807383,0.6925078253422744,1.9416032539843482,-1.1472736624868352,0.6738495664997504,-0.47737184536099964,-1.641216335191951,-0.13222458670586418,-0.709692601338341,1.0704070534135786,-0.35957829928635193,1.1347015745407685,1.7394557819272984,0.10648238319660469,-1.2104409774898166,-0.21935452937051048,-0.7209436501354658,-0.36707627095778994,-0.4137095293103209,-0.14202313507910364,1.2665388927529673,1.1194663999265804,-1.2425290334764583,0.39840737442666446,0.8945368981705608,-0.9571858944373809,-0.4633202776630124,-0.9712012233075042,0.7208776529585661,0.7438375746122489,-1.3026515735400312,1.004468713016441,-0.34401917264171356,0.37856579146205005,0.5766908858096895,0.14489140687254426,0.5030487355914735,0.16656440729662095,-1.044040712361414,1.3940344198410861,-1.8958614932946471,-1.598344342488547,0.619097265217185,1.1247773545002318,-0.7131652820603137,-0.7259441325114188,0.3783084614135404,0.953242635318946,-1.0865438738709796,1.0560252986180356,-0.9152623676229141,-0.47689637661425693,-1.5731089650479364,0.45657205749455,-0.011860036772261388,-0.7254513536108076,0.5454745770976296,-1.669814686271186,1.5393007948667181,0.28512201838580503],\"xaxis\":\"x13\",\"y\":[1.0085964341555844,-1.2269753588859271,-1.5097988830045546,-0.5957249513887795,-0.957292708169662,0.37925034902571103,0.6390786863933957,-1.4278468527458785,1.1554198868405157,1.4835710039569256,-1.8617930501549576,1.0549386258229976,-0.597880076754315,0.5091114140451493,-0.4236008265812986,2.0422230963736423,-1.5944447623816826,1.0046933857435616,-1.346948771912937,-0.4780454082197933,-0.1293847086726596,0.047109012029019515,0.5254822345724128,0.822192262412065,1.4459759780435455,0.9115178242482179,0.09163585118157323,-0.4333767970305198,-0.25317827633395823,1.251941966515613,-0.48504486193858026,1.4155994216269399,-0.08942120600242834,0.018129302526952513,0.09538400771573545,0.14635880217596137,-0.03521929132626436,0.9464919018571304,-1.0298398614208712,1.1468853072362954,-0.28638870472181804,-2.312265561373491,1.0994685942927933,1.9323478853341507,1.285517116893445,-0.6561135953456818,0.613382362747721,0.294912843507637,0.501579060503352,2.0601536753961205,0.09031593286671273,-2.1116352492033665,1.14479295440716,1.6482467822786142,-0.23688476995824312,-2.483168964360678,1.7393690105774773,-0.7528532600045252,0.549850368149912,1.6092665516046354,1.1245463956901984,-0.25960022308154207,-0.894525142137224,-0.44335753624262075,-0.4953186258903264,0.44862293242002454,0.5076707606831699,-0.8234639692664324,-0.1825116567135101,0.6165168690298184,-0.7441595984799642,-1.2644685398119577,1.9473943153893534,0.8716113455957312,1.4056319769016397,0.18172623584949632,-0.34499946405601095,0.7016813836505776,0.5675933797489788,-0.0634524470695323,1.6698437842254625,-0.2589095268265948,0.39291905061572424,-2.3753214718334985,-0.44280955514871473,-0.06627116150696902,0.5600957537663671,-0.9066305671341511,0.8827050851394105,0.19517323025462843,0.2499217272758512,0.21879809967016942,-0.31226846868748914,-1.7337764797766497,0.8209083232667705,-0.42547099701212215,-0.09310701732516485,0.3629058590313021,0.1407115006202667,0.876168071097411],\"yaxis\":\"y13\",\"type\":\"scatter\"},{\"line\":{\"color\":\"rgba(128, 128, 128, 1.0)\",\"dash\":\"solid\",\"shape\":\"linear\",\"width\":1.3},\"marker\":{\"size\":2,\"symbol\":\"circle\"},\"mode\":\"markers\",\"name\":\"D\",\"text\":\"\",\"x\":[2.4033726396064625,-0.3180661953813854,0.3575646009315945,-0.1105494946218425,-1.9893182998132442,0.12108998433814257,1.6231297492375656,-1.2060270018752517,-1.4763460598573717,-0.31605687258158366,-0.30143437365788345,-0.26399532166551437,0.9165050788909543,0.7736176343862297,0.9360968870348345,0.6558051320314173,-0.9571761584379436,-0.9924811564511132,0.7971918612956219,-0.37130794160576763,-0.2760754290236538,0.6900682486696768,1.5530644454787816,0.4313746272862494,0.606668375448992,-0.1678150518632239,-0.06562136516121853,1.1358032600451677,-1.555216491676847,2.3596114839686897,1.6849126218993657,-1.1076458633876247,0.19152751134038656,-2.418973945595888,0.46641748517612613,-0.21364558612811305,1.1480763571394446,0.059794594708253365,0.42198828304935004,-0.1278335244912023,-0.3434904890462654,0.6386561805665968,-0.14208161537358346,-0.21014682568625534,-1.1515120179039007,0.6423152244432342,0.5385251636516468,-1.2735301704460944,-0.9263130931462031,1.0528723780534726,1.398092729216517,0.7409688920291192,1.5330713382437804,1.2238886674459235,1.3021010010114673,0.9267666640747797,-1.0632816642972323,-0.853609509509939,1.4774215216322193,1.8375264582418434,1.2510879290725092,0.11877753746905721,1.0800394768582156,-1.31790521726136,-1.365923862710278,1.6836138765041453,-0.0050875497121913756,0.14030157148832426,-0.7439091480217016,0.3421569973368127,0.3176875279051301,-0.4658550524900476,1.5083142101265588,0.9342942058681324,0.038805998180403596,-0.5427143810390751,1.8653101105958274,0.9160042953261466,-0.7399792359271136,-1.3913613995497782,-1.3659709922367504,-1.7739464469938493,0.9790656864957751,-0.5645792416112951,1.3080798586746816,-0.3710346468680679,-0.3831733338661221,0.6690962928884536,0.5510184334158387,0.7638864171285927,0.7173354808699728,-0.7350903538128789,1.3679739533904145,-1.6310206244484406,-0.39313156746717626,0.026323629417493655,-1.7894767650578125,-0.7225163772056884,1.9078118752926256,0.7217442983989159],\"xaxis\":\"x14\",\"y\":[1.0085964341555844,-1.2269753588859271,-1.5097988830045546,-0.5957249513887795,-0.957292708169662,0.37925034902571103,0.6390786863933957,-1.4278468527458785,1.1554198868405157,1.4835710039569256,-1.8617930501549576,1.0549386258229976,-0.597880076754315,0.5091114140451493,-0.4236008265812986,2.0422230963736423,-1.5944447623816826,1.0046933857435616,-1.346948771912937,-0.4780454082197933,-0.1293847086726596,0.047109012029019515,0.5254822345724128,0.822192262412065,1.4459759780435455,0.9115178242482179,0.09163585118157323,-0.4333767970305198,-0.25317827633395823,1.251941966515613,-0.48504486193858026,1.4155994216269399,-0.08942120600242834,0.018129302526952513,0.09538400771573545,0.14635880217596137,-0.03521929132626436,0.9464919018571304,-1.0298398614208712,1.1468853072362954,-0.28638870472181804,-2.312265561373491,1.0994685942927933,1.9323478853341507,1.285517116893445,-0.6561135953456818,0.613382362747721,0.294912843507637,0.501579060503352,2.0601536753961205,0.09031593286671273,-2.1116352492033665,1.14479295440716,1.6482467822786142,-0.23688476995824312,-2.483168964360678,1.7393690105774773,-0.7528532600045252,0.549850368149912,1.6092665516046354,1.1245463956901984,-0.25960022308154207,-0.894525142137224,-0.44335753624262075,-0.4953186258903264,0.44862293242002454,0.5076707606831699,-0.8234639692664324,-0.1825116567135101,0.6165168690298184,-0.7441595984799642,-1.2644685398119577,1.9473943153893534,0.8716113455957312,1.4056319769016397,0.18172623584949632,-0.34499946405601095,0.7016813836505776,0.5675933797489788,-0.0634524470695323,1.6698437842254625,-0.2589095268265948,0.39291905061572424,-2.3753214718334985,-0.44280955514871473,-0.06627116150696902,0.5600957537663671,-0.9066305671341511,0.8827050851394105,0.19517323025462843,0.2499217272758512,0.21879809967016942,-0.31226846868748914,-1.7337764797766497,0.8209083232667705,-0.42547099701212215,-0.09310701732516485,0.3629058590313021,0.1407115006202667,0.876168071097411],\"yaxis\":\"y14\",\"type\":\"scatter\"},{\"line\":{\"color\":\"rgba(128, 128, 128, 1.0)\",\"dash\":\"solid\",\"shape\":\"linear\",\"width\":1.3},\"marker\":{\"size\":2,\"symbol\":\"circle\"},\"mode\":\"markers\",\"name\":\"D\",\"text\":\"\",\"x\":[0.4689665067580521,2.657661785631248,-0.15695404125640144,0.605265196825292,-0.7057374319212296,0.8444309653569217,0.7513210022146437,0.4307395998978597,1.0371730870237932,1.974103854421076,-1.1288760520237493,0.8055315230691629,-1.335601470526402,-0.028547479101887447,0.06747542495281443,-1.1309575553312143,1.6271698811106052,-0.8569455622264276,0.6456922933836641,1.6379346196809164,0.1806495115367449,0.14639348883989947,-1.3552736004820631,-0.119350727088024,-0.3563793145517163,-1.023983797537162,-1.2002930376860392,0.30540079810011533,-0.4761218790211993,0.24257472613728698,-0.3361720751310067,-1.846424890646746,-0.7748643511775507,-0.8618459502950332,2.1193450044927333,0.40496375514144517,-2.9377762864827,-1.8965821460469738,-0.48480046089468737,0.7483102482534699,1.6910057862337557,-1.233714975417407,0.06493475062118555,0.6392015128212213,-0.5899288328143886,-0.728572959023513,0.6113604849908908,1.2054338538568574,0.08020295162428227,2.041858302804547,1.4184034553585103,-0.1719830931621509,-0.6949916357107848,-1.978855890551208,0.6257545974595368,0.8632133760671598,-0.5976588697599662,0.8479532170096117,1.70344793958928,1.1386853529720973,0.8487051642989147,0.968843823916177,0.6957190136412353,0.002582225038355152,-1.4513032950993925,-0.19805787701228872,0.6774343549635712,-1.4327537700193087,0.26411514326036833,-0.33671161663269716,-0.08407330728644541,1.368220600727735,1.645714258578475,-1.384406199597019,0.5083535943892357,-1.0514179180662875,0.7549770555868955,-1.675545109092052,-1.0451488351170122,-2.0614544842966995,0.16982230547273192,1.8251139327360477,0.44986683396737626,0.3939286211800785,-1.114911778732924,-0.4177123875352382,1.108470034084431,0.49834592193931465,-1.9547909952942522,1.176365585897962,-0.029407168874944503,-0.4613577626841192,-1.3451916694004673,0.8821653763967819,-1.173395693010109,0.32036147045809604,-1.2749930918574466,1.9899525192678373,-1.1398903142935857,-0.4968601383846873],\"xaxis\":\"x15\",\"y\":[1.0085964341555844,-1.2269753588859271,-1.5097988830045546,-0.5957249513887795,-0.957292708169662,0.37925034902571103,0.6390786863933957,-1.4278468527458785,1.1554198868405157,1.4835710039569256,-1.8617930501549576,1.0549386258229976,-0.597880076754315,0.5091114140451493,-0.4236008265812986,2.0422230963736423,-1.5944447623816826,1.0046933857435616,-1.346948771912937,-0.4780454082197933,-0.1293847086726596,0.047109012029019515,0.5254822345724128,0.822192262412065,1.4459759780435455,0.9115178242482179,0.09163585118157323,-0.4333767970305198,-0.25317827633395823,1.251941966515613,-0.48504486193858026,1.4155994216269399,-0.08942120600242834,0.018129302526952513,0.09538400771573545,0.14635880217596137,-0.03521929132626436,0.9464919018571304,-1.0298398614208712,1.1468853072362954,-0.28638870472181804,-2.312265561373491,1.0994685942927933,1.9323478853341507,1.285517116893445,-0.6561135953456818,0.613382362747721,0.294912843507637,0.501579060503352,2.0601536753961205,0.09031593286671273,-2.1116352492033665,1.14479295440716,1.6482467822786142,-0.23688476995824312,-2.483168964360678,1.7393690105774773,-0.7528532600045252,0.549850368149912,1.6092665516046354,1.1245463956901984,-0.25960022308154207,-0.894525142137224,-0.44335753624262075,-0.4953186258903264,0.44862293242002454,0.5076707606831699,-0.8234639692664324,-0.1825116567135101,0.6165168690298184,-0.7441595984799642,-1.2644685398119577,1.9473943153893534,0.8716113455957312,1.4056319769016397,0.18172623584949632,-0.34499946405601095,0.7016813836505776,0.5675933797489788,-0.0634524470695323,1.6698437842254625,-0.2589095268265948,0.39291905061572424,-2.3753214718334985,-0.44280955514871473,-0.06627116150696902,0.5600957537663671,-0.9066305671341511,0.8827050851394105,0.19517323025462843,0.2499217272758512,0.21879809967016942,-0.31226846868748914,-1.7337764797766497,0.8209083232667705,-0.42547099701212215,-0.09310701732516485,0.3629058590313021,0.1407115006202667,0.876168071097411],\"yaxis\":\"y15\",\"type\":\"scatter\"},{\"histfunc\":\"count\",\"histnorm\":\"\",\"marker\":{\"color\":\"rgba(128, 0, 128, 1.0)\",\"line\":{\"color\":\"#4D5663\",\"width\":1.3}},\"name\":\"D\",\"nbinsx\":10,\"opacity\":0.8,\"orientation\":\"v\",\"x\":[1.0085964341555844,-1.2269753588859271,-1.5097988830045546,-0.5957249513887795,-0.957292708169662,0.37925034902571103,0.6390786863933957,-1.4278468527458785,1.1554198868405157,1.4835710039569256,-1.8617930501549576,1.0549386258229976,-0.597880076754315,0.5091114140451493,-0.4236008265812986,2.0422230963736423,-1.5944447623816826,1.0046933857435616,-1.346948771912937,-0.4780454082197933,-0.1293847086726596,0.047109012029019515,0.5254822345724128,0.822192262412065,1.4459759780435455,0.9115178242482179,0.09163585118157323,-0.4333767970305198,-0.25317827633395823,1.251941966515613,-0.48504486193858026,1.4155994216269399,-0.08942120600242834,0.018129302526952513,0.09538400771573545,0.14635880217596137,-0.03521929132626436,0.9464919018571304,-1.0298398614208712,1.1468853072362954,-0.28638870472181804,-2.312265561373491,1.0994685942927933,1.9323478853341507,1.285517116893445,-0.6561135953456818,0.613382362747721,0.294912843507637,0.501579060503352,2.0601536753961205,0.09031593286671273,-2.1116352492033665,1.14479295440716,1.6482467822786142,-0.23688476995824312,-2.483168964360678,1.7393690105774773,-0.7528532600045252,0.549850368149912,1.6092665516046354,1.1245463956901984,-0.25960022308154207,-0.894525142137224,-0.44335753624262075,-0.4953186258903264,0.44862293242002454,0.5076707606831699,-0.8234639692664324,-0.1825116567135101,0.6165168690298184,-0.7441595984799642,-1.2644685398119577,1.9473943153893534,0.8716113455957312,1.4056319769016397,0.18172623584949632,-0.34499946405601095,0.7016813836505776,0.5675933797489788,-0.0634524470695323,1.6698437842254625,-0.2589095268265948,0.39291905061572424,-2.3753214718334985,-0.44280955514871473,-0.06627116150696902,0.5600957537663671,-0.9066305671341511,0.8827050851394105,0.19517323025462843,0.2499217272758512,0.21879809967016942,-0.31226846868748914,-1.7337764797766497,0.8209083232667705,-0.42547099701212215,-0.09310701732516485,0.3629058590313021,0.1407115006202667,0.876168071097411],\"xaxis\":\"x16\",\"yaxis\":\"y16\",\"type\":\"histogram\"}],                        {\"bargap\":0.02,\"legend\":{\"bgcolor\":\"#F5F6F9\",\"font\":{\"color\":\"#4D5663\"}},\"paper_bgcolor\":\"#F5F6F9\",\"plot_bgcolor\":\"#F5F6F9\",\"showlegend\":false,\"template\":{\"data\":{\"barpolar\":[{\"marker\":{\"line\":{\"color\":\"#E5ECF6\",\"width\":0.5},\"pattern\":{\"fillmode\":\"overlay\",\"size\":10,\"solidity\":0.2}},\"type\":\"barpolar\"}],\"bar\":[{\"error_x\":{\"color\":\"#2a3f5f\"},\"error_y\":{\"color\":\"#2a3f5f\"},\"marker\":{\"line\":{\"color\":\"#E5ECF6\",\"width\":0.5},\"pattern\":{\"fillmode\":\"overlay\",\"size\":10,\"solidity\":0.2}},\"type\":\"bar\"}],\"carpet\":[{\"aaxis\":{\"endlinecolor\":\"#2a3f5f\",\"gridcolor\":\"white\",\"linecolor\":\"white\",\"minorgridcolor\":\"white\",\"startlinecolor\":\"#2a3f5f\"},\"baxis\":{\"endlinecolor\":\"#2a3f5f\",\"gridcolor\":\"white\",\"linecolor\":\"white\",\"minorgridcolor\":\"white\",\"startlinecolor\":\"#2a3f5f\"},\"type\":\"carpet\"}],\"choropleth\":[{\"colorbar\":{\"outlinewidth\":0,\"ticks\":\"\"},\"type\":\"choropleth\"}],\"contourcarpet\":[{\"colorbar\":{\"outlinewidth\":0,\"ticks\":\"\"},\"type\":\"contourcarpet\"}],\"contour\":[{\"colorbar\":{\"outlinewidth\":0,\"ticks\":\"\"},\"colorscale\":[[0.0,\"#0d0887\"],[0.1111111111111111,\"#46039f\"],[0.2222222222222222,\"#7201a8\"],[0.3333333333333333,\"#9c179e\"],[0.4444444444444444,\"#bd3786\"],[0.5555555555555556,\"#d8576b\"],[0.6666666666666666,\"#ed7953\"],[0.7777777777777778,\"#fb9f3a\"],[0.8888888888888888,\"#fdca26\"],[1.0,\"#f0f921\"]],\"type\":\"contour\"}],\"heatmapgl\":[{\"colorbar\":{\"outlinewidth\":0,\"ticks\":\"\"},\"colorscale\":[[0.0,\"#0d0887\"],[0.1111111111111111,\"#46039f\"],[0.2222222222222222,\"#7201a8\"],[0.3333333333333333,\"#9c179e\"],[0.4444444444444444,\"#bd3786\"],[0.5555555555555556,\"#d8576b\"],[0.6666666666666666,\"#ed7953\"],[0.7777777777777778,\"#fb9f3a\"],[0.8888888888888888,\"#fdca26\"],[1.0,\"#f0f921\"]],\"type\":\"heatmapgl\"}],\"heatmap\":[{\"colorbar\":{\"outlinewidth\":0,\"ticks\":\"\"},\"colorscale\":[[0.0,\"#0d0887\"],[0.1111111111111111,\"#46039f\"],[0.2222222222222222,\"#7201a8\"],[0.3333333333333333,\"#9c179e\"],[0.4444444444444444,\"#bd3786\"],[0.5555555555555556,\"#d8576b\"],[0.6666666666666666,\"#ed7953\"],[0.7777777777777778,\"#fb9f3a\"],[0.8888888888888888,\"#fdca26\"],[1.0,\"#f0f921\"]],\"type\":\"heatmap\"}],\"histogram2dcontour\":[{\"colorbar\":{\"outlinewidth\":0,\"ticks\":\"\"},\"colorscale\":[[0.0,\"#0d0887\"],[0.1111111111111111,\"#46039f\"],[0.2222222222222222,\"#7201a8\"],[0.3333333333333333,\"#9c179e\"],[0.4444444444444444,\"#bd3786\"],[0.5555555555555556,\"#d8576b\"],[0.6666666666666666,\"#ed7953\"],[0.7777777777777778,\"#fb9f3a\"],[0.8888888888888888,\"#fdca26\"],[1.0,\"#f0f921\"]],\"type\":\"histogram2dcontour\"}],\"histogram2d\":[{\"colorbar\":{\"outlinewidth\":0,\"ticks\":\"\"},\"colorscale\":[[0.0,\"#0d0887\"],[0.1111111111111111,\"#46039f\"],[0.2222222222222222,\"#7201a8\"],[0.3333333333333333,\"#9c179e\"],[0.4444444444444444,\"#bd3786\"],[0.5555555555555556,\"#d8576b\"],[0.6666666666666666,\"#ed7953\"],[0.7777777777777778,\"#fb9f3a\"],[0.8888888888888888,\"#fdca26\"],[1.0,\"#f0f921\"]],\"type\":\"histogram2d\"}],\"histogram\":[{\"marker\":{\"pattern\":{\"fillmode\":\"overlay\",\"size\":10,\"solidity\":0.2}},\"type\":\"histogram\"}],\"mesh3d\":[{\"colorbar\":{\"outlinewidth\":0,\"ticks\":\"\"},\"type\":\"mesh3d\"}],\"parcoords\":[{\"line\":{\"colorbar\":{\"outlinewidth\":0,\"ticks\":\"\"}},\"type\":\"parcoords\"}],\"pie\":[{\"automargin\":true,\"type\":\"pie\"}],\"scatter3d\":[{\"line\":{\"colorbar\":{\"outlinewidth\":0,\"ticks\":\"\"}},\"marker\":{\"colorbar\":{\"outlinewidth\":0,\"ticks\":\"\"}},\"type\":\"scatter3d\"}],\"scattercarpet\":[{\"marker\":{\"colorbar\":{\"outlinewidth\":0,\"ticks\":\"\"}},\"type\":\"scattercarpet\"}],\"scattergeo\":[{\"marker\":{\"colorbar\":{\"outlinewidth\":0,\"ticks\":\"\"}},\"type\":\"scattergeo\"}],\"scattergl\":[{\"marker\":{\"colorbar\":{\"outlinewidth\":0,\"ticks\":\"\"}},\"type\":\"scattergl\"}],\"scattermapbox\":[{\"marker\":{\"colorbar\":{\"outlinewidth\":0,\"ticks\":\"\"}},\"type\":\"scattermapbox\"}],\"scatterpolargl\":[{\"marker\":{\"colorbar\":{\"outlinewidth\":0,\"ticks\":\"\"}},\"type\":\"scatterpolargl\"}],\"scatterpolar\":[{\"marker\":{\"colorbar\":{\"outlinewidth\":0,\"ticks\":\"\"}},\"type\":\"scatterpolar\"}],\"scatter\":[{\"marker\":{\"colorbar\":{\"outlinewidth\":0,\"ticks\":\"\"}},\"type\":\"scatter\"}],\"scatterternary\":[{\"marker\":{\"colorbar\":{\"outlinewidth\":0,\"ticks\":\"\"}},\"type\":\"scatterternary\"}],\"surface\":[{\"colorbar\":{\"outlinewidth\":0,\"ticks\":\"\"},\"colorscale\":[[0.0,\"#0d0887\"],[0.1111111111111111,\"#46039f\"],[0.2222222222222222,\"#7201a8\"],[0.3333333333333333,\"#9c179e\"],[0.4444444444444444,\"#bd3786\"],[0.5555555555555556,\"#d8576b\"],[0.6666666666666666,\"#ed7953\"],[0.7777777777777778,\"#fb9f3a\"],[0.8888888888888888,\"#fdca26\"],[1.0,\"#f0f921\"]],\"type\":\"surface\"}],\"table\":[{\"cells\":{\"fill\":{\"color\":\"#EBF0F8\"},\"line\":{\"color\":\"white\"}},\"header\":{\"fill\":{\"color\":\"#C8D4E3\"},\"line\":{\"color\":\"white\"}},\"type\":\"table\"}]},\"layout\":{\"annotationdefaults\":{\"arrowcolor\":\"#2a3f5f\",\"arrowhead\":0,\"arrowwidth\":1},\"autotypenumbers\":\"strict\",\"coloraxis\":{\"colorbar\":{\"outlinewidth\":0,\"ticks\":\"\"}},\"colorscale\":{\"diverging\":[[0,\"#8e0152\"],[0.1,\"#c51b7d\"],[0.2,\"#de77ae\"],[0.3,\"#f1b6da\"],[0.4,\"#fde0ef\"],[0.5,\"#f7f7f7\"],[0.6,\"#e6f5d0\"],[0.7,\"#b8e186\"],[0.8,\"#7fbc41\"],[0.9,\"#4d9221\"],[1,\"#276419\"]],\"sequential\":[[0.0,\"#0d0887\"],[0.1111111111111111,\"#46039f\"],[0.2222222222222222,\"#7201a8\"],[0.3333333333333333,\"#9c179e\"],[0.4444444444444444,\"#bd3786\"],[0.5555555555555556,\"#d8576b\"],[0.6666666666666666,\"#ed7953\"],[0.7777777777777778,\"#fb9f3a\"],[0.8888888888888888,\"#fdca26\"],[1.0,\"#f0f921\"]],\"sequentialminus\":[[0.0,\"#0d0887\"],[0.1111111111111111,\"#46039f\"],[0.2222222222222222,\"#7201a8\"],[0.3333333333333333,\"#9c179e\"],[0.4444444444444444,\"#bd3786\"],[0.5555555555555556,\"#d8576b\"],[0.6666666666666666,\"#ed7953\"],[0.7777777777777778,\"#fb9f3a\"],[0.8888888888888888,\"#fdca26\"],[1.0,\"#f0f921\"]]},\"colorway\":[\"#636efa\",\"#EF553B\",\"#00cc96\",\"#ab63fa\",\"#FFA15A\",\"#19d3f3\",\"#FF6692\",\"#B6E880\",\"#FF97FF\",\"#FECB52\"],\"font\":{\"color\":\"#2a3f5f\"},\"geo\":{\"bgcolor\":\"white\",\"lakecolor\":\"white\",\"landcolor\":\"#E5ECF6\",\"showlakes\":true,\"showland\":true,\"subunitcolor\":\"white\"},\"hoverlabel\":{\"align\":\"left\"},\"hovermode\":\"closest\",\"mapbox\":{\"style\":\"light\"},\"paper_bgcolor\":\"white\",\"plot_bgcolor\":\"#E5ECF6\",\"polar\":{\"angularaxis\":{\"gridcolor\":\"white\",\"linecolor\":\"white\",\"ticks\":\"\"},\"bgcolor\":\"#E5ECF6\",\"radialaxis\":{\"gridcolor\":\"white\",\"linecolor\":\"white\",\"ticks\":\"\"}},\"scene\":{\"xaxis\":{\"backgroundcolor\":\"#E5ECF6\",\"gridcolor\":\"white\",\"gridwidth\":2,\"linecolor\":\"white\",\"showbackground\":true,\"ticks\":\"\",\"zerolinecolor\":\"white\"},\"yaxis\":{\"backgroundcolor\":\"#E5ECF6\",\"gridcolor\":\"white\",\"gridwidth\":2,\"linecolor\":\"white\",\"showbackground\":true,\"ticks\":\"\",\"zerolinecolor\":\"white\"},\"zaxis\":{\"backgroundcolor\":\"#E5ECF6\",\"gridcolor\":\"white\",\"gridwidth\":2,\"linecolor\":\"white\",\"showbackground\":true,\"ticks\":\"\",\"zerolinecolor\":\"white\"}},\"shapedefaults\":{\"line\":{\"color\":\"#2a3f5f\"}},\"ternary\":{\"aaxis\":{\"gridcolor\":\"white\",\"linecolor\":\"white\",\"ticks\":\"\"},\"baxis\":{\"gridcolor\":\"white\",\"linecolor\":\"white\",\"ticks\":\"\"},\"bgcolor\":\"#E5ECF6\",\"caxis\":{\"gridcolor\":\"white\",\"linecolor\":\"white\",\"ticks\":\"\"}},\"title\":{\"x\":0.05},\"xaxis\":{\"automargin\":true,\"gridcolor\":\"white\",\"linecolor\":\"white\",\"ticks\":\"\",\"title\":{\"standoff\":15},\"zerolinecolor\":\"white\",\"zerolinewidth\":2},\"yaxis\":{\"automargin\":true,\"gridcolor\":\"white\",\"linecolor\":\"white\",\"ticks\":\"\",\"title\":{\"standoff\":15},\"zerolinecolor\":\"white\",\"zerolinewidth\":2}}},\"title\":{\"font\":{\"color\":\"#4D5663\"}},\"xaxis\":{\"anchor\":\"y\",\"domain\":[0.0,0.2125],\"gridcolor\":\"#E1E5ED\",\"showgrid\":false,\"tickfont\":{\"color\":\"#4D5663\"},\"title\":{\"font\":{\"color\":\"#4D5663\"},\"text\":\"\"},\"zerolinecolor\":\"#E1E5ED\"},\"yaxis\":{\"anchor\":\"x\",\"domain\":[0.8025,1.0],\"gridcolor\":\"#E1E5ED\",\"showgrid\":false,\"tickfont\":{\"color\":\"#4D5663\"},\"title\":{\"font\":{\"color\":\"#4D5663\"},\"text\":\"\"},\"zerolinecolor\":\"#E1E5ED\"},\"xaxis2\":{\"anchor\":\"y2\",\"domain\":[0.2625,0.475],\"gridcolor\":\"#E1E5ED\",\"showgrid\":false,\"tickfont\":{\"color\":\"#4D5663\"},\"title\":{\"font\":{\"color\":\"#4D5663\"},\"text\":\"\"},\"zerolinecolor\":\"#E1E5ED\"},\"yaxis2\":{\"anchor\":\"x2\",\"domain\":[0.8025,1.0],\"gridcolor\":\"#E1E5ED\",\"showgrid\":false,\"tickfont\":{\"color\":\"#4D5663\"},\"title\":{\"font\":{\"color\":\"#4D5663\"},\"text\":\"\"},\"zerolinecolor\":\"#E1E5ED\"},\"xaxis3\":{\"anchor\":\"y3\",\"domain\":[0.525,0.7375],\"gridcolor\":\"#E1E5ED\",\"showgrid\":false,\"tickfont\":{\"color\":\"#4D5663\"},\"title\":{\"font\":{\"color\":\"#4D5663\"},\"text\":\"\"},\"zerolinecolor\":\"#E1E5ED\"},\"yaxis3\":{\"anchor\":\"x3\",\"domain\":[0.8025,1.0],\"gridcolor\":\"#E1E5ED\",\"showgrid\":false,\"tickfont\":{\"color\":\"#4D5663\"},\"title\":{\"font\":{\"color\":\"#4D5663\"},\"text\":\"\"},\"zerolinecolor\":\"#E1E5ED\"},\"xaxis4\":{\"anchor\":\"y4\",\"domain\":[0.7875,1.0],\"gridcolor\":\"#E1E5ED\",\"showgrid\":false,\"tickfont\":{\"color\":\"#4D5663\"},\"title\":{\"font\":{\"color\":\"#4D5663\"},\"text\":\"\"},\"zerolinecolor\":\"#E1E5ED\"},\"yaxis4\":{\"anchor\":\"x4\",\"domain\":[0.8025,1.0],\"gridcolor\":\"#E1E5ED\",\"showgrid\":false,\"tickfont\":{\"color\":\"#4D5663\"},\"title\":{\"font\":{\"color\":\"#4D5663\"},\"text\":\"\"},\"zerolinecolor\":\"#E1E5ED\"},\"xaxis5\":{\"anchor\":\"y5\",\"domain\":[0.0,0.2125],\"gridcolor\":\"#E1E5ED\",\"showgrid\":false,\"tickfont\":{\"color\":\"#4D5663\"},\"title\":{\"font\":{\"color\":\"#4D5663\"},\"text\":\"\"},\"zerolinecolor\":\"#E1E5ED\"},\"yaxis5\":{\"anchor\":\"x5\",\"domain\":[0.535,0.7325],\"gridcolor\":\"#E1E5ED\",\"showgrid\":false,\"tickfont\":{\"color\":\"#4D5663\"},\"title\":{\"font\":{\"color\":\"#4D5663\"},\"text\":\"\"},\"zerolinecolor\":\"#E1E5ED\"},\"xaxis6\":{\"anchor\":\"y6\",\"domain\":[0.2625,0.475],\"gridcolor\":\"#E1E5ED\",\"showgrid\":false,\"tickfont\":{\"color\":\"#4D5663\"},\"title\":{\"font\":{\"color\":\"#4D5663\"},\"text\":\"\"},\"zerolinecolor\":\"#E1E5ED\"},\"yaxis6\":{\"anchor\":\"x6\",\"domain\":[0.535,0.7325],\"gridcolor\":\"#E1E5ED\",\"showgrid\":false,\"tickfont\":{\"color\":\"#4D5663\"},\"title\":{\"font\":{\"color\":\"#4D5663\"},\"text\":\"\"},\"zerolinecolor\":\"#E1E5ED\"},\"xaxis7\":{\"anchor\":\"y7\",\"domain\":[0.525,0.7375],\"gridcolor\":\"#E1E5ED\",\"showgrid\":false,\"tickfont\":{\"color\":\"#4D5663\"},\"title\":{\"font\":{\"color\":\"#4D5663\"},\"text\":\"\"},\"zerolinecolor\":\"#E1E5ED\"},\"yaxis7\":{\"anchor\":\"x7\",\"domain\":[0.535,0.7325],\"gridcolor\":\"#E1E5ED\",\"showgrid\":false,\"tickfont\":{\"color\":\"#4D5663\"},\"title\":{\"font\":{\"color\":\"#4D5663\"},\"text\":\"\"},\"zerolinecolor\":\"#E1E5ED\"},\"xaxis8\":{\"anchor\":\"y8\",\"domain\":[0.7875,1.0],\"gridcolor\":\"#E1E5ED\",\"showgrid\":false,\"tickfont\":{\"color\":\"#4D5663\"},\"title\":{\"font\":{\"color\":\"#4D5663\"},\"text\":\"\"},\"zerolinecolor\":\"#E1E5ED\"},\"yaxis8\":{\"anchor\":\"x8\",\"domain\":[0.535,0.7325],\"gridcolor\":\"#E1E5ED\",\"showgrid\":false,\"tickfont\":{\"color\":\"#4D5663\"},\"title\":{\"font\":{\"color\":\"#4D5663\"},\"text\":\"\"},\"zerolinecolor\":\"#E1E5ED\"},\"xaxis9\":{\"anchor\":\"y9\",\"domain\":[0.0,0.2125],\"gridcolor\":\"#E1E5ED\",\"showgrid\":false,\"tickfont\":{\"color\":\"#4D5663\"},\"title\":{\"font\":{\"color\":\"#4D5663\"},\"text\":\"\"},\"zerolinecolor\":\"#E1E5ED\"},\"yaxis9\":{\"anchor\":\"x9\",\"domain\":[0.2675,0.465],\"gridcolor\":\"#E1E5ED\",\"showgrid\":false,\"tickfont\":{\"color\":\"#4D5663\"},\"title\":{\"font\":{\"color\":\"#4D5663\"},\"text\":\"\"},\"zerolinecolor\":\"#E1E5ED\"},\"xaxis10\":{\"anchor\":\"y10\",\"domain\":[0.2625,0.475],\"gridcolor\":\"#E1E5ED\",\"showgrid\":false,\"tickfont\":{\"color\":\"#4D5663\"},\"title\":{\"font\":{\"color\":\"#4D5663\"},\"text\":\"\"},\"zerolinecolor\":\"#E1E5ED\"},\"yaxis10\":{\"anchor\":\"x10\",\"domain\":[0.2675,0.465],\"gridcolor\":\"#E1E5ED\",\"showgrid\":false,\"tickfont\":{\"color\":\"#4D5663\"},\"title\":{\"font\":{\"color\":\"#4D5663\"},\"text\":\"\"},\"zerolinecolor\":\"#E1E5ED\"},\"xaxis11\":{\"anchor\":\"y11\",\"domain\":[0.525,0.7375],\"gridcolor\":\"#E1E5ED\",\"showgrid\":false,\"tickfont\":{\"color\":\"#4D5663\"},\"title\":{\"font\":{\"color\":\"#4D5663\"},\"text\":\"\"},\"zerolinecolor\":\"#E1E5ED\"},\"yaxis11\":{\"anchor\":\"x11\",\"domain\":[0.2675,0.465],\"gridcolor\":\"#E1E5ED\",\"showgrid\":false,\"tickfont\":{\"color\":\"#4D5663\"},\"title\":{\"font\":{\"color\":\"#4D5663\"},\"text\":\"\"},\"zerolinecolor\":\"#E1E5ED\"},\"xaxis12\":{\"anchor\":\"y12\",\"domain\":[0.7875,1.0],\"gridcolor\":\"#E1E5ED\",\"showgrid\":false,\"tickfont\":{\"color\":\"#4D5663\"},\"title\":{\"font\":{\"color\":\"#4D5663\"},\"text\":\"\"},\"zerolinecolor\":\"#E1E5ED\"},\"yaxis12\":{\"anchor\":\"x12\",\"domain\":[0.2675,0.465],\"gridcolor\":\"#E1E5ED\",\"showgrid\":false,\"tickfont\":{\"color\":\"#4D5663\"},\"title\":{\"font\":{\"color\":\"#4D5663\"},\"text\":\"\"},\"zerolinecolor\":\"#E1E5ED\"},\"xaxis13\":{\"anchor\":\"y13\",\"domain\":[0.0,0.2125],\"gridcolor\":\"#E1E5ED\",\"showgrid\":false,\"tickfont\":{\"color\":\"#4D5663\"},\"title\":{\"font\":{\"color\":\"#4D5663\"},\"text\":\"\"},\"zerolinecolor\":\"#E1E5ED\"},\"yaxis13\":{\"anchor\":\"x13\",\"domain\":[0.0,0.1975],\"gridcolor\":\"#E1E5ED\",\"showgrid\":false,\"tickfont\":{\"color\":\"#4D5663\"},\"title\":{\"font\":{\"color\":\"#4D5663\"},\"text\":\"\"},\"zerolinecolor\":\"#E1E5ED\"},\"xaxis14\":{\"anchor\":\"y14\",\"domain\":[0.2625,0.475],\"gridcolor\":\"#E1E5ED\",\"showgrid\":false,\"tickfont\":{\"color\":\"#4D5663\"},\"title\":{\"font\":{\"color\":\"#4D5663\"},\"text\":\"\"},\"zerolinecolor\":\"#E1E5ED\"},\"yaxis14\":{\"anchor\":\"x14\",\"domain\":[0.0,0.1975],\"gridcolor\":\"#E1E5ED\",\"showgrid\":false,\"tickfont\":{\"color\":\"#4D5663\"},\"title\":{\"font\":{\"color\":\"#4D5663\"},\"text\":\"\"},\"zerolinecolor\":\"#E1E5ED\"},\"xaxis15\":{\"anchor\":\"y15\",\"domain\":[0.525,0.7375],\"gridcolor\":\"#E1E5ED\",\"showgrid\":false,\"tickfont\":{\"color\":\"#4D5663\"},\"title\":{\"font\":{\"color\":\"#4D5663\"},\"text\":\"\"},\"zerolinecolor\":\"#E1E5ED\"},\"yaxis15\":{\"anchor\":\"x15\",\"domain\":[0.0,0.1975],\"gridcolor\":\"#E1E5ED\",\"showgrid\":false,\"tickfont\":{\"color\":\"#4D5663\"},\"title\":{\"font\":{\"color\":\"#4D5663\"},\"text\":\"\"},\"zerolinecolor\":\"#E1E5ED\"},\"xaxis16\":{\"anchor\":\"y16\",\"domain\":[0.7875,1.0],\"gridcolor\":\"#E1E5ED\",\"showgrid\":false,\"tickfont\":{\"color\":\"#4D5663\"},\"title\":{\"font\":{\"color\":\"#4D5663\"},\"text\":\"\"},\"zerolinecolor\":\"#E1E5ED\"},\"yaxis16\":{\"anchor\":\"x16\",\"domain\":[0.0,0.1975],\"gridcolor\":\"#E1E5ED\",\"showgrid\":false,\"tickfont\":{\"color\":\"#4D5663\"},\"title\":{\"font\":{\"color\":\"#4D5663\"},\"text\":\"\"},\"zerolinecolor\":\"#E1E5ED\"}},                        {\"showLink\": true, \"linkText\": \"Export to plot.ly\", \"plotlyServerURL\": \"https://plot.ly\", \"responsive\": true}                    ).then(function(){\n",
       "                            \n",
       "var gd = document.getElementById('b5cdfc74-265d-405d-8353-342067b869e3');\n",
       "var x = new MutationObserver(function (mutations, observer) {{\n",
       "        var display = window.getComputedStyle(gd).display;\n",
       "        if (!display || display === 'none') {{\n",
       "            console.log([gd, 'removed!']);\n",
       "            Plotly.purge(gd);\n",
       "            observer.disconnect();\n",
       "        }}\n",
       "}});\n",
       "\n",
       "// Listen for the removal of the full notebook cells\n",
       "var notebookContainer = gd.closest('#notebook-container');\n",
       "if (notebookContainer) {{\n",
       "    x.observe(notebookContainer, {childList: true});\n",
       "}}\n",
       "\n",
       "// Listen for the clearing of the current output cell\n",
       "var outputEl = gd.closest('.output');\n",
       "if (outputEl) {{\n",
       "    x.observe(outputEl, {childList: true});\n",
       "}}\n",
       "\n",
       "                        })                };                });            </script>        </div>"
      ]
     },
     "metadata": {},
     "output_type": "display_data"
    }
   ],
   "source": [
    "# All values must be numerical\n",
    "# Might be slow when zooming in and out, especially when there are too many points\n",
    "df.scatter_matrix()"
   ]
  },
  {
   "cell_type": "markdown",
   "id": "246e717e",
   "metadata": {},
   "source": [
    "More tutorials at https://github.com/santosjorge/cufflinks\n",
    "- Check **cufflinks/ta.py** for more technical analysis (specifically dedicated to financial analysis)"
   ]
  }
 ],
 "metadata": {
  "kernelspec": {
   "display_name": "Python 3 (ipykernel)",
   "language": "python",
   "name": "python3"
  },
  "language_info": {
   "codemirror_mode": {
    "name": "ipython",
    "version": 3
   },
   "file_extension": ".py",
   "mimetype": "text/x-python",
   "name": "python",
   "nbconvert_exporter": "python",
   "pygments_lexer": "ipython3",
   "version": "3.9.12"
  }
 },
 "nbformat": 4,
 "nbformat_minor": 5
}
